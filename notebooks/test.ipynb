{
 "cells": [
  {
   "cell_type": "code",
   "execution_count": 5,
   "metadata": {},
   "outputs": [],
   "source": [
    "from cassis import Cas, TypeSystem\n",
    "from cassis.typesystem import load_typesystem\n",
    "from cassis.xmi import load_cas_from_xmi\n",
    "\n",
    "import base64\n",
    "from cassis.typesystem import load_typesystem\n",
    "from cassis.xmi import load_cas_from_xmi\n",
    "import os\n",
    "\n",
    "PATH=\"/notebook/nas-trainings/arne/DGFISMA/reporting_obligations/code/DGFISMA_reporting_obligations/tests/\"\n",
    "\n",
    "with open(  os.path.join( PATH,  \"test_files/typesystems/typesystem.xml\" ) , 'rb') as f:\n",
    "    TYPESYSTEM = load_typesystem(f)\n",
    "\n",
    "cas=load_cas_from_xmi( open(  os.path.join( PATH ,\"test_files/testing/32011D1208-input.xmi\" )  , 'rb'), typesystem=TYPESYSTEM )\n",
    "\n",
    "import json\n",
    "output_json={}\n",
    "output_json['cas_content']=base64.b64encode(  bytes( cas.to_xmi()  , 'utf-8' ) ).decode()   \n",
    "output_json[ 'content_type']='html'\n",
    "\n",
    "with open(  os.path.join( PATH , \"test_files/testing/32011D1208-input.json\" ) , 'w') as json_file:\n",
    "    json.dump(output_json, json_file)\n"
   ]
  },
  {
   "cell_type": "code",
   "execution_count": 6,
   "metadata": {},
   "outputs": [],
   "source": [
    "from cassis import Cas, TypeSystem\n",
    "from cassis.typesystem import load_typesystem\n",
    "from cassis.xmi import load_cas_from_xmi\n",
    "\n",
    "import base64\n",
    "from cassis.typesystem import load_typesystem\n",
    "from cassis.xmi import load_cas_from_xmi\n",
    "import os\n",
    "\n",
    "PATH=\"/notebook/nas-trainings/arne/DGFISMA/reporting_obligations/code/DGFISMA_reporting_obligations/tests/\"\n",
    "\n",
    "with open(  os.path.join( PATH,  \"test_files/typesystems/typesystem.xml\" ) , 'rb') as f:\n",
    "    TYPESYSTEM = load_typesystem(f)\n",
    "\n",
    "cas=load_cas_from_xmi( open(  \"cas_from_ro_extraction.xml\"   , 'rb'), typesystem=TYPESYSTEM )\n",
    "\n"
   ]
  },
  {
   "cell_type": "code",
   "execution_count": 20,
   "metadata": {},
   "outputs": [
    {
     "data": {
      "text/plain": [
       "com_crosslang_uimahtmltotext_uima_type_ValueBetweenTagType(xmiID=2869, text=None, tagName='p', attributes=\"data-frequency-class='2'data-frequency-could-be-1='false'data-frequency-could-be-2='true'data-frequency-could-be-3='false'data-frequency-might-be-1='false'data-frequency-might-be-2='true'data-frequency-might-be-3='false'data-frequency-split='0.007610772596672178|0.9920131325721742|0.00037609070423059163'original_document_begin='1182'original_document_end='8890'\", begin=2519, end=2910, type='com.crosslang.uimahtmltotext.uima.type.ValueBetweenTagType')"
      ]
     },
     "execution_count": 20,
     "metadata": {},
     "output_type": "execute_result"
    }
   ],
   "source": [
    "cas.get_view('html2textView').select( \"com.crosslang.uimahtmltotext.uima.type.ValueBetweenTagType\" )[1]"
   ]
  },
  {
   "cell_type": "code",
   "execution_count": null,
   "metadata": {},
   "outputs": [],
   "source": []
  },
  {
   "cell_type": "code",
   "execution_count": 1,
   "metadata": {},
   "outputs": [],
   "source": [
    "import os\n",
    "import re\n",
    "import base64\n",
    "\n",
    "from cassis import Cas, TypeSystem\n",
    "from cassis.typesystem import load_typesystem\n",
    "from cassis.xmi import load_cas_from_xmi\n",
    "\n",
    "import json\n",
    "import base64\n",
    "\n",
    "path=\"/notebook/nas-trainings/arne/DGFISMA/reporting_obligations/code/DGFISMA_reporting_obligations/tests/test_files/\"\n",
    "\n",
    "#path=\"../tests/files/test_file\"\n",
    "\n",
    "with open( os.path.join( path,  \"typesystems/typesystem.xml\") , 'rb') as f:\n",
    "    TYPESYSTEM = load_typesystem(f)\n",
    "    \n",
    "#with open('/notebook/nas-trainings/arne/DGFISMA_term_extraction/dgconcepts/tests/test_files/jsons_with_definitions/small_nested_tables_response.json') as json_file:\n",
    "#    response = json.load(json_file)\n",
    "    \n",
    "#with open('/notebook/nas-trainings/arne/DGFISMA_term_extraction/dgconcepts/tests/test_files/jsons_with_definitions/test.json') as json_file:\n",
    "#    response = json.load(json_file)\n",
    "\n",
    "#test this one... check for air soccer\n",
    "#with open( os.path.join( path,  \"test_files/response_json_paragraph_annotations/test.json\") ) as json_file:\n",
    "#    response = json.load(json_file)\n",
    "    \n",
    "#with open('/notebook/nas-trainings/arne/DGFISMA_term_extraction/dgconcepts/tests/test_files/jsons_with_definitions_terms/example_term_response.json') as json_file:\n",
    "#    response = json.load(json_file)\n",
    "\n",
    "#with open('/notebook/nas-trainings/arne/DGFISMA_term_extraction/dgconcepts/tests/test_files/jsons_with_definitions_terms/file_term_response.json') as json_file:\n",
    "#    response = json.load(json_file)  #this one!!!!\n",
    "\n",
    "with open( os.path.join( path,  \"testing_bug/32002R0063-input.xmi_outputROfix.json\") ) as json_file:\n",
    "    response = json.load(json_file)\n",
    "    \n",
    "#with open( os.path.join( path,  \"jsons_with_definitions_terms/response.json\") ) as json_file:\n",
    "#    response = json.load(json_file)\n",
    "\n",
    "decoded_cas_response=base64.b64decode( response[ 'cas_content' ] ).decode( 'utf-8' )\n",
    "    \n",
    "cas = load_cas_from_xmi( decoded_cas_response , typesystem=TYPESYSTEM)"
   ]
  },
  {
   "cell_type": "code",
   "execution_count": 13,
   "metadata": {},
   "outputs": [
    {
     "data": {
      "text/plain": [
       "'55. The following three periods of initial rate fixation shall be distinguished for loans to households for consumption and for other purposes, and for other loans to non-financial corporations up to EUR 1 million and over EUR 1 million:- floating rate and up to (and including) one year initial rate fixation,- over one and up to (and including) five years initial rate fixation, and- over five years initial rate fixation.'"
      ]
     },
     "execution_count": 13,
     "metadata": {},
     "output_type": "execute_result"
    }
   ],
   "source": [
    "cas.get_view( 'html2textView' ).select( \"de.tudarmstadt.ukp.dkpro.core.api.segmentation.type.Paragraph\" )[5].get_covered_text()"
   ]
  },
  {
   "cell_type": "code",
   "execution_count": null,
   "metadata": {},
   "outputs": [],
   "source": []
  },
  {
   "cell_type": "code",
   "execution_count": null,
   "metadata": {},
   "outputs": [],
   "source": []
  }
 ],
 "metadata": {
  "kernelspec": {
   "display_name": "Python 3",
   "language": "python",
   "name": "python3"
  },
  "language_info": {
   "codemirror_mode": {
    "name": "ipython",
    "version": 3
   },
   "file_extension": ".py",
   "mimetype": "text/x-python",
   "name": "python",
   "nbconvert_exporter": "python",
   "pygments_lexer": "ipython3",
   "version": "3.7.3"
  }
 },
 "nbformat": 4,
 "nbformat_minor": 4
}
