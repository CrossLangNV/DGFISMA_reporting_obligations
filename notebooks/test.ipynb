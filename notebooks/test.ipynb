{
 "cells": [
  {
   "cell_type": "code",
   "execution_count": 5,
   "metadata": {},
   "outputs": [],
   "source": [
    "from cassis import Cas, TypeSystem\n",
    "from cassis.typesystem import load_typesystem\n",
    "from cassis.xmi import load_cas_from_xmi\n",
    "\n",
    "import base64\n",
    "from cassis.typesystem import load_typesystem\n",
    "from cassis.xmi import load_cas_from_xmi\n",
    "import os\n",
    "\n",
    "PATH=\"/notebook/nas-trainings/arne/DGFISMA/reporting_obligations/code/DGFISMA_reporting_obligations/tests/\"\n",
    "\n",
    "with open(  os.path.join( PATH,  \"test_files/typesystems/typesystem.xml\" ) , 'rb') as f:\n",
    "    TYPESYSTEM = load_typesystem(f)\n",
    "\n",
    "cas=load_cas_from_xmi( open(  os.path.join( PATH ,\"test_files/testing/32011D1208-input.xmi\" )  , 'rb'), typesystem=TYPESYSTEM )\n",
    "\n",
    "import json\n",
    "output_json={}\n",
    "output_json['cas_content']=base64.b64encode(  bytes( cas.to_xmi()  , 'utf-8' ) ).decode()   \n",
    "output_json[ 'content_type']='html'\n",
    "\n",
    "with open(  os.path.join( PATH , \"test_files/testing/32011D1208-input.json\" ) , 'w') as json_file:\n",
    "    json.dump(output_json, json_file)\n"
   ]
  },
  {
   "cell_type": "code",
   "execution_count": null,
   "metadata": {},
   "outputs": [],
   "source": []
  },
  {
   "cell_type": "code",
   "execution_count": null,
   "metadata": {},
   "outputs": [],
   "source": []
  },
  {
   "cell_type": "code",
   "execution_count": null,
   "metadata": {},
   "outputs": [],
   "source": []
  },
  {
   "cell_type": "code",
   "execution_count": null,
   "metadata": {},
   "outputs": [],
   "source": []
  },
  {
   "cell_type": "code",
   "execution_count": null,
   "metadata": {},
   "outputs": [],
   "source": [
    "import os\n",
    "import re\n",
    "import base64\n",
    "\n",
    "from cassis import Cas, TypeSystem\n",
    "from cassis.typesystem import load_typesystem\n",
    "from cassis.xmi import load_cas_from_xmi\n",
    "\n",
    "import json\n",
    "import base64\n",
    "\n",
    "path=\"/notebook/nas-trainings/arne/DGFISMA/reporting_obligations/code/DGFISMA_reporting_obligations/tests/test_files/\"\n",
    "\n",
    "#path=\"../tests/files/test_file\"\n",
    "\n",
    "with open( os.path.join( path,  \"typesystems/typesystem.xml\") , 'rb') as f:\n",
    "    TYPESYSTEM = load_typesystem(f)\n",
    "    \n",
    "#with open('/notebook/nas-trainings/arne/DGFISMA_term_extraction/dgconcepts/tests/test_files/jsons_with_definitions/small_nested_tables_response.json') as json_file:\n",
    "#    response = json.load(json_file)\n",
    "    \n",
    "#with open('/notebook/nas-trainings/arne/DGFISMA_term_extraction/dgconcepts/tests/test_files/jsons_with_definitions/test.json') as json_file:\n",
    "#    response = json.load(json_file)\n",
    "\n",
    "#test this one... check for air soccer\n",
    "#with open( os.path.join( path,  \"test_files/response_json_paragraph_annotations/test.json\") ) as json_file:\n",
    "#    response = json.load(json_file)\n",
    "    \n",
    "#with open('/notebook/nas-trainings/arne/DGFISMA_term_extraction/dgconcepts/tests/test_files/jsons_with_definitions_terms/example_term_response.json') as json_file:\n",
    "#    response = json.load(json_file)\n",
    "\n",
    "#with open('/notebook/nas-trainings/arne/DGFISMA_term_extraction/dgconcepts/tests/test_files/jsons_with_definitions_terms/file_term_response.json') as json_file:\n",
    "#    response = json.load(json_file)  #this one!!!!\n",
    "\n",
    "with open( os.path.join( path,  \"response_json_paragraph_annotations/test_output_oan2.json\") ) as json_file:\n",
    "    response = json.load(json_file)\n",
    "    \n",
    "#with open( os.path.join( path,  \"jsons_with_definitions_terms/response.json\") ) as json_file:\n",
    "#    response = json.load(json_file)\n",
    "\n",
    "decoded_cas_response=base64.b64decode( response[ 'cas_content' ] ).decode( 'utf-8' )\n",
    "    \n",
    "cas = load_cas_from_xmi( decoded_cas_response , typesystem=TYPESYSTEM)"
   ]
  },
  {
   "cell_type": "code",
   "execution_count": 2,
   "metadata": {},
   "outputs": [
    {
     "name": "stdout",
     "output_type": "stream",
     "text": [
      "11.9.2020 EN Official Journal of the European Union L 298/21\n",
      "DECISION (EU) 2020/1268 OF THE EUROPEAN PARLIAMENT AND OF THE COUNCIL of 15 July 2020\n",
      "on the mobilisation of the Contingency Margin in 2020 to provide continued humanitarian support to refugees in Turkey\n",
      "THE EUROPEAN PARLIAMENT AND THE COUNCIL OF THE EUROPEAN UNION,\n",
      "Having regard to the Treaty on the Functioning of the European Union,\n",
      "Having regard to the Interinstitutional Agreement of 2 December 2013 between the European Parliament, the Council and the Commission on budgetary discipline, on cooperation in budgetary matters and on sound financial management (1), and in particular point 14 thereof,\n",
      "Having regard to the proposal from the European Commission,\n",
      "Whereas, (1) Article 13 of Council Regulation (EU, Euratom) No 1311/2013 (2) has established a Contingency Margin of up to 0,03 % of the Gross National Income of the Union.\n",
      "(2) In accordance with Article 6 of Regulation (EU, Euratom) No 1311/2013, the Commission has calculated the absolute amount of this Contingency Margin for 2020 (3).\n",
      "(3) After having examined all other financial possibilities to react to unforeseen circumstances within the 2020 commitment ceiling for heading 4 (Global Europe) of the multiannual financial framework (MFF), and given that no other special instruments are available in 2020 to react to such circumstances, it is necessary to mobilise the Contingency Margin to address the urgent need to provide humanitarian support to refugees in Turkey by increasing the commitment appropriations in the general budget of the Union for the financial year 2020, over and above the ceiling of heading 4 of the MFF.\n",
      "(4) Having regard to this very particular situation, the last-resort condition set out in Article 13(1) of Regulation (EU, Euratom) No 1311/2013 is fulfilled.\n",
      "(5) This Decision is linked to financing included in Amending budget No 5 to the general budget of the European Union for 2020. In order to ensure coherence with that amending budget, this Decision should apply from the date of its adoption,\n",
      "HAVE ADOPTED THIS DECISION: Article 1 For the general budget of the Union for the financial year 2020, the Contingency Margin shall be mobilised to provide the amount of EUR 481 572 239 in commitment appropriations over and above the commitment ceiling of heading 4 (Global Europe) of the multiannual financial framework. Article 2 The total amount of EUR 481 572 239 referred to in Article 1 shall be offset against the margins under the commitment ceiling for the financial year 2020 of the following headings of the multiannual financial framework:\n",
      "(a) heading 5 (Administration): EUR 16 248 368;\n",
      "(b) heading 2 (Sustainable growth: natural resources): EUR 465 323 871.\n",
      "Article 3 This Decision shall enter into force on the day of its publication in the Official Journal of the European Union. It shall apply from 15 July 2020.\n",
      "Done at Brussels, 15 July 2020.\n",
      "For the European Parliament The President D. M. SASSOLI For the Council The President J. KLOECKNER\n",
      "(1) OJ C 373, 20.12.2013, p. 1.\n",
      "(2) Council Regulation (EU, Euratom) No 1311/2013 of 2 December 2013 laying down the multiannual financial framework for the years 2014-2020 (OJ L 347, 20.12.2013, p. 884).\n",
      "(3) Communication from the Commission to the Council and the European Parliament of 2 April 2020 Technical adjustment in respect of special instruments for 2020 (COM(2020) 173). Top\n"
     ]
    }
   ],
   "source": [
    "print( cas.get_view( 'html2textView' ).sofa_string )"
   ]
  },
  {
   "cell_type": "code",
   "execution_count": 3,
   "metadata": {
    "scrolled": true
   },
   "outputs": [
    {
     "name": "stdout",
     "output_type": "stream",
     "text": [
      "<!doctype html>\n",
      "<style>\n",
      "\n",
      "    p {\n",
      "        margin: 0.75em 0px;\n",
      "        line-height: 2em;\n",
      "        white-space: nowrap;\n",
      "    }\n",
      "\n",
      "    span {\n",
      "        border: 2px solid currentColor;\n",
      "        border-radius: 5px;\n",
      "        padding: 5px;\n",
      "    }\n",
      "\n",
      "    span {\n",
      "        background: lightblue;\n",
      "        color: royalblue;\n",
      "    }\n",
      "\n",
      "    .V {\n",
      "        background: yellow;\n",
      "        color: orangered;\n",
      "        font-weight: bold;\n",
      "    }\n",
      "\n",
      "    .ARG0,.ARG1,.ARG2,.C-ARG1 {\n",
      "        color: black;\n",
      "        background: white;\n",
      "    }\n",
      "\n",
      "    .ARGM-TMP {\n",
      "        color: green;\n",
      "        background: lightgreen;\n",
      "    }\n",
      "\n",
      "    .ARGM-NEG {\n",
      "        color: pink;\n",
      "        background: darkred;\n",
      "        border-color: darkred;\n",
      "    }\n",
      "\n",
      "    .PUNCT {\n",
      "        color: silver;\n",
      "        background: white;\n",
      "        border: none; padding: 0;\n",
      "    }\n",
      "\n",
      "    .ARG2 {\n",
      "        border-style: dotted;\n",
      "    }\n",
      "\n",
      "    .ARG1, .C-ARG1 {\n",
      "        color: white;\n",
      "        background: black;\n",
      "        border-color: black;\n",
      "        border-style: solid;\n",
      "    }\n",
      "\n",
      "    .ARG3, .ARGM-PRP, .ARGM-PRD, .ARGM-PNC {\n",
      "        color: white;\n",
      "        background: royalblue;\n",
      "        border-color: royalblue;\n",
      "        border-style: solid;\n",
      "    }\n",
      "\n",
      "    .updated-tag {\n",
      "        outline: 3px solid fuchsia;\n",
      "        outline-offset: 2px;\n",
      "    }\n",
      "\n",
      "    p[data-frequency-class=\"1\"] {\n",
      "        opacity: 0.15;\n",
      "    }\n",
      "\n",
      "    p[data-frequency-might-be-3=\"true\"]::before {\n",
      "        content: \"♺\";\n",
      "        border: 7px solid royalblue;\n",
      "        margin-right: 5px;\n",
      "        border-radius: 5px;\n",
      "        background: royalblue;\n",
      "        color: white;\n",
      "    }\n",
      "    p[data-frequency-class=\"3\"]::before {\n",
      "        border-color: red;\n",
      "        background: red;\n",
      "        color: yellow;\n",
      "    }\n",
      "\n",
      "    h1,h2,h3,h4,h5,h6 {\n",
      "        font-family: sans-serif;\n",
      "        font-size: 12px;\n",
      "        color: silver;\n",
      "        font-weight: bold;\n",
      "        margin: 5px 0px;\n",
      "        border-left: 3px solid silver;\n",
      "        padding-left: 3px;\n",
      "    }\n",
      "    h2 { border-left-width: 3px; }\n",
      "    h2 { border-left-width: 6px; }\n",
      "    h3 { border-left-width: 9px; }\n",
      "    h4 { border-left-width: 12px; }\n",
      "    h5 { border-left-width: 15px; }\n",
      "    h6 { border-left-width: 18px; }\n",
      "    p + :not(p):not(h6) { margin-top: 45px; }\n",
      "\n",
      "    [data-old-text] {\n",
      "        outline: 4px dashed fuchsia;\n",
      "        outline-offset: 1px;\n",
      "        position: relative;\n",
      "    }\n",
      "    [TODO] {\n",
      "        outline: 4px dashed red;\n",
      "        outline-offset: 1px;\n",
      "    }\n",
      "\n",
      "    [data-old-text]:hover::before {\n",
      "        content: attr(data-old-text);\n",
      "        background: fuchsia;\n",
      "        color: white;\n",
      "        position: absolute; top: -2em;\n",
      "        padding: 1px 6px; border-radius: 4px;\n",
      "    }\n",
      "\n",
      "</style>\n",
      "\n",
      "\n"
     ]
    }
   ],
   "source": [
    "print(cas.get_view( 'ReportingObligationsView' ).sofa_string )"
   ]
  },
  {
   "cell_type": "code",
   "execution_count": 10,
   "metadata": {},
   "outputs": [],
   "source": [
    "from xml.dom.minidom import parseString\n"
   ]
  },
  {
   "cell_type": "code",
   "execution_count": null,
   "metadata": {},
   "outputs": [],
   "source": []
  },
  {
   "cell_type": "code",
   "execution_count": 13,
   "metadata": {},
   "outputs": [],
   "source": [
    "srl_html_output='<p>This action is composed of three work packages . <span class=\"ARG0\">The first</span> <span class=\"ARGM-MOD\">should</span> <span class=\"V\">deliver</span> <span class=\"ARG1\">two sessions of training and exercises for Member State officials on preparedness for , and response to , serious cross - border health threats</span> . The training and exercises will cover the responsibilities and roles of different stakeholders ; preparedness ; crisis communication and the use of IT tools . The second work package will continue the exchange of experts started in 2011 aiming to share best practice and experience on crisis management between officials / stakeholders from the EU Member States . The third work package consists of developing a new e - learning module for the Health Emergency & amp ; Diseases Information System ( Hedis ) application and a description of the different roles and functions to complement those developed in 2010 .</p>'"
   ]
  },
  {
   "cell_type": "code",
   "execution_count": 15,
   "metadata": {},
   "outputs": [],
   "source": [
    "srl_html_output='<p>This action is composed of three work packages . <span class=\"ARG0\">The first</span> <span class=\"ARGM-MOD\">should</span> <span class=\"V\">deliver</span> <span class=\"ARG1\">two sessions of training and exercises for Member State officials on preparedness for , and response to , serious cross - border health threats</span> . The training and exercises will cover the responsibilities and roles of different stakeholders ; preparedness ; crisis communication and the use of IT tools . The second work package will continue the exchange of experts started in 2011 aiming to share best practice and experience on crisis management between officials / stakeholders from the EU Member States . The third work package consists of developing a new e - learning module for the Health Emergency  amp ; Diseases Information System ( Hedis ) application and a description of the different roles and functions to complement those developed in 2010 .</p>'"
   ]
  },
  {
   "cell_type": "code",
   "execution_count": 16,
   "metadata": {},
   "outputs": [
    {
     "data": {
      "text/plain": [
       "<xml.dom.minidom.Document at 0x7fe2406d6ac8>"
      ]
     },
     "execution_count": 16,
     "metadata": {},
     "output_type": "execute_result"
    }
   ],
   "source": [
    "parseString( srl_html_output )"
   ]
  },
  {
   "cell_type": "code",
   "execution_count": 22,
   "metadata": {},
   "outputs": [],
   "source": [
    "srl_html_output='<p>By way of derogation from paragraph 1 , correspondence from a party to which only specific staff , bodies or departments of that party have access may , for operational reasons , only be addressed and accessible to staff , bodies or departments of the other party specifically designated as recipients , taking into account their responsibilities and in accordance with the need - to - know principle . <span class=\"ARGM-ADV\">If that is the case when the Commission is concerned</span> , <span class=\"ARG1\">such correspondence</span> <span class=\"ARGM-MOD\">shall</span> be <span class=\"V\">sent</span> <span class=\"ARGM-MNR\">direct</span> <span class=\"ARG0\">by the GSA</span> <span class=\"ARG2\">to the local office which serves the specific staff , bodies or departments within the Commission</span> , or <span class=\"ARGM-MNR\">via the central office of the Secretariat - General of the Commission</span> , when the receiving staff , bodies or departments do not have a local office . If that is the case when the GSA is concerned , such correspondence shall be sent via the GSA ’s Security Department .</p>'"
   ]
  },
  {
   "cell_type": "code",
   "execution_count": 23,
   "metadata": {},
   "outputs": [
    {
     "data": {
      "text/plain": [
       "<xml.dom.minidom.Document at 0x7fe240d3d5e8>"
      ]
     },
     "execution_count": 23,
     "metadata": {},
     "output_type": "execute_result"
    }
   ],
   "source": [
    "parseString( srl_html_output )"
   ]
  },
  {
   "cell_type": "code",
   "execution_count": 26,
   "metadata": {},
   "outputs": [
    {
     "data": {
      "text/plain": [
       "<xml.dom.minidom.Document at 0x7fe2406d6b28>"
      ]
     },
     "execution_count": 26,
     "metadata": {},
     "output_type": "execute_result"
    }
   ],
   "source": [
    "srl_html_output='<p><span class=\"ARGM-PRP\">With a view to entering in the accounts the resources available in the reserve fund or to operating the mutual financial support arrangements between the accounts of the various funds as required pursuant to Article 3(6 ) of Regulation ( EC ) No 718/1999</span> , <span class=\"ARG0\">each fund</span> <span class=\"ARGM-MOD\">shall</span> <span class=\"V\">communicate</span> <span class=\"ARG1\">the following information ❮the funds receipts in the previous year, in so far as these receipts are intended for the payment of scrapping premiums or measures provided for in Article 8 of Regulation (EC) No 718/1999 (Rdn) ‖ the financial commitments incurred by the fund during the previous year in respect of scrapping premiums or measures provided for in Article 8 of Regulation (EC) No 718/1999 (Pn) ‖ the funds surplus as at 1 January of the previous year deriving from receipts intended for the payment of scrapping premiums or measures provided for in Article 8 of Regulation (EC) No 718/1999 (Sn) ‖ 2. The Commission, with the assistance of the fund authorities, shall determine, on the basis of the information referred to in paragraph 1 ❬the total financial commitments incurred by the funds during the previous year in respect of scrapping premiums or measures provided for in Article 8 of Regulation (EC) No 718/1999 (Pt) ‖ and/or the total receipts of all the funds during the previous year (Rdt) ‖ and/or the total surplus of all the funds on 1 January of the previous year (St) ‖ and/or the adjusted annual financial commitment of each fund (Pnn), calculated as follows ‖ and/or gt;REFERENCE TO A GRAPHICgt❭❯</span> <span class=\"ARG2\">to the Commission</span> <span class=\"ARGM-TMP\">at the beginning of each year</span></p>'\n",
    "parseString( srl_html_output )"
   ]
  },
  {
   "cell_type": "code",
   "execution_count": null,
   "metadata": {},
   "outputs": [],
   "source": []
  },
  {
   "cell_type": "code",
   "execution_count": null,
   "metadata": {},
   "outputs": [],
   "source": []
  },
  {
   "cell_type": "code",
   "execution_count": null,
   "metadata": {},
   "outputs": [],
   "source": [
    "/notebook/nas-trainings/arne/DGFISMA/reporting_obligations/code/DGFISMA_reporting_obligations/tests/"
   ]
  },
  {
   "cell_type": "code",
   "execution_count": null,
   "metadata": {},
   "outputs": [],
   "source": []
  }
 ],
 "metadata": {
  "kernelspec": {
   "display_name": "Python 3",
   "language": "python",
   "name": "python3"
  },
  "language_info": {
   "codemirror_mode": {
    "name": "ipython",
    "version": 3
   },
   "file_extension": ".py",
   "mimetype": "text/x-python",
   "name": "python",
   "nbconvert_exporter": "python",
   "pygments_lexer": "ipython3",
   "version": "3.7.3"
  }
 },
 "nbformat": 4,
 "nbformat_minor": 4
}
