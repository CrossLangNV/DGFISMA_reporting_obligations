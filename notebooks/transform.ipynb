{
 "cells": [
  {
   "cell_type": "code",
   "execution_count": 1,
   "metadata": {},
   "outputs": [],
   "source": [
    "#read in cassis \n",
    "#read in the json:\n",
    "import json\n",
    "import base64\n",
    "import re\n",
    "import sys\n",
    "import os\n",
    "\n",
    "from typing import Generator\n",
    "\n",
    "from cassis.typesystem import load_typesystem\n",
    "from cassis.xmi import load_cas_from_xmi\n",
    "from cassis import Cas\n",
    "\n",
    "PATH=\"/notebook/nas-trainings/arne/DGFISMA/reporting_obligations/code/DGFISMA_reporting_obligations\"\n",
    "\n",
    "ALLEN_NLP_PATH=os.path.join(  PATH, \"bert-base-srl-2019.06.17.tar.gz\" )\n",
    "SPACY_PATH=os.path.join( PATH , \"spacy-textcat\" )\n",
    "\n",
    "TEMPLATE_PATH=os.path.join( PATH, \"out.html.template\" )\n",
    "\n",
    "\n",
    "sys.path.append( os.path.join( PATH ) )\n",
    "\n",
    "with open( os.path.join( PATH , \"tests/test_files/typesystems/typesystem.xml\" )  , 'rb') as f:\n",
    "    typesystem = load_typesystem(f)\n",
    "\n",
    "#with open( os.path.join( PATH, 'tests/test_files/response_json_paragraph_annotations/minus_lesser_of_response.json')) as json_file:\n",
    "#    response = json.load(json_file)\n",
    "\n",
    "#with open( os.path.join( PATH, 'tests/test_files/response_json_paragraph_annotations/small_nested_tables_response.json')) as json_file:\n",
    "#    response = json.load(json_file)\n",
    "    \n",
    "with open( os.path.join( PATH, 'tests/test_files/response_json_paragraph_annotations/doc_bf4ef384-bd7a-51c8-8f7d-d2f61865d767_response.json')) as json_file:\n",
    "    response = json.load(json_file)  \n",
    "    \n",
    "#with open(  os.path.join( PATH, 'tests/test_files/response_json_paragraph_annotations/doc_bf4ef384-bd7a-51c8-8f7d-d2f61865d767_response.json')) as json_file:\n",
    "#    response = json.load(json_file)\n",
    "    \n",
    "OUTPUT_PATH=os.path.join( PATH, \"tests/test_files/output_reporting_obligations/doc_bf4ef384-bd7a-51c8-8f7d-d2f61865d767_response.html\" )\n",
    "    \n",
    "decoded_cas=base64.b64decode( response[ 'cas_content' ] ).decode( 'utf-8' )\n",
    "\n",
    "cas=load_cas_from_xmi( decoded_cas, typesystem=typesystem  )\n"
   ]
  },
  {
   "cell_type": "code",
   "execution_count": 2,
   "metadata": {},
   "outputs": [
    {
     "name": "stdout",
     "output_type": "stream",
     "text": [
      "loading AllenNLP predictor from /notebook/nas-trainings/arne/DGFISMA/reporting_obligations/code/DGFISMA_reporting_obligations/bert-base-srl-2019.06.17.tar.gz\n",
      "loading spacy model from /notebook/nas-trainings/arne/DGFISMA/reporting_obligations/code/DGFISMA_reporting_obligations/spacy-textcat\n",
      "ARGS[to] ARG2 to the Board and to the Court of Justice of the European Union\n",
      "ARGS[] ARG1 an authority for the purposes of verifying the authenticity of individual contribution decisions\n",
      "Writing output to /notebook/nas-trainings/arne/DGFISMA/reporting_obligations/code/DGFISMA_reporting_obligations/tests/test_files/output_reporting_obligations/doc_bf4ef384-bd7a-51c8-8f7d-d2f61865d767_response.html using /notebook/nas-trainings/arne/DGFISMA/reporting_obligations/code/DGFISMA_reporting_obligations/out.html.template as html template\n"
     ]
    }
   ],
   "source": [
    "from src.transform import ListTransformer\n",
    "from src.reporting_obligations import ReportingObligationsFinder\n",
    "\n",
    "transformer=ListTransformer( cas )\n",
    "\n",
    "transformer.add_reporting_obligation_view( OldSofaID='html2textView', NewSofaID = 'ReportingObligationView'  )\n",
    "\n",
    "sentences=cas.get_view( \"ReportingObligationView\" ).sofa_string\n",
    "\n",
    "reporting_obligations_finder = ReportingObligationsFinder( sentences = sentences.split( \"\\n\" ) )\n",
    "list_xml=reporting_obligations_finder.process_sentences( ALLEN_NLP_PATH, SPACY_PATH )\n",
    "reporting_obligations_finder.print_to_html( list_xml, TEMPLATE_PATH, OUTPUT_PATH )\n"
   ]
  },
  {
   "cell_type": "code",
   "execution_count": null,
   "metadata": {},
   "outputs": [],
   "source": []
  },
  {
   "cell_type": "code",
   "execution_count": null,
   "metadata": {},
   "outputs": [],
   "source": []
  },
  {
   "cell_type": "code",
   "execution_count": null,
   "metadata": {},
   "outputs": [],
   "source": []
  },
  {
   "cell_type": "code",
   "execution_count": null,
   "metadata": {},
   "outputs": [],
   "source": []
  },
  {
   "cell_type": "code",
   "execution_count": null,
   "metadata": {},
   "outputs": [],
   "source": []
  },
  {
   "cell_type": "code",
   "execution_count": null,
   "metadata": {},
   "outputs": [],
   "source": []
  },
  {
   "cell_type": "code",
   "execution_count": null,
   "metadata": {},
   "outputs": [],
   "source": []
  },
  {
   "cell_type": "code",
   "execution_count": 4,
   "metadata": {},
   "outputs": [
    {
     "ename": "TypeError",
     "evalue": "'NoneType' object is not iterable",
     "output_type": "error",
     "traceback": [
      "\u001b[0;31m\u001b[0m",
      "\u001b[0;31mTypeError\u001b[0mTraceback (most recent call last)",
      "\u001b[0;32m<ipython-input-4-764976618583>\u001b[0m in \u001b[0;36m<module>\u001b[0;34m\u001b[0m\n\u001b[1;32m      1\u001b[0m \u001b[0ma\u001b[0m\u001b[0;34m=\u001b[0m\u001b[0;34m[\u001b[0m\u001b[0;34m'some'\u001b[0m\u001b[0;34m,\u001b[0m \u001b[0;34m'more'\u001b[0m  \u001b[0;34m]\u001b[0m\u001b[0;34m\u001b[0m\u001b[0;34m\u001b[0m\u001b[0m\n\u001b[0;32m----> 2\u001b[0;31m \u001b[0ma\u001b[0m\u001b[0;34m+=\u001b[0m\u001b[0;32mNone\u001b[0m\u001b[0;34m\u001b[0m\u001b[0;34m\u001b[0m\u001b[0m\n\u001b[0m",
      "\u001b[0;31mTypeError\u001b[0m: 'NoneType' object is not iterable"
     ]
    }
   ],
   "source": [
    "a=['some', 'more'  ]\n",
    "a+=None"
   ]
  },
  {
   "cell_type": "code",
   "execution_count": 5,
   "metadata": {},
   "outputs": [
    {
     "ename": "TypeError",
     "evalue": "can only concatenate list (not \"NoneType\") to list",
     "output_type": "error",
     "traceback": [
      "\u001b[0;31m\u001b[0m",
      "\u001b[0;31mTypeError\u001b[0mTraceback (most recent call last)",
      "\u001b[0;32m<ipython-input-5-777543fdcca3>\u001b[0m in \u001b[0;36m<module>\u001b[0;34m\u001b[0m\n\u001b[0;32m----> 1\u001b[0;31m \u001b[0ma\u001b[0m\u001b[0;34m+\u001b[0m\u001b[0;32mNone\u001b[0m\u001b[0;34m\u001b[0m\u001b[0;34m\u001b[0m\u001b[0m\n\u001b[0m",
      "\u001b[0;31mTypeError\u001b[0m: can only concatenate list (not \"NoneType\") to list"
     ]
    }
   ],
   "source": [
    "a+None"
   ]
  },
  {
   "cell_type": "code",
   "execution_count": 8,
   "metadata": {},
   "outputs": [],
   "source": [
    "sentence=\"something some more ❮  then then   ❯  dfdfgd ❮  then then   ❯ and more\"\n",
    "\n",
    "sentence = sentence.rstrip('\\r\\n')\n",
    "subsentence = re.sub(r'(^[^❮]+|[^❯]+$)',r'', sentence)  #finds everything between \" ❮ ❯ \" ==>the main sentence\n",
    "if len(subsentence) > 0: sentence = sentence.replace(subsentence, '', 1)  #remove everything inside \" ❮ ❯ \" from the string\n",
    "    "
   ]
  },
  {
   "cell_type": "code",
   "execution_count": 13,
   "metadata": {},
   "outputs": [
    {
     "data": {
      "text/plain": [
       "[' capital instruments and/or tier', '2 cap']"
      ]
     },
     "execution_count": 13,
     "metadata": {},
     "output_type": "execute_result"
    }
   ],
   "source": [
    "subsentence=\" capital instruments ‖ and/or tier ‖ 2 cap\"\n",
    "\n",
    "list_subsentences = re.sub(r' ‖ and/or ', r' and/or ', subsentence ).lstrip('❮').rstrip('❯').split(' ‖ ')\n",
    "list_subsentences"
   ]
  },
  {
   "cell_type": "markdown",
   "metadata": {},
   "source": [
    "#### END"
   ]
  },
  {
   "cell_type": "code",
   "execution_count": 2,
   "metadata": {
    "scrolled": true
   },
   "outputs": [],
   "source": [
    "from src.utils import SeekableIterator\n",
    "from src.transform import get_other_lines, fold_sublist, transform_lines\n",
    "\n",
    "value_between_tagtype_generator=cas.get_view( 'html2textView' ).select( \"com.crosslang.uimahtmltotext.uima.type.ValueBetweenTagType\"  )        \n",
    "\n",
    "seek_vbtt=SeekableIterator( value_between_tagtype_generator )\n",
    "\n",
    "lines=get_other_lines( cas, 'html2textView' , seek_vbtt, 'root'    )\n",
    "\n",
    "with open( os.path.join( PATH, \"tests/test_files/sofa_reporting_obligations/minus_lesser_of_response.txt\")  , \"w\" ) as f:\n",
    "    f.write( \"\\n\".join(transform_lines( lines )))"
   ]
  },
  {
   "cell_type": "code",
   "execution_count": 5,
   "metadata": {},
   "outputs": [
    {
     "data": {
      "text/plain": [
       "'ANNEX I\\nFormulae for the determination of the liquidity buffer composition. Credit institution shall use the formulae laid down in this Annex to determine the composition of their  liquidity buffer in accordance with Article 17.\\nFormulae for the determination of the liquidity buffer composition. Calculation of the liquidity buffer: as of the calculation date, the liquidity buffer of the credit institution shall be equal to ❬the level 1 asset amount; plus ‖ and/or the level 2A asset amount; plus ‖ and/or the level 2B asset amount ‖ and/or minus the lesser of ‖ and/or the sum of (a), (b), and (c) ‖ and/or the ‘excess liquid assets amount’ as calculated in accordance with paragraphs 3 and 4 of this Annex❭.\\nFormulae for the determination of the liquidity buffer composition. ‘Excess liquid assets’ amount: this amount shall be comprised of the components defined herein ❬an adjusted non-covered bond level 1 assets amount, which shall be equal to the value of all level 1 liquid assets, excluding level&nbsp;1 covered bonds, that would be held by the credit institution upon the unwind of any secured funding transaction, secured lending transaction, asset exchange or collateralised derivatives transaction that matures within 30&nbsp;calendar days from the calculation date and where the credit institution and the counterparty exchange liquid assets on at least one leg of the transaction ‖ and/or an adjusted level 1 covered bonds amount, which shall be equal to the value post-haircuts of all level 1 covered bonds that would be held by the credit institution upon the unwind of any secured funding transaction, secured lending transaction, asset exchange or collateralised derivatives transaction that matures within 30&nbsp;calendar days from the calculation date and where the credit institution and the counterparty exchange liquid assets on at least one leg of the transaction ‖ and/or adjusted level 2A asset amount, which shall be equal to the value post-haircuts of all level 2A assets that would be held by the credit institution upon the unwind of any secured funding transaction, secured lending transaction, asset exchange or collateralised derivatives transaction that matures within 30&nbsp;calendar days from the calculation date and where the credit institution and the counterparty exchange liquid assets on at least one leg of the transaction ‖ and/or adjusted level 2B asset amount, which shall be equal to the value post-haircuts of all level 2B assets that would be held by the credit institution upon the unwind of any secured funding transaction, secured lending transaction, asset exchange or collateralised derivatives transaction that matures within 30 calendar days from the calculation date and where the credit institution and the counterparty exchange liquid assets on at least one leg of the transaction❭.\\nFormulae for the determination of the liquidity buffer composition. Calculation of the ‘excess liquid assets amount’: this amount shall be equal to ❬the adjusted non-covered bond level 1 asset amount; plus ‖ and/or the adjusted level 1 covered bond amount; plus ‖ and/or the adjusted level 2A asset amount; plus ‖ and/or the adjusted level 2B asset amount ‖ and/or minus the lesser of ‖ and/or the sum of (a),(b),(c) and (d) ‖ and/or 100/30 times (a) ‖ and/or 100/60 times the sum of (a) and (b) ‖ and/or 100/85 times the sum of (a), (b) and (c)❭.\\nFormulae for the determination of the liquidity buffer composition. The composition of the liquidity buffer after taking into account the unwind of any secured funding transaction, secured lending transaction, asset exchange or collateralised derivatives transaction and the application of the above caps in accordance with Article 17 shall be determined as follows ❬&nbsp ‖ and/or a″ (the adjusted non-covered bond level 1 asset amount after cap application) ‖ and/or =&nbsp;a (the adjusted non-covered bond level 1 asset amount before cap application) ‖ and/or &nbsp ‖ and/or b″ (the adjusted covered bond level 1asset amount after cap application) ‖ and/or =&nbsp;MIN(b, a70/30) ‖ and/or where b = the adjusted covered bond level 1 asset amount before cap application ‖ and/or &nbsp ‖ and/or c″ (the adjusted level 2A asset amount after cap application) ‖ and/or =&nbsp;MIN(c, (a + b″)40/60, MAX(a70/30 – b″, 0)) ‖ and/or where c = the adjusted level 2A asset amount before cap application ‖ and/or &nbsp ‖ and/or d″ (the adjusted level 2B asset amount after cap application) ‖ and/or =&nbsp;MIN (d, (a + b″ + c″)15/85, MAX((a + b″)40/60 – c″, 0), MAX(70/30a – b″ – c″, 0)) ‖ and/or Where d = the adjusted level 2B asset amount before cap application)❭.'"
      ]
     },
     "execution_count": 5,
     "metadata": {},
     "output_type": "execute_result"
    }
   ],
   "source": [
    "open(os.path.join( PATH, \"tests/test_files/sofa_reporting_obligations/minus_lesser_of.txt\") , 'r'   ).read()"
   ]
  },
  {
   "cell_type": "code",
   "execution_count": null,
   "metadata": {},
   "outputs": [],
   "source": []
  },
  {
   "cell_type": "code",
   "execution_count": 3,
   "metadata": {},
   "outputs": [
    {
     "data": {
      "text/plain": [
       "'❬b ‖ and/or c❭'"
      ]
     },
     "execution_count": 3,
     "metadata": {},
     "output_type": "execute_result"
    }
   ],
   "source": [
    "fold_sublist(  [ '1.', 'b' , 'c'  ]  )"
   ]
  },
  {
   "cell_type": "code",
   "execution_count": 19,
   "metadata": {},
   "outputs": [
    {
     "data": {
      "text/plain": [
       "'❬something ‖ and/or c❭'"
      ]
     },
     "execution_count": 19,
     "metadata": {},
     "output_type": "execute_result"
    }
   ],
   "source": [
    "fold_sublist(  [ '1.', '(a) something' , 'c'  ]  )"
   ]
  },
  {
   "cell_type": "code",
   "execution_count": 15,
   "metadata": {},
   "outputs": [
    {
     "data": {
      "text/plain": [
       "'❬something (a) ‖ and/or d ⟨e ⟨f⟩⟩ ‖ and/or c❭'"
      ]
     },
     "execution_count": 15,
     "metadata": {},
     "output_type": "execute_result"
    }
   ],
   "source": [
    "fold_sublist(  [ '  1. ', 'something (a)' , [  'd', ['e','f'] ]  , 'c'  ]  )"
   ]
  },
  {
   "cell_type": "code",
   "execution_count": null,
   "metadata": {},
   "outputs": [],
   "source": [
    "fold_sublist(  [ '  1. ', 'something (a)' , [  'd', ['e'] ]  , 'c'  ]  )"
   ]
  },
  {
   "cell_type": "code",
   "execution_count": 12,
   "metadata": {},
   "outputs": [
    {
     "data": {
      "text/plain": [
       "'1. some ❬something (a) ‖ and/or c❭'"
      ]
     },
     "execution_count": 12,
     "metadata": {},
     "output_type": "execute_result"
    }
   ],
   "source": [
    "fold_sublist(  [ '  1. some ', 'something (a)' , 'c'  ]  )"
   ]
  },
  {
   "cell_type": "code",
   "execution_count": 17,
   "metadata": {},
   "outputs": [
    {
     "data": {
      "text/plain": [
       "'❬❭'"
      ]
     },
     "execution_count": 17,
     "metadata": {},
     "output_type": "execute_result"
    }
   ],
   "source": [
    "fold_sublist(  [ '  1.'  ]  )"
   ]
  },
  {
   "cell_type": "code",
   "execution_count": null,
   "metadata": {},
   "outputs": [],
   "source": []
  },
  {
   "cell_type": "code",
   "execution_count": null,
   "metadata": {},
   "outputs": [],
   "source": []
  },
  {
   "cell_type": "code",
   "execution_count": 3,
   "metadata": {},
   "outputs": [],
   "source": [
    "import pickle\n",
    "with open(  os.path.join( PATH, \"tests/test_files/pickle/doc_bf4ef384-bd7a-51c8-8f7d-d2f61865d767_nested_lines.p\"), 'wb')  as f:\n",
    "    # store the data as binary data stream\n",
    "    pickle.dump(lines, f)"
   ]
  },
  {
   "cell_type": "code",
   "execution_count": 9,
   "metadata": {},
   "outputs": [],
   "source": [
    "\n",
    "with open(  os.path.join( PATH, \"tests/test_files/pickle/small_nested_tables_nested_lines.p\"), 'rb') as filehandle:\n",
    "    # read the data as binary data stream\n",
    "    lines_test = pickle.load(filehandle)"
   ]
  },
  {
   "cell_type": "code",
   "execution_count": null,
   "metadata": {},
   "outputs": [],
   "source": []
  },
  {
   "cell_type": "code",
   "execution_count": null,
   "metadata": {},
   "outputs": [],
   "source": []
  },
  {
   "cell_type": "code",
   "execution_count": 2,
   "metadata": {},
   "outputs": [],
   "source": [
    "from transform import ListTransformer"
   ]
  },
  {
   "cell_type": "code",
   "execution_count": 3,
   "metadata": {},
   "outputs": [],
   "source": [
    "transformer=ListTransformer( cas )"
   ]
  },
  {
   "cell_type": "code",
   "execution_count": 4,
   "metadata": {
    "scrolled": true
   },
   "outputs": [],
   "source": [
    "transformer.add_reporting_obligation_view( OldSofaID='html2textView' )"
   ]
  },
  {
   "cell_type": "code",
   "execution_count": null,
   "metadata": {},
   "outputs": [],
   "source": [
    "print( cas.get_view( \"ReportingObligationView\" ).sofa_string )"
   ]
  },
  {
   "cell_type": "code",
   "execution_count": null,
   "metadata": {},
   "outputs": [],
   "source": []
  },
  {
   "cell_type": "code",
   "execution_count": null,
   "metadata": {},
   "outputs": [],
   "source": []
  },
  {
   "cell_type": "code",
   "execution_count": 3,
   "metadata": {
    "scrolled": true
   },
   "outputs": [
    {
     "data": {
      "text/plain": [
       "['5.   Competent authorities may waive the condition set out in point (d) of paragraph 4 where Article 20(1)(b) is applied. In that case additional objective criteria as set out in the delegated act referred to in Article 460 have to be met. Where such higher inflow is permitted to be applied, the competent authorities shall inform EBA about the result of the process referred to in Article 20(1)(b). Fulfilment of the conditions for such higher inflows shall be regularly reviewed by the competent authorities.',\n",
       " '6.   EBA shall develop draft regulatory technical standards to further specify the additional objective criteria referred to in paragraph 5.',\n",
       " 'EBA shall submit those draft regulatory technical standards to the Commission by 1 January 2015.',\n",
       " 'Power is delegated to the Commission to adopt the regulatory technical standards referred to in the first subparagraph in accordance with Articles 10 to 14 of Regulation (EU) No 1093/2010.',\n",
       " '7.   Institutions shall not report inflows from any of the liquid assets reported in accordance with Article 416 other than payments due on the assets that are not reflected in the market value of the asset.',\n",
       " '8.   Institutions shall not report inflows from any new obligations entered into.',\n",
       " '9.   Institutions shall take liquidity inflows which are to be received in third countries where there are transfer restrictions or which are denominated in non-convertible currencies into account only to the extent that they correspond to outflows respectively in the third country or currency in question.',\n",
       " 'Article 426',\n",
       " 'Updating Future liquidity requirements',\n",
       " 'Following, the adoption by the Commission of a delegated act to specify the liquidity requirement in accordance with Article 460, EBA may develop draft implementing technical standards to specify the conditions set out in Article 421(1), Article 422, with the exception of paragraphs 8, 9 and 10 of that Article, and Article 424 to take account of standards agreed internationally.',\n",
       " 'Power is conferred on the Commission to adopt the implementing technical standards referred to in the first paragraph in accordance with Article 15 of Regulation (EU) No 1093/2010.',\n",
       " 'TITLE III',\n",
       " '\\n      REPORTING ON STABLE FUNDING\\n   ',\n",
       " 'Article 427',\n",
       " 'Items providing stable funding',\n",
       " ['1.   Institutions shall report to the competent authorities, in accordance with the reporting requirements set out in Article 415(1) and the uniform reporting formats referred to in Article 415(3), the following items and their components in order to allow an assessment of the availability of stable funding:',\n",
       "  '(a)',\n",
       "  ['the following own funds, after deductions have been applied, where appropriate:',\n",
       "   '(i)',\n",
       "   'tier 1 capital instruments;',\n",
       "   '(ii)',\n",
       "   'tier 2 capital instruments;',\n",
       "   '(iii)',\n",
       "   'other preferred shares and capital instruments in excess of Tier 2 allowable amount having an effective maturity of one year or greater;'],\n",
       "  '(b)',\n",
       "  ['the following liabilities not included in point (a):',\n",
       "   '(i)',\n",
       "   'retail deposits that qualify for the treatment set out in Article 421(1);',\n",
       "   '(ii)',\n",
       "   'retail deposits that qualify for the treatment set out in Article 421(2);',\n",
       "   '(iii)',\n",
       "   'deposits that qualify for the treatment set out in Article 422 (3) and (4);',\n",
       "   '(iv)',\n",
       "   'of the deposits referred to in point (iii), those that are subject to a deposit guarantee scheme in accordance with Directive 94/19/EC or an equivalent deposit guarantee scheme in a third country deposit guarantees within the terms of Article 421(2);',\n",
       "   '(v)',\n",
       "   'of the deposits referred to in point (iii), those that fall under point (b) of Article 422(3);',\n",
       "   '(vi)',\n",
       "   'of the deposits referred to in point (iii), those that fall under point (d) of Article 422(3);',\n",
       "   '(vii)',\n",
       "   'amounts deposited not falling under point (i), (ii) or (iii) if they are not deposited by financial customers;',\n",
       "   '(viii)',\n",
       "   'all funding obtained from financial customers;',\n",
       "   '(ix)',\n",
       "   ['separately for amounts falling under points (vii) and (viii) respectively, funding from secured lending and capital market-driven transactions as defined in point (3) of Article 192:',\n",
       "    '—',\n",
       "    'collateralised by assets that would qualify as liquid assets in accordance with Article 416;',\n",
       "    '—',\n",
       "    'collateralised by any other assets;'],\n",
       "   '(x)',\n",
       "   'liabilities resulting from securities issued qualifying for the treatment set out in Article 129(4) or (5) or as referred to in Article 52(4) of Directive 2009/65/EC;',\n",
       "   '(xi)',\n",
       "   ['the following other liabilities resulting from securities issued that do not fall under point (a):',\n",
       "    '—',\n",
       "    'liabilities resulting from securities issued with an effective maturity of one year or greater;',\n",
       "    '—',\n",
       "    'liabilities resulting from securities issued with an effective maturity of less than one year;'],\n",
       "   '(xii)',\n",
       "   'any other liabilities.']],\n",
       " 'Treatment of maturity mismatches in synthetic securitisations',\n",
       " ['For the purposes of calculating risk-weighted exposure amounts in accordance with Article 249, any maturity mismatch between the credit protection which constitutes a tranche and by which the transfer of risk is achieved and the securitised exposures shall be taken into consideration as follows:',\n",
       "  '(a)',\n",
       "  'the maturity of the securitised exposures shall be taken to be the longest maturity of any of those exposures subject to a maximum of five years. The maturity of the credit protection shall be determined in accordance with Chapter 4;',\n",
       "  '(b)',\n",
       "  'an originator institution shall ignore any maturity mismatch in calculating risk-weighted exposure amounts for tranches appearing pursuant to this Section with a risk weighting of 1 250 %. For all other tranches, the maturity mismatch treatment set out in Chapter 4 shall be applied in accordance with the following formula:',\n",
       "  ['where:',\n",
       "   'RW*',\n",
       "   '=',\n",
       "   'risk-weighted exposure amounts for the purposes of Article 92(3)(a);',\n",
       "   'RWAss\\n                           ',\n",
       "   '=',\n",
       "   'risk-weighted exposure amounts for exposures if they had not been securitised, calculated on a pro-rata basis;',\n",
       "   'RWSP\\n                           ',\n",
       "   '=',\n",
       "   'risk-weighted exposure amounts calculated under Article 249 if there was no maturity mismatch;',\n",
       "   'T',\n",
       "   '=',\n",
       "   'maturity of the underlying exposures expressed in years;',\n",
       "   't',\n",
       "   '=',\n",
       "   'maturity of credit protection. expressed in years;',\n",
       "   't*',\n",
       "   '=',\n",
       "   '0,25.']],\n",
       " '\\n      Sub-Section 3\\n   ']"
      ]
     },
     "execution_count": 3,
     "metadata": {},
     "output_type": "execute_result"
    }
   ],
   "source": []
  },
  {
   "cell_type": "code",
   "execution_count": null,
   "metadata": {},
   "outputs": [],
   "source": []
  },
  {
   "cell_type": "code",
   "execution_count": null,
   "metadata": {},
   "outputs": [],
   "source": []
  },
  {
   "cell_type": "code",
   "execution_count": 2,
   "metadata": {},
   "outputs": [],
   "source": [
    "#section_regexp = r'^(Part|Title|Chapter|Section|Sub-Section|Article) ([0-9.]|ONE|TWO|THREE|FOUR|FIVE|SIX|SEVEN|EIGHT|NINE|TEN|ELEVEN|TWELVE|THIRTEEN|FOURTEEN|FIFTEEN|SIXTEEN|SEVENTEEN|EIGHTEEN|NINETEEN|TWENTY|I|II|III|IV|V|VI|VII|VIII|IX|X|X(I|II|III|IV|V|VI|VII|VIII|IX|X))+ *$'"
   ]
  },
  {
   "cell_type": "code",
   "execution_count": 3,
   "metadata": {},
   "outputs": [],
   "source": [
    "#paragraphs=cas.get_view( 'html2textView'   ).select( 'de.tudarmstadt.ukp.dkpro.core.api.segmentation.type.Paragraph')\n",
    "#for par in paragraphs:\n",
    "#    print( par.get_covered_text() )\n",
    "#    print( \"_\"*100 )\n",
    "#    print( \"\\n\" )"
   ]
  },
  {
   "cell_type": "code",
   "execution_count": 5,
   "metadata": {},
   "outputs": [],
   "source": [
    "class SeekableIterator:\n",
    "    def __init__(self, iterator):\n",
    "        self.iterator = iterator\n",
    "        self.current = None\n",
    "        self.reuse = False\n",
    "\n",
    "    def __iter__(self):\n",
    "        return self\n",
    "    \n",
    "    def __next__(self):\n",
    "        return self.next()\n",
    "\n",
    "    def next(self):\n",
    "        if self.reuse:\n",
    "            self.reuse = False\n",
    "        else:\n",
    "            self.current = None\n",
    "            self.current = next(self.iterator)\n",
    "        return self.current\n",
    "\n",
    "    def rewind(self):\n",
    "        self.reuse = True"
   ]
  },
  {
   "cell_type": "code",
   "execution_count": 6,
   "metadata": {},
   "outputs": [],
   "source": [
    "def get_other_lines( cas: Cas, SofaID: str , value_between_tagtype_seekable_generator: Generator, root_paragraph, end=-1 ) -> list: \n",
    "    \n",
    "    '''\n",
    "    Convert cas with paragraph annotations to a nested lists to be used for annotation of reporting obligations.\n",
    "    Structure of the nested lists is as follows:\n",
    "    ->p   new_root (i.e. start of enumeration, e.g. \"...shall be allocated as follows:\"  )\n",
    "    ->p\n",
    "    ->p\n",
    "    [->p  new_root\n",
    "    [->p  new_root\n",
    "    ->p]]\n",
    "    '''\n",
    "\n",
    "    lines=[]\n",
    "    paragraphs_covering_tag=None\n",
    "    new_root_paragraph=None\n",
    "    \n",
    "    for tag in value_between_tagtype_seekable_generator:\n",
    "        \n",
    "        #check if tag is a \"p\", and if it was not part of one of the already nested p's.\n",
    "        if not tag.tagName == 'p':\n",
    "            continue\n",
    "        \n",
    "        if end >0 and tag.begin > end:\n",
    "            value_between_tagtype_seekable_generator.rewind()\n",
    "            return lines\n",
    "              \n",
    "        paragraphs_covering_tag= ['root'] + list(cas.get_view( SofaID ).select_covering( \"de.tudarmstadt.ukp.dkpro.core.api.segmentation.type.Paragraph\", tag ))\n",
    "     \n",
    "        #If no enumeration detected yet, set root_paragraph to 'root'.\n",
    "        if root_paragraph=='root': \n",
    "            index_root=0\n",
    "        else:\n",
    "            index_root=get_index_typesystem_elements_in_list( paragraphs_covering_tag[1:], root_paragraph.xmiID )+1\n",
    "        \n",
    "        #sanity check\n",
    "        assert index_root >= 0\n",
    "\n",
    "        #Start of new sublist detected (i.e. the root_paragraph is no longer the \"deepest\" paragraph). Always go for the deepest root.\n",
    "        if paragraphs_covering_tag[ index_root+1: ]:\n",
    "            new_root_paragraph=paragraphs_covering_tag[ index_root+1 ]\n",
    "            value_between_tagtype_seekable_generator.rewind()\n",
    "            sublines=get_other_lines( cas, SofaID, value_between_tagtype_seekable_generator, new_root_paragraph, end=new_root_paragraph.end  )\n",
    "            lines.append( sublines )\n",
    "            \n",
    "        else:\n",
    "            lines.append(  tag.get_covered_text() )\n",
    "            \n",
    "    return lines\n",
    "\n",
    "#helper function\n",
    "def get_index_typesystem_elements_in_list( list_typesystem_elements: list, xmiID: int  ) -> int:\n",
    "    \n",
    "    '''\n",
    "    Helper function to get index of certain typesystem element (with given xmiID) in list of typesystem elements\n",
    "    Necessary because list_typesystem_elements.index( element ) does not return correct index,\n",
    "    because all elements in list_typesystem_elements are considered equal (due to bug in dkpro-cassis)\n",
    "    '''\n",
    "    \n",
    "    for index, item in enumerate(  list_typesystem_elements ):\n",
    "        if item.xmiID == xmiID:\n",
    "            return index\n",
    "        \n",
    "    return -1"
   ]
  },
  {
   "cell_type": "code",
   "execution_count": 7,
   "metadata": {
    "scrolled": true
   },
   "outputs": [
    {
     "data": {
      "text/plain": [
       "['ANNEX I',\n",
       " ['\\r\\n Formulae for the determination of the liquidity buffer composition\\r\\n',\n",
       "  '1.',\n",
       "  'Credit institution shall use the formulae laid down in this Annex to determine the composition of their  liquidity buffer in accordance with Article 17.',\n",
       "  '2.',\n",
       "  ['Calculation of the liquidity buffer: as of the calculation date, the liquidity buffer of the credit institution shall be equal to:',\n",
       "   '(a)',\n",
       "   'the level 1 asset amount; plus',\n",
       "   '(b)',\n",
       "   'the level 2A asset amount; plus',\n",
       "   '(c)',\n",
       "   'the level 2B asset amount;',\n",
       "   'minus the lesser of:',\n",
       "   '(d)',\n",
       "   'the sum of (a), (b), and (c); or',\n",
       "   '(e)',\n",
       "   'the ‘excess liquid assets amount’ as calculated in accordance with paragraphs 3 and 4 of this Annex.'],\n",
       "  '3.',\n",
       "  ['‘Excess liquid assets’ amount: this amount shall be comprised of the components defined herein:',\n",
       "   '(a)',\n",
       "   'an adjusted non-covered bond level 1 assets amount, which shall be equal to the value of all level 1 liquid assets, excluding level&nbsp;1 covered bonds, that would be held by the credit institution upon the unwind of any secured funding transaction, secured lending transaction, asset exchange or collateralised derivatives transaction that matures within 30&nbsp;calendar days from the calculation date and where the credit institution and the counterparty exchange liquid assets on at least one leg of the transaction;',\n",
       "   '(b)',\n",
       "   'an adjusted level 1 covered bonds amount, which shall be equal to the value post-haircuts of all level 1 covered bonds that would be held by the credit institution upon the unwind of any secured funding transaction, secured lending transaction, asset exchange or collateralised derivatives transaction that matures within 30&nbsp;calendar days from the calculation date and where the credit institution and the counterparty exchange liquid assets on at least one leg of the transaction;',\n",
       "   '(c)',\n",
       "   'adjusted level 2A asset amount, which shall be equal to the value post-haircuts of all level 2A assets that would be held by the credit institution upon the unwind of any secured funding transaction, secured lending transaction, asset exchange or collateralised derivatives transaction that matures within 30&nbsp;calendar days from the calculation date and where the credit institution and the counterparty exchange liquid assets on at least one leg of the transaction; and',\n",
       "   '(d)',\n",
       "   'adjusted level 2B asset amount, which shall be equal to the value post-haircuts of all level 2B assets that would be held by the credit institution upon the unwind of any secured funding transaction, secured lending transaction, asset exchange or collateralised derivatives transaction that matures within 30 calendar days from the calculation date and where the credit institution and the counterparty exchange liquid assets on at least one leg of the transaction.'],\n",
       "  '4.',\n",
       "  ['Calculation of the ‘excess liquid assets amount’: this amount shall be equal to:',\n",
       "   '(a)',\n",
       "   'the adjusted non-covered bond level 1 asset amount; plus',\n",
       "   '(b)',\n",
       "   'the adjusted level 1 covered bond amount; plus',\n",
       "   '(c)',\n",
       "   'the adjusted level 2A asset amount; plus',\n",
       "   '(d)',\n",
       "   'the adjusted level 2B asset amount;',\n",
       "   'minus the lesser of:',\n",
       "   '(e)',\n",
       "   'the sum of (a),(b),(c) and (d);',\n",
       "   '(f)',\n",
       "   '100/30 times (a);',\n",
       "   '(g)',\n",
       "   '100/60 times the sum of (a) and (b);',\n",
       "   '(h)',\n",
       "   '100/85 times the sum of (a), (b) and (c).'],\n",
       "  '5.',\n",
       "  ['The composition of the liquidity buffer after taking into account the unwind of any secured funding transaction, secured lending transaction, asset exchange or collateralised derivatives transaction and the application of the above caps in accordance with Article 17 shall be determined as follows:',\n",
       "   '&nbsp;',\n",
       "   'a″ (the adjusted non-covered bond level 1 asset amount after cap application)',\n",
       "   '=&nbsp;a (the adjusted non-covered bond level 1 asset amount before cap application)',\n",
       "   '&nbsp;',\n",
       "   'b″ (the adjusted covered bond level 1asset amount after cap application)',\n",
       "   '=&nbsp;MIN(b, a70/30)',\n",
       "   'where b = the adjusted covered bond level 1 asset amount before cap application',\n",
       "   '&nbsp;',\n",
       "   'c″ (the adjusted level 2A asset amount after cap application)',\n",
       "   '=&nbsp;MIN(c, (a + b″)40/60, MAX(a70/30 – b″, 0))',\n",
       "   'where c = the adjusted level 2A asset amount before cap application',\n",
       "   '&nbsp;',\n",
       "   'd″ (the adjusted level 2B asset amount after cap application)',\n",
       "   '=&nbsp;MIN (d, (a + b″ + c″)15/85, MAX((a + b″)40/60 – c″, 0), MAX(70/30a – b″ – c″, 0))',\n",
       "   'Where d = the adjusted level 2B asset amount before cap application)']]]"
      ]
     },
     "execution_count": 7,
     "metadata": {},
     "output_type": "execute_result"
    }
   ],
   "source": [
    "value_between_tagtype_generator=cas.get_view( 'html2textView' ).select( \"com.crosslang.uimahtmltotext.uima.type.ValueBetweenTagType\")        \n",
    "\n",
    "seek_vbtt=SeekableIterator( value_between_tagtype_generator )\n",
    "\n",
    "lines=get_other_lines( cas , 'html2textView' , seek_vbtt , 'root' )\n",
    "\n",
    "lines"
   ]
  },
  {
   "cell_type": "code",
   "execution_count": 8,
   "metadata": {},
   "outputs": [],
   "source": [
    "def fold_sublist( sublist: list, open_paren='❬', close_paren='❭'  )-> str: \n",
    "    \n",
    "    start_enumeration=''\n",
    "    \n",
    "    other_lines=[]\n",
    "    \n",
    "    for i,item in enumerate(sublist):\n",
    "        \n",
    "        if type(item)==str:\n",
    "            item=clean_line(item).strip()\n",
    "            if not item:\n",
    "                continue\n",
    "        \n",
    "        if type(item)==str and i==0: #enumeration starts in next item\n",
    "            \n",
    "            start_enumeration = item\n",
    "                        \n",
    "        elif type(item)==str: #actual enumeration\n",
    "            \n",
    "            other_lines.append( item )\n",
    "            \n",
    "        elif type(item)==list:\n",
    "            \n",
    "            other_lines.append( fold_sublist(item, open_paren='⟨', close_paren='⟩'  ) )\n",
    "                \n",
    "    return (start_enumeration + ' '  + open_paren +  ' ‖ and/or '.join( other_lines ) + close_paren).strip()\n",
    "\n",
    "\n",
    "def check_valid_list(  line: list ) -> bool:\n",
    "    \n",
    "    if len( line )<=1:\n",
    "        return False\n",
    "    \n",
    "    if type( line[0])!=str:\n",
    "        return False\n",
    "    \n",
    "    return True\n",
    "\n",
    "def clean_line(  line: str ) -> str:\n",
    "\n",
    "    line = re.sub(r'^( *\\(([0-9]+|[a-z]|x?v?[i]+v?x?|xv?|v)\\)|-|—|•)',r'',line)\n",
    "    line = re.sub(r'^( *([0-9]+[.])) *$',r'',line)  #delete strings like \"1. \" ==> can occur inside nested list, and mess up function handle_root_lists\n",
    "    line = re.sub(r'[;.,] *(or|and)? *$',r'', line)\n",
    "    line = re.sub(r'\\s*[:]\\s*$', ' ', line)\n",
    "    \n",
    "    return line\n",
    "\n",
    "def break_long_paragraphs(text: str ) -> list:\n",
    "    if len(text) > 1000:\n",
    "        text = re.sub(r'([^❮❬‖❭❯]{1000}(?:[^❮❬‖❭❯.]|[.][^❮❬‖❭❯ ])*[.]) (?=[A-Z])', r'\\1\\n', text, re.MULTILINE + re.UNICODE)\n",
    "    \n",
    "    break_lines = [line.strip() for line in text.split( \"\\n\" ) if line.strip()]\n",
    "\n",
    "    return break_lines\n"
   ]
  },
  {
   "cell_type": "code",
   "execution_count": 9,
   "metadata": {},
   "outputs": [
    {
     "data": {
      "text/plain": [
       "' dsf '"
      ]
     },
     "execution_count": 9,
     "metadata": {},
     "output_type": "execute_result"
    }
   ],
   "source": [
    "line='(a) dsf '\n",
    "line=re.sub(r'^( *\\(([0-9]+|[a-z]|x?v?[i]+v?x?|xv?|v)\\)|-|—|•)',r'',line)\n",
    "line"
   ]
  },
  {
   "cell_type": "code",
   "execution_count": 10,
   "metadata": {},
   "outputs": [
    {
     "data": {
      "text/plain": [
       "''"
      ]
     },
     "execution_count": 10,
     "metadata": {},
     "output_type": "execute_result"
    }
   ],
   "source": [
    "line='1.'\n",
    "line=re.sub(r'^( *([0-9]+[.])) *$',r'',line)\n",
    "line"
   ]
  },
  {
   "cell_type": "code",
   "execution_count": 11,
   "metadata": {},
   "outputs": [],
   "source": [
    "def handle_root_list(main_sentences, last_sentence, other_lines):\n",
    "\n",
    "    # default choice of action\n",
    "    list_action = 'ADD_IN_SENTENCE'\n",
    "    list_comma_handling = 'AUTO'\n",
    "\n",
    "    # detect how to treat the list thanks to the last sentence\n",
    "    if re.search(r' shall do the following $', last_sentence):\n",
    "        list_action = 'ADD_IN_SENTENCE'\n",
    "        list_comma_handling = 'NO_COMMA'\n",
    "        last_sentence = re.sub(r' shall do the following $', r' shall ', last_sentence)\n",
    "    if re.search(r' and do the following $', last_sentence):\n",
    "        list_action = 'ADD_IN_SENTENCE'\n",
    "        list_comma_handling = 'NO_COMMA'\n",
    "        last_sentence = re.sub(r' and do the following $', r' and ', last_sentence)\n",
    "    elif re.match(r'The following( definitions?|requirements)? shall apply ', last_sentence):\n",
    "        list_action = 'ADD_IN_SENTENCE'\n",
    "        list_comma_handling = 'NO_COMMA'\n",
    "        main_sentences.append(last_sentence+'.')\n",
    "        last_sentence = ''\n",
    "    elif re.search(r' the following( definitions?)? shall apply ', last_sentence):\n",
    "        list_action = 'ADD_IN_SENTENCE'\n",
    "        list_comma_handling = 'COMMA'\n",
    "        last_sentence = re.sub(r' ?,? the following( definitions?)? shall apply $', r' ', last_sentence)\n",
    "    elif re.search(r' the following requirements? shall apply ', last_sentence):\n",
    "        list_action = 'ADD_IN_SENTENCE'\n",
    "        list_comma_handling = 'COMMA'\n",
    "        last_sentence = re.sub(r' ?,? the following( requirements?)? shall apply $', r' ', last_sentence)\n",
    "    elif re.search(r' the following requirements ', last_sentence):\n",
    "        list_action = 'ADD_IN_SENTENCE'\n",
    "        list_comma_handling = 'NO_COMMA'\n",
    "        main_sentences.append(last_sentence+'.')\n",
    "        last_sentence = ''\n",
    "    elif re.search(r'\\b[Tt]he( .*)? standards relating to .* are the following ', last_sentence):\n",
    "        list_action = 'ADD_IN_SENTENCE'\n",
    "        list_comma_handling = 'NO_COMMA'\n",
    "        main_sentences.append(last_sentence+'.')\n",
    "        last_sentence = ''\n",
    "    elif re.search(r' following ', last_sentence):\n",
    "        list_action = 'KEEP_OUT'\n",
    "        list_comma_handling = 'NO_COMMA'\n",
    "    elif re.search(r' as follows $', last_sentence):\n",
    "        list_action = 'KEEP_OUT'\n",
    "        list_comma_handling = 'NO_COMMA'\n",
    "        last_sentence = re.sub(r' as follows $',r' as described in the following list ', last_sentence)\n",
    "    elif re.search(r' provided $', last_sentence):\n",
    "        list_action = 'ADD_IN_SENTENCE'\n",
    "        list_comma_handling = 'NO_COMMA'\n",
    "    elif re.search(r' (including|excluding|include|exclude|concerning) $', last_sentence):\n",
    "        list_action = 'ADD_IN_SENTENCE'\n",
    "        list_comma_handling = 'NO_COMMA'\n",
    "    elif re.search(r' (shall|can|must|should)( not)? $', last_sentence):\n",
    "        list_action = 'ADD_IN_SENTENCE'\n",
    "        list_comma_handling = 'NO_COMMA'\n",
    "    elif re.search(r' (that|which|who) $', last_sentence):\n",
    "        list_action = 'ADD_IN_SENTENCE'\n",
    "        list_comma_handling = 'NO_COMMA'\n",
    "    elif re.search(r' (when|where|in the cases?)( it (has|does))? $', last_sentence):\n",
    "        list_action = 'ADD_IN_SENTENCE'\n",
    "        list_comma_handling = 'NO_COMMA'\n",
    "    elif re.search(r' (of|on|by|for|from|to|using) $', last_sentence):\n",
    "        list_action = 'ADD_IN_SENTENCE'\n",
    "        list_comma_handling = 'NO_COMMA'\n",
    "    elif re.search(r' (more|less) than $', last_sentence):\n",
    "        list_action = 'ADD_IN_SENTENCE'\n",
    "        list_comma_handling = 'NO_COMMA'\n",
    "    elif re.search(r' (is|are|specify|specifies|comprise|comprises|mean|means) $', last_sentence):\n",
    "        list_action = 'ADD_IN_SENTENCE'\n",
    "        list_comma_handling = 'NO_COMMA'\n",
    "    elif re.search(r' (report|disclose|collect|gather|store) $', last_sentence):\n",
    "        list_action = 'ADD_IN_SENTENCE'\n",
    "        list_comma_handling = 'NO_COMMA'\n",
    "    elif re.search(r'^ *(For\\b|When|Where)[^,]+$', last_sentence): #word break added after For\n",
    "        list_action = 'ADD_IN_SENTENCE'\n",
    "        list_comma_handling = 'COMMA'\n",
    "    elif re.search(r' points? \\( ?(a|i) ?\\)', main_line) and re.search(r' points? \\( ?(a|i) ?\\)', re.sub(r'(for the purposes? of( the)? points?|points? \\([^)]+\\)( (and|to) \\([^)]+\\))? ?of )', r'', re.sub(r' ?of this paragraph',r'',main_line, re.IGNORECASE), re.IGNORECASE)):\n",
    "        list_action = 'KEEP_OUT'\n",
    "        list_comma_handling = 'NO_COMMA'\n",
    "\n",
    "        \n",
    "    # detect whether to add a comma at the end of not\n",
    "    if list_action == 'ADD_IN_SENTENCE' and list_comma_handling == 'AUTO':\n",
    "        # TODO: list_comma_handling == AUTO\n",
    "        list_comma_handling = 'NO_COMMA'\n",
    "\n",
    "    # duplicate the last sentence as many times as required by the list\n",
    "    sentence_spacer = \" \"\n",
    "    if list_action == 'ADD_IN_SENTENCE':\n",
    "        # output one per line if there's no shared context\n",
    "        if len(main_sentences) == 0:\n",
    "            sentence_spacer = '\\n'\n",
    "        elif len(main_sentences) == 1 and re.match('[0-9]+[.]', main_sentences[0]):\n",
    "            sentence_spacer = '\\n'\n",
    "            last_sentence = main_sentences[0].rstrip() + ' ' + last_sentence\n",
    "            main_sentences = []\n",
    "        # also output one per line if we end up in a case where we wanted each list item to be its own sentence\n",
    "        elif len(last_sentence) == 0: \n",
    "            main_sentences = [ ' '.join(map(lambda s: str(s).rstrip(), main_sentences)) ]\n",
    "            sentence_spacer = '\\n'\n",
    "        # also output one per line if merging would result in a too long paragraph\n",
    "        elif len(other_lines) > 9:\n",
    "            sentence_spacer = '\\n'\n",
    "            last_sentence = ' '.join(map(lambda s: str(s).rstrip(), main_sentences)) + ' ' + last_sentence\n",
    "            main_sentences = []\n",
    "        # also output one per line if merging would result in a too long paragraph\n",
    "        elif len(last_sentence) * len(other_lines) >= 200: \n",
    "            main_sentences = [ ' '.join(map(lambda s: str(s).rstrip(), main_sentences)) ]\n",
    "            sentence_spacer = '\\n'\n",
    "        # deal with the comma, if necessary\n",
    "        if list_comma_handling == 'COMMA':\n",
    "            last_sentence = re.sub(r' *$', r', ', last_sentence)\n",
    "        elif list_comma_handling != 'NO_COMMA':\n",
    "            raise ValueError(\"Invalid list comma handling: \" + str(list_comma_handling))\n",
    "        # generate the filled-in sentences\n",
    "        for other_line in other_lines:\n",
    "            main_sentences.append(last_sentence + other_line + '.')\n",
    "    elif list_action == 'KEEP_OUT':\n",
    "        # append the options between brackets\n",
    "        main_sentences.append(last_sentence.rstrip() + ' ❮' + ' ‖ '.join(other_lines) + '❯')\n",
    "    else:\n",
    "        raise ValueError(\"Invalid list action: \" + str(list_action))\n",
    "\n",
    "    if sentence_spacer == '\\n':\n",
    "        def convert_to_strong_list_if_possible(sentence):\n",
    "            if '❬' in sentence:\n",
    "                sentence_other = re.sub(r'(^[^❬]+|[^❭]+$)',r'',sentence)\n",
    "                if len(sentence_other) > 0 and not ('❬' in sentence_other): \n",
    "                    sentence = sentence.replace(sentence_other, '', 1)\n",
    "                    sentence = re.sub(r'\\s*[:.;]\\s*$', ' ', sentence)\n",
    "                    sentence_other = sentence_other[1:len(sentence_other)-1]\n",
    "                    return handle_root_list([], sentence, sentence_other.split(' ‖ and/or '))\n",
    "                else:\n",
    "                    return sentence\n",
    "            else:\n",
    "                return sentence\n",
    "        main_sentences = list(map(convert_to_strong_list_if_possible, main_sentences))\n",
    "\n",
    "    return sentence_spacer.join(main_sentences)"
   ]
  },
  {
   "cell_type": "code",
   "execution_count": 12,
   "metadata": {},
   "outputs": [],
   "source": [
    "import string\n",
    "string.punctuation\n",
    "from spacy.lang.en import English \n",
    "\n",
    "\n",
    "def merge_sentences( lines: list  ) -> list:\n",
    "\n",
    "    sentencizer = English()\n",
    "    sentencizer.add_pipe(sentencizer.create_pipe('sentencizer'))\n",
    "\n",
    "    other_lines=[]\n",
    "    merged_sentences=[]\n",
    "\n",
    "    for line in lines:\n",
    "\n",
    "        main_line_other_line=()\n",
    "\n",
    "        if type(line)==str:\n",
    "\n",
    "            main_line_other_line=( line, None  )  #no other lines (i.e. no enumeration/detected lists)\n",
    "\n",
    "        elif type(line)==list:\n",
    "\n",
    "            #an enumeration should start with a string (i.e. type( line[0] )==str ), and should sum up at least one item (len( line )>1  ).  \n",
    "            if not check_valid_list( line ):\n",
    "                continue\n",
    "\n",
    "            main_line=line[0]\n",
    "\n",
    "            other_lines=[]\n",
    "            for enumeration in line[1:]:\n",
    "                if type(enumeration)==list:\n",
    "                    other_lines.append(fold_sublist(enumeration))\n",
    "                elif type(enumeration)==str:\n",
    "                    enumeration=clean_line(enumeration).strip()\n",
    "                    if enumeration:\n",
    "                        other_lines.append( enumeration )\n",
    "\n",
    "            main_line_other_line=( main_line, other_lines  )\n",
    "\n",
    "        else:\n",
    "            continue\n",
    "\n",
    "        #handle root lists\n",
    "        main_line =main_line_other_line[0].strip()\n",
    "        if not main_line.strip():\n",
    "            continue\n",
    "\n",
    "        if not main_line_other_line[1]: #i.e. no enumeration\n",
    "            #Maybe should also handle processing of sections\n",
    "            merged_sentences+=break_long_paragraphs( main_line )\n",
    "            continue\n",
    "\n",
    "        #Handle main lines (i.e. start of enumerations) that do not end with a punctuation. \n",
    "        if main_line.strip()[-1] not in string.punctuation:\n",
    "            main_line=main_line+'.'\n",
    "\n",
    "        main_sentences = list(map(lambda s: re.sub(r'[)](?![ ,;:.?! ()])(?!th)', r') ',s.text.rstrip()), sentencizer(main_line).sents))\n",
    "        last_sentence = main_sentences.pop()\n",
    "        last_sentence = re.sub(r'\\s*[:]\\s*$', ' ', last_sentence)\n",
    "        last_sentence = re.sub(r'\\s*[.]\\s*$', '. ', last_sentence) \n",
    "\n",
    "        merged_sentence=handle_root_list(main_sentences, last_sentence, main_line_other_line[1])\n",
    "        merged_sentences+= break_long_paragraphs( merged_sentence )\n",
    "        \n",
    "    return merged_sentences"
   ]
  },
  {
   "cell_type": "code",
   "execution_count": 13,
   "metadata": {},
   "outputs": [
    {
     "ename": "NameError",
     "evalue": "name 'a' is not defined",
     "output_type": "error",
     "traceback": [
      "\u001b[0;31m\u001b[0m",
      "\u001b[0;31mNameError\u001b[0mTraceback (most recent call last)",
      "\u001b[0;32m<ipython-input-13-069a99fff49a>\u001b[0m in \u001b[0;36m<module>\u001b[0;34m\u001b[0m\n\u001b[1;32m      6\u001b[0m     \u001b[0mtestt1\u001b[0m\u001b[0;34m(\u001b[0m\u001b[0;34m)\u001b[0m\u001b[0;34m\u001b[0m\u001b[0;34m\u001b[0m\u001b[0m\n\u001b[1;32m      7\u001b[0m \u001b[0;34m\u001b[0m\u001b[0m\n\u001b[0;32m----> 8\u001b[0;31m \u001b[0mtestt\u001b[0m\u001b[0;34m(\u001b[0m\u001b[0;34m)\u001b[0m\u001b[0;34m\u001b[0m\u001b[0;34m\u001b[0m\u001b[0m\n\u001b[0m",
      "\u001b[0;32m<ipython-input-13-069a99fff49a>\u001b[0m in \u001b[0;36mtestt\u001b[0;34m()\u001b[0m\n\u001b[1;32m      4\u001b[0m \u001b[0;32mdef\u001b[0m \u001b[0mtestt\u001b[0m\u001b[0;34m(\u001b[0m\u001b[0;34m)\u001b[0m\u001b[0;34m:\u001b[0m\u001b[0;34m\u001b[0m\u001b[0;34m\u001b[0m\u001b[0m\n\u001b[1;32m      5\u001b[0m     \u001b[0ma\u001b[0m\u001b[0;34m=\u001b[0m\u001b[0;36m4\u001b[0m\u001b[0;34m\u001b[0m\u001b[0;34m\u001b[0m\u001b[0m\n\u001b[0;32m----> 6\u001b[0;31m     \u001b[0mtestt1\u001b[0m\u001b[0;34m(\u001b[0m\u001b[0;34m)\u001b[0m\u001b[0;34m\u001b[0m\u001b[0;34m\u001b[0m\u001b[0m\n\u001b[0m\u001b[1;32m      7\u001b[0m \u001b[0;34m\u001b[0m\u001b[0m\n\u001b[1;32m      8\u001b[0m \u001b[0mtestt\u001b[0m\u001b[0;34m(\u001b[0m\u001b[0;34m)\u001b[0m\u001b[0;34m\u001b[0m\u001b[0;34m\u001b[0m\u001b[0m\n",
      "\u001b[0;32m<ipython-input-13-069a99fff49a>\u001b[0m in \u001b[0;36mtestt1\u001b[0;34m()\u001b[0m\n\u001b[1;32m      1\u001b[0m \u001b[0;32mdef\u001b[0m \u001b[0mtestt1\u001b[0m\u001b[0;34m(\u001b[0m\u001b[0;34m)\u001b[0m\u001b[0;34m:\u001b[0m\u001b[0;34m\u001b[0m\u001b[0;34m\u001b[0m\u001b[0m\n\u001b[0;32m----> 2\u001b[0;31m     \u001b[0mprint\u001b[0m\u001b[0;34m(\u001b[0m\u001b[0ma\u001b[0m\u001b[0;34m)\u001b[0m\u001b[0;34m\u001b[0m\u001b[0;34m\u001b[0m\u001b[0m\n\u001b[0m\u001b[1;32m      3\u001b[0m \u001b[0;34m\u001b[0m\u001b[0m\n\u001b[1;32m      4\u001b[0m \u001b[0;32mdef\u001b[0m \u001b[0mtestt\u001b[0m\u001b[0;34m(\u001b[0m\u001b[0;34m)\u001b[0m\u001b[0;34m:\u001b[0m\u001b[0;34m\u001b[0m\u001b[0;34m\u001b[0m\u001b[0m\n\u001b[1;32m      5\u001b[0m     \u001b[0ma\u001b[0m\u001b[0;34m=\u001b[0m\u001b[0;36m4\u001b[0m\u001b[0;34m\u001b[0m\u001b[0;34m\u001b[0m\u001b[0m\n",
      "\u001b[0;31mNameError\u001b[0m: name 'a' is not defined"
     ]
    }
   ],
   "source": [
    "def testt1():\n",
    "    print(a)\n",
    "\n",
    "def testt():\n",
    "    a=4\n",
    "    testt1()\n",
    "    \n",
    "testt()"
   ]
  },
  {
   "cell_type": "code",
   "execution_count": null,
   "metadata": {},
   "outputs": [],
   "source": []
  },
  {
   "cell_type": "code",
   "execution_count": 14,
   "metadata": {},
   "outputs": [
    {
     "ename": "NameError",
     "evalue": "name 'main_line' is not defined",
     "output_type": "error",
     "traceback": [
      "\u001b[0;31m\u001b[0m",
      "\u001b[0;31mNameError\u001b[0mTraceback (most recent call last)",
      "\u001b[0;32m<ipython-input-14-9bed2eda3a81>\u001b[0m in \u001b[0;36m<module>\u001b[0;34m\u001b[0m\n\u001b[0;32m----> 1\u001b[0;31m \u001b[0mmerge_sentences\u001b[0m\u001b[0;34m(\u001b[0m \u001b[0mlines\u001b[0m \u001b[0;34m)\u001b[0m\u001b[0;34m\u001b[0m\u001b[0;34m\u001b[0m\u001b[0m\n\u001b[0m",
      "\u001b[0;32m<ipython-input-12-aa12107e8246>\u001b[0m in \u001b[0;36mmerge_sentences\u001b[0;34m(lines)\u001b[0m\n\u001b[1;32m     61\u001b[0m         \u001b[0mlast_sentence\u001b[0m \u001b[0;34m=\u001b[0m \u001b[0mre\u001b[0m\u001b[0;34m.\u001b[0m\u001b[0msub\u001b[0m\u001b[0;34m(\u001b[0m\u001b[0;34mr'\\s*[.]\\s*$'\u001b[0m\u001b[0;34m,\u001b[0m \u001b[0;34m'. '\u001b[0m\u001b[0;34m,\u001b[0m \u001b[0mlast_sentence\u001b[0m\u001b[0;34m)\u001b[0m\u001b[0;34m\u001b[0m\u001b[0;34m\u001b[0m\u001b[0m\n\u001b[1;32m     62\u001b[0m \u001b[0;34m\u001b[0m\u001b[0m\n\u001b[0;32m---> 63\u001b[0;31m         \u001b[0mmerged_sentence\u001b[0m\u001b[0;34m=\u001b[0m\u001b[0mhandle_root_list\u001b[0m\u001b[0;34m(\u001b[0m\u001b[0mmain_sentences\u001b[0m\u001b[0;34m,\u001b[0m \u001b[0mlast_sentence\u001b[0m\u001b[0;34m,\u001b[0m \u001b[0mmain_line_other_line\u001b[0m\u001b[0;34m[\u001b[0m\u001b[0;36m1\u001b[0m\u001b[0;34m]\u001b[0m\u001b[0;34m)\u001b[0m\u001b[0;34m\u001b[0m\u001b[0;34m\u001b[0m\u001b[0m\n\u001b[0m\u001b[1;32m     64\u001b[0m         \u001b[0mmerged_sentences\u001b[0m\u001b[0;34m+=\u001b[0m \u001b[0mbreak_long_paragraphs\u001b[0m\u001b[0;34m(\u001b[0m \u001b[0mmerged_sentence\u001b[0m \u001b[0;34m)\u001b[0m\u001b[0;34m\u001b[0m\u001b[0;34m\u001b[0m\u001b[0m\n\u001b[1;32m     65\u001b[0m \u001b[0;34m\u001b[0m\u001b[0m\n",
      "\u001b[0;32m<ipython-input-11-13913a03d961>\u001b[0m in \u001b[0;36mhandle_root_list\u001b[0;34m(main_sentences, last_sentence, other_lines)\u001b[0m\n\u001b[1;32m     74\u001b[0m         \u001b[0mlist_action\u001b[0m \u001b[0;34m=\u001b[0m \u001b[0;34m'ADD_IN_SENTENCE'\u001b[0m\u001b[0;34m\u001b[0m\u001b[0;34m\u001b[0m\u001b[0m\n\u001b[1;32m     75\u001b[0m         \u001b[0mlist_comma_handling\u001b[0m \u001b[0;34m=\u001b[0m \u001b[0;34m'COMMA'\u001b[0m\u001b[0;34m\u001b[0m\u001b[0;34m\u001b[0m\u001b[0m\n\u001b[0;32m---> 76\u001b[0;31m     \u001b[0;32melif\u001b[0m \u001b[0mre\u001b[0m\u001b[0;34m.\u001b[0m\u001b[0msearch\u001b[0m\u001b[0;34m(\u001b[0m\u001b[0;34mr' points? \\( ?(a|i) ?\\)'\u001b[0m\u001b[0;34m,\u001b[0m \u001b[0mmain_line\u001b[0m\u001b[0;34m)\u001b[0m \u001b[0;32mand\u001b[0m \u001b[0mre\u001b[0m\u001b[0;34m.\u001b[0m\u001b[0msearch\u001b[0m\u001b[0;34m(\u001b[0m\u001b[0;34mr' points? \\( ?(a|i) ?\\)'\u001b[0m\u001b[0;34m,\u001b[0m \u001b[0mre\u001b[0m\u001b[0;34m.\u001b[0m\u001b[0msub\u001b[0m\u001b[0;34m(\u001b[0m\u001b[0;34mr'(for the purposes? of( the)? points?|points? \\([^)]+\\)( (and|to) \\([^)]+\\))? ?of )'\u001b[0m\u001b[0;34m,\u001b[0m \u001b[0;34mr''\u001b[0m\u001b[0;34m,\u001b[0m \u001b[0mre\u001b[0m\u001b[0;34m.\u001b[0m\u001b[0msub\u001b[0m\u001b[0;34m(\u001b[0m\u001b[0;34mr' ?of this paragraph'\u001b[0m\u001b[0;34m,\u001b[0m\u001b[0;34mr''\u001b[0m\u001b[0;34m,\u001b[0m\u001b[0mmain_line\u001b[0m\u001b[0;34m,\u001b[0m \u001b[0mre\u001b[0m\u001b[0;34m.\u001b[0m\u001b[0mIGNORECASE\u001b[0m\u001b[0;34m)\u001b[0m\u001b[0;34m,\u001b[0m \u001b[0mre\u001b[0m\u001b[0;34m.\u001b[0m\u001b[0mIGNORECASE\u001b[0m\u001b[0;34m)\u001b[0m\u001b[0;34m)\u001b[0m\u001b[0;34m:\u001b[0m\u001b[0;34m\u001b[0m\u001b[0;34m\u001b[0m\u001b[0m\n\u001b[0m\u001b[1;32m     77\u001b[0m         \u001b[0mlist_action\u001b[0m \u001b[0;34m=\u001b[0m \u001b[0;34m'KEEP_OUT'\u001b[0m\u001b[0;34m\u001b[0m\u001b[0;34m\u001b[0m\u001b[0m\n\u001b[1;32m     78\u001b[0m         \u001b[0mlist_comma_handling\u001b[0m \u001b[0;34m=\u001b[0m \u001b[0;34m'NO_COMMA'\u001b[0m\u001b[0;34m\u001b[0m\u001b[0;34m\u001b[0m\u001b[0m\n",
      "\u001b[0;31mNameError\u001b[0m: name 'main_line' is not defined"
     ]
    }
   ],
   "source": [
    "merge_sentences( lines )"
   ]
  },
  {
   "cell_type": "code",
   "execution_count": null,
   "metadata": {},
   "outputs": [],
   "source": []
  },
  {
   "cell_type": "code",
   "execution_count": null,
   "metadata": {},
   "outputs": [],
   "source": []
  },
  {
   "cell_type": "code",
   "execution_count": null,
   "metadata": {},
   "outputs": [],
   "source": []
  },
  {
   "cell_type": "code",
   "execution_count": null,
   "metadata": {},
   "outputs": [],
   "source": []
  },
  {
   "cell_type": "code",
   "execution_count": null,
   "metadata": {},
   "outputs": [],
   "source": []
  },
  {
   "cell_type": "code",
   "execution_count": 16,
   "metadata": {},
   "outputs": [
    {
     "data": {
      "text/plain": [
       "['ANNEX I',\n",
       " 'Formulae for the determination of the liquidity buffer composition Credit institution shall use the formulae laid down in this Annex to determine the composition of their  liquidity buffer in accordance with Article 17.',\n",
       " 'Formulae for the determination of the liquidity buffer composition Calculation of the liquidity buffer: as of the calculation date, the liquidity buffer of the credit institution shall be equal to ❬the level 1 asset amount; plus ‖ and/or the level 2A asset amount; plus ‖ and/or the level 2B asset amount ‖ and/or minus the lesser of ‖ and/or the sum of (a), (b), and (c) ‖ and/or the ‘excess liquid assets amount’ as calculated in accordance with paragraphs 3 and 4 of this Annex❭.',\n",
       " 'Formulae for the determination of the liquidity buffer composition ‘Excess liquid assets’ amount: this amount shall be comprised of the components defined herein ❬an adjusted non-covered bond level 1 assets amount, which shall be equal to the value of all level 1 liquid assets, excluding level&nbsp;1 covered bonds, that would be held by the credit institution upon the unwind of any secured funding transaction, secured lending transaction, asset exchange or collateralised derivatives transaction that matures within 30&nbsp;calendar days from the calculation date and where the credit institution and the counterparty exchange liquid assets on at least one leg of the transaction ‖ and/or an adjusted level 1 covered bonds amount, which shall be equal to the value post-haircuts of all level 1 covered bonds that would be held by the credit institution upon the unwind of any secured funding transaction, secured lending transaction, asset exchange or collateralised derivatives transaction that matures within 30&nbsp;calendar days from the calculation date and where the credit institution and the counterparty exchange liquid assets on at least one leg of the transaction ‖ and/or adjusted level 2A asset amount, which shall be equal to the value post-haircuts of all level 2A assets that would be held by the credit institution upon the unwind of any secured funding transaction, secured lending transaction, asset exchange or collateralised derivatives transaction that matures within 30&nbsp;calendar days from the calculation date and where the credit institution and the counterparty exchange liquid assets on at least one leg of the transaction ‖ and/or adjusted level 2B asset amount, which shall be equal to the value post-haircuts of all level 2B assets that would be held by the credit institution upon the unwind of any secured funding transaction, secured lending transaction, asset exchange or collateralised derivatives transaction that matures within 30 calendar days from the calculation date and where the credit institution and the counterparty exchange liquid assets on at least one leg of the transaction❭.',\n",
       " 'Formulae for the determination of the liquidity buffer composition Calculation of the ‘excess liquid assets amount’: this amount shall be equal to ❬the adjusted non-covered bond level 1 asset amount; plus ‖ and/or the adjusted level 1 covered bond amount; plus ‖ and/or the adjusted level 2A asset amount; plus ‖ and/or the adjusted level 2B asset amount ‖ and/or minus the lesser of ‖ and/or the sum of (a),(b),(c) and (d) ‖ and/or 100/30 times (a) ‖ and/or 100/60 times the sum of (a) and (b) ‖ and/or 100/85 times the sum of (a), (b) and (c)❭.',\n",
       " 'Formulae for the determination of the liquidity buffer composition The composition of the liquidity buffer after taking into account the unwind of any secured funding transaction, secured lending transaction, asset exchange or collateralised derivatives transaction and the application of the above caps in accordance with Article 17 shall be determined as follows ❬&nbsp ‖ and/or a″ (the adjusted non-covered bond level 1 asset amount after cap application) ‖ and/or =&nbsp;a (the adjusted non-covered bond level 1 asset amount before cap application) ‖ and/or &nbsp ‖ and/or b″ (the adjusted covered bond level 1asset amount after cap application) ‖ and/or =&nbsp;MIN(b, a70/30) ‖ and/or where b = the adjusted covered bond level 1 asset amount before cap application ‖ and/or &nbsp ‖ and/or c″ (the adjusted level 2A asset amount after cap application) ‖ and/or =&nbsp;MIN(c, (a + b″)40/60, MAX(a70/30 – b″, 0)) ‖ and/or where c = the adjusted level 2A asset amount before cap application ‖ and/or &nbsp ‖ and/or d″ (the adjusted level 2B asset amount after cap application) ‖ and/or =&nbsp;MIN (d, (a + b″ + c″)15/85, MAX((a + b″)40/60 – c″, 0), MAX(70/30a – b″ – c″, 0)) ‖ and/or Where d = the adjusted level 2B asset amount before cap application)❭.']"
      ]
     },
     "execution_count": 16,
     "metadata": {},
     "output_type": "execute_result"
    }
   ],
   "source": [
    "merged_sentences"
   ]
  },
  {
   "cell_type": "code",
   "execution_count": 13,
   "metadata": {},
   "outputs": [
    {
     "name": "stdout",
     "output_type": "stream",
     "text": [
      "dsf\n"
     ]
    }
   ],
   "source": [
    "if re.search(r'^ *Formulae for', main_line.strip()): #Added by AD\n",
    "    print(\"dsf\")"
   ]
  },
  {
   "cell_type": "code",
   "execution_count": 14,
   "metadata": {},
   "outputs": [
    {
     "data": {
      "text/plain": [
       "['Formulae for the determination of the liquidity buffer composition, , Credit institution shall use the formulae laid down in this Annex to determine the composition of their  liquidity buffer in accordance with Article 17.',\n",
       " 'Formulae for the determination of the liquidity buffer composition, , Calculation of the liquidity buffer: as of the calculation date, the liquidity buffer of the credit institution shall be equal to ❬the level 1 asset amount; plus ‖ and/or the level 2A asset amount; plus ‖ and/or the level 2B asset amount ‖ and/or minus the lesser of ‖ and/or the sum of (a), (b), and (c) ‖ and/or the ‘excess liquid assets amount’ as calculated in accordance with paragraphs 3 and 4 of this Annex❭.',\n",
       " 'Formulae for the determination of the liquidity buffer composition, , ‘Excess liquid assets’ amount: this amount shall be comprised of the components defined herein ❬an adjusted non-covered bond level 1 assets amount, which shall be equal to the value of all level 1 liquid assets, excluding level&nbsp;1 covered bonds, that would be held by the credit institution upon the unwind of any secured funding transaction, secured lending transaction, asset exchange or collateralised derivatives transaction that matures within 30&nbsp;calendar days from the calculation date and where the credit institution and the counterparty exchange liquid assets on at least one leg of the transaction ‖ and/or an adjusted level 1 covered bonds amount, which shall be equal to the value post-haircuts of all level 1 covered bonds that would be held by the credit institution upon the unwind of any secured funding transaction, secured lending transaction, asset exchange or collateralised derivatives transaction that matures within 30&nbsp;calendar days from the calculation date and where the credit institution and the counterparty exchange liquid assets on at least one leg of the transaction ‖ and/or adjusted level 2A asset amount, which shall be equal to the value post-haircuts of all level 2A assets that would be held by the credit institution upon the unwind of any secured funding transaction, secured lending transaction, asset exchange or collateralised derivatives transaction that matures within 30&nbsp;calendar days from the calculation date and where the credit institution and the counterparty exchange liquid assets on at least one leg of the transaction ‖ and/or adjusted level 2B asset amount, which shall be equal to the value post-haircuts of all level 2B assets that would be held by the credit institution upon the unwind of any secured funding transaction, secured lending transaction, asset exchange or collateralised derivatives transaction that matures within 30 calendar days from the calculation date and where the credit institution and the counterparty exchange liquid assets on at least one leg of the transaction❭.',\n",
       " 'Formulae for the determination of the liquidity buffer composition, , Calculation of the ‘excess liquid assets amount’: this amount shall be equal to ❬the adjusted non-covered bond level 1 asset amount; plus ‖ and/or the adjusted level 1 covered bond amount; plus ‖ and/or the adjusted level 2A asset amount; plus ‖ and/or the adjusted level 2B asset amount ‖ and/or minus the lesser of ‖ and/or the sum of (a),(b),(c) and (d) ‖ and/or 100/30 times (a) ‖ and/or 100/60 times the sum of (a) and (b) ‖ and/or 100/85 times the sum of (a), (b) and (c)❭.',\n",
       " 'Formulae for the determination of the liquidity buffer composition, , The composition of the liquidity buffer after taking into account the unwind of any secured funding transaction, secured lending transaction, asset exchange or collateralised derivatives transaction and the application of the above caps in accordance with Article 17 shall be determined as follows ❬&nbsp ‖ and/or a″ (the adjusted non-covered bond level 1 asset amount after cap application) ‖ and/or =&nbsp;a (the adjusted non-covered bond level 1 asset amount before cap application) ‖ and/or &nbsp ‖ and/or b″ (the adjusted covered bond level 1asset amount after cap application) ‖ and/or =&nbsp;MIN(b, a70/30) ‖ and/or where b = the adjusted covered bond level 1 asset amount before cap application ‖ and/or &nbsp ‖ and/or c″ (the adjusted level 2A asset amount after cap application) ‖ and/or =&nbsp;MIN(c, (a + b″)40/60, MAX(a70/30 – b″, 0)) ‖ and/or where c = the adjusted level 2A asset amount before cap application ‖ and/or &nbsp ‖ and/or d″ (the adjusted level 2B asset amount after cap application) ‖ and/or =&nbsp;MIN (d, (a + b″ + c″)15/85, MAX((a + b″)40/60 – c″, 0), MAX(70/30a – b″ – c″, 0)) ‖ and/or Where d = the adjusted level 2B asset amount before cap application)❭.']"
      ]
     },
     "execution_count": 14,
     "metadata": {},
     "output_type": "execute_result"
    }
   ],
   "source": [
    "main_sentences"
   ]
  },
  {
   "cell_type": "code",
   "execution_count": 15,
   "metadata": {},
   "outputs": [
    {
     "data": {
      "text/plain": [
       "['ANNEX I',\n",
       " 'Formulae for the determination of the liquidity buffer composition, , Credit institution shall use the formulae laid down in this Annex to determine the composition of their  liquidity buffer in accordance with Article 17.',\n",
       " 'Formulae for the determination of the liquidity buffer composition, , Calculation of the liquidity buffer: as of the calculation date, the liquidity buffer of the credit institution shall be equal to ❬the level 1 asset amount; plus ‖ and/or the level 2A asset amount; plus ‖ and/or the level 2B asset amount ‖ and/or minus the lesser of ‖ and/or the sum of (a), (b), and (c) ‖ and/or the ‘excess liquid assets amount’ as calculated in accordance with paragraphs 3 and 4 of this Annex❭.',\n",
       " 'Formulae for the determination of the liquidity buffer composition, , ‘Excess liquid assets’ amount: this amount shall be comprised of the components defined herein ❬an adjusted non-covered bond level 1 assets amount, which shall be equal to the value of all level 1 liquid assets, excluding level&nbsp;1 covered bonds, that would be held by the credit institution upon the unwind of any secured funding transaction, secured lending transaction, asset exchange or collateralised derivatives transaction that matures within 30&nbsp;calendar days from the calculation date and where the credit institution and the counterparty exchange liquid assets on at least one leg of the transaction ‖ and/or an adjusted level 1 covered bonds amount, which shall be equal to the value post-haircuts of all level 1 covered bonds that would be held by the credit institution upon the unwind of any secured funding transaction, secured lending transaction, asset exchange or collateralised derivatives transaction that matures within 30&nbsp;calendar days from the calculation date and where the credit institution and the counterparty exchange liquid assets on at least one leg of the transaction ‖ and/or adjusted level 2A asset amount, which shall be equal to the value post-haircuts of all level 2A assets that would be held by the credit institution upon the unwind of any secured funding transaction, secured lending transaction, asset exchange or collateralised derivatives transaction that matures within 30&nbsp;calendar days from the calculation date and where the credit institution and the counterparty exchange liquid assets on at least one leg of the transaction ‖ and/or adjusted level 2B asset amount, which shall be equal to the value post-haircuts of all level 2B assets that would be held by the credit institution upon the unwind of any secured funding transaction, secured lending transaction, asset exchange or collateralised derivatives transaction that matures within 30 calendar days from the calculation date and where the credit institution and the counterparty exchange liquid assets on at least one leg of the transaction❭.',\n",
       " 'Formulae for the determination of the liquidity buffer composition, , Calculation of the ‘excess liquid assets amount’: this amount shall be equal to ❬the adjusted non-covered bond level 1 asset amount; plus ‖ and/or the adjusted level 1 covered bond amount; plus ‖ and/or the adjusted level 2A asset amount; plus ‖ and/or the adjusted level 2B asset amount ‖ and/or minus the lesser of ‖ and/or the sum of (a),(b),(c) and (d) ‖ and/or 100/30 times (a) ‖ and/or 100/60 times the sum of (a) and (b) ‖ and/or 100/85 times the sum of (a), (b) and (c)❭.',\n",
       " 'Formulae for the determination of the liquidity buffer composition, , The composition of the liquidity buffer after taking into account the unwind of any secured funding transaction, secured lending transaction, asset exchange or collateralised derivatives transaction and the application of the above caps in accordance with Article 17 shall be determined as follows ❬&nbsp ‖ and/or a″ (the adjusted non-covered bond level 1 asset amount after cap application) ‖ and/or =&nbsp;a (the adjusted non-covered bond level 1 asset amount before cap application) ‖ and/or &nbsp ‖ and/or b″ (the adjusted covered bond level 1asset amount after cap application) ‖ and/or =&nbsp;MIN(b, a70/30) ‖ and/or where b = the adjusted covered bond level 1 asset amount before cap application ‖ and/or &nbsp ‖ and/or c″ (the adjusted level 2A asset amount after cap application) ‖ and/or =&nbsp;MIN(c, (a + b″)40/60, MAX(a70/30 – b″, 0)) ‖ and/or where c = the adjusted level 2A asset amount before cap application ‖ and/or &nbsp ‖ and/or d″ (the adjusted level 2B asset amount after cap application) ‖ and/or =&nbsp;MIN (d, (a + b″ + c″)15/85, MAX((a + b″)40/60 – c″, 0), MAX(70/30a – b″ – c″, 0)) ‖ and/or Where d = the adjusted level 2B asset amount before cap application)❭.']"
      ]
     },
     "execution_count": 15,
     "metadata": {},
     "output_type": "execute_result"
    }
   ],
   "source": [
    "merged_sentences"
   ]
  },
  {
   "cell_type": "code",
   "execution_count": 16,
   "metadata": {},
   "outputs": [
    {
     "data": {
      "text/plain": [
       "' ssds '"
      ]
     },
     "execution_count": 16,
     "metadata": {},
     "output_type": "execute_result"
    }
   ],
   "source": [
    "text=' ssds\\n'\n",
    "re.sub( r'\\n$ *' , r' ' , text )"
   ]
  },
  {
   "cell_type": "code",
   "execution_count": 15,
   "metadata": {
    "scrolled": true
   },
   "outputs": [
    {
     "data": {
      "text/plain": [
       "[('ANNEX I', None),\n",
       " ('\\r\\n Formulae for the determination of the liquidity buffer composition\\r\\n',\n",
       "  ['Credit institution shall use the formulae laid down in this Annex to determine the composition of their  liquidity buffer in accordance with Article 17',\n",
       "   'Calculation of the liquidity buffer: as of the calculation date, the liquidity buffer of the credit institution shall be equal to ❬the level 1 asset amount; plus ‖ and/or the level 2A asset amount; plus ‖ and/or the level 2B asset amount ‖ and/or minus the lesser of ‖ and/or the sum of (a), (b), and (c) ‖ and/or the ‘excess liquid assets amount’ as calculated in accordance with paragraphs 3 and 4 of this Annex❭',\n",
       "   '‘Excess liquid assets’ amount: this amount shall be comprised of the components defined herein ❬an adjusted non-covered bond level 1 assets amount, which shall be equal to the value of all level 1 liquid assets, excluding level&nbsp;1 covered bonds, that would be held by the credit institution upon the unwind of any secured funding transaction, secured lending transaction, asset exchange or collateralised derivatives transaction that matures within 30&nbsp;calendar days from the calculation date and where the credit institution and the counterparty exchange liquid assets on at least one leg of the transaction ‖ and/or an adjusted level 1 covered bonds amount, which shall be equal to the value post-haircuts of all level 1 covered bonds that would be held by the credit institution upon the unwind of any secured funding transaction, secured lending transaction, asset exchange or collateralised derivatives transaction that matures within 30&nbsp;calendar days from the calculation date and where the credit institution and the counterparty exchange liquid assets on at least one leg of the transaction ‖ and/or adjusted level 2A asset amount, which shall be equal to the value post-haircuts of all level 2A assets that would be held by the credit institution upon the unwind of any secured funding transaction, secured lending transaction, asset exchange or collateralised derivatives transaction that matures within 30&nbsp;calendar days from the calculation date and where the credit institution and the counterparty exchange liquid assets on at least one leg of the transaction ‖ and/or adjusted level 2B asset amount, which shall be equal to the value post-haircuts of all level 2B assets that would be held by the credit institution upon the unwind of any secured funding transaction, secured lending transaction, asset exchange or collateralised derivatives transaction that matures within 30 calendar days from the calculation date and where the credit institution and the counterparty exchange liquid assets on at least one leg of the transaction❭',\n",
       "   'Calculation of the ‘excess liquid assets amount’: this amount shall be equal to ❬the adjusted non-covered bond level 1 asset amount; plus ‖ and/or the adjusted level 1 covered bond amount; plus ‖ and/or the adjusted level 2A asset amount; plus ‖ and/or the adjusted level 2B asset amount ‖ and/or minus the lesser of ‖ and/or the sum of (a),(b),(c) and (d) ‖ and/or 100/30 times (a) ‖ and/or 100/60 times the sum of (a) and (b) ‖ and/or 100/85 times the sum of (a), (b) and (c)❭',\n",
       "   'The composition of the liquidity buffer after taking into account the unwind of any secured funding transaction, secured lending transaction, asset exchange or collateralised derivatives transaction and the application of the above caps in accordance with Article 17 shall be determined as follows ❬&nbsp ‖ and/or a″ (the adjusted non-covered bond level 1 asset amount after cap application) ‖ and/or =&nbsp;a (the adjusted non-covered bond level 1 asset amount before cap application) ‖ and/or &nbsp ‖ and/or b″ (the adjusted covered bond level 1asset amount after cap application) ‖ and/or =&nbsp;MIN(b, a70/30) ‖ and/or where b = the adjusted covered bond level 1 asset amount before cap application ‖ and/or &nbsp ‖ and/or c″ (the adjusted level 2A asset amount after cap application) ‖ and/or =&nbsp;MIN(c, (a + b″)40/60, MAX(a70/30 – b″, 0)) ‖ and/or where c = the adjusted level 2A asset amount before cap application ‖ and/or &nbsp ‖ and/or d″ (the adjusted level 2B asset amount after cap application) ‖ and/or =&nbsp;MIN (d, (a + b″ + c″)15/85, MAX((a + b″)40/60 – c″, 0), MAX(70/30a – b″ – c″, 0)) ‖ and/or Where d = the adjusted level 2B asset amount before cap application)❭'])]"
      ]
     },
     "execution_count": 15,
     "metadata": {},
     "output_type": "execute_result"
    }
   ],
   "source": [
    "main_line_other_lines"
   ]
  },
  {
   "cell_type": "code",
   "execution_count": 17,
   "metadata": {},
   "outputs": [
    {
     "data": {
      "text/plain": [
       "['ANNEX I',\n",
       " 'Formulae for the determination of the liquidity buffer compositionCredit institution shall use the formulae laid down in this Annex to determine the composition of their  liquidity buffer in accordance with Article 17.',\n",
       " 'Formulae for the determination of the liquidity buffer compositionCalculation of the liquidity buffer: as of the calculation date, the liquidity buffer of the credit institution shall be equal to ❬the level 1 asset amount; plus ‖ and/or the level 2A asset amount; plus ‖ and/or the level 2B asset amount ‖ and/or minus the lesser of ‖ and/or the sum of (a), (b), and (c) ‖ and/or the ‘excess liquid assets amount’ as calculated in accordance with paragraphs 3 and 4 of this Annex❭.',\n",
       " 'Formulae for the determination of the liquidity buffer composition‘Excess liquid assets’ amount: this amount shall be comprised of the components defined herein ❬an adjusted non-covered bond level 1 assets amount, which shall be equal to the value of all level 1 liquid assets, excluding level&nbsp;1 covered bonds, that would be held by the credit institution upon the unwind of any secured funding transaction, secured lending transaction, asset exchange or collateralised derivatives transaction that matures within 30&nbsp;calendar days from the calculation date and where the credit institution and the counterparty exchange liquid assets on at least one leg of the transaction ‖ and/or an adjusted level 1 covered bonds amount, which shall be equal to the value post-haircuts of all level 1 covered bonds that would be held by the credit institution upon the unwind of any secured funding transaction, secured lending transaction, asset exchange or collateralised derivatives transaction that matures within 30&nbsp;calendar days from the calculation date and where the credit institution and the counterparty exchange liquid assets on at least one leg of the transaction ‖ and/or adjusted level 2A asset amount, which shall be equal to the value post-haircuts of all level 2A assets that would be held by the credit institution upon the unwind of any secured funding transaction, secured lending transaction, asset exchange or collateralised derivatives transaction that matures within 30&nbsp;calendar days from the calculation date and where the credit institution and the counterparty exchange liquid assets on at least one leg of the transaction ‖ and/or adjusted level 2B asset amount, which shall be equal to the value post-haircuts of all level 2B assets that would be held by the credit institution upon the unwind of any secured funding transaction, secured lending transaction, asset exchange or collateralised derivatives transaction that matures within 30 calendar days from the calculation date and where the credit institution and the counterparty exchange liquid assets on at least one leg of the transaction❭.',\n",
       " 'Formulae for the determination of the liquidity buffer compositionCalculation of the ‘excess liquid assets amount’: this amount shall be equal to ❬the adjusted non-covered bond level 1 asset amount; plus ‖ and/or the adjusted level 1 covered bond amount; plus ‖ and/or the adjusted level 2A asset amount; plus ‖ and/or the adjusted level 2B asset amount ‖ and/or minus the lesser of ‖ and/or the sum of (a),(b),(c) and (d) ‖ and/or 100/30 times (a) ‖ and/or 100/60 times the sum of (a) and (b) ‖ and/or 100/85 times the sum of (a), (b) and (c)❭.',\n",
       " 'Formulae for the determination of the liquidity buffer compositionThe composition of the liquidity buffer after taking into account the unwind of any secured funding transaction, secured lending transaction, asset exchange or collateralised derivatives transaction and the application of the above caps in accordance with Article 17 shall be determined as follows ❬&nbsp ‖ and/or a″ (the adjusted non-covered bond level 1 asset amount after cap application) ‖ and/or =&nbsp;a (the adjusted non-covered bond level 1 asset amount before cap application) ‖ and/or &nbsp ‖ and/or b″ (the adjusted covered bond level 1asset amount after cap application) ‖ and/or =&nbsp;MIN(b, a70/30) ‖ and/or where b = the adjusted covered bond level 1 asset amount before cap application ‖ and/or &nbsp ‖ and/or c″ (the adjusted level 2A asset amount after cap application) ‖ and/or =&nbsp;MIN(c, (a + b″)40/60, MAX(a70/30 – b″, 0)) ‖ and/or where c = the adjusted level 2A asset amount before cap application ‖ and/or &nbsp ‖ and/or d″ (the adjusted level 2B asset amount after cap application) ‖ and/or =&nbsp;MIN (d, (a + b″ + c″)15/85, MAX((a + b″)40/60 – c″, 0), MAX(70/30a – b″ – c″, 0)) ‖ and/or Where d = the adjusted level 2B asset amount before cap application)❭.']"
      ]
     },
     "execution_count": 17,
     "metadata": {},
     "output_type": "execute_result"
    }
   ],
   "source": [
    "merged_sentences"
   ]
  },
  {
   "cell_type": "code",
   "execution_count": 24,
   "metadata": {},
   "outputs": [
    {
     "name": "stdout",
     "output_type": "stream",
     "text": [
      "\n",
      " Formulae for the determination of the liquidity buffer composition\n",
      "\n"
     ]
    }
   ],
   "source": [
    "main_line=main_line_other_lines[1][0]\n",
    "\n",
    "print( main_line )\n",
    "\n",
    "main_sentences = list(map(lambda s: re.sub(r'[)](?![ ,;:.?! ()])(?!th)', r') ',s.text.rstrip()), sentencizer(main_line).sents)) "
   ]
  },
  {
   "cell_type": "code",
   "execution_count": 28,
   "metadata": {},
   "outputs": [
    {
     "data": {
      "text/plain": [
       "['\\r\\n Formulae for the determination of the liquidity buffer composition']"
      ]
     },
     "execution_count": 28,
     "metadata": {},
     "output_type": "execute_result"
    }
   ],
   "source": [
    "main_sentences"
   ]
  },
  {
   "cell_type": "code",
   "execution_count": 27,
   "metadata": {},
   "outputs": [
    {
     "data": {
      "text/plain": [
       "['\\r\\n Formulae for the determination of the liquidity buffer composition']"
      ]
     },
     "execution_count": 27,
     "metadata": {},
     "output_type": "execute_result"
    }
   ],
   "source": [
    "main_sentences"
   ]
  },
  {
   "cell_type": "code",
   "execution_count": 29,
   "metadata": {},
   "outputs": [
    {
     "data": {
      "text/plain": [
       "'\\r\\n Formulae for the determination of the liquidity buffer composition'"
      ]
     },
     "execution_count": 29,
     "metadata": {},
     "output_type": "execute_result"
    }
   ],
   "source": [
    "main_sentences[0]"
   ]
  },
  {
   "cell_type": "code",
   "execution_count": 15,
   "metadata": {},
   "outputs": [
    {
     "data": {
      "text/plain": [
       "['\\r\\n Formulae for the determination of the liquidity buffer compositionCredit institution shall use the formulae laid down in this Annex to determine the composition of their  liquidity buffer in accordance with Article 17.',\n",
       " '\\r\\n Formulae for the determination of the liquidity buffer compositionCalculation of the liquidity buffer: as of the calculation date, the liquidity buffer of the credit institution shall be equal to ❬the level 1 asset amount; plus ‖ and/or the level 2A asset amount; plus ‖ and/or the level 2B asset amount ‖ and/or minus the lesser of ‖ and/or the sum of (a), (b), and (c) ‖ and/or the ‘excess liquid assets amount’ as calculated in accordance with paragraphs 3 and 4 of this Annex❭.',\n",
       " '\\r\\n Formulae for the determination of the liquidity buffer composition‘Excess liquid assets’ amount: this amount shall be comprised of the components defined herein ❬an adjusted non-covered bond level 1 assets amount, which shall be equal to the value of all level 1 liquid assets, excluding level&nbsp;1 covered bonds, that would be held by the credit institution upon the unwind of any secured funding transaction, secured lending transaction, asset exchange or collateralised derivatives transaction that matures within 30&nbsp;calendar days from the calculation date and where the credit institution and the counterparty exchange liquid assets on at least one leg of the transaction ‖ and/or an adjusted level 1 covered bonds amount, which shall be equal to the value post-haircuts of all level 1 covered bonds that would be held by the credit institution upon the unwind of any secured funding transaction, secured lending transaction, asset exchange or collateralised derivatives transaction that matures within 30&nbsp;calendar days from the calculation date and where the credit institution and the counterparty exchange liquid assets on at least one leg of the transaction ‖ and/or adjusted level 2A asset amount, which shall be equal to the value post-haircuts of all level 2A assets that would be held by the credit institution upon the unwind of any secured funding transaction, secured lending transaction, asset exchange or collateralised derivatives transaction that matures within 30&nbsp;calendar days from the calculation date and where the credit institution and the counterparty exchange liquid assets on at least one leg of the transaction ‖ and/or adjusted level 2B asset amount, which shall be equal to the value post-haircuts of all level 2B assets that would be held by the credit institution upon the unwind of any secured funding transaction, secured lending transaction, asset exchange or collateralised derivatives transaction that matures within 30 calendar days from the calculation date and where the credit institution and the counterparty exchange liquid assets on at least one leg of the transaction❭.',\n",
       " '\\r\\n Formulae for the determination of the liquidity buffer compositionCalculation of the ‘excess liquid assets amount’: this amount shall be equal to ❬the adjusted non-covered bond level 1 asset amount; plus ‖ and/or the adjusted level 1 covered bond amount; plus ‖ and/or the adjusted level 2A asset amount; plus ‖ and/or the adjusted level 2B asset amount ‖ and/or minus the lesser of ‖ and/or the sum of (a),(b),(c) and (d) ‖ and/or 100/30 times (a) ‖ and/or 100/60 times the sum of (a) and (b) ‖ and/or 100/85 times the sum of (a), (b) and (c)❭.',\n",
       " '\\r\\n Formulae for the determination of the liquidity buffer compositionThe composition of the liquidity buffer after taking into account the unwind of any secured funding transaction, secured lending transaction, asset exchange or collateralised derivatives transaction and the application of the above caps in accordance with Article 17 shall be determined as follows ❬&nbsp ‖ and/or a″ (the adjusted non-covered bond level 1 asset amount after cap application) ‖ and/or =&nbsp;a (the adjusted non-covered bond level 1 asset amount before cap application) ‖ and/or &nbsp ‖ and/or b″ (the adjusted covered bond level 1asset amount after cap application) ‖ and/or =&nbsp;MIN(b, a70/30) ‖ and/or where b = the adjusted covered bond level 1 asset amount before cap application ‖ and/or &nbsp ‖ and/or c″ (the adjusted level 2A asset amount after cap application) ‖ and/or =&nbsp;MIN(c, (a + b″)40/60, MAX(a70/30 – b″, 0)) ‖ and/or where c = the adjusted level 2A asset amount before cap application ‖ and/or &nbsp ‖ and/or d″ (the adjusted level 2B asset amount after cap application) ‖ and/or =&nbsp;MIN (d, (a + b″ + c″)15/85, MAX((a + b″)40/60 – c″, 0), MAX(70/30a – b″ – c″, 0)) ‖ and/or Where d = the adjusted level 2B asset amount before cap application)❭.']"
      ]
     },
     "execution_count": 15,
     "metadata": {},
     "output_type": "execute_result"
    }
   ],
   "source": [
    "main_sentences"
   ]
  },
  {
   "cell_type": "code",
   "execution_count": null,
   "metadata": {},
   "outputs": [],
   "source": []
  },
  {
   "cell_type": "code",
   "execution_count": 13,
   "metadata": {},
   "outputs": [
    {
     "data": {
      "text/plain": [
       "['ANNEX I',\n",
       " 'Formulae for the determination of the liquidity buffer compositionCredit institution shall use the formulae laid down in this Annex to determine the composition of their  liquidity buffer in accordance with Article 17.',\n",
       " 'Formulae for the determination of the liquidity buffer compositionCalculation of the liquidity buffer: as of the calculation date, the liquidity buffer of the credit institution shall be equal to ❬the level 1 asset amount; plus ‖ and/or the level 2A asset amount; plus ‖ and/or the level 2B asset amount ‖ and/or minus the lesser of ‖ and/or the sum of (a), (b), and (c) ‖ and/or the ‘excess liquid assets amount’ as calculated in accordance with paragraphs 3 and 4 of this Annex❭.',\n",
       " 'Formulae for the determination of the liquidity buffer composition‘Excess liquid assets’ amount: this amount shall be comprised of the components defined herein ❬an adjusted non-covered bond level 1 assets amount, which shall be equal to the value of all level 1 liquid assets, excluding level&nbsp;1 covered bonds, that would be held by the credit institution upon the unwind of any secured funding transaction, secured lending transaction, asset exchange or collateralised derivatives transaction that matures within 30&nbsp;calendar days from the calculation date and where the credit institution and the counterparty exchange liquid assets on at least one leg of the transaction ‖ and/or an adjusted level 1 covered bonds amount, which shall be equal to the value post-haircuts of all level 1 covered bonds that would be held by the credit institution upon the unwind of any secured funding transaction, secured lending transaction, asset exchange or collateralised derivatives transaction that matures within 30&nbsp;calendar days from the calculation date and where the credit institution and the counterparty exchange liquid assets on at least one leg of the transaction ‖ and/or adjusted level 2A asset amount, which shall be equal to the value post-haircuts of all level 2A assets that would be held by the credit institution upon the unwind of any secured funding transaction, secured lending transaction, asset exchange or collateralised derivatives transaction that matures within 30&nbsp;calendar days from the calculation date and where the credit institution and the counterparty exchange liquid assets on at least one leg of the transaction ‖ and/or adjusted level 2B asset amount, which shall be equal to the value post-haircuts of all level 2B assets that would be held by the credit institution upon the unwind of any secured funding transaction, secured lending transaction, asset exchange or collateralised derivatives transaction that matures within 30 calendar days from the calculation date and where the credit institution and the counterparty exchange liquid assets on at least one leg of the transaction❭.',\n",
       " 'Formulae for the determination of the liquidity buffer compositionCalculation of the ‘excess liquid assets amount’: this amount shall be equal to ❬the adjusted non-covered bond level 1 asset amount; plus ‖ and/or the adjusted level 1 covered bond amount; plus ‖ and/or the adjusted level 2A asset amount; plus ‖ and/or the adjusted level 2B asset amount ‖ and/or minus the lesser of ‖ and/or the sum of (a),(b),(c) and (d) ‖ and/or 100/30 times (a) ‖ and/or 100/60 times the sum of (a) and (b) ‖ and/or 100/85 times the sum of (a), (b) and (c)❭.',\n",
       " 'Formulae for the determination of the liquidity buffer compositionThe composition of the liquidity buffer after taking into account the unwind of any secured funding transaction, secured lending transaction, asset exchange or collateralised derivatives transaction and the application of the above caps in accordance with Article 17 shall be determined as follows ❬&nbsp ‖ and/or a″ (the adjusted non-covered bond level 1 asset amount after cap application) ‖ and/or =&nbsp;a (the adjusted non-covered bond level 1 asset amount before cap application) ‖ and/or &nbsp ‖ and/or b″ (the adjusted covered bond level 1asset amount after cap application) ‖ and/or =&nbsp;MIN(b, a70/30) ‖ and/or where b = the adjusted covered bond level 1 asset amount before cap application ‖ and/or &nbsp ‖ and/or c″ (the adjusted level 2A asset amount after cap application) ‖ and/or =&nbsp;MIN(c, (a + b″)40/60, MAX(a70/30 – b″, 0)) ‖ and/or where c = the adjusted level 2A asset amount before cap application ‖ and/or &nbsp ‖ and/or d″ (the adjusted level 2B asset amount after cap application) ‖ and/or =&nbsp;MIN (d, (a + b″ + c″)15/85, MAX((a + b″)40/60 – c″, 0), MAX(70/30a – b″ – c″, 0)) ‖ and/or Where d = the adjusted level 2B asset amount before cap application)❭.']"
      ]
     },
     "execution_count": 13,
     "metadata": {},
     "output_type": "execute_result"
    }
   ],
   "source": [
    "merged_sentences"
   ]
  },
  {
   "cell_type": "code",
   "execution_count": 11,
   "metadata": {
    "scrolled": true
   },
   "outputs": [
    {
     "data": {
      "text/plain": [
       "['ANNEX I',\n",
       " 'Formulae for the determination of the liquidity buffer composition1.',\n",
       " 'Formulae for the determination of the liquidity buffer compositionCredit institution shall use the formulae laid down in this Annex to determine the composition of their  liquidity buffer in accordance with Article 17.',\n",
       " 'Formulae for the determination of the liquidity buffer composition2.',\n",
       " 'Formulae for the determination of the liquidity buffer compositionCalculation of the liquidity buffer: as of the calculation date, the liquidity buffer of the credit institution shall be equal to ❬the level 1 asset amount; plus ‖ and/or the level 2A asset amount; plus ‖ and/or the level 2B asset amount ‖ and/or minus the lesser of ‖ and/or the sum of (a), (b), and (c) ‖ and/or the ‘excess liquid assets amount’ as calculated in accordance with paragraphs 3 and 4 of this Annex❭.',\n",
       " 'Formulae for the determination of the liquidity buffer composition3.',\n",
       " 'Formulae for the determination of the liquidity buffer composition‘Excess liquid assets’ amount: this amount shall be comprised of the components defined herein ❬an adjusted non-covered bond level 1 assets amount, which shall be equal to the value of all level 1 liquid assets, excluding level&nbsp;1 covered bonds, that would be held by the credit institution upon the unwind of any secured funding transaction, secured lending transaction, asset exchange or collateralised derivatives transaction that matures within 30&nbsp;calendar days from the calculation date and where the credit institution and the counterparty exchange liquid assets on at least one leg of the transaction ‖ and/or an adjusted level 1 covered bonds amount, which shall be equal to the value post-haircuts of all level 1 covered bonds that would be held by the credit institution upon the unwind of any secured funding transaction, secured lending transaction, asset exchange or collateralised derivatives transaction that matures within 30&nbsp;calendar days from the calculation date and where the credit institution and the counterparty exchange liquid assets on at least one leg of the transaction ‖ and/or adjusted level 2A asset amount, which shall be equal to the value post-haircuts of all level 2A assets that would be held by the credit institution upon the unwind of any secured funding transaction, secured lending transaction, asset exchange or collateralised derivatives transaction that matures within 30&nbsp;calendar days from the calculation date and where the credit institution and the counterparty exchange liquid assets on at least one leg of the transaction ‖ and/or adjusted level 2B asset amount, which shall be equal to the value post-haircuts of all level 2B assets that would be held by the credit institution upon the unwind of any secured funding transaction, secured lending transaction, asset exchange or collateralised derivatives transaction that matures within 30 calendar days from the calculation date and where the credit institution and the counterparty exchange liquid assets on at least one leg of the transaction❭.',\n",
       " 'Formulae for the determination of the liquidity buffer composition4.',\n",
       " 'Formulae for the determination of the liquidity buffer compositionCalculation of the ‘excess liquid assets amount’: this amount shall be equal to ❬the adjusted non-covered bond level 1 asset amount; plus ‖ and/or the adjusted level 1 covered bond amount; plus ‖ and/or the adjusted level 2A asset amount; plus ‖ and/or the adjusted level 2B asset amount ‖ and/or minus the lesser of ‖ and/or the sum of (a),(b),(c) and (d) ‖ and/or 100/30 times (a) ‖ and/or 100/60 times the sum of (a) and (b) ‖ and/or 100/85 times the sum of (a), (b) and (c)❭.',\n",
       " 'Formulae for the determination of the liquidity buffer composition5.',\n",
       " 'Formulae for the determination of the liquidity buffer compositionThe composition of the liquidity buffer after taking into account the unwind of any secured funding transaction, secured lending transaction, asset exchange or collateralised derivatives transaction and the application of the above caps in accordance with Article 17 shall be determined as follows ❬&nbsp ‖ and/or a″ (the adjusted non-covered bond level 1 asset amount after cap application) ‖ and/or =&nbsp;a (the adjusted non-covered bond level 1 asset amount before cap application) ‖ and/or &nbsp ‖ and/or b″ (the adjusted covered bond level 1asset amount after cap application) ‖ and/or =&nbsp;MIN(b, a70/30) ‖ and/or where b = the adjusted covered bond level 1 asset amount before cap application ‖ and/or &nbsp ‖ and/or c″ (the adjusted level 2A asset amount after cap application) ‖ and/or =&nbsp;MIN(c, (a + b″)40/60, MAX(a70/30 – b″, 0)) ‖ and/or where c = the adjusted level 2A asset amount before cap application ‖ and/or &nbsp ‖ and/or d″ (the adjusted level 2B asset amount after cap application) ‖ and/or =&nbsp;MIN (d, (a + b″ + c″)15/85, MAX((a + b″)40/60 – c″, 0), MAX(70/30a – b″ – c″, 0)) ‖ and/or Where d = the adjusted level 2B asset amount before cap application)❭.']"
      ]
     },
     "execution_count": 11,
     "metadata": {},
     "output_type": "execute_result"
    }
   ],
   "source": [
    "merged_sentences"
   ]
  },
  {
   "cell_type": "code",
   "execution_count": null,
   "metadata": {
    "scrolled": true
   },
   "outputs": [],
   "source": []
  },
  {
   "cell_type": "code",
   "execution_count": 31,
   "metadata": {},
   "outputs": [
    {
     "data": {
      "text/plain": [
       "['1',\n",
       " 'Credit institution shall use the formulae laid down in this Annex to determine the composition of their  liquidity buffer in accordance with Article 17',\n",
       " '2',\n",
       " 'Calculation of the liquidity buffer: as of the calculation date, the liquidity buffer of the credit institution shall be equal to ❬the level 1 asset amount; plus ‖ and/or the level 2A asset amount; plus ‖ and/or the level 2B asset amount ‖ and/or minus the lesser of ‖ and/or the sum of (a), (b), and (c) ‖ and/or the ‘excess liquid assets amount’ as calculated in accordance with paragraphs 3 and 4 of this Annex❭',\n",
       " '3',\n",
       " '‘Excess liquid assets’ amount: this amount shall be comprised of the components defined herein ❬an adjusted non-covered bond level 1 assets amount, which shall be equal to the value of all level 1 liquid assets, excluding level&nbsp;1 covered bonds, that would be held by the credit institution upon the unwind of any secured funding transaction, secured lending transaction, asset exchange or collateralised derivatives transaction that matures within 30&nbsp;calendar days from the calculation date and where the credit institution and the counterparty exchange liquid assets on at least one leg of the transaction ‖ and/or an adjusted level 1 covered bonds amount, which shall be equal to the value post-haircuts of all level 1 covered bonds that would be held by the credit institution upon the unwind of any secured funding transaction, secured lending transaction, asset exchange or collateralised derivatives transaction that matures within 30&nbsp;calendar days from the calculation date and where the credit institution and the counterparty exchange liquid assets on at least one leg of the transaction ‖ and/or adjusted level 2A asset amount, which shall be equal to the value post-haircuts of all level 2A assets that would be held by the credit institution upon the unwind of any secured funding transaction, secured lending transaction, asset exchange or collateralised derivatives transaction that matures within 30&nbsp;calendar days from the calculation date and where the credit institution and the counterparty exchange liquid assets on at least one leg of the transaction ‖ and/or adjusted level 2B asset amount, which shall be equal to the value post-haircuts of all level 2B assets that would be held by the credit institution upon the unwind of any secured funding transaction, secured lending transaction, asset exchange or collateralised derivatives transaction that matures within 30 calendar days from the calculation date and where the credit institution and the counterparty exchange liquid assets on at least one leg of the transaction❭',\n",
       " '4',\n",
       " 'Calculation of the ‘excess liquid assets amount’: this amount shall be equal to ❬the adjusted non-covered bond level 1 asset amount; plus ‖ and/or the adjusted level 1 covered bond amount; plus ‖ and/or the adjusted level 2A asset amount; plus ‖ and/or the adjusted level 2B asset amount ‖ and/or minus the lesser of ‖ and/or the sum of (a),(b),(c) and (d) ‖ and/or 100/30 times (a) ‖ and/or 100/60 times the sum of (a) and (b) ‖ and/or 100/85 times the sum of (a), (b) and (c)❭',\n",
       " '5',\n",
       " 'The composition of the liquidity buffer after taking into account the unwind of any secured funding transaction, secured lending transaction, asset exchange or collateralised derivatives transaction and the application of the above caps in accordance with Article 17 shall be determined as follows ❬&nbsp ‖ and/or a″ (the adjusted non-covered bond level 1 asset amount after cap application) ‖ and/or =&nbsp;a (the adjusted non-covered bond level 1 asset amount before cap application) ‖ and/or &nbsp ‖ and/or b″ (the adjusted covered bond level 1asset amount after cap application) ‖ and/or =&nbsp;MIN(b, a70/30) ‖ and/or where b = the adjusted covered bond level 1 asset amount before cap application ‖ and/or &nbsp ‖ and/or c″ (the adjusted level 2A asset amount after cap application) ‖ and/or =&nbsp;MIN(c, (a + b″)40/60, MAX(a70/30 – b″, 0)) ‖ and/or where c = the adjusted level 2A asset amount before cap application ‖ and/or &nbsp ‖ and/or d″ (the adjusted level 2B asset amount after cap application) ‖ and/or =&nbsp;MIN (d, (a + b″ + c″)15/85, MAX((a + b″)40/60 – c″, 0), MAX(70/30a – b″ – c″, 0)) ‖ and/or Where d = the adjusted level 2B asset amount before cap application)❭']"
      ]
     },
     "execution_count": 31,
     "metadata": {},
     "output_type": "execute_result"
    }
   ],
   "source": [
    "other_lines"
   ]
  },
  {
   "cell_type": "code",
   "execution_count": null,
   "metadata": {},
   "outputs": [],
   "source": []
  },
  {
   "cell_type": "code",
   "execution_count": null,
   "metadata": {},
   "outputs": [],
   "source": []
  },
  {
   "cell_type": "code",
   "execution_count": null,
   "metadata": {},
   "outputs": [],
   "source": []
  },
  {
   "cell_type": "code",
   "execution_count": null,
   "metadata": {},
   "outputs": [],
   "source": []
  },
  {
   "cell_type": "code",
   "execution_count": null,
   "metadata": {},
   "outputs": [],
   "source": [
    "# print all the input lines, after merging lists \":\"\n",
    "input_sentences = seekable_iterator(iter(input_sentences))\n",
    "for main_line in input_sentences:\n",
    "    main_line = main_line.rstrip(\"\\n\")\n",
    "    try:\n",
    "        if re.search(r'[:]\\s*$',main_line):\n",
    "            main_sentences = list(map(lambda s: re.sub(r'[)](?![ ,;:.?! ()])(?!th)', r') ',s.text.rstrip()), sentencizer(main_line).sents))\n",
    "            last_sentence = main_sentences.pop()\n",
    "            last_sentence = re.sub(r'\\s*[:]\\s*$', ' ', last_sentence)\n",
    "\n",
    "            # gather the other lines\n",
    "            other_lines = collect_sub_lines(input_sentences, separator=None)\n",
    "\n",
    "            # only continue if there is an actual list\n",
    "            if len(other_lines) == 0:\n",
    "                print_break_long_paragraphs(main_line)\n",
    "                continue\n",
    "\n",
    "            # handle the merging of the list in the sentences\n",
    "            content_to_print = handle_root_list(main_sentences, last_sentence, other_lines)\n",
    "\n",
    "            print_break_long_paragraphs(content_to_print)\n",
    "        \n",
    "        #if no double-point in the sentence...\n",
    "        elif re.match(section_regexp, main_line, re.IGNORECASE):\n",
    "            next_line = input_sentences.next()\n",
    "            if re.match(r'^[0-9]+[.] ', next_line):\n",
    "                input_sentences.rewind()\n",
    "            else:\n",
    "                print_break_long_paragraphs(main_line + ' : ' + next_line.rstrip('\\r\\n'))\n",
    "        else: #if no double-point in the sentence, nor other special rule\n",
    "            print_break_long_paragraphs(main_line)\n",
    "    except KeyboardInterrupt:\n",
    "        raise\n",
    "    except:\n",
    "        print(\"Error in line: \" + main_line, file=sys.stderr)"
   ]
  },
  {
   "cell_type": "code",
   "execution_count": 8,
   "metadata": {
    "scrolled": true
   },
   "outputs": [
    {
     "data": {
      "text/plain": [
       "[('Article 3', None),\n",
       " ('Determination of total amount of annual contributions to be raised', None),\n",
       " ('The total amount of annual contributions to be raised for a given financial year shall be calculated on the basis of Part I of the budget adopted by the Board for that financial year in accordance with Article 61 of Regulation (EU) No 806/2014, adjusted by the result of the budget of the latest financial year for which the final accounts have been published in accordance with Article 63(7) of that Regulation.',\n",
       "  None),\n",
       " ('The Board shall determine the total amount of annual contributions so that Part I of the budget of the Board is balanced.',\n",
       "  None),\n",
       " ('Article 4', None),\n",
       " ('Allocation of total amount of annual contributions', None),\n",
       " ('1.   The total amount to be raised in accordance with Article 3 shall be allocated as follows:',\n",
       "  ['95 % to the following entities and groups ❬entities and groups referred to in Article 7(2) of Regulation (EU) No 806/2014 ‖ and/or entities and groups with regard to which the Board has decided to exercise powers under Regulation (EU) No 806/2014 pursuant to Article 7(4)(b) of that Regulation ‖ and/or entities and groups in relation to which participating Member States have decided in accordance with Article 7(5) of Regulation (EU) No 806/2014 that the Board exercise powers and responsibilities conferred to it by that Regulation❭',\n",
       "   '5 % to entities and groups referred to in Article 7(3) of Regulation (EU) No 806/2014']),\n",
       " ('2.   Without prejudice to Article 7, the Board shall assign entities and groups to one of the two categories laid down in paragraph 1 based on the data which the ECB provides to the Board in accordance with Article 6(1) or Article 11, as applicable.',\n",
       "  None),\n",
       " ('3.   Where an entity falls under the scope of paragraph 1(a), all the entities that are part of the same group shall be assigned to the same category.',\n",
       "  None),\n",
       " ('4.   The Board shall report yearly to the Commission on the appropriateness of the allocation laid down in paragraph 1, in the light of the changing composition of the two categories of entities and groups.',\n",
       "  None),\n",
       " ('Article 5', None),\n",
       " ('Calculation of the individual annual contributions', None),\n",
       " ('1.   The Board shall calculate the individual annual contributions due for each financial year on the basis of the data received in accordance with Article 6 and the total amount of annual contributions as determined in accordance with Article 3.',\n",
       "  None),\n",
       " ('2.   For the purposes of calculating the individual annual contributions, the Board shall apply the provisions laid down in Article 10(1), (2) and (3) and Article 10(6)(a), (b) and (c) of Regulation (EU) No 1163/2014.',\n",
       "  None),\n",
       " ('3.   For the purpose of applying the provisions referred to in paragraph 2:',\n",
       "  ['‘annual supervisory fee’ means individual annual contribution',\n",
       "   '‘significant supervised entity’ or ‘significant supervised group’ means an entity or group as referred to in Article 4(1)(a)',\n",
       "   '‘less significant supervised entity’ or ‘less significant supervised group’ means an entity or group as referred to in Article 4(1)(b)',\n",
       "   '‘supervised entity’ or ‘supervised group’ means any entity or group',\n",
       "   '‘fee debtor’ means contribution debtor'])]"
      ]
     },
     "execution_count": 8,
     "metadata": {},
     "output_type": "execute_result"
    }
   ],
   "source": [
    "main_line_other_lines"
   ]
  },
  {
   "cell_type": "code",
   "execution_count": 13,
   "metadata": {
    "scrolled": true
   },
   "outputs": [
    {
     "name": "stdout",
     "output_type": "stream",
     "text": [
      "1.   The total amount to be raised in accordance with Article 3 shall be allocated as described in the following list ❮95 % to the following entities and groups ❬entities and groups referred to in Article 7(2) of Regulation (EU) No 806/2014 ‖ and/or entities and groups with regard to which the Board has decided to exercise powers under Regulation (EU) No 806/2014 pursuant to Article 7(4)(b) of that Regulation ‖ and/or entities and groups in relation to which participating Member States have decided in accordance with Article 7(5) of Regulation (EU) No 806/2014 that the Board exercise powers and responsibilities conferred to it by that Regulation❭ ‖ 5 % to entities and groups referred to in Article 7(3) of Regulation (EU) No 806/2014❯\n"
     ]
    }
   ],
   "source": [
    "sentence=\"1.   The total amount to be raised in accordance with Article 3 shall be allocated as described in the following list ❮95 % to the following entities and groups ❬entities and groups referred to in Article 7(2) of Regulation (EU) No 806/2014 ‖ and/or entities and groups with regard to which the Board has decided to exercise powers under Regulation (EU) No 806/2014 pursuant to Article 7(4)(b) of that Regulation ‖ and/or entities and groups in relation to which participating Member States have decided in accordance with Article 7(5) of Regulation (EU) No 806/2014 that the Board exercise powers and responsibilities conferred to it by that Regulation❭ ‖ 5 % to entities and groups referred to in Article 7(3) of Regulation (EU) No 806/2014❯\"\n",
    "print( sentence  )\n"
   ]
  },
  {
   "cell_type": "markdown",
   "metadata": {},
   "source": [
    "# END"
   ]
  },
  {
   "cell_type": "code",
   "execution_count": null,
   "metadata": {},
   "outputs": [],
   "source": []
  },
  {
   "cell_type": "code",
   "execution_count": 76,
   "metadata": {},
   "outputs": [
    {
     "ename": "NameError",
     "evalue": "name 'main_line_other_lines' is not defined",
     "output_type": "error",
     "traceback": [
      "\u001b[0;31m\u001b[0m",
      "\u001b[0;31mNameError\u001b[0mTraceback (most recent call last)",
      "\u001b[0;32m<ipython-input-76-3788425c94cb>\u001b[0m in \u001b[0;36m<module>\u001b[0;34m\u001b[0m\n\u001b[0;32m----> 1\u001b[0;31m \u001b[0mmain_line_other_lines\u001b[0m\u001b[0;34m\u001b[0m\u001b[0;34m\u001b[0m\u001b[0m\n\u001b[0m",
      "\u001b[0;31mNameError\u001b[0m: name 'main_line_other_lines' is not defined"
     ]
    }
   ],
   "source": [
    "main_line_other_lines"
   ]
  },
  {
   "cell_type": "code",
   "execution_count": 15,
   "metadata": {},
   "outputs": [
    {
     "data": {
      "text/plain": [
       "'❬df| )  ❭'"
      ]
     },
     "execution_count": 15,
     "metadata": {},
     "output_type": "execute_result"
    }
   ],
   "source": [
    "sentence='(  ❬df| )  ❭ )'\n",
    "\n",
    "sentence_other = re.sub(r'(^[^❬]+|[^❭]+$)',r'',sentence)\n",
    "sentence_other"
   ]
  },
  {
   "cell_type": "code",
   "execution_count": 84,
   "metadata": {},
   "outputs": [
    {
     "data": {
      "text/plain": [
       "'95 % to the following entities and groups: ⟨(i) ‖ and/or entities and groups referred to in Article 7(2) of Regulation (EU) No 806/2014; ‖ and/or (ii) ‖ and/or entities and groups with regard to which the Board has decided to exercise powers under Regulation (EU) No 806/2014 pursuant to Article 7(4)(b) of that Regulation; ‖ and/or (iii) ‖ and/or entities and groups in relation to which participating Member States have decided in accordance with Article 7(5) of Regulation (EU) No 806/2014 that the Board exercise powers and responsibilities conferred to it by that Regulation;⟩'"
      ]
     },
     "execution_count": 84,
     "metadata": {},
     "output_type": "execute_result"
    }
   ],
   "source": [
    "fold_sublist( lines[6][2]  )"
   ]
  },
  {
   "cell_type": "code",
   "execution_count": 129,
   "metadata": {},
   "outputs": [
    {
     "data": {
      "text/plain": [
       "'a ❬b ‖ and/or c❭'"
      ]
     },
     "execution_count": 129,
     "metadata": {},
     "output_type": "execute_result"
    }
   ],
   "source": [
    "fold_sublist( [ 'a', 'b' , 'c'  ]   )"
   ]
  },
  {
   "cell_type": "code",
   "execution_count": 130,
   "metadata": {},
   "outputs": [
    {
     "data": {
      "text/plain": [
       "'a ❬b ‖ and/or c❭'"
      ]
     },
     "execution_count": 130,
     "metadata": {},
     "output_type": "execute_result"
    }
   ],
   "source": []
  },
  {
   "cell_type": "code",
   "execution_count": 132,
   "metadata": {},
   "outputs": [
    {
     "data": {
      "text/plain": [
       "'❬a ⟨b ‖ and/or c⟩❭'"
      ]
     },
     "execution_count": 132,
     "metadata": {},
     "output_type": "execute_result"
    }
   ],
   "source": [
    "fold_sublist( [ [ 'a', 'b' , 'c'  ] ]  )"
   ]
  },
  {
   "cell_type": "code",
   "execution_count": 87,
   "metadata": {},
   "outputs": [
    {
     "data": {
      "text/plain": [
       "'⟨a ⟨b ‖ and/or c⟩⟩'"
      ]
     },
     "execution_count": 87,
     "metadata": {},
     "output_type": "execute_result"
    }
   ],
   "source": [
    "fold_sublist( [ [ 'a', 'b' , 'c'  ] ]  )"
   ]
  },
  {
   "cell_type": "code",
   "execution_count": 133,
   "metadata": {},
   "outputs": [
    {
     "data": {
      "text/plain": [
       "'a ❬a ⟨b ‖ and/or c⟩❭'"
      ]
     },
     "execution_count": 133,
     "metadata": {},
     "output_type": "execute_result"
    }
   ],
   "source": [
    "fold_sublist( [ 'a', [ 'a', 'b' , 'c' ]  ]  )"
   ]
  },
  {
   "cell_type": "code",
   "execution_count": 134,
   "metadata": {},
   "outputs": [
    {
     "data": {
      "text/plain": [
       "'a ❬a ⟨b ‖ and/or c⟩❭'"
      ]
     },
     "execution_count": 134,
     "metadata": {},
     "output_type": "execute_result"
    }
   ],
   "source": [
    "fold_sublist( [ 'a', [ 'a', 'b' , 'c' ]  ]  )  "
   ]
  },
  {
   "cell_type": "code",
   "execution_count": 135,
   "metadata": {},
   "outputs": [
    {
     "data": {
      "text/plain": [
       "'a ❬a ⟨⟩❭'"
      ]
     },
     "execution_count": 135,
     "metadata": {},
     "output_type": "execute_result"
    }
   ],
   "source": [
    "fold_sublist( [ 'a', [ 'a' ]  ]   )"
   ]
  },
  {
   "cell_type": "code",
   "execution_count": 136,
   "metadata": {},
   "outputs": [
    {
     "data": {
      "text/plain": [
       "'a ❬a❭'"
      ]
     },
     "execution_count": 136,
     "metadata": {},
     "output_type": "execute_result"
    }
   ],
   "source": [
    "fold_sublist( [ 'a', 'a'  ]   )"
   ]
  },
  {
   "cell_type": "code",
   "execution_count": null,
   "metadata": {},
   "outputs": [],
   "source": []
  },
  {
   "cell_type": "code",
   "execution_count": null,
   "metadata": {},
   "outputs": [],
   "source": []
  },
  {
   "cell_type": "code",
   "execution_count": 4,
   "metadata": {},
   "outputs": [],
   "source": [
    "from typing import Set, List\n",
    "\n",
    "def get_text_html(  cas: Cas, SofaID: str , tagnames : Set[str] = set( 'p')  ) -> List[str] :\n",
    "    \n",
    "    '''\n",
    "    Given a cas, and a view (SofaID), this function selects all ValueBetweenTagType elements ( with tag.tagName in the set tagnames ), extracts the covered text, and returns the list of extracted sentences.\n",
    "    '''\n",
    "    \n",
    "    sentences=[]\n",
    "    for tag in cas.get_view( SofaID ).select( \"com.crosslang.uimahtmltotext.uima.type.ValueBetweenTagType\" ):\n",
    "        if tag.tagName in set(tagnames):\n",
    "            sentence=tag.get_covered_text().strip()\n",
    "            if sentence:\n",
    "                sentences.append( sentence )\n",
    "                \n",
    "    return sentences\n",
    "\n",
    "sentences=get_text_html( cas, 'html2textView' )"
   ]
  },
  {
   "cell_type": "code",
   "execution_count": null,
   "metadata": {},
   "outputs": [],
   "source": []
  },
  {
   "cell_type": "code",
   "execution_count": 6,
   "metadata": {},
   "outputs": [],
   "source": [
    "with open(  \"/notebook/nas-trainings/arne/DGFISMA/reporting_obligations/code/DGFISMA_reporting_obligations/tests/test_files/txt/double_nested_list.txt\", \"w\" ) as f:\n",
    "    f.write( \"\\n\".join(sentences)  )"
   ]
  },
  {
   "cell_type": "code",
   "execution_count": null,
   "metadata": {},
   "outputs": [],
   "source": []
  }
 ],
 "metadata": {
  "kernelspec": {
   "display_name": "Python 3",
   "language": "python",
   "name": "python3"
  },
  "language_info": {
   "codemirror_mode": {
    "name": "ipython",
    "version": 3
   },
   "file_extension": ".py",
   "mimetype": "text/x-python",
   "name": "python",
   "nbconvert_exporter": "python",
   "pygments_lexer": "ipython3",
   "version": "3.7.3"
  }
 },
 "nbformat": 4,
 "nbformat_minor": 4
}
