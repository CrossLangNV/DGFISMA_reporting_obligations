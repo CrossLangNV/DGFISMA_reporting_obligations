{
 "cells": [
  {
   "cell_type": "code",
   "execution_count": 1,
   "metadata": {},
   "outputs": [],
   "source": [
    "#import json\n",
    "\n",
    "#path_file=\"/notebook/nas-trainings/arne/DGFISMA/reporting_obligations/code/DGFISMA_reporting_obligations/input_dir/doc_27540107-b189-54b8-83a7-d20c6524b424.jsonl\"\n",
    "#jsonl=open( path_file ).read().rstrip(\"\\n\").split( \"\\n\" )\n",
    "#json_data=json.loads( jsonl[0])"
   ]
  },
  {
   "cell_type": "code",
   "execution_count": 1,
   "metadata": {},
   "outputs": [],
   "source": [
    "#with open( \"/notebook/nas-trainings/arne/DGFISMA/reporting_obligations/code/DGFISMA_reporting_obligations/input_dir/doc_27540107-b189-54b8-83a7-d20c6524b424.html\" , \"w\"  ) as f:\n",
    "#    f.write( json_data['content_html'][0]  )"
   ]
  },
  {
   "cell_type": "code",
   "execution_count": 45,
   "metadata": {},
   "outputs": [],
   "source": [
    "#Test code Francois, processing of lists \n",
    "import os\n",
    "import re\n",
    "from spacy.lang.en import English # updated\n",
    "\n",
    "import sys\n",
    "sys.path.append( \"/notebook/nas-trainings/arne/DGFISMA/reporting_obligations/code/DGFISMA_reporting_obligations/\" )\n",
    "\n",
    "sentencizer = English()\n",
    "sentencizer.add_pipe(sentencizer.create_pipe('sentencizer'))\n",
    "\n",
    "INPUT_DIR=\"/notebook/nas-trainings/arne/DGFISMA/reporting_obligations/code/DGFISMA_reporting_obligations/tests/test_files/txt/\"\n",
    "\n",
    "FILENAME=\"small_nested_tables.txt\"\n",
    "#FILENAME=\"doc_bf4ef384-bd7a-51c8-8f7d-d2f61865d767.txt\"\n",
    "\n",
    "input_sentences = open( os.path.join( INPUT_DIR, FILENAME ) )  #.read() #.strip( \"\\n\" ).split( \"\\n\" )\n"
   ]
  },
  {
   "cell_type": "code",
   "execution_count": 46,
   "metadata": {},
   "outputs": [],
   "source": [
    "class seekable_iterator:\n",
    "    def __init__(self, iterator):\n",
    "        self.iterator = iterator\n",
    "        self.current = None\n",
    "        self.reuse = False\n",
    "\n",
    "    def __iter__(self):\n",
    "        return self\n",
    "    \n",
    "    def __next__(self):\n",
    "        return self.next()\n",
    "\n",
    "    def next(self):\n",
    "        if self.reuse:\n",
    "            self.reuse = False\n",
    "        else:\n",
    "            self.current = None\n",
    "            self.current = next(self.iterator)\n",
    "        return self.current\n",
    "\n",
    "    def rewind(self):\n",
    "        self.reuse = True"
   ]
  },
  {
   "cell_type": "code",
   "execution_count": 47,
   "metadata": {
    "scrolled": true
   },
   "outputs": [
    {
     "name": "stdout",
     "output_type": "stream",
     "text": [
      "  The total amount to be raised in accordance with Article 3 shall be allocated as follows:\n",
      "(a) 95 % to the following entities and groups:\n",
      "  For the purpose of applying the provisions referred to in paragraph 2:\n"
     ]
    }
   ],
   "source": [
    "input_sentences = seekable_iterator(iter(input_sentences))\n",
    "\n",
    "for main_line in input_sentences:\n",
    "    main_line = main_line.rstrip(\"\\n\")\n",
    "    #detect sentences like \"Of the following:\", but not \"Of the following: some more\". I.e. we detect the start of an enumeration.\n",
    "    if re.search(r'[:]\\s*$',main_line):\n",
    "        #split paragraph in sentences (using spacy sentencizer), and \n",
    "        main_sentences = list(map(lambda s: re.sub(r'[)](?![ ,;:.?! ()])(?!th)', r') ',s.text.rstrip()), sentencizer(main_line).sents))\n",
    "        last_sentence = main_sentences.pop()\n",
    "        print( last_sentence )\n",
    "    \n",
    "    #print( main_line ) "
   ]
  },
  {
   "cell_type": "code",
   "execution_count": 48,
   "metadata": {},
   "outputs": [
    {
     "data": {
      "text/plain": [
       "'Article 3\\n'"
      ]
     },
     "execution_count": 48,
     "metadata": {},
     "output_type": "execute_result"
    }
   ],
   "source": [
    "input_sentences = open( os.path.join( INPUT_DIR, FILENAME ) )  #.read() #.strip( \"\\n\" ).split( \"\\n\" )\n",
    "input_sentences = seekable_iterator(iter(input_sentences))\n",
    "input_sentences.next()"
   ]
  },
  {
   "cell_type": "code",
   "execution_count": 59,
   "metadata": {},
   "outputs": [
    {
     "data": {
      "text/plain": [
       "'1.   The total amount to be raised in accordance with Article 3 shall be allocated as follows:\\n'"
      ]
     },
     "execution_count": 59,
     "metadata": {},
     "output_type": "execute_result"
    }
   ],
   "source": [
    "input_sentences.next()"
   ]
  },
  {
   "cell_type": "code",
   "execution_count": 60,
   "metadata": {
    "scrolled": true
   },
   "outputs": [
    {
     "data": {
      "text/plain": [
       "['95 % to the following entities and groups ❬entities and groups referred to in Article 7(2) of Regulation (EU) No 806/2014 ‖ and/or entities and groups with regard to which the Board has decided to exercise powers under Regulation (EU) No 806/2014 pursuant to Article 7(4)(b) of that Regulation ‖ and/or entities and groups in relation to which participating Member States have decided in accordance with Article 7(5) of Regulation (EU) No 806/2014 that the Board exercise powers and responsibilities conferred to it by that Regulation❭',\n",
       " '5 % to entities and groups referred to in Article 7(3) of Regulation (EU) No 806/2014']"
      ]
     },
     "execution_count": 60,
     "metadata": {},
     "output_type": "execute_result"
    }
   ],
   "source": [
    "from process_article_lists import collect_sub_lines\n",
    "\n",
    "other_lines=collect_sub_lines( input_sentences, separator=None )\n",
    "other_lines"
   ]
  },
  {
   "cell_type": "markdown",
   "metadata": {},
   "source": [
    "### END"
   ]
  },
  {
   "cell_type": "code",
   "execution_count": 48,
   "metadata": {},
   "outputs": [
    {
     "name": "stdout",
     "output_type": "stream",
     "text": [
      "originator means an entity which ❬itself or through related entities, directly or indirectly, was involved in the original agreement which created the obligations or potential obligations of the debtor or potential debtor giving rise to the exposure being securitised ‖ and/or purchases a third party's exposures for its own account and then securitises them❭\n"
     ]
    }
   ],
   "source": [
    "print( \"originator means an entity which ❬itself or through related entities, directly or indirectly, was involved in the original agreement which created the obligations or potential obligations of the debtor or potential debtor giving rise to the exposure being securitised ‖ and/or purchases a third party\\'s exposures for its own account and then securitises them❭\")"
   ]
  },
  {
   "cell_type": "code",
   "execution_count": 49,
   "metadata": {},
   "outputs": [
    {
     "name": "stdout",
     "output_type": "stream",
     "text": [
      "\"recognised third-country investment firm\" means a firm meeting all of the following conditions ❬if it were established within the Union, it would be covered by the definition of an investment firm ‖ and/or it is authorised in a third country ‖ and/or it is subject to and complies with prudential rules considered by the competent authorities as at least as stringent as those laid down in this Regulation or in Directive 2013/36/EU❭\n"
     ]
    }
   ],
   "source": [
    "for line in other_lines:\n",
    "    if 'recognised third-country investment' in line:\n",
    "        print( line )"
   ]
  },
  {
   "cell_type": "code",
   "execution_count": 126,
   "metadata": {},
   "outputs": [
    {
     "data": {
      "text/plain": [
       "<re.Match object; span=(19, 20), match=':'>"
      ]
     },
     "execution_count": 126,
     "metadata": {},
     "output_type": "execute_result"
    }
   ],
   "source": [
    "import re\n",
    "sentence=\"test something sdf :\"\n",
    "re.search(r'[:]\\s*$', sentence  )  #this regex finds all :'s'"
   ]
  },
  {
   "cell_type": "code",
   "execution_count": null,
   "metadata": {},
   "outputs": [],
   "source": []
  },
  {
   "cell_type": "code",
   "execution_count": 103,
   "metadata": {},
   "outputs": [],
   "source": [
    "\n"
   ]
  },
  {
   "cell_type": "code",
   "execution_count": null,
   "metadata": {},
   "outputs": [],
   "source": []
  },
  {
   "cell_type": "code",
   "execution_count": null,
   "metadata": {},
   "outputs": [],
   "source": []
  },
  {
   "cell_type": "code",
   "execution_count": 105,
   "metadata": {},
   "outputs": [],
   "source": [
    "#read in cassis \n",
    "#read in the json:\n",
    "import json\n",
    "import base64\n",
    "\n",
    "from cassis.typesystem import load_typesystem\n",
    "from cassis.xmi import load_cas_from_xmi\n",
    "\n",
    "\n",
    "with open( \"/notebook/nas-trainings/arne/DGFISMA_paragraph_detection/tests/test_files/typesystems/typesystem.xml\"   , 'rb') as f:\n",
    "    typesystem = load_typesystem(f)\n",
    "\n",
    "with open('/notebook/nas-trainings/arne/DGFISMA_paragraph_detection/tests/test_files/json/doc_bf4ef384-bd7a-51c8-8f7d-d2f61865d767.json') as json_file:\n",
    "    response = json.load(json_file)\n",
    "\n",
    "decoded_cas_response=base64.b64decode( response[ 'cas_content' ] ).decode( 'utf-8' )\n",
    "\n",
    "cas_response=load_cas_from_xmi( decoded_cas_response, typesystem=typesystem  )\n",
    "\n",
    "#all_paragraphs=list(cas_response.get_view( 'html2textView' ).select( \"de.tudarmstadt.ukp.dkpro.core.api.segmentation.type.Paragraph\" ) )\n"
   ]
  },
  {
   "cell_type": "code",
   "execution_count": null,
   "metadata": {
    "scrolled": true
   },
   "outputs": [],
   "source": []
  },
  {
   "cell_type": "code",
   "execution_count": 107,
   "metadata": {},
   "outputs": [],
   "source": [
    "with open( \"/notebook/nas-trainings/arne/DGFISMA/reporting_obligations/code/DGFISMA_reporting_obligations/tests/test_files/txt/doc_bf4ef384-bd7a-51c8-8f7d-d2f61865d767.txt\" , \"w\"  ) as f: \n",
    "    for tag in list( cas_response.get_view( 'html2textView' ).select( \"com.crosslang.uimahtmltotext.uima.type.ValueBetweenTagType\"  ) ):\n",
    "        if tag.tagName == 'p':\n",
    "            f.write( f\"{tag.get_covered_text()}\\n\" )"
   ]
  },
  {
   "cell_type": "code",
   "execution_count": 84,
   "metadata": {},
   "outputs": [
    {
     "data": {
      "text/plain": [
       "'95 % to the following entities and groups:'"
      ]
     },
     "execution_count": 84,
     "metadata": {},
     "output_type": "execute_result"
    }
   ],
   "source": [
    "list( cas_response.get_view( 'html2textView' ).select( \"com.crosslang.uimahtmltotext.uima.type.ValueBetweenTagType\"  ) )[14].get_covered_text()"
   ]
  },
  {
   "cell_type": "code",
   "execution_count": 90,
   "metadata": {},
   "outputs": [
    {
     "data": {
      "text/plain": [
       "com_crosslang_uimahtmltotext_uima_type_ValueBetweenTagType(xmiID=3083, text=None, tagName='p', attributes=\"class='normal'\", begin=702, end=796, type='com.crosslang.uimahtmltotext.uima.type.ValueBetweenTagType')"
      ]
     },
     "execution_count": 90,
     "metadata": {},
     "output_type": "execute_result"
    }
   ],
   "source": [
    "list( cas_response.get_view( 'html2textView' ).select( \"com.crosslang.uimahtmltotext.uima.type.ValueBetweenTagType\"  ) )[7]"
   ]
  },
  {
   "cell_type": "code",
   "execution_count": 93,
   "metadata": {
    "scrolled": true
   },
   "outputs": [
    {
     "data": {
      "text/plain": [
       "[com_crosslang_uimahtmltotext_uima_type_ValueBetweenTagType(xmiID=3083, text=None, tagName='p', attributes=\"class='normal'\", begin=702, end=796, type='com.crosslang.uimahtmltotext.uima.type.ValueBetweenTagType'),\n",
       " com_crosslang_uimahtmltotext_uima_type_ValueBetweenTagType(xmiID=3090, text=None, tagName='table', attributes=\"width='100%'border='0'cellspacing='0'cellpadding='0'\", begin=801, end=2447, type='com.crosslang.uimahtmltotext.uima.type.ValueBetweenTagType'),\n",
       " com_crosslang_uimahtmltotext_uima_type_ValueBetweenTagType(xmiID=3097, text=None, tagName='tbody', attributes='', begin=825, end=2442, type='com.crosslang.uimahtmltotext.uima.type.ValueBetweenTagType'),\n",
       " com_crosslang_uimahtmltotext_uima_type_ValueBetweenTagType(xmiID=3104, text=None, tagName='tr', attributes='', begin=836, end=2434, type='com.crosslang.uimahtmltotext.uima.type.ValueBetweenTagType'),\n",
       " com_crosslang_uimahtmltotext_uima_type_ValueBetweenTagType(xmiID=3111, text=None, tagName='td', attributes=\"valign='top'\", begin=850, end=884, type='com.crosslang.uimahtmltotext.uima.type.ValueBetweenTagType'),\n",
       " com_crosslang_uimahtmltotext_uima_type_ValueBetweenTagType(xmiID=3118, text=None, tagName='p', attributes=\"class='normal'\", begin=867, end=870, type='com.crosslang.uimahtmltotext.uima.type.ValueBetweenTagType'),\n",
       " com_crosslang_uimahtmltotext_uima_type_ValueBetweenTagType(xmiID=3125, text=None, tagName='td', attributes=\"valign='top'\", begin=898, end=2423, type='com.crosslang.uimahtmltotext.uima.type.ValueBetweenTagType'),\n",
       " com_crosslang_uimahtmltotext_uima_type_ValueBetweenTagType(xmiID=3132, text=None, tagName='p', attributes=\"class='normal'\", begin=915, end=957, type='com.crosslang.uimahtmltotext.uima.type.ValueBetweenTagType'),\n",
       " com_crosslang_uimahtmltotext_uima_type_ValueBetweenTagType(xmiID=3139, text=None, tagName='table', attributes=\"width='100%'border='0'cellspacing='0'cellpadding='0'\", begin=974, end=1361, type='com.crosslang.uimahtmltotext.uima.type.ValueBetweenTagType'),\n",
       " com_crosslang_uimahtmltotext_uima_type_ValueBetweenTagType(xmiID=3146, text=None, tagName='tbody', attributes='', begin=1034, end=1344, type='com.crosslang.uimahtmltotext.uima.type.ValueBetweenTagType'),\n",
       " com_crosslang_uimahtmltotext_uima_type_ValueBetweenTagType(xmiID=3153, text=None, tagName='tr', attributes='', begin=1057, end=1324, type='com.crosslang.uimahtmltotext.uima.type.ValueBetweenTagType'),\n",
       " com_crosslang_uimahtmltotext_uima_type_ValueBetweenTagType(xmiID=3160, text=None, tagName='td', attributes=\"valign='top'\", begin=1083, end=1141, type='com.crosslang.uimahtmltotext.uima.type.ValueBetweenTagType'),\n",
       " com_crosslang_uimahtmltotext_uima_type_ValueBetweenTagType(xmiID=3167, text=None, tagName='p', attributes=\"class='normal'\", begin=1112, end=1115, type='com.crosslang.uimahtmltotext.uima.type.ValueBetweenTagType'),\n",
       " com_crosslang_uimahtmltotext_uima_type_ValueBetweenTagType(xmiID=3174, text=None, tagName='td', attributes=\"valign='top'\", begin=1167, end=1301, type='com.crosslang.uimahtmltotext.uima.type.ValueBetweenTagType'),\n",
       " com_crosslang_uimahtmltotext_uima_type_ValueBetweenTagType(xmiID=3181, text=None, tagName='p', attributes=\"class='normal'\", begin=1196, end=1275, type='com.crosslang.uimahtmltotext.uima.type.ValueBetweenTagType'),\n",
       " com_crosslang_uimahtmltotext_uima_type_ValueBetweenTagType(xmiID=3188, text=None, tagName='table', attributes=\"width='100%'border='0'cellspacing='0'cellpadding='0'\", begin=1378, end=1850, type='com.crosslang.uimahtmltotext.uima.type.ValueBetweenTagType'),\n",
       " com_crosslang_uimahtmltotext_uima_type_ValueBetweenTagType(xmiID=3195, text=None, tagName='tbody', attributes='', begin=1438, end=1833, type='com.crosslang.uimahtmltotext.uima.type.ValueBetweenTagType'),\n",
       " com_crosslang_uimahtmltotext_uima_type_ValueBetweenTagType(xmiID=3202, text=None, tagName='tr', attributes='', begin=1461, end=1813, type='com.crosslang.uimahtmltotext.uima.type.ValueBetweenTagType'),\n",
       " com_crosslang_uimahtmltotext_uima_type_ValueBetweenTagType(xmiID=3209, text=None, tagName='td', attributes=\"valign='top'\", begin=1487, end=1546, type='com.crosslang.uimahtmltotext.uima.type.ValueBetweenTagType'),\n",
       " com_crosslang_uimahtmltotext_uima_type_ValueBetweenTagType(xmiID=3216, text=None, tagName='p', attributes=\"class='normal'\", begin=1516, end=1520, type='com.crosslang.uimahtmltotext.uima.type.ValueBetweenTagType'),\n",
       " com_crosslang_uimahtmltotext_uima_type_ValueBetweenTagType(xmiID=3223, text=None, tagName='td', attributes=\"valign='top'\", begin=1572, end=1790, type='com.crosslang.uimahtmltotext.uima.type.ValueBetweenTagType'),\n",
       " com_crosslang_uimahtmltotext_uima_type_ValueBetweenTagType(xmiID=3230, text=None, tagName='p', attributes=\"class='normal'\", begin=1601, end=1764, type='com.crosslang.uimahtmltotext.uima.type.ValueBetweenTagType'),\n",
       " com_crosslang_uimahtmltotext_uima_type_ValueBetweenTagType(xmiID=3237, text=None, tagName='table', attributes=\"width='100%'border='0'cellspacing='0'cellpadding='0'\", begin=1867, end=2409, type='com.crosslang.uimahtmltotext.uima.type.ValueBetweenTagType'),\n",
       " com_crosslang_uimahtmltotext_uima_type_ValueBetweenTagType(xmiID=3244, text=None, tagName='tbody', attributes='', begin=1927, end=2392, type='com.crosslang.uimahtmltotext.uima.type.ValueBetweenTagType'),\n",
       " com_crosslang_uimahtmltotext_uima_type_ValueBetweenTagType(xmiID=3251, text=None, tagName='tr', attributes='', begin=1950, end=2372, type='com.crosslang.uimahtmltotext.uima.type.ValueBetweenTagType'),\n",
       " com_crosslang_uimahtmltotext_uima_type_ValueBetweenTagType(xmiID=3258, text=None, tagName='td', attributes=\"valign='top'\", begin=1976, end=2036, type='com.crosslang.uimahtmltotext.uima.type.ValueBetweenTagType'),\n",
       " com_crosslang_uimahtmltotext_uima_type_ValueBetweenTagType(xmiID=3265, text=None, tagName='p', attributes=\"class='normal'\", begin=2005, end=2010, type='com.crosslang.uimahtmltotext.uima.type.ValueBetweenTagType'),\n",
       " com_crosslang_uimahtmltotext_uima_type_ValueBetweenTagType(xmiID=3272, text=None, tagName='td', attributes=\"valign='top'\", begin=2062, end=2349, type='com.crosslang.uimahtmltotext.uima.type.ValueBetweenTagType'),\n",
       " com_crosslang_uimahtmltotext_uima_type_ValueBetweenTagType(xmiID=3279, text=None, tagName='p', attributes=\"class='normal'\", begin=2091, end=2323, type='com.crosslang.uimahtmltotext.uima.type.ValueBetweenTagType'),\n",
       " com_crosslang_uimahtmltotext_uima_type_ValueBetweenTagType(xmiID=3286, text=None, tagName='table', attributes=\"width='100%'border='0'cellspacing='0'cellpadding='0'\", begin=2452, end=2690, type='com.crosslang.uimahtmltotext.uima.type.ValueBetweenTagType'),\n",
       " com_crosslang_uimahtmltotext_uima_type_ValueBetweenTagType(xmiID=3293, text=None, tagName='tbody', attributes='', begin=2476, end=2685, type='com.crosslang.uimahtmltotext.uima.type.ValueBetweenTagType'),\n",
       " com_crosslang_uimahtmltotext_uima_type_ValueBetweenTagType(xmiID=3300, text=None, tagName='tr', attributes='', begin=2487, end=2677, type='com.crosslang.uimahtmltotext.uima.type.ValueBetweenTagType'),\n",
       " com_crosslang_uimahtmltotext_uima_type_ValueBetweenTagType(xmiID=3307, text=None, tagName='td', attributes=\"valign='top'\", begin=2501, end=2535, type='com.crosslang.uimahtmltotext.uima.type.ValueBetweenTagType'),\n",
       " com_crosslang_uimahtmltotext_uima_type_ValueBetweenTagType(xmiID=3314, text=None, tagName='p', attributes=\"class='normal'\", begin=2518, end=2521, type='com.crosslang.uimahtmltotext.uima.type.ValueBetweenTagType'),\n",
       " com_crosslang_uimahtmltotext_uima_type_ValueBetweenTagType(xmiID=3321, text=None, tagName='td', attributes=\"valign='top'\", begin=2549, end=2666, type='com.crosslang.uimahtmltotext.uima.type.ValueBetweenTagType'),\n",
       " com_crosslang_uimahtmltotext_uima_type_ValueBetweenTagType(xmiID=3328, text=None, tagName='p', attributes=\"class='normal'\", begin=2566, end=2652, type='com.crosslang.uimahtmltotext.uima.type.ValueBetweenTagType')]"
      ]
     },
     "execution_count": 93,
     "metadata": {},
     "output_type": "execute_result"
    }
   ],
   "source": [
    "paragraph=list(cas_response.get_view( 'html2textView' ).select( \"de.tudarmstadt.ukp.dkpro.core.api.segmentation.type.Paragraph\" ) )[0]\n",
    "\n",
    "list( cas_response.get_view( 'html2textView' ).select_covered(\"com.crosslang.uimahtmltotext.uima.type.ValueBetweenTagType\" , paragraph ) )"
   ]
  },
  {
   "cell_type": "code",
   "execution_count": null,
   "metadata": {},
   "outputs": [],
   "source": []
  },
  {
   "cell_type": "code",
   "execution_count": null,
   "metadata": {},
   "outputs": [],
   "source": []
  },
  {
   "cell_type": "code",
   "execution_count": null,
   "metadata": {},
   "outputs": [],
   "source": []
  },
  {
   "cell_type": "code",
   "execution_count": null,
   "metadata": {},
   "outputs": [],
   "source": [
    "for sentence in cas.select('cassis.Sentence'):\n",
    "    for token in cas.select_covered('cassis.Token', sentence):\n",
    "        print(token.get_covered_text())"
   ]
  },
  {
   "cell_type": "code",
   "execution_count": 16,
   "metadata": {},
   "outputs": [
    {
     "data": {
      "text/plain": [
       "<generator at 0x7fefa078f3d8>"
      ]
     },
     "execution_count": 16,
     "metadata": {},
     "output_type": "execute_result"
    }
   ],
   "source": [
    "from spacy.lang.en import English # updated\n",
    "\n",
    "sentencizer = English()\n",
    "sentencizer.add_pipe(sentencizer.create_pipe('sentencizer'))\n",
    "sentencizer(main_line).sents"
   ]
  },
  {
   "cell_type": "code",
   "execution_count": 17,
   "metadata": {},
   "outputs": [
    {
     "data": {
      "text/plain": [
       "'The deadlines in the first and second subparagraphs of this paragraph may be extended by an additional six months where the Commission has adopted the implementing act referred to in Article 497(3) of Regulation (EU) No 575/2013.\"'"
      ]
     },
     "execution_count": 17,
     "metadata": {},
     "output_type": "execute_result"
    }
   ],
   "source": [
    "main_line"
   ]
  },
  {
   "cell_type": "code",
   "execution_count": 19,
   "metadata": {},
   "outputs": [
    {
     "data": {
      "text/plain": [
       "[Then happens something., Some more]"
      ]
     },
     "execution_count": 19,
     "metadata": {},
     "output_type": "execute_result"
    }
   ],
   "source": [
    "list( sentencizer( \"Then happens something. Some more\" ).sents )"
   ]
  },
  {
   "cell_type": "code",
   "execution_count": 127,
   "metadata": {},
   "outputs": [],
   "source": [
    "#this main_line is the first p of a paragraph...\n",
    "main_line=\"the purposes of this Regulation, the following 4545)th df,\"\n",
    "main_sentences = list(map(lambda s: re.sub(r'[)](?![ ,;:.?! ()])(?!th)', r') ',s.text.rstrip()), sentencizer(main_line).sents ))"
   ]
  },
  {
   "cell_type": "code",
   "execution_count": 128,
   "metadata": {},
   "outputs": [
    {
     "data": {
      "text/plain": [
       "['the purposes of this Regulation, the following 4545)th df,']"
      ]
     },
     "execution_count": 128,
     "metadata": {},
     "output_type": "execute_result"
    }
   ],
   "source": [
    "main_sentences"
   ]
  },
  {
   "cell_type": "code",
   "execution_count": 111,
   "metadata": {},
   "outputs": [
    {
     "ename": "TypeError",
     "evalue": "expected string or bytes-like object",
     "output_type": "error",
     "traceback": [
      "\u001b[0;31m\u001b[0m",
      "\u001b[0;31mTypeError\u001b[0mTraceback (most recent call last)",
      "\u001b[0;32m<ipython-input-111-1f31a7aca392>\u001b[0m in \u001b[0;36m<module>\u001b[0;34m\u001b[0m\n\u001b[1;32m      1\u001b[0m \u001b[0mmain_line\u001b[0m\u001b[0;34m=\u001b[0m\u001b[0;34m\"the purposes of this Regulation, the following 4545)th,\"\u001b[0m\u001b[0;34m\u001b[0m\u001b[0;34m\u001b[0m\u001b[0m\n\u001b[1;32m      2\u001b[0m \u001b[0mlist\u001b[0m\u001b[0;34m(\u001b[0m \u001b[0msentencizer\u001b[0m\u001b[0;34m(\u001b[0m\u001b[0mmain_line\u001b[0m\u001b[0;34m)\u001b[0m\u001b[0;34m.\u001b[0m\u001b[0msents\u001b[0m \u001b[0;34m)\u001b[0m\u001b[0;34m[\u001b[0m\u001b[0;36m0\u001b[0m\u001b[0;34m]\u001b[0m\u001b[0;34m\u001b[0m\u001b[0;34m\u001b[0m\u001b[0m\n\u001b[0;32m----> 3\u001b[0;31m \u001b[0mre\u001b[0m\u001b[0;34m.\u001b[0m\u001b[0msub\u001b[0m\u001b[0;34m(\u001b[0m\u001b[0;34mr'[)](?![ ,;:.?! ()])(?!th)'\u001b[0m\u001b[0;34m,\u001b[0m \u001b[0;34mr') '\u001b[0m \u001b[0;34m,\u001b[0m \u001b[0mlist\u001b[0m\u001b[0;34m(\u001b[0m \u001b[0msentencizer\u001b[0m\u001b[0;34m(\u001b[0m\u001b[0mmain_line\u001b[0m\u001b[0;34m)\u001b[0m\u001b[0;34m.\u001b[0m\u001b[0msents\u001b[0m \u001b[0;34m)\u001b[0m\u001b[0;34m[\u001b[0m\u001b[0;36m0\u001b[0m\u001b[0;34m]\u001b[0m  \u001b[0;34m)\u001b[0m\u001b[0;34m\u001b[0m\u001b[0;34m\u001b[0m\u001b[0m\n\u001b[0m",
      "\u001b[0;32m/miniconda/lib/python3.7/re.py\u001b[0m in \u001b[0;36msub\u001b[0;34m(pattern, repl, string, count, flags)\u001b[0m\n\u001b[1;32m    190\u001b[0m     \u001b[0ma\u001b[0m \u001b[0mcallable\u001b[0m\u001b[0;34m,\u001b[0m \u001b[0mit\u001b[0m\u001b[0;31m'\u001b[0m\u001b[0ms\u001b[0m \u001b[0mpassed\u001b[0m \u001b[0mthe\u001b[0m \u001b[0mMatch\u001b[0m \u001b[0mobject\u001b[0m \u001b[0;32mand\u001b[0m \u001b[0mmust\u001b[0m \u001b[0;32mreturn\u001b[0m\u001b[0;34m\u001b[0m\u001b[0;34m\u001b[0m\u001b[0m\n\u001b[1;32m    191\u001b[0m     a replacement string to be used.\"\"\"\n\u001b[0;32m--> 192\u001b[0;31m     \u001b[0;32mreturn\u001b[0m \u001b[0m_compile\u001b[0m\u001b[0;34m(\u001b[0m\u001b[0mpattern\u001b[0m\u001b[0;34m,\u001b[0m \u001b[0mflags\u001b[0m\u001b[0;34m)\u001b[0m\u001b[0;34m.\u001b[0m\u001b[0msub\u001b[0m\u001b[0;34m(\u001b[0m\u001b[0mrepl\u001b[0m\u001b[0;34m,\u001b[0m \u001b[0mstring\u001b[0m\u001b[0;34m,\u001b[0m \u001b[0mcount\u001b[0m\u001b[0;34m)\u001b[0m\u001b[0;34m\u001b[0m\u001b[0;34m\u001b[0m\u001b[0m\n\u001b[0m\u001b[1;32m    193\u001b[0m \u001b[0;34m\u001b[0m\u001b[0m\n\u001b[1;32m    194\u001b[0m \u001b[0;32mdef\u001b[0m \u001b[0msubn\u001b[0m\u001b[0;34m(\u001b[0m\u001b[0mpattern\u001b[0m\u001b[0;34m,\u001b[0m \u001b[0mrepl\u001b[0m\u001b[0;34m,\u001b[0m \u001b[0mstring\u001b[0m\u001b[0;34m,\u001b[0m \u001b[0mcount\u001b[0m\u001b[0;34m=\u001b[0m\u001b[0;36m0\u001b[0m\u001b[0;34m,\u001b[0m \u001b[0mflags\u001b[0m\u001b[0;34m=\u001b[0m\u001b[0;36m0\u001b[0m\u001b[0;34m)\u001b[0m\u001b[0;34m:\u001b[0m\u001b[0;34m\u001b[0m\u001b[0;34m\u001b[0m\u001b[0m\n",
      "\u001b[0;31mTypeError\u001b[0m: expected string or bytes-like object"
     ]
    }
   ],
   "source": [
    "main_line=\"the purposes of this Regulation, the following 4545)th,\"\n",
    "list( sentencizer(main_line).sents )[0]\n",
    "re.sub(r'[)](?![ ,;:.?! ()])(?!th)', r') ' , list( sentencizer(main_line).sents )[0]  ) \n"
   ]
  },
  {
   "cell_type": "code",
   "execution_count": 116,
   "metadata": {},
   "outputs": [
    {
     "data": {
      "text/plain": [
       "'the purposes of this Regulation, the following 4545)th,'"
      ]
     },
     "execution_count": 116,
     "metadata": {},
     "output_type": "execute_result"
    }
   ],
   "source": [
    "list( sentencizer(main_line).sents )[0].text.rstrip()"
   ]
  },
  {
   "cell_type": "code",
   "execution_count": 99,
   "metadata": {},
   "outputs": [
    {
     "data": {
      "text/plain": [
       "[the purposes of this Regulation, the following 4545)df,]"
      ]
     },
     "execution_count": 99,
     "metadata": {},
     "output_type": "execute_result"
    }
   ],
   "source": [
    "main_line=\"the purposes of this Regulation, the following 4545)df,\"\n",
    "list( sentencizer(main_line).sents )"
   ]
  },
  {
   "cell_type": "code",
   "execution_count": 50,
   "metadata": {},
   "outputs": [
    {
     "data": {
      "text/plain": [
       "'f'"
      ]
     },
     "execution_count": 50,
     "metadata": {},
     "output_type": "execute_result"
    }
   ],
   "source": [
    "input_sentence=' 9. f'\n",
    "re.sub(r'^ *[0-9]*[.] *', r'', input_sentence)"
   ]
  },
  {
   "cell_type": "code",
   "execution_count": 122,
   "metadata": {},
   "outputs": [
    {
     "data": {
      "text/plain": [
       "'the purposes of this Regulation, the following 4545)th '"
      ]
     },
     "execution_count": 122,
     "metadata": {},
     "output_type": "execute_result"
    }
   ],
   "source": [
    "main_line=\"the purposes of this Regulation, the following 4545)th \"\n",
    "re.sub(r'[)](?![ ,;:.?! ()])(?!th)', r') ' , main_line  ) "
   ]
  },
  {
   "cell_type": "code",
   "execution_count": 89,
   "metadata": {},
   "outputs": [
    {
     "ename": "SyntaxError",
     "evalue": "invalid syntax (<ipython-input-89-07c269a6781d>, line 1)",
     "output_type": "error",
     "traceback": [
      "\u001b[0;36m  File \u001b[0;32m\"<ipython-input-89-07c269a6781d>\"\u001b[0;36m, line \u001b[0;32m1\u001b[0m\n\u001b[0;31m    (?!foo)\u001b[0m\n\u001b[0m     ^\u001b[0m\n\u001b[0;31mSyntaxError\u001b[0m\u001b[0;31m:\u001b[0m invalid syntax\n"
     ]
    }
   ],
   "source": [
    "(?!foo)\n",
    "\n",
    "re.sub(  )\n",
    "\n",
    "#Negative Lookahead\tAsserts that what immediately follows the current position in the string is not foo"
   ]
  },
  {
   "cell_type": "code",
   "execution_count": null,
   "metadata": {},
   "outputs": [],
   "source": []
  }
 ],
 "metadata": {
  "kernelspec": {
   "display_name": "Python 3",
   "language": "python",
   "name": "python3"
  },
  "language_info": {
   "codemirror_mode": {
    "name": "ipython",
    "version": 3
   },
   "file_extension": ".py",
   "mimetype": "text/x-python",
   "name": "python",
   "nbconvert_exporter": "python",
   "pygments_lexer": "ipython3",
   "version": "3.7.3"
  }
 },
 "nbformat": 4,
 "nbformat_minor": 4
}
