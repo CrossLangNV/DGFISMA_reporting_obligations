{
 "cells": [
  {
   "cell_type": "code",
   "execution_count": 2,
   "metadata": {},
   "outputs": [
    {
     "name": "stdout",
     "output_type": "stream",
     "text": [
      "loading AllenNLP predictor from /notebook/nas-trainings/arne/DGFISMA/reporting_obligations/code/DGFISMA_reporting_obligations/tests/test_files/models/bert_model/bert-base-srl-2019.06.17.tar.gz\n",
      "loading spacy model from /notebook/nas-trainings/arne/DGFISMA/reporting_obligations/code/DGFISMA_reporting_obligations/tests/test_files/models/spacy_model/spacy-textcat\n"
     ]
    }
   ],
   "source": [
    "import os\n",
    "import sys\n",
    "PATH=\"/notebook/nas-trainings/arne/DGFISMA/reporting_obligations/code/DGFISMA_reporting_obligations\"\n",
    "sys.path.append( os.path.join( PATH ) )\n",
    "\n",
    "from allennlp.predictors.predictor import Predictor\n",
    "import spacy\n",
    "\n",
    "BERT_PATH=os.path.join(  PATH, \"tests/test_files/models\", \"bert_model\", \"bert-base-srl-2019.06.17.tar.gz\" )\n",
    "SPACY_PATH=os.path.join( PATH, \"tests/test_files/models\", \"spacy_model\", \"spacy-textcat\" )\n",
    "\n",
    "#print( f\"loading AllenNLP predictor from {BERT_PATH}\" )\n",
    "#bert_model = Predictor.from_path( BERT_PATH, cuda_device=0 )\n",
    "\n",
    "#print( f\"loading spacy model from {SPACY_PATH}\" )\n",
    "#nlp=spacy.load( SPACY_PATH )\n",
    "\n",
    "#http://docs.allennlp.org/v0.9.0/api/allennlp.predictors.html\n",
    "from src.reporting_obligations import ReportingObligationsFinder\n",
    "\n",
    "reporting_obligations_finder = ReportingObligationsFinder(  BERT_PATH, SPACY_PATH, gpu=0  )\n"
   ]
  },
  {
   "cell_type": "code",
   "execution_count": 3,
   "metadata": {},
   "outputs": [],
   "source": [
    "#pip uninstall -y dkpro-cassis==0.5.0"
   ]
  },
  {
   "cell_type": "code",
   "execution_count": 4,
   "metadata": {},
   "outputs": [],
   "source": [
    "#pip install git+https://github.com/dkpro/dkpro-cassis.git@master"
   ]
  },
  {
   "cell_type": "code",
   "execution_count": 7,
   "metadata": {},
   "outputs": [],
   "source": [
    "#read in cassis \n",
    "#read in the json:\n",
    "import json\n",
    "import base64\n",
    "import re\n",
    "import sys\n",
    "import os\n",
    "\n",
    "from typing import Generator, List\n",
    "\n",
    "from cassis.typesystem import load_typesystem\n",
    "from cassis.xmi import load_cas_from_xmi\n",
    "from cassis import Cas\n",
    "\n",
    "TEMPLATE_PATH=os.path.join( PATH, \"tests/test_files/templates/out.html.template\" )\n",
    "\n",
    "with open( os.path.join( PATH , \"tests/test_files/typesystems/typesystem.xml\" )  , 'rb') as f:\n",
    "    typesystem = load_typesystem(f)\n",
    "\n",
    "#with open( os.path.join( PATH, 'tests/test_files/response_json_paragraph_annotations/double_nested_list_response.json')) as json_file:\n",
    "#    response = json.load(json_file)\n",
    "\n",
    "#with open( os.path.join( PATH, 'tests/test_files/response_json_paragraph_annotations/small_nested_tables_response.json')) as json_file:\n",
    "#    response = json.load(json_file)\n",
    "    \n",
    "#with open( os.path.join( PATH, 'tests/test_files/response_json_paragraph_annotations/minus_lesser_of_response.json')) as json_file:\n",
    "#    response = json.load(json_file)  \n",
    "\n",
    "#with open( os.path.join( PATH, 'tests/test_files/testing_bug/32011D1208-input.json')) as json_file:\n",
    "#    response = json.load(json_file)  \n",
    "    \n",
    "#with open( os.path.join( PATH, 'tests/test_files/response_json_paragraph_annotations/32002R0063-input.xmi_outputPar_det.json')) as json_file:\n",
    "#    response = json.load(json_file)    #busy here\n",
    "    \n",
    "#with open( os.path.join( PATH, 'tests/test_files/testing_bug/32014R1141-input.xmi_outputPar_det.json')) as json_file:\n",
    "#    response = json.load(json_file)   #busy here\n",
    "    \n",
    "#with open( os.path.join( PATH, 'tests/test_files/testing_bug/32019L2121-input.xmi_outputPar_det.json')) as json_file:\n",
    "#    response = json.load(json_file)   #busy here\n",
    "    \n",
    "#with open( os.path.join( PATH, 'tests/test_files/testing_bug/31977L0453-input.xmi_outputPar_det.json')) as json_file:\n",
    "#    response = json.load(json_file)   #busy here\n",
    "    \n",
    "#with open( os.path.join( PATH, 'tests/test_files/testing_bug2/32016R1705-input.xmi_output_par_det.json')) as json_file:\n",
    "#    response = json.load(json_file)\n",
    "\n",
    "#with open( os.path.join( PATH, 'tests/test_files/testing_bug2/32016R1705-input.xmi_output_RO2.json')) as json_file:\n",
    "#    response = json.load(json_file)\n",
    "    \n",
    "#with open( os.path.join( PATH, 'tests/test_files/testing_bug2/32008D0334-input.xmi_output_Par_det.json')) as json_file:\n",
    "#    response = json.load(json_file)\n",
    "\n",
    "#with open( os.path.join( PATH, 'tests/test_files/testing_bug2/32019R0981-input.xmi_output_par_det.json')) as json_file:\n",
    "#    response = json.load(json_file)\n",
    "\n",
    "#with open( os.path.join( PATH, 'tests/test_files/testing_bug2/32019R0981-input.xmi_definitions.json')) as json_file:\n",
    "#    response = json.load(json_file)\n",
    "    \n",
    "with open( os.path.join( PATH, 'tests/test_files/testing_bug2/32019R0815-input.xmi_par_det.json')) as json_file:\n",
    "    response = json.load(json_file)\n",
    "    \n",
    "#32019L2121-input.xmi_outputRO_gpu_2\n",
    "    \n",
    "#with open(  os.path.join( PATH, 'tests/test_files/response_json_paragraph_annotations/doc_bf4ef384-bd7a-51c8-8f7d-d2f61865d767_response.json')) as json_file:\n",
    "#    response = json.load(json_file)\n",
    "    \n",
    "OUTPUT_PATH=os.path.join( PATH, \"tests/test_files/output_reporting_obligations/testing_bug3.html\" )\n",
    "    \n",
    "decoded_cas=base64.b64decode( response[ 'cas_content' ] ).decode( 'utf-8' )\n",
    "\n",
    "cas=load_cas_from_xmi( decoded_cas, typesystem=typesystem, trusted=True )"
   ]
  },
  {
   "cell_type": "code",
   "execution_count": 9,
   "metadata": {},
   "outputs": [],
   "source": [
    "#cas.get_view( \"html2textView\" ).select( \"de.tudarmstadt.ukp.dkpro.core.api.segmentation.type.Paragraph\" )"
   ]
  },
  {
   "cell_type": "code",
   "execution_count": 3,
   "metadata": {
    "scrolled": true
   },
   "outputs": [
    {
     "name": "stdout",
     "output_type": "stream",
     "text": [
      "add list view\n"
     ]
    }
   ],
   "source": [
    "from src.transform import ListTransformer\n",
    "\n",
    "#from src.transform import get_other_lines, transform_lines, flatten_offsets\n",
    "\n",
    "#from src.utils import SeekableIterator\n",
    "\n",
    "OldSofaID = 'html2textView'\n",
    "NewSofaID = 'ListView'\n",
    "value_between_tagtype = \"com.crosslang.uimahtmltotext.uima.type.ValueBetweenTagType\"\n",
    "paragraph_type = \"de.tudarmstadt.ukp.dkpro.core.api.segmentation.type.Paragraph\"\n",
    "\n",
    "transformer = ListTransformer( cas )\n",
    "print( \"add list view\" )\n",
    "transformer.add_list_view( OldSofaID )\n"
   ]
  },
  {
   "cell_type": "code",
   "execution_count": null,
   "metadata": {},
   "outputs": [],
   "source": []
  },
  {
   "cell_type": "code",
   "execution_count": null,
   "metadata": {},
   "outputs": [],
   "source": []
  },
  {
   "cell_type": "code",
   "execution_count": 6,
   "metadata": {},
   "outputs": [],
   "source": [
    "text=transformer.cas.get_view( 'ListView' ).sofa_string.split( \"\\n\" )"
   ]
  },
  {
   "cell_type": "code",
   "execution_count": 12,
   "metadata": {},
   "outputs": [
    {
     "data": {
      "text/plain": [
       "26608"
      ]
     },
     "execution_count": 12,
     "metadata": {},
     "output_type": "execute_result"
    }
   ],
   "source": [
    "len( text )"
   ]
  },
  {
   "cell_type": "code",
   "execution_count": 14,
   "metadata": {
    "scrolled": true
   },
   "outputs": [
    {
     "data": {
      "text/plain": [
       "['IncreaseDecreaseThroughCumulativeCatchupAdjustmentsToRevenueArisingFromContractModificationContractLiabilities|(172270, 3857884)',\n",
       " 'X duration credit|(172270, 3857884)',\n",
       " 'Increase (decrease) through cumulative catch-up adjustments to revenue arising from contract modification, contract liabilities|(172270, 3857884)',\n",
       " 'The increase (decrease) in contract liabilities resulting from cumulative catch-up adjustments to revenue arising from a contract modification. A contract modification is a change in the scope or price (or both) of a contract that is approved by the parties to the contract. [Refer: Increase (decrease) through cumulative catch-up adjustments to revenue, contract liabilities]|(172270, 3857884)',\n",
       " 'example: IFRS 15 118 b - Effective 2018.01.01|(172270, 3857884)',\n",
       " 'ifrs-full|(172270, 3857884)',\n",
       " 'IncreaseDecreaseThroughCumulativeCatchupAdjustmentsToRevenueContractAssets|(172270, 3857884)',\n",
       " 'X duration debit|(172270, 3857884)',\n",
       " 'Increase (decrease) through cumulative catch-up adjustments to revenue, contract assets|(172270, 3857884)',\n",
       " 'The increase (decrease) in contract assets resulting from cumulative catch-up adjustments to revenue. [Refer: Contract assets; Revenue]|(172270, 3857884)',\n",
       " 'example: IFRS 15 118 b - Effective 2018.01.01|(172270, 3857884)',\n",
       " 'ifrs-full|(172270, 3857884)',\n",
       " 'IncreaseDecreaseThroughCumulativeCatchupAdjustmentsToRevenueContractLiabilities|(172270, 3857884)',\n",
       " 'X duration credit|(172270, 3857884)',\n",
       " 'Increase (decrease) through cumulative catch-up adjustments to revenue, contract liabilities|(172270, 3857884)',\n",
       " 'The increase (decrease) in contract liabilities resulting from cumulative catch-up adjustments to revenue. [Refer: Contract liabilities; Revenue]|(172270, 3857884)',\n",
       " 'example: IFRS 15 118 b - Effective 2018.01.01|(172270, 3857884)',\n",
       " 'ifrs-full|(172270, 3857884)',\n",
       " 'IncreaseDecreaseThroughDisposalOfSubsidiary|(172270, 3857884)',\n",
       " 'X duration credit|(172270, 3857884)',\n",
       " 'Increase (decrease) through disposal of subsidiary, equity|(172270, 3857884)',\n",
       " 'The increase (decrease) in equity resulting from the disposal of subsidiaries. [Refer: Subsidiaries [member]]|(172270, 3857884)',\n",
       " 'common practice: IAS 1 106 d|(172270, 3857884)',\n",
       " 'ifrs-full|(172270, 3857884)',\n",
       " 'IncreaseDecreaseThroughEffectOfChangesInForeignExchangeRatesLiabilitiesArisingFromFinancingActivities|(172270, 3857884)',\n",
       " 'X duration credit|(172270, 3857884)',\n",
       " 'Increase (decrease) through effect of changes in foreign exchange rates, liabilities arising from financing activities|(172270, 3857884)',\n",
       " 'The increase (decrease) in liabilities arising from financing activities resulting from the effect of changes in foreign exchange rates. [Refer: Liabilities arising from financing activities]|(172270, 3857884)',\n",
       " 'disclosure: IAS 7 44B c|(172270, 3857884)',\n",
       " 'ifrs-full|(172270, 3857884)',\n",
       " 'IncreaseDecreaseThroughExerciseOfOptions|(172270, 3857884)',\n",
       " 'X duration credit|(172270, 3857884)',\n",
       " 'Increase (decrease) through exercise of options, equity|(172270, 3857884)',\n",
       " 'The increase (decrease) in equity resulting from the exercise of options.|(172270, 3857884)',\n",
       " 'common practice: IAS 1 106 d|(172270, 3857884)',\n",
       " 'ifrs-full|(172270, 3857884)',\n",
       " 'IncreaseDecreaseThroughExerciseOfWarrantsEquity|(172270, 3857884)',\n",
       " 'X duration credit|(172270, 3857884)',\n",
       " 'Increase (decrease) through exercise of warrants, equity|(172270, 3857884)',\n",
       " 'The increase (decrease) in equity resulting from the exercise of warrants.|(172270, 3857884)',\n",
       " 'common practice: IAS 1 106 d|(172270, 3857884)',\n",
       " 'ifrs-full|(172270, 3857884)',\n",
       " 'IncreaseDecreaseThroughFinancingCashFlowsLiabilitiesArisingFromFinancingActivities|(172270, 3857884)',\n",
       " 'X duration credit|(172270, 3857884)',\n",
       " 'Increase (decrease) through financing cash flows, liabilities arising from financing activities|(172270, 3857884)',\n",
       " 'The increase (decrease) in liabilities arising from financing activities resulting from financing cash flows. [Refer: Cash flows from (used in) financing activities; Liabilities arising from financing activities]|(172270, 3857884)',\n",
       " 'disclosure: IAS 7 44B a|(172270, 3857884)',\n",
       " 'ifrs-full|(172270, 3857884)',\n",
       " 'IncreaseDecreaseThroughForeignExchangeAndOtherMovementsExposureToCreditRiskOnLoanCommitmentsAndFinancialGuaranteeContracts|(172270, 3857884)',\n",
       " 'X duration credit|(172270, 3857884)',\n",
       " 'Increase (decrease) through foreign exchange and other movements, exposure to credit risk on loan commitments and financial guarantee contracts|(172270, 3857884)',\n",
       " 'The increase (decrease) in exposure to credit risk on loan commitments and financial guarantee contracts resulting from foreign exchange and other movements. [Refer: Exposure to credit risk on loan commitments and financial guarantee contracts]|(172270, 3857884)',\n",
       " 'example: IFRS 7 IG20B - Effective 2018.01.01, example: IFRS 7 35H - Effective 2018.01.01|(172270, 3857884)',\n",
       " 'ifrs-full|(172270, 3857884)',\n",
       " 'IncreaseDecreaseThroughForeignExchangeAndOtherMovementsExposureToCreditRiskOnLoanCommitmentsAndFinancialGuaranteeContractsAbstract|(172270, 3857884)',\n",
       " 'Increase (decrease) through foreign exchange and other movements, exposure to credit risk on loan commitments and financial guarantee contracts [abstract]|(172270, 3857884)',\n",
       " 'ifrs-full|(172270, 3857884)',\n",
       " 'IncreaseDecreaseThroughForeignExchangeAndOtherMovementsFinancialAssets|(172270, 3857884)',\n",
       " 'X duration debit|(172270, 3857884)',\n",
       " 'Increase (decrease) through foreign exchange and other movements, financial assets|(172270, 3857884)',\n",
       " 'The increase (decrease) in financial assets resulting from foreign exchange and other movements. [Refer: Financial assets]|(172270, 3857884)',\n",
       " 'example: IFRS 7 IG20B - Effective 2018.01.01, example: IFRS 7 35H - Effective 2018.01.01|(172270, 3857884)',\n",
       " 'ifrs-full|(172270, 3857884)',\n",
       " 'IncreaseDecreaseThroughForeignExchangeAndOtherMovementsFinancialAssetsAbstract|(172270, 3857884)',\n",
       " 'Increase (decrease) through foreign exchange and other movements, financial assets [abstract]|(172270, 3857884)',\n",
       " 'ifrs-full|(172270, 3857884)',\n",
       " 'IncreaseDecreaseThroughForeignExchangeExposureToCreditRiskOnLoanCommitmentsAndFinancialGuaranteeContracts|(172270, 3857884)',\n",
       " 'X duration credit|(172270, 3857884)',\n",
       " 'Increase (decrease) through foreign exchange, exposure to credit risk on loan commitments and financial guarantee contracts|(172270, 3857884)',\n",
       " 'The increase (decrease) in exposure to credit risk on loan commitments and financial guarantee contracts resulting from foreign exchange. [Refer: Exposure to credit risk on loan commitments and financial guarantee contracts]|(172270, 3857884)',\n",
       " 'example: IFRS 7 IG20B - Effective 2018.01.01, example: IFRS 7 35H - Effective 2018.01.01|(172270, 3857884)',\n",
       " 'ifrs-full|(172270, 3857884)',\n",
       " 'IncreaseDecreaseThroughForeignExchangeFinancialAssets|(172270, 3857884)',\n",
       " 'X duration debit|(172270, 3857884)',\n",
       " 'Increase (decrease) through foreign exchange, financial assets|(172270, 3857884)',\n",
       " 'The increase (decrease) in financial assets resulting from foreign exchange. [Refer: Financial assets]|(172270, 3857884)',\n",
       " 'example: IFRS 7 IG20B - Effective 2018.01.01, example: IFRS 7 35H - Effective 2018.01.01|(172270, 3857884)',\n",
       " 'ifrs-full|(172270, 3857884)',\n",
       " 'IncreaseDecreaseThroughLossOfControlOfSubsidiaryDeferredTaxLiabilityAsset|(172270, 3857884)',\n",
       " 'X duration credit|(172270, 3857884)',\n",
       " 'Increase (decrease) through loss of control of subsidiary, deferred tax liability (asset)|(172270, 3857884)',\n",
       " 'The decrease in deferred tax liability (asset) resulting from the loss of control of a subsidiary. [Refer: Deferred tax liability (asset)]|(172270, 3857884)',\n",
       " 'common practice: IAS 12 81|(172270, 3857884)',\n",
       " 'ifrs-full|(172270, 3857884)',\n",
       " 'IncreaseDecreaseThroughModificationOfContractualCashFlowsExposureToCreditRiskOnLoanCommitmentsAndFinancialGuaranteeContracts|(172270, 3857884)',\n",
       " 'X duration credit|(172270, 3857884)',\n",
       " 'Increase (decrease) through modification of contractual cash flows, exposure to credit risk on loan commitments and financial guarantee contracts|(172270, 3857884)',\n",
       " 'The increase (decrease) in exposure to credit risk on loan commitments and financial guarantee contracts resulting from the modification of contractual cash flows. [Refer: Exposure to credit risk on loan commitments and financial guarantee contracts]|(172270, 3857884)',\n",
       " 'example: IFRS 7 35I b - Effective 2018.01.01|(172270, 3857884)',\n",
       " 'ifrs-full|(172270, 3857884)',\n",
       " 'IncreaseDecreaseThroughModificationOfContractualCashFlowsFinancialAssets|(172270, 3857884)',\n",
       " 'X duration debit|(172270, 3857884)',\n",
       " 'Increase (decrease) through modification of contractual cash flows, financial assets|(172270, 3857884)',\n",
       " 'The increase (decrease) in financial assets resulting from the modification of contractual cash flows. [Refer: Financial assets]|(172270, 3857884)',\n",
       " 'example: IFRS 7 35I b - Effective 2018.01.01|(172270, 3857884)',\n",
       " 'ifrs-full|(172270, 3857884)',\n",
       " 'IncreaseDecreaseThroughNetExchangeDifferencesAllowanceAccountForCreditLossesOfFinancialAssets|(172270, 3857884)',\n",
       " 'X duration credit|(172270, 3857884)',\n",
       " 'Increase (decrease) through net exchange differences, allowance account for credit losses of financial assets|(172270, 3857884)',\n",
       " 'The increase (decrease) in an allowance account for credit losses of financial assets resulting from the net exchange differences arising when the financial statements are translated from the functional currency into a different presentation currency, including the translation of a foreign operation into the presentation currency of the reporting entity. [Refer: Allowance account for credit losses of financial assets]|(172270, 3857884)',\n",
       " 'common practice: IFRS 7 16 - Expiry date 2018.01.01|(172270, 3857884)',\n",
       " 'ifrs-full|(172270, 3857884)',\n",
       " 'IncreaseDecreaseThroughNetExchangeDifferencesBiologicalAssets|(172270, 3857884)',\n",
       " 'X duration debit|(172270, 3857884)',\n",
       " 'Increase (decrease) through net exchange differences, biological assets|(172270, 3857884)',\n",
       " 'The increase (decrease) in biological assets resulting from net exchange differences arising on the translation of the financial statements from the functional currency into a different presentation currency, including the translation of a foreign operation into the presentation currency of the reporting entity. [Refer: Biological assets]|(172270, 3857884)',\n",
       " 'disclosure: IAS 41 50 f|(172270, 3857884)',\n",
       " 'ifrs-full|(172270, 3857884)',\n",
       " 'IncreaseDecreaseThroughNetExchangeDifferencesDeferredAcquisitionCostsArisingFromInsuranceContracts|(172270, 3857884)',\n",
       " 'X duration debit|(172270, 3857884)',\n",
       " 'Increase (decrease) through net exchange differences, deferred acquisition costs arising from insurance contracts|(172270, 3857884)',\n",
       " 'The increase (decrease) in deferred acquisition costs arising from insurance contracts resulting from the net exchange differences arising when the financial statements are translated from the functional currency into a different presentation currency, including the translation of a foreign operation into the presentation currency of the reporting entity. [Refer: Deferred acquisition costs arising from insurance contracts]|(172270, 3857884)',\n",
       " 'common practice: IFRS 4 37 e|(172270, 3857884)',\n",
       " 'ifrs-full|(172270, 3857884)',\n",
       " 'IncreaseDecreaseThroughNetExchangeDifferencesDeferredTaxLiabilityAsset|(172270, 3857884)',\n",
       " 'X duration credit|(172270, 3857884)',\n",
       " 'Increase (decrease) through net exchange differences, deferred tax liability (asset)|(172270, 3857884)',\n",
       " 'The increase (decrease) in deferred tax liability (asset) resulting from the net exchange differences arising when the financial statements are translated from the functional currency into a different presentation currency, including the translation of a foreign operation into the presentation currency of the reporting entity. [Refer: Deferred tax liability (asset)]|(172270, 3857884)',\n",
       " 'common practice: IAS 12 81|(172270, 3857884)',\n",
       " 'ifrs-full|(172270, 3857884)',\n",
       " 'IncreaseDecreaseThroughNetExchangeDifferencesGoodwill|(172270, 3857884)',\n",
       " 'X duration debit|(172270, 3857884)',\n",
       " 'Increase (decrease) through net exchange differences, goodwill|(172270, 3857884)',\n",
       " 'The increase (decrease) in goodwill resulting from net exchange differences arising on the translation of the financial statements from the functional currency into a different presentation currency, including the translation of a foreign operation into the presentation currency of the reporting entity. [Refer: Goodwill]|(172270, 3857884)',\n",
       " 'disclosure: IFRS 3 B67 d vi|(172270, 3857884)',\n",
       " 'ifrs-full|(172270, 3857884)',\n",
       " 'IncreaseDecreaseThroughNetExchangeDifferencesIntangibleAssetsAndGoodwill|(172270, 3857884)',\n",
       " 'X duration debit|(172270, 3857884)',\n",
       " 'Increase (decrease) through net exchange differences, intangible assets and goodwill|(172270, 3857884)',\n",
       " 'The increase (decrease) in intangible assets and goodwill resulting from the net exchange differences arising when the financial statements are translated from the functional currency into a different presentation currency, including the translation of a foreign operation into the presentation currency of the reporting entity. [Refer: Intangible assets and goodwill]|(172270, 3857884)',\n",
       " 'common practice: IAS 38 118 e vii|(172270, 3857884)',\n",
       " 'ifrs-full|(172270, 3857884)',\n",
       " 'IncreaseDecreaseThroughNetExchangeDifferencesIntangibleAssetsOtherThanGoodwill|(172270, 3857884)',\n",
       " 'X duration debit|(172270, 3857884)',\n",
       " 'Increase (decrease) through net exchange differences, intangible assets other than goodwill|(172270, 3857884)',\n",
       " 'The increase (decrease) in intangible assets other than goodwill resulting from net exchange differences arising on the translation of the financial statements from the functional currency into a different presentation currency, including the translation of a foreign operation into the presentation currency of the reporting entity. [Refer: Intangible assets other than goodwill]|(172270, 3857884)',\n",
       " 'disclosure: IAS 38 118 e vii|(172270, 3857884)',\n",
       " 'ifrs-full|(172270, 3857884)',\n",
       " 'IncreaseDecreaseThroughNetExchangeDifferencesInvestmentProperty|(172270, 3857884)',\n",
       " 'X duration debit|(172270, 3857884)',\n",
       " 'Increase (decrease) through net exchange differences, investment property|(172270, 3857884)',\n",
       " 'The increase (decrease) in investment property resulting from net exchange differences arising on the translation of the financial statements from the functional currency into a different presentation currency, including the translation of a foreign operation into the presentation currency of the reporting entity. [Refer: Investment property]|(172270, 3857884)',\n",
       " 'disclosure: IAS 40 76 e, disclosure: IAS 40 79 d vi|(172270, 3857884)',\n",
       " 'ifrs-full|(172270, 3857884)',\n",
       " 'IncreaseDecreaseThroughNetExchangeDifferencesLiabilitiesUnderInsuranceContractsAndReinsuranceContractsIssued|(172270, 3857884)',\n",
       " 'X duration credit|(172270, 3857884)',\n",
       " 'Increase (decrease) through net exchange differences, liabilities under insurance contracts and reinsurance contracts issued|(172270, 3857884)',\n",
       " 'The change in insurance liabilities resulting from the net exchange differences that arise on the translation of the financial statements into a different presentation currency, and on the translation of a foreign operation into the presentation currency. [Refer: Liabilities under insurance contracts and reinsurance contracts issued]|(172270, 3857884)',\n",
       " 'example: IFRS 4 IG37 f, example: IFRS 4 37 e|(172270, 3857884)',\n",
       " 'ifrs-full|(172270, 3857884)',\n",
       " 'IncreaseDecreaseThroughNetExchangeDifferencesOtherProvisions|(172270, 3857884)',\n",
       " 'X duration credit|(172270, 3857884)',\n",
       " 'Increase (decrease) through net exchange differences, other provisions|(172270, 3857884)',\n",
       " \"The increase (decrease) in other provisions resulting from foreign currency exchange rate changes on provisions measured in a currency different from the entity's presentation currency. [Refer: Other provisions]|(172270, 3857884)\",\n",
       " 'common practice: IAS 37 84|(172270, 3857884)',\n",
       " 'ifrs-full|(172270, 3857884)',\n",
       " 'IncreaseDecreaseThroughNetExchangeDifferencesPropertyPlantAndEquipment|(172270, 3857884)',\n",
       " 'X duration debit|(172270, 3857884)',\n",
       " 'Increase (decrease) through net exchange differences, property, plant and equipment|(172270, 3857884)',\n",
       " 'The increase (decrease) in property, plant and equipment resulting from net exchange differences arising on the translation of the financial statements from the functional currency into a different presentation currency, including the translation of a foreign operation into the presentation currency of the reporting entity. [Refer: Property, plant and equipment]|(172270, 3857884)',\n",
       " 'disclosure: IAS 16 73 e viii|(172270, 3857884)',\n",
       " 'ifrs-full|(172270, 3857884)',\n",
       " 'IncreaseDecreaseThroughNetExchangeDifferencesReimbursementRightsAtFairValue|(172270, 3857884)',\n",
       " 'X duration debit|(172270, 3857884)',\n",
       " 'Increase (decrease) through net exchange differences, reimbursement rights, at fair value|(172270, 3857884)',\n",
       " \"The increase (decrease) in the fair value of reimbursement rights resulting from foreign currency exchange rate changes on plans measured in a currency that is different from the entity's presentation currency. [Refer: At fair value [member]; Reimbursement rights, at fair value]|(172270, 3857884)\",\n",
       " 'disclosure: IAS 19 141 e|(172270, 3857884)',\n",
       " 'ifrs-full|(172270, 3857884)',\n",
       " 'IncreaseDecreaseThroughNetExchangeDifferencesReinsuranceAssets|(172270, 3857884)',\n",
       " 'X duration debit|(172270, 3857884)',\n",
       " 'Increase (decrease) through net exchange differences, reinsurance assets|(172270, 3857884)',\n",
       " 'The increase (decrease) in reinsurance assets resulting from the net exchange differences arising when the financial statements are translated from the functional currency into a different presentation currency, including the translation of a foreign operation into the presentation currency of the reporting entity. [Refer: Reinsurance assets]|(172270, 3857884)',\n",
       " 'common practice: IFRS 4 37 e|(172270, 3857884)',\n",
       " 'ifrs-full|(172270, 3857884)',\n",
       " 'IncreaseDecreaseThroughNewTransactionsAggregateDifferenceBetweenFairValueAtInitialRecognitionAndAmountDeterminedUsingValuationTechniqueYetToBeRecognised|(172270, 3857884)',\n",
       " 'X duration|(172270, 3857884)',\n",
       " 'Increase (decrease) through new transactions, aggregate difference between fair value at initial recognition and transaction price yet to be recognised in profit or loss|(172270, 3857884)',\n",
       " 'The increase (decrease) in the aggregate difference between the fair value at initial recognition and the transaction price of financial instruments yet to be recognised in profit or loss resulting from new transactions. [Refer: Aggregate difference between fair value at initial recognition and transaction price yet to be recognised in profit or loss; Financial instruments, class [member]]|(172270, 3857884)',\n",
       " 'example: IFRS 7 IG14, example: IFRS 7 28 b|(172270, 3857884)',\n",
       " 'ifrs-full|(172270, 3857884)',\n",
       " 'IncreaseDecreaseThroughObtainingOrLosingControlOfSubsidiariesOrOtherBusinessesLiabilitiesArisingFromFinancingActivities|(172270, 3857884)',\n",
       " 'X duration credit|(172270, 3857884)',\n",
       " 'Increase (decrease) through obtaining or losing control of subsidiaries or other businesses, liabilities arising from financing activities|(172270, 3857884)',\n",
       " 'The increase (decrease) in liabilities arising from financing activities resulting from obtaining or losing control of subsidiaries or other businesses. [Refer: Liabilities arising from financing activities; Subsidiaries [member]]|(172270, 3857884)',\n",
       " 'disclosure: IAS 7 44B b|(172270, 3857884)',\n",
       " 'ifrs-full|(172270, 3857884)',\n",
       " 'IncreaseDecreaseThroughOtherChangesAllowanceAccountForCreditLossesOfFinancialAssets|(172270, 3857884)',\n",
       " 'X duration credit|(172270, 3857884)',\n",
       " 'Increase (decrease) through other changes, allowance account for credit losses of financial assets|(172270, 3857884)',\n",
       " 'The increase (decrease) in allowance account for credit losses of financial assets resulting from changes that the entity does not separately disclose in the same statement or note. [Refer: Allowance account for credit losses of financial assets]|(172270, 3857884)',\n",
       " 'common practice: IFRS 7 16 - Expiry date 2018.01.01|(172270, 3857884)',\n",
       " 'ifrs-full|(172270, 3857884)',\n",
       " 'IncreaseDecreaseThroughOtherChangesDeferredAcquisitionCostsArisingFromInsuranceContracts|(172270, 3857884)',\n",
       " 'X duration debit|(172270, 3857884)',\n",
       " 'Increase (decrease) through other changes, deferred acquisition costs arising from insurance contracts|(172270, 3857884)',\n",
       " 'The increase (decrease) in deferred acquisition costs arising from insurance contracts resulting from changes that the entity does not separately disclose in the same statement or note. [Refer: Deferred acquisition costs arising from insurance contracts]|(172270, 3857884)',\n",
       " 'example: IFRS 4 IG39 e, example: IFRS 4 37 e|(172270, 3857884)',\n",
       " 'ifrs-full|(172270, 3857884)',\n",
       " 'IncreaseDecreaseThroughOtherChangesIntangibleAssetsAndGoodwill|(172270, 3857884)',\n",
       " 'X duration debit|(172270, 3857884)',\n",
       " 'Increase (decrease) through other changes, intangible assets and goodwill|(172270, 3857884)',\n",
       " 'The increase (decrease) in intangible assets and goodwill resulting from changes that the entity does not separately disclose in the same statement or note. [Refer: Intangible assets and goodwill]|(172270, 3857884)',\n",
       " 'common practice: IAS 38 118 e viii|(172270, 3857884)',\n",
       " 'ifrs-full|(172270, 3857884)',\n",
       " 'IncreaseDecreaseThroughOtherChangesIntangibleAssetsOtherThanGoodwill|(172270, 3857884)',\n",
       " 'X duration debit|(172270, 3857884)',\n",
       " 'Increase (decrease) through other changes, intangible assets other than goodwill|(172270, 3857884)',\n",
       " 'The increase (decrease) in intangible assets other than goodwill resulting from changes that the entity does not separately disclose in the same statement or note. [Refer: Intangible assets other than goodwill]|(172270, 3857884)',\n",
       " 'disclosure: IAS 38 118 e viii|(172270, 3857884)',\n",
       " 'ifrs-full|(172270, 3857884)',\n",
       " 'IncreaseDecreaseThroughOtherChangesInvestmentProperty|(172270, 3857884)',\n",
       " 'X duration debit|(172270, 3857884)',\n",
       " 'Increase (decrease) through other changes, investment property|(172270, 3857884)',\n",
       " 'The increase (decrease) in investment property resulting from changes that the entity does not separately disclose in the same statement or note. [Refer: Investment property]|(172270, 3857884)',\n",
       " 'disclosure: IAS 40 79 d viii, disclosure: IAS 40 76 g|(172270, 3857884)',\n",
       " 'ifrs-full|(172270, 3857884)',\n",
       " 'IncreaseDecreaseThroughOtherChangesLiabilitiesArisingFromFinancingActivities|(172270, 3857884)',\n",
       " 'X duration credit|(172270, 3857884)',\n",
       " 'Increase (decrease) through other changes, liabilities arising from financing activities|(172270, 3857884)',\n",
       " 'The increase (decrease) in liabilities arising from financing activities resulting from changes that the entity does not separately disclose in the same statement or note. [Refer: Liabilities arising from financing activities]|(172270, 3857884)',\n",
       " 'disclosure: IAS 7 44B e|(172270, 3857884)',\n",
       " 'ifrs-full|(172270, 3857884)',\n",
       " 'IncreaseDecreaseThroughOtherChangesLiabilitiesUnderInsuranceContractsAndReinsuranceContractsIssued|(172270, 3857884)',\n",
       " 'X duration credit|(172270, 3857884)',\n",
       " 'Increase (decrease) through other changes, liabilities under insurance contracts and reinsurance contracts issued|(172270, 3857884)',\n",
       " 'The increase (decrease) in liabilities under insurance contracts and reinsurance contracts issued resulting from changes that the entity does not separately disclose in the same statement or note. [Refer: Liabilities under insurance contracts and reinsurance contracts issued]|(172270, 3857884)',\n",
       " 'example: IFRS 4 IG37, example: IFRS 4 37 e|(172270, 3857884)',\n",
       " 'ifrs-full|(172270, 3857884)',\n",
       " 'IncreaseDecreaseThroughOtherChangesNetDefinedBenefitLiabilityAsset|(172270, 3857884)',\n",
       " 'X duration credit|(172270, 3857884)',\n",
       " 'Increase (decrease) through other changes, net defined benefit liability (asset)|(172270, 3857884)',\n",
       " 'The increase (decrease) in the net defined benefit liability (asset) resulting from changes that the entity does not separately disclose in the same statement or note. [Refer: Net defined benefit liability (asset)]|(172270, 3857884)',\n",
       " 'common practice: IAS 19 141|(172270, 3857884)',\n",
       " 'ifrs-full|(172270, 3857884)',\n",
       " 'IncreaseDecreaseThroughOtherChangesPropertyPlantAndEquipment|(172270, 3857884)',\n",
       " 'X duration debit|(172270, 3857884)',\n",
       " 'Increase (decrease) through other changes, property, plant and equipment|(172270, 3857884)',\n",
       " 'The increase (decrease) in property, plant and equipment resulting from changes that the entity does not separately disclose in the same statement or note. [Refer: Property, plant and equipment]|(172270, 3857884)',\n",
       " 'disclosure: IAS 16 73 e ix|(172270, 3857884)',\n",
       " 'ifrs-full|(172270, 3857884)',\n",
       " 'IncreaseDecreaseThroughOtherChangesRegulatoryDeferralAccountCreditBalances|(172270, 3857884)',\n",
       " 'X duration credit|(172270, 3857884)',\n",
       " 'Increase (decrease) through other changes, regulatory deferral account credit balances|(172270, 3857884)',\n",
       " 'The increase (decrease) in regulatory deferral account credit balances resulting from changes that the entity does not separately disclose in the same statement or note. [Refer: Regulatory deferral account credit balances]|(172270, 3857884)',\n",
       " 'example: IFRS 14 33 a iii|(172270, 3857884)',\n",
       " 'ifrs-full|(172270, 3857884)',\n",
       " 'IncreaseDecreaseThroughOtherChangesRegulatoryDeferralAccountCreditBalancesAbstract|(172270, 3857884)',\n",
       " 'Increase (decrease) through other changes, regulatory deferral account credit balances [abstract]|(172270, 3857884)',\n",
       " 'ifrs-full|(172270, 3857884)',\n",
       " 'IncreaseDecreaseThroughOtherChangesRegulatoryDeferralAccountDebitBalances|(172270, 3857884)',\n",
       " 'X duration debit|(172270, 3857884)',\n",
       " 'Increase (decrease) through other changes, regulatory deferral account debit balances|(172270, 3857884)',\n",
       " 'The increase (decrease) in regulatory deferral account debit balances resulting from changes that the entity does not separately disclose in the same statement or note. [Refer: Regulatory deferral account debit balances]|(172270, 3857884)',\n",
       " 'example: IFRS 14 33 a iii|(172270, 3857884)',\n",
       " 'ifrs-full|(172270, 3857884)',\n",
       " 'IncreaseDecreaseThroughOtherChangesRegulatoryDeferralAccountDebitBalancesAbstract|(172270, 3857884)',\n",
       " 'Increase (decrease) through other changes, regulatory deferral account debit balances [abstract]|(172270, 3857884)',\n",
       " 'ifrs-full|(172270, 3857884)',\n",
       " 'IncreaseDecreaseThroughOtherChangesReinsuranceAssets|(172270, 3857884)',\n",
       " 'X duration debit|(172270, 3857884)',\n",
       " 'Increase (decrease) through other changes, reinsurance assets|(172270, 3857884)',\n",
       " 'The increase (decrease) in reinsurance assets resulting from changes that the entity does not separately disclose in the same statement or note. [Refer: Reinsurance assets]|(172270, 3857884)',\n",
       " 'common practice: IFRS 4 37 e|(172270, 3857884)',\n",
       " 'ifrs-full|(172270, 3857884)',\n",
       " 'IncreaseDecreaseThroughOtherContributionsByOwners|(172270, 3857884)',\n",
       " 'X duration credit|(172270, 3857884)',\n",
       " 'Increase through other contributions by owners, equity|(172270, 3857884)',\n",
       " 'The increase in equity through other contributions by owners that the entity does not separately disclose in the same statement or note.|(172270, 3857884)',\n",
       " 'disclosure: IAS 1 106 d iii|(172270, 3857884)',\n",
       " 'ifrs-full|(172270, 3857884)',\n",
       " 'IncreaseDecreaseThroughOtherDistributionsToOwners|(172270, 3857884)',\n",
       " 'X duration debit|(172270, 3857884)',\n",
       " 'Decrease through other distributions to owners, equity|(172270, 3857884)',\n",
       " 'The decrease in equity through distributions to owners that the entity does not separately disclose in the same statement or note.|(172270, 3857884)',\n",
       " 'disclosure: IAS 1 106 d iii|(172270, 3857884)',\n",
       " 'ifrs-full|(172270, 3857884)',\n",
       " 'IncreaseDecreaseThroughOtherMovementsExposureToCreditRiskOnLoanCommitmentsAndFinancialGuaranteeContracts|(172270, 3857884)',\n",
       " 'X duration credit|(172270, 3857884)',\n",
       " 'Increase (decrease) through other movements, exposure to credit risk on loan commitments and financial guarantee contracts|(172270, 3857884)',\n",
       " 'The increase (decrease) in exposure to credit risk on loan commitments and financial guarantee contracts resulting from other movements. [Refer: Exposure to credit risk on loan commitments and financial guarantee contracts]|(172270, 3857884)',\n",
       " 'example: IFRS 7 IG20B - Effective 2018.01.01, example: IFRS 7 35H - Effective 2018.01.01, example: IFRS 7 35I - Effective 2018.01.01|(172270, 3857884)',\n",
       " 'ifrs-full|(172270, 3857884)',\n",
       " 'IncreaseDecreaseThroughOtherMovementsFinancialAssets|(172270, 3857884)',\n",
       " 'X duration debit|(172270, 3857884)',\n",
       " 'Increase (decrease) through other movements, financial assets|(172270, 3857884)',\n",
       " 'The increase (decrease) in financial assets resulting from other movements. [Refer: Financial assets]|(172270, 3857884)',\n",
       " 'example: IFRS 7 IG20B - Effective 2018.01.01, example: IFRS 7 35H - Effective 2018.01.01, example: IFRS 7 35I - Effective 2018.01.01|(172270, 3857884)',\n",
       " 'ifrs-full|(172270, 3857884)',\n",
       " 'IncreaseDecreaseThroughShadowAccountingDeferredAcquisitionCostsArisingFromInsuranceContracts|(172270, 3857884)',\n",
       " 'X duration debit|(172270, 3857884)',\n",
       " 'Increase (decrease) through shadow accounting, deferred acquisition costs arising from insurance contracts|(172270, 3857884)',\n",
       " 'The increase (decrease) in deferred acquisition costs arising from insurance contracts that result from shadow accounting. Shadow accounting is a practice with the following two features: (a) a recognised but unrealised gain or loss on an asset affects the measurement of the insurance liability in the same way that a realised gain or loss does; and (b) if unrealised gains or losses on an asset are recognised directly in equity, the resulting change in the carrying amount of the insurance liability is also recognised in equity. [Refer: Deferred acquisition costs arising from insurance contracts]|(172270, 3857884)',\n",
       " 'common practice: IFRS 4 37 e|(172270, 3857884)',\n",
       " 'ifrs-full|(172270, 3857884)',\n",
       " 'IncreaseDecreaseThroughSharebasedPaymentTransactions|(172270, 3857884)',\n",
       " 'X duration credit|(172270, 3857884)',\n",
       " 'Increase (decrease) through share-based payment transactions, equity|(172270, 3857884)',\n",
       " 'The increase (decrease) in equity resulting from share-based payment transactions. [Refer: Equity]|(172270, 3857884)',\n",
       " 'disclosure: IAS 1 106 d iii|(172270, 3857884)',\n",
       " 'ifrs-full|(172270, 3857884)',\n",
       " 'IncreaseDecreaseThroughTimeValueOfMoneyAdjustmentOtherProvisions|(172270, 3857884)',\n",
       " 'X duration credit|(172270, 3857884)',\n",
       " 'Increase through adjustments arising from passage of time, other provisions|(172270, 3857884)',\n",
       " 'The increase in other provisions through adjustments arising from the passage of time. [Refer: Other provisions]|(172270, 3857884)',\n",
       " 'disclosure: IAS 37 84 e|(172270, 3857884)',\n",
       " 'ifrs-full|(172270, 3857884)',\n",
       " 'IncreaseDecreaseThroughTransactionsWithOwners|(172270, 3857884)',\n",
       " 'X duration credit|(172270, 3857884)',\n",
       " 'Increase (decrease) through transactions with owners, equity|(172270, 3857884)',\n",
       " 'The increase (decrease) in equity resulting from transactions with owners.|(172270, 3857884)',\n",
       " 'common practice: IAS 1 106 d|(172270, 3857884)',\n",
       " 'ifrs-full|(172270, 3857884)',\n",
       " 'IncreaseDecreaseThroughTransferBetweenRevaluationReserveAndRetainedEarnings|(172270, 3857884)',\n",
       " 'X duration credit|(172270, 3857884)',\n",
       " 'Increase (decrease) through transfer between revaluation surplus and retained earnings, equity|(172270, 3857884)',\n",
       " 'The increase (decrease) in equity resulting from transfers between a revaluation surplus and retained earnings. [Refer: Retained earnings; Revaluation surplus]|(172270, 3857884)',\n",
       " 'common practice: IAS 1 106 d|(172270, 3857884)',\n",
       " 'ifrs-full|(172270, 3857884)',\n",
       " 'IncreaseDecreaseThroughTransfersAndOtherChangesBiologicalAssets|(172270, 3857884)',\n",
       " 'X duration debit|(172270, 3857884)',\n",
       " 'Increase (decrease) through other changes, biological assets|(172270, 3857884)',\n",
       " 'The increase (decrease) in biological assets resulting from changes that the entity does not separately disclose in the same statement or note. [Refer: Biological assets]|(172270, 3857884)',\n",
       " 'disclosure: IAS 41 50 g|(172270, 3857884)',\n",
       " 'ifrs-full|(172270, 3857884)',\n",
       " 'IncreaseDecreaseThroughTransfersAndOtherChangesEquity|(172270, 3857884)',\n",
       " 'X duration credit|(172270, 3857884)',\n",
       " 'Increase (decrease) through other changes, equity|(172270, 3857884)',\n",
       " 'The increase (decrease) in equity resulting from changes that the entity does not separately disclose in the same statement or note. [Refer: Equity]|(172270, 3857884)',\n",
       " 'disclosure: IAS 1 106 d|(172270, 3857884)',\n",
       " 'ifrs-full|(172270, 3857884)',\n",
       " 'IncreaseDecreaseThroughTransfersAndOtherChangesGoodwill|(172270, 3857884)',\n",
       " 'X duration debit|(172270, 3857884)',\n",
       " 'Increase (decrease) through other changes, goodwill|(172270, 3857884)',\n",
       " 'The increase (decrease) in goodwill resulting from changes that the entity does not separately disclose in the same statement or note. [Refer: Goodwill]|(172270, 3857884)',\n",
       " 'disclosure: IFRS 3 B67 d vii|(172270, 3857884)',\n",
       " 'ifrs-full|(172270, 3857884)',\n",
       " 'IncreaseDecreaseThroughTransfersAndOtherChangesIntangibleAssetsAndGoodwill|(172270, 3857884)',\n",
       " 'X duration debit|(172270, 3857884)',\n",
       " 'Increase (decrease) through transfers and other changes, intangible assets and goodwill|(172270, 3857884)',\n",
       " 'The increase (decrease) in intangible assets and goodwill resulting from transfers and changes that the entity does not separately disclose in the same statement or note. [Refer: Intangible assets and goodwill]|(172270, 3857884)',\n",
       " 'common practice: IAS 38 118 e|(172270, 3857884)',\n",
       " 'ifrs-full|(172270, 3857884)',\n",
       " 'IncreaseDecreaseThroughTransfersAndOtherChangesIntangibleAssetsAndGoodwillAbstract|(172270, 3857884)',\n",
       " 'Increase (decrease) through transfers and other changes, intangible assets and goodwill [abstract]|(172270, 3857884)',\n",
       " 'ifrs-full|(172270, 3857884)',\n",
       " 'IncreaseDecreaseThroughTransfersAndOtherChangesIntangibleAssetsOtherThanGoodwill|(172270, 3857884)',\n",
       " 'X duration debit|(172270, 3857884)',\n",
       " 'Increase (decrease) through transfers and other changes, intangible assets other than goodwill|(172270, 3857884)',\n",
       " 'The increase (decrease) in intangible assets other than goodwill resulting from transfers and changes that the entity does not separately disclose in the same statement or note. [Refer: Intangible assets other than goodwill]|(172270, 3857884)',\n",
       " 'common practice: IAS 38 118 e|(172270, 3857884)',\n",
       " 'ifrs-full|(172270, 3857884)',\n",
       " 'IncreaseDecreaseThroughTransfersAndOtherChangesIntangibleAssetsOtherThanGoodwillAbstract|(172270, 3857884)',\n",
       " 'Increase (decrease) through transfers and other changes, intangible assets other than goodwill [abstract]|(172270, 3857884)',\n",
       " 'ifrs-full|(172270, 3857884)',\n",
       " 'IncreaseDecreaseThroughTransfersAndOtherChangesOtherProvisions|(172270, 3857884)',\n",
       " 'X duration credit|(172270, 3857884)',\n",
       " 'Increase (decrease) through transfers and other changes, other provisions|(172270, 3857884)',\n",
       " 'The increase (decrease) in other provisions resulting from transfers and changes that the entity does not separately disclose in the same statement or note. [Refer: Other provisions]|(172270, 3857884)',\n",
       " 'common practice: IAS 37 84|(172270, 3857884)',\n",
       " 'ifrs-full|(172270, 3857884)',\n",
       " 'IncreaseDecreaseThroughTransfersAndOtherChangesPropertyPlantAndEquipment|(172270, 3857884)',\n",
       " 'X duration debit|(172270, 3857884)',\n",
       " 'Increase (decrease) through transfers and other changes, property, plant and equipment|(172270, 3857884)',\n",
       " 'The increase (decrease) in property, plant and equipment resulting from transfers and changes that the entity does not separately disclose in the same statement or note. [Refer: Property, plant and equipment]|(172270, 3857884)',\n",
       " 'common practice: IAS 16 73 e|(172270, 3857884)',\n",
       " 'ifrs-full|(172270, 3857884)',\n",
       " 'IncreaseDecreaseThroughTransfersAndOtherChangesPropertyPlantAndEquipmentAbstract|(172270, 3857884)',\n",
       " 'Increase (decrease) through transfers and other changes, property, plant and equipment [abstract]|(172270, 3857884)',\n",
       " 'ifrs-full|(172270, 3857884)',\n",
       " 'IncreaseDecreaseThroughTransfersExposureToCreditRiskOnLoanCommitmentsAndFinancialGuaranteeContracts|(172270, 3857884)',\n",
       " 'X duration credit|(172270, 3857884)',\n",
       " 'Increase (decrease) through transfers, exposure to credit risk on loan commitments and financial guarantee contracts|(172270, 3857884)',\n",
       " 'The increase (decrease) in exposure to credit risk on loan commitments and financial guarantee contracts resulting from transfers. [Refer: Exposure to credit risk on loan commitments and financial guarantee contracts]|(172270, 3857884)',\n",
       " 'example: IFRS 7 IG20B - Effective 2018.01.01, example: IFRS 7 35I d - Effective 2018.01.01, example: IFRS 7 35H - Effective 2018.01.01|(172270, 3857884)',\n",
       " 'ifrs-full|(172270, 3857884)',\n",
       " 'IncreaseDecreaseThroughTransfersFinancialAssets|(172270, 3857884)',\n",
       " 'X duration debit|(172270, 3857884)',\n",
       " 'Increase (decrease) through transfers, financial assets|(172270, 3857884)',\n",
       " 'The increase (decrease) in financial assets resulting from transfers. [Refer: Financial assets]|(172270, 3857884)',\n",
       " 'example: IFRS 7 IG20B - Effective 2018.01.01, example: IFRS 7 35I d - Effective 2018.01.01, example: IFRS 7 35H - Effective 2018.01.01|(172270, 3857884)',\n",
       " 'ifrs-full|(172270, 3857884)',\n",
       " 'IncreaseDecreaseThroughTransfersFromConstructionInProgressPropertyPlantAndEquipment|(172270, 3857884)',\n",
       " 'X duration debit|(172270, 3857884)',\n",
       " 'Increase (decrease) through transfers from construction in progress, property, plant and equipment|(172270, 3857884)',\n",
       " 'The increase (decrease) in property, plant and equipment resulting from transfers from construction in progress. [Refer: Property, plant and equipment; Construction in progress]|(172270, 3857884)',\n",
       " 'common practice: IAS 16 73 e|(172270, 3857884)',\n",
       " 'ifrs-full|(172270, 3857884)',\n",
       " 'IncreaseDecreaseThroughTransfersFromToInvestmentPropertyPropertyPlantAndEquipment|(172270, 3857884)',\n",
       " 'X duration debit|(172270, 3857884)',\n",
       " 'Increase (decrease) through transfers from (to) investment property, property, plant and equipment|(172270, 3857884)',\n",
       " 'The increase (decrease) in property, plant and equipment resulting from transfers from (to) investment property. [Refer: Property, plant and equipment; Investment property]|(172270, 3857884)',\n",
       " 'common practice: IAS 16 73 e|(172270, 3857884)',\n",
       " 'ifrs-full|(172270, 3857884)',\n",
       " 'IncreaseDecreaseThroughTransfersIntangibleAssetsAndGoodwill|(172270, 3857884)',\n",
       " 'X duration debit|(172270, 3857884)',\n",
       " 'Increase (decrease) through transfers, intangible assets and goodwill|(172270, 3857884)',\n",
       " 'The increase (decrease) in intangible assets and goodwill resulting from transfers. [Refer: Intangible assets and goodwill]|(172270, 3857884)',\n",
       " 'common practice: IAS 38 118 e|(172270, 3857884)',\n",
       " 'ifrs-full|(172270, 3857884)',\n",
       " 'IncreaseDecreaseThroughTransfersIntangibleAssetsOtherThanGoodwill|(172270, 3857884)',\n",
       " 'X duration debit|(172270, 3857884)',\n",
       " 'Increase (decrease) through transfers, intangible assets other than goodwill|(172270, 3857884)',\n",
       " 'The increase (decrease) in intangible assets other than goodwill resulting from transfers. [Refer: Intangible assets other than goodwill]|(172270, 3857884)',\n",
       " 'common practice: IAS 38 118 e|(172270, 3857884)',\n",
       " 'ifrs-full|(172270, 3857884)',\n",
       " 'IncreaseDecreaseThroughTransfersLiabilitiesUnderInsuranceContractsAndReinsuranceContractsIssued|(172270, 3857884)',\n",
       " 'X duration credit|(172270, 3857884)',\n",
       " 'Increase (decrease) through transfers, liabilities under insurance contracts and reinsurance contracts issued|(172270, 3857884)',\n",
       " 'The increase (decrease) in liabilities under insurance contracts and reinsurance contracts issued resulting from acquisitions from, or transfers to, other insurers. [Refer: Liabilities under insurance contracts and reinsurance contracts issued]|(172270, 3857884)',\n",
       " 'example: IFRS 4 IG37 e, example: IFRS 4 37 e|(172270, 3857884)',\n",
       " 'ifrs-full|(172270, 3857884)',\n",
       " 'IncreaseDecreaseThroughTransfersPropertyPlantAndEquipment|(172270, 3857884)',\n",
       " 'X duration debit|(172270, 3857884)',\n",
       " 'Increase (decrease) through transfers, property, plant and equipment|(172270, 3857884)',\n",
       " 'The increase (decrease) in property, plant and equipment resulting from transfers. [Refer: Property, plant and equipment]|(172270, 3857884)',\n",
       " 'common practice: IAS 16 73 e|(172270, 3857884)',\n",
       " 'ifrs-full|(172270, 3857884)',\n",
       " 'IncreaseDecreaseThroughTransfersToDisposalGroupsRegulatoryDeferralAccountCreditBalances|(172270, 3857884)',\n",
       " 'X duration credit|(172270, 3857884)',\n",
       " 'Increase (decrease) through transfers to disposal groups, regulatory deferral account credit balances|(172270, 3857884)',\n",
       " 'The increase (decrease) in regulatory deferral account credit balances resulting from transfers to disposal groups. [Refer: Disposal groups classified as held for sale [member]; Regulatory deferral account credit balances]|(172270, 3857884)',\n",
       " 'example: IFRS 14 IE5, example: IFRS 14 33 a iii|(172270, 3857884)',\n",
       " 'ifrs-full|(172270, 3857884)',\n",
       " 'IncreaseDecreaseThroughTransfersToDisposalGroupsRegulatoryDeferralAccountDebitBalances|(172270, 3857884)',\n",
       " 'X duration debit|(172270, 3857884)',\n",
       " 'Increase (decrease) through transfers to disposal groups, regulatory deferral account debit balances|(172270, 3857884)',\n",
       " 'The increase (decrease) in regulatory deferral account debit balances resulting from transfers to disposal groups. [Refer: Disposal groups classified as held for sale [member]; Regulatory deferral account debit balances]|(172270, 3857884)',\n",
       " 'example: IFRS 14 IE5, example: IFRS 14 33 a iii|(172270, 3857884)',\n",
       " 'ifrs-full|(172270, 3857884)',\n",
       " 'IncreaseDecreaseThroughTransferToStatutoryReserve|(172270, 3857884)',\n",
       " 'X duration credit|(172270, 3857884)',\n",
       " 'Increase (decrease) through transfer to statutory reserve, equity|(172270, 3857884)',\n",
       " 'The increase (decrease) in equity resulting from transfers to a statutory reserve. [Refer: Statutory reserve]|(172270, 3857884)',\n",
       " 'common practice: IAS 1 106 d|(172270, 3857884)',\n",
       " 'ifrs-full|(172270, 3857884)',\n",
       " 'IncreaseDecreaseThroughTreasuryShareTransactions|(172270, 3857884)',\n",
       " 'X duration credit|(172270, 3857884)',\n",
       " 'Increase (decrease) through treasury share transactions, equity|(172270, 3857884)',\n",
       " 'The increase (decrease) in equity resulting from treasury share transactions. [Refer: Equity; Treasury shares]|(172270, 3857884)',\n",
       " 'disclosure: IAS 1 106 d|(172270, 3857884)',\n",
       " 'ifrs-full|(172270, 3857884)',\n",
       " 'IncreaseInFairValueMeasurementDueToChangeInOneOrMoreUnobservableInputsToReflectReasonablyPossibleAlternativeAssumptionsAssets|(172270, 3857884)',\n",
       " 'X duration debit|(172270, 3857884)',\n",
       " 'Increase in fair value measurement due to change in one or more unobservable inputs to reflect reasonably possible alternative assumptions, assets|(172270, 3857884)',\n",
       " 'The amount of increase in the fair value measurement of assets due to a change in one or more unobservable inputs to reflect reasonably possible alternative assumptions.|(172270, 3857884)',\n",
       " 'disclosure: IFRS 13 93 h ii|(172270, 3857884)',\n",
       " 'ifrs-full|(172270, 3857884)',\n",
       " 'IncreaseInFairValueMeasurementDueToChangeInOneOrMoreUnobservableInputsToReflectReasonablyPossibleAlternativeAssumptionsEntitysOwnEquityInstruments|(172270, 3857884)',\n",
       " 'X duration credit|(172270, 3857884)',\n",
       " \"Increase in fair value measurement due to change in one or more unobservable inputs to reflect reasonably possible alternative assumptions, entity's own equity instruments|(172270, 3857884)\",\n",
       " \"The amount of increase in the fair value measurement of the entity's own equity instruments due to a change in one or more unobservable inputs to reflect reasonably possible alternative assumptions. [Refer: Entity's own equity instruments [member]]|(172270, 3857884)\",\n",
       " 'disclosure: IFRS 13 93 h ii|(172270, 3857884)',\n",
       " 'ifrs-full|(172270, 3857884)',\n",
       " 'IncreaseInFairValueMeasurementDueToChangeInOneOrMoreUnobservableInputsToReflectReasonablyPossibleAlternativeAssumptionsLiabilities|(172270, 3857884)',\n",
       " 'X duration credit|(172270, 3857884)',\n",
       " 'Increase in fair value measurement due to change in one or more unobservable inputs to reflect reasonably possible alternative assumptions, liabilities|(172270, 3857884)',\n",
       " 'The amount of increase in the fair value measurement of liabilities due to a change in one or more unobservable inputs to reflect reasonably possible alternative assumptions.|(172270, 3857884)',\n",
       " 'disclosure: IFRS 13 93 h ii|(172270, 3857884)',\n",
       " 'ifrs-full|(172270, 3857884)',\n",
       " 'IncreaseThroughAdjustmentsArisingFromPassageOfTimeContingentLiabilitiesRecognisedInBusinessCombination|(172270, 3857884)',\n",
       " 'X duration credit|(172270, 3857884)',\n",
       " 'Increase through adjustments arising from passage of time, contingent liabilities recognised in business combination|(172270, 3857884)',\n",
       " 'The increase in contingent liabilities recognised in a business combination through adjustments arising from the passage of time. [Refer: Contingent liabilities recognised in business combination; Business combinations [member]]|(172270, 3857884)',\n",
       " 'disclosure: IFRS 3 B67 c|(172270, 3857884)',\n",
       " 'ifrs-full|(172270, 3857884)',\n",
       " 'IncreaseThroughBusinessCombinationsContractAssets|(172270, 3857884)',\n",
       " 'X duration debit|(172270, 3857884)',\n",
       " 'Increase through business combinations, contract assets|(172270, 3857884)',\n",
       " 'The increase in contract assets resulting from business combinations. [Refer: Business combinations [member]; Contract assets]|(172270, 3857884)',\n",
       " 'example: IFRS 15 118 a - Effective 2018.01.01|(172270, 3857884)',\n",
       " 'ifrs-full|(172270, 3857884)',\n",
       " 'IncreaseThroughBusinessCombinationsContractLiabilities|(172270, 3857884)',\n",
       " 'X duration credit|(172270, 3857884)',\n",
       " 'Increase through business combinations, contract liabilities|(172270, 3857884)',\n",
       " 'The increase in contract liabilities resulting from business combinations. [Refer: Business combinations [member]; Contract liabilities]|(172270, 3857884)',\n",
       " 'example: IFRS 15 118 a - Effective 2018.01.01|(172270, 3857884)',\n",
       " 'ifrs-full|(172270, 3857884)',\n",
       " 'IncreaseThroughItemsAcquiredInBusinessCombinationRegulatoryDeferralAccountDebitBalances|(172270, 3857884)',\n",
       " 'X duration debit|(172270, 3857884)',\n",
       " 'Increase through items acquired in business combination, regulatory deferral account debit balances|(172270, 3857884)',\n",
       " 'The increase in regulatory deferral account debit balances resulting from items acquired in a business combination. [Refer: Business combinations [member]; Regulatory deferral account debit balances]|(172270, 3857884)',\n",
       " 'example: IFRS 14 33 a iii|(172270, 3857884)',\n",
       " 'ifrs-full|(172270, 3857884)',\n",
       " 'IncreaseThroughItemsAssumedInBusinessCombinationRegulatoryDeferralAccountCreditBalances|(172270, 3857884)',\n",
       " 'X duration credit|(172270, 3857884)',\n",
       " 'Increase through items assumed in business combination, regulatory deferral account credit balances|(172270, 3857884)',\n",
       " 'The increase in regulatory deferral account credit balances resulting from items assumed in a business combination. [Refer: Business combinations [member]; Regulatory deferral account credit balances]|(172270, 3857884)',\n",
       " 'example: IFRS 14 33 a iii|(172270, 3857884)',\n",
       " 'ifrs-full|(172270, 3857884)',\n",
       " 'IncreaseThroughNewLeasesLiabilitiesArisingFromFinancingActivities|(172270, 3857884)',\n",
       " 'X duration credit|(172270, 3857884)',\n",
       " 'Increase through new leases, liabilities arising from financing activities|(172270, 3857884)',\n",
       " 'The increase in liabilities arising from financing activities resulting from new leases. [Refer: Liabilities arising from financing activities]|(172270, 3857884)',\n",
       " 'example: IAS 7 A Statement of cash flows for an entity other than a financial institution, example: IAS 7 44B|(172270, 3857884)',\n",
       " 'ifrs-full|(172270, 3857884)',\n",
       " 'IncreaseThroughOriginationOrPurchaseExposureToCreditRiskOnLoanCommitmentsAndFinancialGuaranteeContracts|(172270, 3857884)',\n",
       " 'X duration credit|(172270, 3857884)',\n",
       " 'Increase through origination or purchase, exposure to credit risk on loan commitments and financial guarantee contracts|(172270, 3857884)',\n",
       " 'The increase in exposure to credit risk on loan commitments and financial guarantee contracts resulting from origination or purchase. [Refer: Exposure to credit risk on loan commitments and financial guarantee contracts]|(172270, 3857884)',\n",
       " 'example: IFRS 7 IG20B - Effective 2018.01.01, example: IFRS 7 35I a - Effective 2018.01.01, example: IFRS 7 35H - Effective 2018.01.01|(172270, 3857884)',\n",
       " 'ifrs-full|(172270, 3857884)',\n",
       " 'IncreaseThroughOriginationOrPurchaseFinancialAssets|(172270, 3857884)',\n",
       " 'X duration debit|(172270, 3857884)',\n",
       " 'Increase through origination or purchase, financial assets|(172270, 3857884)',\n",
       " 'The increase in financial assets resulting from origination or purchase. [Refer: Financial assets]|(172270, 3857884)',\n",
       " 'example: IFRS 7 IG20B - Effective 2018.01.01, example: IFRS 7 35I a - Effective 2018.01.01, example: IFRS 7 35H - Effective 2018.01.01|(172270, 3857884)',\n",
       " 'ifrs-full|(172270, 3857884)',\n",
       " 'IncrementalFairValueGrantedModifiedSharebasedPaymentArrangements|(172270, 3857884)',\n",
       " 'X duration|(172270, 3857884)',\n",
       " 'Incremental fair value granted, modified share-based payment arrangements|(172270, 3857884)',\n",
       " 'The difference, for modified share-based payment arrangements, between the fair value of the modified equity instrument and that of the original equity instrument, both estimated as at the date of the modification. [Refer: Share-based payment arrangements [member]]|(172270, 3857884)',\n",
       " 'disclosure: IFRS 2 47 c ii|(172270, 3857884)',\n",
       " 'ifrs-full|(172270, 3857884)',\n",
       " 'IndicationOfHowFrequentlyHedgingRelationshipsAreDiscontinuedAndRestarted|(172270, 3857884)',\n",
       " 'text|(172270, 3857884)',\n",
       " 'Indication of how frequently hedging relationships are discontinued and restarted|(172270, 3857884)',\n",
       " 'The description of an indication of how frequently the hedging relationships are discontinued and restarted.|(172270, 3857884)',\n",
       " 'disclosure: IFRS 7 23C b iii - Effective 2018.01.01|(172270, 3857884)',\n",
       " 'ifrs-full|(172270, 3857884)',\n",
       " 'IndicationOfOtherFormsOfGovernmentAssistanceWithDirectBenefitsForEntity|(172270, 3857884)',\n",
       " 'text|(172270, 3857884)',\n",
       " 'Indication of other forms of government assistance with direct benefits for entity|(172270, 3857884)',\n",
       " 'The description of an indication of forms of government assistance from which the entity has directly benefited, other than government grants recognised in the financial statements. [Refer: Government grants]|(172270, 3857884)',\n",
       " 'disclosure: IAS 20 39 b|(172270, 3857884)',\n",
       " 'ifrs-full|(172270, 3857884)',\n",
       " 'IndicationOfUncertaintiesOfAmountOrTimingOfOutflowsContingentLiabilities|(172270, 3857884)',\n",
       " 'text|(172270, 3857884)',\n",
       " 'Indication of uncertainties of amount or timing of outflows, contingent liabilities|(172270, 3857884)',\n",
       " 'The description of an indication of the uncertainties relating to the amount or timing of any outflow of economic benefits for contingent liabilities. [Refer: Contingent liabilities [member]]|(172270, 3857884)',\n",
       " 'disclosure: IAS 37 86 b|(172270, 3857884)',\n",
       " 'ifrs-full|(172270, 3857884)',\n",
       " 'IndicationOfUncertaintiesOfAmountOrTimingOfOutflowsContingentLiabilitiesInBusinessCombination|(172270, 3857884)',\n",
       " 'text|(172270, 3857884)',\n",
       " 'Indication of uncertainties of amount or timing of outflows, contingent liabilities in business combination|(172270, 3857884)',\n",
       " 'The description of an indication of the uncertainties relating to the amount or timing of any outflow of economic benefits for contingent liabilities recognised in a business combination. [Refer: Contingent liabilities [member]; Business combinations [member]]|(172270, 3857884)',\n",
       " 'disclosure: IFRS 3 B67 c, disclosure: IFRS 3 B64 j, disclosure: IFRS 3 B64 j i|(172270, 3857884)',\n",
       " 'ifrs-full|(172270, 3857884)',\n",
       " 'IndicationOfUncertaintiesOfAmountOrTimingOfOutflowsOtherProvisions|(172270, 3857884)',\n",
       " 'text|(172270, 3857884)',\n",
       " 'Indication of uncertainties of amount or timing of outflows, other provisions|(172270, 3857884)',\n",
       " 'The description of an indication of the uncertainties relating to the amount or timing of outflows of economic benefits for other provisions. [Refer: Other provisions]|(172270, 3857884)',\n",
       " 'disclosure: IAS 37 85 b|(172270, 3857884)',\n",
       " 'ifrs-full|(172270, 3857884)',\n",
       " 'IndividualAssetsOrCashgeneratingUnitsAxis|(172270, 3857884)',\n",
       " 'axis|(172270, 3857884)',\n",
       " 'Individual assets or cash-generating units [axis]|(172270, 3857884)',\n",
       " 'The axis of a table defines the relationship between the domain members or categories in the table and the line items or concepts that complete the table.|(172270, 3857884)',\n",
       " 'disclosure: IAS 36 130|(172270, 3857884)',\n",
       " 'ifrs-full|(172270, 3857884)',\n",
       " 'IndividualAssetsOrCashgeneratingUnitsMember|(172270, 3857884)',\n",
       " 'member|(172270, 3857884)',\n",
       " 'Individual assets or cash-generating units [member]|(172270, 3857884)',\n",
       " 'This member stands for individual assets or cash-generating units. [Refer: Cash-generating units [member]]|(172270, 3857884)',\n",
       " 'disclosure: IAS 36 130|(172270, 3857884)',\n",
       " 'ifrs-full|(172270, 3857884)',\n",
       " 'IndividualAssetsOrCashgeneratingUnitsWithSignificantAmountOfGoodwillOrIntangibleAssetsWithIndefiniteUsefulLivesAxis|(172270, 3857884)',\n",
       " 'axis|(172270, 3857884)',\n",
       " 'Cash-generating units [axis]|(172270, 3857884)',\n",
       " 'The axis of a table defines the relationship between the domain members or categories in the table and the line items or concepts that complete the table.|(172270, 3857884)',\n",
       " 'disclosure: IAS 36 134|(172270, 3857884)',\n",
       " 'ifrs-full|(172270, 3857884)',\n",
       " 'IndividualAssetsOrCashgeneratingUnitsWithSignificantAmountOfGoodwillOrIntangibleAssetsWithIndefiniteUsefulLivesMember|(172270, 3857884)',\n",
       " 'member|(172270, 3857884)',\n",
       " 'Cash-generating units [member]|(172270, 3857884)',\n",
       " 'This member stands for the smallest identifiable group of assets that generates cash inflows that are largely independent of the cash inflows from other assets or groups of assets.|(172270, 3857884)',\n",
       " 'disclosure: IAS 36 134|(172270, 3857884)',\n",
       " 'ifrs-full|(172270, 3857884)',\n",
       " 'IndividuallyInsignificantCounterpartiesMember|(172270, 3857884)',\n",
       " 'member|(172270, 3857884)',\n",
       " 'Individually insignificant counterparties [member]|(172270, 3857884)',\n",
       " 'This member stands for individually insignificant parties to the transaction other than the entity.|(172270, 3857884)',\n",
       " 'disclosure: IFRS 7 B52|(172270, 3857884)',\n",
       " 'ifrs-full|(172270, 3857884)',\n",
       " 'InflowsOfCashFromInvestingActivities|(172270, 3857884)',\n",
       " 'X duration debit|(172270, 3857884)',\n",
       " 'Inflows of cash from investing activities|(172270, 3857884)',\n",
       " 'The cash inflow from investing activities.|(172270, 3857884)',\n",
       " 'common practice: IAS 7 16|(172270, 3857884)',\n",
       " 'ifrs-full|(172270, 3857884)',\n",
       " 'InformationAboutCollateralHeldAsSecurityAndOtherCreditEnhancementsForCreditimpairedFinancialAssetsExplanatory|(172270, 3857884)',\n",
       " 'text block|(172270, 3857884)',\n",
       " 'Information about collateral held as security and other credit enhancements for credit-impaired financial assets [text block]|(172270, 3857884)',\n",
       " 'The disclosure of information about the collateral held as security and other credit enhancements (for example, quantification of the extent to which collateral and other credit enhancements mitigate credit risk) for financial assets that are credit-impaired at the reporting date.|(172270, 3857884)',\n",
       " 'disclosure: IFRS 7 35K c - Effective 2018.01.01|(172270, 3857884)',\n",
       " 'ifrs-full|(172270, 3857884)',\n",
       " 'InformationAboutConsequencesOfNoncomplianceWithExternallyImposedCapitalRequirements|(172270, 3857884)',\n",
       " 'text|(172270, 3857884)',\n",
       " 'Information about consequences of non-compliance with externally imposed capital requirements|(172270, 3857884)',\n",
       " 'Information about the consequences of non-compliance with externally imposed capital requirements. [Refer: Capital requirements [member]]|(172270, 3857884)',\n",
       " 'disclosure: IAS 1 135 e|(172270, 3857884)',\n",
       " 'ifrs-full|(172270, 3857884)',\n",
       " 'InformationAboutContingentAssetsThatDisclosureIsNotPracticable|(172270, 3857884)',\n",
       " 'text|(172270, 3857884)',\n",
       " 'Information about contingent assets that disclosure is not practicable|(172270, 3857884)',\n",
       " 'Information about the fact that the disclosure of information related to possible assets that arise from past events and whose existence will be confirmed only by the occurrence or non-occurrence of one or more uncertain future events not wholly within control of the entity is not practicable.|(172270, 3857884)',\n",
       " 'disclosure: IAS 37 91|(172270, 3857884)',\n",
       " 'ifrs-full|(172270, 3857884)',\n",
       " 'InformationAboutContingentLiabilitiesThatDisclosureIsNotPracticable|(172270, 3857884)',\n",
       " 'text|(172270, 3857884)',\n",
       " 'Information about contingent liabilities that disclosure is not practicable|(172270, 3857884)',\n",
       " 'Information about the fact that the disclosure of information related to contingent liabilities is not practicable. [Refer: Contingent liabilities [member]]|(172270, 3857884)',\n",
       " 'disclosure: IAS 37 91|(172270, 3857884)',\n",
       " 'ifrs-full|(172270, 3857884)',\n",
       " 'InformationAboutCreditQualityOfNeitherPastDueNorImpairedFinancialAssets|(172270, 3857884)',\n",
       " 'text block|(172270, 3857884)',\n",
       " 'Information about credit quality of neither past due nor impaired financial assets [text block]|(172270, 3857884)',\n",
       " 'The disclosure of information about the credit quality of financial assets that are neither past due (a counterparty has failed to make a payment when contractually due) nor impaired. [Refer: Financial assets]|(172270, 3857884)',\n",
       " 'disclosure: IFRS 7 36 c - Expiry date 2018.01.01|(172270, 3857884)',\n",
       " 'ifrs-full|(172270, 3857884)',\n",
       " 'InformationAboutEntitysDefinitionsOfDefault|(172270, 3857884)',\n",
       " 'text|(172270, 3857884)',\n",
       " \"Information about entity's definitions of default|(172270, 3857884)\",\n",
       " \"Information about an entity's definitions of default, including the reasons for selecting those definitions.|(172270, 3857884)\",\n",
       " 'disclosure: IFRS 7 35F b - Effective 2018.01.01|(172270, 3857884)',\n",
       " 'ifrs-full|(172270, 3857884)',\n",
       " 'InformationAboutExposureArisingFromLeasesNotYetCommencedToWhichLesseeIsCommitted|(172270, 3857884)',\n",
       " 'text|(172270, 3857884)',\n",
       " 'Information about exposure arising from leases not yet commenced to which lessee is committed|(172270, 3857884)',\n",
       " \"Information about the lessee's exposure arising from leases not yet commenced to which the lessee is committed.|(172270, 3857884)\",\n",
       " 'example: IFRS 16 59 b iv - Effective 2019.01.01|(172270, 3857884)',\n",
       " 'ifrs-full|(172270, 3857884)',\n",
       " 'InformationAboutExposuresToMarketRiskArisingFromEmbeddedDerivativesContainedInHostInsuranceContract|(172270, 3857884)',\n",
       " 'text|(172270, 3857884)',\n",
       " 'Information about exposures to market risk arising from embedded derivatives contained in host insurance contract|(172270, 3857884)',\n",
       " 'Information about exposures to market risk arising from embedded derivatives contained in a host insurance contract if the insurer is not required to, and does not, measure the embedded derivatives at fair value. [Refer: Derivatives [member]; Market risk [member]; At fair value [member]]|(172270, 3857884)',\n",
       " 'disclosure: IFRS 4 39 e|(172270, 3857884)',\n",
       " 'ifrs-full|(172270, 3857884)',\n",
       " 'InformationAboutGroupsOrPortfoliosOfFinancialInstrumentsWithParticularFeaturesThatCouldAffectLargePortionOfThatGroup|(172270, 3857884)',\n",
       " 'text|(172270, 3857884)',\n",
       " 'Information about groups or portfolios of financial instruments with particular features that could affect large portion of that group|(172270, 3857884)',\n",
       " 'Information about groups or portfolios of financial instruments with particular features that could affect a large portion of that group, such as concentration to particular risks.|(172270, 3857884)',\n",
       " 'disclosure: IFRS 7 B8H - Effective 2018.01.01|(172270, 3857884)',\n",
       " 'ifrs-full|(172270, 3857884)',\n",
       " 'InformationAboutHowDesignatedRiskComponentRelatesToHedgedItemInItsEntiretyExplanatory|(172270, 3857884)',\n",
       " 'text block|(172270, 3857884)',\n",
       " 'Information about how designated risk component relates to hedged item in its entirety [text block]|(172270, 3857884)',\n",
       " 'The disclosure of information about how the designated risk component relates to the hedged item in its entirety. [Refer: Hedged items [member]]|(172270, 3857884)',\n",
       " 'disclosure: IFRS 7 22C b - Effective 2018.01.01|(172270, 3857884)',\n",
       " 'ifrs-full|(172270, 3857884)',\n",
       " 'InformationAboutHowEntityDeterminedRiskComponentDesignatedAsHedgedItemExplanatory|(172270, 3857884)',\n",
       " 'text block|(172270, 3857884)',\n",
       " 'Information about how entity determined risk component designated as hedged item [text block]|(172270, 3857884)',\n",
       " 'The disclosure of information about how the entity determined the risk component designated as the hedged item (including a description of the nature of the relationship between the risk component and the item as a whole). [Refer: Hedged items [member]]|(172270, 3857884)',\n",
       " 'disclosure: IFRS 7 22C a - Effective 2018.01.01|(172270, 3857884)',\n",
       " 'ifrs-full|(172270, 3857884)',\n",
       " 'InformationAboutHowExpectedCashOutflowOnRedemptionOrRepurchaseWasDetermined|(172270, 3857884)',\n",
       " 'text|(172270, 3857884)',\n",
       " 'Information about how expected cash outflow on redemption or repurchase was determined|(172270, 3857884)',\n",
       " 'Information about how the expected cash outflow on redemption or repurchase of puttable financial instruments classified as equity was determined. [Refer: Expected cash outflow on redemption or repurchase of puttable financial instruments]|(172270, 3857884)',\n",
       " 'disclosure: IAS 1 136A d|(172270, 3857884)',\n",
       " 'ifrs-full|(172270, 3857884)',\n",
       " 'InformationAboutHowExpectedVolatilityWasDeterminedShareOptionsGranted|(172270, 3857884)',\n",
       " 'text|(172270, 3857884)',\n",
       " 'Information about how expected volatility was determined, share options granted|(172270, 3857884)',\n",
       " 'Information about how the expected volatility used for pricing share options granted was determined, including an explanation of the extent to which expected volatility was based on historical volatility.|(172270, 3857884)',\n",
       " 'disclosure: IFRS 2 47 a ii|(172270, 3857884)',\n",
       " 'ifrs-full|(172270, 3857884)',\n",
       " 'InformationAboutHowFairValueWasMeasuredShareOptionsGranted|(172270, 3857884)',\n",
       " 'text|(172270, 3857884)',\n",
       " 'Information about how fair value was measured, share options granted|(172270, 3857884)',\n",
       " 'Information on how the fair value of share options granted was measured.|(172270, 3857884)',\n",
       " 'disclosure: IFRS 2 47 a|(172270, 3857884)',\n",
       " 'ifrs-full|(172270, 3857884)',\n",
       " 'InformationAboutHowFairWasDeterminedIfNotOnBasisOfObservableMarketOtherEquityInstrumentsGranted|(172270, 3857884)',\n",
       " 'text|(172270, 3857884)',\n",
       " 'Information about how fair was determined if not on basis of observable market, other equity instruments granted|(172270, 3857884)',\n",
       " 'Information about how the fair value was determined for other equity instruments granted (ie other than share options) if it was not measured on the basis of an observable market price.|(172270, 3857884)',\n",
       " 'disclosure: IFRS 2 47 b i|(172270, 3857884)',\n",
       " 'ifrs-full|(172270, 3857884)',\n",
       " 'InformationAboutHowLessorManagesRiskAssociatedWithRightsItRetainsInUnderlyingAssets|(172270, 3857884)',\n",
       " 'text|(172270, 3857884)',\n",
       " 'Information about how lessor manages risk associated with rights it retains in underlying assets|(172270, 3857884)',\n",
       " 'Information about how the lessor manages the risk associated with the rights it retains in underlying assets.|(172270, 3857884)',\n",
       " 'disclosure: IFRS 16 92 b - Effective 2019.01.01|(172270, 3857884)',\n",
       " 'ifrs-full|(172270, 3857884)',\n",
       " 'InformationAboutHowMaximumExposureToLossFromInterestsInStructuredEntitiesIsDetermined|(172270, 3857884)',\n",
       " 'text|(172270, 3857884)',\n",
       " 'Information about how maximum exposure to loss from interests in structured entities is determined|(172270, 3857884)',\n",
       " \"Information about how the amount that best represents the entity's maximum exposure to loss from its interests in structured entities is determined. [Refer: Maximum exposure to loss from interests in structured entities]|(172270, 3857884)\",\n",
       " 'disclosure: IFRS 12 29 c|(172270, 3857884)',\n",
       " 'ifrs-full|(172270, 3857884)',\n",
       " 'InformationAboutHowMaximumExposureToLossIsDetermined|(172270, 3857884)',\n",
       " 'text|(172270, 3857884)',\n",
       " 'Information about how maximum exposure to loss from continuing involvement is determined|(172270, 3857884)',\n",
       " \"Information about how the amount of the entity's maximum exposure to loss from its continuing involvement in derecognised financial assets is determined. [Refer: Maximum exposure to loss from continuing involvement; Financial assets]|(172270, 3857884)\",\n",
       " 'disclosure: IFRS 7 42E c|(172270, 3857884)',\n",
       " 'ifrs-full|(172270, 3857884)',\n",
       " 'InformationAboutLesseesExposureArisingFromExtensionOptionsAndTerminationOptions|(172270, 3857884)',\n",
       " 'text|(172270, 3857884)',\n",
       " \"Information about lessee's exposure arising from extension options and termination options|(172270, 3857884)\",\n",
       " \"Information about the lessee's exposure arising from extension options and termination options.|(172270, 3857884)\",\n",
       " 'example: IFRS 16 59 b ii - Effective 2019.01.01|(172270, 3857884)',\n",
       " 'ifrs-full|(172270, 3857884)',\n",
       " 'InformationAboutLesseesExposureArisingFromResidualValueGuarantees|(172270, 3857884)',\n",
       " 'text|(172270, 3857884)',\n",
       " \"Information about lessee's exposure arising from residual value guarantees|(172270, 3857884)\",\n",
       " \"Information about the lessee's exposure arising from residual value guarantees. Residual value guarantee is a guarantee made to a lessor by a party unrelated to the lessor that the value (or part of the value) of an underlying asset at the end of a lease will be at least a specified amount.|(172270, 3857884)\",\n",
       " 'example: IFRS 16 59 b iii - Effective 2019.01.01|(172270, 3857884)',\n",
       " 'ifrs-full|(172270, 3857884)',\n",
       " 'InformationAboutLesseesExposureArisingFromVariableLeasePayments|(172270, 3857884)',\n",
       " 'text|(172270, 3857884)',\n",
       " \"Information about lessee's exposure arising from variable lease payments|(172270, 3857884)\",\n",
       " \"Information about the lessee's exposure arising from variable lease payments. Variable lease payments are the portion of payments made by a lessee to a lessor for the right to use an underlying asset during the lease term that varies because of changes in facts or circumstances occurring after the commencement date, other than the passage of time.|(172270, 3857884)\",\n",
       " 'example: IFRS 16 59 b i - Effective 2019.01.01|(172270, 3857884)',\n",
       " 'ifrs-full|(172270, 3857884)',\n",
       " 'InformationAboutMajorCustomers|(172270, 3857884)',\n",
       " 'text|(172270, 3857884)',\n",
       " 'Information about major customers|(172270, 3857884)',\n",
       " \"Information about the entity's major customers and the extent of the entity's reliance on them.|(172270, 3857884)\",\n",
       " 'disclosure: IFRS 8 34|(172270, 3857884)',\n",
       " 'ifrs-full|(172270, 3857884)',\n",
       " 'InformationAboutMarketForFinancialInstruments|(172270, 3857884)',\n",
       " 'text|(172270, 3857884)',\n",
       " 'Information about market for financial instruments|(172270, 3857884)',\n",
       " 'Information about the market for financial instruments for which disclosures of fair value are not required. [Refer: Financial instruments, class [member]]|(172270, 3857884)',\n",
       " 'disclosure: IFRS 7 30 c|(172270, 3857884)',\n",
       " 'ifrs-full|(172270, 3857884)',\n",
       " 'InformationAboutNatureOfLesseesLeasingActivities|(172270, 3857884)',\n",
       " 'text|(172270, 3857884)',\n",
       " \"Information about nature of lessee's leasing activities|(172270, 3857884)\",\n",
       " \"Information about the nature of the lessee's leasing activities.|(172270, 3857884)\",\n",
       " 'example: IFRS 16 59 a - Effective 2019.01.01|(172270, 3857884)',\n",
       " 'ifrs-full|(172270, 3857884)',\n",
       " 'InformationAboutNatureOfLessorsLeasingActivities|(172270, 3857884)',\n",
       " 'text|(172270, 3857884)',\n",
       " \"Information about nature of lessor's leasing activities|(172270, 3857884)\",\n",
       " \"Information about the nature of the lessor's leasing activities.|(172270, 3857884)\",\n",
       " 'disclosure: IFRS 16 92 a - Effective 2019.01.01|(172270, 3857884)',\n",
       " 'ifrs-full|(172270, 3857884)',\n",
       " 'InformationAboutObjectivesPoliciesAndProcessesForManagingEntitysObligationToRepurchaseOrRedeemPuttableFinancialInstruments|(172270, 3857884)',\n",
       " 'text|(172270, 3857884)',\n",
       " \"Information about objectives, policies and processes for managing entity's obligation to repurchase or redeem puttable financial instruments|(172270, 3857884)\",\n",
       " \"Information about the entity's objectives, policies, and processes for managing its obligation to repurchase or redeem puttable financial instruments classified as equity instruments when required to do so by the instrument holders, including any changes from the previous period. [Refer: Financial instruments, class [member]]|(172270, 3857884)\",\n",
       " 'disclosure: IAS 1 136A b|(172270, 3857884)',\n",
       " 'ifrs-full|(172270, 3857884)',\n",
       " 'InformationAboutPotentialExposureToFutureCashOutflowsNotReflectedInMeasurementOfLeaseLiability|(172270, 3857884)',\n",
       " 'text|(172270, 3857884)',\n",
       " 'Information about potential exposure to future cash outflows not reflected in measurement of lease liability|(172270, 3857884)',\n",
       " \"Information about the lessee's potential exposure to future cash outflows that are not reflected in the measurement of the lease liability. [Refer: Lease liabilities]|(172270, 3857884)\",\n",
       " 'example: IFRS 16 59 b - Effective 2019.01.01|(172270, 3857884)',\n",
       " 'ifrs-full|(172270, 3857884)',\n",
       " 'InformationAboutRelationshipBetweenDisclosureOfDisaggregatedRevenueFromContractsWithCustomersAndRevenueInformationForReportableSegmentsExplanatory|(172270, 3857884)',\n",
       " 'text block|(172270, 3857884)',\n",
       " 'Information about relationship between disclosure of disaggregated revenue from contracts with customers and revenue information for reportable segments [text block]|(172270, 3857884)',\n",
       " 'The disclosure of information about the relationship between the disclosure of disaggregated revenue from contracts with customers and revenue information for reportable segments. [Refer: Reportable segments [member]; Revenue from contracts with customers]|(172270, 3857884)',\n",
       " 'disclosure: IFRS 15 115 - Effective 2018.01.01|(172270, 3857884)',\n",
       " 'ifrs-full|(172270, 3857884)',\n",
       " 'InformationAboutRestrictionsOrCovenantsImposedByLeasesOnLessee|(172270, 3857884)',\n",
       " 'text|(172270, 3857884)',\n",
       " 'Information about restrictions or covenants imposed by leases on lessee|(172270, 3857884)',\n",
       " 'Information about the restrictions or covenants imposed by leases on the lessee.|(172270, 3857884)',\n",
       " 'example: IFRS 16 59 c - Effective 2019.01.01|(172270, 3857884)',\n",
       " 'ifrs-full|(172270, 3857884)',\n",
       " 'InformationAboutRiskManagementStrategyForRightsThatLessorRetainsInUnderlyingAssets|(172270, 3857884)',\n",
       " 'text|(172270, 3857884)',\n",
       " 'Information about risk management strategy for rights that lessor retains in underlying assets|(172270, 3857884)',\n",
       " 'Information about the risk management strategy for the rights that the lessor retains in underlying assets, including any means by which the lessor reduces that risk.|(172270, 3857884)',\n",
       " 'disclosure: IFRS 16 92 b - Effective 2019.01.01|(172270, 3857884)',\n",
       " 'ifrs-full|(172270, 3857884)',\n",
       " 'InformationAboutSaleAndLeasebackTransactions|(172270, 3857884)',\n",
       " 'text|(172270, 3857884)',\n",
       " 'Information about sale and leaseback transactions|(172270, 3857884)',\n",
       " 'Information about the sale and leaseback transactions.|(172270, 3857884)',\n",
       " 'example: IFRS 16 59 d - Effective 2019.01.01|(172270, 3857884)',\n",
       " 'ifrs-full|(172270, 3857884)',\n",
       " 'InformationAboutSignificantJudgementsAndAssumptionsMadeInDeterminingThatEntityIsInvestmentEntity|(172270, 3857884)',\n",
       " 'text|(172270, 3857884)',\n",
       " 'Information about significant judgements and assumptions made in determining that entity is investment entity|(172270, 3857884)',\n",
       " 'Information about significant judgements and assumptions made in determining that the entity is an investment entity. [Refer: Disclosure of investment entities [text block]]|(172270, 3857884)',\n",
       " 'disclosure: IFRS 12 9A|(172270, 3857884)',\n",
       " 'ifrs-full|(172270, 3857884)',\n",
       " 'InformationAboutUltimateRiskManagementStrategyInRelationToHedgingRelationshipsThatEntityFrequentlyResets|(172270, 3857884)',\n",
       " 'text|(172270, 3857884)',\n",
       " 'Information about ultimate risk management strategy in relation to hedging relationships that entity frequently resets|(172270, 3857884)',\n",
       " 'Information about the ultimate risk management strategy in relation to hedging relationships that the entity frequently resets.|(172270, 3857884)',\n",
       " 'disclosure: IFRS 7 23C b i - Effective 2018.01.01|(172270, 3857884)',\n",
       " 'ifrs-full|(172270, 3857884)',\n",
       " 'InformationAboutWhetherAndHowEntityIntendsToDisposeOfFinancialInstruments|(172270, 3857884)',\n",
       " 'text|(172270, 3857884)',\n",
       " 'Information about whether and how entity intends to dispose of financial instruments|(172270, 3857884)',\n",
       " 'Information about whether and how the entity intends to dispose of financial instruments for which disclosures of fair value are not required. [Refer: Financial instruments, class [member]]|(172270, 3857884)',\n",
       " 'disclosure: IFRS 7 30 d|(172270, 3857884)',\n",
       " 'ifrs-full|(172270, 3857884)',\n",
       " 'InformationHowFairValueWasMeasuredOtherEquityInstrumentsGranted|(172270, 3857884)',\n",
       " 'text|(172270, 3857884)',\n",
       " 'Information how fair value was measured, other equity instruments granted|(172270, 3857884)',\n",
       " 'Information about how the weighted average fair value at the measurement date of other equity instruments granted (ie other than share options) was measured.|(172270, 3857884)',\n",
       " 'disclosure: IFRS 2 47 b|(172270, 3857884)',\n",
       " 'ifrs-full|(172270, 3857884)',\n",
       " 'InformationOnEntitysWriteoffPolicy|(172270, 3857884)',\n",
       " 'text|(172270, 3857884)',\n",
       " \"Information on entity's write-off policy|(172270, 3857884)\",\n",
       " \"Information on an entity's write-off policy, including the indicators that there is no reasonable expectation of recovery and information about the policy for financial assets that are written-off but are still subject to enforcement activity.|(172270, 3857884)\",\n",
       " 'disclosure: IFRS 7 35F e - Effective 2018.01.01|(172270, 3857884)',\n",
       " 'ifrs-full|(172270, 3857884)',\n",
       " 'InformationOnHowEntityDeterminedThatFinancialAssetsAreCreditimpairedFinancialAssets|(172270, 3857884)',\n",
       " 'text|(172270, 3857884)',\n",
       " 'Information on how entity determined that financial assets are credit-impaired financial assets|(172270, 3857884)',\n",
       " 'Information on how an entity determined that financial assets are credit-impaired financial assets.|(172270, 3857884)',\n",
       " 'disclosure: IFRS 7 35F d - Effective 2018.01.01|(172270, 3857884)',\n",
       " 'ifrs-full|(172270, 3857884)',\n",
       " 'InformationOnHowEntityDeterminedWhetherCreditRiskOfFinancialInstrumentsHasIncreasedSignificantlySinceInitialRecognition|(172270, 3857884)',\n",
       " 'text|(172270, 3857884)',\n",
       " 'Information on how entity determined whether credit risk of financial instruments has increased significantly since initial recognition|(172270, 3857884)',\n",
       " 'Information on how an entity determined whether the credit risk of financial instruments has increased significantly since initial recognition, including if and how: (a) financial instruments are considered to have low credit risk; and (b) the presumption that there have been significant increases in credit risk since initial recognition when financial assets are more than 30 days past due, has been rebutted. [Refer: Credit risk [member]]|(172270, 3857884)',\n",
       " 'disclosure: IFRS 7 35F a - Effective 2018.01.01|(172270, 3857884)',\n",
       " 'ifrs-full|(172270, 3857884)',\n",
       " 'InformationOnHowIncrementalFairValueGrantedWasMeasuredModifiedSharebasedPaymentArrangements|(172270, 3857884)',\n",
       " 'text|(172270, 3857884)',\n",
       " 'Information on how incremental fair value granted was measured, modified share-based payment arrangements|(172270, 3857884)',\n",
       " 'Information about how the incremental fair value granted was measured for modified share-based payment arrangements. [Refer: Incremental fair value granted, modified share-based payment arrangements; Share-based payment arrangements [member]]|(172270, 3857884)',\n",
       " 'disclosure: IFRS 2 47 c iii|(172270, 3857884)',\n",
       " 'ifrs-full|(172270, 3857884)',\n",
       " 'InformationOnHowInstrumentsWereGroupedIfExpectedCreditLossesWereMeasuredOnCollectiveBasis|(172270, 3857884)',\n",
       " 'text|(172270, 3857884)',\n",
       " 'Information on how instruments were grouped if expected credit losses were measured on collective basis|(172270, 3857884)',\n",
       " 'Information on how the instruments were grouped if expected credit losses were measured on a collective basis.|(172270, 3857884)',\n",
       " 'disclosure: IFRS 7 35F c - Effective 2018.01.01|(172270, 3857884)',\n",
       " 'ifrs-full|(172270, 3857884)',\n",
       " 'InformationOnHowRequirementsForModificationOfContractualCashFlowsOfFinancialAssetsHaveBeenApplied|(172270, 3857884)',\n",
       " 'text|(172270, 3857884)',\n",
       " 'Information on how requirements for modification of contractual cash flows of financial assets have been applied|(172270, 3857884)',\n",
       " 'Information on how the requirements for the modification of contractual cash flows of financial assets have been applied, including how an entity: (a) determines whether the credit risk on a financial asset that has been modified while the loss allowance was measured at an amount equal to lifetime expected credit losses, has improved to the extent that the loss allowance reverts to being measured at an amount equal to 12-month expected credit losses; and (b) monitors the extent to which the loss allowance on financial assets meeting the criteria in (a) is subsequently remeasured at an amount equal to lifetime expected credit losses.|(172270, 3857884)',\n",
       " 'disclosure: IFRS 7 35F f - Effective 2018.01.01|(172270, 3857884)',\n",
       " 'ifrs-full|(172270, 3857884)',\n",
       " 'InformationWhetherAndHowExpectedDividendsWereIncorporatedIntoMeasurementOfFairValueOtherEquityInstrumentsGranted|(172270, 3857884)',\n",
       " 'text|(172270, 3857884)',\n",
       " 'Information whether and how expected dividends were incorporated into measurement of fair value, other equity instruments granted|(172270, 3857884)',\n",
       " 'Information about whether and how expected dividends were incorporated into measurement of fair value for other equity instruments granted (ie other than share options).|(172270, 3857884)',\n",
       " 'disclosure: IFRS 2 47 b ii|(172270, 3857884)',\n",
       " 'ifrs-full|(172270, 3857884)',\n",
       " 'InformationWhetherAndHowOtherFeaturesWereIncorporatedIntoMeasurementOfFairValueOtherEquityInstrumentsGranted|(172270, 3857884)',\n",
       " 'text|(172270, 3857884)',\n",
       " 'Information whether and how other features were incorporated into measurement of fair value, other equity instruments granted|(172270, 3857884)',\n",
       " 'Information about whether and how other features of other equity instruments granted (ie other than share options) were incorporated into the measurement of fair value of these equity instruments.|(172270, 3857884)',\n",
       " 'disclosure: IFRS 2 47 b iii|(172270, 3857884)',\n",
       " 'ifrs-full|(172270, 3857884)',\n",
       " 'InformationWhetherAndHowOtherFeaturesWereIncorporatedIntoMeasurementOfFairValueShareOptionsGranted|(172270, 3857884)',\n",
       " 'text|(172270, 3857884)',\n",
       " 'Information whether and how other features were incorporated into measurement of fair value, share options granted|(172270, 3857884)',\n",
       " 'Information about whether and how other features of option grant (such as a market condition) were incorporated into the measurement of the fair value of options granted.|(172270, 3857884)',\n",
       " 'disclosure: IFRS 2 47 a iii|(172270, 3857884)',\n",
       " 'ifrs-full|(172270, 3857884)',\n",
       " 'InformationWhetherEntityCompliedWithAnyExternallyImposedCapitalRequirements|(172270, 3857884)',\n",
       " 'text|(172270, 3857884)',\n",
       " 'Information whether entity complied with any externally imposed capital requirements|(172270, 3857884)',\n",
       " 'Information about whether the entity complied with externally imposed capital requirements to which it is subject. [Refer: Capital requirements [member]]|(172270, 3857884)',\n",
       " 'disclosure: IAS 1 135 d|(172270, 3857884)',\n",
       " 'ifrs-full|(172270, 3857884)',\n",
       " 'InformationWhetherRecoverableAmountOfAssetIsFairValueLessCostsToSellOrValueInUse|(172270, 3857884)',\n",
       " 'text|(172270, 3857884)',\n",
       " 'Information whether recoverable amount of asset is fair value less costs of disposal or value in use|(172270, 3857884)',\n",
       " 'Information about whether the recoverable amount of an asset (cash-generating unit) is its fair value less costs of disposal or its value in use. [Refer: Cash-generating units [member]]|(172270, 3857884)',\n",
       " 'disclosure: IAS 36 130 e|(172270, 3857884)',\n",
       " 'ifrs-full|(172270, 3857884)',\n",
       " 'InitiallyAppliedIFRSsAxis|(172270, 3857884)',\n",
       " 'axis|(172270, 3857884)',\n",
       " 'Initially applied IFRSs [axis]|(172270, 3857884)',\n",
       " 'The axis of a table defines the relationship between the domain members or categories in the table and the line items or concepts that complete the table.|(172270, 3857884)',\n",
       " 'disclosure: IAS 8 28|(172270, 3857884)',\n",
       " 'ifrs-full|(172270, 3857884)',\n",
       " 'InitiallyAppliedIFRSsMember|(172270, 3857884)',\n",
       " 'member|(172270, 3857884)',\n",
       " 'Initially applied IFRSs [member]|(172270, 3857884)',\n",
       " 'This member stands for IFRSs that have been initially applied by the entity. It also represents the standard value for the ‘Initially applied IFRSs’ axis if no other member is used. [Refer: IFRSs [member]]|(172270, 3857884)',\n",
       " 'disclosure: IAS 8 28|(172270, 3857884)',\n",
       " 'ifrs-full|(172270, 3857884)',\n",
       " 'InsuranceContractsMember|(172270, 3857884)',\n",
       " 'member|(172270, 3857884)',\n",
       " 'Types of insurance contracts [member]|(172270, 3857884)',\n",
       " 'This member stands for contracts under which one party (the insurer) accepts significant insurance risk from another party (the policyholder) by agreeing to compensate the policyholder if a specified uncertain future event (the insured event) adversely affects the policyholder. It also represents the standard value for the ‘Types of insurance contracts’ axis if no other member is used.|(172270, 3857884)',\n",
       " 'common practice: IFRS 4 Disclosure|(172270, 3857884)',\n",
       " 'ifrs-full|(172270, 3857884)',\n",
       " 'InsuranceExpense|(172270, 3857884)',\n",
       " 'X duration debit|(172270, 3857884)',\n",
       " 'Insurance expense|(172270, 3857884)',\n",
       " 'The amount of expense arising from purchased insurance.|(172270, 3857884)',\n",
       " 'common practice: IAS 1 112 c|(172270, 3857884)',\n",
       " 'ifrs-full|(172270, 3857884)',\n",
       " 'IntangibleAssetFairValueUsedAsDeemedCost|(172270, 3857884)',\n",
       " 'X instant debit|(172270, 3857884)',\n",
       " 'Intangible asset fair value used as deemed cost|(172270, 3857884)',\n",
       " 'The amount of intangible assets for which fair value was used as their deemed cost in the opening IFRS statement of financial position. [Refer: Intangible assets other than goodwill]|(172270, 3857884)',\n",
       " 'disclosure: IFRS 1 30|(172270, 3857884)',\n",
       " 'ifrs-full|(172270, 3857884)',\n",
       " 'IntangibleAssetsAcquiredByWayOfGovernmentGrant|(172270, 3857884)',\n",
       " 'X instant debit|(172270, 3857884)',\n",
       " 'Intangible assets acquired by way of government grant|(172270, 3857884)',\n",
       " 'The amount of intangible assets acquired through government grants. [Refer: Government grants; Intangible assets other than goodwill]|(172270, 3857884)',\n",
       " 'disclosure: IAS 38 122 c ii|(172270, 3857884)',\n",
       " 'ifrs-full|(172270, 3857884)',\n",
       " 'IntangibleAssetsAcquiredByWayOfGovernmentGrantAtFairValue|(172270, 3857884)',\n",
       " 'X instant debit|(172270, 3857884)',\n",
       " 'Intangible assets acquired by way of government grant, fair value initially recognised|(172270, 3857884)',\n",
       " 'The initial fair value of intangible assets acquired through government grants. [Refer: At fair value [member]; Government grants; Intangible assets other than goodwill]|(172270, 3857884)',\n",
       " 'disclosure: IAS 38 122 c i|(172270, 3857884)',\n",
       " 'ifrs-full|(172270, 3857884)',\n",
       " 'IntangibleAssetsAndGoodwill|(172270, 3857884)',\n",
       " 'X instant debit|(172270, 3857884)',\n",
       " 'Intangible assets and goodwill|(172270, 3857884)',\n",
       " 'The amount of intangible assets and goodwill held by the entity. [Refer: Goodwill; Intangible assets other than goodwill]|(172270, 3857884)',\n",
       " 'common practice: IAS 1 55|(172270, 3857884)',\n",
       " 'ifrs-full|(172270, 3857884)',\n",
       " 'IntangibleAssetsAndGoodwillAbstract|(172270, 3857884)',\n",
       " 'Intangible assets and goodwill [abstract]|(172270, 3857884)',\n",
       " 'ifrs-full|(172270, 3857884)',\n",
       " 'IntangibleAssetsAndGoodwillMember|(172270, 3857884)',\n",
       " 'member|(172270, 3857884)',\n",
       " 'Intangible assets and goodwill [member]|(172270, 3857884)',\n",
       " 'This member stands for intangible assets and goodwill. It also represents the standard value for the ‘Classes of intangible assets and goodwill’ axis if no other member is used. [Refer: Goodwill; Intangible assets other than goodwill]|(172270, 3857884)',\n",
       " 'common practice: IAS 38 118|(172270, 3857884)',\n",
       " 'ifrs-full|(172270, 3857884)',\n",
       " 'IntangibleAssetsMaterialToEntity|(172270, 3857884)',\n",
       " 'X instant debit|(172270, 3857884)',\n",
       " 'Intangible assets material to entity|(172270, 3857884)',\n",
       " 'The amount of intangible assets that are material to the entity’s financial statements. [Refer: Intangible assets other than goodwill]|(172270, 3857884)',\n",
       " 'disclosure: IAS 38 122 b|(172270, 3857884)',\n",
       " 'ifrs-full|(172270, 3857884)',\n",
       " 'IntangibleAssetsMaterialToEntityAxis|(172270, 3857884)',\n",
       " 'axis|(172270, 3857884)',\n",
       " 'Intangible assets material to entity [axis]|(172270, 3857884)',\n",
       " 'The axis of a table defines the relationship between the domain members or categories in the table and the line items or concepts that complete the table.|(172270, 3857884)',\n",
       " 'disclosure: IAS 38 122 b|(172270, 3857884)',\n",
       " 'ifrs-full|(172270, 3857884)',\n",
       " 'IntangibleAssetsMaterialToEntityMember|(172270, 3857884)',\n",
       " 'member|(172270, 3857884)',\n",
       " 'Intangible assets material to entity [member]|(172270, 3857884)',\n",
       " 'This member stands for intangible assets material to the entity. It also represents the standard value for the ‘Intangible assets material to entity’ axis if no other member is used. [Refer: Intangible assets material to entity]|(172270, 3857884)',\n",
       " 'disclosure: IAS 38 122 b|(172270, 3857884)',\n",
       " 'ifrs-full|(172270, 3857884)',\n",
       " 'IntangibleAssetsOtherThanGoodwill|(172270, 3857884)',\n",
       " 'X instant debit|(172270, 3857884)',\n",
       " 'Intangible assets other than goodwill|(172270, 3857884)',\n",
       " 'The amount of identifiable non-monetary assets without physical substance. This amount does not include goodwill. [Refer: Goodwill]|(172270, 3857884)',\n",
       " 'disclosure: IAS 1 54 c, disclosure: IAS 38 118 e|(172270, 3857884)',\n",
       " 'ifrs-full|(172270, 3857884)',\n",
       " 'IntangibleAssetsOtherThanGoodwillAbstract|(172270, 3857884)',\n",
       " 'Intangible assets other than goodwill [abstract]|(172270, 3857884)',\n",
       " 'ifrs-full|(172270, 3857884)',\n",
       " 'IntangibleAssetsOtherThanGoodwillCarryingAmountAtCostOfRevaluedAssets|(172270, 3857884)',\n",
       " 'X instant debit|(172270, 3857884)',\n",
       " 'Intangible assets other than goodwill, revalued assets, at cost|(172270, 3857884)',\n",
       " 'The amount of intangible assets other than goodwill that would have been recognised had the revalued intangible assets been measured using the cost model after recognition. [Refer: Intangible assets other than goodwill]|(172270, 3857884)',\n",
       " 'disclosure: IAS 38 124 a iii|(172270, 3857884)',\n",
       " 'ifrs-full|(172270, 3857884)',\n",
       " 'IntangibleAssetsOtherThanGoodwillCarryingAmountOfRevaluedAssets|(172270, 3857884)',\n",
       " 'X instant debit|(172270, 3857884)',\n",
       " 'Intangible assets other than goodwill, revalued assets|(172270, 3857884)',\n",
       " 'The amount of intangible assets other than goodwill that are accounted for at revalued amounts. [Refer: Intangible assets other than goodwill]|(172270, 3857884)',\n",
       " 'disclosure: IAS 38 124 a ii|(172270, 3857884)',\n",
       " 'ifrs-full|(172270, 3857884)',\n",
       " 'IntangibleAssetsOtherThanGoodwillMember|(172270, 3857884)',\n",
       " 'member|(172270, 3857884)',\n",
       " 'Intangible assets other than goodwill [member]|(172270, 3857884)',\n",
       " 'This member stands for intangible assets other than goodwill. It also represents the standard value for the ‘Classes of intangible assets other than goodwill’ axis if no other member is used. [Refer: Intangible assets other than goodwill]|(172270, 3857884)',\n",
       " 'disclosure: IAS 17 31 a - Expiry date 2019.01.01, example: IAS 36 127, disclosure: IAS 38 118, example: IFRS 16 53 - Effective 2019.01.01|(172270, 3857884)',\n",
       " 'ifrs-full|(172270, 3857884)',\n",
       " 'IntangibleAssetsOtherThanGoodwillRevaluationSurplus|(172270, 3857884)',\n",
       " 'X instant credit|(172270, 3857884)',\n",
       " 'Intangible assets other than goodwill, revaluation surplus|(172270, 3857884)',\n",
       " 'The amount of revaluation surplus that relates to intangible assets other than goodwill. [Refer: Intangible assets other than goodwill; Revaluation surplus]|(172270, 3857884)',\n",
       " 'disclosure: IAS 38 124 b|(172270, 3857884)',\n",
       " 'ifrs-full|(172270, 3857884)',\n",
       " 'IntangibleAssetsPledgedAsSecurityForLiabilities|(172270, 3857884)',\n",
       " 'X instant debit|(172270, 3857884)',\n",
       " 'Intangible assets pledged as security for liabilities|(172270, 3857884)',\n",
       " 'The amount of intangible assets pledged as security for liabilities. [Refer: Intangible assets other than goodwill]|(172270, 3857884)',\n",
       " 'disclosure: IAS 38 122 d|(172270, 3857884)',\n",
       " 'ifrs-full|(172270, 3857884)',\n",
       " 'IntangibleAssetsRelatingToInsuranceContractsAcquiredInBusinessCombinationsOrPortfolioTransfers|(172270, 3857884)',\n",
       " 'X instant debit|(172270, 3857884)',\n",
       " 'Intangible assets relating to insurance contracts acquired in business combinations or portfolio transfers|(172270, 3857884)',\n",
       " 'The amount of intangible assets relating to insurance contracts acquired in business combinations or portfolio transfers. [Refer: Business combinations [member]; Intangible assets other than goodwill; Types of insurance contracts [member]]|(172270, 3857884)',\n",
       " 'example: IFRS 4 IG23 b, example: IFRS 4 37 b|(172270, 3857884)',\n",
       " 'ifrs-full|(172270, 3857884)',\n",
       " 'IntangibleAssetsUnderDevelopment|(172270, 3857884)',\n",
       " 'X instant debit|(172270, 3857884)',\n",
       " 'Intangible assets under development|(172270, 3857884)',\n",
       " 'The amount of intangible assets representing such assets under development. [Refer: Intangible assets other than goodwill]|(172270, 3857884)',\n",
       " 'example: IAS 38 119 g|(172270, 3857884)',\n",
       " 'ifrs-full|(172270, 3857884)',\n",
       " 'IntangibleAssetsUnderDevelopmentMember|(172270, 3857884)',\n",
       " 'member|(172270, 3857884)',\n",
       " 'Intangible assets under development [member]|(172270, 3857884)',\n",
       " 'This member stands for a class of intangible assets representing such assets under development. [Refer: Intangible assets other than goodwill]|(172270, 3857884)',\n",
       " 'example: IAS 38 119 g|(172270, 3857884)',\n",
       " 'ifrs-full|(172270, 3857884)',\n",
       " 'IntangibleAssetsWhoseTitleIsRestricted|(172270, 3857884)',\n",
       " 'X instant debit|(172270, 3857884)',\n",
       " 'Intangible assets whose title is restricted|(172270, 3857884)',\n",
       " 'The amount of intangible assets whose title is restricted. [Refer: Intangible assets other than goodwill]|(172270, 3857884)',\n",
       " 'disclosure: IAS 38 122 d|(172270, 3857884)',\n",
       " 'ifrs-full|(172270, 3857884)',\n",
       " 'IntangibleAssetsWithIndefiniteUsefulLife|(172270, 3857884)',\n",
       " 'X instant debit|(172270, 3857884)',\n",
       " 'Intangible assets with indefinite useful life|(172270, 3857884)',\n",
       " 'The amount of intangible assets assessed as having an indefinite useful life. [Refer: Intangible assets other than goodwill]|(172270, 3857884)',\n",
       " 'disclosure: IAS 36 134 b, disclosure: IAS 36 135 b, disclosure: IAS 38 122 a|(172270, 3857884)',\n",
       " 'ifrs-full|(172270, 3857884)',\n",
       " 'IntangibleAssetsWithIndefiniteUsefulLifeAxis|(172270, 3857884)',\n",
       " ...]"
      ]
     },
     "execution_count": 14,
     "metadata": {},
     "output_type": "execute_result"
    }
   ],
   "source": [
    "text[-10000:]"
   ]
  },
  {
   "cell_type": "code",
   "execution_count": 7,
   "metadata": {
    "scrolled": true
   },
   "outputs": [
    {
     "name": "stdout",
     "output_type": "stream",
     "text": [
      "get reporting obligations\n",
      "loading tokenizer en_core_web_sm\n",
      "Not processing Legend for Tables 1 and 2 of Annex II, and for the Tables of Annexes IV and VI. Mandatory elements of the core taxonomy to be marked up for financial years beginning on or after 1 January 2022 ❬Label ‖ and/or Type ‖ and/or References to IFRSs ‖ and/or Name of reporting entity or other means of identification ‖ and/or text ‖ and/or IAS 1 51 a ‖ and/or Explanation of change in name of reporting entity or other means of identification from end of preceding reporting period ‖ and/or text ‖ and/or IAS 1 51 a ‖ and/or Domicile of entity ‖ and/or text ‖ and/or IAS 1 138 a ‖ and/or Legal form of entity ‖ and/or text ‖ and/or IAS 1 138 a ‖ and/or Country of incorporation ‖ and/or text ‖ and/or IAS 1 138 a ‖ and/or Address of entity's registered office ‖ and/or text ‖ and/or IAS 1 138 a ‖ and/or Principal place of business ‖ and/or text ‖ and/or IAS 1 138 a ‖ and/or Description of nature of entity's operations and principal activities ‖ and/or text ‖ and/or IAS 1 138 b ‖ and/or Name of parent entity ‖ and/or text ‖ and/or IAS 1 138 c, IAS 24 13 ‖ and/or Name of ultimate parent of group ‖ and/or text ‖ and/or IAS 24 13, IAS 1 138 c ‖ and/or Length of life of limited life entity ‖ and/or text ‖ and/or IAS 1 138 d ‖ and/or Statement of IFRS compliance [text block] ‖ and/or text block ‖ and/or IAS 1 16 ‖ and/or Explanation of departure from IFRS ‖ and/or text ‖ and/or IAS 1 20 b, IAS 1 20 c ‖ and/or Explanation of financial effect of departure from IFRS ‖ and/or text ‖ and/or IAS 1 20 d ‖ and/or Disclosure of uncertainties of entity's ability to continue as going concern [text block] ‖ and/or text block ‖ and/or IAS 1 25 ‖ and/or Explanation of fact and basis for preparation of financial statements when not going concern basis ‖ and/or text ‖ and/or IAS 1 25 ‖ and/or Explanation of why entity not regarded as going concern ‖ and/or text ‖ and/or IAS 1 25 ‖ and/or Description of reason for using longer or shorter reporting period ‖ and/or text ‖ and/or IAS 1 36 a ‖ and/or Description of fact that amounts presented in financial statements are not entirely comparable ‖ and/or text ‖ and/or IAS 1 36 b ‖ and/or Disclosure of reclassifications or changes in presentation [text block] ‖ and/or text block ‖ and/or IAS 1 41 ‖ and/or Explanation of sources of estimation uncertainty with significant risk of causing material adjustment ‖ and/or text ‖ and/or IFRIC 14 10, IAS 1 125 ‖ and/or Disclosure of assets and liabilities with significant risk of material adjustment [text block] ‖ and/or text block ‖ and/or IAS 1 125 ‖ and/or Dividends recognised as distributions to owners per share ‖ and/or X, duration ‖ and/or IAS 1 107 ‖ and/or Dividends proposed or declared before financial statements authorised for issue but not recognised as distribution to owners ‖ and/or X duration ‖ and/or IAS 10 13, IAS 1 137 ‖ and/or Dividends proposed or declared before financial statements authorised for issue but not recognised as distribution to owners per share ‖ and/or X.XX duration ‖ and/or IAS 1 137 a ‖ and/or Disclosure of accounting judgements and estimates [text block] ‖ and/or text block ‖ and/or IAS 1 10 e ‖ and/or Disclosure of accrued expenses and other liabilities [text block] ‖ and/or text block ‖ and/or IAS 1 10 e ‖ and/or Disclosure of allowance for credit losses [text block] ‖ and/or text block ‖ and/or IAS 1 10 e ‖ and/or Disclosure of associates [text block] ‖ and/or text block ‖ and/or IFRS 12 B4 d, IAS 27 17 b, IAS 27 16 b ‖ and/or Disclosure of auditors' remuneration [text block] ‖ and/or text block ‖ and/or IAS 1 10 e ‖ and/or Disclosure of authorisation of financial statements [text block] ‖ and/or text block ‖ and/or IAS 1 10 e ‖ and/or Disclosure of available-for-sale financial assets [text block] ‖ and/or text block ‖ and/or IAS 1 10 e ‖ and/or Disclosure of basis of consolidation [text block] ‖ and/or text block ‖ and/or IAS 1 10 e ‖ and/or Disclosure of basis of preparation of financial statements [text block] ‖ and/or text block ‖ and/or IAS 1 10 e ‖ and/or Disclosure of biological assets, agriculture produce at point of harvest and government grants related to biological assets [text block] ‖ and/or text block ‖ and/or IAS 41 Disclosure ‖ and/or Disclosure of borrowings [text block] ‖ and/or text block ‖ and/or IAS 1 10 e ‖ and/or Disclosure of business combinations [text block] ‖ and/or text block ‖ and/or IFRS 3 Disclosures ‖ and/or Disclosure of cash and bank balances at central banks [text block] ‖ and/or text block ‖ and/or IAS 1 10 e ‖ and/or Disclosure of cash and cash equivalents [text block] ‖ and/or text block ‖ and/or IAS 1 10 e ‖ and/or Disclosure of cash flow statement [text block] ‖ and/or text block ‖ and/or IAS 7 Presentation of a statement of cash flows ‖ and/or Disclosure of changes in accounting policies [text block] ‖ and/or text block ‖ and/or IAS 1 10 e ‖ and/or Disclosure of changes in accounting policies, accounting estimates and errors [text block] ‖ and/or text block ‖ and/or IAS 8 Accounting policies ‖ and/or Disclosure of collateral [text block] ‖ and/or text block ‖ and/or IAS 1 10 e ‖ and/or Disclosure of claims and benefits paid [text block] ‖ and/or text block ‖ and/or IAS 1 10 e ‖ and/or Disclosure of commitments [text block] ‖ and/or text block ‖ and/or IAS 1 10 e ‖ and/or Disclosure of commitments and contingent liabilities [text block] ‖ and/or text block ‖ and/or IAS 1 10 e ‖ and/or Disclosure of contingent liabilities [text block] ‖ and/or text block ‖ and/or IAS 37 86 ‖ and/or Disclosure of cost of sales [text block] ‖ and/or text block ‖ and/or IAS 1 10 e ‖ and/or Disclosure of credit risk [text block] ‖ and/or text block ‖ and/or Effective 2018.1.1 IFRS 7 Credit risk, IAS 1 10 e ‖ and/or Disclosure of debt instruments [text block] ‖ and/or text block ‖ and/or IAS 1 10 e ‖ and/or Disclosure of deferred acquisition costs arising from insurance contracts [text block] ‖ and/or text block ‖ and/or IAS 1 10 e ‖ and/or Disclosure of deferred income [text block] ‖ and/or text block ‖ and/or IAS 1 10 e ‖ and/or Disclosure of deferred taxes [text block] ‖ and/or text block ‖ and/or IAS 1 10 e ‖ and/or Disclosure of deposits from banks [text block] ‖ and/or text block ‖ and/or IAS 1 10 e ‖ and/or Disclosure of deposits from customers [text block] ‖ and/or text block ‖ and/or IAS 1 10 e ‖ and/or Disclosure of depreciation and amortisation expense [text block] ‖ and/or text block ‖ and/or IAS 1 10 e ‖ and/or Disclosure of derivative financial instruments [text block] ‖ and/or text block ‖ and/or IAS 1 10 e ‖ and/or Disclosure of discontinued operations [text block] ‖ and/or text block ‖ and/or IAS 1 10 e ‖ and/or Disclosure of dividends [text block] ‖ and/or text block ‖ and/or IAS 1 10 e ‖ and/or Disclosure of earnings per share [text block] ‖ and/or text block ‖ and/or IAS 33 Disclosure ‖ and/or Disclosure of effect of changes in foreign exchange rates [text block] ‖ and/or text block ‖ and/or IAS 21 Disclosure ‖ and/or Disclosure of employee benefits [text block] ‖ and/or text block ‖ and/or IAS 19 Scope ‖ and/or Disclosure of entity's operating segments [text block] ‖ and/or text block ‖ and/or IFRS 8 Disclosure ‖ and/or Disclosure of events after reporting period [text block] ‖ and/or text block ‖ and/or IAS 10 Disclosure ‖ and/or Disclosure of expenses [text block] ‖ and/or text block ‖ and/or IAS 1 10 e ‖ and/or Disclosure of expenses by nature [text block] ‖ and/or text block ‖ and/or IAS 1 10 e ‖ and/or Disclosure of exploration and evaluation assets [text block] ‖ and/or text block ‖ and/or IFRS 6 Disclosure ‖ and/or Disclosure of fair value measurement [text block] ‖ and/or text block ‖ and/or IFRS 13 Disclosure ‖ and/or Disclosure of fair value of financial instruments [text block] ‖ and/or text block ‖ and/or IAS 1 10 e ‖ and/or Disclosure of fee and commission income (expense) [text block] ‖ and/or text block ‖ and/or IAS 1 10 e ‖ and/or Disclosure of finance cost [text block] ‖ and/or text block ‖ and/or IAS 1 10 e ‖ and/or Disclosure of finance income (cost) [text block] ‖ and/or text block ‖ and/or IAS 1 10 e ‖ and/or Disclosure of finance income [text block] ‖ and/or text block ‖ and/or IAS 1 10 e ‖ and/or Disclosure of financial assets held for trading [text block] ‖ and/or text block ‖ and/or IAS 1 10 e ‖ and/or Disclosure of financial instruments [text block] ‖ and/or text block ‖ and/or IFRS 7 Scope ‖ and/or Disclosure of financial instruments at fair value through profit or loss [text block] ‖ and/or text block ‖ and/or IAS 1 10 e ‖ and/or Disclosure of financial instruments designated at fair value through profit or loss [text block] ‖ and/or text block ‖ and/or IAS 1 10 e ‖ and/or Disclosure of financial instruments held for trading [text block] ‖ and/or text block ‖ and/or IAS 1 10 e ‖ and/or Disclosure of financial liabilities held for trading [text block] ‖ and/or text block ‖ and/or IAS 1 10 e ‖ and/or Disclosure of financial risk management [text block] ‖ and/or text block ‖ and/or IAS 1 10 e ‖ and/or Disclosure of first-time adoption [text block] ‖ and/or text block ‖ and/or IFRS 1 Presentation and disclosure ‖ and/or Disclosure of general and administrative expense [text block] ‖ and/or text block ‖ and/or IAS 1 10 e ‖ and/or Disclosure of general information about financial statements [text block] ‖ and/or text block ‖ and/or IAS 1 51 ‖ and/or Disclosure of going concern [text block] ‖ and/or text block ‖ and/or IAS 1 10 e ‖ and/or Disclosure of goodwill [text block] ‖ and/or text block ‖ and/or IAS 1 10 e ‖ and/or Disclosure of government grants [text block] ‖ and/or text block ‖ and/or IAS 20 Disclosure ‖ and/or Disclosure of impairment of assets [text block] ‖ and/or text block ‖ and/or IAS 36 Disclosure ‖ and/or Disclosure of income tax [text block] ‖ and/or text block ‖ and/or IAS 12 Disclosure ‖ and/or Disclosure of information about employees [text block] ‖ and/or text block ‖ and/or IAS 1 10 e ‖ and/or Disclosure of information about key management personnel [text block] ‖ and/or text block ‖ and/or IAS 1 10 e ‖ and/or Disclosure of insurance contracts [text block] ‖ and/or text block ‖ and/or IFRS 4 Disclosure ‖ and/or Disclosure of insurance premium revenue [text block] ‖ and/or text block ‖ and/or IAS 1 10 e ‖ and/or Disclosure of intangible assets [text block] ‖ and/or text block ‖ and/or IAS 38 Disclosure ‖ and/or Disclosure of intangible assets and goodwill [text block] ‖ and/or text block ‖ and/or IAS 1 10 e ‖ and/or Disclosure of interest expense [text block] ‖ and/or text block ‖ and/or IAS 1 10 e ‖ and/or Disclosure of interest income [text block] ‖ and/or text block ‖ and/or IAS 1 10 e ‖ and/or Disclosure of interest income (expense) [text block] ‖ and/or text block ‖ and/or IAS 1 10 e ‖ and/or Disclosure of inventories [text block] ‖ and/or text block ‖ and/or IAS 2 Disclosure ‖ and/or Disclosure of investment contracts liabilities [text block] ‖ and/or text block ‖ and/or IAS 1 10 e ‖ and/or Disclosure of investment property [text block] ‖ and/or text block ‖ and/or IAS 40 Disclosure ‖ and/or Disclosure of investments accounted for using equity method [text block] ‖ and/or text block ‖ and/or IAS 1 10 e ‖ and/or Disclosure of investments other than investments accounted for using equity method [text block] ‖ and/or text block ‖ and/or IAS 1 10 e ‖ and/or Disclosure of issued capital [text block] ‖ and/or text block ‖ and/or IAS 1 10 e ‖ and/or Disclosure of joint ventures [text block] ‖ and/or text block ‖ and/or IAS 27 17 b, IFRS 12 B4 b, IAS 27 16 b ‖ and/or Disclosure of lease prepayments [text block] ‖ and/or text block ‖ and/or IAS 1 10 e ‖ and/or Disclosure of leases [text block] ‖ and/or text block ‖ and/or Effective 2019.1.1 IFRS 16 Presentation, Expiry date 2019.1.1 IAS 17 Leases in the financial statements of lessors, Expiry date 2019.1.1 IAS 17 Leases in the financial statements of lessees, Effective 2019.1.1 IFRS 16 Disclosure ‖ and/or Disclosure of liquidity risk [text block] ‖ and/or text block ‖ and/or IAS 1 10 e ‖ and/or Disclosure of loans and advances to banks [text block] ‖ and/or text block ‖ and/or IAS 1 10 e ‖ and/or Disclosure of loans and advances to customers [text block] ‖ and/or text block ‖ and/or IAS 1 10 e ‖ and/or Disclosure of market risk [text block] ‖ and/or text block ‖ and/or IAS 1 10 e ‖ and/or Disclosure of net asset value attributable to unit-holders [text block] ‖ and/or text block ‖ and/or IAS 1 10 e ‖ and/or Disclosure of non-controlling interests [text block] ‖ and/or text block ‖ and/or IAS 1 10 e ‖ and/or Disclosure of non-current assets held for sale and discontinued operations [text block] ‖ and/or text block ‖ and/or IFRS 5 Presentation and disclosure ‖ and/or Disclosure of non-current assets or disposal groups classified as held for sale [text block] ‖ and/or text block ‖ and/or IAS 1 10 e ‖ and/or Disclosure of objectives, policies and processes for managing capital [text block] ‖ and/or text block ‖ and/or IAS 1 134 ‖ and/or Disclosure of other assets [text block] ‖ and/or text block ‖ and/or IAS 1 10 e ‖ and/or Disclosure of other current assets [text block] ‖ and/or text block ‖ and/or IAS 1 10 e ‖ and/or Disclosure of other current liabilities [text block] ‖ and/or text block ‖ and/or IAS 1 10 e ‖ and/or Disclosure of other liabilities [text block] ‖ and/or text block ‖ and/or IAS 1 10 e ‖ and/or Disclosure of other non-current assets [text block] ‖ and/or text block ‖ and/or IAS 1 10 e ‖ and/or Disclosure of other non-current liabilities [text block] ‖ and/or text block ‖ and/or IAS 1 10 e ‖ and/or Disclosure of other operating expense [text block] ‖ and/or text block ‖ and/or IAS 1 10 e ‖ and/or Disclosure of other operating income (expense) [text block] ‖ and/or text block ‖ and/or IAS 1 10 e ‖ and/or Disclosure of other operating income [text block] ‖ and/or text block ‖ and/or IAS 1 10 e ‖ and/or Disclosure of prepayments and other assets [text block] ‖ and/or text block ‖ and/or IAS 1 10 e ‖ and/or Disclosure of profit (loss) from operating activities [text block] ‖ and/or text block ‖ and/or IAS 1 10 e ‖ and/or Disclosure of property, plant and equipment [text block] ‖ and/or text block ‖ and/or IAS 16 Disclosure ‖ and/or Disclosure of provisions [text block] ‖ and/or text block ‖ and/or IAS 1 10 e ‖ and/or Disclosure of reclassification of financial instruments [text block] ‖ and/or text block ‖ and/or IAS 1 10 e ‖ and/or Disclosure of recognised revenue from construction contracts [text block] ‖ and/or text block ‖ and/or Expiry date 2018.1.1 IAS 11 Disclosure ‖ and/or Disclosure of reinsurance [text block] ‖ and/or text block ‖ and/or IAS 1 10 e ‖ and/or Disclosure of related party [text block] ‖ and/or text block ‖ and/or IAS 24 Disclosures ‖ and/or Disclosure of repurchase and reverse repurchase agreements [text block] ‖ and/or text block ‖ and/or IAS 1 10 e ‖ and/or Disclosure of research and development expense [text block] ‖ and/or text block ‖ and/or IAS 1 10 e ‖ and/or Disclosure of reserves within equity [text block] ‖ and/or text block ‖ and/or IAS 1 79 b ‖ and/or Disclosure of restricted cash and cash equivalents [text block] ‖ and/or text block ‖ and/or IAS 1 10 e ‖ and/or Disclosure of revenue [text block] ‖ and/or text block ‖ and/or IAS 1 10 e, Expiry date 2018.1.1 IAS 18 Disclosure ‖ and/or Disclosure of service concession arrangements [text block] ‖ and/or text block ‖ and/or SIC 29 Consensus ‖ and/or Disclosure of share capital, reserves and other equity interest [text block] ‖ and/or text block ‖ and/or IAS 1 79 ‖ and/or Disclosure of share-based payment arrangements [text block] ‖ and/or text block ‖ and/or IFRS 2 44 ‖ and/or Disclosure of subordinated liabilities [text block] ‖ and/or text block ‖ and/or IAS 1 10 e ‖ and/or Disclosure of subsidiaries [text block] ‖ and/or text block ‖ and/or IAS 27 17 b, IFRS 12 B4 a, IAS 27 16 b ‖ and/or Disclosure of significant accounting policies [text block] ‖ and/or text block ‖ and/or IAS 1 117 ‖ and/or Disclosure of tax receivables and payables [text block] ‖ and/or text block ‖ and/or IAS 1 10 e ‖ and/or Disclosure of trade and other payables [text block] ‖ and/or text block ‖ and/or IAS 1 10 e ‖ and/or Disclosure of trade and other receivables [text block] ‖ and/or text block ‖ and/or IAS 1 10 e ‖ and/or Disclosure of trading income (expense) [text block] ‖ and/or text block ‖ and/or IAS 1 10 e ‖ and/or Disclosure of treasury shares [text block] ‖ and/or text block ‖ and/or IAS 1 10 e ‖ and/or Description of accounting policy for available-for-sale financial assets [text block] ‖ and/or text block ‖ and/or IAS 1 117 b ‖ and/or Description of accounting policy for biological assets [text block] ‖ and/or text block ‖ and/or IAS 1 117 b ‖ and/or Description of accounting policy for borrowing costs [text block] ‖ and/or text block ‖ and/or IAS 1 117 b ‖ and/or Description of accounting policy for borrowings [text block] ‖ and/or text block ‖ and/or IAS 1 117 b ‖ and/or Description of accounting policy for business combinations [text block] ‖ and/or text block ‖ and/or IAS 1 117 b ‖ and/or Description of accounting policy for business combinations and goodwill [text block] ‖ and/or text block ‖ and/or IAS 1 117 b ‖ and/or Description of accounting policy for cash flows [text block] ‖ and/or text block ‖ and/or IAS 1 117 b ‖ and/or Description of accounting policy for collateral [text block] ‖ and/or text block ‖ and/or IAS 1 117 b ‖ and/or Description of accounting policy for construction in progress [text block] ‖ and/or text block ‖ and/or IAS 1 117 b ‖ and/or Description of accounting policy for contingent liabilities and contingent assets [text block] ‖ and/or text block ‖ and/or IAS 1 117 b ‖ and/or Description of accounting policy for customer acquisition costs [text block] ‖ and/or text block ‖ and/or IAS 1 117 b ‖ and/or Description of accounting policy for customer loyalty programmes [text block] ‖ and/or text block ‖ and/or IAS 1 117 b ‖ and/or Description of accounting policy for decommissioning, restoration and rehabilitation provisions [text block] ‖ and/or text block ‖ and/or IAS 1 117 b ‖ and/or Description of accounting policy for deferred acquisition costs arising from insurance contracts [text block] ‖ and/or text block ‖ and/or IAS 1 117 b ‖ and/or Description of accounting policy for deferred income tax [text block] ‖ and/or text block ‖ and/or IAS 1 117 b ‖ and/or Description of accounting policy for depreciation expense [text block] ‖ and/or text block ‖ and/or IAS 1 117 b ‖ and/or Description of accounting policy for derecognition of financial instruments [text block] ‖ and/or text block ‖ and/or IAS 1 117 b ‖ and/or Description of accounting policy for derivative financial instruments [text block] ‖ and/or text block ‖ and/or IAS 1 117 b ‖ and/or Description of accounting policy for derivative financial instruments and hedging [text block] ‖ and/or text block ‖ and/or IAS 1 117 b ‖ and/or Description of accounting policy for determining components of cash and cash equivalents [text block] ‖ and/or text block ‖ and/or IAS 7 46 ‖ and/or Description of accounting policy for discontinued operations [text block] ‖ and/or text block ‖ and/or IAS 1 117 b ‖ and/or Description of accounting policy for discounts and rebates [text block] ‖ and/or text block ‖ and/or IAS 1 117 b ‖ and/or Description of accounting policy for dividends [text block] ‖ and/or text block ‖ and/or IAS 1 117 b ‖ and/or Description of accounting policy for earnings per share [text block] ‖ and/or text block ‖ and/or IAS 1 117 b ‖ and/or Description of accounting policy for emission rights [text block] ‖ and/or text block ‖ and/or IAS 1 117 b ‖ and/or Description of accounting policy for employee benefits [text block] ‖ and/or text block ‖ and/or IAS 1 117 b ‖ and/or Description of accounting policy for environment related expense [text block] ‖ and/or text block ‖ and/or IAS 1 117 b ‖ and/or Description of accounting policy for exceptional items [text block] ‖ and/or text block ‖ and/or IAS 1 117 b ‖ and/or Description of accounting policy for expenses [text block] ‖ and/or text block ‖ and/or IAS 1 117 b ‖ and/or Description of accounting policy for exploration and evaluation expenditures [text block] ‖ and/or text block ‖ and/or IFRS 6 24 a ‖ and/or Description of accounting policy for fair value measurement [text block] ‖ and/or text block ‖ and/or IAS 1 117 b ‖ and/or Description of accounting policy for fee and commission income and expense [text block] ‖ and/or text block ‖ and/or IAS 1 117 b ‖ and/or Description of accounting policy for finance costs [text block] ‖ and/or text block ‖ and/or IAS 1 117 b ‖ and/or Description of accounting policy for finance income and costs [text block] ‖ and/or text block ‖ and/or IAS 1 117 b ‖ and/or Description of accounting policy for financial assets [text block] ‖ and/or text block ‖ and/or IAS 1 117 b ‖ and/or Description of accounting policy for financial guarantees [text block] ‖ and/or text block ‖ and/or IAS 1 117 b ‖ and/or Description of accounting policy for financial instruments [text block] ‖ and/or text block ‖ and/or IAS 1 117 b ‖ and/or Description of accounting policy for financial instruments at fair value through profit or loss [text block] ‖ and/or text block ‖ and/or IAS 1 117 b ‖ and/or Description of accounting policy for financial liabilities [text block] ‖ and/or text block ‖ and/or IAS 1 117 b ‖ and/or Description of accounting policy for foreign currency translation [text block] ‖ and/or text block ‖ and/or IAS 1 117 b ‖ and/or Description of accounting policy for franchise fees [text block] ‖ and/or text block ‖ and/or IAS 1 117 b ‖ and/or Description of accounting policy for functional currency [text block] ‖ and/or text block ‖ and/or IAS 1 117 b ‖ and/or Description of accounting policy for goodwill [text block] ‖ and/or text block ‖ and/or IAS 1 117 b ‖ and/or Description of accounting policy for government grants [text block] ‖ and/or text block ‖ and/or IAS 20 39 a ‖ and/or Description of accounting policy for hedging [text block] ‖ and/or text block ‖ and/or IAS 1 117 b ‖ and/or Description of accounting policy for held-to-maturity investments [text block] ‖ and/or text block ‖ and/or IAS 1 117 b ‖ and/or Description of accounting policy for impairment of assets [text block] ‖ and/or text block ‖ and/or IAS 1 117 b ‖ and/or Description of accounting policy for impairment of financial assets [text block] ‖ and/or text block ‖ and/or IAS 1 117 b ‖ and/or Description of accounting policy for impairment of non-financial assets [text block] ‖ and/or text block ‖ and/or IAS 1 117 b ‖ and/or Description of accounting policy for income tax [text block] ‖ and/or text block ‖ and/or IAS 1 117 b ‖ and/or Description of accounting policy for insurance contracts and related assets, liabilities, income and expense [text block] ‖ and/or text block ‖ and/or IFRS 4 37 a ‖ and/or Description of accounting policy for intangible assets and goodwill [text block] ‖ and/or text block ‖ and/or IAS 1 117 b ‖ and/or Description of accounting policy for intangible assets other than goodwill [text block] ‖ and/or text block ‖ and/or IAS 1 117 b ‖ and/or Description of accounting policy for interest income and expense [text block] ‖ and/or text block ‖ and/or IAS 1 117 b ‖ and/or Description of accounting policy for investment in associates [text block] ‖ and/or text block ‖ and/or IAS 1 117 b ‖ and/or Description of accounting policy for investment in associates and joint ventures [text block] ‖ and/or text block ‖ and/or IAS 1 117 b ‖ and/or Description of accounting policy for investments in joint ventures [text block] ‖ and/or text block ‖ and/or IAS 1 117 b ‖ and/or Description of accounting policy for investment property [text block] ‖ and/or text block ‖ and/or IAS 1 117 b ‖ and/or Description of accounting policy for investments other than investments accounted for using equity method [text block] ‖ and/or text block ‖ and/or IAS 1 117 b ‖ and/or Description of accounting policy for issued capital [text block] ‖ and/or text block ‖ and/or IAS 1 117 b ‖ and/or Description of accounting policy for leases [text block] ‖ and/or text block ‖ and/or IAS 1 117 b ‖ and/or Description of accounting policy for loans and receivables [text block] ‖ and/or text block ‖ and/or IAS 1 117 b ‖ and/or Description of accounting policy for measuring inventories [text block] ‖ and/or text block ‖ and/or IAS 2 36 a ‖ and/or Description of accounting policy for mining assets [text block] ‖ and/or text block ‖ and/or IAS 1 117 b ‖ and/or Description of accounting policy for mining rights [text block] ‖ and/or text block ‖ and/or IAS 1 117 b ‖ and/or Description of accounting policy for non-current assets or disposal groups classified as held for sale [text block] ‖ and/or text block ‖ and/or IAS 1 117 b ‖ and/or Description of accounting policy for non-current assets or disposal groups classified as held for sale and discontinued operations [text block] ‖ and/or text block ‖ and/or IAS 1 117 b ‖ and/or Description of accounting policy for offsetting of financial instruments [text block] ‖ and/or text block ‖ and/or IAS 1 117 b ‖ and/or Description of accounting policy for oil and gas assets [text block] ‖ and/or text block ‖ and/or IAS 1 117 b ‖ and/or Description of accounting policy for programming assets [text block] ‖ and/or text block ‖ and/or IAS 1 117 b ‖ and/or Description of accounting policy for property, plant and equipment [text block] ‖ and/or text block ‖ and/or IAS 1 117 b ‖ and/or Description of accounting policy for provisions [text block] ‖ and/or text block ‖ and/or IAS 1 117 b ‖ and/or Description of accounting policy for reclassification of financial instruments [text block] ‖ and/or text block ‖ and/or IAS 1 117 b ‖ and/or Description of accounting policy for recognising in profit or loss difference between fair value at initial recognition and transaction price [text block] ‖ and/or text block ‖ and/or IFRS 7 28 a ‖ and/or Description of accounting policy for recognition of revenue [text block] ‖ and/or text block ‖ and/or Expiry date 2018.1.1 IAS 18 35 a, IAS 1 117 b ‖ and/or Description of accounting policy for regulatory deferral accounts [text block] ‖ and/or text block ‖ and/or IAS 1 117 b ‖ and/or Description of accounting policy for reinsurance [text block] ‖ and/or text block ‖ and/or IAS 1 117 b ‖ and/or Description of accounting policy for repairs and maintenance [text block] ‖ and/or text block ‖ and/or IAS 1 117 b ‖ and/or Description of accounting policy for repurchase and reverse repurchase agreements [text block] ‖ and/or text block ‖ and/or IAS 1 117 b ‖ and/or Description of accounting policy for research and development expense [text block] ‖ and/or text block ‖ and/or IAS 1 117 b ‖ and/or Description of accounting policy for restricted cash and cash equivalents [text block] ‖ and/or text block ‖ and/or IAS 1 117 b ‖ and/or Description of accounting policy for segment reporting [text block] ‖ and/or text block ‖ and/or IAS 1 117 b ‖ and/or Description of accounting policy for service concession arrangements [text block] ‖ and/or text block ‖ and/or IAS 1 117 b ‖ and/or Description of accounting policy for share-based payment transactions [text block] ‖ and/or text block ‖ and/or IAS 1 117 b ‖ and/or Description of accounting policy for stripping costs [text block] ‖ and/or text block ‖ and/or IAS 1 117 b ‖ and/or Description of accounting policy for subsidiaries [text block] ‖ and/or text block ‖ and/or IAS 1 117 b ‖ and/or Description of accounting policy for taxes other than income tax [text block] ‖ and/or text block ‖ and/or IAS 1 117 b ‖ and/or Description of accounting policy for termination benefits [text block] ‖ and/or text block ‖ and/or IAS 1 117 b ‖ and/or Description of accounting policy for trade and other payables [text block] ‖ and/or text block ‖ and/or IAS 1 117 b ‖ and/or Description of accounting policy for trade and other receivables [text block] ‖ and/or text block ‖ and/or IAS 1 117 b ‖ and/or Description of accounting policy for trading income and expense [text block] ‖ and/or text block ‖ and/or IAS 1 117 b ‖ and/or Description of accounting policy for transactions with non-controlling interests [text block] ‖ and/or text block ‖ and/or IAS 1 117 b ‖ and/or Description of accounting policy for transactions with related parties [text block] ‖ and/or text block ‖ and/or IAS 1 117 b ‖ and/or Description of accounting policy for treasury shares [text block] ‖ and/or text block ‖ and/or IAS 1 117 b ‖ and/or Description of accounting policy for warrants [text block] ‖ and/or text block ‖ and/or IAS 1 117 b ‖ and/or Description of other accounting policies relevant to understanding of financial statements [text block] ‖ and/or text block ‖ and/or IAS 1 117 b❭., make sure number of tokens in non-tokenized sentence is smaller than 5000.\n",
      "Warning: could not parse: '<p>The weighted average number of ordinary shares outstanding plus <span class=\"ARG1\">the weighted average number of ordinary shares</span> <span class=\"R-ARG1\">that</span> <span class=\"ARGM-MOD\">would</span> be <span class=\"V\">issued</span> <span class=\"ARGM-ADV\">on the conversion of all the dilutive potential ordinary shares into ordinary shares</span> . [ Refer : Ordinary shares [ member </span> ; Weighted average [ member </span> </span></p>'\n",
      "Warning: could not parse: '<p>A classification of cash equivalents representing <span class=\"ARG1\">banking arrangements</span> <span class=\"R-ARG1\">that</span> <span class=\"ARG0\">the entity</span> does <span class=\"ARGM-NEG\">not</span> <span class=\"ARGM-MNR\">separately</span> <span class=\"V\">disclose</span> <span class=\"ARGM-LOC\">in the same statement or note</span> . [ Refer : Cash equivalents </span></p>'\n",
      "Warning: could not parse: '<p>The description of the methodology or methodologies used to determine whether presenting the effects of changes in a financial liability 's credit risk in other comprehensive income would create or enlarge an accounting mismatch in profit or loss . <span class=\"ARGM-ADV\">If an entity must present the effects of changes in a liability ’s credit risk in profit or loss</span> , <span class=\"ARG2\">the disclosure</span> <span class=\"ARGM-MOD\">must</span> <span class=\"V\">include</span> <span class=\"ARG1\">a detailed description of the economic relationship described between the characteristics of the liability and the characteristics of the other financial instruments measured at fair value through profit or loss whose value was changed as a result of changes in the liability 's credit risk</span> . [ Refer : Credit risk [ member </span> ; Financial instruments , class [ member </span> ; Other comprehensive income </span></p>'\n",
      "Warning: could not parse: '<p>The description of the information used to assess the credit quality of financial assets with credit risk that are neither past due nor impaired <span class=\"ARG1\">that</span> <span class=\"ARG0\">the entity</span> does <span class=\"ARGM-NEG\">not</span> <span class=\"ARGM-MNR\">separately</span> <span class=\"V\">disclose</span> . [ Refer : Credit risk [ member </span> </span></p>'\n",
      "Warning: could not parse: '<p>The description of inputs to option pricing model for share options granted that <span class=\"ARG0\">the entity</span> does <span class=\"ARGM-NEG\">not</span> <span class=\"V\">disclose</span> <span class=\"ARGM-MNR\">separately</span> . [ Refer : Option pricing model [ member </span> </span></p>'\n",
      "Warning: could not parse: '<p>The description of who <span class=\"ARG0\">the group within the entity that decides the entity 's fair value measurement valuation policies and procedures for the entity 's own equity instruments</span> <span class=\"V\">reports</span> <span class=\"ARG2\">to</span> . [ Refer : Entity 's own equity instruments [ member </span> </span></p>'\n",
      "Warning: could not parse: '<p><span class=\"ARG2\">The disclosure of information about</span> the maturity profile of a defined benefit obligation . <span class=\"ARG2\">This</span> <span class=\"ARGM-MOD\">will</span> <span class=\"V\">include</span> <span class=\"ARG1\">the weighted average duration of the defined benefit obligation</span> and may include other information about the distribution of the timing of benefit payments , such as a maturity analysis of the benefit payments . [ Refer : Defined benefit obligation , at present value </span></p>'\n",
      "Warning: could not parse: '<p>The explanation of the nature and extent ( for example , quantity , time period or amount as appropriate ) of rights and obligations in <span class=\"ARG1\">service concession arrangements</span> <span class=\"R-ARG1\">that</span> <span class=\"ARG0\">the entity</span> does <span class=\"ARGM-NEG\">not</span> <span class=\"ARGM-MNR\">separately</span> <span class=\"V\">disclose</span> . [ Refer : Service concession arrangements [ member </span> </span></p>'\n",
      "Warning: could not parse: '<p>The explanation of <span class=\"ARG1\">which disclosures</span> <span class=\"ARGM-MOD\">could</span> <span class=\"ARGM-NEG\">not</span> be <span class=\"V\">made</span> and reasons why they can not be made if the initial accounting for the business combination is incomplete at the time that financial statements are authorised for issue . [ Refer : Business combinations [ member </span> </span></p>'\n",
      "Warning: could not parse: '<p>The increase ( decrease ) in allowance account for credit losses of financial assets resulting from <span class=\"ARG1\">changes</span> <span class=\"R-ARG1\">that</span> <span class=\"ARG0\">the entity</span> does <span class=\"ARGM-NEG\">not</span> <span class=\"ARGM-MNR\">separately</span> <span class=\"V\">disclose</span> <span class=\"ARGM-LOC\">in the same statement or note</span> . [ Refer : Allowance account for credit losses of financial assets </span></p>'\n",
      "Warning: could not parse: '<p>The increase ( decrease ) in deferred acquisition costs arising from insurance contracts resulting from <span class=\"ARG1\">changes</span> <span class=\"R-ARG1\">that</span> <span class=\"ARG0\">the entity</span> does <span class=\"ARGM-NEG\">not</span> <span class=\"ARGM-MNR\">separately</span> <span class=\"V\">disclose</span> <span class=\"ARGM-LOC\">in the same statement or note</span> . [ Refer : Deferred acquisition costs arising from insurance contracts </span></p>'\n",
      "Warning: could not parse: '<p>The increase ( decrease ) in intangible assets and goodwill resulting from <span class=\"ARG1\">changes</span> <span class=\"R-ARG1\">that</span> <span class=\"ARG0\">the entity</span> does <span class=\"ARGM-NEG\">not</span> <span class=\"ARGM-MNR\">separately</span> <span class=\"V\">disclose</span> <span class=\"ARGM-LOC\">in the same statement or note</span> . [ Refer : Intangible assets and goodwill </span></p>'\n",
      "Warning: could not parse: '<p>The increase ( decrease ) in intangible assets other than goodwill resulting from <span class=\"ARG1\">changes</span> <span class=\"R-ARG1\">that</span> <span class=\"ARG0\">the entity</span> does <span class=\"ARGM-NEG\">not</span> <span class=\"ARGM-MNR\">separately</span> <span class=\"V\">disclose</span> <span class=\"ARGM-LOC\">in the same statement or note</span> . [ Refer : Intangible assets other than goodwill </span></p>'\n",
      "Warning: could not parse: '<p>The increase ( decrease ) in investment property resulting from <span class=\"ARG1\">changes</span> <span class=\"R-ARG1\">that</span> <span class=\"ARG0\">the entity</span> does <span class=\"ARGM-NEG\">not</span> <span class=\"ARGM-MNR\">separately</span> <span class=\"V\">disclose</span> <span class=\"ARGM-LOC\">in the same statement or note</span> . [ Refer : Investment property </span></p>'\n",
      "Warning: could not parse: '<p>The increase ( decrease ) in liabilities arising from financing activities resulting from <span class=\"ARG1\">changes</span> <span class=\"R-ARG1\">that</span> <span class=\"ARG0\">the entity</span> does <span class=\"ARGM-NEG\">not</span> <span class=\"ARGM-MNR\">separately</span> <span class=\"V\">disclose</span> <span class=\"ARGM-LOC\">in the same statement or note</span> . [ Refer : Liabilities arising from financing activities </span></p>'\n",
      "Warning: could not parse: '<p>The increase ( decrease ) in liabilities under insurance contracts and reinsurance contracts issued resulting from <span class=\"ARG1\">changes</span> <span class=\"R-ARG1\">that</span> <span class=\"ARG0\">the entity</span> does <span class=\"ARGM-NEG\">not</span> <span class=\"ARGM-MNR\">separately</span> <span class=\"V\">disclose</span> <span class=\"ARGM-LOC\">in the same statement or note</span> . [ Refer : Liabilities under insurance contracts and reinsurance contracts issued </span></p>'\n",
      "Warning: could not parse: '<p>The increase ( decrease ) in the net defined benefit liability ( asset ) resulting from <span class=\"ARG1\">changes</span> <span class=\"R-ARG1\">that</span> <span class=\"ARG0\">the entity</span> does <span class=\"ARGM-NEG\">not</span> <span class=\"ARGM-MNR\">separately</span> <span class=\"V\">disclose</span> <span class=\"ARGM-LOC\">in the same statement or note</span> . [ Refer : Net defined benefit liability ( asset ) </span></p>'\n",
      "Warning: could not parse: '<p>The increase ( decrease ) in property , plant and equipment resulting from <span class=\"ARG1\">changes</span> <span class=\"R-ARG1\">that</span> <span class=\"ARG0\">the entity</span> does <span class=\"ARGM-NEG\">not</span> <span class=\"ARGM-MNR\">separately</span> <span class=\"V\">disclose</span> <span class=\"ARGM-LOC\">in the same statement or note</span> . [ Refer : Property , plant and equipment </span></p>'\n",
      "Warning: could not parse: '<p>The increase ( decrease ) in regulatory deferral account credit balances resulting from <span class=\"ARG1\">changes</span> <span class=\"R-ARG1\">that</span> <span class=\"ARG0\">the entity</span> does <span class=\"ARGM-NEG\">not</span> <span class=\"ARGM-MNR\">separately</span> <span class=\"V\">disclose</span> <span class=\"ARGM-LOC\">in the same statement or note</span> . [ Refer : Regulatory deferral account credit balances </span></p>'\n",
      "Warning: could not parse: '<p>The increase ( decrease ) in regulatory deferral account debit balances resulting from <span class=\"ARG1\">changes</span> <span class=\"R-ARG1\">that</span> <span class=\"ARG0\">the entity</span> does <span class=\"ARGM-NEG\">not</span> <span class=\"ARGM-MNR\">separately</span> <span class=\"V\">disclose</span> <span class=\"ARGM-LOC\">in the same statement or note</span> . [ Refer : Regulatory deferral account debit balances </span></p>'\n",
      "Warning: could not parse: '<p>The increase ( decrease ) in reinsurance assets resulting from <span class=\"ARG1\">changes</span> <span class=\"R-ARG1\">that</span> <span class=\"ARG0\">the entity</span> does <span class=\"ARGM-NEG\">not</span> <span class=\"ARGM-MNR\">separately</span> <span class=\"V\">disclose</span> <span class=\"ARGM-LOC\">in the same statement or note</span> . [ Refer : Reinsurance assets </span></p>'\n",
      "Warning: could not parse: '<p>The increase ( decrease ) in biological assets resulting from <span class=\"ARG1\">changes</span> <span class=\"R-ARG1\">that</span> <span class=\"ARG0\">the entity</span> does <span class=\"ARGM-NEG\">not</span> <span class=\"ARGM-MNR\">separately</span> <span class=\"V\">disclose</span> <span class=\"ARGM-LOC\">in the same statement or note</span> . [ Refer : Biological assets </span></p>'\n",
      "Warning: could not parse: '<p>The increase ( decrease ) in equity resulting from <span class=\"ARG1\">changes</span> <span class=\"R-ARG1\">that</span> <span class=\"ARG0\">the entity</span> does <span class=\"ARGM-NEG\">not</span> <span class=\"ARGM-MNR\">separately</span> <span class=\"V\">disclose</span> <span class=\"ARGM-LOC\">in the same statement or note</span> . [ Refer : Equity </span></p>'\n",
      "Warning: could not parse: '<p>The increase ( decrease ) in goodwill resulting from <span class=\"ARG1\">changes</span> <span class=\"R-ARG1\">that</span> <span class=\"ARG0\">the entity</span> does <span class=\"ARGM-NEG\">not</span> <span class=\"ARGM-MNR\">separately</span> <span class=\"V\">disclose</span> <span class=\"ARGM-LOC\">in the same statement or note</span> . [ Refer : Goodwill </span></p>'\n",
      "Warning: could not parse: '<p>The increase ( decrease ) in intangible assets and goodwill resulting from <span class=\"ARG1\">transfers</span> and changes <span class=\"R-ARG1\">that</span> <span class=\"ARG0\">the entity</span> does <span class=\"ARGM-NEG\">not</span> <span class=\"ARGM-MNR\">separately</span> <span class=\"V\">disclose</span> <span class=\"ARGM-LOC\">in the same statement or note</span> . [ Refer : Intangible assets and goodwill </span></p>'\n",
      "Warning: could not parse: '<p>The increase ( decrease ) in intangible assets other than goodwill resulting from <span class=\"ARG1\">transfers and changes</span> <span class=\"R-ARG1\">that</span> <span class=\"ARG0\">the entity</span> does <span class=\"ARGM-NEG\">not</span> <span class=\"ARGM-MNR\">separately</span> <span class=\"V\">disclose</span> <span class=\"ARGM-LOC\">in the same statement or note</span> . [ Refer : Intangible assets other than goodwill </span></p>'\n",
      "Warning: could not parse: '<p>The increase ( decrease ) in other provisions resulting from <span class=\"ARG1\">transfers and changes</span> <span class=\"R-ARG1\">that</span> <span class=\"ARG0\">the entity</span> does <span class=\"ARGM-NEG\">not</span> <span class=\"ARGM-MNR\">separately</span> <span class=\"V\">disclose</span> <span class=\"ARGM-LOC\">in the same statement or note</span> . [ Refer : Other provisions </span></p>'\n",
      "Warning: could not parse: '<p>The increase ( decrease ) in property , plant and equipment resulting from <span class=\"ARG1\">transfers</span> and changes <span class=\"R-ARG1\">that</span> <span class=\"ARG0\">the entity</span> does <span class=\"ARGM-NEG\">not</span> <span class=\"ARGM-MNR\">separately</span> <span class=\"V\">disclose</span> <span class=\"ARGM-LOC\">in the same statement or note</span> . [ Refer : Property , plant and equipment </span></p>'\n",
      "Warning: could not parse: '<p>The description of an indication of the level of participation of the entity in a defined benefit plan compared with other participating entities . Examples of <span class=\"ARG0\">measures</span> <span class=\"R-ARG0\">that</span> <span class=\"ARGM-MOD\">might</span> <span class=\"V\">provide</span> <span class=\"ARG1\">such an indication</span> include the entity 's proportion of the total contributions to the plan or the entity 's proportion of the total number of active members , retired members , and former members entitled to benefits , if that information is available . [ Refer : Defined benefit plans [ member </span> </span></p>'\n",
      "Warning: could not parse: '<p>This member stands for <span class=\"ARG1\">a component of equity representing miscellaneous reserves</span> <span class=\"R-ARG1\">that</span> <span class=\"ARG0\">the entity</span> does <span class=\"ARGM-NEG\">not</span> <span class=\"ARGM-MNR\">separately</span> <span class=\"V\">disclose</span> <span class=\"ARGM-LOC\">in the same statement or note</span> . [ Refer : Other reserves [ member </span> </span></p>'\n",
      "Warning: could not parse: '<p><span class=\"ARG1\">The amount of the net movement in regulatory deferral account balances related to profit or loss</span> <span class=\"R-ARG1\">that</span> <span class=\"ARG0\">the entity</span> does <span class=\"ARGM-NEG\">not</span> <span class=\"ARGM-MNR\">separately</span> <span class=\"V\">disclose</span> <span class=\"ARGM-LOC\">in the same statement or note</span> . [ Refer : Net movement in regulatory deferral account balances related to profit or loss </span></p>'\n",
      "Warning: could not parse: '<p>Adjustments for non - cash items to reconcile profit ( loss ) to net cash flow from ( used in ) operating activities <span class=\"R-ARG1\">that</span> <span class=\"ARG0\">the entity</span> does <span class=\"ARGM-NEG\">not</span> <span class=\"ARGM-MNR\">separately</span> <span class=\"V\">disclose</span> <span class=\"ARGM-LOC\">in the same statement or note</span> . [ Refer : Profit ( loss ) </span></p>'\n",
      "Warning: could not parse: '<p><span class=\"ARG1\">Adjustments to reconcile profit ( loss ) to net cash flow from ( used in ) operating activities for which cash effects are investing or financing cash flow</span> , <span class=\"R-ARG1\">that</span> <span class=\"ARG0\">the entity</span> does <span class=\"ARGM-NEG\">not</span> <span class=\"ARGM-MNR\">separately</span> <span class=\"V\">disclose</span> <span class=\"ARGM-LOC\">in the same statement or note</span> . [ Refer : Profit ( loss ) </span></p>'\n",
      "Warning: could not parse: '<p><span class=\"ARG1\">Adjustments to reconcile profit ( loss ) to net cash flow from ( used in ) operating activities</span> <span class=\"R-ARG1\">that</span> <span class=\"ARG0\">the entity</span> does <span class=\"ARGM-NEG\">not</span> <span class=\"ARGM-MNR\">separately</span> <span class=\"V\">disclose</span> <span class=\"ARGM-LOC\">in the same statement or note</span> . [ Refer : Adjustments to reconcile profit ( loss ) </span></p>'\n",
      "Warning: could not parse: '<p><span class=\"ARG1\">The amount of borrowings</span> <span class=\"R-ARG1\">that</span> <span class=\"ARG0\">the entity</span> does <span class=\"ARGM-NEG\">not</span> <span class=\"ARGM-MNR\">separately</span> <span class=\"V\">disclose</span> <span class=\"ARGM-LOC\">in the same statement or note</span> . [ Refer : Borrowings </span></p>'\n",
      "Warning: could not parse: '<p><span class=\"ARG1\">The amount of cash and cash equivalents</span> <span class=\"R-ARG1\">that</span> <span class=\"ARG0\">the entity</span> does <span class=\"ARGM-NEG\">not</span> <span class=\"ARGM-MNR\">separately</span> <span class=\"V\">disclose</span> <span class=\"ARGM-LOC\">in the same statement or note</span> . [ Refer : Cash and cash equivalents </span></p>'\n",
      "Warning: could not parse: '<p><span class=\"ARG1\">The amount of components of deferred tax expense or income</span> <span class=\"R-ARG1\">that</span> <span class=\"ARG0\">the entity</span> does <span class=\"ARGM-NEG\">not</span> <span class=\"ARGM-MNR\">separately</span> <span class=\"V\">disclose</span> <span class=\"ARGM-LOC\">in the same statement or note</span> . [ Refer : Deferred tax expense ( income ) </span></p>'\n",
      "Warning: could not parse: '<p>This member stands for <span class=\"ARG1\">contingent liabilities</span> <span class=\"R-ARG1\">that</span> <span class=\"ARG0\">the entity</span> does <span class=\"ARGM-NEG\">not</span> <span class=\"ARGM-MNR\">separately</span> <span class=\"V\">disclose</span> <span class=\"ARGM-LOC\">in the same statement or note</span> . [ Refer : Contingent liabilities [ member </span> </span></p>'\n",
      "Warning: could not parse: '<p><span class=\"ARG1\">The amount of current assets</span> <span class=\"R-ARG1\">that</span> <span class=\"ARG0\">the entity</span> does <span class=\"ARGM-NEG\">not</span> <span class=\"ARGM-MNR\">separately</span> <span class=\"V\">disclose</span> <span class=\"ARGM-LOC\">in the same statement or note</span> . [ Refer : Current assets </span></p>'\n",
      "Warning: could not parse: '<p><span class=\"ARG1\">The amount of current financial assets</span> <span class=\"R-ARG1\">that</span> <span class=\"ARG0\">the entity</span> does <span class=\"ARGM-NEG\">not</span> <span class=\"ARGM-MNR\">separately</span> <span class=\"V\">disclose</span> <span class=\"ARGM-LOC\">in the same statement or note</span> . [ Refer : Other financial assets ; Current financial assets </span></p>'\n",
      "Warning: could not parse: '<p><span class=\"ARG1\">The amount of current financial liabilities</span> <span class=\"R-ARG1\">that</span> <span class=\"ARG0\">the entity</span> does <span class=\"ARGM-NEG\">not</span> <span class=\"ARGM-MNR\">separately</span> <span class=\"V\">disclose</span> <span class=\"ARGM-LOC\">in the same statement or note</span> . [ Refer : Other financial liabilities ; Current financial liabilities </span></p>'\n",
      "Warning: could not parse: '<p><span class=\"ARG1\">The amount of current liabilities</span> <span class=\"R-ARG1\">that</span> <span class=\"ARG0\">the entity</span> does <span class=\"ARGM-NEG\">not</span> <span class=\"ARGM-MNR\">separately</span> <span class=\"V\">disclose</span> <span class=\"ARGM-LOC\">in the same statement or note</span> . [ Refer : Current liabilities </span></p>'\n",
      "Warning: could not parse: '<p><span class=\"ARG1\">The amount of current non - financial assets</span> <span class=\"R-ARG1\">that</span> <span class=\"ARG0\">the entity</span> does <span class=\"ARGM-NEG\">not</span> <span class=\"ARGM-MNR\">separately</span> <span class=\"V\">disclose</span> <span class=\"ARGM-LOC\">in the same statement or note</span> . [ Refer : Financial assets </span></p>'\n",
      "Warning: could not parse: '<p><span class=\"ARG1\">The amount of current non - financial liabilities</span> <span class=\"R-ARG1\">that</span> <span class=\"ARG0\">the entity</span> does <span class=\"ARGM-NEG\">not</span> <span class=\"ARGM-MNR\">separately</span> <span class=\"V\">disclose</span> <span class=\"ARGM-LOC\">in the same statement or note</span> . [ Refer : Other financial liabilities </span></p>'\n",
      "Warning: could not parse: '<p><span class=\"ARG1\">The amount of debt instruments held by the entity</span> <span class=\"R-ARG1\">that</span> <span class=\"ARG0\">it</span> does <span class=\"ARGM-NEG\">not</span> <span class=\"ARGM-MNR\">separately</span> <span class=\"V\">disclose</span> <span class=\"ARGM-LOC\">in the same statement or note</span> . [ Refer : Debt instruments held </span></p>'\n",
      "Warning: could not parse: '<p><span class=\"ARG1\">The decrease in the aggregate difference between the fair value at initial recognition and the transaction price of financial instruments yet to be recognised in profit or loss</span> <span class=\"R-ARG1\">that</span> <span class=\"ARG0\">the entity</span> does <span class=\"ARGM-NEG\">not</span> <span class=\"ARGM-MNR\">separately</span> <span class=\"V\">disclose</span> <span class=\"ARGM-LOC\">in the same statement or note</span> . [ Refer : Aggregate difference between fair value at initial recognition and transaction price yet to be recognised in profit or loss ; Financial instruments , class [ member </span> </span></p>'\n",
      "Warning: could not parse: '<p><span class=\"ARG1\">The amount of differences between cash and cash equivalents in the statement of cash flows and the statement of financial position</span> <span class=\"R-ARG1\">that</span> <span class=\"ARG0\">the entity</span> does <span class=\"ARGM-NEG\">not</span> <span class=\"ARGM-MNR\">separately</span> <span class=\"V\">disclose</span> <span class=\"ARGM-LOC\">in the same statement or note</span> . [ Refer : Cash and cash equivalents </span></p>'\n",
      "Warning: could not parse: '<p>This member stands for <span class=\"ARG1\">an environment - related contingent liability</span> <span class=\"R-ARG1\">that</span> <span class=\"ARG0\">the entity</span> does <span class=\"ARGM-NEG\">not</span> <span class=\"ARGM-MNR\">separately</span> <span class=\"V\">disclose</span> <span class=\"ARGM-LOC\">in the same statement or note</span> . [ Refer : Contingent liabilities [ member </span> </span></p>'\n",
      "Warning: could not parse: '<p>This member stands for <span class=\"ARG1\">an environment - related provision</span> <span class=\"R-ARG1\">that</span> <span class=\"ARG0\">the entity</span> does <span class=\"ARGM-NEG\">not</span> <span class=\"ARGM-MNR\">separately</span> <span class=\"V\">disclose</span> <span class=\"ARGM-LOC\">in the same statement or note</span> . [ Refer : Other provisions [ member </span> </span></p>'\n",
      "Warning: could not parse: '<p><span class=\"ARG1\">The amount of expenses</span> <span class=\"R-ARG1\">that</span> <span class=\"ARG0\">the entity</span> does <span class=\"ARGM-NEG\">not</span> <span class=\"ARGM-MNR\">separately</span> <span class=\"V\">disclose</span> <span class=\"ARGM-LOC\">in the same statement</span> or note when the entity uses the ‘ nature of expense ’ form for its analysis of expenses . [ Refer : Expenses , by nature </span></p>'\n",
      "Warning: could not parse: '<p><span class=\"ARG1\">The amount of fee and commission expense</span> <span class=\"R-ARG1\">that</span> <span class=\"ARG0\">the entity</span> does <span class=\"ARGM-NEG\">not</span> <span class=\"ARGM-MNR\">separately</span> <span class=\"V\">disclose</span> <span class=\"ARGM-LOC\">in the same statement or note</span> . [ Refer : Fee and commission expense </span></p>'\n",
      "Warning: could not parse: '<p><span class=\"ARG1\">The amount of fee and commission income</span> <span class=\"R-ARG1\">that</span> <span class=\"ARG0\">the entity</span> does <span class=\"ARGM-NEG\">not</span> <span class=\"ARGM-MNR\">separately</span> <span class=\"V\">disclose</span> <span class=\"ARGM-LOC\">in the same statement or note</span> . [ Refer : Fee and commission income </span></p>'\n",
      "Warning: could not parse: '<p><span class=\"ARG1\">The amount of finance costs</span> <span class=\"R-ARG1\">that</span> <span class=\"ARG0\">the entity</span> does <span class=\"ARGM-NEG\">not</span> <span class=\"ARGM-MNR\">separately</span> <span class=\"V\">disclose</span> <span class=\"ARGM-LOC\">in the same statement or note</span> . [ Refer : Finance costs </span></p>'\n",
      "Warning: could not parse: '<p><span class=\"ARG1\">The amount of finance income</span> <span class=\"R-ARG1\">that</span> <span class=\"ARG0\">the entity</span> does <span class=\"ARGM-NEG\">not</span> <span class=\"ARGM-MNR\">separately</span> <span class=\"V\">disclose</span> <span class=\"ARGM-LOC\">in the same statement or note</span> . [ Refer : Finance income </span></p>'\n",
      "Warning: could not parse: '<p><span class=\"ARG1\">The amount of finance income or cost</span> <span class=\"R-ARG1\">that</span> <span class=\"ARG0\">the entity</span> does <span class=\"ARGM-NEG\">not</span> <span class=\"ARGM-MNR\">separately</span> <span class=\"V\">disclose</span> <span class=\"ARGM-LOC\">in the same statement or note</span> . [ Refer : Finance income ( cost ) </span></p>'\n",
      "Warning: could not parse: '<p><span class=\"ARG1\">The amount of financial assets</span> <span class=\"R-ARG1\">that</span> <span class=\"ARG0\">the entity</span> does <span class=\"ARGM-NEG\">not</span> <span class=\"ARGM-MNR\">separately</span> <span class=\"V\">disclose</span> <span class=\"ARGM-LOC\">in the same statement or note</span> . [ Refer : Financial assets </span></p>'\n",
      "Warning: could not parse: '<p><span class=\"ARG1\">The amount of financial liabilities</span> <span class=\"R-ARG1\">that</span> <span class=\"ARG0\">the entity</span> does <span class=\"ARGM-NEG\">not</span> <span class=\"ARGM-MNR\">separately</span> <span class=\"V\">disclose</span> <span class=\"ARGM-LOC\">in the same statement or note</span> . [ Refer : Financial liabilities </span></p>'\n",
      "Warning: could not parse: '<p><span class=\"ARG1\">The amount of income or expense from subsidiaries , jointly controlled entities and associates</span> <span class=\"R-ARG1\">that</span> <span class=\"ARG0\">the entity</span> does <span class=\"ARGM-NEG\">not</span> <span class=\"ARGM-MNR\">separately</span> <span class=\"V\">disclose</span> <span class=\"ARGM-LOC\">in the same statement or note</span> . [ Refer : Associates [ member </span> ; Subsidiaries [ member </span> </span></p>'\n",
      "Warning: could not parse: '<p><span class=\"ARG1\">The</span> increase in the aggregate difference between the fair value at <span class=\"ARG1\">initial recognition and the transaction price of financial instruments yet to be recognised in profit or loss</span> <span class=\"R-ARG1\">that</span> <span class=\"ARG0\">the entity</span> does <span class=\"ARGM-NEG\">not</span> <span class=\"ARGM-MNR\">separately</span> <span class=\"V\">disclose</span> <span class=\"ARGM-LOC\">in the same statement or note</span> . [ Refer : Aggregate difference between fair value at initial recognition and transaction price yet to be recognised in profit or loss ; Financial instruments , class [ member </span> </span></p>'\n",
      "Warning: could not parse: '<p><span class=\"ARG1\">The amount of individually immaterial components of other comprehensive income</span> , <span class=\"ARGM-TMP\">before tax</span> , <span class=\"R-ARG1\">that</span> <span class=\"ARG0\">the entity</span> does <span class=\"ARGM-NEG\">not</span> <span class=\"ARGM-MNR\">separately</span> <span class=\"V\">disclose</span> <span class=\"ARGM-LOC\">in the same statement or note</span> . [ Refer : Other comprehensive income , before tax </span></p>'\n",
      "Warning: could not parse: '<p><span class=\"ARG1\">The amount of individually immaterial components of other comprehensive income , net of tax</span> , <span class=\"R-ARG1\">that</span> <span class=\"ARG0\">the entity</span> does <span class=\"ARGM-NEG\">not</span> <span class=\"ARGM-MNR\">separately</span> <span class=\"V\">disclose</span> <span class=\"ARGM-LOC\">in the same statement or note</span> . [ Refer : Other comprehensive income </span></p>'\n",
      "Warning: could not parse: '<p><span class=\"ARG1\">The amount of intangible assets</span> <span class=\"R-ARG1\">that</span> <span class=\"ARG0\">the entity</span> does <span class=\"ARGM-NEG\">not</span> <span class=\"ARGM-MNR\">separately</span> <span class=\"V\">disclose</span> <span class=\"ARGM-LOC\">in the same statement or note</span> . [ Refer : Intangible assets other than goodwill </span></p>'\n",
      "Warning: could not parse: '<p>This member stands for <span class=\"ARG1\">a class of intangible assets</span> <span class=\"R-ARG1\">that</span> <span class=\"ARG0\">the entity</span> does <span class=\"ARGM-NEG\">not</span> <span class=\"ARGM-MNR\">separately</span> <span class=\"V\">disclose</span> <span class=\"ARGM-LOC\">in the same statement or note</span> . [ Refer : Intangible assets other than goodwill </span></p>'\n",
      "Warning: could not parse: '<p><span class=\"ARG1\">The amount of inventory</span> <span class=\"R-ARG1\">that</span> <span class=\"ARG0\">the entity</span> does <span class=\"ARGM-NEG\">not</span> <span class=\"ARGM-MNR\">separately</span> <span class=\"V\">disclose</span> <span class=\"ARGM-LOC\">in the same statement or note</span> . [ Refer : Inventories </span></p>'\n",
      "Warning: could not parse: '<p><span class=\"ARG1\">The amount of liabilities under insurance contracts and reinsurance contracts issued</span> <span class=\"R-ARG1\">that</span> <span class=\"ARG0\">the entity</span> does <span class=\"ARGM-NEG\">not</span> <span class=\"ARGM-MNR\">separately</span> <span class=\"V\">disclose</span> <span class=\"ARGM-LOC\">in the same statement or note</span> . [ Refer : Liabilities under insurance contracts and reinsurance contracts issued </span></p>'\n",
      "Warning: could not parse: '<p>This member stands for <span class=\"ARG1\">material actuarial assumptions</span> <span class=\"R-ARG1\">that</span> <span class=\"ARG0\">the entity</span> does <span class=\"ARGM-NEG\">not</span> <span class=\"ARGM-MNR\">separately</span> <span class=\"V\">disclose</span> <span class=\"ARGM-LOC\">in the same statement or note</span> . [ Refer : Actuarial assumptions [ member </span> </span></p>'\n",
      "Warning: could not parse: '<p><span class=\"ARG1\">The amount of non - current assets</span> <span class=\"R-ARG1\">that</span> <span class=\"ARG0\">the entity</span> does <span class=\"ARGM-NEG\">not</span> <span class=\"ARGM-MNR\">separately</span> <span class=\"V\">disclose</span> <span class=\"ARGM-LOC\">in the same statement or note</span> . [ Refer : Non - current assets </span></p>'\n",
      "Warning: could not parse: '<p><span class=\"ARG1\">The amount of non - current financial assets</span> <span class=\"R-ARG1\">that</span> <span class=\"ARG0\">the entity</span> does <span class=\"ARGM-NEG\">not</span> <span class=\"ARGM-MNR\">separately</span> <span class=\"V\">disclose</span> <span class=\"ARGM-LOC\">in the same statement or note</span> . [ Refer : Other financial assets </span></p>'\n",
      "Warning: could not parse: '<p><span class=\"ARG1\">The amount of non - current financial liabilities</span> <span class=\"R-ARG1\">that</span> <span class=\"ARG0\">the entity</span> does <span class=\"ARGM-NEG\">not</span> <span class=\"ARGM-MNR\">separately</span> <span class=\"V\">disclose</span> <span class=\"ARGM-LOC\">in the same statement or note</span> . [ Refer : Other financial liabilities </span></p>'\n",
      "Warning: could not parse: '<p><span class=\"ARG1\">The amount of non - current liabilities</span> <span class=\"R-ARG1\">that</span> <span class=\"ARG0\">the entity</span> does <span class=\"ARGM-NEG\">not</span> <span class=\"ARGM-MNR\">separately</span> <span class=\"V\">disclose</span> <span class=\"ARGM-LOC\">in the same statement or note</span> . [ Refer : Non - current liabilities </span></p>'\n",
      "Warning: could not parse: '<p><span class=\"ARG1\">The amount of non - current non - financial assets</span> <span class=\"R-ARG1\">that</span> <span class=\"ARG0\">the entity</span> does <span class=\"ARGM-NEG\">not</span> <span class=\"ARGM-MNR\">separately</span> <span class=\"V\">disclose</span> <span class=\"ARGM-LOC\">in the same statement or note</span> . [ Refer : Financial assets </span></p>'\n",
      "Warning: could not parse: '<p><span class=\"ARG1\">The amount of non - current non - financial liabilities</span> <span class=\"R-ARG1\">that</span> <span class=\"ARG0\">the entity</span> does <span class=\"ARGM-NEG\">not</span> <span class=\"ARGM-MNR\">separately</span> <span class=\"V\">disclose</span> <span class=\"ARGM-LOC\">in the same statement or note</span> . [ Refer : Other financial liabilities </span></p>'\n",
      "Warning: could not parse: '<p><span class=\"ARG1\">The amount of non - financial assets</span> <span class=\"R-ARG1\">that</span> <span class=\"ARG0\">the entity</span> does <span class=\"ARGM-NEG\">not</span> <span class=\"ARGM-MNR\">separately</span> <span class=\"V\">disclose</span> <span class=\"ARGM-LOC\">in the same statement or note</span> . [ Refer : Financial assets </span></p>'\n",
      "Warning: could not parse: '<p><span class=\"ARG1\">The amount of non - financial liabilities</span> <span class=\"R-ARG1\">that</span> <span class=\"ARG0\">the entity</span> does <span class=\"ARGM-NEG\">not</span> <span class=\"ARGM-MNR\">separately</span> <span class=\"V\">disclose</span> <span class=\"ARGM-LOC\">in the same statement or note</span> . [ Refer : Other financial liabilities </span></p>'\n",
      "Warning: could not parse: '<p><span class=\"ARG1\">The amount of property , plant and equipment</span> <span class=\"R-ARG1\">that</span> <span class=\"ARG0\">the entity</span> does <span class=\"ARGM-NEG\">not</span> <span class=\"ARGM-MNR\">separately</span> <span class=\"V\">disclose</span> <span class=\"ARGM-LOC\">in the same statement or note</span> . [ Refer : Property , plant and equipment </span></p>'\n",
      "Warning: could not parse: '<p>This member stands for <span class=\"ARG1\">a class of property , plant and equipment representing</span> <span class=\"ARG1\">property , plant and equipment</span> <span class=\"R-ARG1\">that</span> <span class=\"ARG0\">the entity</span> does <span class=\"ARGM-NEG\">not</span> <span class=\"ARGM-MNR\">separately</span> <span class=\"V\">disclose</span> <span class=\"ARGM-LOC\">in the same statement or note</span> . [ Refer : Property , plant and equipment </span></p>'\n",
      "Warning: could not parse: '<p><span class=\"ARG1\">The amount of regulatory deferral account credit balances</span> <span class=\"R-ARG1\">that</span> <span class=\"ARG0\">the entity</span> does <span class=\"ARGM-NEG\">not</span> <span class=\"ARGM-MNR\">separately</span> <span class=\"V\">disclose</span> <span class=\"ARGM-LOC\">in the same statement or note</span> . [ Refer : Regulatory deferral account credit balances </span></p>'\n",
      "Warning: could not parse: '<p><span class=\"ARG1\">The amount of regulatory deferral account debit balances</span> <span class=\"R-ARG1\">that</span> <span class=\"ARG0\">the entity</span> does <span class=\"ARGM-NEG\">not</span> <span class=\"ARGM-MNR\">separately</span> <span class=\"V\">disclose</span> <span class=\"ARGM-LOC\">in the same statement or note</span> . [ Refer : Regulatory deferral account debit balances </span></p>'\n",
      "Warning: could not parse: '<p>This member stands for <span class=\"ARG1\">related parties</span> <span class=\"R-ARG1\">that</span> <span class=\"ARG0\">the entity</span> does <span class=\"ARGM-NEG\">not</span> <span class=\"ARGM-MNR\">separately</span> <span class=\"V\">disclose</span> <span class=\"ARGM-LOC\">in the same statement or note</span> . [ Refer : Related parties [ member </span> </span></p>'\n",
      "Warning: could not parse: '<p>The amount of revenue arising from <span class=\"ARG1\">sources</span> <span class=\"R-ARG1\">that</span> <span class=\"ARG0\">the entity</span> does <span class=\"ARGM-NEG\">not</span> <span class=\"ARGM-MNR\">separately</span> <span class=\"V\">disclose</span> <span class=\"ARGM-LOC\">in the same statement or note</span> . [ Refer : Revenue </span></p>'\n",
      "Warning: could not parse: '<p><span class=\"ARG1\">The amount of reversals of provisions</span> <span class=\"R-ARG1\">that</span> <span class=\"ARG0\">the entity</span> does <span class=\"ARGM-NEG\">not</span> <span class=\"ARGM-MNR\">separately</span> <span class=\"V\">disclose</span> <span class=\"ARGM-LOC\">in the same statement or note</span> . [ Refer : Provisions </span></p>'\n",
      "Warning: could not parse: '<p><span class=\"ARG1\">The amount of expense from employee benefits ( other than termination benefits ) , which are expected to be settled wholly within twelve months after the end of the annual reporting period in which the employees render the related services</span> , <span class=\"R-ARG1\">that</span> <span class=\"ARG0\">the entity</span> does <span class=\"ARGM-NEG\">not</span> <span class=\"ARGM-MNR\">separately</span> <span class=\"V\">disclose</span> <span class=\"ARGM-LOC\">in the same statement or note</span> . [ Refer : Employee benefits expense </span></p>'\n",
      "Warning: could not parse: '<p><span class=\"ARG1\">The fair value , at acquisition date , of other tangible or intangible assets ( including a business or subsidiary of the acquirer ) transferred as consideration in a business combination</span> , <span class=\"R-ARG1\">that</span> <span class=\"ARG0\">the entity</span> does <span class=\"ARGM-NEG\">not</span> <span class=\"ARGM-MNR\">separately</span> <span class=\"V\">disclose</span> <span class=\"ARGM-LOC\">in the same note</span> . [ Refer : Intangible assets other than goodwill ; Business combinations [ member </span> ; Subsidiaries [ member </span> </span></p>'\n",
      "Warning: could not parse: '<p><span class=\"ARG1\">The amount that represents the difference between the tax expense ( income ) and the product of the accounting profit multiplied by the applicable tax rate(s )</span> <span class=\"R-ARG1\">that</span> <span class=\"ARG0\">the entity</span> does <span class=\"ARGM-NEG\">not</span> <span class=\"ARGM-MNR\">separately</span> <span class=\"V\">disclose</span> <span class=\"ARGM-LOC\">in the same statement or note</span> . [ Refer : Accounting profit ; Applicable tax rate </span></p>'\n",
      "Warning: could not parse: '<p>Tax rate effects , in aggregate , on <span class=\"ARG1\">the reconciliation</span> between the average effective tax rate and <span class=\"ARG1\">the applicable tax rate</span> <span class=\"R-ARG1\">that</span> <span class=\"ARG0\">the entity</span> does <span class=\"ARGM-NEG\">not</span> <span class=\"ARGM-MNR\">separately</span> <span class=\"V\">disclose</span> <span class=\"ARGM-LOC\">in the reconciliation</span> . [ Refer : Average effective tax rate ; Applicable tax rate </span></p>'\n",
      "Warning: could not parse: '<p>This member stands for <span class=\"ARG1\">temporary differences</span> <span class=\"R-ARG1\">that</span> <span class=\"ARG0\">the entity</span> does <span class=\"ARGM-NEG\">not</span> <span class=\"ARGM-MNR\">separately</span> <span class=\"V\">disclose</span> <span class=\"ARGM-LOC\">in the same statement or note</span> . [ Refer : Temporary differences [ member </span> </span></p>'\n",
      "Warning: could not parse: '<p><span class=\"ARG1\">The amount of trading income ( expense )</span> <span class=\"R-ARG1\">that</span> <span class=\"ARG0\">the entity</span> does <span class=\"ARGM-NEG\">not</span> <span class=\"ARGM-MNR\">separately</span> <span class=\"V\">disclose</span> <span class=\"ARGM-LOC\">in the same statement or note</span> . [ Refer : Trading income ( expense ) </span></p>'\n",
      "Warning: could not parse: '<p><span class=\"ARG1\">The cash inflow from sales of long - term assets</span> <span class=\"R-ARG1\">that</span> <span class=\"ARG0\">the entity</span> does <span class=\"ARGM-NEG\">not</span> <span class=\"ARGM-MNR\">separately</span> <span class=\"V\">disclose</span> <span class=\"ARGM-LOC\">in the same statement or note , classified as investing activities</span> . [ Refer : Assets </span></p>'\n",
      "Warning: could not parse: '<p><span class=\"ARG1\">The cash outflow for the purchases of long - term assets</span> <span class=\"R-ARG1\">that</span> <span class=\"ARG0\">the entity</span> does <span class=\"ARGM-NEG\">not</span> <span class=\"ARGM-MNR\">separately</span> <span class=\"V\">disclose</span> <span class=\"ARGM-LOC\">in the same statement or note , classified as investing activities</span> . [ Refer : Assets </span></p>'\n",
      "Warning: could not parse: '<p><span class=\"ARG2\">Qualitative information about the entity 's objectives , policies and processes for managing capital</span> . <span class=\"ARG2\">This</span> <span class=\"ARGM-MOD\">should</span> <span class=\"V\">include</span> <span class=\"ARG1\">a description of what it manages as capital , the nature of externally imposed capital requirements and how those requirements are managed , and how the entity is meeting its objectives for managing capital</span> . [ Refer : Capital requirements [ member </span> </span></p>'\n",
      "Warning: could not parse: '<p>This member stands for operating segments for which IFRS 8 requires information to be disclosed . <span class=\"ARG0\">The entity</span> <span class=\"ARGM-MOD\">shall</span> <span class=\"V\">report</span> <span class=\"ARGM-MNR\">separately</span> <span class=\"ARG1\">information about an operating segment that meets any of the following quantitative thresholds</span> : ( a ) reported revenue , including both sales to external customers and intersegment sales or transfers , is 10 per cent or more of the combined revenue , internal and external , of all operating segments ; ( b ) the absolute amount of its reported profit or loss is 10 per cent or more of the greater , in absolute amount , of ( i ) the combined reported profit of all operating segments that did not report a loss and ( ii ) the combined reported loss of all operating segments that reported a loss ; or ( c ) assets are 10 per cent or more of the combined assets of all operating segments . Additionally operating segments that do not meet any of the quantitative thresholds may be considered reportable , and separately disclosed , if management believes that information about the segment would be useful to users of the financial statements . [ Refer : Operating segments [ member </span> </span></p>'\n",
      "Warning: could not parse: '<p>This member stands for operating segments for which IFRS 8 requires information to be disclosed . The entity shall report separately information about an operating segment that meets any of the following quantitative thresholds : ( a ) reported revenue , including both sales to external customers and intersegment sales or transfers , is 10 per cent or more of the combined revenue , internal and external , of all operating segments ; ( b ) the absolute amount of its reported profit or loss is 10 per cent or more of the greater , in absolute amount , of ( i ) the combined reported profit of <span class=\"ARG0\">all operating segments</span> <span class=\"R-ARG0\">that</span> did <span class=\"ARGM-NEG\">not</span> <span class=\"V\">report</span> <span class=\"ARG1\">a loss</span> and ( ii ) the combined reported loss of all operating segments that reported a loss ; or ( c ) assets are 10 per cent or more of the combined assets of all operating segments . Additionally operating segments that do not meet any of the quantitative thresholds may be considered reportable , and separately disclosed , if management believes that information about the segment would be useful to users of the financial statements . [ Refer : Operating segments [ member </span> </span></p>'\n",
      "Warning: could not parse: '<p><span class=\"ARG1\">The amount of revenue arising from the exchanges of goods or services</span> <span class=\"R-ARG1\">that</span> <span class=\"ARG0\">the entity</span> does <span class=\"ARGM-NEG\">not</span> <span class=\"ARGM-MNR\">separately</span> <span class=\"V\">disclose</span> <span class=\"ARGM-LOC\">in the same statement or note</span> . [ Refer : Revenue </span></p>'\n",
      "Warning: could not parse: '<p><span class=\"ARG1\">The amount of revenue arising from the rendering of telecommunication services</span> <span class=\"R-ARG1\">that</span> <span class=\"ARG0\">the entity</span> does <span class=\"ARGM-NEG\">not</span> <span class=\"ARGM-MNR\">separately</span> <span class=\"V\">disclose</span> <span class=\"ARGM-LOC\">in the same statement or note</span> . [ Refer : Revenue </span></p>'\n",
      "Writing output to /notebook/nas-trainings/arne/DGFISMA/reporting_obligations/code/DGFISMA_reporting_obligations/tests/test_files/output_reporting_obligations/testing_bug3.html using /notebook/nas-trainings/arne/DGFISMA/reporting_obligations/code/DGFISMA_reporting_obligations/tests/test_files/templates/out.html.template as html template\n",
      "144.2390275001526\n"
     ]
    }
   ],
   "source": [
    "print( \"get reporting obligations\" )\n",
    "import time\n",
    "start=time.time()\n",
    "reporting_obligations_finder.process_sentences( cas, ListSofaID='ListView'  )\n",
    "reporting_obligations_finder.add_xml_to_cas( cas, TEMPLATE_PATH, ROSofaID='ReportingObligationsView' )\n",
    "reporting_obligations_finder.print_to_html(  TEMPLATE_PATH, OUTPUT_PATH  )\n",
    "end=time.time()\n",
    "print( end-start )"
   ]
  },
  {
   "cell_type": "code",
   "execution_count": null,
   "metadata": {},
   "outputs": [],
   "source": []
  },
  {
   "cell_type": "code",
   "execution_count": null,
   "metadata": {},
   "outputs": [],
   "source": []
  },
  {
   "cell_type": "code",
   "execution_count": 10,
   "metadata": {},
   "outputs": [
    {
     "data": {
      "text/plain": [
       "51949"
      ]
     },
     "execution_count": 10,
     "metadata": {},
     "output_type": "execute_result"
    }
   ],
   "source": [
    "sentence=test_list[1701].split( \"|\" )[0]\n",
    "len( sentence.split() )  # skip immediatly!"
   ]
  },
  {
   "cell_type": "code",
   "execution_count": null,
   "metadata": {},
   "outputs": [],
   "source": []
  },
  {
   "cell_type": "code",
   "execution_count": null,
   "metadata": {},
   "outputs": [],
   "source": []
  },
  {
   "cell_type": "code",
   "execution_count": null,
   "metadata": {},
   "outputs": [],
   "source": [
    "#problem with 1701 ?"
   ]
  },
  {
   "cell_type": "code",
   "execution_count": 7,
   "metadata": {
    "scrolled": true
   },
   "outputs": [
    {
     "ename": "KeyboardInterrupt",
     "evalue": "",
     "output_type": "error",
     "traceback": [
      "\u001b[0;31m\u001b[0m",
      "\u001b[0;31mKeyboardInterrupt\u001b[0mTraceback (most recent call last)",
      "\u001b[0;32m<ipython-input-7-df4eac9d09c1>\u001b[0m in \u001b[0;36m<module>\u001b[0;34m\u001b[0m\n\u001b[1;32m      3\u001b[0m \u001b[0;34m\u001b[0m\u001b[0m\n\u001b[1;32m      4\u001b[0m \u001b[0msentence\u001b[0m\u001b[0;34m=\u001b[0m\u001b[0msentence\u001b[0m\u001b[0;34m.\u001b[0m\u001b[0mrstrip\u001b[0m\u001b[0;34m(\u001b[0m \u001b[0;34m'\\r\\n'\u001b[0m \u001b[0;34m)\u001b[0m\u001b[0;34m\u001b[0m\u001b[0;34m\u001b[0m\u001b[0m\n\u001b[0;32m----> 5\u001b[0;31m \u001b[0msubsentence\u001b[0m \u001b[0;34m=\u001b[0m \u001b[0mre\u001b[0m\u001b[0;34m.\u001b[0m\u001b[0msub\u001b[0m\u001b[0;34m(\u001b[0m\u001b[0;34mr'(^[^❮]+|[^❯]+$)'\u001b[0m\u001b[0;34m,\u001b[0m\u001b[0;34mr''\u001b[0m\u001b[0;34m,\u001b[0m \u001b[0msentence\u001b[0m\u001b[0;34m)\u001b[0m  \u001b[0;31m#finds everything between \" ❮ ❯ \" ==>the main sentence\u001b[0m\u001b[0;34m\u001b[0m\u001b[0;34m\u001b[0m\u001b[0m\n\u001b[0m\u001b[1;32m      6\u001b[0m \u001b[0;32mif\u001b[0m \u001b[0mlen\u001b[0m\u001b[0;34m(\u001b[0m\u001b[0msubsentence\u001b[0m\u001b[0;34m)\u001b[0m \u001b[0;34m>\u001b[0m \u001b[0;36m0\u001b[0m\u001b[0;34m:\u001b[0m \u001b[0msentence\u001b[0m \u001b[0;34m=\u001b[0m \u001b[0msentence\u001b[0m\u001b[0;34m.\u001b[0m\u001b[0mreplace\u001b[0m\u001b[0;34m(\u001b[0m\u001b[0msubsentence\u001b[0m\u001b[0;34m,\u001b[0m \u001b[0;34m''\u001b[0m\u001b[0;34m,\u001b[0m \u001b[0;36m1\u001b[0m\u001b[0;34m)\u001b[0m  \u001b[0;31m#remove everything inside \" ❮ ❯ \" from the string\u001b[0m\u001b[0;34m\u001b[0m\u001b[0;34m\u001b[0m\u001b[0m\n",
      "\u001b[0;32m/miniconda/lib/python3.7/re.py\u001b[0m in \u001b[0;36msub\u001b[0;34m(pattern, repl, string, count, flags)\u001b[0m\n\u001b[1;32m    190\u001b[0m     \u001b[0ma\u001b[0m \u001b[0mcallable\u001b[0m\u001b[0;34m,\u001b[0m \u001b[0mit\u001b[0m\u001b[0;31m'\u001b[0m\u001b[0ms\u001b[0m \u001b[0mpassed\u001b[0m \u001b[0mthe\u001b[0m \u001b[0mMatch\u001b[0m \u001b[0mobject\u001b[0m \u001b[0;32mand\u001b[0m \u001b[0mmust\u001b[0m \u001b[0;32mreturn\u001b[0m\u001b[0;34m\u001b[0m\u001b[0;34m\u001b[0m\u001b[0m\n\u001b[1;32m    191\u001b[0m     a replacement string to be used.\"\"\"\n\u001b[0;32m--> 192\u001b[0;31m     \u001b[0;32mreturn\u001b[0m \u001b[0m_compile\u001b[0m\u001b[0;34m(\u001b[0m\u001b[0mpattern\u001b[0m\u001b[0;34m,\u001b[0m \u001b[0mflags\u001b[0m\u001b[0;34m)\u001b[0m\u001b[0;34m.\u001b[0m\u001b[0msub\u001b[0m\u001b[0;34m(\u001b[0m\u001b[0mrepl\u001b[0m\u001b[0;34m,\u001b[0m \u001b[0mstring\u001b[0m\u001b[0;34m,\u001b[0m \u001b[0mcount\u001b[0m\u001b[0;34m)\u001b[0m\u001b[0;34m\u001b[0m\u001b[0;34m\u001b[0m\u001b[0m\n\u001b[0m\u001b[1;32m    193\u001b[0m \u001b[0;34m\u001b[0m\u001b[0m\n\u001b[1;32m    194\u001b[0m \u001b[0;32mdef\u001b[0m \u001b[0msubn\u001b[0m\u001b[0;34m(\u001b[0m\u001b[0mpattern\u001b[0m\u001b[0;34m,\u001b[0m \u001b[0mrepl\u001b[0m\u001b[0;34m,\u001b[0m \u001b[0mstring\u001b[0m\u001b[0;34m,\u001b[0m \u001b[0mcount\u001b[0m\u001b[0;34m=\u001b[0m\u001b[0;36m0\u001b[0m\u001b[0;34m,\u001b[0m \u001b[0mflags\u001b[0m\u001b[0;34m=\u001b[0m\u001b[0;36m0\u001b[0m\u001b[0;34m)\u001b[0m\u001b[0;34m:\u001b[0m\u001b[0;34m\u001b[0m\u001b[0;34m\u001b[0m\u001b[0m\n",
      "\u001b[0;31mKeyboardInterrupt\u001b[0m: "
     ]
    }
   ],
   "source": [
    "test_list=cas.get_view( \"ListView\" ).sofa_string.split( \"\\n\" )\n",
    "sentence=test_list[1701].split( \"|\" )[0]\n",
    "\n",
    "sentence=sentence.rstrip( '\\r\\n' )\n",
    "subsentence = re.sub(r'(^[^❮]+|[^❯]+$)',r'', sentence)  #finds everything between \" ❮ ❯ \" ==>the main sentence\n",
    "if len(subsentence) > 0: sentence = sentence.replace(subsentence, '', 1)  #remove everything inside \" ❮ ❯ \" from the string\n"
   ]
  },
  {
   "cell_type": "code",
   "execution_count": null,
   "metadata": {},
   "outputs": [],
   "source": []
  },
  {
   "cell_type": "code",
   "execution_count": null,
   "metadata": {},
   "outputs": [],
   "source": []
  },
  {
   "cell_type": "code",
   "execution_count": null,
   "metadata": {},
   "outputs": [],
   "source": []
  },
  {
   "cell_type": "code",
   "execution_count": 16,
   "metadata": {},
   "outputs": [
    {
     "data": {
      "text/plain": [
       "False"
      ]
     },
     "execution_count": 16,
     "metadata": {},
     "output_type": "execute_result"
    }
   ],
   "source": [
    "' shall ' in subsentence"
   ]
  },
  {
   "cell_type": "code",
   "execution_count": null,
   "metadata": {},
   "outputs": [],
   "source": []
  },
  {
   "cell_type": "code",
   "execution_count": 7,
   "metadata": {},
   "outputs": [
    {
     "data": {
      "text/plain": [
       "1704"
      ]
     },
     "execution_count": 7,
     "metadata": {},
     "output_type": "execute_result"
    }
   ],
   "source": [
    "len( cas.get_view( \"ListView\" ).sofa_string.split( \"\\n\" ) )"
   ]
  },
  {
   "cell_type": "code",
   "execution_count": 1,
   "metadata": {},
   "outputs": [
    {
     "ename": "NameError",
     "evalue": "name 'cas' is not defined",
     "output_type": "error",
     "traceback": [
      "\u001b[0;31m\u001b[0m",
      "\u001b[0;31mNameError\u001b[0mTraceback (most recent call last)",
      "\u001b[0;32m<ipython-input-1-ec1adc8d6181>\u001b[0m in \u001b[0;36m<module>\u001b[0;34m\u001b[0m\n\u001b[0;32m----> 1\u001b[0;31m \u001b[0mtest_list\u001b[0m\u001b[0;34m=\u001b[0m\u001b[0mcas\u001b[0m\u001b[0;34m.\u001b[0m\u001b[0mget_view\u001b[0m\u001b[0;34m(\u001b[0m \u001b[0;34m\"ListView\"\u001b[0m \u001b[0;34m)\u001b[0m\u001b[0;34m.\u001b[0m\u001b[0msofa_string\u001b[0m\u001b[0;34m.\u001b[0m\u001b[0msplit\u001b[0m\u001b[0;34m(\u001b[0m \u001b[0;34m\"\\n\"\u001b[0m \u001b[0;34m)\u001b[0m\u001b[0;34m\u001b[0m\u001b[0;34m\u001b[0m\u001b[0m\n\u001b[0m\u001b[1;32m      2\u001b[0m \u001b[0mtest_list\u001b[0m\u001b[0;34m[\u001b[0m\u001b[0;36m1699\u001b[0m\u001b[0;34m]\u001b[0m\u001b[0;34m\u001b[0m\u001b[0;34m\u001b[0m\u001b[0m\n",
      "\u001b[0;31mNameError\u001b[0m: name 'cas' is not defined"
     ]
    }
   ],
   "source": []
  },
  {
   "cell_type": "code",
   "execution_count": 16,
   "metadata": {},
   "outputs": [
    {
     "data": {
      "text/plain": [
       "23538"
      ]
     },
     "execution_count": 16,
     "metadata": {},
     "output_type": "execute_result"
    }
   ],
   "source": [
    "tokenized_sentence=reporting_obligations_finder._tokenizer.split_words( test_list[1699 ] )\n",
    "len( test_list[1699 ].split() )"
   ]
  },
  {
   "cell_type": "code",
   "execution_count": null,
   "metadata": {},
   "outputs": [],
   "source": []
  },
  {
   "cell_type": "code",
   "execution_count": 10,
   "metadata": {
    "scrolled": true
   },
   "outputs": [
    {
     "data": {
      "text/plain": [
       "'Annex XXIII is amended as described in the following list ❮the section ‘Correlation coefficients for earthquake risk in the Hellenic Republic’ is replaced by the following ‖ ‘Correlation coefficients for earthquake risk in the Hellenic Republic ❬j ‖ and/or i ‖ and/or 1 ‖ and/or 2 ‖ and/or 3 ‖ and/or 4 ‖ and/or 5 ‖ and/or 6 ‖ and/or 7 ‖ and/or 8 ‖ and/or 9 ‖ and/or 10 ‖ and/or 11 ‖ and/or 12 ‖ and/or 13 ‖ and/or 14 ‖ and/or 15 ‖ and/or 16 ‖ and/or 17 ‖ and/or 18 ‖ and/or 19 ‖ and/or 20 ‖ and/or 21 ‖ and/or 22 ‖ and/or 23 ‖ and/or 24 ‖ and/or 25 ‖ and/or 1 ‖ and/or 1,00 ‖ and/or 0,75 ‖ and/or 0,75 ‖ and/or 0,75 ‖ and/or 0,75 ‖ and/or 0,75 ‖ and/or 0,75 ‖ and/or 0,75 ‖ and/or 0,75 ‖ and/or 0,75 ‖ and/or 0,25 ‖ and/or 0,25 ‖ and/or 0,00 ‖ and/or 0,25 ‖ and/or 0,00 ‖ and/or 0,25 ‖ and/or 0,25 ‖ and/or 0,00 ‖ and/or 0,00 ‖ and/or 0,00 ‖ and/or 0,00 ‖ and/or 0,00 ‖ and/or 0,50 ‖ and/or 0,25 ‖ and/or 0,25 ‖ and/or 2 ‖ and/or 0,75 ‖ and/or 1,00 ‖ and/or 0,75 ‖ and/or 0,75 ‖ and/or 0,75 ‖ and/or 0,75 ‖ and/or 0,75 ‖ and/or 0,75 ‖ and/or 0,75 ‖ and/or 0,75 ‖ and/or 0,25 ‖ and/or 0,25 ‖ and/or 0,00 ‖ and/or 0,25 ‖ and/or 0,00 ‖ and/or 0,00 ‖ and/or 0,25 ‖ and/or 0,00 ‖ and/or 0,00 ‖ and/or 0,00 ‖ and/or 0,00 ‖ and/or 0,00 ‖ and/or 0,50 ‖ and/or 0,25 ‖ and/or 0,25 ‖ and/or 3 ‖ and/or 0,75 ‖ and/or 0,75 ‖ and/or 1,00 ‖ and/or 0,75 ‖ and/or 0,75 ‖ and/or 0,75 ‖ and/or 0,75 ‖ and/or 0,75 ‖ and/or 0,75 ‖ and/or 0,75 ‖ and/or 0,25 ‖ and/or 0,25 ‖ and/or 0,25 ‖ and/or 0,25 ‖ and/or 0,00 ‖ and/or 0,25 ‖ and/or 0,25 ‖ and/or 0,00 ‖ and/or 0,00 ‖ and/or 0,00 ‖ and/or 0,00 ‖ and/or 0,00 ‖ and/or 0,50 ‖ and/or 0,25 ‖ and/or 0,25 ‖ and/or 4 ‖ and/or 0,75 ‖ and/or 0,75 ‖ and/or 0,75 ‖ and/or 1,00 ‖ and/or 0,75 ‖ and/or 0,75 ‖ and/or 0,50 ‖ and/or 0,75 ‖ and/or 0,75 ‖ and/or 0,75 ‖ and/or 0,25 ‖ and/or 0,25 ‖ and/or 0,00 ‖ and/or 0,00 ‖ and/or 0,00 ‖ and/or 0,00 ‖ and/or 0,25 ‖ and/or 0,00 ‖ and/or 0,00 ‖ and/or 0,00 ‖ and/or 0,00 ‖ and/or 0,00 ‖ and/or 0,50 ‖ and/or 0,25 ‖ and/or 0,25 ‖ and/or 5 ‖ and/or 0,75 ‖ and/or 0,75 ‖ and/or 0,75 ‖ and/or 0,75 ‖ and/or 1,00 ‖ and/or 0,75 ‖ and/or 0,50 ‖ and/or 0,75 ‖ and/or 0,75 ‖ and/or 0,75 ‖ and/or 0,25 ‖ and/or 0,25 ‖ and/or 0,00 ‖ and/or 0,00 ‖ and/or 0,00 ‖ and/or 0,00 ‖ and/or 0,25 ‖ and/or 0,00 ‖ and/or 0,00 ‖ and/or 0,00 ‖ and/or 0,00 ‖ and/or 0,00 ‖ and/or 0,25 ‖ and/or 0,25 ‖ and/or 0,25 ‖ and/or 6 ‖ and/or 0,75 ‖ and/or 0,75 ‖ and/or 0,75 ‖ and/or 0,75 ‖ and/or 0,75 ‖ and/or 1,00 ‖ and/or 0,50 ‖ and/or 0,75 ‖ and/or 0,50 ‖ and/or 0,75 ‖ and/or 0,25 ‖ and/or 0,25 ‖ and/or 0,00 ‖ and/or 0,00 ‖ and/or 0,00 ‖ and/or 0,00 ‖ and/or 0,25 ‖ and/or 0,00 ‖ and/or 0,00 ‖ and/or 0,00 ‖ and/or 0,00 ‖ and/or 0,00 ‖ and/or 0,25 ‖ and/or 0,25 ‖ and/or 0,25 ‖ and/or 7 ‖ and/or 0,75 ‖ and/or 0,75 ‖ and/or 0,75 ‖ and/or 0,50 ‖ and/or 0,50 ‖ and/or 0,50 ‖ and/or 1,00 ‖ and/or 0,75 ‖ and/or 0,75 ‖ and/or 0,75 ‖ and/or 0,25 ‖ and/or 0,25 ‖ and/or 0,00 ‖ and/or 0,00 ‖ and/or 0,00 ‖ and/or 0,00 ‖ and/or 0,25 ‖ and/or 0,00 ‖ and/or 0,00 ‖ and/or 0,00 ‖ and/or 0,00 ‖ and/or 0,00 ‖ and/or 0,25 ‖ and/or 0,25 ‖ and/or 0,25 ‖ and/or 8 ‖ and/or 0,75 ‖ and/or 0,75 ‖ and/or 0,75 ‖ and/or 0,75 ‖ and/or 0,75 ‖ and/or 0,75 ‖ and/or 0,75 ‖ and/or 1,00 ‖ and/or 0,75 ‖ and/or 0,75 ‖ and/or 0,25 ‖ and/or 0,25 ‖ and/or 0,00 ‖ and/or 0,25 ‖ and/or 0,00 ‖ and/or 0,00 ‖ and/or 0,25 ‖ and/or 0,00 ‖ and/or 0,00 ‖ and/or 0,00 ‖ and/or 0,00 ‖ and/or 0,00 ‖ and/or 0,25 ‖ and/or 0,25 ‖ and/or 0,25 ‖ and/or 9 ‖ and/or 0,75 ‖ and/or 0,75 ‖ and/or 0,75 ‖ and/or 0,75 ‖ and/or 0,75 ‖ and/or 0,50 ‖ and/or 0,75 ‖ and/or 0,75 ‖ and/or 1,00 ‖ and/or 0,75 ‖ and/or 0,25 ‖ and/or 0,25 ‖ and/or 0,00 ‖ and/or 0,00 ‖ and/or 0,00 ‖ and/or 0,00 ‖ and/or 0,25 ‖ and/or 0,00 ‖ and/or 0,00 ‖ and/or 0,00 ‖ and/or 0,00 ‖ and/or 0,00 ‖ and/or 0,25 ‖ and/or 0,25 ‖ and/or 0,25 ‖ and/or 10 ‖ and/or 0,75 ‖ and/or 0,75 ‖ and/or 0,75 ‖ and/or 0,75 ‖ and/or 0,75 ‖ and/or 0,75 ‖ and/or 0,75 ‖ and/or 0,75 ‖ and/or 0,75 ‖ and/or 1,00 ‖ and/or 0,25 ‖ and/or 0,25 ‖ and/or 0,00 ‖ and/or 0,00 ‖ and/or 0,00 ‖ and/or 0,00 ‖ and/or 0,25 ‖ and/or 0,00 ‖ and/or 0,00 ‖ and/or 0,00 ‖ and/or 0,00 ‖ and/or 0,00 ‖ and/or 0,50 ‖ and/or 0,25 ‖ and/or 0,25 ‖ and/or 11 ‖ and/or 0,25 ‖ and/or 0,25 ‖ and/or 0,25 ‖ and/or 0,25 ‖ and/or 0,25 ‖ and/or 0,25 ‖ and/or 0,25 ‖ and/or 0,25 ‖ and/or 0,25 ‖ and/or 0,25 ‖ and/or 1,00 ‖ and/or 0,50 ‖ and/or 0,25 ‖ and/or 0,25 ‖ and/or 0,00 ‖ and/or 0,25 ‖ and/or 0,25 ‖ and/or 0,25 ‖ and/or 0,00 ‖ and/or 0,00 ‖ and/or 0,00 ‖ and/or 0,00 ‖ and/or 0,25 ‖ and/or 0,25 ‖ and/or 0,25 ‖ and/or 12 ‖ and/or 0,25 ‖ and/or 0,25 ‖ and/or 0,25 ‖ and/or 0,25 ‖ and/or 0,25 ‖ and/or 0,25 ‖ and/or 0,25 ‖ and/or 0,25 ‖ and/or 0,25 ‖ and/or 0,25 ‖ and/or 0,50 ‖ and/or 1,00 ‖ and/or 0,50 ‖ and/or 0,25 ‖ and/or 0,25 ‖ and/or 0,25 ‖ and/or 0,25 ‖ and/or 0,25 ‖ and/or 0,00 ‖ and/or 0,00 ‖ and/or 0,25 ‖ and/or 0,00 ‖ and/or 0,25 ‖ and/or 0,25 ‖ and/or 0,25 ‖ and/or 13 ‖ and/or 0,00 ‖ and/or 0,00 ‖ and/or 0,25 ‖ and/or 0,00 ‖ and/or 0,00 ‖ and/or 0,00 ‖ and/or 0,00 ‖ and/or 0,00 ‖ and/or 0,00 ‖ and/or 0,00 ‖ and/or 0,25 ‖ and/or 0,50 ‖ and/or 1,00 ‖ and/or 0,50 ‖ and/or 0,25 ‖ and/or 0,50 ‖ and/or 0,25 ‖ and/or 0,25 ‖ and/or 0,00 ‖ and/or 0,25 ‖ and/or 0,00 ‖ and/or 0,00 ‖ and/or 0,25 ‖ and/or 0,25 ‖ and/or 0,25 ‖ and/or 14 ‖ and/or 0,25 ‖ and/or 0,25 ‖ and/or 0,25 ‖ and/or 0,00 ‖ and/or 0,00 ‖ and/or 0,00 ‖ and/or 0,00 ‖ and/or 0,25 ‖ and/or 0,00 ‖ and/or 0,00 ‖ and/or 0,25 ‖ and/or 0,25 ‖ and/or 0,50 ‖ and/or 1,00 ‖ and/or 0,25 ‖ and/or 0,25 ‖ and/or 0,25 ‖ and/or 0,25 ‖ and/or 0,00 ‖ and/or 0,00 ‖ and/or 0,00 ‖ and/or 0,00 ‖ and/or 0,25 ‖ and/or 0,25 ‖ and/or 0,25 ‖ and/or 15 ‖ and/or 0,00 ‖ and/or 0,00 ‖ and/or 0,00 ‖ and/or 0,00 ‖ and/or 0,00 ‖ and/or 0,00 ‖ and/or 0,00 ‖ and/or 0,00 ‖ and/or 0,00 ‖ and/or 0,00 ‖ and/or 0,00 ‖ and/or 0,25 ‖ and/or 0,25 ‖ and/or 0,25 ‖ and/or 1,00 ‖ and/or 0,25 ‖ and/or 0,25 ‖ and/or 0,25 ‖ and/or 0,00 ‖ and/or 0,00 ‖ and/or 0,00 ‖ and/or 0,00 ‖ and/or 0,00 ‖ and/or 0,00 ‖ and/or 0,00 ‖ and/or 16 ‖ and/or 0,25 ‖ and/or 0,00 ‖ and/or 0,25 ‖ and/or 0,00 ‖ and/or 0,00 ‖ and/or 0,00 ‖ and/or 0,00 ‖ and/or 0,00 ‖ and/or 0,00 ‖ and/or 0,00 ‖ and/or 0,25 ‖ and/or 0,25 ‖ and/or 0,50 ‖ and/or 0,25 ‖ and/or 0,25 ‖ and/or 1,00 ‖ and/or 0,50 ‖ and/or 0,25 ‖ and/or 0,00 ‖ and/or 0,25 ‖ and/or 0,25 ‖ and/or 0,00 ‖ and/or 0,25 ‖ and/or 0,25 ‖ and/or 0,25 ‖ and/or 17 ‖ and/or 0,25 ‖ and/or 0,25 ‖ and/or 0,25 ‖ and/or 0,25 ‖ and/or 0,25 ‖ and/or 0,25 ‖ and/or 0,25 ‖ and/or 0,25 ‖ and/or 0,25 ‖ and/or 0,25 ‖ and/or 0,25 ‖ and/or 0,25 ‖ and/or 0,25 ‖ and/or 0,25 ‖ and/or 0,25 ‖ and/or 0,50 ‖ and/or 1,00 ‖ and/or 0,25 ‖ and/or 0,00 ‖ and/or 0,00 ‖ and/or 0,25 ‖ and/or 0,00 ‖ and/or 0,25 ‖ and/or 0,25 ‖ and/or 0,25 ‖ and/or 18 ‖ and/or 0,00 ‖ and/or 0,00 ‖ and/or 0,00 ‖ and/or 0,00 ‖ and/or 0,00 ‖ and/or 0,00 ‖ and/or 0,00 ‖ and/or 0,00 ‖ and/or 0,00 ‖ and/or 0,00 ‖ and/or 0,25 ‖ and/or 0,25 ‖ and/or 0,25 ‖ and/or 0,25 ‖ and/or 0,25 ‖ and/or 0,25 ‖ and/or 0,25 ‖ and/or 1,00 ‖ and/or 0,00 ‖ and/or 0,25 ‖ and/or 0,25 ‖ and/or 0,00 ‖ and/or 0,25 ‖ and/or 0,00 ‖ and/or 0,00 ‖ and/or 19 ‖ and/or 0,00 ‖ and/or 0,00 ‖ and/or 0,00 ‖ and/or 0,00 ‖ and/or 0,00 ‖ and/or 0,00 ‖ and/or 0,00 ‖ and/or 0,00 ‖ and/or 0,00 ‖ and/or 0,00 ‖ and/or 0,00 ‖ and/or 0,00 ‖ and/or 0,00 ‖ and/or 0,00 ‖ and/or 0,00 ‖ and/or 0,00 ‖ and/or 0,00 ‖ and/or 0,00 ‖ and/or 1,00 ‖ and/or 0,25 ‖ and/or 0,00 ‖ and/or 0,25 ‖ and/or 0,00 ‖ and/or 0,00 ‖ and/or 0,00 ‖ and/or 20 ‖ and/or 0,00 ‖ and/or 0,00 ‖ and/or 0,00 ‖ and/or 0,00 ‖ and/or 0,00 ‖ and/or 0,00 ‖ and/or 0,00 ‖ and/or 0,00 ‖ and/or 0,00 ‖ and/or 0,00 ‖ and/or 0,00 ‖ and/or 0,00 ‖ and/or 0,25 ‖ and/or 0,00 ‖ and/or 0,00 ‖ and/or 0,25 ‖ and/or 0,00 ‖ and/or 0,25 ‖ and/or 0,25 ‖ and/or 1,00 ‖ and/or 0,00 ‖ and/or 0,00 ‖ and/or 0,00 ‖ and/or 0,00 ‖ and/or 0,00 ‖ and/or 21 ‖ and/or 0,00 ‖ and/or 0,00 ‖ and/or 0,00 ‖ and/or 0,00 ‖ and/or 0,00 ‖ and/or 0,00 ‖ and/or 0,00 ‖ and/or 0,00 ‖ and/or 0,00 ‖ and/or 0,00 ‖ and/or 0,00 ‖ and/or 0,25 ‖ and/or 0,00 ‖ and/or 0,00 ‖ and/or 0,00 ‖ and/or 0,25 ‖ and/or 0,25 ‖ and/or 0,25 ‖ and/or 0,00 ‖ and/or 0,00 ‖ and/or 1,00 ‖ and/or 0,25 ‖ and/or 0,00 ‖ and/or 0,25 ‖ and/or 0,00 ‖ and/or 22 ‖ and/or 0,00 ‖ and/or 0,00 ‖ and/or 0,00 ‖ and/or 0,00 ‖ and/or 0,00 ‖ and/or 0,00 ‖ and/or 0,00 ‖ and/or 0,00 ‖ and/or 0,00 ‖ and/or 0,00 ‖ and/or 0,00 ‖ and/or 0,00 ‖ and/or 0,00 ‖ and/or 0,00 ‖ and/or 0,00 ‖ and/or 0,00 ‖ and/or 0,00 ‖ and/or 0,00 ‖ and/or 0,25 ‖ and/or 0,00 ‖ and/or 0,25 ‖ and/or 1,00 ‖ and/or 0,00 ‖ and/or 0,00 ‖ and/or 0,00 ‖ and/or 23 ‖ and/or 0,50 ‖ and/or 0,50 ‖ and/or 0,50 ‖ and/or 0,50 ‖ and/or 0,25 ‖ and/or 0,25 ‖ and/or 0,25 ‖ and/or 0,25 ‖ and/or 0,25 ‖ and/or 0,50 ‖ and/or 0,25 ‖ and/or 0,25 ‖ and/or 0,25 ‖ and/or 0,25 ‖ and/or 0,00 ‖ and/or 0,25 ‖ and/or 0,25 ‖ and/or 0,25 ‖ and/or 0,00 ‖ and/or 0,00 ‖ and/or 0,00 ‖ and/or 0,00 ‖ and/or 1,00 ‖ and/or 0,25 ‖ and/or 0,50 ‖ and/or 24 ‖ and/or 0,25 ‖ and/or 0,25 ‖ and/or 0,25 ‖ and/or 0,25 ‖ and/or 0,25 ‖ and/or 0,25 ‖ and/or 0,25 ‖ and/or 0,25 ‖ and/or 0,25 ‖ and/or 0,25 ‖ and/or 0,25 ‖ and/or 0,25 ‖ and/or 0,25 ‖ and/or 0,25 ‖ and/or 0,00 ‖ and/or 0,25 ‖ and/or 0,25 ‖ and/or 0,00 ‖ and/or 0,00 ‖ and/or 0,00 ‖ and/or 0,25 ‖ and/or 0,00 ‖ and/or 0,25 ‖ and/or 1,00 ‖ and/or 0,25 ‖ and/or 25 ‖ and/or 0,25 ‖ and/or 0,25 ‖ and/or 0,25 ‖ and/or 0,25 ‖ and/or 0,25 ‖ and/or 0,25 ‖ and/or 0,25 ‖ and/or 0,25 ‖ and/or 0,25 ‖ and/or 0,25 ‖ and/or 0,25 ‖ and/or 0,25 ‖ and/or 0,25 ‖ and/or 0,25 ‖ and/or 0,00 ‖ and/or 0,25 ‖ and/or 0,25 ‖ and/or 0,00 ‖ and/or 0,00 ‖ and/or 0,00 ‖ and/or 0,00 ‖ and/or 0,00 ‖ and/or 0,50 ‖ and/or 0,25 ‖ and/or 1,00 ‖ and/or j ‖ and/or i ‖ and/or 26 ‖ and/or 27 ‖ and/or 28 ‖ and/or 29 ‖ and/or 30 ‖ and/or 31 ‖ and/or 32 ‖ and/or 33 ‖ and/or 34 ‖ and/or 35 ‖ and/or 36 ‖ and/or 37 ‖ and/or 38 ‖ and/or 39 ‖ and/or 40 ‖ and/or 41 ‖ and/or 42 ‖ and/or 43 ‖ and/or 44 ‖ and/or 45 ‖ and/or 46 ‖ and/or 47 ‖ and/or 48 ‖ and/or 49 ‖ and/or 50 ‖ and/or 1 ‖ and/or 0,25 ‖ and/or 0,00 ‖ and/or 0,00 ‖ and/or 0,00 ‖ and/or 0,00 ‖ and/or 0,25 ‖ and/or 0,00 ‖ and/or 0,00 ‖ and/or 0,00 ‖ and/or 0,00 ‖ and/or 0,00 ‖ and/or 0,00 ‖ and/or 0,00 ‖ and/or 0,25 ‖ and/or 0,00 ‖ and/or 0,00 ‖ and/or 0,00 ‖ and/or 0,00 ‖ and/or 0,25 ‖ and/or 0,00 ‖ and/or 0,25 ‖ and/or 0,25 ‖ and/or 0,00 ‖ and/or 0,00 ‖ and/or 0,25 ‖ and/or 2 ‖ and/or 0,00 ‖ and/or 0,00 ‖ and/or 0,00 ‖ and/or 0,00 ‖ and/or 0,00 ‖ and/or 0,00 ‖ and/or 0,00 ‖ and/or 0,00 ‖ and/or 0,00 ‖ and/or 0,00 ‖ and/or 0,00 ‖ and/or 0,00 ‖ and/or 0,00 ‖ and/or 0,25 ‖ and/or 0,00 ‖ and/or 0,00 ‖ and/or 0,00 ‖ and/or 0,00 ‖ and/or 0,25 ‖ and/or 0,00 ‖ and/or 0,25 ‖ and/or 0,25 ‖ and/or 0,00 ‖ and/or 0,00 ‖ and/or 0,00 ‖ and/or 3 ‖ and/or 0,25 ‖ and/or 0,00 ‖ and/or 0,25 ‖ and/or 0,25 ‖ and/or 0,00 ‖ and/or 0,25 ‖ and/or 0,25 ‖ and/or 0,00 ‖ and/or 0,00 ‖ and/or 0,00 ‖ and/or 0,00 ‖ and/or 0,00 ‖ and/or 0,00 ‖ and/or 0,25 ‖ and/or 0,00 ‖ and/or 0,00 ‖ and/or 0,00 ‖ and/or 0,00 ‖ and/or 0,25 ‖ and/or 0,25 ‖ and/or 0,25 ‖ and/or 0,25 ‖ and/or 0,00 ‖ and/or 0,00 ‖ and/or 0,25 ‖ and/or 4 ‖ and/or 0,00 ‖ and/or 0,00 ‖ and/or 0,00 ‖ and/or 0,00 ‖ and/or 0,00 ‖ and/or 0,00 ‖ and/or 0,00 ‖ and/or 0,00 ‖ and/or 0,00 ‖ and/or 0,00 ‖ and/or 0,00 ‖ and/or 0,00 ‖ and/or 0,00 ‖ and/or 0,00 ‖ and/or 0,00 ‖ and/or 0,00 ‖ and/or 0,00 ‖ and/or 0,00 ‖ and/or 0,25 ‖ and/or 0,00 ‖ and/or 0,00 ‖ and/or 0,25 ‖ and/or 0,00 ‖ and/or 0,00 ‖ and/or 0,00 ‖ and/or 5 ‖ and/or 0,00 ‖ and/or 0,00 ‖ and/or 0,00 ‖ and/or 0,00 ‖ and/or 0,00 ‖ and/or 0,00 ‖ and/or 0,00 ‖ and/or 0,00 ‖ and/or 0,00 ‖ and/or 0,00 ‖ and/or 0,00 ‖ and/or 0,00 ‖ and/or 0,00 ‖ and/or 0,00 ‖ and/or 0,00 ‖ and/or 0,00 ‖ and/or 0,00 ‖ and/or 0,00 ‖ and/or 0,25 ‖ and/or 0,00 ‖ and/or 0,00 ‖ and/or 0,25 ‖ and/or 0,00 ‖ and/or 0,00 ‖ and/or 0,00 ‖ and/or 6 ‖ and/or 0,00 ‖ and/or 0,00 ‖ and/or 0,00 ‖ and/or 0,00 ‖ and/or 0,00 ‖ and/or 0,00 ‖ and/or 0,00 ‖ and/or 0,00 ‖ and/or 0,00 ‖ and/or 0,00 ‖ and/or 0,00 ‖ and/or 0,00 ‖ and/or 0,00 ‖ and/or 0,00 ‖ and/or 0,00 ‖ and/or 0,00 ‖ and/or 0,00 ‖ and/or 0,00 ‖ and/or 0,25 ‖ and/or 0,00 ‖ and/or 0,00 ‖ and/or 0,25 ‖ and/or 0,00 ‖ and/or 0,00 ‖ and/or 0,00 ‖ and/or 7 ‖ and/or 0,00 ‖ and/or 0,00 ‖ and/or 0,00 ‖ and/or 0,00 ‖ and/or 0,00 ‖ and/or 0,00 ‖ and/or 0,00 ‖ and/or 0,00 ‖ and/or 0,00 ‖ and/or 0,00 ‖ and/or 0,00 ‖ and/or 0,00 ‖ and/or 0,00 ‖ and/or 0,00 ‖ and/or 0,00 ‖ and/or 0,00 ‖ and/or 0,00 ‖ and/or 0,00 ‖ and/or 0,25 ‖ and/or 0,00 ‖ and/or 0,00 ‖ and/or 0,25 ‖ and/or 0,00 ‖ and/or 0,00 ‖ and/or 0,00 ‖ and/or 8 ‖ and/or 0,00 ‖ and/or 0,00 ‖ and/or 0,00 ‖ and/or 0,00 ‖ and/or 0,00 ‖ and/or 0,00 ‖ and/or 0,00 ‖ and/or 0,00 ‖ and/or 0,00 ‖ and/or 0,00 ‖ and/or 0,00 ‖ and/or 0,00 ‖ and/or 0,00 ‖ and/or 0,00 ‖ and/or 0,00 ‖ and/or 0,00 ‖ and/or 0,00 ‖ and/or 0,00 ‖ and/or 0,25 ‖ and/or 0,00 ‖ and/or 0,00 ‖ and/or 0,25 ‖ and/or 0,00 ‖ and/or 0,00 ‖ and/or 0,00 ‖ and/or 9 ‖ and/or 0,00 ‖ and/or 0,00 ‖ and/or 0,00 ‖ and/or 0,00 ‖ and/or 0,00 ‖ and/or 0,00 ‖ and/or 0,00 ‖ and/or 0,00 ‖ and/or 0,00 ‖ and/or 0,00 ‖ and/or 0,00 ‖ and/or 0,00 ‖ and/or 0,00 ‖ and/or 0,00 ‖ and/or 0,00 ‖ and/or 0,00 ‖ and/or 0,00 ‖ and/or 0,00 ‖ and/or 0,25 ‖ and/or 0,00 ‖ and/or 0,00 ‖ and/or 0,25 ‖ and/or 0,00 ‖ and/or 0,00 ‖ and/or 0,00 ‖ and/or 10 ‖ and/or 0,00 ‖ and/or 0,00 ‖ and/or 0,00 ‖ and/or 0,00 ‖ and/or 0,00 ‖ and/or 0,00 ‖ and/or 0,00 ‖ and/or 0,00 ‖ and/or 0,00 ‖ and/or 0,00 ‖ and/or 0,00 ‖ and/or 0,00 ‖ and/or 0,00 ‖ and/or 0,00 ‖ and/or 0,00 ‖ and/or 0,00 ‖ and/or 0,00 ‖ and/or 0,00 ‖ and/or 0,00 ‖ and/or 0,00 ‖ and/or 0,00 ‖ and/or 0,00 ‖ and/or 0,00 ‖ and/or 0,00 ‖ and/or 0,00 ‖ and/or 11 ‖ and/or 0,00 ‖ and/or 0,00 ‖ and/or 0,00 ‖ and/or 0,00 ‖ and/or 0,00 ‖ and/or 0,00 ‖ and/or 0,00 ‖ and/or 0,00 ‖ and/or 0,00 ‖ and/or 0,00 ‖ and/or 0,00 ‖ and/or 0,00 ‖ and/or 0,00 ‖ and/or 0,25 ‖ and/or 0,00 ‖ and/or 0,00 ‖ and/or 0,00 ‖ and/or 0,00 ‖ and/or 0,25 ‖ and/or 0,00 ‖ and/or 0,25 ‖ and/or 0,25 ‖ and/or 0,00 ‖ and/or 0,00 ‖ and/or 0,00 ‖ and/or 12 ‖ and/or 0,25 ‖ and/or 0,00 ‖ and/or 0,25 ‖ and/or 0,25 ‖ and/or 0,00 ‖ and/or 0,25 ‖ and/or 0,25 ‖ and/or 0,00 ‖ and/or 0,00 ‖ and/or 0,00 ‖ and/or 0,00 ‖ and/or 0,00 ‖ and/or 0,00 ‖ and/or 0,25 ‖ and/or 0,00 ‖ and/or 0,00 ‖ and/or 0,00 ‖ and/or 0,00 ‖ and/or 0,25 ‖ and/or 0,25 ‖ and/or 0,25 ‖ and/or 0,25 ‖ and/or 0,25 ‖ and/or 0,00 ‖ and/or 0,25 ‖ and/or 13 ‖ and/or 0,25 ‖ and/or 0,00 ‖ and/or 0,25 ‖ and/or 0,00 ‖ and/or 0,25 ‖ and/or 0,00 ‖ and/or 0,25 ‖ and/or 0,00 ‖ and/or 0,00 ‖ and/or 0,25 ‖ and/or 0,25 ‖ and/or 0,00 ‖ and/or 0,00 ‖ and/or 0,00 ‖ and/or 0,25 ‖ and/or 0,00 ‖ and/or 0,25 ‖ and/or 0,00 ‖ and/or 0,25 ‖ and/or 0,25 ‖ and/or 0,25 ‖ and/or 0,25 ‖ and/or 0,25 ‖ and/or 0,25 ‖ and/or 0,25 ‖ and/or 14 ‖ and/or 0,25 ‖ and/or 0,00 ‖ and/or 0,25 ‖ and/or 0,00 ‖ and/or 0,00 ‖ and/or 0,00 ‖ and/or 0,25 ‖ and/or 0,25 ‖ and/or 0,00 ‖ and/or 0,25 ‖ and/or 0,00 ‖ and/or 0,00 ‖ and/or 0,00 ‖ and/or 0,25 ‖ and/or 0,25 ‖ and/or 0,00 ‖ and/or 0,25 ‖ and/or 0,00 ‖ and/or 0,25 ‖ and/or 0,25 ‖ and/or 0,25 ‖ and/or 0,25 ‖ and/or 0,25 ‖ and/or 0,25 ‖ and/or 0,25 ‖ and/or 15 ‖ and/or 0,00 ‖ and/or 0,00 ‖ and/or 0,00 ‖ and/or 0,00 ‖ and/or 0,00 ‖ and/or 0,00 ‖ and/or 0,00 ‖ and/or 0,00 ‖ and/or 0,00 ‖ and/or 0,00 ‖ and/or 0,00 ‖ and/or 0,00 ‖ and/or 0,00 ‖ and/or 0,00 ‖ and/or 0,00 ‖ and/or 0,00 ‖ and/or 0,00 ‖ and/or 0,00 ‖ and/or 0,25 ‖ and/or 0,00 ‖ and/or 0,25 ‖ and/or 0,25 ‖ and/or 0,00 ‖ and/or 0,00 ‖ and/or 0,00 ‖ and/or 16 ‖ and/or 0,25 ‖ and/or 0,25 ‖ and/or 0,25 ‖ and/or 0,00 ‖ and/or 0,25 ‖ and/or 0,00 ‖ and/or 0,25 ‖ and/or 0,25 ‖ and/or 0,00 ‖ and/or 0,25 ‖ and/or 0,00 ‖ and/or 0,00 ‖ and/or 0,00 ‖ and/or 0,00 ‖ and/or 0,25 ‖ and/or 0,00 ‖ and/or 0,25 ‖ and/or 0,00 ‖ and/or 0,25 ‖ and/or 0,25 ‖ and/or 0,25 ‖ and/or 0,25 ‖ and/or 0,25 ‖ and/or 0,25 ‖ and/or 0,25 ‖ and/or 17 ‖ and/or 0,25 ‖ and/or 0,00 ‖ and/or 0,25 ‖ and/or 0,25 ‖ and/or 0,00 ‖ and/or 0,25 ‖ and/or 0,25 ‖ and/or 0,00 ‖ and/or 0,00 ‖ and/or 0,00 ‖ and/or 0,00 ‖ and/or 0,00 ‖ and/or 0,00 ‖ and/or 0,25 ‖ and/or 0,00 ‖ and/or 0,00 ‖ and/or 0,00 ‖ and/or 0,00 ‖ and/or 0,25 ‖ and/or 0,00 ‖ and/or 0,25 ‖ and/or 0,25 ‖ and/or 0,00 ‖ and/or 0,00 ‖ and/or 0,25 ‖ and/or 18 ‖ and/or 0,00 ‖ and/or 0,00 ‖ and/or 0,00 ‖ and/or 0,00 ‖ and/or 0,00 ‖ and/or 0,00 ‖ and/or 0,25 ‖ and/or 0,00 ‖ and/or 0,00 ‖ and/or 0,00 ‖ and/or 0,00 ‖ and/or 0,00 ‖ and/or 0,00 ‖ and/or 0,00 ‖ and/or 0,00 ‖ and/or 0,00 ‖ and/or 0,00 ‖ and/or 0,00 ‖ and/or 0,25 ‖ and/or 0,25 ‖ and/or 0,25 ‖ and/or 0,25 ‖ and/or 0,25 ‖ and/or 0,25 ‖ and/or 0,25 ‖ and/or 19 ‖ and/or 0,00 ‖ and/or 0,00 ‖ and/or 0,00 ‖ and/or 0,00 ‖ and/or 0,00 ‖ and/or 0,00 ‖ and/or 0,00 ‖ and/or 0,00 ‖ and/or 0,00 ‖ and/or 0,00 ‖ and/or 0,00 ‖ and/or 0,00 ‖ and/or 0,00 ‖ and/or 0,00 ‖ and/or 0,00 ‖ and/or 0,00 ‖ and/or 0,00 ‖ and/or 0,00 ‖ and/or 0,25 ‖ and/or 0,00 ‖ and/or 0,25 ‖ and/or 0,25 ‖ and/or 0,00 ‖ and/or 0,00 ‖ and/or 0,25 ‖ and/or 20 ‖ and/or 0,00 ‖ and/or 0,00 ‖ and/or 0,00 ‖ and/or 0,00 ‖ and/or 0,00 ‖ and/or 0,00 ‖ and/or 0,00 ‖ and/or 0,00 ‖ and/or 0,00 ‖ and/or 0,00 ‖ and/or 0,00 ‖ and/or 0,00 ‖ and/or 0,00 ‖ and/or 0,00 ‖ and/or 0,00 ‖ and/or 0,00 ‖ and/or 0,00 ‖ and/or 0,00 ‖ and/or 0,25 ‖ and/or 0,25 ‖ and/or 0,25 ‖ and/or 0,00 ‖ and/or 0,25 ‖ and/or 0,25 ‖ and/or 0,25 ‖ and/or 21 ‖ and/or 0,25 ‖ and/or 0,25 ‖ and/or 0,25 ‖ and/or 0,25 ‖ and/or 0,25 ‖ and/or 0,25 ‖ and/or 0,25 ‖ and/or 0,25 ‖ and/or 0,00 ‖ and/or 0,00 ‖ and/or 0,00 ‖ and/or 0,25 ‖ and/or 0,25 ‖ and/or 0,25 ‖ and/or 0,00 ‖ and/or 0,00 ‖ and/or 0,00 ‖ and/or 0,00 ‖ and/or 0,25 ‖ and/or 0,25 ‖ and/or 0,25 ‖ and/or 0,25 ‖ and/or 0,00 ‖ and/or 0,00 ‖ and/or 0,25 ‖ and/or 22 ‖ and/or 0,00 ‖ and/or 0,00 ‖ and/or 0,00 ‖ and/or 0,00 ‖ and/or 0,00 ‖ and/or 0,00 ‖ and/or 0,25 ‖ and/or 0,25 ‖ and/or 0,00 ‖ and/or 0,25 ‖ and/or 0,25 ‖ and/or 0,25 ‖ and/or 0,25 ‖ and/or 0,25 ‖ and/or 0,25 ‖ and/or 0,00 ‖ and/or 0,00 ‖ and/or 0,00 ‖ and/or 0,25 ‖ and/or 0,25 ‖ and/or 0,25 ‖ and/or 0,25 ‖ and/or 0,25 ‖ and/or 0,25 ‖ and/or 0,25 ‖ and/or 23 ‖ and/or 0,25 ‖ and/or 0,00 ‖ and/or 0,25 ‖ and/or 0,25 ‖ and/or 0,00 ‖ and/or 0,25 ‖ and/or 0,25 ‖ and/or 0,25 ‖ and/or 0,00 ‖ and/or 0,25 ‖ and/or 0,00 ‖ and/or 0,00 ‖ and/or 0,00 ‖ and/or 0,25 ‖ and/or 0,00 ‖ and/or 0,00 ‖ and/or 0,00 ‖ and/or 0,00 ‖ and/or 0,25 ‖ and/or 0,25 ‖ and/or 0,25 ‖ and/or 0,25 ‖ and/or 0,25 ‖ and/or 0,25 ‖ and/or 0,25 ‖ and/or 24 ‖ and/or 0,25 ‖ and/or 0,25 ‖ and/or 0,25 ‖ and/or 0,00 ‖ and/or 0,25 ‖ and/or 0,00 ‖ and/or 0,25 ‖ and/or 0,25 ‖ and/or 0,00 ‖ and/or 0,25 ‖ and/or 0,25 ‖ and/or 0,25 ‖ and/or 0,25 ‖ and/or 0,00 ‖ and/or 0,25 ‖ and/or 0,00 ‖ and/or 0,25 ‖ and/or 0,25 ‖ and/or 0,25 ‖ and/or 0,25 ‖ and/or 0,25 ‖ and/or 0,25 ‖ and/or 0,25 ‖ and/or 0,25 ‖ and/or 0,25 ‖ and/or 25 ‖ and/or 0,25 ‖ and/or 0,00 ‖ and/or 0,25 ‖ and/or 0,25 ‖ and/or 0,25 ‖ and/or 0,25 ‖ and/or 0,25 ‖ and/or 0,25 ‖ and/or 0,00 ‖ and/or 0,25 ‖ and/or 0,00 ‖ and/or 0,00 ‖ and/or 0,00 ‖ and/or 0,25 ‖ and/or 0,25 ‖ and/or 0,00 ‖ and/or 0,25 ‖ and/or 0,00 ‖ and/or 0,25 ‖ and/or 0,25 ‖ and/or 0,25 ‖ and/or 0,25 ‖ and/or 0,25 ‖ and/or 0,25 ‖ and/or 0,25 ‖ and/or j ‖ and/or i ‖ and/or 51 ‖ and/or 52 ‖ and/or 53 ‖ and/or 54 ‖ and/or 55 ‖ and/or 56 ‖ and/or 57 ‖ and/or 58 ‖ and/or 59 ‖ and/or 60 ‖ and/or 61 ‖ and/or 62 ‖ and/or 63 ‖ and/or 64 ‖ and/or 65 ‖ and/or 66 ‖ and/or 67 ‖ and/or 68 ‖ and/or 69 ‖ and/or 70 ‖ and/or 1 ‖ and/or 0,00 ‖ and/or 0,00 ‖ and/or 0,25 ‖ and/or 0,00 ‖ and/or 0,00 ‖ and/or 0,00 ‖ and/or 0,00 ‖ and/or 0,00 ‖ and/or 0,00 ‖ and/or 0,00 ‖ and/or 0,25 ‖ and/or 0,00 ‖ and/or 0,00 ‖ and/or 0,00 ‖ and/or 0,00 ‖ and/or 0,00 ‖ and/or 0,00 ‖ and/or 0,00 ‖ and/or 0,25 ‖ and/or 0,00 ‖ and/or 2 ‖ and/or 0,00 ‖ and/or 0,00 ‖ and/or 0,25 ‖ and/or 0,00 ‖ and/or 0,00 ‖ and/or 0,00 ‖ and/or 0,00 ‖ and/or 0,00 ‖ and/or 0,00 ‖ and/or 0,00 ‖ and/or 0,00 ‖ and/or 0,00 ‖ and/or 0,00 ‖ and/or 0,00 ‖ and/or 0,00 ‖ and/or 0,00 ‖ and/or 0,00 ‖ and/or 0,00 ‖ and/or 0,25 ‖ and/or 0,00 ‖ and/or 3 ‖ and/or 0,00 ‖ and/or 0,00 ‖ and/or 0,25 ‖ and/or 0,00 ‖ and/or 0,25 ‖ and/or 0,00 ‖ and/or 0,00 ‖ and/or 0,00 ‖ and/or 0,00 ‖ and/or 0,00 ‖ and/or 0,25 ‖ and/or 0,00 ‖ and/or 0,00 ‖ and/or 0,00 ‖ and/or 0,00 ‖ and/or 0,00 ‖ and/or 0,00 ‖ and/or 0,00 ‖ and/or 0,25 ‖ and/or 0,00 ‖ and/or 4 ‖ and/or 0,00 ‖ and/or 0,00 ‖ and/or 0,25 ‖ and/or 0,00 ‖ and/or 0,00 ‖ and/or 0,00 ‖ and/or 0,00 ‖ and/or 0,00 ‖ and/or 0,00 ‖ and/or 0,00 ‖ and/or 0,00 ‖ and/or 0,00 ‖ and/or 0,00 ‖ and/or 0,00 ‖ and/or 0,00 ‖ and/or 0,00 ‖ and/or 0,00 ‖ and/or 0,00 ‖ and/or 0,25 ‖ and/or 0,00 ‖ and/or 5 ‖ and/or 0,00 ‖ and/or 0,00 ‖ and/or 0,00 ‖ and/or 0,00 ‖ and/or 0,00 ‖ and/or 0,00 ‖ and/or 0,00 ‖ and/or 0,00 ‖ and/or 0,00 ‖ and/or 0,00 ‖ and/or 0,00 ‖ and/or 0,00 ‖ and/or 0,00 ‖ and/or 0,00 ‖ and/or 0,00 ‖ and/or 0,00 ‖ and/or 0,00 ‖ and/or 0,00 ‖ and/or 0,25 ‖ and/or 0,00 ‖ and/or 6 ‖ and/or 0,00 ‖ and/or 0,00 ‖ and/or 0,00 ‖ and/or 0,00 ‖ and/or 0,00 ‖ and/or 0,00 ‖ and/or 0,00 ‖ and/or 0,00 ‖ and/or 0,00 ‖ and/or 0,00 ‖ and/or 0,00 ‖ and/or 0,00 ‖ and/or 0,00 ‖ and/or 0,00 ‖ and/or 0,00 ‖ and/or 0,00 ‖ and/or 0,00 ‖ and/or 0,00 ‖ and/or 0,25 ‖ and/or 0,00 ‖ and/or 7 ‖ and/or 0,00 ‖ and/or 0,00 ‖ and/or 0,25 ‖ and/or 0,00 ‖ and/or 0,00 ‖ and/or 0,00 ‖ and/or 0,00 ‖ and/or 0,00 ‖ and/or 0,00 ‖ and/or 0,00 ‖ and/or 0,00 ‖ and/or 0,00 ‖ and/or 0,00 ‖ and/or 0,00 ‖ and/or 0,00 ‖ and/or 0,00 ‖ and/or 0,00 ‖ and/or 0,00 ‖ and/or 0,25 ‖ and/or 0,00 ‖ and/or 8 ‖ and/or 0,00 ‖ and/or 0,00 ‖ and/or 0,25 ‖ and/or 0,00 ‖ and/or 0,00 ‖ and/or 0,00 ‖ and/or 0,00 ‖ and/or 0,00 ‖ and/or 0,00 ‖ and/or 0,00 ‖ and/or 0,00 ‖ and/or 0,00 ‖ and/or 0,00 ‖ and/or 0,00 ‖ and/or 0,00 ‖ and/or 0,00 ‖ and/or 0,00 ‖ and/or 0,00 ‖ and/or 0,25 ‖ and/or 0,00 ‖ and/or 9 ‖ and/or 0,00 ‖ and/or 0,00 ‖ and/or 0,00 ‖ and/or 0,00 ‖ and/or 0,00 ‖ and/or 0,00 ‖ and/or 0,00 ‖ and/or 0,00 ‖ and/or 0,00 ‖ and/or 0,00 ‖ and/or 0,00 ‖ and/or 0,00 ‖ and/or 0,00 ‖ and/or 0,00 ‖ and/or 0,00 ‖ and/or 0,00 ‖ and/or 0,00 ‖ and/or 0,00 ‖ and/or 0,25 ‖ and/or 0,00 ‖ and/or 10 ‖ and/or 0,00 ‖ and/or 0,00 ‖ and/or 0,00 ‖ and/or 0,00 ‖ and/or 0,00 ‖ and/or 0,00 ‖ and/or 0,00 ‖ and/or 0,00 ‖ and/or 0,00 ‖ and/or 0,00 ‖ and/or 0,00 ‖ and/or 0,00 ‖ and/or 0,00 ‖ and/or 0,00 ‖ and/or 0,00 ‖ and/or 0,00 ‖ and/or 0,00 ‖ and/or 0,00 ‖ and/or 0,25 ‖ and/or 0,00 ‖ and/or 11 ‖ and/or 0,00 ‖ and/or 0,00 ‖ and/or 0,25 ‖ and/or 0,00 ‖ and/or 0,00 ‖ and/or 0,00 ‖ and/or 0,00 ‖ and/or 0,00 ‖ and/or 0,00 ‖ and/or 0,00 ‖ and/or 0,00 ‖ and/or 0,00 ‖ and/or 0,00 ‖ and/or 0,00 ‖ and/or 0,25 ‖ and/or 0,00 ‖ and/or 0,00 ‖ and/or 0,00 ‖ and/or 0,25 ‖ and/or 0,00 ‖ and/or 12 ‖ and/or 0,00 ‖ and/or 0,00 ‖ and/or 0,25 ‖ and/or 0,00 ‖ and/or 0,25 ‖ and/or 0,00 ‖ and/or 0,00 ‖ and/or 0,00 ‖ and/or 0,00 ‖ and/or 0,00 ‖ and/or 0,25 ‖ and/or 0,00 ‖ and/or 0,25 ‖ and/or 0,25 ‖ and/or 0,25 ‖ and/or 0,00 ‖ and/or 0,00 ‖ and/or 0,00 ‖ and/or 0,25 ‖ and/or 0,00 ‖ and/or 13 ‖ and/or 0,25 ‖ and/or 0,25 ‖ and/or 0,25 ‖ and/or 0,25 ‖ and/or 0,25 ‖ and/or 0,25 ‖ and/or 0,25 ‖ and/or 0,25 ‖ and/or 0,25 ‖ and/or 0,00 ‖ and/or 0,00 ‖ and/or 0,00 ‖ and/or 0,00 ‖ and/or 0,00 ‖ and/or 0,25 ‖ and/or 0,00 ‖ and/or 0,25 ‖ and/or 0,25 ‖ and/or 0,25 ‖ and/or 0,00 ‖ and/or 14 ‖ and/or 0,00 ‖ and/or 0,25 ‖ and/or 0,25 ‖ and/or 0,25 ‖ and/or 0,25 ‖ and/or 0,25 ‖ and/or 0,25 ‖ and/or 0,25 ‖ and/or 0,25 ‖ and/or 0,00 ‖ and/or 0,00 ‖ and/or 0,00 ‖ and/or 0,25 ‖ and/or 0,25 ‖ and/or 0,50 ‖ and/or 0,00 ‖ and/or 0,25 ‖ and/or 0,25 ‖ and/or 0,25 ‖ and/or 0,00 ‖ and/or 15 ‖ and/or 0,00 ‖ and/or 0,00 ‖ and/or 0,25 ‖ and/or 0,00 ‖ and/or 0,00 ‖ and/or 0,00 ‖ and/or 0,00 ‖ and/or 0,00 ‖ and/or 0,00 ‖ and/or 0,00 ‖ and/or 0,00 ‖ and/or 0,00 ‖ and/or 0,00 ‖ and/or 0,00 ‖ and/or 0,25 ‖ and/or 0,00 ‖ and/or 0,00 ‖ and/or 0,00 ‖ and/or 0,00 ‖ and/or 0,00 ‖ and/or 16 ‖ and/or 0,00 ‖ and/or 0,25 ‖ and/or 0,25 ‖ and/or 0,25 ‖ and/or 0,25 ‖ and/or 0,25 ‖ and/or 0,25 ‖ and/or 0,25 ‖ and/or 0,25 ‖ and/or 0,00 ‖ and/or 0,00 ‖ and/or 0,00 ‖ and/or 0,00 ‖ and/or 0,00 ‖ and/or 0,25 ‖ and/or 0,00 ‖ and/or 0,00 ‖ and/or 0,00 ‖ and/or 0,25 ‖ and/or 0,00 ‖ and/or 17 ‖ and/or 0,00 ‖ and/or 0,00 ‖ and/or 0,25 ‖ and/or 0,00 ‖ and/or 0,00 ‖ and/or 0,00 ‖ and/or 0,00 ‖ and/or 0,00 ‖ and/or 0,00 ‖ and/or 0,00 ‖ and/or 0,00 ‖ and/or 0,00 ‖ and/or 0,00 ‖ and/or 0,00 ‖ and/or 0,25 ‖ and/or 0,00 ‖ and/or 0,00 ‖ and/or 0,00 ‖ and/or 0,00 ‖ and/or 0,00 ‖ and/or 18 ‖ and/or 0,00 ‖ and/or 0,00 ‖ and/or 0,25 ‖ and/or 0,00 ‖ and/or 0,25 ‖ and/or 0,00 ‖ and/or 0,00 ‖ and/or 0,00 ‖ and/or 0,00 ‖ and/or 0,00 ‖ and/or 0,00 ‖ and/or 0,00 ‖ and/or 0,00 ‖ and/or 0,00 ‖ and/or 0,00 ‖ and/or 0,00 ‖ and/or 0,00 ‖ and/or 0,00 ‖ and/or 0,00 ‖ and/or 0,00 ‖ and/or 19 ‖ and/or 0,00 ‖ and/or 0,00 ‖ and/or 0,25 ‖ and/or 0,00 ‖ and/or 0,00 ‖ and/or 0,00 ‖ and/or 0,00 ‖ and/or 0,00 ‖ and/or 0,00 ‖ and/or 0,00 ‖ and/or 0,00 ‖ and/or 0,00 ‖ and/or 0,00 ‖ and/or 0,00 ‖ and/or 0,00 ‖ and/or 0,00 ‖ and/or 0,00 ‖ and/or 0,00 ‖ and/or 0,00 ‖ and/or 0,00 ‖ and/or 20 ‖ and/or 0,00 ‖ and/or 0,00 ‖ and/or 0,25 ‖ and/or 0,00 ‖ and/or 0,25 ‖ and/or 0,25 ‖ and/or 0,25 ‖ and/or 0,00 ‖ and/or 0,00 ‖ and/or 0,00 ‖ and/or 0,00 ‖ and/or 0,00 ‖ and/or 0,00 ‖ and/or 0,00 ‖ and/or 0,00 ‖ and/or 0,00 ‖ and/or 0,00 ‖ and/or 0,00 ‖ and/or 0,00 ‖ and/or 0,00 ‖ and/or 21 ‖ and/or 0,00 ‖ and/or 0,00 ‖ and/or 0,25 ‖ and/or 0,00 ‖ and/or 0,00 ‖ and/or 0,00 ‖ and/or 0,00 ‖ and/or 0,00 ‖ and/or 0,00 ‖ and/or 0,00 ‖ and/or 0,00 ‖ and/or 0,00 ‖ and/or 0,00 ‖ and/or 0,00 ‖ and/or 0,00 ‖ and/or 0,00 ‖ and/or 0,00 ‖ and/or 0,00 ‖ and/or 0,00 ‖ and/or 0,00 ‖ and/or 22 ‖ and/or 0,00 ‖ and/or 0,00 ‖ and/or 0,25 ‖ and/or 0,00 ‖ and/or 0,25 ‖ and/or 0,25 ‖ and/or 0,25 ‖ and/or 0,00 ‖ and/or 0,00 ‖ and/or 0,00 ‖ and/or 0,00 ‖ and/or 0,00 ‖ and/or 0,00 ‖ and/or 0,00 ‖ and/or 0,00 ‖ and/or 0,00 ‖ and/or 0,00 ‖ and/or 0,00 ‖ and/or 0,00 ‖ and/or 0,00 ‖ and/or 23 ‖ and/or 0,00 ‖ and/or 0,00 ‖ and/or 0,25 ‖ and/or 0,25 ‖ and/or 0,25 ‖ and/or 0,00 ‖ and/or 0,25 ‖ and/or 0,00 ‖ and/or 0,00 ‖ and/or 0,00 ‖ and/or 0,00 ‖ and/or 0,00 ‖ and/or 0,00 ‖ and/or 0,00 ‖ and/or 0,00 ‖ and/or 0,00 ‖ and/or 0,00 ‖ and/or 0,00 ‖ and/or 0,25 ‖ and/or 0,00 ‖ and/or 24 ‖ and/or 0,25 ‖ and/or 0,25 ‖ and/or 0,25 ‖ and/or 0,25 ‖ and/or 0,25 ‖ and/or 0,25 ‖ and/or 0,25 ‖ and/or 0,25 ‖ and/or 0,25 ‖ and/or 0,00 ‖ and/or 0,00 ‖ and/or 0,00 ‖ and/or 0,00 ‖ and/or 0,00 ‖ and/or 0,00 ‖ and/or 0,00 ‖ and/or 0,25 ‖ and/or 0,25 ‖ and/or 0,00 ‖ and/or 0,00 ‖ and/or 25 ‖ and/or 0,00 ‖ and/or 0,25 ‖ and/or 0,25 ‖ and/or 0,25 ‖ and/or 0,25 ‖ and/or 0,25 ‖ and/or 0,25 ‖ and/or 0,25 ‖ and/or 0,25 ‖ and/or 0,00 ‖ and/or 0,00 ‖ and/or 0,00 ‖ and/or 0,00 ‖ and/or 0,00 ‖ and/or 0,00 ‖ and/or 0,00 ‖ and/or 0,25 ‖ and/or 0,25 ‖ and/or 0,25 ‖ and/or 0,00 ‖ and/or j ‖ and/or i ‖ and/or 1 ‖ and/or 2 ‖ and/or 3 ‖ and/or 4 ‖ and/or 5 ‖ and/or 6 ‖ and/or 7 ‖ and/or 8 ‖ and/or 9 ‖ and/or 10 ‖ and/or 11 ‖ and/or 12 ‖ and/or 13 ‖ and/or 14 ‖ and/or 15 ‖ and/or 16 ‖ and/or 17 ‖ and/or 18 ‖ and/or 19 ‖ and/or 20 ‖ and/or 21 ‖ and/or 22 ‖ and/or 23 ‖ and/or 24 ‖ and/or 25 ‖ and/or 26 ‖ and/or 0,25 ‖ and/or 0,00 ‖ and/or 0,25 ‖ and/or 0,00 ‖ and/or 0,00 ‖ and/or 0,00 ‖ and/or 0,00 ‖ and/or 0,00 ‖ and/or 0,00 ‖ and/or 0,00 ‖ and/or 0,00 ‖ and/or 0,25 ‖ and/or 0,25 ‖ and/or 0,25 ‖ and/or 0,00 ‖ and/or 0,25 ‖ and/or 0,25 ‖ and/or 0,00 ‖ and/or 0,00 ‖ and/or 0,00 ‖ and/or 0,25 ‖ and/or 0,00 ‖ and/or 0,25 ‖ and/or 0,25 ‖ and/or 0,25 ‖ and/or 27 ‖ and/or 0,00 ‖ and/or 0,00 ‖ and/or 0,00 ‖ and/or 0,00 ‖ and/or 0,00 ‖ and/or 0,00 ‖ and/or 0,00 ‖ and/or 0,00 ‖ and/or 0,00 ‖ and/or 0,00 ‖ and/or 0,00 ‖ and/or 0,00 ‖ and/or 0,00 ‖ and/or 0,00 ‖ and/or 0,00 ‖ and/or 0,25 ‖ and/or 0,00 ‖ and/or 0,00 ‖ and/or 0,00 ‖ and/or 0,00 ‖ and/or 0,25 ‖ and/or 0,00 ‖ and/or 0,00 ‖ and/or 0,25 ‖ and/or 0,00 ‖ and/or 28 ‖ and/or 0,00 ‖ and/or 0,00 ‖ and/or 0,25 ‖ and/or 0,00 ‖ and/or 0,00 ‖ and/or 0,00 ‖ and/or 0,00 ‖ and/or 0,00 ‖ and/or 0,00 ‖ and/or 0,00 ‖ and/or 0,00 ‖ and/or 0,25 ‖ and/or 0,25 ‖ and/or 0,25 ‖ and/or 0,00 ‖ and/or 0,25 ‖ and/or 0,25 ‖ and/or 0,00 ‖ and/or 0,00 ‖ and/or 0,00 ‖ and/or 0,25 ‖ and/or 0,00 ‖ and/or 0,25 ‖ and/or 0,25 ‖ and/or 0,25 ‖ and/or 29 ‖ and/or 0,00 ‖ and/or 0,00 ‖ and/or 0,25 ‖ and/or 0,00 ‖ and/or 0,00 ‖ and/or 0,00 ‖ and/or 0,00 ‖ and/or 0,00 ‖ and/or 0,00 ‖ and/or 0,00 ‖ and/or 0,00 ‖ and/or 0,25 ‖ and/or 0,00 ‖ and/or 0,00 ‖ and/or 0,00 ‖ and/or 0,00 ‖ and/or 0,25 ‖ and/or 0,00 ‖ and/or 0,00 ‖ and/or 0,00 ‖ and/or 0,25 ‖ and/or 0,00 ‖ and/or 0,25 ‖ and/or 0,00 ‖ and/or 0,25 ‖ and/or 30 ‖ and/or 0,00 ‖ and/or 0,00 ‖ and/or 0,00 ‖ and/or 0,00 ‖ and/or 0,00 ‖ and/or 0,00 ‖ and/or 0,00 ‖ and/or 0,00 ‖ and/or 0,00 ‖ and/or 0,00 ‖ and/or 0,00 ‖ and/or 0,00 ‖ and/or 0,25 ‖ and/or 0,00 ‖ and/or 0,00 ‖ and/or 0,25 ‖ and/or 0,00 ‖ and/or 0,00 ‖ and/or 0,00 ‖ and/or 0,00 ‖ and/or 0,25 ‖ and/or 0,00 ‖ and/or 0,00 ‖ and/or 0,25 ‖ and/or 0,25 ‖ and/or 31 ‖ and/or 0,25 ‖ and/or 0,00 ‖ and/or 0,25 ‖ and/or 0,00 ‖ and/or 0,00 ‖ and/or 0,00 ‖ and/or 0,00 ‖ and/or 0,00 ‖ and/or 0,00 ‖ and/or 0,00 ‖ and/or 0,00 ‖ and/or 0,25 ‖ and/or 0,00 ‖ and/or 0,00 ‖ and/or 0,00 ‖ and/or 0,00 ‖ and/or 0,25 ‖ and/or 0,00 ‖ and/or 0,00 ‖ and/or 0,00 ‖ and/or 0,25 ‖ and/or 0,00 ‖ and/or 0,25 ‖ and/or 0,00 ‖ and/or 0,25 ‖ and/or 32 ‖ and/or 0,00 ‖ and/or 0,00 ‖ and/or 0,25 ‖ and/or 0,00 ‖ and/or 0,00 ‖ and/or 0,00 ‖ and/or 0,00 ‖ and/or 0,00 ‖ and/or 0,00 ‖ and/or 0,00 ‖ and/or 0,00 ‖ and/or 0,25 ‖ and/or 0,25 ‖ and/or 0,25 ‖ and/or 0,00 ‖ and/or 0,25 ‖ and/or 0,25 ‖ and/or 0,25 ‖ and/or 0,00 ‖ and/or 0,00 ‖ and/or 0,25 ‖ and/or 0,25 ‖ and/or 0,25 ‖ and/or 0,25 ‖ and/or 0,25 ‖ and/or 33 ‖ and/or 0,00 ‖ and/or 0,00 ‖ and/or 0,00 ‖ and/or 0,00 ‖ and/or 0,00 ‖ and/or 0,00 ‖ and/or 0,00 ‖ and/or 0,00 ‖ and/or 0,00 ‖ and/or 0,00 ‖ and/or 0,00 ‖ and/or 0,00 ‖ and/or 0,00 ‖ and/or 0,25 ‖ and/or 0,00 ‖ and/or 0,25 ‖ and/or 0,00 ‖ and/or 0,00 ‖ and/or 0,00 ‖ and/or 0,00 ‖ and/or 0,25 ‖ and/or 0,25 ‖ and/or 0,25 ‖ and/or 0,25 ‖ and/or 0,25 ‖ and/or 34 ‖ and/or 0,00 ‖ and/or 0,00 ‖ and/or 0,00 ‖ and/or 0,00 ‖ and/or 0,00 ‖ and/or 0,00 ‖ and/or 0,00 ‖ and/or 0,00 ‖ and/or 0,00 ‖ and/or 0,00 ‖ and/or 0,00 ‖ and/or 0,00 ‖ and/or 0,00 ‖ and/or 0,00 ‖ and/or 0,00 ‖ and/or 0,00 ‖ and/or 0,00 ‖ and/or 0,00 ‖ and/or 0,00 ‖ and/or 0,00 ‖ and/or 0,00 ‖ and/or 0,00 ‖ and/or 0,00 ‖ and/or 0,00 ‖ and/or 0,00 ‖ and/or 35 ‖ and/or 0,00 ‖ and/or 0,00 ‖ and/or 0,00 ‖ and/or 0,00 ‖ and/or 0,00 ‖ and/or 0,00 ‖ and/or 0,00 ‖ and/or 0,00 ‖ and/or 0,00 ‖ and/or 0,00 ‖ and/or 0,00 ‖ and/or 0,00 ‖ and/or 0,25 ‖ and/or 0,25 ‖ and/or 0,00 ‖ and/or 0,25 ‖ and/or 0,00 ‖ and/or 0,00 ‖ and/or 0,00 ‖ and/or 0,00 ‖ and/or 0,00 ‖ and/or 0,25 ‖ and/or 0,25 ‖ and/or 0,25 ‖ and/or 0,25 ‖ and/or 36 ‖ and/or 0,00 ‖ and/or 0,00 ‖ and/or 0,00 ‖ and/or 0,00 ‖ and/or 0,00 ‖ and/or 0,00 ‖ and/or 0,00 ‖ and/or 0,00 ‖ and/or 0,00 ‖ and/or 0,00 ‖ and/or 0,00 ‖ and/or 0,00 ‖ and/or 0,25 ‖ and/or 0,00 ‖ and/or 0,00 ‖ and/or 0,00 ‖ and/or 0,00 ‖ and/or 0,00 ‖ and/or 0,00 ‖ and/or 0,00 ‖ and/or 0,00 ‖ and/or 0,25 ‖ and/or 0,00 ‖ and/or 0,25 ‖ and/or 0,00 ‖ and/or 37 ‖ and/or 0,00 ‖ and/or 0,00 ‖ and/or 0,00 ‖ and/or 0,00 ‖ and/or 0,00 ‖ and/or 0,00 ‖ and/or 0,00 ‖ and/or 0,00 ‖ and/or 0,00 ‖ and/or 0,00 ‖ and/or 0,00 ‖ and/or 0,00 ‖ and/or 0,00 ‖ and/or 0,00 ‖ and/or 0,00 ‖ and/or 0,00 ‖ and/or 0,00 ‖ and/or 0,00 ‖ and/or 0,00 ‖ and/or 0,00 ‖ and/or 0,25 ‖ and/or 0,25 ‖ and/or 0,00 ‖ and/or 0,25 ‖ and/or 0,00 ‖ and/or 38 ‖ and/or 0,00 ‖ and/or 0,00 ‖ and/or 0,00 ‖ and/or 0,00 ‖ and/or 0,00 ‖ and/or 0,00 ‖ and/or 0,00 ‖ and/or 0,00 ‖ and/or 0,00 ‖ and/or 0,00 ‖ and/or 0,00 ‖ and/or 0,00 ‖ and/or 0,00 ‖ and/or 0,00 ‖ and/or 0,00 ‖ and/or 0,00 ‖ and/or 0,00 ‖ and/or 0,00 ‖ and/or 0,00 ‖ and/or 0,00 ‖ and/or 0,25 ‖ and/or 0,25 ‖ and/or 0,00 ‖ and/or 0,25 ‖ and/or 0,00 ‖ and/or 39 ‖ and/or 0,25 ‖ and/or 0,25 ‖ and/or 0,25 ‖ and/or 0,00 ‖ and/or 0,00 ‖ and/or 0,00 ‖ and/or 0,00 ‖ and/or 0,00 ‖ and/or 0,00 ‖ and/or 0,00 ‖ and/or 0,25 ‖ and/or 0,25 ‖ and/or 0,00 ‖ and/or 0,25 ‖ and/or 0,00 ‖ and/or 0,00 ‖ and/or 0,25 ‖ and/or 0,00 ‖ and/or 0,00 ‖ and/or 0,00 ‖ and/or 0,25 ‖ and/or 0,25 ‖ and/or 0,25 ‖ and/or 0,00 ‖ and/or 0,25 ‖ and/or 40 ‖ and/or 0,00 ‖ and/or 0,00 ‖ and/or 0,00 ‖ and/or 0,00 ‖ and/or 0,00 ‖ and/or 0,00 ‖ and/or 0,00 ‖ and/or 0,00 ‖ and/or 0,00 ‖ and/or 0,00 ‖ and/or 0,00 ‖ and/or 0,00 ‖ and/or 0,25 ‖ and/or 0,25 ‖ and/or 0,00 ‖ and/or 0,25 ‖ and/or 0,00 ‖ and/or 0,00 ‖ and/or 0,00 ‖ and/or 0,00 ‖ and/or 0,00 ‖ and/or 0,25 ‖ and/or 0,00 ‖ and/or 0,25 ‖ and/or 0,25 ‖ and/or 41 ‖ and/or 0,00 ‖ and/or 0,00 ‖ and/or 0,00 ‖ and/or 0,00 ‖ and/or 0,00 ‖ and/or 0,00 ‖ and/or 0,00 ‖ and/or 0,00 ‖ and/or 0,00 ‖ and/or 0,00 ‖ and/or 0,00 ‖ and/or 0,00 ‖ and/or 0,00 ‖ and/or 0,00 ‖ and/or 0,00 ‖ and/or 0,00 ‖ and/or 0,00 ‖ and/or 0,00 ‖ and/or 0,00 ‖ and/or 0,00 ‖ and/or 0,00 ‖ and/or 0,00 ‖ and/or 0,00 ‖ and/or 0,00 ‖ and/or 0,00 ‖ and/or 42 ‖ and/or 0,00 ‖ and/or 0,00 ‖ and/or 0,00 ‖ and/or 0,00 ‖ and/or 0,00 ‖ and/or 0,00 ‖ and/or 0,00 ‖ and/or 0,00 ‖ and/or 0,00 ‖ and/or 0,00 ‖ and/or 0,00 ‖ and/or 0,00 ‖ and/or 0,25 ‖ and/or 0,25 ‖ and/or 0,00 ‖ and/or 0,25 ‖ and/or 0,00 ‖ and/or 0,00 ‖ and/or 0,00 ‖ and/or 0,00 ‖ and/or 0,00 ‖ and/or 0,00 ‖ and/or 0,00 ‖ and/or 0,25 ‖ and/or 0,25 ‖ and/or 43 ‖ and/or 0,00 ‖ and/or 0,00 ‖ and/or 0,00 ‖ and/or 0,00 ‖ and/or 0,00 ‖ and/or 0,00 ‖ and/or 0,00 ‖ and/or 0,00 ‖ and/or 0,00 ‖ and/or 0,00 ‖ and/or 0,00 ‖ and/or 0,00 ‖ and/or 0,00 ‖ and/or 0,00 ‖ and/or 0,00 ‖ and/or 0,00 ‖ and/or 0,00 ‖ and/or 0,00 ‖ and/or 0,00 ‖ and/or 0,00 ‖ and/or 0,00 ‖ and/or 0,00 ‖ and/or 0,00 ‖ and/or 0,25 ‖ and/or 0,00 ‖ and/or 44 ‖ and/or 0,25 ‖ and/or 0,25 ‖ and/or 0,25 ‖ and/or 0,25 ‖ and/or 0,25 ‖ and/or 0,25 ‖ and/or 0,25 ‖ and/or 0,25 ‖ and/or 0,25 ‖ and/or 0,00 ‖ and/or 0,25 ‖ and/or 0,25 ‖ and/or 0,25 ‖ and/or 0,25 ‖ and/or 0,25 ‖ and/or 0,25 ‖ and/or 0,25 ‖ and/or 0,25 ‖ and/or 0,25 ‖ and/or 0,25 ‖ and/or 0,25 ‖ and/or 0,25 ‖ and/or 0,25 ‖ and/or 0,25 ‖ and/or 0,25 ‖ and/or 45 ‖ and/or 0,00 ‖ and/or 0,00 ‖ and/or 0,25 ‖ and/or 0,00 ‖ and/or 0,00 ‖ and/or 0,00 ‖ and/or 0,00 ‖ and/or 0,00 ‖ and/or 0,00 ‖ and/or 0,00 ‖ and/or 0,00 ‖ and/or 0,25 ‖ and/or 0,25 ‖ and/or 0,25 ‖ and/or 0,00 ‖ and/or 0,25 ‖ and/or 0,00 ‖ and/or 0,25 ‖ and/or 0,00 ‖ and/or 0,25 ‖ and/or 0,25 ‖ and/or 0,25 ‖ and/or 0,25 ‖ and/or 0,25 ‖ and/or 0,25 ‖ and/or 46 ‖ and/or 0,25 ‖ and/or 0,25 ‖ and/or 0,25 ‖ and/or 0,00 ‖ and/or 0,00 ‖ and/or 0,00 ‖ and/or 0,00 ‖ and/or 0,00 ‖ and/or 0,00 ‖ and/or 0,00 ‖ and/or 0,25 ‖ and/or 0,25 ‖ and/or 0,25 ‖ and/or 0,25 ‖ and/or 0,25 ‖ and/or 0,25 ‖ and/or 0,25 ‖ and/or 0,25 ‖ and/or 0,25 ‖ and/or 0,25 ‖ and/or 0,25 ‖ and/or 0,25 ‖ and/or 0,25 ‖ and/or 0,25 ‖ and/or 0,25 ‖ and/or 47 ‖ and/or 0,25 ‖ and/or 0,25 ‖ and/or 0,25 ‖ and/or 0,25 ‖ and/or 0,25 ‖ and/or 0,25 ‖ and/or 0,25 ‖ and/or 0,25 ‖ and/or 0,25 ‖ and/or 0,00 ‖ and/or 0,25 ‖ and/or 0,25 ‖ and/or 0,25 ‖ and/or 0,25 ‖ and/or 0,25 ‖ and/or 0,25 ‖ and/or 0,25 ‖ and/or 0,25 ‖ and/or 0,25 ‖ and/or 0,00 ‖ and/or 0,25 ‖ and/or 0,25 ‖ and/or 0,25 ‖ and/or 0,25 ‖ and/or 0,25 ‖ and/or 48 ‖ and/or 0,00 ‖ and/or 0,00 ‖ and/or 0,00 ‖ and/or 0,00 ‖ and/or 0,00 ‖ and/or 0,00 ‖ and/or 0,00 ‖ and/or 0,00 ‖ and/or 0,00 ‖ and/or 0,00 ‖ and/or 0,00 ‖ and/or 0,25 ‖ and/or 0,25 ‖ and/or 0,25 ‖ and/or 0,00 ‖ and/or 0,25 ‖ and/or 0,00 ‖ and/or 0,25 ‖ and/or 0,00 ‖ and/or 0,25 ‖ and/or 0,00 ‖ and/or 0,25 ‖ and/or 0,25 ‖ and/or 0,25 ‖ and/or 0,25 ‖ and/or 49 ‖ and/or 0,00 ‖ and/or 0,00 ‖ and/or 0,00 ‖ and/or 0,00 ‖ and/or 0,00 ‖ and/or 0,00 ‖ and/or 0,00 ‖ and/or 0,00 ‖ and/or 0,00 ‖ and/or 0,00 ‖ and/or 0,00 ‖ and/or 0,00 ‖ and/or 0,25 ‖ and/or 0,25 ‖ and/or 0,00 ‖ and/or 0,25 ‖ and/or 0,00 ‖ and/or 0,25 ‖ and/or 0,00 ‖ and/or 0,25 ‖ and/or 0,00 ‖ and/or 0,25 ‖ and/or 0,25 ‖ and/or 0,25 ‖ and/or 0,25 ‖ and/or 50 ‖ and/or 0,25 ‖ and/or 0,00 ‖ and/or 0,25 ‖ and/or 0,00 ‖ and/or 0,00 ‖ and/or 0,00 ‖ and/or 0,00 ‖ and/or 0,00 ‖ and/or 0,00 ‖ and/or 0,00 ‖ and/or 0,00 ‖ and/or 0,25 ‖ and/or 0,25 ‖ and/or 0,25 ‖ and/or 0,00 ‖ and/or 0,25 ‖ and/or 0,25 ‖ and/or 0,25 ‖ and/or 0,25 ‖ and/or 0,25 ‖ and/or 0,25 ‖ and/or 0,25 ‖ and/or 0,25 ‖ and/or 0,25 ‖ and/or 0,25 ‖ and/or j ‖ and/or i ‖ and/or 26 ‖ and/or 27 ‖ and/or 28 ‖ and/or 29 ‖ and/or 30 ‖ and/or 31 ‖ and/or 32 ‖ and/or 33 ‖ and/or 34 ‖ and/or 35 ‖ and/or 36 ‖ and/or 37 ‖ and/or 38 ‖ and/or 39 ‖ and/or 40 ‖ and/or 41 ‖ and/or 42 ‖ and/or 43 ‖ and/or 44 ‖ and/or 45 ‖ and/or 46 ‖ and/or 47 ‖ and/or 48 ‖ and/or 49 ‖ and/or 50 ‖ and/or 26 ‖ and/or 1,00 ‖ and/or 0,25 ‖ and/or 0,50 ‖ and/or 0,25 ‖ and/or 0,25 ‖ and/or 0,25 ‖ and/or 0,25 ‖ and/or 0,25 ‖ and/or 0,00 ‖ and/or 0,25 ‖ and/or 0,00 ‖ and/or 0,00 ‖ and/or 0,00 ‖ and/or 0,25 ‖ and/or 0,25 ‖ and/or 0,00 ‖ and/or 0,00 ‖ and/or 0,00 ‖ and/or 0,25 ‖ and/or 0,25 ‖ and/or 0,25 ‖ and/or 0,25 ‖ and/or 0,25 ‖ and/or 0,25 ‖ and/or 0,25 ‖ and/or 27 ‖ and/or 0,25 ‖ and/or 1,00 ‖ and/or 0,25 ‖ and/or 0,25 ‖ and/or 0,50 ‖ and/or 0,25 ‖ and/or 0,25 ‖ and/or 0,25 ‖ and/or 0,25 ‖ and/or 0,25 ‖ and/or 0,25 ‖ and/or 0,25 ‖ and/or 0,25 ‖ and/or 0,00 ‖ and/or 0,25 ‖ and/or 0,25 ‖ and/or 0,25 ‖ and/or 0,25 ‖ and/or 0,25 ‖ and/or 0,25 ‖ and/or 0,25 ‖ and/or 0,25 ‖ and/or 0,25 ‖ and/or 0,25 ‖ and/or 0,50 ‖ and/or 28 ‖ and/or 0,50 ‖ and/or 0,25 ‖ and/or 1,00 ‖ and/or 0,50 ‖ and/or 0,50 ‖ and/or 0,25 ‖ and/or 0,25 ‖ and/or 0,25 ‖ and/or 0,00 ‖ and/or 0,25 ‖ and/or 0,00 ‖ and/or 0,00 ‖ and/or 0,00 ‖ and/or 0,25 ‖ and/or 0,25 ‖ and/or 0,00 ‖ and/or 0,25 ‖ and/or 0,00 ‖ and/or 0,25 ‖ and/or 0,25 ‖ and/or 0,25 ‖ and/or 0,25 ‖ and/or 0,25 ‖ and/or 0,25 ‖ and/or 0,25 ‖ and/or 29 ‖ and/or 0,25 ‖ and/or 0,25 ‖ and/or 0,50 ‖ and/or 1,00 ‖ and/or 0,25 ‖ and/or 0,25 ‖ and/or 0,25 ‖ and/or 0,25 ‖ and/or 0,00 ‖ and/or 0,25 ‖ and/or 0,00 ‖ and/or 0,00 ‖ and/or 0,00 ‖ and/or 0,25 ‖ and/or 0,25 ‖ and/or 0,00 ‖ and/or 0,00 ‖ and/or 0,00 ‖ and/or 0,25 ‖ and/or 0,25 ‖ and/or 0,25 ‖ and/or 0,25 ‖ and/or 0,25 ‖ and/or 0,25 ‖ and/or 0,25 ‖ and/or 30 ‖ and/or 0,25 ‖ and/or 0,50 ‖ and/or 0,50 ‖ and/or 0,25 ‖ and/or 1,00 ‖ and/or 0,50 ‖ and/or 0,50 ‖ and/or 0,50 ‖ and/or 0,00 ‖ and/or 0,25 ‖ and/or 0,25 ‖ and/or 0,25 ‖ and/or 0,25 ‖ and/or 0,00 ‖ and/or 0,25 ‖ and/or 0,25 ‖ and/or 0,25 ‖ and/or 0,25 ‖ and/or 0,25 ‖ and/or 0,50 ‖ and/or 0,50 ‖ and/or 0,25 ‖ and/or 0,25 ‖ and/or 0,50 ‖ and/or 0,50 ‖ and/or 31 ‖ and/or 0,25 ‖ and/or 0,25 ‖ and/or 0,25 ‖ and/or 0,25 ‖ and/or 0,50 ‖ and/or 1,00 ‖ and/or 0,50 ‖ and/or 0,50 ‖ and/or 0,00 ‖ and/or 0,25 ‖ and/or 0,00 ‖ and/or 0,25 ‖ and/or 0,00 ‖ and/or 0,25 ‖ and/or 0,25 ‖ and/or 0,00 ‖ and/or 0,00 ‖ and/or 0,00 ‖ and/or 0,25 ‖ and/or 0,25 ‖ and/or 0,25 ‖ and/or 0,25 ‖ and/or 0,25 ‖ and/or 0,25 ‖ and/or 0,50 ‖ and/or 32 ‖ and/or 0,25 ‖ and/or 0,25 ‖ and/or 0,25 ‖ and/or 0,25 ‖ and/or 0,50 ‖ and/or 0,50 ‖ and/or 1,00 ‖ and/or 0,50 ‖ and/or 0,25 ‖ and/or 0,25 ‖ and/or 0,25 ‖ and/or 0,25 ‖ and/or 0,25 ‖ and/or 0,25 ‖ and/or 0,25 ‖ and/or 0,25 ‖ and/or 0,25 ‖ and/or 0,25 ‖ and/or 0,25 ‖ and/or 0,25 ‖ and/or 0,25 ‖ and/or 0,25 ‖ and/or 0,25 ‖ and/or 0,25 ‖ and/or 0,50 ‖ and/or 33 ‖ and/or 0,25 ‖ and/or 0,25 ‖ and/or 0,25 ‖ and/or 0,25 ‖ and/or 0,50 ‖ and/or 0,50 ‖ and/or 0,50 ‖ and/or 1,00 ‖ and/or 0,00 ‖ and/or 0,25 ‖ and/or 0,00 ‖ and/or 0,25 ‖ and/or 0,25 ‖ and/or 0,25 ‖ and/or 0,25 ‖ and/or 0,00 ‖ and/or 0,25 ‖ and/or 0,00 ‖ and/or 0,25 ‖ and/or 0,25 ‖ and/or 0,25 ‖ and/or 0,25 ‖ and/or 0,25 ‖ and/or 0,25 ‖ and/or 0,50 ‖ and/or 34 ‖ and/or 0,00 ‖ and/or 0,25 ‖ and/or 0,00 ‖ and/or 0,00 ‖ and/or 0,00 ‖ and/or 0,00 ‖ and/or 0,25 ‖ and/or 0,00 ‖ and/or 1,00 ‖ and/or 0,50 ‖ and/or 0,50 ‖ and/or 0,25 ‖ and/or 0,25 ‖ and/or 0,25 ‖ and/or 0,25 ‖ and/or 0,50 ‖ and/or 0,25 ‖ and/or 0,25 ‖ and/or 0,00 ‖ and/or 0,25 ‖ and/or 0,00 ‖ and/or 0,00 ‖ and/or 0,25 ‖ and/or 0,25 ‖ and/or 0,25 ‖ and/or 35 ‖ and/or 0,25 ‖ and/or 0,25 ‖ and/or 0,25 ‖ and/or 0,25 ‖ and/or 0,25 ‖ and/or 0,25 ‖ and/or 0,25 ‖ and/or 0,25 ‖ and/or 0,50 ‖ and/or 1,00 ‖ and/or 0,50 ‖ and/or 0,25 ‖ and/or 0,25 ‖ and/or 0,25 ‖ and/or 0,25 ‖ and/or 0,25 ‖ and/or 0,25 ‖ and/or 0,25 ‖ and/or 0,25 ‖ and/or 0,25 ‖ and/or 0,25 ‖ and/or 0,25 ‖ and/or 0,25 ‖ and/or 0,25 ‖ and/or 0,25 ‖ and/or 36 ‖ and/or 0,00 ‖ and/or 0,25 ‖ and/or 0,00 ‖ and/or 0,00 ‖ and/or 0,25 ‖ and/or 0,00 ‖ and/or 0,25 ‖ and/or 0,00 ‖ and/or 0,50 ‖ and/or 0,50 ‖ and/or 1,00 ‖ and/or 0,25 ‖ and/or 0,25 ‖ and/or 0,50 ‖ and/or 0,25 ‖ and/or 0,25 ‖ and/or 0,25 ‖ and/or 0,25 ‖ and/or 0,25 ‖ and/or 0,25 ‖ and/or 0,25 ‖ and/or 0,00 ‖ and/or 0,25 ‖ and/or 0,25 ‖ and/or 0,25 ‖ and/or 37 ‖ and/or 0,00 ‖ and/or 0,25 ‖ and/or 0,00 ‖ and/or 0,00 ‖ and/or 0,25 ‖ and/or 0,25 ‖ and/or 0,25 ‖ and/or 0,25 ‖ and/or 0,25 ‖ and/or 0,25 ‖ and/or 0,25 ‖ and/or 1,00 ‖ and/or 0,50 ‖ and/or 0,00 ‖ and/or 0,25 ‖ and/or 0,25 ‖ and/or 0,25 ‖ and/or 0,25 ‖ and/or 0,25 ‖ and/or 0,25 ‖ and/or 0,25 ‖ and/or 0,00 ‖ and/or 0,25 ‖ and/or 0,25 ‖ and/or 0,25 ‖ and/or 38 ‖ and/or 0,00 ‖ and/or 0,25 ‖ and/or 0,00 ‖ and/or 0,00 ‖ and/or 0,25 ‖ and/or 0,00 ‖ and/or 0,25 ‖ and/or 0,25 ‖ and/or 0,25 ‖ and/or 0,25 ‖ and/or 0,25 ‖ and/or 0,50 ‖ and/or 1,00 ‖ and/or 0,25 ‖ and/or 0,25 ‖ and/or 0,25 ‖ and/or 0,25 ‖ and/or 0,25 ‖ and/or 0,25 ‖ and/or 0,25 ‖ and/or 0,25 ‖ and/or 0,00 ‖ and/or 0,25 ‖ and/or 0,25 ‖ and/or 0,25 ‖ and/or 39 ‖ and/or 0,25 ‖ and/or 0,00 ‖ and/or 0,25 ‖ and/or 0,25 ‖ and/or 0,00 ‖ and/or 0,25 ‖ and/or 0,25 ‖ and/or 0,25 ‖ and/or 0,25 ‖ and/or 0,25 ‖ and/or 0,50 ‖ and/or 0,00 ‖ and/or 0,25 ‖ and/or 1,00 ‖ and/or 0,25 ‖ and/or 0,00 ‖ and/or 0,25 ‖ and/or 0,00 ‖ and/or 0,25 ‖ and/or 0,25 ‖ and/or 0,25 ‖ and/or 0,25 ‖ and/or 0,25 ‖ and/or 0,25 ‖ and/or 0,25 ‖ and/or 40 ‖ and/or 0,25 ‖ and/or 0,25 ‖ and/or 0,25 ‖ and/or 0,25 ‖ and/or 0,25 ‖ and/or 0,25 ‖ and/or 0,25 ‖ and/or 0,25 ‖ and/or 0,25 ‖ and/or 0,25 ‖ and/or 0,25 ‖ and/or 0,25 ‖ and/or 0,25 ‖ and/or 0,25 ‖ and/or 1,00 ‖ and/or 0,50 ‖ and/or 0,50 ‖ and/or 0,50 ‖ and/or 0,50 ‖ and/or 0,50 ‖ and/or 0,50 ‖ and/or 0,25 ‖ and/or 0,50 ‖ and/or 0,50 ‖ and/or 0,50 ‖ and/or 41 ‖ and/or 0,00 ‖ and/or 0,25 ‖ and/or 0,00 ‖ and/or 0,00 ‖ and/or 0,25 ‖ and/or 0,00 ‖ and/or 0,25 ‖ and/or 0,00 ‖ and/or 0,50 ‖ and/or 0,25 ‖ and/or 0,25 ‖ and/or 0,25 ‖ and/or 0,25 ‖ and/or 0,00 ‖ and/or 0,50 ‖ and/or 1,00 ‖ and/or 0,50 ‖ and/or 0,50 ‖ and/or 0,25 ‖ and/or 0,25 ‖ and/or 0,25 ‖ and/or 0,00 ‖ and/or 0,25 ‖ and/or 0,50 ‖ and/or 0,25 ‖ and/or 42 ‖ and/or 0,00 ‖ and/or 0,25 ‖ and/or 0,25 ‖ and/or 0,00 ‖ and/or 0,25 ‖ and/or 0,00 ‖ and/or 0,25 ‖ and/or 0,25 ‖ and/or 0,25 ‖ and/or 0,25 ‖ and/or 0,25 ‖ and/or 0,25 ‖ and/or 0,25 ‖ and/or 0,25 ‖ and/or 0,50 ‖ and/or 0,50 ‖ and/or 1,00 ‖ and/or 0,50 ‖ and/or 0,25 ‖ and/or 0,50 ‖ and/or 0,50 ‖ and/or 0,25 ‖ and/or 0,50 ‖ and/or 0,50 ‖ and/or 0,50 ‖ and/or 43 ‖ and/or 0,00 ‖ and/or 0,25 ‖ and/or 0,00 ‖ and/or 0,00 ‖ and/or 0,25 ‖ and/or 0,00 ‖ and/or 0,25 ‖ and/or 0,00 ‖ and/or 0,25 ‖ and/or 0,25 ‖ and/or 0,25 ‖ and/or 0,25 ‖ and/or 0,25 ‖ and/or 0,00 ‖ and/or 0,50 ‖ and/or 0,50 ‖ and/or 0,50 ‖ and/or 1,00 ‖ and/or 0,25 ‖ and/or 0,25 ‖ and/or 0,25 ‖ and/or 0,25 ‖ and/or 0,50 ‖ and/or 0,50 ‖ and/or 0,50 ‖ and/or 44 ‖ and/or 0,25 ‖ and/or 0,25 ‖ and/or 0,25 ‖ and/or 0,25 ‖ and/or 0,25 ‖ and/or 0,25 ‖ and/or 0,25 ‖ and/or 0,25 ‖ and/or 0,00 ‖ and/or 0,25 ‖ and/or 0,25 ‖ and/or 0,25 ‖ and/or 0,25 ‖ and/or 0,25 ‖ and/or 0,50 ‖ and/or 0,25 ‖ and/or 0,25 ‖ and/or 0,25 ‖ and/or 1,00 ‖ and/or 0,75 ‖ and/or 0,75 ‖ and/or 0,75 ‖ and/or 0,50 ‖ and/or 0,75 ‖ and/or 0,75 ‖ and/or 45 ‖ and/or 0,25 ‖ and/or 0,25 ‖ and/or 0,25 ‖ and/or 0,25 ‖ and/or 0,50 ‖ and/or 0,25 ‖ and/or 0,25 ‖ and/or 0,25 ‖ and/or 0,25 ‖ and/or 0,25 ‖ and/or 0,25 ‖ and/or 0,25 ‖ and/or 0,25 ‖ and/or 0,25 ‖ and/or 0,50 ‖ and/or 0,25 ‖ and/or 0,50 ‖ and/or 0,25 ‖ and/or 0,75 ‖ and/or 1,00 ‖ and/or 0,75 ‖ and/or 0,75 ‖ and/or 0,50 ‖ and/or 0,75 ‖ and/or 0,75 ‖ and/or 46 ‖ and/or 0,25 ‖ and/or 0,25 ‖ and/or 0,25 ‖ and/or 0,25 ‖ and/or 0,50 ‖ and/or 0,25 ‖ and/or 0,25 ‖ and/or 0,25 ‖ and/or 0,00 ‖ and/or 0,25 ‖ and/or 0,25 ‖ and/or 0,25 ‖ and/or 0,25 ‖ and/or 0,25 ‖ and/or 0,50 ‖ and/or 0,25 ‖ and/or 0,50 ‖ and/or 0,25 ‖ and/or 0,75 ‖ and/or 0,75 ‖ and/or 1,00 ‖ and/or 0,75 ‖ and/or 0,75 ‖ and/or 0,75 ‖ and/or 0,75 ‖ and/or 47 ‖ and/or 0,25 ‖ and/or 0,25 ‖ and/or 0,25 ‖ and/or 0,25 ‖ and/or 0,25 ‖ and/or 0,25 ‖ and/or 0,25 ‖ and/or 0,25 ‖ and/or 0,00 ‖ and/or 0,25 ‖ and/or 0,00 ‖ and/or 0,00 ‖ and/or 0,00 ‖ and/or 0,25 ‖ and/or 0,25 ‖ and/or 0,00 ‖ and/or 0,25 ‖ and/or 0,25 ‖ and/or 0,75 ‖ and/or 0,75 ‖ and/or 0,75 ‖ and/or 1,00 ‖ and/or 0,50 ‖ and/or 0,50 ‖ and/or 0,50 ‖ and/or 48 ‖ and/or 0,25 ‖ and/or 0,25 ‖ and/or 0,25 ‖ and/or 0,25 ‖ and/or 0,25 ‖ and/or 0,25 ‖ and/or 0,25 ‖ and/or 0,25 ‖ and/or 0,25 ‖ and/or 0,25 ‖ and/or 0,25 ‖ and/or 0,25 ‖ and/or 0,25 ‖ and/or 0,25 ‖ and/or 0,50 ‖ and/or 0,25 ‖ and/or 0,50 ‖ and/or 0,50 ‖ and/or 0,50 ‖ and/or 0,50 ‖ and/or 0,75 ‖ and/or 0,50 ‖ and/or 1,00 ‖ and/or 0,75 ‖ and/or 0,50 ‖ and/or 49 ‖ and/or 0,25 ‖ and/or 0,25 ‖ and/or 0,25 ‖ and/or 0,25 ‖ and/or 0,50 ‖ and/or 0,25 ‖ and/or 0,25 ‖ and/or 0,25 ‖ and/or 0,25 ‖ and/or 0,25 ‖ and/or 0,25 ‖ and/or 0,25 ‖ and/or 0,25 ‖ and/or 0,25 ‖ and/or 0,50 ‖ and/or 0,50 ‖ and/or 0,50 ‖ and/or 0,50 ‖ and/or 0,75 ‖ and/or 0,75 ‖ and/or 0,75 ‖ and/or 0,50 ‖ and/or 0,75 ‖ and/or 1,00 ‖ and/or 0,75 ‖ and/or 50 ‖ and/or 0,25 ‖ and/or 0,50 ‖ and/or 0,25 ‖ and/or 0,25 ‖ and/or 0,50 ‖ and/or 0,50 ‖ and/or 0,50 ‖ and/or 0,50 ‖ and/or 0,25 ‖ and/or 0,25 ‖ and/or 0,25 ‖ and/or 0,25 ‖ and/or 0,25 ‖ and/or 0,25 ‖ and/or 0,50 ‖ and/or 0,25 ‖ and/or 0,50 ‖ and/or 0,50 ‖ and/or 0,75 ‖ and/or 0,75 ‖ and/or 0,75 ‖ and/or 0,50 ‖ and/or 0,50 ‖ and/or 0,75 ‖ and/or 1,00 ‖ and/or j ‖ and/or i ‖ and/or 51 ‖ and/or 52 ‖ and/or 53 ‖ and/or 54 ‖ and/or 55 ‖ and/or 56 ‖ and/or 57 ‖ and/or 58 ‖ and/or 59 ‖ and/or 60 ‖ and/or 61 ‖ and/or 62 ‖ and/or 63 ‖ and/or 64 ‖ and/or 65 ‖ and/or 66 ‖ and/or 67 ‖ and/or 68 ‖ and/or 69 ‖ and/or 70 ‖ and/or 26 ‖ and/or 0,00 ‖ and/or 0,00 ‖ and/or 0,25 ‖ and/or 0,25 ‖ and/or 0,25 ‖ and/or 0,25 ‖ and/or 0,25 ‖ and/or 0,00 ‖ and/or 0,00 ‖ and/or 0,00 ‖ and/or 0,00 ‖ and/or 0,00 ‖ and/or 0,00 ‖ and/or 0,00 ‖ and/or 0,00 ‖ and/or 0,00 ‖ and/or 0,00 ‖ and/or 0,00 ‖ and/or 0,00 ‖ and/or 0,00 ‖ and/or 27 ‖ and/or 0,25 ‖ and/or 0,25 ‖ and/or 0,25 ‖ and/or 0,25 ‖ and/or 0,25 ‖ and/or 0,25 ‖ and/or 0,25 ‖ and/or 0,25 ‖ and/or 0,25 ‖ and/or 0,00 ‖ and/or 0,00 ‖ and/or 0,00 ‖ and/or 0,00 ‖ and/or 0,00 ‖ and/or 0,00 ‖ and/or 0,00 ‖ and/or 0,25 ‖ and/or 0,25 ‖ and/or 0,00 ‖ and/or 0,00 ‖ and/or 28 ‖ and/or 0,00 ‖ and/or 0,25 ‖ and/or 0,25 ‖ and/or 0,25 ‖ and/or 0,25 ‖ and/or 0,25 ‖ and/or 0,25 ‖ and/or 0,00 ‖ and/or 0,00 ‖ and/or 0,00 ‖ and/or 0,00 ‖ and/or 0,00 ‖ and/or 0,00 ‖ and/or 0,00 ‖ and/or 0,00 ‖ and/or 0,00 ‖ and/or 0,00 ‖ and/or 0,00 ‖ and/or 0,25 ‖ and/or 0,00 ‖ and/or 29 ‖ and/or 0,00 ‖ and/or 0,00 ‖ and/or 0,25 ‖ and/or 0,00 ‖ and/or 0,25 ‖ and/or 0,00 ‖ and/or 0,00 ‖ and/or 0,00 ‖ and/or 0,00 ‖ and/or 0,00 ‖ and/or 0,00 ‖ and/or 0,00 ‖ and/or 0,00 ‖ and/or 0,00 ‖ and/or 0,00 ‖ and/or 0,00 ‖ and/or 0,00 ‖ and/or 0,00 ‖ and/or 0,00 ‖ and/or 0,00 ‖ and/or 30 ‖ and/or 0,25 ‖ and/or 0,25 ‖ and/or 0,25 ‖ and/or 0,25 ‖ and/or 0,25 ‖ and/or 0,25 ‖ and/or 0,25 ‖ and/or 0,25 ‖ and/or 0,25 ‖ and/or 0,00 ‖ and/or 0,00 ‖ and/or 0,00 ‖ and/or 0,00 ‖ and/or 0,00 ‖ and/or 0,00 ‖ and/or 0,00 ‖ and/or 0,25 ‖ and/or 0,25 ‖ and/or 0,00 ‖ and/or 0,00 ‖ and/or 31 ‖ and/or 0,00 ‖ and/or 0,00 ‖ and/or 0,25 ‖ and/or 0,00 ‖ and/or 0,25 ‖ and/or 0,00 ‖ and/or 0,00 ‖ and/or 0,00 ‖ and/or 0,00 ‖ and/or 0,00 ‖ and/or 0,00 ‖ and/or 0,00 ‖ and/or 0,00 ‖ and/or 0,00 ‖ and/or 0,00 ‖ and/or 0,00 ‖ and/or 0,00 ‖ and/or 0,00 ‖ and/or 0,00 ‖ and/or 0,00 ‖ and/or 32 ‖ and/or 0,25 ‖ and/or 0,25 ‖ and/or 0,25 ‖ and/or 0,25 ‖ and/or 0,25 ‖ and/or 0,25 ‖ and/or 0,25 ‖ and/or 0,25 ‖ and/or 0,25 ‖ and/or 0,00 ‖ and/or 0,00 ‖ and/or 0,00 ‖ and/or 0,00 ‖ and/or 0,00 ‖ and/or 0,00 ‖ and/or 0,00 ‖ and/or 0,25 ‖ and/or 0,25 ‖ and/or 0,25 ‖ and/or 0,00 ‖ and/or 33 ‖ and/or 0,00 ‖ and/or 0,25 ‖ and/or 0,25 ‖ and/or 0,25 ‖ and/or 0,25 ‖ and/or 0,25 ‖ and/or 0,25 ‖ and/or 0,00 ‖ and/or 0,00 ‖ and/or 0,00 ‖ and/or 0,00 ‖ and/or 0,00 ‖ and/or 0,00 ‖ and/or 0,00 ‖ and/or 0,00 ‖ and/or 0,00 ‖ and/or 0,00 ‖ and/or 0,00 ‖ and/or 0,00 ‖ and/or 0,00 ‖ and/or 34 ‖ and/or 0,25 ‖ and/or 0,25 ‖ and/or 0,00 ‖ and/or 0,00 ‖ and/or 0,25 ‖ and/or 0,25 ‖ and/or 0,25 ‖ and/or 0,00 ‖ and/or 0,25 ‖ and/or 0,00 ‖ and/or 0,00 ‖ and/or 0,00 ‖ and/or 0,00 ‖ and/or 0,00 ‖ and/or 0,25 ‖ and/or 0,00 ‖ and/or 0,00 ‖ and/or 0,25 ‖ and/or 0,00 ‖ and/or 0,00 ‖ and/or 35 ‖ and/or 0,25 ‖ and/or 0,25 ‖ and/or 0,25 ‖ and/or 0,25 ‖ and/or 0,25 ‖ and/or 0,25 ‖ and/or 0,25 ‖ and/or 0,25 ‖ and/or 0,25 ‖ and/or 0,00 ‖ and/or 0,00 ‖ and/or 0,00 ‖ and/or 0,00 ‖ and/or 0,00 ‖ and/or 0,00 ‖ and/or 0,00 ‖ and/or 0,25 ‖ and/or 0,25 ‖ and/or 0,25 ‖ and/or 0,00 ‖ and/or 36 ‖ and/or 0,25 ‖ and/or 0,25 ‖ and/or 0,25 ‖ and/or 0,25 ‖ and/or 0,25 ‖ and/or 0,25 ‖ and/or 0,25 ‖ and/or 0,25 ‖ and/or 0,25 ‖ and/or 0,00 ‖ and/or 0,00 ‖ and/or 0,00 ‖ and/or 0,00 ‖ and/or 0,00 ‖ and/or 0,00 ‖ and/or 0,25 ‖ and/or 0,25 ‖ and/or 0,25 ‖ and/or 0,00 ‖ and/or 0,00 ‖ and/or 37 ‖ and/or 0,25 ‖ and/or 0,25 ‖ and/or 0,25 ‖ and/or 0,25 ‖ and/or 0,25 ‖ and/or 0,25 ‖ and/or 0,25 ‖ and/or 0,25 ‖ and/or 0,25 ‖ and/or 0,00 ‖ and/or 0,00 ‖ and/or 0,00 ‖ and/or 0,00 ‖ and/or 0,00 ‖ and/or 0,00 ‖ and/or 0,00 ‖ and/or 0,25 ‖ and/or 0,25 ‖ and/or 0,00 ‖ and/or 0,00 ‖ and/or 38 ‖ and/or 0,25 ‖ and/or 0,25 ‖ and/or 0,25 ‖ and/or 0,25 ‖ and/or 0,25 ‖ and/or 0,25 ‖ and/or 0,25 ‖ and/or 0,25 ‖ and/or 0,25 ‖ and/or 0,00 ‖ and/or 0,00 ‖ and/or 0,00 ‖ and/or 0,00 ‖ and/or 0,00 ‖ and/or 0,00 ‖ and/or 0,00 ‖ and/or 0,00 ‖ and/or 0,25 ‖ and/or 0,00 ‖ and/or 0,00 ‖ and/or 39 ‖ and/or 0,00 ‖ and/or 0,00 ‖ and/or 0,25 ‖ and/or 0,25 ‖ and/or 0,25 ‖ and/or 0,25 ‖ and/or 0,25 ‖ and/or 0,00 ‖ and/or 0,00 ‖ and/or 0,00 ‖ and/or 0,00 ‖ and/or 0,00 ‖ and/or 0,00 ‖ and/or 0,00 ‖ and/or 0,00 ‖ and/or 0,00 ‖ and/or 0,00 ‖ and/or 0,00 ‖ and/or 0,25 ‖ and/or 0,00 ‖ and/or 40 ‖ and/or 0,50 ‖ and/or 0,25 ‖ and/or 0,25 ‖ and/or 0,25 ‖ and/or 0,50 ‖ and/or 0,25 ‖ and/or 0,25 ‖ and/or 0,25 ‖ and/or 0,25 ‖ and/or 0,00 ‖ and/or 0,00 ‖ and/or 0,00 ‖ and/or 0,00 ‖ and/or 0,00 ‖ and/or 0,00 ‖ and/or 0,25 ‖ and/or 0,25 ‖ and/or 0,25 ‖ and/or 0,25 ‖ and/or 0,00 ‖ and/or 41 ‖ and/or 0,50 ‖ and/or 0,25 ‖ and/or 0,25 ‖ and/or 0,25 ‖ and/or 0,25 ‖ and/or 0,25 ‖ and/or 0,25 ‖ and/or 0,00 ‖ and/or 0,25 ‖ and/or 0,00 ‖ and/or 0,00 ‖ and/or 0,00 ‖ and/or 0,00 ‖ and/or 0,00 ‖ and/or 0,25 ‖ and/or 0,00 ‖ and/or 0,00 ‖ and/or 0,25 ‖ and/or 0,00 ‖ and/or 0,00 ‖ and/or 42 ‖ and/or 0,50 ‖ and/or 0,25 ‖ and/or 0,25 ‖ and/or 0,25 ‖ and/or 0,50 ‖ and/or 0,25 ‖ and/or 0,25 ‖ and/or 0,25 ‖ and/or 0,25 ‖ and/or 0,00 ‖ and/or 0,00 ‖ and/or 0,00 ‖ and/or 0,00 ‖ and/or 0,00 ‖ and/or 0,00 ‖ and/or 0,25 ‖ and/or 0,25 ‖ and/or 0,25 ‖ and/or 0,25 ‖ and/or 0,00 ‖ and/or 43 ‖ and/or 0,50 ‖ and/or 0,25 ‖ and/or 0,25 ‖ and/or 0,25 ‖ and/or 0,25 ‖ and/or 0,25 ‖ and/or 0,25 ‖ and/or 0,25 ‖ and/or 0,25 ‖ and/or 0,00 ‖ and/or 0,00 ‖ and/or 0,00 ‖ and/or 0,00 ‖ and/or 0,00 ‖ and/or 0,00 ‖ and/or 0,25 ‖ and/or 0,25 ‖ and/or 0,25 ‖ and/or 0,00 ‖ and/or 0,00 ‖ and/or 44 ‖ and/or 0,75 ‖ and/or 0,50 ‖ and/or 0,75 ‖ and/or 0,50 ‖ and/or 0,50 ‖ and/or 0,50 ‖ and/or 0,50 ‖ and/or 0,25 ‖ and/or 0,25 ‖ and/or 0,25 ‖ and/or 0,25 ‖ and/or 0,25 ‖ and/or 0,25 ‖ and/or 0,25 ‖ and/or 0,00 ‖ and/or 0,25 ‖ and/or 0,25 ‖ and/or 0,25 ‖ and/or 0,25 ‖ and/or 0,00 ‖ and/or 45 ‖ and/or 0,75 ‖ and/or 0,50 ‖ and/or 0,75 ‖ and/or 0,50 ‖ and/or 0,50 ‖ and/or 0,50 ‖ and/or 0,50 ‖ and/or 0,25 ‖ and/or 0,25 ‖ and/or 0,00 ‖ and/or 0,00 ‖ and/or 0,25 ‖ and/or 0,00 ‖ and/or 0,25 ‖ and/or 0,00 ‖ and/or 0,25 ‖ and/or 0,25 ‖ and/or 0,25 ‖ and/or 0,25 ‖ and/or 0,00 ‖ and/or 46 ‖ and/or 0,75 ‖ and/or 0,50 ‖ and/or 0,75 ‖ and/or 0,50 ‖ and/or 0,50 ‖ and/or 0,50 ‖ and/or 0,50 ‖ and/or 0,25 ‖ and/or 0,25 ‖ and/or 0,25 ‖ and/or 0,25 ‖ and/or 0,25 ‖ and/or 0,25 ‖ and/or 0,25 ‖ and/or 0,00 ‖ and/or 0,25 ‖ and/or 0,25 ‖ and/or 0,25 ‖ and/or 0,25 ‖ and/or 0,00 ‖ and/or 47 ‖ and/or 0,50 ‖ and/or 0,50 ‖ and/or 0,75 ‖ and/or 0,50 ‖ and/or 0,50 ‖ and/or 0,50 ‖ and/or 0,25 ‖ and/or 0,25 ‖ and/or 0,25 ‖ and/or 0,25 ‖ and/or 0,25 ‖ and/or 0,25 ‖ and/or 0,25 ‖ and/or 0,25 ‖ and/or 0,00 ‖ and/or 0,00 ‖ and/or 0,25 ‖ and/or 0,25 ‖ and/or 0,25 ‖ and/or 0,00 ‖ and/or 48 ‖ and/or 0,75 ‖ and/or 0,50 ‖ and/or 0,50 ‖ and/or 0,25 ‖ and/or 0,50 ‖ and/or 0,50 ‖ and/or 0,50 ‖ and/or 0,25 ‖ and/or 0,25 ‖ and/or 0,00 ‖ and/or 0,00 ‖ and/or 0,00 ‖ and/or 0,00 ‖ and/or 0,25 ‖ and/or 0,00 ‖ and/or 0,25 ‖ and/or 0,25 ‖ and/or 0,25 ‖ and/or 0,25 ‖ and/or 0,00 ‖ and/or 49 ‖ and/or 0,50 ‖ and/or 0,50 ‖ and/or 0,50 ‖ and/or 0,50 ‖ and/or 0,50 ‖ and/or 0,50 ‖ and/or 0,50 ‖ and/or 0,25 ‖ and/or 0,25 ‖ and/or 0,00 ‖ and/or 0,00 ‖ and/or 0,00 ‖ and/or 0,00 ‖ and/or 0,25 ‖ and/or 0,00 ‖ and/or 0,25 ‖ and/or 0,25 ‖ and/or 0,25 ‖ and/or 0,25 ‖ and/or 0,00 ‖ and/or 50 ‖ and/or 0,50 ‖ and/or 0,50 ‖ and/or 0,50 ‖ and/or 0,50 ‖ and/or 0,50 ‖ and/or 0,50 ‖ and/or 0,50 ‖ and/or 0,25 ‖ and/or 0,25 ‖ and/or 0,00 ‖ and/or 0,00 ‖ and/or 0,25 ‖ and/or 0,25 ‖ and/or 0,25 ‖ and/or 0,00 ‖ and/or 0,25 ‖ and/or 0,25 ‖ and/or 0,25 ‖ and/or 0,25 ‖ and/or 0,00 ‖ and/or j ‖ and/or i ‖ and/or 1 ‖ and/or 2 ‖ and/or 3 ‖ and/or 4 ‖ and/or 5 ‖ and/or 6 ‖ and/or 7 ‖ and/or 8 ‖ and/or 9 ‖ and/or 10 ‖ and/or 11 ‖ and/or 12 ‖ and/or 13 ‖ and/or 14 ‖ and/or 15 ‖ and/or 16 ‖ and/or 17 ‖ and/or 18 ‖ and/or 19 ‖ and/or 20 ‖ and/or 21 ‖ and/or 22 ‖ and/or 23 ‖ and/or 24 ‖ and/or 25 ‖ and/or 51 ‖ and/or 0,00 ‖ and/or 0,00 ‖ and/or 0,00 ‖ and/or 0,00 ‖ and/or 0,00 ‖ and/or 0,00 ‖ and/or 0,00 ‖ and/or 0,00 ‖ and/or 0,00 ‖ and/or 0,00 ‖ and/or 0,00 ‖ and/or 0,00 ‖ and/or 0,25 ‖ and/or 0,00 ‖ and/or 0,00 ‖ and/or 0,00 ‖ and/or 0,00 ‖ and/or 0,00 ‖ and/or 0,00 ‖ and/or 0,00 ‖ and/or 0,00 ‖ and/or 0,00 ‖ and/or 0,00 ‖ and/or 0,25 ‖ and/or 0,00 ‖ and/or 52 ‖ and/or 0,00 ‖ and/or 0,00 ‖ and/or 0,00 ‖ and/or 0,00 ‖ and/or 0,00 ‖ and/or 0,00 ‖ and/or 0,00 ‖ and/or 0,00 ‖ and/or 0,00 ‖ and/or 0,00 ‖ and/or 0,00 ‖ and/or 0,00 ‖ and/or 0,25 ‖ and/or 0,25 ‖ and/or 0,00 ‖ and/or 0,25 ‖ and/or 0,00 ‖ and/or 0,00 ‖ and/or 0,00 ‖ and/or 0,00 ‖ and/or 0,00 ‖ and/or 0,00 ‖ and/or 0,00 ‖ and/or 0,25 ‖ and/or 0,25 ‖ and/or 53 ‖ and/or 0,25 ‖ and/or 0,25 ‖ and/or 0,25 ‖ and/or 0,25 ‖ and/or 0,00 ‖ and/or 0,00 ‖ and/or 0,25 ‖ and/or 0,25 ‖ and/or 0,00 ‖ and/or 0,00 ‖ and/or 0,25 ‖ and/or 0,25 ‖ and/or 0,25 ‖ and/or 0,25 ‖ and/or 0,25 ‖ and/or 0,25 ‖ and/or 0,25 ‖ and/or 0,25 ‖ and/or 0,25 ‖ and/or 0,25 ‖ and/or 0,25 ‖ and/or 0,25 ‖ and/or 0,25 ‖ and/or 0,25 ‖ and/or 0,25 ‖ and/or 54 ‖ and/or 0,00 ‖ and/or 0,00 ‖ and/or 0,00 ‖ and/or 0,00 ‖ and/or 0,00 ‖ and/or 0,00 ‖ and/or 0,00 ‖ and/or 0,00 ‖ and/or 0,00 ‖ and/or 0,00 ‖ and/or 0,00 ‖ and/or 0,00 ‖ and/or 0,25 ‖ and/or 0,25 ‖ and/or 0,00 ‖ and/or 0,25 ‖ and/or 0,00 ‖ and/or 0,00 ‖ and/or 0,00 ‖ and/or 0,00 ‖ and/or 0,00 ‖ and/or 0,00 ‖ and/or 0,25 ‖ and/or 0,25 ‖ and/or 0,25 ‖ and/or 55 ‖ and/or 0,00 ‖ and/or 0,00 ‖ and/or 0,25 ‖ and/or 0,00 ‖ and/or 0,00 ‖ and/or 0,00 ‖ and/or 0,00 ‖ and/or 0,00 ‖ and/or 0,00 ‖ and/or 0,00 ‖ and/or 0,00 ‖ and/or 0,25 ‖ and/or 0,25 ‖ and/or 0,25 ‖ and/or 0,00 ‖ and/or 0,25 ‖ and/or 0,00 ‖ and/or 0,25 ‖ and/or 0,00 ‖ and/or 0,25 ‖ and/or 0,00 ‖ and/or 0,25 ‖ and/or 0,25 ‖ and/or 0,25 ‖ and/or 0,25 ‖ and/or 56 ‖ and/or 0,00 ‖ and/or 0,00 ‖ and/or 0,00 ‖ and/or 0,00 ‖ and/or 0,00 ‖ and/or 0,00 ‖ and/or 0,00 ‖ and/or 0,00 ‖ and/or 0,00 ‖ and/or 0,00 ‖ and/or 0,00 ‖ and/or 0,00 ‖ and/or 0,25 ‖ and/or 0,25 ‖ and/or 0,00 ‖ and/or 0,25 ‖ and/or 0,00 ‖ and/or 0,00 ‖ and/or 0,00 ‖ and/or 0,25 ‖ and/or 0,00 ‖ and/or 0,25 ‖ and/or 0,00 ‖ and/or 0,25 ‖ and/or 0,25 ‖ and/or 57 ‖ and/or 0,00 ‖ and/or 0,00 ‖ and/or 0,00 ‖ and/or 0,00 ‖ and/or 0,00 ‖ and/or 0,00 ‖ and/or 0,00 ‖ and/or 0,00 ‖ and/or 0,00 ‖ and/or 0,00 ‖ and/or 0,00 ‖ and/or 0,00 ‖ and/or 0,25 ‖ and/or 0,25 ‖ and/or 0,00 ‖ and/or 0,25 ‖ and/or 0,00 ‖ and/or 0,00 ‖ and/or 0,00 ‖ and/or 0,25 ‖ and/or 0,00 ‖ and/or 0,25 ‖ and/or 0,25 ‖ and/or 0,25 ‖ and/or 0,25 ‖ and/or 58 ‖ and/or 0,00 ‖ and/or 0,00 ‖ and/or 0,00 ‖ and/or 0,00 ‖ and/or 0,00 ‖ and/or 0,00 ‖ and/or 0,00 ‖ and/or 0,00 ‖ and/or 0,00 ‖ and/or 0,00 ‖ and/or 0,00 ‖ and/or 0,00 ‖ and/or 0,25 ‖ and/or 0,25 ‖ and/or 0,00 ‖ and/or 0,25 ‖ and/or 0,00 ‖ and/or 0,00 ‖ and/or 0,00 ‖ and/or 0,00 ‖ and/or 0,00 ‖ and/or 0,00 ‖ and/or 0,00 ‖ and/or 0,25 ‖ and/or 0,25 ‖ and/or 59 ‖ and/or 0,00 ‖ and/or 0,00 ‖ and/or 0,00 ‖ and/or 0,00 ‖ and/or 0,00 ‖ and/or 0,00 ‖ and/or 0,00 ‖ and/or 0,00 ‖ and/or 0,00 ‖ and/or 0,00 ‖ and/or 0,00 ‖ and/or 0,00 ‖ and/or 0,25 ‖ and/or 0,25 ‖ and/or 0,00 ‖ and/or 0,25 ‖ and/or 0,00 ‖ and/or 0,00 ‖ and/or 0,00 ‖ and/or 0,00 ‖ and/or 0,00 ‖ and/or 0,00 ‖ and/or 0,00 ‖ and/or 0,25 ‖ and/or 0,25 ‖ and/or 60 ‖ and/or 0,00 ‖ and/or 0,00 ‖ and/or 0,00 ‖ and/or 0,00 ‖ and/or 0,00 ‖ and/or 0,00 ‖ and/or 0,00 ‖ and/or 0,00 ‖ and/or 0,00 ‖ and/or 0,00 ‖ and/or 0,00 ‖ and/or 0,00 ‖ and/or 0,00 ‖ and/or 0,00 ‖ and/or 0,00 ‖ and/or 0,00 ‖ and/or 0,00 ‖ and/or 0,00 ‖ and/or 0,00 ‖ and/or 0,00 ‖ and/or 0,00 ‖ and/or 0,00 ‖ and/or 0,00 ‖ and/or 0,00 ‖ and/or 0,00 ‖ and/or 61 ‖ and/or 0,25 ‖ and/or 0,00 ‖ and/or 0,25 ‖ and/or 0,00 ‖ and/or 0,00 ‖ and/or 0,00 ‖ and/or 0,00 ‖ and/or 0,00 ‖ and/or 0,00 ‖ and/or 0,00 ‖ and/or 0,00 ‖ and/or 0,25 ‖ and/or 0,00 ‖ and/or 0,00 ‖ and/or 0,00 ‖ and/or 0,00 ‖ and/or 0,00 ‖ and/or 0,00 ‖ and/or 0,00 ‖ and/or 0,00 ‖ and/or 0,00 ‖ and/or 0,00 ‖ and/or 0,00 ‖ and/or 0,00 ‖ and/or 0,00 ‖ and/or 62 ‖ and/or 0,00 ‖ and/or 0,00 ‖ and/or 0,00 ‖ and/or 0,00 ‖ and/or 0,00 ‖ and/or 0,00 ‖ and/or 0,00 ‖ and/or 0,00 ‖ and/or 0,00 ‖ and/or 0,00 ‖ and/or 0,00 ‖ and/or 0,00 ‖ and/or 0,00 ‖ and/or 0,00 ‖ and/or 0,00 ‖ and/or 0,00 ‖ and/or 0,00 ‖ and/or 0,00 ‖ and/or 0,00 ‖ and/or 0,00 ‖ and/or 0,00 ‖ and/or 0,00 ‖ and/or 0,00 ‖ and/or 0,00 ‖ and/or 0,00 ‖ and/or 63 ‖ and/or 0,00 ‖ and/or 0,00 ‖ and/or 0,00 ‖ and/or 0,00 ‖ and/or 0,00 ‖ and/or 0,00 ‖ and/or 0,00 ‖ and/or 0,00 ‖ and/or 0,00 ‖ and/or 0,00 ‖ and/or 0,00 ‖ and/or 0,25 ‖ and/or 0,00 ‖ and/or 0,25 ‖ and/or 0,00 ‖ and/or 0,00 ‖ and/or 0,00 ‖ and/or 0,00 ‖ and/or 0,00 ‖ and/or 0,00 ‖ and/or 0,00 ‖ and/or 0,00 ‖ and/or 0,00 ‖ and/or 0,00 ‖ and/or 0,00 ‖ and/or 64 ‖ and/or 0,00 ‖ and/or 0,00 ‖ and/or 0,00 ‖ and/or 0,00 ‖ and/or 0,00 ‖ and/or 0,00 ‖ and/or 0,00 ‖ and/or 0,00 ‖ and/or 0,00 ‖ and/or 0,00 ‖ and/or 0,00 ‖ and/or 0,25 ‖ and/or 0,00 ‖ and/or 0,25 ‖ and/or 0,00 ‖ and/or 0,00 ‖ and/or 0,00 ‖ and/or 0,00 ‖ and/or 0,00 ‖ and/or 0,00 ‖ and/or 0,00 ‖ and/or 0,00 ‖ and/or 0,00 ‖ and/or 0,00 ‖ and/or 0,00 ‖ and/or 65 ‖ and/or 0,00 ‖ and/or 0,00 ‖ and/or 0,00 ‖ and/or 0,00 ‖ and/or 0,00 ‖ and/or 0,00 ‖ and/or 0,00 ‖ and/or 0,00 ‖ and/or 0,00 ‖ and/or 0,00 ‖ and/or 0,25 ‖ and/or 0,25 ‖ and/or 0,25 ‖ and/or 0,50 ‖ and/or 0,25 ‖ and/or 0,25 ‖ and/or 0,25 ‖ and/or 0,00 ‖ and/or 0,00 ‖ and/or 0,00 ‖ and/or 0,00 ‖ and/or 0,00 ‖ and/or 0,00 ‖ and/or 0,00 ‖ and/or 0,00 ‖ and/or 66 ‖ and/or 0,00 ‖ and/or 0,00 ‖ and/or 0,00 ‖ and/or 0,00 ‖ and/or 0,00 ‖ and/or 0,00 ‖ and/or 0,00 ‖ and/or 0,00 ‖ and/or 0,00 ‖ and/or 0,00 ‖ and/or 0,00 ‖ and/or 0,00 ‖ and/or 0,00 ‖ and/or 0,00 ‖ and/or 0,00 ‖ and/or 0,00 ‖ and/or 0,00 ‖ and/or 0,00 ‖ and/or 0,00 ‖ and/or 0,00 ‖ and/or 0,00 ‖ and/or 0,00 ‖ and/or 0,00 ‖ and/or 0,00 ‖ and/or 0,00 ‖ and/or 67 ‖ and/or 0,00 ‖ and/or 0,00 ‖ and/or 0,00 ‖ and/or 0,00 ‖ and/or 0,00 ‖ and/or 0,00 ‖ and/or 0,00 ‖ and/or 0,00 ‖ and/or 0,00 ‖ and/or 0,00 ‖ and/or 0,00 ‖ and/or 0,00 ‖ and/or 0,25 ‖ and/or 0,25 ‖ and/or 0,00 ‖ and/or 0,00 ‖ and/or 0,00 ‖ and/or 0,00 ‖ and/or 0,00 ‖ and/or 0,00 ‖ and/or 0,00 ‖ and/or 0,00 ‖ and/or 0,00 ‖ and/or 0,25 ‖ and/or 0,25 ‖ and/or 68 ‖ and/or 0,00 ‖ and/or 0,00 ‖ and/or 0,00 ‖ and/or 0,00 ‖ and/or 0,00 ‖ and/or 0,00 ‖ and/or 0,00 ‖ and/or 0,00 ‖ and/or 0,00 ‖ and/or 0,00 ‖ and/or 0,00 ‖ and/or 0,00 ‖ and/or 0,25 ‖ and/or 0,25 ‖ and/or 0,00 ‖ and/or 0,00 ‖ and/or 0,00 ‖ and/or 0,00 ‖ and/or 0,00 ‖ and/or 0,00 ‖ and/or 0,00 ‖ and/or 0,00 ‖ and/or 0,00 ‖ and/or 0,25 ‖ and/or 0,25 ‖ and/or 69 ‖ and/or 0,25 ‖ and/or 0,25 ‖ and/or 0,25 ‖ and/or 0,25 ‖ and/or 0,25 ‖ and/or 0,25 ‖ and/or 0,25 ‖ and/or 0,25 ‖ and/or 0,25 ‖ and/or 0,25 ‖ and/or 0,25 ‖ and/or 0,25 ‖ and/or 0,25 ‖ and/or 0,25 ‖ and/or 0,00 ‖ and/or 0,25 ‖ and/or 0,00 ‖ and/or 0,00 ‖ and/or 0,00 ‖ and/or 0,00 ‖ and/or 0,00 ‖ and/or 0,00 ‖ and/or 0,25 ‖ and/or 0,00 ‖ and/or 0,25 ‖ and/or 70 ‖ and/or 0,00 ‖ and/or 0,00 ‖ and/or 0,00 ‖ and/or 0,00 ‖ and/or 0,00 ‖ and/or 0,00 ‖ and/or 0,00 ‖ and/or 0,00 ‖ and/or 0,00 ‖ and/or 0,00 ‖ and/or 0,00 ‖ and/or 0,00 ‖ and/or 0,00 ‖ and/or 0,00 ‖ and/or 0,00 ‖ and/or 0,00 ‖ and/or 0,00 ‖ and/or 0,00 ‖ and/or 0,00 ‖ and/or 0,00 ‖ and/or 0,00 ‖ and/or 0,00 ‖ and/or 0,00 ‖ and/or 0,00 ‖ and/or 0,00 ‖ and/or j ‖ and/or i ‖ and/or 26 ‖ and/or 27 ‖ and/or 28 ‖ and/or 29 ‖ and/or 30 ‖ and/or 31 ‖ and/or 32 ‖ and/or 33 ‖ and/or 34 ‖ and/or 35 ‖ and/or 36 ‖ and/or 37 ‖ and/or 38 ‖ and/or 39 ‖ and/or 40 ‖ and/or 41 ‖ and/or 42 ‖ and/or 43 ‖ and/or 44 ‖ and/or 45 ‖ and/or 46 ‖ and/or 47 ‖ and/or 48 ‖ and/or 49 ‖ and/or 50 ‖ and/or 51 ‖ and/or 0,00 ‖ and/or 0,25 ‖ and/or 0,00 ‖ and/or 0,00 ‖ and/or 0,25 ‖ and/or 0,00 ‖ and/or 0,25 ‖ and/or 0,00 ‖ and/or 0,25 ‖ and/or 0,25 ‖ and/or 0,25 ‖ and/or 0,25 ‖ and/or 0,25 ‖ and/or 0,00 ‖ and/or 0,50 ‖ and/or 0,50 ‖ and/or 0,50 ‖ and/or 0,50 ‖ and/or 0,75 ‖ and/or 0,75 ‖ and/or 0,75 ‖ and/or 0,50 ‖ and/or 0,75 ‖ and/or 0,50 ‖ and/or 0,50 ‖ and/or 52 ‖ and/or 0,00 ‖ and/or 0,25 ‖ and/or 0,25 ‖ and/or 0,00 ‖ and/or 0,25 ‖ and/or 0,00 ‖ and/or 0,25 ‖ and/or 0,25 ‖ and/or 0,25 ‖ and/or 0,25 ‖ and/or 0,25 ‖ and/or 0,25 ‖ and/or 0,25 ‖ and/or 0,00 ‖ and/or 0,25 ‖ and/or 0,25 ‖ and/or 0,25 ‖ and/or 0,25 ‖ and/or 0,50 ‖ and/or 0,50 ‖ and/or 0,50 ‖ and/or 0,50 ‖ and/or 0,50 ‖ and/or 0,50 ‖ and/or 0,50 ‖ and/or 53 ‖ and/or 0,25 ‖ and/or 0,25 ‖ and/or 0,25 ‖ and/or 0,25 ‖ and/or 0,25 ‖ and/or 0,25 ‖ and/or 0,25 ‖ and/or 0,25 ‖ and/or 0,00 ‖ and/or 0,25 ‖ and/or 0,25 ‖ and/or 0,25 ‖ and/or 0,25 ‖ and/or 0,25 ‖ and/or 0,25 ‖ and/or 0,25 ‖ and/or 0,25 ‖ and/or 0,25 ‖ and/or 0,75 ‖ and/or 0,75 ‖ and/or 0,75 ‖ and/or 0,75 ‖ and/or 0,50 ‖ and/or 0,50 ‖ and/or 0,50 ‖ and/or 54 ‖ and/or 0,25 ‖ and/or 0,25 ‖ and/or 0,25 ‖ and/or 0,00 ‖ and/or 0,25 ‖ and/or 0,00 ‖ and/or 0,25 ‖ and/or 0,25 ‖ and/or 0,00 ‖ and/or 0,25 ‖ and/or 0,25 ‖ and/or 0,25 ‖ and/or 0,25 ‖ and/or 0,25 ‖ and/or 0,25 ‖ and/or 0,25 ‖ and/or 0,25 ‖ and/or 0,25 ‖ and/or 0,50 ‖ and/or 0,50 ‖ and/or 0,50 ‖ and/or 0,50 ‖ and/or 0,25 ‖ and/or 0,50 ‖ and/or 0,50 ‖ and/or 55 ‖ and/or 0,25 ‖ and/or 0,25 ‖ and/or 0,25 ‖ and/or 0,25 ‖ and/or 0,25 ‖ and/or 0,25 ‖ and/or 0,25 ‖ and/or 0,25 ‖ and/or 0,25 ‖ and/or 0,25 ‖ and/or 0,25 ‖ and/or 0,25 ‖ and/or 0,25 ‖ and/or 0,25 ‖ and/or 0,50 ‖ and/or 0,25 ‖ and/or 0,50 ‖ and/or 0,25 ‖ and/or 0,50 ‖ and/or 0,50 ‖ and/or 0,50 ‖ and/or 0,50 ‖ and/or 0,50 ‖ and/or 0,50 ‖ and/or 0,50 ‖ and/or 56 ‖ and/or 0,25 ‖ and/or 0,25 ‖ and/or 0,25 ‖ and/or 0,00 ‖ and/or 0,25 ‖ and/or 0,00 ‖ and/or 0,25 ‖ and/or 0,25 ‖ and/or 0,25 ‖ and/or 0,25 ‖ and/or 0,25 ‖ and/or 0,25 ‖ and/or 0,25 ‖ and/or 0,25 ‖ and/or 0,25 ‖ and/or 0,25 ‖ and/or 0,25 ‖ and/or 0,25 ‖ and/or 0,50 ‖ and/or 0,50 ‖ and/or 0,50 ‖ and/or 0,50 ‖ and/or 0,50 ‖ and/or 0,50 ‖ and/or 0,50 ‖ and/or 57 ‖ and/or 0,25 ‖ and/or 0,25 ‖ and/or 0,25 ‖ and/or 0,00 ‖ and/or 0,25 ‖ and/or 0,00 ‖ and/or 0,25 ‖ and/or 0,25 ‖ and/or 0,25 ‖ and/or 0,25 ‖ and/or 0,25 ‖ and/or 0,25 ‖ and/or 0,25 ‖ and/or 0,25 ‖ and/or 0,25 ‖ and/or 0,25 ‖ and/or 0,25 ‖ and/or 0,25 ‖ and/or 0,50 ‖ and/or 0,50 ‖ and/or 0,50 ‖ and/or 0,25 ‖ and/or 0,50 ‖ and/or 0,50 ‖ and/or 0,50 ‖ and/or 58 ‖ and/or 0,00 ‖ and/or 0,25 ‖ and/or 0,00 ‖ and/or 0,00 ‖ and/or 0,25 ‖ and/or 0,00 ‖ and/or 0,25 ‖ and/or 0,00 ‖ and/or 0,00 ‖ and/or 0,25 ‖ and/or 0,25 ‖ and/or 0,25 ‖ and/or 0,25 ‖ and/or 0,00 ‖ and/or 0,25 ‖ and/or 0,00 ‖ and/or 0,25 ‖ and/or 0,25 ‖ and/or 0,25 ‖ and/or 0,25 ‖ and/or 0,25 ‖ and/or 0,25 ‖ and/or 0,25 ‖ and/or 0,25 ‖ and/or 0,25 ‖ and/or 59 ‖ and/or 0,00 ‖ and/or 0,25 ‖ and/or 0,00 ‖ and/or 0,00 ‖ and/or 0,25 ‖ and/or 0,00 ‖ and/or 0,25 ‖ and/or 0,00 ‖ and/or 0,25 ‖ and/or 0,25 ‖ and/or 0,25 ‖ and/or 0,25 ‖ and/or 0,25 ‖ and/or 0,00 ‖ and/or 0,25 ‖ and/or 0,25 ‖ and/or 0,25 ‖ and/or 0,25 ‖ and/or 0,25 ‖ and/or 0,25 ‖ and/or 0,25 ‖ and/or 0,25 ‖ and/or 0,25 ‖ and/or 0,25 ‖ and/or 0,25 ‖ and/or 60 ‖ and/or 0,00 ‖ and/or 0,00 ‖ and/or 0,00 ‖ and/or 0,00 ‖ and/or 0,00 ‖ and/or 0,00 ‖ and/or 0,00 ‖ and/or 0,00 ‖ and/or 0,00 ‖ and/or 0,00 ‖ and/or 0,00 ‖ and/or 0,00 ‖ and/or 0,00 ‖ and/or 0,00 ‖ and/or 0,00 ‖ and/or 0,00 ‖ and/or 0,00 ‖ and/or 0,00 ‖ and/or 0,25 ‖ and/or 0,00 ‖ and/or 0,25 ‖ and/or 0,25 ‖ and/or 0,00 ‖ and/or 0,00 ‖ and/or 0,00 ‖ and/or 61 ‖ and/or 0,00 ‖ and/or 0,00 ‖ and/or 0,00 ‖ and/or 0,00 ‖ and/or 0,00 ‖ and/or 0,00 ‖ and/or 0,00 ‖ and/or 0,00 ‖ and/or 0,00 ‖ and/or 0,00 ‖ and/or 0,00 ‖ and/or 0,00 ‖ and/or 0,00 ‖ and/or 0,00 ‖ and/or 0,00 ‖ and/or 0,00 ‖ and/or 0,00 ‖ and/or 0,00 ‖ and/or 0,25 ‖ and/or 0,00 ‖ and/or 0,25 ‖ and/or 0,25 ‖ and/or 0,00 ‖ and/or 0,00 ‖ and/or 0,00 ‖ and/or 62 ‖ and/or 0,00 ‖ and/or 0,00 ‖ and/or 0,00 ‖ and/or 0,00 ‖ and/or 0,00 ‖ and/or 0,00 ‖ and/or 0,00 ‖ and/or 0,00 ‖ and/or 0,00 ‖ and/or 0,00 ‖ and/or 0,00 ‖ and/or 0,00 ‖ and/or 0,00 ‖ and/or 0,00 ‖ and/or 0,00 ‖ and/or 0,00 ‖ and/or 0,00 ‖ and/or 0,00 ‖ and/or 0,25 ‖ and/or 0,25 ‖ and/or 0,25 ‖ and/or 0,25 ‖ and/or 0,00 ‖ and/or 0,00 ‖ and/or 0,25 ‖ and/or 63 ‖ and/or 0,00 ‖ and/or 0,00 ‖ and/or 0,00 ‖ and/or 0,00 ‖ and/or 0,00 ‖ and/or 0,00 ‖ and/or 0,00 ‖ and/or 0,00 ‖ and/or 0,00 ‖ and/or 0,00 ‖ and/or 0,00 ‖ and/or 0,00 ‖ and/or 0,00 ‖ and/or 0,00 ‖ and/or 0,00 ‖ and/or 0,00 ‖ and/or 0,00 ‖ and/or 0,00 ‖ and/or 0,25 ‖ and/or 0,00 ‖ and/or 0,25 ‖ and/or 0,25 ‖ and/or 0,00 ‖ and/or 0,00 ‖ and/or 0,25 ‖ and/or 64 ‖ and/or 0,00 ‖ and/or 0,00 ‖ and/or 0,00 ‖ and/or 0,00 ‖ and/or 0,00 ‖ and/or 0,00 ‖ and/or 0,00 ‖ and/or 0,00 ‖ and/or 0,00 ‖ and/or 0,00 ‖ and/or 0,00 ‖ and/or 0,00 ‖ and/or 0,00 ‖ and/or 0,00 ‖ and/or 0,00 ‖ and/or 0,00 ‖ and/or 0,00 ‖ and/or 0,00 ‖ and/or 0,25 ‖ and/or 0,25 ‖ and/or 0,25 ‖ and/or 0,25 ‖ and/or 0,25 ‖ and/or 0,25 ‖ and/or 0,25 ‖ and/or 65 ‖ and/or 0,00 ‖ and/or 0,00 ‖ and/or 0,00 ‖ and/or 0,00 ‖ and/or 0,00 ‖ and/or 0,00 ‖ and/or 0,00 ‖ and/or 0,00 ‖ and/or 0,25 ‖ and/or 0,00 ‖ and/or 0,00 ‖ and/or 0,00 ‖ and/or 0,00 ‖ and/or 0,00 ‖ and/or 0,00 ‖ and/or 0,25 ‖ and/or 0,00 ‖ and/or 0,00 ‖ and/or 0,00 ‖ and/or 0,00 ‖ and/or 0,00 ‖ and/or 0,00 ‖ and/or 0,00 ‖ and/or 0,00 ‖ and/or 0,00 ‖ and/or 66 ‖ and/or 0,00 ‖ and/or 0,00 ‖ and/or 0,00 ‖ and/or 0,00 ‖ and/or 0,00 ‖ and/or 0,00 ‖ and/or 0,00 ‖ and/or 0,00 ‖ and/or 0,00 ‖ and/or 0,00 ‖ and/or 0,25 ‖ and/or 0,00 ‖ and/or 0,00 ‖ and/or 0,00 ‖ and/or 0,25 ‖ and/or 0,00 ‖ and/or 0,25 ‖ and/or 0,25 ‖ and/or 0,25 ‖ and/or 0,25 ‖ and/or 0,25 ‖ and/or 0,00 ‖ and/or 0,25 ‖ and/or 0,25 ‖ and/or 0,25 ‖ and/or 67 ‖ and/or 0,00 ‖ and/or 0,25 ‖ and/or 0,00 ‖ and/or 0,00 ‖ and/or 0,25 ‖ and/or 0,00 ‖ and/or 0,25 ‖ and/or 0,00 ‖ and/or 0,00 ‖ and/or 0,25 ‖ and/or 0,25 ‖ and/or 0,25 ‖ and/or 0,00 ‖ and/or 0,00 ‖ and/or 0,25 ‖ and/or 0,00 ‖ and/or 0,25 ‖ and/or 0,25 ‖ and/or 0,25 ‖ and/or 0,25 ‖ and/or 0,25 ‖ and/or 0,25 ‖ and/or 0,25 ‖ and/or 0,25 ‖ and/or 0,25 ‖ and/or 68 ‖ and/or 0,00 ‖ and/or 0,25 ‖ and/or 0,00 ‖ and/or 0,00 ‖ and/or 0,25 ‖ and/or 0,00 ‖ and/or 0,25 ‖ and/or 0,00 ‖ and/or 0,25 ‖ and/or 0,25 ‖ and/or 0,25 ‖ and/or 0,25 ‖ and/or 0,25 ‖ and/or 0,00 ‖ and/or 0,25 ‖ and/or 0,25 ‖ and/or 0,25 ‖ and/or 0,25 ‖ and/or 0,25 ‖ and/or 0,25 ‖ and/or 0,25 ‖ and/or 0,25 ‖ and/or 0,25 ‖ and/or 0,25 ‖ and/or 0,25 ‖ and/or 69 ‖ and/or 0,00 ‖ and/or 0,00 ‖ and/or 0,25 ‖ and/or 0,00 ‖ and/or 0,00 ‖ and/or 0,00 ‖ and/or 0,25 ‖ and/or 0,00 ‖ and/or 0,00 ‖ and/or 0,25 ‖ and/or 0,00 ‖ and/or 0,00 ‖ and/or 0,00 ‖ and/or 0,25 ‖ and/or 0,25 ‖ and/or 0,00 ‖ and/or 0,25 ‖ and/or 0,00 ‖ and/or 0,25 ‖ and/or 0,25 ‖ and/or 0,25 ‖ and/or 0,25 ‖ and/or 0,25 ‖ and/or 0,25 ‖ and/or 0,25 ‖ and/or 70 ‖ and/or 0,00 ‖ and/or 0,00 ‖ and/or 0,00 ‖ and/or 0,00 ‖ and/or 0,00 ‖ and/or 0,00 ‖ and/or 0,00 ‖ and/or 0,00 ‖ and/or 0,00 ‖ and/or 0,00 ‖ and/or 0,00 ‖ and/or 0,00 ‖ and/or 0,00 ‖ and/or 0,00 ‖ and/or 0,00 ‖ and/or 0,00 ‖ and/or 0,00 ‖ and/or 0,00 ‖ and/or 0,00 ‖ and/or 0,00 ‖ and/or 0,00 ‖ and/or 0,00 ‖ and/or 0,00 ‖ and/or 0,00 ‖ and/or 0,00 ‖ and/or j ‖ and/or i ‖ and/or 51 ‖ and/or 52 ‖ and/or 53 ‖ and/or 54 ‖ and/or 55 ‖ and/or 56 ‖ and/or 57 ‖ and/or 58 ‖ and/or 59 ‖ and/or 60 ‖ and/or 61 ‖ and/or 62 ‖ and/or 63 ‖ and/or 64 ‖ and/or 65 ‖ and/or 66 ‖ and/or 67 ‖ and/or 68 ‖ and/or 69 ‖ and/or 70 ‖ and/or 51 ‖ and/or 1,00 ‖ and/or 0,50 ‖ and/or 0,50 ‖ and/or 0,50 ‖ and/or 0,50 ‖ and/or 0,50 ‖ and/or 0,50 ‖ and/or 0,25 ‖ and/or 0,50 ‖ and/or 0,00 ‖ and/or 0,00 ‖ and/or 0,00 ‖ and/or 0,00 ‖ and/or 0,00 ‖ and/or 0,25 ‖ and/or 0,25 ‖ and/or 0,25 ‖ and/or 0,25 ‖ and/or 0,00 ‖ and/or 0,00 ‖ and/or 52 ‖ and/or 0,50 ‖ and/or 1,00 ‖ and/or 0,50 ‖ and/or 0,50 ‖ and/or 0,50 ‖ and/or 0,75 ‖ and/or 0,50 ‖ and/or 0,25 ‖ and/or 0,50 ‖ and/or 0,00 ‖ and/or 0,00 ‖ and/or 0,00 ‖ and/or 0,00 ‖ and/or 0,00 ‖ and/or 0,00 ‖ and/or 0,25 ‖ and/or 0,25 ‖ and/or 0,25 ‖ and/or 0,25 ‖ and/or 0,00 ‖ and/or 53 ‖ and/or 0,50 ‖ and/or 0,50 ‖ and/or 1,00 ‖ and/or 0,50 ‖ and/or 0,50 ‖ and/or 0,50 ‖ and/or 0,50 ‖ and/or 0,25 ‖ and/or 0,25 ‖ and/or 0,25 ‖ and/or 0,25 ‖ and/or 0,25 ‖ and/or 0,25 ‖ and/or 0,25 ‖ and/or 0,00 ‖ and/or 0,25 ‖ and/or 0,25 ‖ and/or 0,25 ‖ and/or 0,25 ‖ and/or 0,00 ‖ and/or 54 ‖ and/or 0,50 ‖ and/or 0,50 ‖ and/or 0,50 ‖ and/or 1,00 ‖ and/or 0,75 ‖ and/or 0,75 ‖ and/or 0,75 ‖ and/or 0,25 ‖ and/or 0,50 ‖ and/or 0,00 ‖ and/or 0,00 ‖ and/or 0,00 ‖ and/or 0,00 ‖ and/or 0,00 ‖ and/or 0,00 ‖ and/or 0,25 ‖ and/or 0,25 ‖ and/or 0,25 ‖ and/or 0,25 ‖ and/or 0,00 ‖ and/or 55 ‖ and/or 0,50 ‖ and/or 0,50 ‖ and/or 0,50 ‖ and/or 0,75 ‖ and/or 1,00 ‖ and/or 0,75 ‖ and/or 0,75 ‖ and/or 0,50 ‖ and/or 0,50 ‖ and/or 0,00 ‖ and/or 0,00 ‖ and/or 0,25 ‖ and/or 0,00 ‖ and/or 0,25 ‖ and/or 0,00 ‖ and/or 0,25 ‖ and/or 0,25 ‖ and/or 0,50 ‖ and/or 0,25 ‖ and/or 0,00 ‖ and/or 56 ‖ and/or 0,50 ‖ and/or 0,75 ‖ and/or 0,50 ‖ and/or 0,75 ‖ and/or 0,75 ‖ and/or 1,00 ‖ and/or 0,75 ‖ and/or 0,50 ‖ and/or 0,50 ‖ and/or 0,00 ‖ and/or 0,00 ‖ and/or 0,00 ‖ and/or 0,00 ‖ and/or 0,25 ‖ and/or 0,00 ‖ and/or 0,25 ‖ and/or 0,25 ‖ and/or 0,25 ‖ and/or 0,25 ‖ and/or 0,00 ‖ and/or 57 ‖ and/or 0,50 ‖ and/or 0,50 ‖ and/or 0,50 ‖ and/or 0,75 ‖ and/or 0,75 ‖ and/or 0,75 ‖ and/or 1,00 ‖ and/or 0,50 ‖ and/or 0,75 ‖ and/or 0,00 ‖ and/or 0,00 ‖ and/or 0,00 ‖ and/or 0,00 ‖ and/or 0,25 ‖ and/or 0,00 ‖ and/or 0,25 ‖ and/or 0,25 ‖ and/or 0,25 ‖ and/or 0,25 ‖ and/or 0,00 ‖ and/or 58 ‖ and/or 0,25 ‖ and/or 0,25 ‖ and/or 0,25 ‖ and/or 0,25 ‖ and/or 0,50 ‖ and/or 0,50 ‖ and/or 0,50 ‖ and/or 1,00 ‖ and/or 0,50 ‖ and/or 0,00 ‖ and/or 0,00 ‖ and/or 0,00 ‖ and/or 0,00 ‖ and/or 0,00 ‖ and/or 0,00 ‖ and/or 0,25 ‖ and/or 0,25 ‖ and/or 0,25 ‖ and/or 0,25 ‖ and/or 0,00 ‖ and/or 59 ‖ and/or 0,50 ‖ and/or 0,50 ‖ and/or 0,25 ‖ and/or 0,50 ‖ and/or 0,50 ‖ and/or 0,50 ‖ and/or 0,75 ‖ and/or 0,50 ‖ and/or 1,00 ‖ and/or 0,00 ‖ and/or 0,00 ‖ and/or 0,00 ‖ and/or 0,00 ‖ and/or 0,00 ‖ and/or 0,25 ‖ and/or 0,25 ‖ and/or 0,25 ‖ and/or 0,25 ‖ and/or 0,00 ‖ and/or 0,00 ‖ and/or 60 ‖ and/or 0,00 ‖ and/or 0,00 ‖ and/or 0,25 ‖ and/or 0,00 ‖ and/or 0,00 ‖ and/or 0,00 ‖ and/or 0,00 ‖ and/or 0,00 ‖ and/or 0,00 ‖ and/or 1,00 ‖ and/or 0,50 ‖ and/or 0,25 ‖ and/or 0,25 ‖ and/or 0,25 ‖ and/or 0,25 ‖ and/or 0,00 ‖ and/or 0,00 ‖ and/or 0,00 ‖ and/or 0,25 ‖ and/or 0,00 ‖ and/or 61 ‖ and/or 0,00 ‖ and/or 0,00 ‖ and/or 0,25 ‖ and/or 0,00 ‖ and/or 0,00 ‖ and/or 0,00 ‖ and/or 0,00 ‖ and/or 0,00 ‖ and/or 0,00 ‖ and/or 0,50 ‖ and/or 1,00 ‖ and/or 0,25 ‖ and/or 0,25 ‖ and/or 0,25 ‖ and/or 0,25 ‖ and/or 0,00 ‖ and/or 0,00 ‖ and/or 0,00 ‖ and/or 0,25 ‖ and/or 0,00 ‖ and/or 62 ‖ and/or 0,00 ‖ and/or 0,00 ‖ and/or 0,25 ‖ and/or 0,00 ‖ and/or 0,25 ‖ and/or 0,00 ‖ and/or 0,00 ‖ and/or 0,00 ‖ and/or 0,00 ‖ and/or 0,25 ‖ and/or 0,25 ‖ and/or 1,00 ‖ and/or 0,00 ‖ and/or 0,25 ‖ and/or 0,25 ‖ and/or 0,00 ‖ and/or 0,00 ‖ and/or 0,00 ‖ and/or 0,25 ‖ and/or 0,00 ‖ and/or 63 ‖ and/or 0,00 ‖ and/or 0,00 ‖ and/or 0,25 ‖ and/or 0,00 ‖ and/or 0,00 ‖ and/or 0,00 ‖ and/or 0,00 ‖ and/or 0,00 ‖ and/or 0,00 ‖ and/or 0,25 ‖ and/or 0,25 ‖ and/or 0,00 ‖ and/or 1,00 ‖ and/or 0,25 ‖ and/or 0,25 ‖ and/or 0,00 ‖ and/or 0,00 ‖ and/or 0,00 ‖ and/or 0,25 ‖ and/or 0,00 ‖ and/or 64 ‖ and/or 0,00 ‖ and/or 0,00 ‖ and/or 0,25 ‖ and/or 0,00 ‖ and/or 0,25 ‖ and/or 0,25 ‖ and/or 0,25 ‖ and/or 0,00 ‖ and/or 0,00 ‖ and/or 0,25 ‖ and/or 0,25 ‖ and/or 0,25 ‖ and/or 0,25 ‖ and/or 1,00 ‖ and/or 0,25 ‖ and/or 0,00 ‖ and/or 0,00 ‖ and/or 0,00 ‖ and/or 0,25 ‖ and/or 0,00 ‖ and/or 65 ‖ and/or 0,25 ‖ and/or 0,00 ‖ and/or 0,00 ‖ and/or 0,00 ‖ and/or 0,00 ‖ and/or 0,00 ‖ and/or 0,00 ‖ and/or 0,00 ‖ and/or 0,25 ‖ and/or 0,25 ‖ and/or 0,25 ‖ and/or 0,25 ‖ and/or 0,25 ‖ and/or 0,25 ‖ and/or 1,00 ‖ and/or 0,00 ‖ and/or 0,00 ‖ and/or 0,00 ‖ and/or 0,00 ‖ and/or 0,00 ‖ and/or 66 ‖ and/or 0,25 ‖ and/or 0,25 ‖ and/or 0,25 ‖ and/or 0,25 ‖ and/or 0,25 ‖ and/or 0,25 ‖ and/or 0,25 ‖ and/or 0,25 ‖ and/or 0,25 ‖ and/or 0,00 ‖ and/or 0,00 ‖ and/or 0,00 ‖ and/or 0,00 ‖ and/or 0,00 ‖ and/or 0,00 ‖ and/or 1,00 ‖ and/or 0,25 ‖ and/or 0,25 ‖ and/or 0,00 ‖ and/or 0,00 ‖ and/or 67 ‖ and/or 0,25 ‖ and/or 0,25 ‖ and/or 0,25 ‖ and/or 0,25 ‖ and/or 0,25 ‖ and/or 0,25 ‖ and/or 0,25 ‖ and/or 0,25 ‖ and/or 0,25 ‖ and/or 0,00 ‖ and/or 0,00 ‖ and/or 0,00 ‖ and/or 0,00 ‖ and/or 0,00 ‖ and/or 0,00 ‖ and/or 0,25 ‖ and/or 1,00 ‖ and/or 0,25 ‖ and/or 0,25 ‖ and/or 0,00 ‖ and/or 68 ‖ and/or 0,25 ‖ and/or 0,25 ‖ and/or 0,25 ‖ and/or 0,25 ‖ and/or 0,50 ‖ and/or 0,25 ‖ and/or 0,25 ‖ and/or 0,25 ‖ and/or 0,25 ‖ and/or 0,00 ‖ and/or 0,00 ‖ and/or 0,00 ‖ and/or 0,00 ‖ and/or 0,00 ‖ and/or 0,00 ‖ and/or 0,25 ‖ and/or 0,25 ‖ and/or 1,00 ‖ and/or 0,25 ‖ and/or 0,00 ‖ and/or 69 ‖ and/or 0,00 ‖ and/or 0,25 ‖ and/or 0,25 ‖ and/or 0,25 ‖ and/or 0,25 ‖ and/or 0,25 ‖ and/or 0,25 ‖ and/or 0,25 ‖ and/or 0,00 ‖ and/or 0,25 ‖ and/or 0,25 ‖ and/or 0,25 ‖ and/or 0,25 ‖ and/or 0,25 ‖ and/or 0,00 ‖ and/or 0,00 ‖ and/or 0,25 ‖ and/or 0,25 ‖ and/or 1,00 ‖ and/or 0,00 ‖ and/or 70 ‖ and/or 0,00 ‖ and/or 0,00 ‖ and/or 0,00 ‖ and/or 0,00 ‖ and/or 0,00 ‖ and/or 0,00 ‖ and/or 0,00 ‖ and/or 0,00 ‖ and/or 0,00 ‖ and/or 0,00 ‖ and/or 0,00 ‖ and/or 0,00 ‖ and/or 0,00 ‖ and/or 0,00 ‖ and/or 0,00 ‖ and/or 0,00 ‖ and/or 0,00 ‖ and/or 0,00 ‖ and/or 0,00 ‖ and/or 1,00’❭ ‖ the section ‘Correlation coefficients for earthquake risk in the Republic of Romania’ is replaced by the following ‖ ‘Correlation coefficients for earthquake risk in the Republic of Romania ❬j ‖ and/or i ‖ and/or 01 ‖ and/or 03 ‖ and/or 04 ‖ and/or 05 ‖ and/or 06 ‖ and/or 07 ‖ and/or 08 ‖ and/or 09 ‖ and/or 10 ‖ and/or 12 ‖ and/or 13 ‖ and/or 14 ‖ and/or 17 ‖ and/or 18 ‖ and/or 19 ‖ and/or 20 ‖ and/or 21 ‖ and/or 22 ‖ and/or 23 ‖ and/or 24 ‖ and/or 01 ‖ and/or 1,00 ‖ and/or 0,50 ‖ and/or 0,25 ‖ and/or 0,00 ‖ and/or 0,75 ‖ and/or 1,00 ‖ and/or 0,75 ‖ and/or 0,25 ‖ and/or 0,50 ‖ and/or 0,00 ‖ and/or 0,50 ‖ and/or 0,25 ‖ and/or 1,00 ‖ and/or 0,75 ‖ and/or 0,25 ‖ and/or 0,25 ‖ and/or 0,50 ‖ and/or 0,25 ‖ and/or 0,50 ‖ and/or 0,50 ‖ and/or 03 ‖ and/or 0,50 ‖ and/or 1,00 ‖ and/or 0,00 ‖ and/or 0,00 ‖ and/or 0,25 ‖ and/or 0,75 ‖ and/or 0,00 ‖ and/or 0,00 ‖ and/or 0,00 ‖ and/or 0,00 ‖ and/or 0,25 ‖ and/or 0,00 ‖ and/or 0,75 ‖ and/or 0,25 ‖ and/or 0,00 ‖ and/or 0,00 ‖ and/or 0,00 ‖ and/or 0,00 ‖ and/or 0,00 ‖ and/or 0,25 ‖ and/or 04 ‖ and/or 0,25 ‖ and/or 0,00 ‖ and/or 1,00 ‖ and/or 0,75 ‖ and/or 0,00 ‖ and/or 0,25 ‖ and/or 0,75 ‖ and/or 0,75 ‖ and/or 0,50 ‖ and/or 0,50 ‖ and/or 0,00 ‖ and/or 0,25 ‖ and/or 0,50 ‖ and/or 0,25 ‖ and/or 0,75 ‖ and/or 0,75 ‖ and/or 0,75 ‖ and/or 0,50 ‖ and/or 0,75 ‖ and/or 0,50 ‖ and/or 05 ‖ and/or 0,00 ‖ and/or 0,00 ‖ and/or 0,75 ‖ and/or 1,00 ‖ and/or 0,00 ‖ and/or 0,25 ‖ and/or 1,00 ‖ and/or 0,75 ‖ and/or 0,50 ‖ and/or 0,75 ‖ and/or 0,00 ‖ and/or 0,25 ‖ and/or 0,25 ‖ and/or 0,00 ‖ and/or 1,00 ‖ and/or 0,75 ‖ and/or 0,50 ‖ and/or 1,00 ‖ and/or 0,50 ‖ and/or 0,25 ‖ and/or 06 ‖ and/or 0,75 ‖ and/or 0,25 ‖ and/or 0,00 ‖ and/or 0,00 ‖ and/or 1,00 ‖ and/or 0,75 ‖ and/or 0,25 ‖ and/or 0,00 ‖ and/or 0,00 ‖ and/or 0,00 ‖ and/or 0,25 ‖ and/or 0,00 ‖ and/or 0,75 ‖ and/or 0,25 ‖ and/or 0,00 ‖ and/or 0,00 ‖ and/or 0,25 ‖ and/or 0,00 ‖ and/or 0,00 ‖ and/or 0,25 ‖ and/or 07 ‖ and/or 1,00 ‖ and/or 0,75 ‖ and/or 0,25 ‖ and/or 0,25 ‖ and/or 0,75 ‖ and/or 1,00 ‖ and/or 0,75 ‖ and/or 0,25 ‖ and/or 0,50 ‖ and/or 0,00 ‖ and/or 0,75 ‖ and/or 0,25 ‖ and/or 1,00 ‖ and/or 0,75 ‖ and/or 0,25 ‖ and/or 0,25 ‖ and/or 0,50 ‖ and/or 0,25 ‖ and/or 0,50 ‖ and/or 0,50 ‖ and/or 08 ‖ and/or 0,75 ‖ and/or 0,00 ‖ and/or 0,75 ‖ and/or 1,00 ‖ and/or 0,25 ‖ and/or 0,75 ‖ and/or 1,00 ‖ and/or 0,75 ‖ and/or 0,75 ‖ and/or 0,50 ‖ and/or 0,00 ‖ and/or 0,50 ‖ and/or 0,50 ‖ and/or 0,50 ‖ and/or 0,75 ‖ and/or 0,75 ‖ and/or 0,75 ‖ and/or 0,75 ‖ and/or 0,75 ‖ and/or 0,75 ‖ and/or 09 ‖ and/or 0,25 ‖ and/or 0,00 ‖ and/or 0,75 ‖ and/or 0,75 ‖ and/or 0,00 ‖ and/or 0,25 ‖ and/or 0,75 ‖ and/or 1,00 ‖ and/or 0,50 ‖ and/or 1,00 ‖ and/or 0,00 ‖ and/or 0,50 ‖ and/or 0,50 ‖ and/or 0,50 ‖ and/or 0,75 ‖ and/or 1,00 ‖ and/or 0,75 ‖ and/or 1,00 ‖ and/or 0,75 ‖ and/or 0,25 ‖ and/or 10 ‖ and/or 0,50 ‖ and/or 0,00 ‖ and/or 0,50 ‖ and/or 0,50 ‖ and/or 0,00 ‖ and/or 0,50 ‖ and/or 0,75 ‖ and/or 0,50 ‖ and/or 1,00 ‖ and/or 0,25 ‖ and/or 0,00 ‖ and/or 0,25 ‖ and/or 0,50 ‖ and/or 0,25 ‖ and/or 0,50 ‖ and/or 0,50 ‖ and/or 0,50 ‖ and/or 0,50 ‖ and/or 0,50 ‖ and/or 0,25 ‖ and/or 12 ‖ and/or 0,00 ‖ and/or 0,00 ‖ and/or 0,50 ‖ and/or 0,75 ‖ and/or 0,00 ‖ and/or 0,00 ‖ and/or 0,50 ‖ and/or 1,00 ‖ and/or 0,25 ‖ and/or 1,00 ‖ and/or 0,00 ‖ and/or 0,25 ‖ and/or 0,25 ‖ and/or 0,25 ‖ and/or 0,75 ‖ and/or 0,75 ‖ and/or 0,50 ‖ and/or 0,75 ‖ and/or 0,75 ‖ and/or 0,25 ‖ and/or 13 ‖ and/or 0,50 ‖ and/or 0,25 ‖ and/or 0,00 ‖ and/or 0,00 ‖ and/or 0,25 ‖ and/or 0,75 ‖ and/or 0,00 ‖ and/or 0,00 ‖ and/or 0,00 ‖ and/or 0,00 ‖ and/or 1,00 ‖ and/or 0,00 ‖ and/or 0,50 ‖ and/or 0,25 ‖ and/or 0,00 ‖ and/or 0,00 ‖ and/or 0,00 ‖ and/or 0,00 ‖ and/or 0,00 ‖ and/or 0,00 ‖ and/or 14 ‖ and/or 0,25 ‖ and/or 0,00 ‖ and/or 0,25 ‖ and/or 0,25 ‖ and/or 0,00 ‖ and/or 0,25 ‖ and/or 0,50 ‖ and/or 0,50 ‖ and/or 0,25 ‖ and/or 0,25 ‖ and/or 0,00 ‖ and/or 1,00 ‖ and/or 0,50 ‖ and/or 0,75 ‖ and/or 0,25 ‖ and/or 0,50 ‖ and/or 0,25 ‖ and/or 0,25 ‖ and/or 0,75 ‖ and/or 0,25 ‖ and/or 17 ‖ and/or 1,00 ‖ and/or 0,75 ‖ and/or 0,50 ‖ and/or 0,25 ‖ and/or 0,75 ‖ and/or 1,00 ‖ and/or 0,50 ‖ and/or 0,50 ‖ and/or 0,50 ‖ and/or 0,25 ‖ and/or 0,50 ‖ and/or 0,50 ‖ and/or 1,00 ‖ and/or 0,75 ‖ and/or 0,50 ‖ and/or 0,25 ‖ and/or 0,50 ‖ and/or 0,25 ‖ and/or 0,50 ‖ and/or 0,50 ‖ and/or 18 ‖ and/or 0,75 ‖ and/or 0,25 ‖ and/or 0,25 ‖ and/or 0,00 ‖ and/or 0,25 ‖ and/or 0,75 ‖ and/or 0,50 ‖ and/or 0,50 ‖ and/or 0,25 ‖ and/or 0,25 ‖ and/or 0,25 ‖ and/or 0,75 ‖ and/or 0,75 ‖ and/or 1,00 ‖ and/or 0,25 ‖ and/or 0,25 ‖ and/or 0,50 ‖ and/or 0,25 ‖ and/or 0,75 ‖ and/or 0,50 ‖ and/or 19 ‖ and/or 0,25 ‖ and/or 0,00 ‖ and/or 0,75 ‖ and/or 1,00 ‖ and/or 0,00 ‖ and/or 0,25 ‖ and/or 0,75 ‖ and/or 0,75 ‖ and/or 0,50 ‖ and/or 0,75 ‖ and/or 0,00 ‖ and/or 0,25 ‖ and/or 0,50 ‖ and/or 0,25 ‖ and/or 1,00 ‖ and/or 0,75 ‖ and/or 0,50 ‖ and/or 0,75 ‖ and/or 0,50 ‖ and/or 0,25 ‖ and/or 20 ‖ and/or 0,25 ‖ and/or 0,00 ‖ and/or 0,75 ‖ and/or 0,75 ‖ and/or 0,00 ‖ and/or 0,25 ‖ and/or 0,75 ‖ and/or 1,00 ‖ and/or 0,50 ‖ and/or 0,75 ‖ and/or 0,00 ‖ and/or 0,50 ‖ and/or 0,25 ‖ and/or 0,25 ‖ and/or 0,75 ‖ and/or 1,00 ‖ and/or 0,75 ‖ and/or 0,75 ‖ and/or 0,75 ‖ and/or 0,50 ‖ and/or 21 ‖ and/or 0,50 ‖ and/or 0,00 ‖ and/or 0,75 ‖ and/or 0,50 ‖ and/or 0,25 ‖ and/or 0,50 ‖ and/or 0,75 ‖ and/or 0,75 ‖ and/or 0,50 ‖ and/or 0,50 ‖ and/or 0,00 ‖ and/or 0,25 ‖ and/or 0,50 ‖ and/or 0,50 ‖ and/or 0,50 ‖ and/or 0,75 ‖ and/or 1,00 ‖ and/or 0,50 ‖ and/or 0,75 ‖ and/or 0,75 ‖ and/or 22 ‖ and/or 0,25 ‖ and/or 0,00 ‖ and/or 0,50 ‖ and/or 1,00 ‖ and/or 0,00 ‖ and/or 0,25 ‖ and/or 0,75 ‖ and/or 1,00 ‖ and/or 0,50 ‖ and/or 0,75 ‖ and/or 0,00 ‖ and/or 0,25 ‖ and/or 0,25 ‖ and/or 0,25 ‖ and/or 0,75 ‖ and/or 0,75 ‖ and/or 0,50 ‖ and/or 1,00 ‖ and/or 0,50 ‖ and/or 0,25 ‖ and/or 23 ‖ and/or 0,50 ‖ and/or 0,00 ‖ and/or 0,75 ‖ and/or 0,50 ‖ and/or 0,00 ‖ and/or 0,50 ‖ and/or 0,75 ‖ and/or 0,75 ‖ and/or 0,50 ‖ and/or 0,75 ‖ and/or 0,00 ‖ and/or 0,75 ‖ and/or 0,50 ‖ and/or 0,75 ‖ and/or 0,50 ‖ and/or 0,75 ‖ and/or 0,75 ‖ and/or 0,50 ‖ and/or 1,00 ‖ and/or 0,50 ‖ and/or 24 ‖ and/or 0,50 ‖ and/or 0,25 ‖ and/or 0,50 ‖ and/or 0,25 ‖ and/or 0,25 ‖ and/or 0,50 ‖ and/or 0,75 ‖ and/or 0,25 ‖ and/or 0,25 ‖ and/or 0,25 ‖ and/or 0,00 ‖ and/or 0,25 ‖ and/or 0,50 ‖ and/or 0,50 ‖ and/or 0,25 ‖ and/or 0,50 ‖ and/or 0,75 ‖ and/or 0,25 ‖ and/or 0,50 ‖ and/or 1,00 ‖ and/or 25 ‖ and/or 0,75 ‖ and/or 0,50 ‖ and/or 0,50 ‖ and/or 0,50 ‖ and/or 0,50 ‖ and/or 0,75 ‖ and/or 0,75 ‖ and/or 0,50 ‖ and/or 0,75 ‖ and/or 0,50 ‖ and/or 0,25 ‖ and/or 0,50 ‖ and/or 0,75 ‖ and/or 0,75 ‖ and/or 0,75 ‖ and/or 0,50 ‖ and/or 0,75 ‖ and/or 0,50 ‖ and/or 0,75 ‖ and/or 0,75 ‖ and/or j ‖ and/or i ‖ and/or 01 ‖ and/or 03 ‖ and/or 04 ‖ and/or 05 ‖ and/or 06 ‖ and/or 07 ‖ and/or 08 ‖ and/or 09 ‖ and/or 10 ‖ and/or 12 ‖ and/or 13 ‖ and/or 14 ‖ and/or 17 ‖ and/or 18 ‖ and/or 19 ‖ and/or 20 ‖ and/or 21 ‖ and/or 22 ‖ and/or 23 ‖ and/or 24 ‖ and/or 26 ‖ and/or 0,00 ‖ and/or 0,50 ‖ and/or 0,00 ‖ and/or 0,00 ‖ and/or 0,75 ‖ and/or 1,00 ‖ and/or 0,75 ‖ and/or 0,00 ‖ and/or 0,00 ‖ and/or 0,00 ‖ and/or 0,50 ‖ and/or 0,00 ‖ and/or 1,00 ‖ and/or 0,50 ‖ and/or 0,00 ‖ and/or 0,00 ‖ and/or 0,25 ‖ and/or 0,00 ‖ and/or 0,25 ‖ and/or 0,25 ‖ and/or 27 ‖ and/or 0,25 ‖ and/or 0,00 ‖ and/or 0,50 ‖ and/or 0,25 ‖ and/or 0,00 ‖ and/or 0,50 ‖ and/or 0,50 ‖ and/or 0,75 ‖ and/or 0,50 ‖ and/or 0,75 ‖ and/or 0,00 ‖ and/or 0,75 ‖ and/or 0,50 ‖ and/or 0,50 ‖ and/or 0,50 ‖ and/or 0,50 ‖ and/or 0,50 ‖ and/or 0,50 ‖ and/or 0,75 ‖ and/or 0,25 ‖ and/or 28 ‖ and/or 0,25 ‖ and/or 0,00 ‖ and/or 0,75 ‖ and/or 1,00 ‖ and/or 0,00 ‖ and/or 0,50 ‖ and/or 1,00 ‖ and/or 0,75 ‖ and/or 0,50 ‖ and/or 0,50 ‖ and/or 0,00 ‖ and/or 0,25 ‖ and/or 0,50 ‖ and/or 0,25 ‖ and/or 0,75 ‖ and/or 0,75 ‖ and/or 0,75 ‖ and/or 0,75 ‖ and/or 0,75 ‖ and/or 0,50 ‖ and/or 29 ‖ and/or 0,75 ‖ and/or 0,50 ‖ and/or 0,25 ‖ and/or 0,00 ‖ and/or 0,50 ‖ and/or 1,00 ‖ and/or 0,25 ‖ and/or 0,25 ‖ and/or 0,25 ‖ and/or 0,00 ‖ and/or 0,25 ‖ and/or 0,25 ‖ and/or 0,75 ‖ and/or 0,50 ‖ and/or 0,25 ‖ and/or 0,25 ‖ and/or 0,25 ‖ and/or 0,25 ‖ and/or 0,25 ‖ and/or 0,25 ‖ and/or 30 ‖ and/or 0,50 ‖ and/or 0,25 ‖ and/or 0,25 ‖ and/or 0,25 ‖ and/or 0,25 ‖ and/or 0,75 ‖ and/or 0,50 ‖ and/or 0,25 ‖ and/or 0,25 ‖ and/or 0,00 ‖ and/or 0,25 ‖ and/or 0,25 ‖ and/or 0,75 ‖ and/or 0,50 ‖ and/or 0,25 ‖ and/or 0,25 ‖ and/or 0,50 ‖ and/or 0,25 ‖ and/or 0,25 ‖ and/or 0,75 ‖ and/or 31 ‖ and/or 1,00 ‖ and/or 0,50 ‖ and/or 0,50 ‖ and/or 0,25 ‖ and/or 0,50 ‖ and/or 1,00 ‖ and/or 0,50 ‖ and/or 0,25 ‖ and/or 0,50 ‖ and/or 0,25 ‖ and/or 0,50 ‖ and/or 0,25 ‖ and/or 1,00 ‖ and/or 0,75 ‖ and/or 0,25 ‖ and/or 0,25 ‖ and/or 0,50 ‖ and/or 0,25 ‖ and/or 0,50 ‖ and/or 0,50 ‖ and/or 32 ‖ and/or 0,25 ‖ and/or 0,00 ‖ and/or 0,75 ‖ and/or 1,00 ‖ and/or 0,00 ‖ and/or 0,50 ‖ and/or 1,00 ‖ and/or 0,75 ‖ and/or 0,50 ‖ and/or 0,75 ‖ and/or 0,00 ‖ and/or 0,25 ‖ and/or 0,50 ‖ and/or 0,25 ‖ and/or 0,75 ‖ and/or 0,75 ‖ and/or 0,75 ‖ and/or 0,75 ‖ and/or 0,75 ‖ and/or 0,50 ‖ and/or 33 ‖ and/or 0,50 ‖ and/or 0,00 ‖ and/or 0,75 ‖ and/or 0,75 ‖ and/or 0,00 ‖ and/or 0,50 ‖ and/or 1,00 ‖ and/or 0,75 ‖ and/or 0,50 ‖ and/or 0,50 ‖ and/or 0,00 ‖ and/or 0,50 ‖ and/or 0,50 ‖ and/or 0,50 ‖ and/or 0,50 ‖ and/or 1,00 ‖ and/or 1,00 ‖ and/or 0,75 ‖ and/or 0,75 ‖ and/or 0,75 ‖ and/or 34 ‖ and/or 0,00 ‖ and/or 0,00 ‖ and/or 0,75 ‖ and/or 0,75 ‖ and/or 0,00 ‖ and/or 0,00 ‖ and/or 0,75 ‖ and/or 0,75 ‖ and/or 0,50 ‖ and/or 1,00 ‖ and/or 0,00 ‖ and/or 0,50 ‖ and/or 0,00 ‖ and/or 0,25 ‖ and/or 0,75 ‖ and/or 1,00 ‖ and/or 0,50 ‖ and/or 0,75 ‖ and/or 0,75 ‖ and/or 0,25 ‖ and/or 35 ‖ and/or 1,00 ‖ and/or 0,50 ‖ and/or 0,25 ‖ and/or 0,00 ‖ and/or 0,75 ‖ and/or 1,00 ‖ and/or 0,50 ‖ and/or 0,25 ‖ and/or 0,25 ‖ and/or 0,00 ‖ and/or 0,50 ‖ and/or 0,25 ‖ and/or 1,00 ‖ and/or 0,50 ‖ and/or 0,25 ‖ and/or 0,00 ‖ and/or 0,25 ‖ and/or 0,00 ‖ and/or 0,25 ‖ and/or 0,25 ‖ and/or 36 ‖ and/or 0,50 ‖ and/or 0,25 ‖ and/or 0,00 ‖ and/or 0,00 ‖ and/or 0,25 ‖ and/or 0,50 ‖ and/or 0,00 ‖ and/or 0,00 ‖ and/or 0,25 ‖ and/or 0,00 ‖ and/or 0,00 ‖ and/or 0,00 ‖ and/or 0,50 ‖ and/or 0,25 ‖ and/or 0,00 ‖ and/or 0,00 ‖ and/or 0,00 ‖ and/or 0,00 ‖ and/or 0,00 ‖ and/or 0,00 ‖ and/or 37 ‖ and/or 0,75 ‖ and/or 0,25 ‖ and/or 0,50 ‖ and/or 0,25 ‖ and/or 0,25 ‖ and/or 0,75 ‖ and/or 0,50 ‖ and/or 0,25 ‖ and/or 0,50 ‖ and/or 0,00 ‖ and/or 0,25 ‖ and/or 0,25 ‖ and/or 0,75 ‖ and/or 0,50 ‖ and/or 0,25 ‖ and/or 0,25 ‖ and/or 0,25 ‖ and/or 0,25 ‖ and/or 0,25 ‖ and/or 0,50 ‖ and/or 38 ‖ and/or 0,75 ‖ and/or 0,00 ‖ and/or 0,75 ‖ and/or 0,75 ‖ and/or 0,25 ‖ and/or 0,75 ‖ and/or 1,00 ‖ and/or 0,75 ‖ and/or 0,50 ‖ and/or 0,50 ‖ and/or 0,00 ‖ and/or 0,25 ‖ and/or 0,50 ‖ and/or 0,50 ‖ and/or 0,50 ‖ and/or 0,75 ‖ and/or 0,75 ‖ and/or 0,50 ‖ and/or 0,75 ‖ and/or 0,75 ‖ and/or 39 ‖ and/or 0,50 ‖ and/or 0,00 ‖ and/or 0,75 ‖ and/or 0,75 ‖ and/or 0,00 ‖ and/or 0,50 ‖ and/or 1,00 ‖ and/or 0,75 ‖ and/or 0,50 ‖ and/or 0,75 ‖ and/or 0,00 ‖ and/or 0,50 ‖ and/or 0,50 ‖ and/or 0,50 ‖ and/or 0,50 ‖ and/or 1,00 ‖ and/or 0,75 ‖ and/or 0,75 ‖ and/or 1,00 ‖ and/or 0,50 ‖ and/or 40 ‖ and/or 0,25 ‖ and/or 0,25 ‖ and/or 0,00 ‖ and/or 0,00 ‖ and/or 0,00 ‖ and/or 0,50 ‖ and/or 0,00 ‖ and/or 0,00 ‖ and/or 0,00 ‖ and/or 0,00 ‖ and/or 0,00 ‖ and/or 0,00 ‖ and/or 0,50 ‖ and/or 0,25 ‖ and/or 0,00 ‖ and/or 0,00 ‖ and/or 0,00 ‖ and/or 0,00 ‖ and/or 0,00 ‖ and/or 0,00 ‖ and/or 41 ‖ and/or 0,50 ‖ and/or 0,00 ‖ and/or 0,50 ‖ and/or 0,50 ‖ and/or 0,00 ‖ and/or 0,75 ‖ and/or 0,75 ‖ and/or 0,75 ‖ and/or 0,50 ‖ and/or 0,50 ‖ and/or 0,00 ‖ and/or 0,25 ‖ and/or 0,50 ‖ and/or 0,50 ‖ and/or 0,50 ‖ and/or 0,75 ‖ and/or 0,50 ‖ and/or 0,50 ‖ and/or 0,50 ‖ and/or 0,50 ‖ and/or 42 ‖ and/or 0,25 ‖ and/or 0,00 ‖ and/or 0,75 ‖ and/or 1,00 ‖ and/or 0,00 ‖ and/or 0,50 ‖ and/or 1,00 ‖ and/or 0,75 ‖ and/or 0,50 ‖ and/or 0,75 ‖ and/or 0,00 ‖ and/or 0,25 ‖ and/or 0,50 ‖ and/or 0,25 ‖ and/or 0,75 ‖ and/or 0,75 ‖ and/or 0,75 ‖ and/or 1,00 ‖ and/or 0,75 ‖ and/or 0,50 ‖ and/or 43 ‖ and/or 0,50 ‖ and/or 0,00 ‖ and/or 0,75 ‖ and/or 0,50 ‖ and/or 0,00 ‖ and/or 0,50 ‖ and/or 0,75 ‖ and/or 0,50 ‖ and/or 0,50 ‖ and/or 0,50 ‖ and/or 0,00 ‖ and/or 0,25 ‖ and/or 0,50 ‖ and/or 0,25 ‖ and/or 0,50 ‖ and/or 0,75 ‖ and/or 0,75 ‖ and/or 0,50 ‖ and/or 0,50 ‖ and/or 0,50 ‖ and/or 44 ‖ and/or 0,00 ‖ and/or 0,00 ‖ and/or 0,50 ‖ and/or 1,00 ‖ and/or 0,00 ‖ and/or 0,00 ‖ and/or 0,75 ‖ and/or 0,75 ‖ and/or 0,50 ‖ and/or 0,75 ‖ and/or 0,00 ‖ and/or 0,25 ‖ and/or 0,25 ‖ and/or 0,00 ‖ and/or 1,00 ‖ and/or 0,75 ‖ and/or 0,50 ‖ and/or 1,00 ‖ and/or 0,50 ‖ and/or 0,25 ‖ and/or 45 ‖ and/or 0,00 ‖ and/or 0,00 ‖ and/or 0,75 ‖ and/or 0,75 ‖ and/or 0,00 ‖ and/or 0,00 ‖ and/or 0,50 ‖ and/or 1,00 ‖ and/or 0,25 ‖ and/or 0,75 ‖ and/or 0,00 ‖ and/or 0,75 ‖ and/or 0,00 ‖ and/or 0,50 ‖ and/or 0,75 ‖ and/or 1,00 ‖ and/or 0,75 ‖ and/or 0,75 ‖ and/or 1,00 ‖ and/or 0,25 ‖ and/or j ‖ and/or i ‖ and/or 25 ‖ and/or 26 ‖ and/or 27 ‖ and/or 28 ‖ and/or 29 ‖ and/or 30 ‖ and/or 31 ‖ and/or 32 ‖ and/or 33 ‖ and/or 34 ‖ and/or 35 ‖ and/or 36 ‖ and/or 37 ‖ and/or 38 ‖ and/or 39 ‖ and/or 40 ‖ and/or 41 ‖ and/or 42 ‖ and/or 43 ‖ and/or 44 ‖ and/or 45 ‖ and/or 01 ‖ and/or 0,75 ‖ and/or 0,00 ‖ and/or 0,25 ‖ and/or 0,25 ‖ and/or 0,75 ‖ and/or 0,50 ‖ and/or 1,00 ‖ and/or 0,25 ‖ and/or 0,50 ‖ and/or 0,00 ‖ and/or 1,00 ‖ and/or 0,50 ‖ and/or 0,75 ‖ and/or 0,75 ‖ and/or 0,50 ‖ and/or 0,25 ‖ and/or 0,50 ‖ and/or 0,25 ‖ and/or 0,50 ‖ and/or 0,00 ‖ and/or 0,00 ‖ and/or 03 ‖ and/or 0,50 ‖ and/or 0,50 ‖ and/or 0,00 ‖ and/or 0,00 ‖ and/or 0,50 ‖ and/or 0,25 ‖ and/or 0,50 ‖ and/or 0,00 ‖ and/or 0,00 ‖ and/or 0,00 ‖ and/or 0,50 ‖ and/or 0,25 ‖ and/or 0,25 ‖ and/or 0,00 ‖ and/or 0,00 ‖ and/or 0,25 ‖ and/or 0,00 ‖ and/or 0,00 ‖ and/or 0,00 ‖ and/or 0,00 ‖ and/or 0,00 ‖ and/or 04 ‖ and/or 0,50 ‖ and/or 0,00 ‖ and/or 0,50 ‖ and/or 0,75 ‖ and/or 0,25 ‖ and/or 0,25 ‖ and/or 0,50 ‖ and/or 0,75 ‖ and/or 0,75 ‖ and/or 0,75 ‖ and/or 0,25 ‖ and/or 0,00 ‖ and/or 0,50 ‖ and/or 0,75 ‖ and/or 0,75 ‖ and/or 0,00 ‖ and/or 0,50 ‖ and/or 0,75 ‖ and/or 0,75 ‖ and/or 0,50 ‖ and/or 0,75 ‖ and/or 05 ‖ and/or 0,50 ‖ and/or 0,00 ‖ and/or 0,25 ‖ and/or 1,00 ‖ and/or 0,00 ‖ and/or 0,25 ‖ and/or 0,25 ‖ and/or 1,00 ‖ and/or 0,75 ‖ and/or 0,75 ‖ and/or 0,00 ‖ and/or 0,00 ‖ and/or 0,25 ‖ and/or 0,75 ‖ and/or 0,75 ‖ and/or 0,00 ‖ and/or 0,50 ‖ and/or 1,00 ‖ and/or 0,50 ‖ and/or 1,00 ‖ and/or 0,75 ‖ and/or 06 ‖ and/or 0,50 ‖ and/or 0,75 ‖ and/or 0,00 ‖ and/or 0,00 ‖ and/or 0,50 ‖ and/or 0,25 ‖ and/or 0,50 ‖ and/or 0,00 ‖ and/or 0,00 ‖ and/or 0,00 ‖ and/or 0,75 ‖ and/or 0,25 ‖ and/or 0,25 ‖ and/or 0,25 ‖ and/or 0,00 ‖ and/or 0,00 ‖ and/or 0,00 ‖ and/or 0,00 ‖ and/or 0,00 ‖ and/or 0,00 ‖ and/or 0,00 ‖ and/or 07 ‖ and/or 0,75 ‖ and/or 1,00 ‖ and/or 0,50 ‖ and/or 0,50 ‖ and/or 1,00 ‖ and/or 0,75 ‖ and/or 1,00 ‖ and/or 0,50 ‖ and/or 0,50 ‖ and/or 0,00 ‖ and/or 1,00 ‖ and/or 0,50 ‖ and/or 0,75 ‖ and/or 0,75 ‖ and/or 0,50 ‖ and/or 0,50 ‖ and/or 0,75 ‖ and/or 0,50 ‖ and/or 0,50 ‖ and/or 0,00 ‖ and/or 0,00 ‖ and/or 08 ‖ and/or 0,75 ‖ and/or 0,75 ‖ and/or 0,50 ‖ and/or 1,00 ‖ and/or 0,25 ‖ and/or 0,50 ‖ and/or 0,50 ‖ and/or 1,00 ‖ and/or 1,00 ‖ and/or 0,75 ‖ and/or 0,50 ‖ and/or 0,00 ‖ and/or 0,50 ‖ and/or 1,00 ‖ and/or 1,00 ‖ and/or 0,00 ‖ and/or 0,75 ‖ and/or 1,00 ‖ and/or 0,75 ‖ and/or 0,75 ‖ and/or 0,50 ‖ and/or 09 ‖ and/or 0,50 ‖ and/or 0,00 ‖ and/or 0,75 ‖ and/or 0,75 ‖ and/or 0,25 ‖ and/or 0,25 ‖ and/or 0,25 ‖ and/or 0,75 ‖ and/or 0,75 ‖ and/or 0,75 ‖ and/or 0,25 ‖ and/or 0,00 ‖ and/or 0,25 ‖ and/or 0,75 ‖ and/or 0,75 ‖ and/or 0,00 ‖ and/or 0,75 ‖ and/or 0,75 ‖ and/or 0,50 ‖ and/or 0,75 ‖ and/or 1,00 ‖ and/or 10 ‖ and/or 0,75 ‖ and/or 0,00 ‖ and/or 0,50 ‖ and/or 0,50 ‖ and/or 0,25 ‖ and/or 0,25 ‖ and/or 0,50 ‖ and/or 0,50 ‖ and/or 0,50 ‖ and/or 0,50 ‖ and/or 0,25 ‖ and/or 0,25 ‖ and/or 0,50 ‖ and/or 0,50 ‖ and/or 0,50 ‖ and/or 0,00 ‖ and/or 0,50 ‖ and/or 0,50 ‖ and/or 0,50 ‖ and/or 0,50 ‖ and/or 0,25 ‖ and/or 12 ‖ and/or 0,50 ‖ and/or 0,00 ‖ and/or 0,75 ‖ and/or 0,50 ‖ and/or 0,00 ‖ and/or 0,00 ‖ and/or 0,25 ‖ and/or 0,75 ‖ and/or 0,50 ‖ and/or 1,00 ‖ and/or 0,00 ‖ and/or 0,00 ‖ and/or 0,00 ‖ and/or 0,50 ‖ and/or 0,75 ‖ and/or 0,00 ‖ and/or 0,50 ‖ and/or 0,75 ‖ and/or 0,50 ‖ and/or 0,75 ‖ and/or 0,75 ‖ and/or 13 ‖ and/or 0,25 ‖ and/or 0,50 ‖ and/or 0,00 ‖ and/or 0,00 ‖ and/or 0,25 ‖ and/or 0,25 ‖ and/or 0,50 ‖ and/or 0,00 ‖ and/or 0,00 ‖ and/or 0,00 ‖ and/or 0,50 ‖ and/or 0,00 ‖ and/or 0,25 ‖ and/or 0,00 ‖ and/or 0,00 ‖ and/or 0,00 ‖ and/or 0,00 ‖ and/or 0,00 ‖ and/or 0,00 ‖ and/or 0,00 ‖ and/or 0,00 ‖ and/or 14 ‖ and/or 0,50 ‖ and/or 0,00 ‖ and/or 0,75 ‖ and/or 0,25 ‖ and/or 0,25 ‖ and/or 0,25 ‖ and/or 0,25 ‖ and/or 0,25 ‖ and/or 0,50 ‖ and/or 0,50 ‖ and/or 0,25 ‖ and/or 0,00 ‖ and/or 0,25 ‖ and/or 0,25 ‖ and/or 0,50 ‖ and/or 0,00 ‖ and/or 0,25 ‖ and/or 0,25 ‖ and/or 0,25 ‖ and/or 0,25 ‖ and/or 0,75 ‖ and/or 17 ‖ and/or 0,75 ‖ and/or 1,00 ‖ and/or 0,50 ‖ and/or 0,50 ‖ and/or 0,75 ‖ and/or 0,75 ‖ and/or 1,00 ‖ and/or 0,50 ‖ and/or 0,50 ‖ and/or 0,00 ‖ and/or 1,00 ‖ and/or 0,50 ‖ and/or 0,75 ‖ and/or 0,50 ‖ and/or 0,50 ‖ and/or 0,50 ‖ and/or 0,50 ‖ and/or 0,50 ‖ and/or 0,50 ‖ and/or 0,25 ‖ and/or 0,00 ‖ and/or 18 ‖ and/or 0,75 ‖ and/or 0,50 ‖ and/or 0,50 ‖ and/or 0,25 ‖ and/or 0,50 ‖ and/or 0,50 ‖ and/or 0,75 ‖ and/or 0,25 ‖ and/or 0,50 ‖ and/or 0,25 ‖ and/or 0,50 ‖ and/or 0,25 ‖ and/or 0,50 ‖ and/or 0,50 ‖ and/or 0,50 ‖ and/or 0,25 ‖ and/or 0,50 ‖ and/or 0,25 ‖ and/or 0,25 ‖ and/or 0,00 ‖ and/or 0,50 ‖ and/or 19 ‖ and/or 0,75 ‖ and/or 0,00 ‖ and/or 0,50 ‖ and/or 0,75 ‖ and/or 0,25 ‖ and/or 0,25 ‖ and/or 0,25 ‖ and/or 0,75 ‖ and/or 0,50 ‖ and/or 0,75 ‖ and/or 0,25 ‖ and/or 0,00 ‖ and/or 0,25 ‖ and/or 0,50 ‖ and/or 0,50 ‖ and/or 0,00 ‖ and/or 0,50 ‖ and/or 0,75 ‖ and/or 0,50 ‖ and/or 1,00 ‖ and/or 0,75 ‖ and/or 20 ‖ and/or 0,50 ‖ and/or 0,00 ‖ and/or 0,50 ‖ and/or 0,75 ‖ and/or 0,25 ‖ and/or 0,25 ‖ and/or 0,25 ‖ and/or 0,75 ‖ and/or 1,00 ‖ and/or 1,00 ‖ and/or 0,00 ‖ and/or 0,00 ‖ and/or 0,25 ‖ and/or 0,75 ‖ and/or 1,00 ‖ and/or 0,00 ‖ and/or 0,75 ‖ and/or 0,75 ‖ and/or 0,75 ‖ and/or 0,75 ‖ and/or 1,00 ‖ and/or 21 ‖ and/or 0,75 ‖ and/or 0,25 ‖ and/or 0,50 ‖ and/or 0,75 ‖ and/or 0,25 ‖ and/or 0,50 ‖ and/or 0,50 ‖ and/or 0,75 ‖ and/or 1,00 ‖ and/or 0,50 ‖ and/or 0,25 ‖ and/or 0,00 ‖ and/or 0,25 ‖ and/or 0,75 ‖ and/or 0,75 ‖ and/or 0,00 ‖ and/or 0,50 ‖ and/or 0,75 ‖ and/or 0,75 ‖ and/or 0,50 ‖ and/or 0,75 ‖ and/or 22 ‖ and/or 0,50 ‖ and/or 0,00 ‖ and/or 0,50 ‖ and/or 0,75 ‖ and/or 0,25 ‖ and/or 0,25 ‖ and/or 0,25 ‖ and/or 0,75 ‖ and/or 0,75 ‖ and/or 0,75 ‖ and/or 0,00 ‖ and/or 0,00 ‖ and/or 0,25 ‖ and/or 0,50 ‖ and/or 0,75 ‖ and/or 0,00 ‖ and/or 0,50 ‖ and/or 1,00 ‖ and/or 0,50 ‖ and/or 1,00 ‖ and/or 0,75 ‖ and/or 23 ‖ and/or 0,75 ‖ and/or 0,25 ‖ and/or 0,75 ‖ and/or 0,75 ‖ and/or 0,25 ‖ and/or 0,25 ‖ and/or 0,50 ‖ and/or 0,75 ‖ and/or 0,75 ‖ and/or 0,75 ‖ and/or 0,25 ‖ and/or 0,00 ‖ and/or 0,25 ‖ and/or 0,75 ‖ and/or 1,00 ‖ and/or 0,00 ‖ and/or 0,50 ‖ and/or 0,75 ‖ and/or 0,50 ‖ and/or 0,50 ‖ and/or 1,00 ‖ and/or 24 ‖ and/or 0,75 ‖ and/or 0,25 ‖ and/or 0,25 ‖ and/or 0,50 ‖ and/or 0,25 ‖ and/or 0,75 ‖ and/or 0,50 ‖ and/or 0,50 ‖ and/or 0,75 ‖ and/or 0,25 ‖ and/or 0,25 ‖ and/or 0,00 ‖ and/or 0,50 ‖ and/or 0,75 ‖ and/or 0,50 ‖ and/or 0,00 ‖ and/or 0,50 ‖ and/or 0,50 ‖ and/or 0,50 ‖ and/or 0,25 ‖ and/or 0,25 ‖ and/or 25 ‖ and/or 1,00 ‖ and/or 0,75 ‖ and/or 0,50 ‖ and/or 0,75 ‖ and/or 0,50 ‖ and/or 0,50 ‖ and/or 0,75 ‖ and/or 0,75 ‖ and/or 0,75 ‖ and/or 0,50 ‖ and/or 0,75 ‖ and/or 0,25 ‖ and/or 0,50 ‖ and/or 0,75 ‖ and/or 0,75 ‖ and/or 0,00 ‖ and/or 0,50 ‖ and/or 0,75 ‖ and/or 0,75 ‖ and/or 0,50 ‖ and/or 0,50 ‖ and/or j ‖ and/or i ‖ and/or 25 ‖ and/or 26 ‖ and/or 27 ‖ and/or 28 ‖ and/or 29 ‖ and/or 30 ‖ and/or 31 ‖ and/or 32 ‖ and/or 33 ‖ and/or 34 ‖ and/or 35 ‖ and/or 36 ‖ and/or 37 ‖ and/or 38 ‖ and/or 39 ‖ and/or 40 ‖ and/or 41 ‖ and/or 42 ‖ and/or 43 ‖ and/or 44 ‖ and/or 45 ‖ and/or 26 ‖ and/or 0,75 ‖ and/or 1,00 ‖ and/or 0,00 ‖ and/or 0,00 ‖ and/or 0,75 ‖ and/or 0,25 ‖ and/or 0,75 ‖ and/or 0,00 ‖ and/or 0,50 ‖ and/or 0,00 ‖ and/or 1,00 ‖ and/or 0,25 ‖ and/or 0,50 ‖ and/or 0,75 ‖ and/or 0,25 ‖ and/or 0,00 ‖ and/or 0,50 ‖ and/or 0,00 ‖ and/or 0,00 ‖ and/or 0,00 ‖ and/or 0,00 ‖ and/or 27 ‖ and/or 0,50 ‖ and/or 0,00 ‖ and/or 1,00 ‖ and/or 0,50 ‖ and/or 0,25 ‖ and/or 0,25 ‖ and/or 0,50 ‖ and/or 0,50 ‖ and/or 0,50 ‖ and/or 0,75 ‖ and/or 0,25 ‖ and/or 0,00 ‖ and/or 0,25 ‖ and/or 0,25 ‖ and/or 0,50 ‖ and/or 0,00 ‖ and/or 0,50 ‖ and/or 0,50 ‖ and/or 0,25 ‖ and/or 0,25 ‖ and/or 1,00 ‖ and/or 28 ‖ and/or 0,75 ‖ and/or 0,00 ‖ and/or 0,50 ‖ and/or 1,00 ‖ and/or 0,25 ‖ and/or 0,25 ‖ and/or 0,50 ‖ and/or 1,00 ‖ and/or 1,00 ‖ and/or 0,75 ‖ and/or 0,25 ‖ and/or 0,00 ‖ and/or 0,25 ‖ and/or 1,00 ‖ and/or 0,75 ‖ and/or 0,00 ‖ and/or 0,75 ‖ and/or 1,00 ‖ and/or 0,75 ‖ and/or 0,75 ‖ and/or 0,75 ‖ and/or 29 ‖ and/or 0,50 ‖ and/or 0,75 ‖ and/or 0,25 ‖ and/or 0,25 ‖ and/or 1,00 ‖ and/or 0,50 ‖ and/or 0,75 ‖ and/or 0,25 ‖ and/or 0,25 ‖ and/or 0,00 ‖ and/or 0,75 ‖ and/or 0,50 ‖ and/or 0,50 ‖ and/or 0,25 ‖ and/or 0,25 ‖ and/or 0,25 ‖ and/or 0,25 ‖ and/or 0,25 ‖ and/or 0,25 ‖ and/or 0,00 ‖ and/or 0,00 ‖ and/or 30 ‖ and/or 0,50 ‖ and/or 0,25 ‖ and/or 0,25 ‖ and/or 0,25 ‖ and/or 0,50 ‖ and/or 1,00 ‖ and/or 0,50 ‖ and/or 0,25 ‖ and/or 0,50 ‖ and/or 0,00 ‖ and/or 0,50 ‖ and/or 0,25 ‖ and/or 0,50 ‖ and/or 0,50 ‖ and/or 0,25 ‖ and/or 0,00 ‖ and/or 0,25 ‖ and/or 0,25 ‖ and/or 0,25 ‖ and/or 0,00 ‖ and/or 0,25 ‖ and/or 31 ‖ and/or 0,75 ‖ and/or 0,75 ‖ and/or 0,50 ‖ and/or 0,50 ‖ and/or 0,75 ‖ and/or 0,50 ‖ and/or 1,00 ‖ and/or 0,50 ‖ and/or 0,50 ‖ and/or 0,00 ‖ and/or 0,75 ‖ and/or 0,50 ‖ and/or 0,75 ‖ and/or 0,50 ‖ and/or 0,50 ‖ and/or 0,25 ‖ and/or 0,50 ‖ and/or 0,50 ‖ and/or 0,50 ‖ and/or 0,25 ‖ and/or 0,00 ‖ and/or 32 ‖ and/or 0,75 ‖ and/or 0,00 ‖ and/or 0,50 ‖ and/or 1,00 ‖ and/or 0,25 ‖ and/or 0,25 ‖ and/or 0,50 ‖ and/or 1,00 ‖ and/or 0,75 ‖ and/or 0,75 ‖ and/or 0,25 ‖ and/or 0,00 ‖ and/or 0,25 ‖ and/or 1,00 ‖ and/or 0,75 ‖ and/or 0,00 ‖ and/or 0,75 ‖ and/or 1,00 ‖ and/or 0,75 ‖ and/or 0,75 ‖ and/or 0,75 ‖ and/or 33 ‖ and/or 0,75 ‖ and/or 0,50 ‖ and/or 0,50 ‖ and/or 1,00 ‖ and/or 0,25 ‖ and/or 0,50 ‖ and/or 0,50 ‖ and/or 0,75 ‖ and/or 1,00 ‖ and/or 0,50 ‖ and/or 0,25 ‖ and/or 0,00 ‖ and/or 0,25 ‖ and/or 0,75 ‖ and/or 1,00 ‖ and/or 0,00 ‖ and/or 0,50 ‖ and/or 0,75 ‖ and/or 0,75 ‖ and/or 0,50 ‖ and/or 0,75 ‖ and/or 34 ‖ and/or 0,50 ‖ and/or 0,00 ‖ and/or 0,75 ‖ and/or 0,75 ‖ and/or 0,00 ‖ and/or 0,00 ‖ and/or 0,00 ‖ and/or 0,75 ‖ and/or 0,50 ‖ and/or 1,00 ‖ and/or 0,00 ‖ and/or 0,00 ‖ and/or 0,00 ‖ and/or 0,50 ‖ and/or 0,75 ‖ and/or 0,00 ‖ and/or 0,50 ‖ and/or 0,75 ‖ and/or 0,50 ‖ and/or 0,75 ‖ and/or 0,75 ‖ and/or 35 ‖ and/or 0,75 ‖ and/or 1,00 ‖ and/or 0,25 ‖ and/or 0,25 ‖ and/or 0,75 ‖ and/or 0,50 ‖ and/or 0,75 ‖ and/or 0,25 ‖ and/or 0,25 ‖ and/or 0,00 ‖ and/or 1,00 ‖ and/or 0,50 ‖ and/or 0,50 ‖ and/or 0,50 ‖ and/or 0,25 ‖ and/or 0,00 ‖ and/or 0,50 ‖ and/or 0,25 ‖ and/or 0,25 ‖ and/or 0,00 ‖ and/or 0,00 ‖ and/or 36 ‖ and/or 0,25 ‖ and/or 0,25 ‖ and/or 0,00 ‖ and/or 0,00 ‖ and/or 0,50 ‖ and/or 0,25 ‖ and/or 0,50 ‖ and/or 0,00 ‖ and/or 0,00 ‖ and/or 0,00 ‖ and/or 0,50 ‖ and/or 1,00 ‖ and/or 0,25 ‖ and/or 0,00 ‖ and/or 0,00 ‖ and/or 0,00 ‖ and/or 0,00 ‖ and/or 0,00 ‖ and/or 0,00 ‖ and/or 0,00 ‖ and/or 0,00 ‖ and/or 37 ‖ and/or 0,50 ‖ and/or 0,50 ‖ and/or 0,25 ‖ and/or 0,25 ‖ and/or 0,50 ‖ and/or 0,50 ‖ and/or 0,75 ‖ and/or 0,25 ‖ and/or 0,25 ‖ and/or 0,00 ‖ and/or 0,50 ‖ and/or 0,25 ‖ and/or 1,00 ‖ and/or 0,25 ‖ and/or 0,25 ‖ and/or 0,25 ‖ and/or 0,25 ‖ and/or 0,25 ‖ and/or 0,50 ‖ and/or 0,00 ‖ and/or 0,00 ‖ and/or 38 ‖ and/or 0,75 ‖ and/or 0,75 ‖ and/or 0,25 ‖ and/or 1,00 ‖ and/or 0,25 ‖ and/or 0,50 ‖ and/or 0,50 ‖ and/or 1,00 ‖ and/or 0,75 ‖ and/or 0,50 ‖ and/or 0,50 ‖ and/or 0,00 ‖ and/or 0,25 ‖ and/or 1,00 ‖ and/or 0,75 ‖ and/or 0,00 ‖ and/or 0,50 ‖ and/or 0,75 ‖ and/or 0,75 ‖ and/or 0,50 ‖ and/or 0,75 ‖ and/or 39 ‖ and/or 0,75 ‖ and/or 0,25 ‖ and/or 0,50 ‖ and/or 0,75 ‖ and/or 0,25 ‖ and/or 0,25 ‖ and/or 0,50 ‖ and/or 0,75 ‖ and/or 1,00 ‖ and/or 0,75 ‖ and/or 0,25 ‖ and/or 0,00 ‖ and/or 0,25 ‖ and/or 0,75 ‖ and/or 1,00 ‖ and/or 0,00 ‖ and/or 0,50 ‖ and/or 0,75 ‖ and/or 0,75 ‖ and/or 0,50 ‖ and/or 0,75 ‖ and/or 40 ‖ and/or 0,00 ‖ and/or 0,00 ‖ and/or 0,00 ‖ and/or 0,00 ‖ and/or 0,25 ‖ and/or 0,00 ‖ and/or 0,25 ‖ and/or 0,00 ‖ and/or 0,00 ‖ and/or 0,00 ‖ and/or 0,00 ‖ and/or 0,00 ‖ and/or 0,25 ‖ and/or 0,00 ‖ and/or 0,00 ‖ and/or 1,00 ‖ and/or 0,00 ‖ and/or 0,00 ‖ and/or 0,00 ‖ and/or 0,00 ‖ and/or 0,00 ‖ and/or 41 ‖ and/or 0,50 ‖ and/or 0,50 ‖ and/or 0,50 ‖ and/or 0,75 ‖ and/or 0,25 ‖ and/or 0,25 ‖ and/or 0,50 ‖ and/or 0,75 ‖ and/or 0,50 ‖ and/or 0,50 ‖ and/or 0,50 ‖ and/or 0,00 ‖ and/or 0,25 ‖ and/or 0,50 ‖ and/or 0,50 ‖ and/or 0,00 ‖ and/or 1,00 ‖ and/or 0,75 ‖ and/or 0,50 ‖ and/or 0,50 ‖ and/or 0,50 ‖ and/or 42 ‖ and/or 0,75 ‖ and/or 0,00 ‖ and/or 0,50 ‖ and/or 1,00 ‖ and/or 0,25 ‖ and/or 0,25 ‖ and/or 0,50 ‖ and/or 1,00 ‖ and/or 0,75 ‖ and/or 0,75 ‖ and/or 0,25 ‖ and/or 0,00 ‖ and/or 0,25 ‖ and/or 0,75 ‖ and/or 0,75 ‖ and/or 0,00 ‖ and/or 0,75 ‖ and/or 1,00 ‖ and/or 0,50 ‖ and/or 1,00 ‖ and/or 0,75 ‖ and/or 43 ‖ and/or 0,75 ‖ and/or 0,00 ‖ and/or 0,25 ‖ and/or 0,75 ‖ and/or 0,25 ‖ and/or 0,25 ‖ and/or 0,50 ‖ and/or 0,75 ‖ and/or 0,75 ‖ and/or 0,50 ‖ and/or 0,25 ‖ and/or 0,00 ‖ and/or 0,50 ‖ and/or 0,75 ‖ and/or 0,75 ‖ and/or 0,00 ‖ and/or 0,50 ‖ and/or 0,50 ‖ and/or 1,00 ‖ and/or 0,50 ‖ and/or 0,50 ‖ and/or 44 ‖ and/or 0,50 ‖ and/or 0,00 ‖ and/or 0,25 ‖ and/or 0,75 ‖ and/or 0,00 ‖ and/or 0,00 ‖ and/or 0,25 ‖ and/or 0,75 ‖ and/or 0,50 ‖ and/or 0,75 ‖ and/or 0,00 ‖ and/or 0,00 ‖ and/or 0,00 ‖ and/or 0,50 ‖ and/or 0,50 ‖ and/or 0,00 ‖ and/or 0,50 ‖ and/or 1,00 ‖ and/or 0,50 ‖ and/or 1,00 ‖ and/or 0,50 ‖ and/or 45 ‖ and/or 0,50 ‖ and/or 0,00 ‖ and/or 1,00 ‖ and/or 0,75 ‖ and/or 0,00 ‖ and/or 0,25 ‖ and/or 0,00 ‖ and/or 0,75 ‖ and/or 0,75 ‖ and/or 0,75 ‖ and/or 0,00 ‖ and/or 0,00 ‖ and/or 0,00 ‖ and/or 0,75 ‖ and/or 0,75 ‖ and/or 0,00 ‖ and/or 0,50 ‖ and/or 0,75 ‖ and/or 0,50 ‖ and/or 0,50 ‖ and/or 1,00’❭ ‖ the section ‘Correlation coefficients for earthquake risk in the Slovak Republic’ is replaced by the following ‖ ‘Correlation coefficients for earthquake risk in the Slovak Republic ❬j ‖ and/or i ‖ and/or 1 ‖ and/or 2 ‖ and/or 3 ‖ and/or 4 ‖ and/or 5 ‖ and/or 6 ‖ and/or 7 ‖ and/or 8 ‖ and/or 9 ‖ and/or 10 ‖ and/or 11 ‖ and/or 12 ‖ and/or 13 ‖ and/or 14 ‖ and/or 15 ‖ and/or 16 ‖ and/or 17 ‖ and/or 18 ‖ and/or 19 ‖ and/or 20 ‖ and/or 21 ‖ and/or 22 ‖ and/or 23 ‖ and/or 24 ‖ and/or 1 ‖ and/or 1,00 ‖ and/or 0,25 ‖ and/or 0,25 ‖ and/or 0,00 ‖ and/or 0,00 ‖ and/or 0,00 ‖ and/or 0,00 ‖ and/or 0,00 ‖ and/or 0,00 ‖ and/or 0,00 ‖ and/or 0,00 ‖ and/or 0,00 ‖ and/or 0,00 ‖ and/or 0,00 ‖ and/or 0,00 ‖ and/or 0,25 ‖ and/or 0,00 ‖ and/or 0,00 ‖ and/or 0,00 ‖ and/or 0,25 ‖ and/or 0,25 ‖ and/or 0,50 ‖ and/or 0,00 ‖ and/or 0,00 ‖ and/or 2 ‖ and/or 0,25 ‖ and/or 1,00 ‖ and/or 0,75 ‖ and/or 0,00 ‖ and/or 0,25 ‖ and/or 0,00 ‖ and/or 0,00 ‖ and/or 0,00 ‖ and/or 0,00 ‖ and/or 0,00 ‖ and/or 0,00 ‖ and/or 0,00 ‖ and/or 0,00 ‖ and/or 0,00 ‖ and/or 0,00 ‖ and/or 0,00 ‖ and/or 0,00 ‖ and/or 0,00 ‖ and/or 0,00 ‖ and/or 0,00 ‖ and/or 0,00 ‖ and/or 0,25 ‖ and/or 0,25 ‖ and/or 0,00 ‖ and/or 3 ‖ and/or 0,25 ‖ and/or 0,75 ‖ and/or 1,00 ‖ and/or 0,00 ‖ and/or 0,25 ‖ and/or 0,00 ‖ and/or 0,00 ‖ and/or 0,00 ‖ and/or 0,00 ‖ and/or 0,00 ‖ and/or 0,00 ‖ and/or 0,00 ‖ and/or 0,00 ‖ and/or 0,00 ‖ and/or 0,00 ‖ and/or 0,00 ‖ and/or 0,00 ‖ and/or 0,00 ‖ and/or 0,00 ‖ and/or 0,00 ‖ and/or 0,25 ‖ and/or 0,50 ‖ and/or 0,25 ‖ and/or 0,00 ‖ and/or 4 ‖ and/or 0,00 ‖ and/or 0,00 ‖ and/or 0,00 ‖ and/or 1,00 ‖ and/or 0,50 ‖ and/or 0,25 ‖ and/or 0,25 ‖ and/or 0,50 ‖ and/or 0,00 ‖ and/or 0,00 ‖ and/or 0,00 ‖ and/or 0,00 ‖ and/or 0,00 ‖ and/or 0,50 ‖ and/or 0,00 ‖ and/or 0,00 ‖ and/or 0,00 ‖ and/or 0,00 ‖ and/or 0,00 ‖ and/or 0,00 ‖ and/or 0,00 ‖ and/or 0,00 ‖ and/or 0,00 ‖ and/or 0,00 ‖ and/or 5 ‖ and/or 0,00 ‖ and/or 0,25 ‖ and/or 0,25 ‖ and/or 0,50 ‖ and/or 1,00 ‖ and/or 0,50 ‖ and/or 0,00 ‖ and/or 0,50 ‖ and/or 0,00 ‖ and/or 0,00 ‖ and/or 0,00 ‖ and/or 0,00 ‖ and/or 0,00 ‖ and/or 0,00 ‖ and/or 0,00 ‖ and/or 0,00 ‖ and/or 0,00 ‖ and/or 0,00 ‖ and/or 0,00 ‖ and/or 0,00 ‖ and/or 0,00 ‖ and/or 0,00 ‖ and/or 0,25 ‖ and/or 0,00 ‖ and/or 6 ‖ and/or 0,00 ‖ and/or 0,00 ‖ and/or 0,00 ‖ and/or 0,25 ‖ and/or 0,50 ‖ and/or 1,00 ‖ and/or 0,25 ‖ and/or 0,50 ‖ and/or 0,00 ‖ and/or 0,00 ‖ and/or 0,00 ‖ and/or 0,00 ‖ and/or 0,00 ‖ and/or 0,50 ‖ and/or 0,00 ‖ and/or 0,00 ‖ and/or 0,00 ‖ and/or 0,00 ‖ and/or 0,00 ‖ and/or 0,00 ‖ and/or 0,00 ‖ and/or 0,00 ‖ and/or 0,00 ‖ and/or 0,00 ‖ and/or 7 ‖ and/or 0,00 ‖ and/or 0,00 ‖ and/or 0,00 ‖ and/or 0,25 ‖ and/or 0,00 ‖ and/or 0,25 ‖ and/or 1,00 ‖ and/or 0,00 ‖ and/or 0,00 ‖ and/or 0,00 ‖ and/or 0,00 ‖ and/or 0,00 ‖ and/or 0,00 ‖ and/or 0,50 ‖ and/or 0,00 ‖ and/or 0,00 ‖ and/or 0,00 ‖ and/or 0,00 ‖ and/or 0,00 ‖ and/or 0,00 ‖ and/or 0,00 ‖ and/or 0,00 ‖ and/or 0,00 ‖ and/or 0,00 ‖ and/or 8 ‖ and/or 0,00 ‖ and/or 0,00 ‖ and/or 0,00 ‖ and/or 0,50 ‖ and/or 0,50 ‖ and/or 0,50 ‖ and/or 0,00 ‖ and/or 1,00 ‖ and/or 0,00 ‖ and/or 0,00 ‖ and/or 0,00 ‖ and/or 0,00 ‖ and/or 0,00 ‖ and/or 0,50 ‖ and/or 0,00 ‖ and/or 0,00 ‖ and/or 0,00 ‖ and/or 0,00 ‖ and/or 0,00 ‖ and/or 0,00 ‖ and/or 0,00 ‖ and/or 0,00 ‖ and/or 0,00 ‖ and/or 0,00 ‖ and/or 9 ‖ and/or 0,00 ‖ and/or 0,00 ‖ and/or 0,00 ‖ and/or 0,00 ‖ and/or 0,00 ‖ and/or 0,00 ‖ and/or 0,00 ‖ and/or 0,00 ‖ and/or 1,00 ‖ and/or 0,00 ‖ and/or 0,00 ‖ and/or 0,00 ‖ and/or 0,00 ‖ and/or 0,00 ‖ and/or 0,00 ‖ and/or 0,00 ‖ and/or 0,00 ‖ and/or 0,00 ‖ and/or 0,00 ‖ and/or 0,00 ‖ and/or 0,00 ‖ and/or 0,00 ‖ and/or 0,00 ‖ and/or 0,00 ‖ and/or 10 ‖ and/or 0,00 ‖ and/or 0,00 ‖ and/or 0,00 ‖ and/or 0,00 ‖ and/or 0,00 ‖ and/or 0,00 ‖ and/or 0,00 ‖ and/or 0,00 ‖ and/or 0,00 ‖ and/or 1,00 ‖ and/or 1,00 ‖ and/or 1,00 ‖ and/or 1,00 ‖ and/or 1,00 ‖ and/or 0,50 ‖ and/or 0,00 ‖ and/or 0,00 ‖ and/or 0,00 ‖ and/or 0,00 ‖ and/or 0,00 ‖ and/or 0,00 ‖ and/or 0,00 ‖ and/or 0,00 ‖ and/or 0,00 ‖ and/or 11 ‖ and/or 0,00 ‖ and/or 0,00 ‖ and/or 0,00 ‖ and/or 0,00 ‖ and/or 0,00 ‖ and/or 0,00 ‖ and/or 0,00 ‖ and/or 0,00 ‖ and/or 0,00 ‖ and/or 1,00 ‖ and/or 1,00 ‖ and/or 1,00 ‖ and/or 0,75 ‖ and/or 1,00 ‖ and/or 0,50 ‖ and/or 0,00 ‖ and/or 0,00 ‖ and/or 0,00 ‖ and/or 0,00 ‖ and/or 0,00 ‖ and/or 0,00 ‖ and/or 0,00 ‖ and/or 0,00 ‖ and/or 0,00 ‖ and/or 12 ‖ and/or 0,00 ‖ and/or 0,00 ‖ and/or 0,00 ‖ and/or 0,00 ‖ and/or 0,00 ‖ and/or 0,00 ‖ and/or 0,00 ‖ and/or 0,00 ‖ and/or 0,00 ‖ and/or 1,00 ‖ and/or 1,00 ‖ and/or 1,00 ‖ and/or 0,75 ‖ and/or 0,75 ‖ and/or 0,50 ‖ and/or 0,00 ‖ and/or 0,00 ‖ and/or 0,00 ‖ and/or 0,00 ‖ and/or 0,00 ‖ and/or 0,00 ‖ and/or 0,00 ‖ and/or 0,00 ‖ and/or 0,00 ‖ and/or 13 ‖ and/or 0,00 ‖ and/or 0,00 ‖ and/or 0,00 ‖ and/or 0,00 ‖ and/or 0,00 ‖ and/or 0,00 ‖ and/or 0,00 ‖ and/or 0,00 ‖ and/or 0,00 ‖ and/or 1,00 ‖ and/or 0,75 ‖ and/or 0,75 ‖ and/or 1,00 ‖ and/or 0,75 ‖ and/or 0,50 ‖ and/or 0,00 ‖ and/or 0,00 ‖ and/or 0,00 ‖ and/or 0,00 ‖ and/or 0,00 ‖ and/or 0,00 ‖ and/or 0,00 ‖ and/or 0,00 ‖ and/or 0,00 ‖ and/or 14 ‖ and/or 0,00 ‖ and/or 0,00 ‖ and/or 0,00 ‖ and/or 0,50 ‖ and/or 0,00 ‖ and/or 0,50 ‖ and/or 0,50 ‖ and/or 0,50 ‖ and/or 0,00 ‖ and/or 1,00 ‖ and/or 1,00 ‖ and/or 0,75 ‖ and/or 0,75 ‖ and/or 1,00 ‖ and/or 0,50 ‖ and/or 0,00 ‖ and/or 0,00 ‖ and/or 0,00 ‖ and/or 0,00 ‖ and/or 0,00 ‖ and/or 0,00 ‖ and/or 0,00 ‖ and/or 0,00 ‖ and/or 0,00 ‖ and/or 15 ‖ and/or 0,00 ‖ and/or 0,00 ‖ and/or 0,00 ‖ and/or 0,00 ‖ and/or 0,00 ‖ and/or 0,00 ‖ and/or 0,00 ‖ and/or 0,00 ‖ and/or 0,00 ‖ and/or 0,50 ‖ and/or 0,50 ‖ and/or 0,50 ‖ and/or 0,50 ‖ and/or 0,50 ‖ and/or 1,00 ‖ and/or 0,50 ‖ and/or 0,50 ‖ and/or 0,00 ‖ and/or 0,00 ‖ and/or 0,00 ‖ and/or 0,00 ‖ and/or 0,00 ‖ and/or 0,00 ‖ and/or 0,00 ‖ and/or 16 ‖ and/or 0,25 ‖ and/or 0,00 ‖ and/or 0,00 ‖ and/or 0,00 ‖ and/or 0,00 ‖ and/or 0,00 ‖ and/or 0,00 ‖ and/or 0,00 ‖ and/or 0,00 ‖ and/or 0,00 ‖ and/or 0,00 ‖ and/or 0,00 ‖ and/or 0,00 ‖ and/or 0,00 ‖ and/or 0,50 ‖ and/or 1,00 ‖ and/or 0,75 ‖ and/or 0,00 ‖ and/or 0,00 ‖ and/or 0,50 ‖ and/or 0,00 ‖ and/or 0,25 ‖ and/or 0,00 ‖ and/or 0,00 ‖ and/or 17 ‖ and/or 0,00 ‖ and/or 0,00 ‖ and/or 0,00 ‖ and/or 0,00 ‖ and/or 0,00 ‖ and/or 0,00 ‖ and/or 0,00 ‖ and/or 0,00 ‖ and/or 0,00 ‖ and/or 0,00 ‖ and/or 0,00 ‖ and/or 0,00 ‖ and/or 0,00 ‖ and/or 0,00 ‖ and/or 0,50 ‖ and/or 0,75 ‖ and/or 1,00 ‖ and/or 0,00 ‖ and/or 0,00 ‖ and/or 0,50 ‖ and/or 0,00 ‖ and/or 0,00 ‖ and/or 0,00 ‖ and/or 0,00 ‖ and/or 18 ‖ and/or 0,00 ‖ and/or 0,00 ‖ and/or 0,00 ‖ and/or 0,00 ‖ and/or 0,00 ‖ and/or 0,00 ‖ and/or 0,00 ‖ and/or 0,00 ‖ and/or 0,00 ‖ and/or 0,00 ‖ and/or 0,00 ‖ and/or 0,00 ‖ and/or 0,00 ‖ and/or 0,00 ‖ and/or 0,00 ‖ and/or 0,00 ‖ and/or 0,00 ‖ and/or 1,00 ‖ and/or 0,50 ‖ and/or 0,00 ‖ and/or 0,50 ‖ and/or 0,00 ‖ and/or 0,25 ‖ and/or 0,50 ‖ and/or 19 ‖ and/or 0,00 ‖ and/or 0,00 ‖ and/or 0,00 ‖ and/or 0,00 ‖ and/or 0,00 ‖ and/or 0,00 ‖ and/or 0,00 ‖ and/or 0,00 ‖ and/or 0,00 ‖ and/or 0,00 ‖ and/or 0,00 ‖ and/or 0,00 ‖ and/or 0,00 ‖ and/or 0,00 ‖ and/or 0,00 ‖ and/or 0,00 ‖ and/or 0,00 ‖ and/or 0,50 ‖ and/or 1,00 ‖ and/or 0,00 ‖ and/or 0,25 ‖ and/or 0,00 ‖ and/or 0,00 ‖ and/or 0,25 ‖ and/or 20 ‖ and/or 0,25 ‖ and/or 0,00 ‖ and/or 0,00 ‖ and/or 0,00 ‖ and/or 0,00 ‖ and/or 0,00 ‖ and/or 0,00 ‖ and/or 0,00 ‖ and/or 0,00 ‖ and/or 0,00 ‖ and/or 0,00 ‖ and/or 0,00 ‖ and/or 0,00 ‖ and/or 0,00 ‖ and/or 0,00 ‖ and/or 0,50 ‖ and/or 0,50 ‖ and/or 0,00 ‖ and/or 0,00 ‖ and/or 1,00 ‖ and/or 0,50 ‖ and/or 0,50 ‖ and/or 0,00 ‖ and/or 0,00 ‖ and/or 21 ‖ and/or 0,25 ‖ and/or 0,00 ‖ and/or 0,25 ‖ and/or 0,00 ‖ and/or 0,00 ‖ and/or 0,00 ‖ and/or 0,00 ‖ and/or 0,00 ‖ and/or 0,00 ‖ and/or 0,00 ‖ and/or 0,00 ‖ and/or 0,00 ‖ and/or 0,00 ‖ and/or 0,00 ‖ and/or 0,00 ‖ and/or 0,00 ‖ and/or 0,00 ‖ and/or 0,50 ‖ and/or 0,25 ‖ and/or 0,50 ‖ and/or 1,00 ‖ and/or 0,75 ‖ and/or 0,25 ‖ and/or 0,50 ‖ and/or 22 ‖ and/or 0,50 ‖ and/or 0,25 ‖ and/or 0,50 ‖ and/or 0,00 ‖ and/or 0,00 ‖ and/or 0,00 ‖ and/or 0,00 ‖ and/or 0,00 ‖ and/or 0,00 ‖ and/or 0,00 ‖ and/or 0,00 ‖ and/or 0,00 ‖ and/or 0,00 ‖ and/or 0,00 ‖ and/or 0,00 ‖ and/or 0,25 ‖ and/or 0,00 ‖ and/or 0,00 ‖ and/or 0,00 ‖ and/or 0,50 ‖ and/or 0,75 ‖ and/or 1,00 ‖ and/or 0,00 ‖ and/or 0,00 ‖ and/or 23 ‖ and/or 0,00 ‖ and/or 0,25 ‖ and/or 0,25 ‖ and/or 0,00 ‖ and/or 0,25 ‖ and/or 0,00 ‖ and/or 0,00 ‖ and/or 0,00 ‖ and/or 0,00 ‖ and/or 0,00 ‖ and/or 0,00 ‖ and/or 0,00 ‖ and/or 0,00 ‖ and/or 0,00 ‖ and/or 0,00 ‖ and/or 0,00 ‖ and/or 0,00 ‖ and/or 0,25 ‖ and/or 0,00 ‖ and/or 0,00 ‖ and/or 0,25 ‖ and/or 0,00 ‖ and/or 1,00 ‖ and/or 0,75 ‖ and/or 24 ‖ and/or 0,00 ‖ and/or 0,00 ‖ and/or 0,00 ‖ and/or 0,00 ‖ and/or 0,00 ‖ and/or 0,00 ‖ and/or 0,00 ‖ and/or 0,00 ‖ and/or 0,00 ‖ and/or 0,00 ‖ and/or 0,00 ‖ and/or 0,00 ‖ and/or 0,00 ‖ and/or 0,00 ‖ and/or 0,00 ‖ and/or 0,00 ‖ and/or 0,00 ‖ and/or 0,50 ‖ and/or 0,25 ‖ and/or 0,00 ‖ and/or 0,50 ‖ and/or 0,00 ‖ and/or 0,75 ‖ and/or 1,00’❭❯|(1620958, 2504049)'"
      ]
     },
     "execution_count": 10,
     "metadata": {},
     "output_type": "execute_result"
    }
   ],
   "source": [
    "test_list[ 1699 ]"
   ]
  },
  {
   "cell_type": "code",
   "execution_count": null,
   "metadata": {},
   "outputs": [],
   "source": []
  },
  {
   "cell_type": "code",
   "execution_count": 14,
   "metadata": {},
   "outputs": [],
   "source": [
    "class Test():\n",
    "    \n",
    "    def __init__( self  ):\n",
    "        pass\n",
    "                        \n",
    "    def test_func( self ):\n",
    "        print( verb )\n",
    "        \n",
    "    def run_func( self ):\n",
    "        for verb in range(10):\n",
    "            self.test_func()\n",
    "        "
   ]
  },
  {
   "cell_type": "code",
   "execution_count": 15,
   "metadata": {},
   "outputs": [
    {
     "ename": "NameError",
     "evalue": "name 'verb' is not defined",
     "output_type": "error",
     "traceback": [
      "\u001b[0;31m\u001b[0m",
      "\u001b[0;31mNameError\u001b[0mTraceback (most recent call last)",
      "\u001b[0;32m<ipython-input-15-f01ccb6c1265>\u001b[0m in \u001b[0;36m<module>\u001b[0;34m\u001b[0m\n\u001b[1;32m      1\u001b[0m \u001b[0mtest\u001b[0m\u001b[0;34m=\u001b[0m\u001b[0mTest\u001b[0m\u001b[0;34m(\u001b[0m\u001b[0;34m)\u001b[0m\u001b[0;34m\u001b[0m\u001b[0;34m\u001b[0m\u001b[0m\n\u001b[0;32m----> 2\u001b[0;31m \u001b[0mtest\u001b[0m\u001b[0;34m.\u001b[0m\u001b[0mrun_func\u001b[0m\u001b[0;34m(\u001b[0m\u001b[0;34m)\u001b[0m\u001b[0;34m\u001b[0m\u001b[0;34m\u001b[0m\u001b[0m\n\u001b[0m",
      "\u001b[0;32m<ipython-input-14-be83d1b01ea2>\u001b[0m in \u001b[0;36mrun_func\u001b[0;34m(self)\u001b[0m\n\u001b[1;32m      9\u001b[0m     \u001b[0;32mdef\u001b[0m \u001b[0mrun_func\u001b[0m\u001b[0;34m(\u001b[0m \u001b[0mself\u001b[0m \u001b[0;34m)\u001b[0m\u001b[0;34m:\u001b[0m\u001b[0;34m\u001b[0m\u001b[0;34m\u001b[0m\u001b[0m\n\u001b[1;32m     10\u001b[0m         \u001b[0;32mfor\u001b[0m \u001b[0mverb\u001b[0m \u001b[0;32min\u001b[0m \u001b[0mrange\u001b[0m\u001b[0;34m(\u001b[0m\u001b[0;36m10\u001b[0m\u001b[0;34m)\u001b[0m\u001b[0;34m:\u001b[0m\u001b[0;34m\u001b[0m\u001b[0;34m\u001b[0m\u001b[0m\n\u001b[0;32m---> 11\u001b[0;31m             \u001b[0mself\u001b[0m\u001b[0;34m.\u001b[0m\u001b[0mtest_func\u001b[0m\u001b[0;34m(\u001b[0m\u001b[0;34m)\u001b[0m\u001b[0;34m\u001b[0m\u001b[0;34m\u001b[0m\u001b[0m\n\u001b[0m\u001b[1;32m     12\u001b[0m \u001b[0;34m\u001b[0m\u001b[0m\n",
      "\u001b[0;32m<ipython-input-14-be83d1b01ea2>\u001b[0m in \u001b[0;36mtest_func\u001b[0;34m(self)\u001b[0m\n\u001b[1;32m      5\u001b[0m \u001b[0;34m\u001b[0m\u001b[0m\n\u001b[1;32m      6\u001b[0m     \u001b[0;32mdef\u001b[0m \u001b[0mtest_func\u001b[0m\u001b[0;34m(\u001b[0m \u001b[0mself\u001b[0m \u001b[0;34m)\u001b[0m\u001b[0;34m:\u001b[0m\u001b[0;34m\u001b[0m\u001b[0;34m\u001b[0m\u001b[0m\n\u001b[0;32m----> 7\u001b[0;31m         \u001b[0mprint\u001b[0m\u001b[0;34m(\u001b[0m \u001b[0mverb\u001b[0m \u001b[0;34m)\u001b[0m\u001b[0;34m\u001b[0m\u001b[0;34m\u001b[0m\u001b[0m\n\u001b[0m\u001b[1;32m      8\u001b[0m \u001b[0;34m\u001b[0m\u001b[0m\n\u001b[1;32m      9\u001b[0m     \u001b[0;32mdef\u001b[0m \u001b[0mrun_func\u001b[0m\u001b[0;34m(\u001b[0m \u001b[0mself\u001b[0m \u001b[0;34m)\u001b[0m\u001b[0;34m:\u001b[0m\u001b[0;34m\u001b[0m\u001b[0;34m\u001b[0m\u001b[0m\n",
      "\u001b[0;31mNameError\u001b[0m: name 'verb' is not defined"
     ]
    }
   ],
   "source": [
    "test=Test()\n",
    "test.run_func()"
   ]
  },
  {
   "cell_type": "code",
   "execution_count": 16,
   "metadata": {},
   "outputs": [
    {
     "name": "stdout",
     "output_type": "stream",
     "text": [
      "1\n",
      "2\n"
     ]
    }
   ],
   "source": [
    "def test_func(  ):\n",
    "    print( verb )\n",
    "\n",
    "verbs=[ 1,2 ]\n",
    "for verb in verbs:\n",
    "    test_func()"
   ]
  },
  {
   "cell_type": "code",
   "execution_count": null,
   "metadata": {},
   "outputs": [],
   "source": []
  },
  {
   "cell_type": "code",
   "execution_count": null,
   "metadata": {},
   "outputs": [],
   "source": []
  },
  {
   "cell_type": "code",
   "execution_count": 38,
   "metadata": {},
   "outputs": [],
   "source": [
    "#https://github.com/allenai/allennlp/blob/v0.9.0/allennlp/predictors/predictor.py\n",
    "#https://github.com/allenai/allennlp/blob/v0.9.0/allennlp/predictors/semantic_role_labeler.py\n",
    "\n",
    "from spacy.tokens import Doc\n",
    "from allennlp.data.dataset import Batch\n",
    "\n",
    "from allennlp.nn import util\n",
    "\n",
    "reporting_obligations_finder._initialize_tokenizer()\n",
    "\n",
    "\n",
    "input_sentence=\"This is a test. \"*102\n",
    "\n",
    "tokenized_sentence=reporting_obligations_finder._tokenizer.split_words( input_sentence )\n",
    "tokenized_sentence=[str( word ) for word in tokenized_sentence]\n",
    "\n",
    "tokenized_sentence=[ 'on', 'the', 'final', 'system', 'of', 'contributions', 'to', 'the', 'administrative', 'expenditures', 'of', 'the', 'Single', 'Resolution', 'Board']\n",
    "\n",
    "def valid_length_tokenized_sentence( reporting_obligations_finder: ReportingObligationsFinder, tokenized_sentence: List[str]   ):\n",
    "\n",
    "    spacy_doc = Doc(reporting_obligations_finder._tokenizer.spacy.vocab, words=tokenized_sentence)\n",
    "    for pipe in filter(None, reporting_obligations_finder._tokenizer.spacy.pipeline):\n",
    "        pipe[1](spacy_doc)\n",
    "\n",
    "    tokens = [token for token in spacy_doc]\n",
    "    instances = reporting_obligations_finder.bert_model.tokens_to_instances(tokens)\n",
    "\n",
    "    if not instances:\n",
    "        return sanitize({\"verbs\": [], \"words\": tokens})\n",
    "    \n",
    "    #print(instances[0].get_padding_lengths())\n",
    "\n",
    "    dataset = Batch( instances )\n",
    "    \n",
    "    print( instances )\n",
    "    print( dataset.instances )\n",
    "    \n",
    "    dataset.index_instances( reporting_obligations_finder.bert_model._model.vocab  )\n",
    "    \n",
    "    #model_input = util.move_to_device(dataset.as_tensor_dict(), 0 )\n",
    "    \n",
    "    print ( dataset.as_tensor_dict()['tokens']['tokens'] )\n",
    "    \n",
    "    if dataset.as_tensor_dict()['tokens']['tokens'].shape[1] > 512:\n",
    "        return None\n",
    "    else:\n",
    "        return instances\n"
   ]
  },
  {
   "cell_type": "code",
   "execution_count": null,
   "metadata": {},
   "outputs": [],
   "source": [
    "        tokens = [token for token in spacy_doc]\n",
    "        instances = self.tokens_to_instances(tokens)\n",
    "\n",
    "        if not instances:\n",
    "            return sanitize({\"verbs\": [], \"words\": tokens})"
   ]
  },
  {
   "cell_type": "code",
   "execution_count": null,
   "metadata": {},
   "outputs": [],
   "source": []
  },
  {
   "cell_type": "code",
   "execution_count": 39,
   "metadata": {
    "scrolled": true
   },
   "outputs": [
    {
     "name": "stdout",
     "output_type": "stream",
     "text": [
      "[]\n",
      "[]\n"
     ]
    },
    {
     "ename": "IndexError",
     "evalue": "list index out of range",
     "output_type": "error",
     "traceback": [
      "\u001b[0;31m\u001b[0m",
      "\u001b[0;31mIndexError\u001b[0mTraceback (most recent call last)",
      "\u001b[0;32m<ipython-input-39-ad7e71e5600a>\u001b[0m in \u001b[0;36m<module>\u001b[0;34m\u001b[0m\n\u001b[1;32m      1\u001b[0m \u001b[0;32mimport\u001b[0m \u001b[0mtime\u001b[0m\u001b[0;34m\u001b[0m\u001b[0;34m\u001b[0m\u001b[0m\n\u001b[1;32m      2\u001b[0m \u001b[0mstart\u001b[0m\u001b[0;34m=\u001b[0m\u001b[0mtime\u001b[0m\u001b[0;34m.\u001b[0m\u001b[0mtime\u001b[0m\u001b[0;34m(\u001b[0m\u001b[0;34m)\u001b[0m\u001b[0;34m\u001b[0m\u001b[0;34m\u001b[0m\u001b[0m\n\u001b[0;32m----> 3\u001b[0;31m \u001b[0minstances\u001b[0m\u001b[0;34m=\u001b[0m\u001b[0mvalid_length_tokenized_sentence\u001b[0m\u001b[0;34m(\u001b[0m \u001b[0mreporting_obligations_finder\u001b[0m\u001b[0;34m,\u001b[0m \u001b[0mtokenized_sentence\u001b[0m \u001b[0;34m)\u001b[0m\u001b[0;34m\u001b[0m\u001b[0;34m\u001b[0m\u001b[0m\n\u001b[0m\u001b[1;32m      4\u001b[0m \u001b[0mend\u001b[0m\u001b[0;34m=\u001b[0m\u001b[0mtime\u001b[0m\u001b[0;34m.\u001b[0m\u001b[0mtime\u001b[0m\u001b[0;34m(\u001b[0m\u001b[0;34m)\u001b[0m\u001b[0;34m\u001b[0m\u001b[0;34m\u001b[0m\u001b[0m\n\u001b[1;32m      5\u001b[0m \u001b[0mprint\u001b[0m\u001b[0;34m(\u001b[0m \u001b[0mend\u001b[0m\u001b[0;34m-\u001b[0m\u001b[0mstart\u001b[0m \u001b[0;34m)\u001b[0m\u001b[0;34m\u001b[0m\u001b[0;34m\u001b[0m\u001b[0m\n",
      "\u001b[0;32m<ipython-input-38-1f90d7fcb8aa>\u001b[0m in \u001b[0;36mvalid_length_tokenized_sentence\u001b[0;34m(reporting_obligations_finder, tokenized_sentence)\u001b[0m\n\u001b[1;32m     40\u001b[0m     \u001b[0mdataset\u001b[0m\u001b[0;34m.\u001b[0m\u001b[0mindex_instances\u001b[0m\u001b[0;34m(\u001b[0m \u001b[0mreporting_obligations_finder\u001b[0m\u001b[0;34m.\u001b[0m\u001b[0mbert_model\u001b[0m\u001b[0;34m.\u001b[0m\u001b[0m_model\u001b[0m\u001b[0;34m.\u001b[0m\u001b[0mvocab\u001b[0m  \u001b[0;34m)\u001b[0m\u001b[0;34m\u001b[0m\u001b[0;34m\u001b[0m\u001b[0m\n\u001b[1;32m     41\u001b[0m \u001b[0;34m\u001b[0m\u001b[0m\n\u001b[0;32m---> 42\u001b[0;31m     \u001b[0mmodel_input\u001b[0m \u001b[0;34m=\u001b[0m \u001b[0mutil\u001b[0m\u001b[0;34m.\u001b[0m\u001b[0mmove_to_device\u001b[0m\u001b[0;34m(\u001b[0m\u001b[0mdataset\u001b[0m\u001b[0;34m.\u001b[0m\u001b[0mas_tensor_dict\u001b[0m\u001b[0;34m(\u001b[0m\u001b[0;34m)\u001b[0m\u001b[0;34m,\u001b[0m \u001b[0;36m0\u001b[0m \u001b[0;34m)\u001b[0m\u001b[0;34m\u001b[0m\u001b[0;34m\u001b[0m\u001b[0m\n\u001b[0m\u001b[1;32m     43\u001b[0m \u001b[0;34m\u001b[0m\u001b[0m\n\u001b[1;32m     44\u001b[0m     \u001b[0mprint\u001b[0m \u001b[0;34m(\u001b[0m \u001b[0mdataset\u001b[0m\u001b[0;34m.\u001b[0m\u001b[0mas_tensor_dict\u001b[0m\u001b[0;34m(\u001b[0m\u001b[0;34m)\u001b[0m\u001b[0;34m[\u001b[0m\u001b[0;34m'tokens'\u001b[0m\u001b[0;34m]\u001b[0m\u001b[0;34m[\u001b[0m\u001b[0;34m'tokens'\u001b[0m\u001b[0;34m]\u001b[0m \u001b[0;34m)\u001b[0m\u001b[0;34m\u001b[0m\u001b[0;34m\u001b[0m\u001b[0m\n",
      "\u001b[0;32m/miniconda/lib/python3.7/site-packages/allennlp/data/dataset.py\u001b[0m in \u001b[0;36mas_tensor_dict\u001b[0;34m(self, padding_lengths, verbose)\u001b[0m\n\u001b[1;32m    142\u001b[0m         \u001b[0;31m# tensors together, so we grab a dictionary of field_name -> field class from the first\u001b[0m\u001b[0;34m\u001b[0m\u001b[0;34m\u001b[0m\u001b[0;34m\u001b[0m\u001b[0m\n\u001b[1;32m    143\u001b[0m         \u001b[0;31m# instance in the batch.\u001b[0m\u001b[0;34m\u001b[0m\u001b[0;34m\u001b[0m\u001b[0;34m\u001b[0m\u001b[0m\n\u001b[0;32m--> 144\u001b[0;31m         \u001b[0mfield_classes\u001b[0m \u001b[0;34m=\u001b[0m \u001b[0mself\u001b[0m\u001b[0;34m.\u001b[0m\u001b[0minstances\u001b[0m\u001b[0;34m[\u001b[0m\u001b[0;36m0\u001b[0m\u001b[0;34m]\u001b[0m\u001b[0;34m.\u001b[0m\u001b[0mfields\u001b[0m\u001b[0;34m\u001b[0m\u001b[0;34m\u001b[0m\u001b[0m\n\u001b[0m\u001b[1;32m    145\u001b[0m         \u001b[0mfinal_fields\u001b[0m \u001b[0;34m=\u001b[0m \u001b[0;34m{\u001b[0m\u001b[0;34m}\u001b[0m\u001b[0;34m\u001b[0m\u001b[0;34m\u001b[0m\u001b[0m\n\u001b[1;32m    146\u001b[0m         \u001b[0;32mfor\u001b[0m \u001b[0mfield_name\u001b[0m\u001b[0;34m,\u001b[0m \u001b[0mfield_tensor_list\u001b[0m \u001b[0;32min\u001b[0m \u001b[0mfield_tensors\u001b[0m\u001b[0;34m.\u001b[0m\u001b[0mitems\u001b[0m\u001b[0;34m(\u001b[0m\u001b[0;34m)\u001b[0m\u001b[0;34m:\u001b[0m\u001b[0;34m\u001b[0m\u001b[0;34m\u001b[0m\u001b[0m\n",
      "\u001b[0;31mIndexError\u001b[0m: list index out of range"
     ]
    }
   ],
   "source": [
    "import time\n",
    "start=time.time()\n",
    "instances=valid_length_tokenized_sentence( reporting_obligations_finder, tokenized_sentence )\n",
    "end=time.time()\n",
    "print( end-start )"
   ]
  },
  {
   "cell_type": "code",
   "execution_count": null,
   "metadata": {},
   "outputs": [],
   "source": [
    "reporting_obligations_finder.bert_model.predict_instances( instances )"
   ]
  },
  {
   "cell_type": "code",
   "execution_count": null,
   "metadata": {},
   "outputs": [],
   "source": [
    "reporting_obligations_finder.bert_model.predict_"
   ]
  },
  {
   "cell_type": "code",
   "execution_count": 40,
   "metadata": {},
   "outputs": [],
   "source": [
    "parsed_sentence=reporting_obligations_finder.bert_model.predict_tokenized(\n",
    "    tokenized_sentence=tokenized_sentence\n",
    ")"
   ]
  },
  {
   "cell_type": "code",
   "execution_count": 41,
   "metadata": {},
   "outputs": [
    {
     "data": {
      "text/plain": [
       "['on',\n",
       " 'the',\n",
       " 'final',\n",
       " 'system',\n",
       " 'of',\n",
       " 'contributions',\n",
       " 'to',\n",
       " 'the',\n",
       " 'administrative',\n",
       " 'expenditures',\n",
       " 'of',\n",
       " 'the',\n",
       " 'Single',\n",
       " 'Resolution',\n",
       " 'Board']"
      ]
     },
     "execution_count": 41,
     "metadata": {},
     "output_type": "execute_result"
    }
   ],
   "source": [
    "tokenized_sentence"
   ]
  },
  {
   "cell_type": "code",
   "execution_count": 26,
   "metadata": {},
   "outputs": [
    {
     "data": {
      "text/plain": [
       "{'verbs': [],\n",
       " 'words': ['on',\n",
       "  'the',\n",
       "  'final',\n",
       "  'system',\n",
       "  'of',\n",
       "  'contributions',\n",
       "  'to',\n",
       "  'the',\n",
       "  'administrative',\n",
       "  'expenditures',\n",
       "  'of',\n",
       "  'the',\n",
       "  'Single',\n",
       "  'Resolution',\n",
       "  'Board']}"
      ]
     },
     "execution_count": 26,
     "metadata": {},
     "output_type": "execute_result"
    }
   ],
   "source": [
    "parsed_sentence"
   ]
  },
  {
   "cell_type": "code",
   "execution_count": null,
   "metadata": {},
   "outputs": [],
   "source": []
  },
  {
   "cell_type": "code",
   "execution_count": null,
   "metadata": {},
   "outputs": [],
   "source": []
  },
  {
   "cell_type": "code",
   "execution_count": null,
   "metadata": {},
   "outputs": [],
   "source": []
  },
  {
   "cell_type": "code",
   "execution_count": null,
   "metadata": {
    "scrolled": true
   },
   "outputs": [],
   "source": []
  },
  {
   "cell_type": "code",
   "execution_count": null,
   "metadata": {},
   "outputs": [],
   "source": []
  },
  {
   "cell_type": "code",
   "execution_count": 4,
   "metadata": {
    "scrolled": true
   },
   "outputs": [
    {
     "name": "stdout",
     "output_type": "stream",
     "text": [
      "23.9.2016|(192, 204)\n",
      "EN|(255, 257)\n",
      "Official Journal of the European Union|(308, 346)\n",
      "L 257/10|(397, 405)\n",
      "REGULATION (EU) 2016/1705 OF THE EUROPEAN CENTRAL BANK|(465, 519)\n",
      "of 9 September 2016|(526, 545)\n",
      "amending Regulation (EC) No 1745/2003 (ECB/2003/9) on the application of minimum reserves (ECB/2016/26)|(552, 655)\n",
      "THE GOVERNING COUNCIL OF THE EUROPEAN CENTRAL BANK,|(662, 713)\n",
      "Having regard to the Statute of the European System of Central Banks and of the European Central Bank, and in particular Article 19.1 thereof,|(720, 862)\n",
      "Having regard to Council Regulation (EC) No 2531/98 of 23 November 1998 concerning the application of minimum reserves by the European Central Bank (1),|(869, 1021)\n",
      "Whereas, , For the exclusion of interbank liabilities from the reserve base, any standard deduction to be applied to liabilities with a maturity of up to two years within the debt securities category should be based on the euro area-wide macro ratio between: (a) the stock of relevant instruments issued by credit institutions and held by other credit institutions and by the ECB and participating national central banks; and (b) the total amount outstanding of such instruments issued by credit institutions. The method for applying the standard deduction set out in Article 3(2) of Regulation (EC) No 1745/2003 of the European Central Bank (ECB/2003/9) (2) should be further clarified.|(1028, 2119)\n",
      "Whereas, , Therefore, Regulation (EC) No 1745/2003 (ECB/2003/9) should be amended accordingly.|(1028, 2119)\n",
      "HAS ADOPTED THIS REGULATION:|(2172, 2200)\n",
      "Article 1|(2207, 2216)\n",
      "Amendments|(2223, 2233)\n",
      "Regulation (EC) No 1745/2003 (ECB/2003/9) is amended as described in the following list ❮Article 3 is amended as follows ❬paragraphs 1 and 2 are replaced by the following ‖ and/or ‘1.   An institution's reserve base shall comprise the following liabilities, as defined in the ECB's reporting framework laid down in Regulation (EU) No 1071/2013 of the European Central Bank (ECB/2013/33) (*), resulting from the acceptance of funds ⟨deposits ‖ and/or debt securities issued⟩ ‖ and/or If an institution has liabilities in relation to a branch of the same entity, or in relation to the head office or registered office of the same entity, which are located outside participating Member States, it shall include such liabilities in the reserve base ‖ and/or 2.   The following liabilities shall be excluded from the reserve base ⟨liabilities owed to any other institution not included on the list of institutions exempt from the ECB's minimum reserve requirements in accordance with Article 2(3) ‖ and/or liabilities owed to the ECB or to a participating NCB⟩ ‖ and/or (*)  Regulation (EU) No 1071/2013 of the European Central Bank of 24 September 2013 concerning the balance sheet of the monetary financial institutions sector (ECB/2013/33) (OJ L 297, 7.11.2013, p. 1).’;\" ‖ and/or the following paragraph 2a is inserted ‖ and/or ‘2a.   For the liability category “deposits” referred to in point (a) of paragraph 1, the exclusion, as referred to in paragraph 2, shall be effected in the following manner: the institution shall provide evidence to the relevant participating NCB of the amount of liabilities referred to in points (a) and (b) of paragraph 2, and the amount evidenced shall be deducted from the reserve base ‖ and/or For the liability category “debt securities issued” referred to in point (b) of paragraph 1, the exclusion, as referred to in paragraph 2, shall be effected by deducting an amount from the reserve base in the following manner ⟨the institution shall provide evidence to the relevant participating NCB of the amount of liabilities referred to in points (a) and (b) of paragraph 2, and the amount evidenced shall be deducted from the reserve base ‖ and/or where the institution is unable to provide evidence to the relevant participating NCB of the amount of liabilities referred to in points (a) and (b) of paragraph 2, the institution shall apply the standard deduction published on the ECB's website to the outstanding amount of the debt securities which it has issued and which have an original maturity of up to and including two years.’⟩❭ ‖ Throughout the Regulation, the words ‘for money and banking statistics’ are deleted❯|(2240, 9161)\n",
      "Article 2|(9214, 9223)\n",
      "Final provisions|(9230, 9246)\n",
      "This Regulation shall enter into force on 14 December 2016.|(9253, 9312)\n",
      "This Regulation shall be binding in its entirety and directly applicable in the Member States in accordance with the Treaties.|(9329, 9455)\n",
      "Done at Frankfurt am Main, 9 September 2016.|(9465, 9509)\n",
      "For the Governing Council of the ECB|(9532, 9597)\n",
      "The President of the ECB|(9610, 9663)\n",
      "Mario DRAGHI|(9676, 9688)\n",
      "(1)  OJ L 318, 27.11.1998, p. 1.|(9719, 9761)\n",
      "(2)  Regulation (EC) No 1745/2003 of the European Central Bank of 12 September 2003 on the application of minimum reserves (ECB/2003/9) (OJ L 250, 2.10.2003, p. 10).|(9768, 9943)\n"
     ]
    }
   ],
   "source": [
    "print( cas.get_view( \"ListView\" ).sofa_string )"
   ]
  },
  {
   "cell_type": "code",
   "execution_count": 5,
   "metadata": {},
   "outputs": [],
   "source": [
    "problematic_sentence=cas.get_view( \"ListView\" ).sofa_string.split( \"\\n\" )[15]\n",
    "\n",
    "offset=eval(problematic_sentence.split( \"|\" )[-1])\n",
    "assert type( offset ) ==tuple\n",
    "sentence= \"|\".join(problematic_sentence.split( \"|\" )[:-1]) \n",
    "\n",
    "\n",
    "sentence=sentence.rstrip( '\\r\\n' )\n",
    "subsentence = re.sub(r'(^[^❮]+|[^❯]+$)',r'', sentence)  #finds everything between \" ❮ ❯ \" ==>the main sentence\n",
    "if len(subsentence) > 0: sentence = sentence.replace(subsentence, '', 1)  #remove everything inside \" ❮ ❯ \" from the string\n"
   ]
  },
  {
   "cell_type": "code",
   "execution_count": 6,
   "metadata": {},
   "outputs": [
    {
     "data": {
      "text/plain": [
       "True"
      ]
     },
     "execution_count": 6,
     "metadata": {},
     "output_type": "execute_result"
    }
   ],
   "source": [
    "\" shall \" in subsentence"
   ]
  },
  {
   "cell_type": "code",
   "execution_count": 7,
   "metadata": {},
   "outputs": [
    {
     "data": {
      "text/plain": [
       "'❮Article 3 is amended as follows ❬paragraphs 1 and 2 are replaced by the following ‖ and/or ‘1.   An institution\\'s reserve base shall comprise the following liabilities, as defined in the ECB\\'s reporting framework laid down in Regulation (EU) No 1071/2013 of the European Central Bank (ECB/2013/33) (*), resulting from the acceptance of funds ⟨deposits ‖ and/or debt securities issued⟩ ‖ and/or If an institution has liabilities in relation to a branch of the same entity, or in relation to the head office or registered office of the same entity, which are located outside participating Member States, it shall include such liabilities in the reserve base ‖ and/or 2.   The following liabilities shall be excluded from the reserve base ⟨liabilities owed to any other institution not included on the list of institutions exempt from the ECB\\'s minimum reserve requirements in accordance with Article 2(3) ‖ and/or liabilities owed to the ECB or to a participating NCB⟩ ‖ and/or (*)  Regulation (EU) No 1071/2013 of the European Central Bank of 24 September 2013 concerning the balance sheet of the monetary financial institutions sector (ECB/2013/33) (OJ L 297, 7.11.2013, p. 1).’;\" ‖ and/or the following paragraph 2a is inserted ‖ and/or ‘2a.   For the liability category “deposits” referred to in point (a) of paragraph 1, the exclusion, as referred to in paragraph 2, shall be effected in the following manner: the institution shall provide evidence to the relevant participating NCB of the amount of liabilities referred to in points (a) and (b) of paragraph 2, and the amount evidenced shall be deducted from the reserve base ‖ and/or For the liability category “debt securities issued” referred to in point (b) of paragraph 1, the exclusion, as referred to in paragraph 2, shall be effected by deducting an amount from the reserve base in the following manner ⟨the institution shall provide evidence to the relevant participating NCB of the amount of liabilities referred to in points (a) and (b) of paragraph 2, and the amount evidenced shall be deducted from the reserve base ‖ and/or where the institution is unable to provide evidence to the relevant participating NCB of the amount of liabilities referred to in points (a) and (b) of paragraph 2, the institution shall apply the standard deduction published on the ECB\\'s website to the outstanding amount of the debt securities which it has issued and which have an original maturity of up to and including two years.’⟩❭ ‖ Throughout the Regulation, the words ‘for money and banking statistics’ are deleted❯'"
      ]
     },
     "execution_count": 7,
     "metadata": {},
     "output_type": "execute_result"
    }
   ],
   "source": [
    "subsentence"
   ]
  },
  {
   "cell_type": "code",
   "execution_count": 25,
   "metadata": {
    "scrolled": true
   },
   "outputs": [],
   "source": [
    "list_subsentences = re.sub(r' ‖ and/or ', r' and/or ', subsentence).lstrip('❮').rstrip('❯').split(' ‖ ')\n",
    "list_subsentences[0]\n",
    "\n",
    "input_sentence=list_subsentences[0][:2300]\n",
    "\n",
    "reporting_obligations_finder._initialize_tokenizer()\n",
    "\n",
    "tokenized_sentence=reporting_obligations_finder._tokenizer.split_words( input_sentence )\n",
    "tokenized_sentence=[str( word ) for word in tokenized_sentence]\n",
    "\n",
    "#parsed_sentence=reporting_obligations_finder.parse_sentence( tokenized_sentence[:430] )\n",
    "#parsed_sentence=reporting_obligations_finder.parse_sentence( tokenized_sentence[:200] )  #400 <-> 430\n"
   ]
  },
  {
   "cell_type": "code",
   "execution_count": 26,
   "metadata": {},
   "outputs": [
    {
     "name": "stdout",
     "output_type": "stream",
     "text": [
      "torch.Size([68, 518])\n"
     ]
    }
   ],
   "source": []
  },
  {
   "cell_type": "code",
   "execution_count": null,
   "metadata": {
    "scrolled": true
   },
   "outputs": [],
   "source": []
  },
  {
   "cell_type": "code",
   "execution_count": 19,
   "metadata": {},
   "outputs": [
    {
     "data": {
      "application/vnd.jupyter.widget-view+json": {
       "model_id": "9427c28ef988439987f770027704fab4",
       "version_major": 2,
       "version_minor": 0
      },
      "text/plain": [
       "Downloading:   0%|          | 0.00/232k [00:00<?, ?B/s]"
      ]
     },
     "metadata": {},
     "output_type": "display_data"
    }
   ],
   "source": [
    "import torch\n",
    "from transformers import BertTokenizer, BertModel, BertForMaskedLM\n",
    "\n",
    "# OPTIONAL: if you want to have more information on what's happening under the hood, activate the logger as follows\n",
    "#import logging\n",
    "#logging.basicConfig(level=logging.INFO)\n",
    "\n",
    "# Load pre-trained model tokenizer (vocabulary)\n",
    "tokenizer = BertTokenizer.from_pretrained('bert-base-uncased')\n",
    "\n",
    "# Tokenize input\n",
    "text = \"Who was Jim Henson ? [SEP] Jim Henson was a puppeteer [SEP]\"\n",
    "tokenized_text = tokenizer.tokenize(text)"
   ]
  },
  {
   "cell_type": "code",
   "execution_count": 30,
   "metadata": {},
   "outputs": [
    {
     "data": {
      "text/plain": [
       "510"
      ]
     },
     "execution_count": 30,
     "metadata": {},
     "output_type": "execute_result"
    }
   ],
   "source": [
    "len( tokenizer.tokenize( input_sentence   ) )"
   ]
  },
  {
   "cell_type": "code",
   "execution_count": null,
   "metadata": {},
   "outputs": [],
   "source": []
  },
  {
   "cell_type": "code",
   "execution_count": null,
   "metadata": {},
   "outputs": [],
   "source": []
  },
  {
   "cell_type": "code",
   "execution_count": null,
   "metadata": {},
   "outputs": [],
   "source": []
  },
  {
   "cell_type": "code",
   "execution_count": null,
   "metadata": {},
   "outputs": [],
   "source": []
  },
  {
   "cell_type": "code",
   "execution_count": 18,
   "metadata": {},
   "outputs": [
    {
     "data": {
      "text/plain": [
       "Vocabulary with namespaces:  labels, Size: 130 || Non Padded Namespaces: {'*labels', '*tags'}"
      ]
     },
     "execution_count": 18,
     "metadata": {},
     "output_type": "execute_result"
    }
   ],
   "source": [
    "reporting_obligations_finder.bert_model._model.vocab"
   ]
  },
  {
   "cell_type": "code",
   "execution_count": 69,
   "metadata": {},
   "outputs": [
    {
     "data": {
      "text/plain": [
       "433"
      ]
     },
     "execution_count": 69,
     "metadata": {},
     "output_type": "execute_result"
    }
   ],
   "source": [
    "len( tokenized_sentence )"
   ]
  },
  {
   "cell_type": "code",
   "execution_count": null,
   "metadata": {},
   "outputs": [],
   "source": [
    "dataset = Batch(instances)\n",
    "dataset.index_instances(self.vocab)\n",
    "model_input = util.move_to_device(dataset.as_tensor_dict(), cuda_device)"
   ]
  },
  {
   "cell_type": "code",
   "execution_count": 64,
   "metadata": {
    "scrolled": true
   },
   "outputs": [
    {
     "data": {
      "text/plain": [
       "515"
      ]
     },
     "execution_count": 64,
     "metadata": {},
     "output_type": "execute_result"
    }
   ],
   "source": [
    "len( [ 'This',  'is',  'a', 'test', '.' ]*103 )"
   ]
  },
  {
   "cell_type": "code",
   "execution_count": 32,
   "metadata": {},
   "outputs": [
    {
     "data": {
      "text/plain": [
       "['the',\n",
       " 'relevant',\n",
       " 'participating',\n",
       " 'NCB',\n",
       " 'of',\n",
       " 'the',\n",
       " 'amount',\n",
       " 'of',\n",
       " 'liabilities',\n",
       " 'referred',\n",
       " 'to',\n",
       " 'in',\n",
       " 'points',\n",
       " '(',\n",
       " 'a',\n",
       " ')',\n",
       " 'and',\n",
       " '(',\n",
       " 'b',\n",
       " ')',\n",
       " 'of',\n",
       " 'paragraph',\n",
       " '2',\n",
       " ',',\n",
       " 'the',\n",
       " 'institution',\n",
       " 'shall',\n",
       " 'apply',\n",
       " 'the',\n",
       " 'standard',\n",
       " 'deduction',\n",
       " 'published',\n",
       " 'on']"
      ]
     },
     "execution_count": 32,
     "metadata": {},
     "output_type": "execute_result"
    }
   ],
   "source": [
    "tokenized_sentence[400:440]"
   ]
  },
  {
   "cell_type": "code",
   "execution_count": 25,
   "metadata": {
    "scrolled": true
   },
   "outputs": [
    {
     "data": {
      "text/plain": [
       "433"
      ]
     },
     "execution_count": 25,
     "metadata": {},
     "output_type": "execute_result"
    }
   ],
   "source": [
    "len( tokenized_sentence )"
   ]
  },
  {
   "cell_type": "code",
   "execution_count": 25,
   "metadata": {
    "scrolled": true
   },
   "outputs": [
    {
     "data": {
      "text/plain": [
       "'Article 3 is amended as follows ❬paragraphs 1 and 2 are replaced by the following and/or ‘1.   An institution\\'s reserve base shall comprise the following liabilities, as defined in the ECB\\'s reporting framework laid down in Regulation (EU) No 1071/2013 of the European Central Bank (ECB/2013/33) (*), resulting from the acceptance of funds ⟨deposits and/or debt securities issued⟩ and/or If an institution has liabilities in relation to a branch of the same entity, or in relation to the head office or registered office of the same entity, which are located outside participating Member States, it shall include such liabilities in the reserve base and/or 2.   The following liabilities shall be excluded from the reserve base ⟨liabilities owed to any other institution not included on the list of institutions exempt from the ECB\\'s minimum reserve requirements in accordance with Article 2(3) and/or liabilities owed to the ECB or to a participating NCB⟩ and/or (*)  Regulation (EU) No 1071/2013 of the European Central Bank of 24 September 2013 concerning the balance sheet of the monetary financial institutions sector (ECB/2013/33) (OJ L 297, 7.11.2013, p. 1).’;\" and/or the following paragraph 2a is inserted and/or ‘2a.   For the liability category “deposits” referred to in point (a) of paragraph 1, the exclusion, as referred to in paragraph 2, shall be effected in the following manner: the institution shall provide evidence to the relevant participating NCB of the amount of liabilities referred to in points (a) and (b) of paragraph 2, and the amount evidenced shall be deducted from the reserve base and/or For the liability category “debt securities issued” referred to in point (b) of paragraph 1, the exclusion, as referred to in paragraph 2, shall be effected by deducting an amount from the reserve base in the following manner ⟨the institution shall provide evidence to the relevant participating NCB of the amount of liabilities referred to in points (a) and (b) of paragraph 2, and the amount evidenced shall be deducted from the reserve base and/or where the institution is unable to provide evidence to the relevant participating NCB of the amount of liabilities referred to in points (a) and (b) of paragraph 2, the institution shall apply the standard deduction published on the ECB\\'s website to the outstanding amount of the debt securities which it has issued and which have an original maturity of up to and including two years.’⟩❭'"
      ]
     },
     "execution_count": 25,
     "metadata": {},
     "output_type": "execute_result"
    }
   ],
   "source": [
    "input_sentence"
   ]
  },
  {
   "cell_type": "code",
   "execution_count": 8,
   "metadata": {},
   "outputs": [
    {
     "name": "stdout",
     "output_type": "stream",
     "text": [
      "['Regulation', '(', 'EC', ')', 'No', '1745/2003', '(', 'ECB/2003/9', ')', 'is', 'amended', 'as', 'described', 'in', 'the', 'following', 'list']\n"
     ]
    }
   ],
   "source": [
    "input_sentence=sentence\n",
    "\n",
    "reporting_obligations_finder._initialize_tokenizer()\n",
    "\n",
    "tokenized_sentence=reporting_obligations_finder._tokenizer.split_words( input_sentence )\n",
    "tokenized_sentence=[str( word ) for word in tokenized_sentence]\n",
    "\n",
    "parsed_sentence=reporting_obligations_finder.parse_sentence( tokenized_sentence )\n",
    "\n"
   ]
  },
  {
   "cell_type": "code",
   "execution_count": 6,
   "metadata": {},
   "outputs": [],
   "source": [
    "#test_string=open( \"test.txt\" ).read()\n",
    "#test=\"\\n\".join([\" \".join(test_string.split( \"\\n\" )[0].split(  )[:490])+\"|(10,10)\" , \" \".join(test_string.split( \"\\n\" )[0].split(  )[:20])+\"|(10,10)\" ])\n",
    "#transformer.cas.get_view( \"ListView\" ).sofa_string=test\n"
   ]
  },
  {
   "cell_type": "code",
   "execution_count": 5,
   "metadata": {
    "scrolled": true
   },
   "outputs": [
    {
     "name": "stdout",
     "output_type": "stream",
     "text": [
      "get reporting obligations\n",
      "loading tokenizer en_core_web_sm\n",
      "['Whereas', ',', ',', 'For', 'the', 'exclusion', 'of', 'interbank', 'liabilities', 'from', 'the', 'reserve', 'base', ',', 'any', 'standard', 'deduction', 'to', 'be', 'applied', 'to', 'liabilities', 'with', 'a', 'maturity', 'of', 'up', 'to', 'two', 'years', 'within', 'the', 'debt', 'securities', 'category', 'should', 'be', 'based', 'on', 'the', 'euro', 'area', '-', 'wide', 'macro', 'ratio', 'between', ':', '(', 'a', ')', 'the', 'stock', 'of', 'relevant', 'instruments', 'issued', 'by', 'credit', 'institutions', 'and', 'held', 'by', 'other', 'credit', 'institutions', 'and', 'by', 'the', 'ECB', 'and', 'participating', 'national', 'central', 'banks', ';', 'and', '(', 'b', ')', 'the', 'total', 'amount', 'outstanding', 'of', 'such', 'instruments', 'issued', 'by', 'credit', 'institutions', '.', 'The', 'method', 'for', 'applying', 'the', 'standard', 'deduction', 'set', 'out', 'in', 'Article', '3(2', ')', 'of', 'Regulation', '(', 'EC', ')', 'No', '1745/2003', 'of', 'the', 'European', 'Central', 'Bank', '(', 'ECB/2003/9', ')', '(', '2', ')', 'should', 'be', 'further', 'clarified', '.']\n",
      "['Article', '3', 'is', 'amended', 'as', 'follows', '❬paragraphs', '1', 'and', '2', 'are', 'replaced', 'by', 'the', 'following', 'and/or', '‘', '1', '.', 'An', 'institution', \"'s\", 'reserve', 'base', 'shall', 'comprise', 'the', 'following', 'liabilities', ',', 'as', 'defined', 'in', 'the', 'ECB', \"'s\", 'reporting', 'framework', 'laid', 'down', 'in', 'Regulation', '(', 'EU', ')', 'No', '1071/2013', 'of', 'the', 'European', 'Central', 'Bank', '(', 'ECB/2013/33', ')', '(', '*', ')', ',', 'resulting', 'from', 'the', 'acceptance', 'of', 'funds', '⟨deposits', 'and/or', 'debt', 'securities', 'issued⟩', 'and/or', 'If', 'an', 'institution', 'has', 'liabilities', 'in', 'relation', 'to', 'a', 'branch', 'of', 'the', 'same', 'entity', ',', 'or', 'in', 'relation', 'to', 'the', 'head', 'office', 'or', 'registered', 'office', 'of', 'the', 'same', 'entity', ',', 'which', 'are', 'located', 'outside', 'participating', 'Member', 'States', ',', 'it', 'shall', 'include', 'such', 'liabilities', 'in', 'the', 'reserve', 'base', 'and/or', '2', '.', 'The', 'following', 'liabilities', 'shall', 'be', 'excluded', 'from', 'the', 'reserve', 'base', '⟨liabilities', 'owed', 'to', 'any', 'other', 'institution', 'not', 'included', 'on', 'the', 'list', 'of', 'institutions', 'exempt', 'from', 'the', 'ECB', \"'s\", 'minimum', 'reserve', 'requirements', 'in', 'accordance', 'with', 'Article', '2(3', ')', 'and/or', 'liabilities', 'owed', 'to', 'the', 'ECB', 'or', 'to', 'a', 'participating', 'NCB⟩', 'and/or', '(', '*', ')', 'Regulation', '(', 'EU', ')', 'No', '1071/2013', 'of', 'the', 'European', 'Central', 'Bank', 'of', '24', 'September', '2013', 'concerning', 'the', 'balance', 'sheet', 'of', 'the', 'monetary', 'financial', 'institutions', 'sector', '(', 'ECB/2013/33', ')', '(', 'OJ', 'L', '297', ',', '7.11.2013', ',', 'p.', '1', ')', '.', '’', ';', '\"', 'and/or', 'the', 'following', 'paragraph', '2a', 'is', 'inserted', 'and/or', '‘', '2a', '.', 'For', 'the', 'liability', 'category', '“', 'deposits', '”', 'referred', 'to', 'in', 'point', '(', 'a', ')', 'of', 'paragraph', '1', ',', 'the', 'exclusion', ',', 'as', 'referred', 'to', 'in', 'paragraph', '2', ',', 'shall', 'be', 'effected', 'in', 'the', 'following', 'manner', ':', 'the', 'institution', 'shall', 'provide', 'evidence', 'to', 'the', 'relevant', 'participating', 'NCB', 'of', 'the', 'amount', 'of', 'liabilities', 'referred', 'to', 'in', 'points', '(', 'a', ')', 'and', '(', 'b', ')', 'of', 'paragraph', '2', ',', 'and', 'the', 'amount', 'evidenced', 'shall', 'be', 'deducted', 'from', 'the', 'reserve', 'base', 'and/or', 'For', 'the', 'liability', 'category', '“', 'debt', 'securities', 'issued', '”', 'referred', 'to', 'in', 'point', '(', 'b', ')', 'of', 'paragraph', '1', ',', 'the', 'exclusion', ',', 'as', 'referred', 'to', 'in', 'paragraph', '2', ',', 'shall', 'be', 'effected', 'by', 'deducting', 'an', 'amount', 'from', 'the', 'reserve', 'base', 'in', 'the', 'following', 'manner', '⟨the', 'institution', 'shall', 'provide', 'evidence', 'to', 'the', 'relevant', 'participating', 'NCB', 'of', 'the', 'amount', 'of', 'liabilities', 'referred', 'to', 'in', 'points', '(', 'a', ')', 'and', '(', 'b', ')', 'of', 'paragraph', '2', ',', 'and', 'the', 'amount', 'evidenced', 'shall', 'be', 'deducted', 'from', 'the', 'reserve', 'base', 'and/or', 'when', 'the', 'institution', 'is', 'unable', 'to', 'provide', 'evidence', 'to', 'the', 'relevant', 'participating', 'NCB', 'of', 'the', 'amount', 'of', 'liabilities', 'referred', 'to', 'in', 'points', '(', 'a', ')', 'and', '(', 'b', ')', 'of', 'paragraph', '2', ',', 'the', 'institution', 'shall', 'apply', 'the', 'standard', 'deduction', 'published', 'on', 'the', 'ECB', \"'s\", 'website', 'to', 'the', 'outstanding', 'amount', 'of', 'the', 'debt', 'securities', 'which', 'it', 'has', 'issued', 'and', 'which', 'have', 'an', 'original', 'maturity', 'of', 'up', 'to', 'and', 'including', 'two', 'years.’⟩❭']\n"
     ]
    },
    {
     "ename": "RuntimeError",
     "evalue": "CUDA error: device-side assert triggered",
     "output_type": "error",
     "traceback": [
      "\u001b[0;31m\u001b[0m",
      "\u001b[0;31mRuntimeError\u001b[0mTraceback (most recent call last)",
      "\u001b[0;32m<ipython-input-5-8fb21520355d>\u001b[0m in \u001b[0;36m<module>\u001b[0;34m\u001b[0m\n\u001b[1;32m      2\u001b[0m \u001b[0;32mimport\u001b[0m \u001b[0mtime\u001b[0m\u001b[0;34m\u001b[0m\u001b[0;34m\u001b[0m\u001b[0m\n\u001b[1;32m      3\u001b[0m \u001b[0mstart\u001b[0m\u001b[0;34m=\u001b[0m\u001b[0mtime\u001b[0m\u001b[0;34m.\u001b[0m\u001b[0mtime\u001b[0m\u001b[0;34m(\u001b[0m\u001b[0;34m)\u001b[0m\u001b[0;34m\u001b[0m\u001b[0;34m\u001b[0m\u001b[0m\n\u001b[0;32m----> 4\u001b[0;31m \u001b[0mreporting_obligations_finder\u001b[0m\u001b[0;34m.\u001b[0m\u001b[0mprocess_sentences\u001b[0m\u001b[0;34m(\u001b[0m \u001b[0mcas\u001b[0m\u001b[0;34m,\u001b[0m \u001b[0mListSofaID\u001b[0m\u001b[0;34m=\u001b[0m\u001b[0;34m'ListView'\u001b[0m  \u001b[0;34m)\u001b[0m\u001b[0;34m\u001b[0m\u001b[0;34m\u001b[0m\u001b[0m\n\u001b[0m\u001b[1;32m      5\u001b[0m \u001b[0mreporting_obligations_finder\u001b[0m\u001b[0;34m.\u001b[0m\u001b[0madd_xml_to_cas\u001b[0m\u001b[0;34m(\u001b[0m \u001b[0mcas\u001b[0m\u001b[0;34m,\u001b[0m \u001b[0mTEMPLATE_PATH\u001b[0m\u001b[0;34m,\u001b[0m \u001b[0mROSofaID\u001b[0m\u001b[0;34m=\u001b[0m\u001b[0;34m'ReportingObligationsView'\u001b[0m \u001b[0;34m)\u001b[0m\u001b[0;34m\u001b[0m\u001b[0;34m\u001b[0m\u001b[0m\n\u001b[1;32m      6\u001b[0m \u001b[0mreporting_obligations_finder\u001b[0m\u001b[0;34m.\u001b[0m\u001b[0mprint_to_html\u001b[0m\u001b[0;34m(\u001b[0m  \u001b[0mTEMPLATE_PATH\u001b[0m\u001b[0;34m,\u001b[0m \u001b[0mOUTPUT_PATH\u001b[0m  \u001b[0;34m)\u001b[0m\u001b[0;34m\u001b[0m\u001b[0;34m\u001b[0m\u001b[0m\n",
      "\u001b[0;32m/notebook/nas-trainings/arne/DGFISMA/reporting_obligations/code/DGFISMA_reporting_obligations/src/reporting_obligations.py\u001b[0m in \u001b[0;36mprocess_sentences\u001b[0;34m(self, cas, ListSofaID)\u001b[0m\n\u001b[1;32m    778\u001b[0m                 \u001b[0mlist_subsentences\u001b[0m \u001b[0;34m=\u001b[0m \u001b[0mre\u001b[0m\u001b[0;34m.\u001b[0m\u001b[0msub\u001b[0m\u001b[0;34m(\u001b[0m\u001b[0;34mr' ‖ and/or '\u001b[0m\u001b[0;34m,\u001b[0m \u001b[0;34mr' and/or '\u001b[0m\u001b[0;34m,\u001b[0m \u001b[0msubsentence\u001b[0m\u001b[0;34m)\u001b[0m\u001b[0;34m.\u001b[0m\u001b[0mlstrip\u001b[0m\u001b[0;34m(\u001b[0m\u001b[0;34m'❮'\u001b[0m\u001b[0;34m)\u001b[0m\u001b[0;34m.\u001b[0m\u001b[0mrstrip\u001b[0m\u001b[0;34m(\u001b[0m\u001b[0;34m'❯'\u001b[0m\u001b[0;34m)\u001b[0m\u001b[0;34m.\u001b[0m\u001b[0msplit\u001b[0m\u001b[0;34m(\u001b[0m\u001b[0;34m' ‖ '\u001b[0m\u001b[0;34m)\u001b[0m\u001b[0;34m\u001b[0m\u001b[0;34m\u001b[0m\u001b[0m\n\u001b[1;32m    779\u001b[0m                 \u001b[0;32mfor\u001b[0m \u001b[0mitem_subsentence\u001b[0m \u001b[0;32min\u001b[0m \u001b[0mlist_subsentences\u001b[0m\u001b[0;34m:\u001b[0m\u001b[0;34m\u001b[0m\u001b[0;34m\u001b[0m\u001b[0m\n\u001b[0;32m--> 780\u001b[0;31m                     \u001b[0mlist_xml_subsentence\u001b[0m\u001b[0;34m=\u001b[0m\u001b[0mself\u001b[0m\u001b[0;34m.\u001b[0m\u001b[0mprocess_sentence\u001b[0m\u001b[0;34m(\u001b[0m \u001b[0mitem_subsentence\u001b[0m\u001b[0;34m,\u001b[0m \u001b[0;34m''\u001b[0m\u001b[0;34m,\u001b[0m \u001b[0;32mFalse\u001b[0m \u001b[0;34m)\u001b[0m\u001b[0;34m\u001b[0m\u001b[0;34m\u001b[0m\u001b[0m\n\u001b[0m\u001b[1;32m    781\u001b[0m                     \u001b[0;31m#set the offset\u001b[0m\u001b[0;34m\u001b[0m\u001b[0;34m\u001b[0m\u001b[0;34m\u001b[0m\u001b[0m\n\u001b[1;32m    782\u001b[0m                     \u001b[0;34m[\u001b[0m\u001b[0mxml_item\u001b[0m\u001b[0;34m.\u001b[0m\u001b[0mlastChild\u001b[0m\u001b[0;34m.\u001b[0m\u001b[0msetAttribute\u001b[0m\u001b[0;34m(\u001b[0m \u001b[0;34m'original_document_begin'\u001b[0m\u001b[0;34m,\u001b[0m \u001b[0mstr\u001b[0m\u001b[0;34m(\u001b[0m\u001b[0moffset\u001b[0m\u001b[0;34m[\u001b[0m\u001b[0;36m0\u001b[0m\u001b[0;34m]\u001b[0m\u001b[0;34m)\u001b[0m\u001b[0;34m)\u001b[0m \u001b[0;32mfor\u001b[0m \u001b[0mxml_item\u001b[0m \u001b[0;32min\u001b[0m \u001b[0mlist_xml_subsentence\u001b[0m\u001b[0;34m]\u001b[0m\u001b[0;34m\u001b[0m\u001b[0;34m\u001b[0m\u001b[0m\n",
      "\u001b[0;32m/notebook/nas-trainings/arne/DGFISMA/reporting_obligations/code/DGFISMA_reporting_obligations/src/reporting_obligations.py\u001b[0m in \u001b[0;36mprocess_sentence\u001b[0;34m(self, sentence, subsentence, main_sentence)\u001b[0m\n\u001b[1;32m    695\u001b[0m             \u001b[0;32mreturn\u001b[0m \u001b[0;34m[\u001b[0m\u001b[0;34m]\u001b[0m\u001b[0;34m\u001b[0m\u001b[0;34m\u001b[0m\u001b[0m\n\u001b[1;32m    696\u001b[0m \u001b[0;34m\u001b[0m\u001b[0m\n\u001b[0;32m--> 697\u001b[0;31m         \u001b[0mparsed_sentence\u001b[0m\u001b[0;34m=\u001b[0m\u001b[0mself\u001b[0m\u001b[0;34m.\u001b[0m\u001b[0mparse_sentence\u001b[0m\u001b[0;34m(\u001b[0m \u001b[0mtokenized_sentence\u001b[0m \u001b[0;34m)\u001b[0m\u001b[0;34m\u001b[0m\u001b[0;34m\u001b[0m\u001b[0m\n\u001b[0m\u001b[1;32m    698\u001b[0m \u001b[0;34m\u001b[0m\u001b[0m\n\u001b[1;32m    699\u001b[0m         \u001b[0;31m#print( f\"Total parsing time: {time.time()-start_parsing} s\",   )\u001b[0m\u001b[0;34m\u001b[0m\u001b[0;34m\u001b[0m\u001b[0;34m\u001b[0m\u001b[0m\n",
      "\u001b[0;32m/notebook/nas-trainings/arne/DGFISMA/reporting_obligations/code/DGFISMA_reporting_obligations/src/reporting_obligations.py\u001b[0m in \u001b[0;36mparse_sentence\u001b[0;34m(self, input_sentence)\u001b[0m\n\u001b[1;32m    130\u001b[0m         \u001b[0mprint\u001b[0m\u001b[0;34m(\u001b[0m \u001b[0minput_sentence\u001b[0m \u001b[0;34m)\u001b[0m\u001b[0;34m\u001b[0m\u001b[0;34m\u001b[0m\u001b[0m\n\u001b[1;32m    131\u001b[0m         parsed_sentence=self.bert_model.predict_tokenized(\n\u001b[0;32m--> 132\u001b[0;31m             \u001b[0mtokenized_sentence\u001b[0m\u001b[0;34m=\u001b[0m\u001b[0minput_sentence\u001b[0m\u001b[0;34m\u001b[0m\u001b[0;34m\u001b[0m\u001b[0m\n\u001b[0m\u001b[1;32m    133\u001b[0m         )\n\u001b[1;32m    134\u001b[0m \u001b[0;34m\u001b[0m\u001b[0m\n",
      "\u001b[0;32m/miniconda/lib/python3.7/site-packages/allennlp/predictors/semantic_role_labeler.py\u001b[0m in \u001b[0;36mpredict_tokenized\u001b[0;34m(self, tokenized_sentence)\u001b[0m\n\u001b[1;32m     69\u001b[0m             \u001b[0;32mreturn\u001b[0m \u001b[0msanitize\u001b[0m\u001b[0;34m(\u001b[0m\u001b[0;34m{\u001b[0m\u001b[0;34m\"verbs\"\u001b[0m\u001b[0;34m:\u001b[0m \u001b[0;34m[\u001b[0m\u001b[0;34m]\u001b[0m\u001b[0;34m,\u001b[0m \u001b[0;34m\"words\"\u001b[0m\u001b[0;34m:\u001b[0m \u001b[0mtokens\u001b[0m\u001b[0;34m}\u001b[0m\u001b[0;34m)\u001b[0m\u001b[0;34m\u001b[0m\u001b[0;34m\u001b[0m\u001b[0m\n\u001b[1;32m     70\u001b[0m \u001b[0;34m\u001b[0m\u001b[0m\n\u001b[0;32m---> 71\u001b[0;31m         \u001b[0;32mreturn\u001b[0m \u001b[0mself\u001b[0m\u001b[0;34m.\u001b[0m\u001b[0mpredict_instances\u001b[0m\u001b[0;34m(\u001b[0m\u001b[0minstances\u001b[0m\u001b[0;34m)\u001b[0m\u001b[0;34m\u001b[0m\u001b[0;34m\u001b[0m\u001b[0m\n\u001b[0m\u001b[1;32m     72\u001b[0m \u001b[0;34m\u001b[0m\u001b[0m\n\u001b[1;32m     73\u001b[0m     \u001b[0;34m@\u001b[0m\u001b[0mstaticmethod\u001b[0m\u001b[0;34m\u001b[0m\u001b[0;34m\u001b[0m\u001b[0m\n",
      "\u001b[0;32m/miniconda/lib/python3.7/site-packages/allennlp/predictors/semantic_role_labeler.py\u001b[0m in \u001b[0;36mpredict_instances\u001b[0;34m(self, instances)\u001b[0m\n\u001b[1;32m    209\u001b[0m \u001b[0;34m\u001b[0m\u001b[0m\n\u001b[1;32m    210\u001b[0m     \u001b[0;32mdef\u001b[0m \u001b[0mpredict_instances\u001b[0m\u001b[0;34m(\u001b[0m\u001b[0mself\u001b[0m\u001b[0;34m,\u001b[0m \u001b[0minstances\u001b[0m\u001b[0;34m:\u001b[0m \u001b[0mList\u001b[0m\u001b[0;34m[\u001b[0m\u001b[0mInstance\u001b[0m\u001b[0;34m]\u001b[0m\u001b[0;34m)\u001b[0m \u001b[0;34m->\u001b[0m \u001b[0mJsonDict\u001b[0m\u001b[0;34m:\u001b[0m\u001b[0;34m\u001b[0m\u001b[0;34m\u001b[0m\u001b[0m\n\u001b[0;32m--> 211\u001b[0;31m         \u001b[0moutputs\u001b[0m \u001b[0;34m=\u001b[0m \u001b[0mself\u001b[0m\u001b[0;34m.\u001b[0m\u001b[0m_model\u001b[0m\u001b[0;34m.\u001b[0m\u001b[0mforward_on_instances\u001b[0m\u001b[0;34m(\u001b[0m\u001b[0minstances\u001b[0m\u001b[0;34m)\u001b[0m\u001b[0;34m\u001b[0m\u001b[0;34m\u001b[0m\u001b[0m\n\u001b[0m\u001b[1;32m    212\u001b[0m \u001b[0;34m\u001b[0m\u001b[0m\n\u001b[1;32m    213\u001b[0m         \u001b[0mresults\u001b[0m \u001b[0;34m=\u001b[0m \u001b[0;34m{\u001b[0m\u001b[0;34m\"verbs\"\u001b[0m\u001b[0;34m:\u001b[0m \u001b[0;34m[\u001b[0m\u001b[0;34m]\u001b[0m\u001b[0;34m,\u001b[0m \u001b[0;34m\"words\"\u001b[0m\u001b[0;34m:\u001b[0m \u001b[0moutputs\u001b[0m\u001b[0;34m[\u001b[0m\u001b[0;36m0\u001b[0m\u001b[0;34m]\u001b[0m\u001b[0;34m[\u001b[0m\u001b[0;34m\"words\"\u001b[0m\u001b[0;34m]\u001b[0m\u001b[0;34m}\u001b[0m\u001b[0;34m\u001b[0m\u001b[0;34m\u001b[0m\u001b[0m\n",
      "\u001b[0;32m/miniconda/lib/python3.7/site-packages/allennlp/models/model.py\u001b[0m in \u001b[0;36mforward_on_instances\u001b[0;34m(self, instances)\u001b[0m\n\u001b[1;32m    151\u001b[0m             \u001b[0mdataset\u001b[0m\u001b[0;34m.\u001b[0m\u001b[0mindex_instances\u001b[0m\u001b[0;34m(\u001b[0m\u001b[0mself\u001b[0m\u001b[0;34m.\u001b[0m\u001b[0mvocab\u001b[0m\u001b[0;34m)\u001b[0m\u001b[0;34m\u001b[0m\u001b[0;34m\u001b[0m\u001b[0m\n\u001b[1;32m    152\u001b[0m             \u001b[0mmodel_input\u001b[0m \u001b[0;34m=\u001b[0m \u001b[0mutil\u001b[0m\u001b[0;34m.\u001b[0m\u001b[0mmove_to_device\u001b[0m\u001b[0;34m(\u001b[0m\u001b[0mdataset\u001b[0m\u001b[0;34m.\u001b[0m\u001b[0mas_tensor_dict\u001b[0m\u001b[0;34m(\u001b[0m\u001b[0;34m)\u001b[0m\u001b[0;34m,\u001b[0m \u001b[0mcuda_device\u001b[0m\u001b[0;34m)\u001b[0m\u001b[0;34m\u001b[0m\u001b[0;34m\u001b[0m\u001b[0m\n\u001b[0;32m--> 153\u001b[0;31m             \u001b[0moutputs\u001b[0m \u001b[0;34m=\u001b[0m \u001b[0mself\u001b[0m\u001b[0;34m.\u001b[0m\u001b[0mdecode\u001b[0m\u001b[0;34m(\u001b[0m\u001b[0mself\u001b[0m\u001b[0;34m(\u001b[0m\u001b[0;34m**\u001b[0m\u001b[0mmodel_input\u001b[0m\u001b[0;34m)\u001b[0m\u001b[0;34m)\u001b[0m\u001b[0;34m\u001b[0m\u001b[0;34m\u001b[0m\u001b[0m\n\u001b[0m\u001b[1;32m    154\u001b[0m \u001b[0;34m\u001b[0m\u001b[0m\n\u001b[1;32m    155\u001b[0m             \u001b[0minstance_separated_output\u001b[0m\u001b[0;34m:\u001b[0m \u001b[0mList\u001b[0m\u001b[0;34m[\u001b[0m\u001b[0mDict\u001b[0m\u001b[0;34m[\u001b[0m\u001b[0mstr\u001b[0m\u001b[0;34m,\u001b[0m \u001b[0mnumpy\u001b[0m\u001b[0;34m.\u001b[0m\u001b[0mndarray\u001b[0m\u001b[0;34m]\u001b[0m\u001b[0;34m]\u001b[0m \u001b[0;34m=\u001b[0m \u001b[0;34m[\u001b[0m\u001b[0;34m{\u001b[0m\u001b[0;34m}\u001b[0m \u001b[0;32mfor\u001b[0m \u001b[0m_\u001b[0m \u001b[0;32min\u001b[0m \u001b[0mdataset\u001b[0m\u001b[0;34m.\u001b[0m\u001b[0minstances\u001b[0m\u001b[0;34m]\u001b[0m\u001b[0;34m\u001b[0m\u001b[0;34m\u001b[0m\u001b[0m\n",
      "\u001b[0;32m/miniconda/lib/python3.7/site-packages/allennlp/models/srl_bert.py\u001b[0m in \u001b[0;36mdecode\u001b[0;34m(self, output_dict)\u001b[0m\n\u001b[1;32m    173\u001b[0m         \"\"\"\n\u001b[1;32m    174\u001b[0m         \u001b[0mall_predictions\u001b[0m \u001b[0;34m=\u001b[0m \u001b[0moutput_dict\u001b[0m\u001b[0;34m[\u001b[0m\u001b[0;34m'class_probabilities'\u001b[0m\u001b[0;34m]\u001b[0m\u001b[0;34m\u001b[0m\u001b[0;34m\u001b[0m\u001b[0m\n\u001b[0;32m--> 175\u001b[0;31m         \u001b[0msequence_lengths\u001b[0m \u001b[0;34m=\u001b[0m \u001b[0mget_lengths_from_binary_sequence_mask\u001b[0m\u001b[0;34m(\u001b[0m\u001b[0moutput_dict\u001b[0m\u001b[0;34m[\u001b[0m\u001b[0;34m\"mask\"\u001b[0m\u001b[0;34m]\u001b[0m\u001b[0;34m)\u001b[0m\u001b[0;34m.\u001b[0m\u001b[0mdata\u001b[0m\u001b[0;34m.\u001b[0m\u001b[0mtolist\u001b[0m\u001b[0;34m(\u001b[0m\u001b[0;34m)\u001b[0m\u001b[0;34m\u001b[0m\u001b[0;34m\u001b[0m\u001b[0m\n\u001b[0m\u001b[1;32m    176\u001b[0m \u001b[0;34m\u001b[0m\u001b[0m\n\u001b[1;32m    177\u001b[0m         \u001b[0;32mif\u001b[0m \u001b[0mall_predictions\u001b[0m\u001b[0;34m.\u001b[0m\u001b[0mdim\u001b[0m\u001b[0;34m(\u001b[0m\u001b[0;34m)\u001b[0m \u001b[0;34m==\u001b[0m \u001b[0;36m3\u001b[0m\u001b[0;34m:\u001b[0m\u001b[0;34m\u001b[0m\u001b[0;34m\u001b[0m\u001b[0m\n",
      "\u001b[0;31mRuntimeError\u001b[0m: CUDA error: device-side assert triggered"
     ]
    }
   ],
   "source": [
    "print( \"get reporting obligations\" )\n",
    "import time\n",
    "start=time.time()\n",
    "reporting_obligations_finder.process_sentences( cas, ListSofaID='ListView'  )\n",
    "reporting_obligations_finder.add_xml_to_cas( cas, TEMPLATE_PATH, ROSofaID='ReportingObligationsView' )\n",
    "reporting_obligations_finder.print_to_html(  TEMPLATE_PATH, OUTPUT_PATH  )\n",
    "end=time.time()\n",
    "print( end-start )"
   ]
  },
  {
   "cell_type": "code",
   "execution_count": null,
   "metadata": {},
   "outputs": [],
   "source": []
  },
  {
   "cell_type": "code",
   "execution_count": null,
   "metadata": {},
   "outputs": [],
   "source": [
    "reporting_obligations_finder.bert_model.predict( sentence=\"This is\" )"
   ]
  },
  {
   "cell_type": "code",
   "execution_count": null,
   "metadata": {},
   "outputs": [],
   "source": [
    "input_sentence=\"This is a test sentence.\"\n",
    "bert_model = Predictor.from_path( BERT_PATH, cuda_device=1 )\n",
    "parsed_sentence=bert_model.predict(\n",
    "    sentence=input_sentence\n",
    ")"
   ]
  },
  {
   "cell_type": "code",
   "execution_count": 7,
   "metadata": {},
   "outputs": [
    {
     "ename": "RuntimeError",
     "evalue": "CUDA error: device-side assert triggered",
     "output_type": "error",
     "traceback": [
      "\u001b[0;31m\u001b[0m",
      "\u001b[0;31mRuntimeError\u001b[0mTraceback (most recent call last)",
      "\u001b[0;32m<ipython-input-7-d2e81fddb15a>\u001b[0m in \u001b[0;36m<module>\u001b[0;34m\u001b[0m\n\u001b[0;32m----> 1\u001b[0;31m \u001b[0mreporting_obligations_finder\u001b[0m\u001b[0;34m.\u001b[0m\u001b[0mbert_model\u001b[0m\u001b[0;34m.\u001b[0m\u001b[0mpredict\u001b[0m\u001b[0;34m(\u001b[0m \u001b[0msentence\u001b[0m\u001b[0;34m=\u001b[0m\u001b[0;34m\"This is\"\u001b[0m \u001b[0;34m)\u001b[0m\u001b[0;34m\u001b[0m\u001b[0;34m\u001b[0m\u001b[0m\n\u001b[0m",
      "\u001b[0;32m/miniconda/lib/python3.7/site-packages/allennlp/predictors/semantic_role_labeler.py\u001b[0m in \u001b[0;36mpredict\u001b[0;34m(self, sentence)\u001b[0m\n\u001b[1;32m     43\u001b[0m         \u001b[0mA\u001b[0m \u001b[0mdictionary\u001b[0m \u001b[0mrepresentation\u001b[0m \u001b[0mof\u001b[0m \u001b[0mthe\u001b[0m \u001b[0msemantic\u001b[0m \u001b[0mroles\u001b[0m \u001b[0;32min\u001b[0m \u001b[0mthe\u001b[0m \u001b[0msentence\u001b[0m\u001b[0;34m.\u001b[0m\u001b[0;34m\u001b[0m\u001b[0;34m\u001b[0m\u001b[0m\n\u001b[1;32m     44\u001b[0m         \"\"\"\n\u001b[0;32m---> 45\u001b[0;31m         \u001b[0;32mreturn\u001b[0m \u001b[0mself\u001b[0m\u001b[0;34m.\u001b[0m\u001b[0mpredict_json\u001b[0m\u001b[0;34m(\u001b[0m\u001b[0;34m{\u001b[0m\u001b[0;34m\"sentence\"\u001b[0m\u001b[0;34m:\u001b[0m \u001b[0msentence\u001b[0m\u001b[0;34m}\u001b[0m\u001b[0;34m)\u001b[0m\u001b[0;34m\u001b[0m\u001b[0;34m\u001b[0m\u001b[0m\n\u001b[0m\u001b[1;32m     46\u001b[0m \u001b[0;34m\u001b[0m\u001b[0m\n\u001b[1;32m     47\u001b[0m     \u001b[0;32mdef\u001b[0m \u001b[0mpredict_tokenized\u001b[0m\u001b[0;34m(\u001b[0m\u001b[0mself\u001b[0m\u001b[0;34m,\u001b[0m \u001b[0mtokenized_sentence\u001b[0m\u001b[0;34m:\u001b[0m \u001b[0mList\u001b[0m\u001b[0;34m[\u001b[0m\u001b[0mstr\u001b[0m\u001b[0;34m]\u001b[0m\u001b[0;34m)\u001b[0m \u001b[0;34m->\u001b[0m \u001b[0mJsonDict\u001b[0m\u001b[0;34m:\u001b[0m\u001b[0;34m\u001b[0m\u001b[0;34m\u001b[0m\u001b[0m\n",
      "\u001b[0;32m/miniconda/lib/python3.7/site-packages/allennlp/predictors/semantic_role_labeler.py\u001b[0m in \u001b[0;36mpredict_json\u001b[0;34m(self, inputs)\u001b[0m\n\u001b[1;32m    243\u001b[0m             \u001b[0;32mreturn\u001b[0m \u001b[0msanitize\u001b[0m\u001b[0;34m(\u001b[0m\u001b[0;34m{\u001b[0m\u001b[0;34m\"verbs\"\u001b[0m\u001b[0;34m:\u001b[0m \u001b[0;34m[\u001b[0m\u001b[0;34m]\u001b[0m\u001b[0;34m,\u001b[0m \u001b[0;34m\"words\"\u001b[0m\u001b[0;34m:\u001b[0m \u001b[0mself\u001b[0m\u001b[0;34m.\u001b[0m\u001b[0m_tokenizer\u001b[0m\u001b[0;34m.\u001b[0m\u001b[0msplit_words\u001b[0m\u001b[0;34m(\u001b[0m\u001b[0minputs\u001b[0m\u001b[0;34m[\u001b[0m\u001b[0;34m\"sentence\"\u001b[0m\u001b[0;34m]\u001b[0m\u001b[0;34m)\u001b[0m\u001b[0;34m}\u001b[0m\u001b[0;34m)\u001b[0m\u001b[0;34m\u001b[0m\u001b[0;34m\u001b[0m\u001b[0m\n\u001b[1;32m    244\u001b[0m \u001b[0;34m\u001b[0m\u001b[0m\n\u001b[0;32m--> 245\u001b[0;31m         \u001b[0;32mreturn\u001b[0m \u001b[0mself\u001b[0m\u001b[0;34m.\u001b[0m\u001b[0mpredict_instances\u001b[0m\u001b[0;34m(\u001b[0m\u001b[0minstances\u001b[0m\u001b[0;34m)\u001b[0m\u001b[0;34m\u001b[0m\u001b[0;34m\u001b[0m\u001b[0m\n\u001b[0m",
      "\u001b[0;32m/miniconda/lib/python3.7/site-packages/allennlp/predictors/semantic_role_labeler.py\u001b[0m in \u001b[0;36mpredict_instances\u001b[0;34m(self, instances)\u001b[0m\n\u001b[1;32m    209\u001b[0m \u001b[0;34m\u001b[0m\u001b[0m\n\u001b[1;32m    210\u001b[0m     \u001b[0;32mdef\u001b[0m \u001b[0mpredict_instances\u001b[0m\u001b[0;34m(\u001b[0m\u001b[0mself\u001b[0m\u001b[0;34m,\u001b[0m \u001b[0minstances\u001b[0m\u001b[0;34m:\u001b[0m \u001b[0mList\u001b[0m\u001b[0;34m[\u001b[0m\u001b[0mInstance\u001b[0m\u001b[0;34m]\u001b[0m\u001b[0;34m)\u001b[0m \u001b[0;34m->\u001b[0m \u001b[0mJsonDict\u001b[0m\u001b[0;34m:\u001b[0m\u001b[0;34m\u001b[0m\u001b[0;34m\u001b[0m\u001b[0m\n\u001b[0;32m--> 211\u001b[0;31m         \u001b[0moutputs\u001b[0m \u001b[0;34m=\u001b[0m \u001b[0mself\u001b[0m\u001b[0;34m.\u001b[0m\u001b[0m_model\u001b[0m\u001b[0;34m.\u001b[0m\u001b[0mforward_on_instances\u001b[0m\u001b[0;34m(\u001b[0m\u001b[0minstances\u001b[0m\u001b[0;34m)\u001b[0m\u001b[0;34m\u001b[0m\u001b[0;34m\u001b[0m\u001b[0m\n\u001b[0m\u001b[1;32m    212\u001b[0m \u001b[0;34m\u001b[0m\u001b[0m\n\u001b[1;32m    213\u001b[0m         \u001b[0mresults\u001b[0m \u001b[0;34m=\u001b[0m \u001b[0;34m{\u001b[0m\u001b[0;34m\"verbs\"\u001b[0m\u001b[0;34m:\u001b[0m \u001b[0;34m[\u001b[0m\u001b[0;34m]\u001b[0m\u001b[0;34m,\u001b[0m \u001b[0;34m\"words\"\u001b[0m\u001b[0;34m:\u001b[0m \u001b[0moutputs\u001b[0m\u001b[0;34m[\u001b[0m\u001b[0;36m0\u001b[0m\u001b[0;34m]\u001b[0m\u001b[0;34m[\u001b[0m\u001b[0;34m\"words\"\u001b[0m\u001b[0;34m]\u001b[0m\u001b[0;34m}\u001b[0m\u001b[0;34m\u001b[0m\u001b[0;34m\u001b[0m\u001b[0m\n",
      "\u001b[0;32m/miniconda/lib/python3.7/site-packages/allennlp/models/model.py\u001b[0m in \u001b[0;36mforward_on_instances\u001b[0;34m(self, instances)\u001b[0m\n\u001b[1;32m    150\u001b[0m             \u001b[0mdataset\u001b[0m \u001b[0;34m=\u001b[0m \u001b[0mBatch\u001b[0m\u001b[0;34m(\u001b[0m\u001b[0minstances\u001b[0m\u001b[0;34m)\u001b[0m\u001b[0;34m\u001b[0m\u001b[0;34m\u001b[0m\u001b[0m\n\u001b[1;32m    151\u001b[0m             \u001b[0mdataset\u001b[0m\u001b[0;34m.\u001b[0m\u001b[0mindex_instances\u001b[0m\u001b[0;34m(\u001b[0m\u001b[0mself\u001b[0m\u001b[0;34m.\u001b[0m\u001b[0mvocab\u001b[0m\u001b[0;34m)\u001b[0m\u001b[0;34m\u001b[0m\u001b[0;34m\u001b[0m\u001b[0m\n\u001b[0;32m--> 152\u001b[0;31m             \u001b[0mmodel_input\u001b[0m \u001b[0;34m=\u001b[0m \u001b[0mutil\u001b[0m\u001b[0;34m.\u001b[0m\u001b[0mmove_to_device\u001b[0m\u001b[0;34m(\u001b[0m\u001b[0mdataset\u001b[0m\u001b[0;34m.\u001b[0m\u001b[0mas_tensor_dict\u001b[0m\u001b[0;34m(\u001b[0m\u001b[0;34m)\u001b[0m\u001b[0;34m,\u001b[0m \u001b[0mcuda_device\u001b[0m\u001b[0;34m)\u001b[0m\u001b[0;34m\u001b[0m\u001b[0;34m\u001b[0m\u001b[0m\n\u001b[0m\u001b[1;32m    153\u001b[0m             \u001b[0moutputs\u001b[0m \u001b[0;34m=\u001b[0m \u001b[0mself\u001b[0m\u001b[0;34m.\u001b[0m\u001b[0mdecode\u001b[0m\u001b[0;34m(\u001b[0m\u001b[0mself\u001b[0m\u001b[0;34m(\u001b[0m\u001b[0;34m**\u001b[0m\u001b[0mmodel_input\u001b[0m\u001b[0;34m)\u001b[0m\u001b[0;34m)\u001b[0m\u001b[0;34m\u001b[0m\u001b[0;34m\u001b[0m\u001b[0m\n\u001b[1;32m    154\u001b[0m \u001b[0;34m\u001b[0m\u001b[0m\n",
      "\u001b[0;32m/miniconda/lib/python3.7/site-packages/allennlp/nn/util.py\u001b[0m in \u001b[0;36mmove_to_device\u001b[0;34m(obj, cuda_device)\u001b[0m\n\u001b[1;32m     46\u001b[0m         \u001b[0;32mreturn\u001b[0m \u001b[0mobj\u001b[0m\u001b[0;34m.\u001b[0m\u001b[0mcuda\u001b[0m\u001b[0;34m(\u001b[0m\u001b[0mcuda_device\u001b[0m\u001b[0;34m)\u001b[0m\u001b[0;34m\u001b[0m\u001b[0;34m\u001b[0m\u001b[0m\n\u001b[1;32m     47\u001b[0m     \u001b[0;32melif\u001b[0m \u001b[0misinstance\u001b[0m\u001b[0;34m(\u001b[0m\u001b[0mobj\u001b[0m\u001b[0;34m,\u001b[0m \u001b[0mdict\u001b[0m\u001b[0;34m)\u001b[0m\u001b[0;34m:\u001b[0m\u001b[0;34m\u001b[0m\u001b[0;34m\u001b[0m\u001b[0m\n\u001b[0;32m---> 48\u001b[0;31m         \u001b[0;32mreturn\u001b[0m \u001b[0;34m{\u001b[0m\u001b[0mkey\u001b[0m\u001b[0;34m:\u001b[0m \u001b[0mmove_to_device\u001b[0m\u001b[0;34m(\u001b[0m\u001b[0mvalue\u001b[0m\u001b[0;34m,\u001b[0m \u001b[0mcuda_device\u001b[0m\u001b[0;34m)\u001b[0m \u001b[0;32mfor\u001b[0m \u001b[0mkey\u001b[0m\u001b[0;34m,\u001b[0m \u001b[0mvalue\u001b[0m \u001b[0;32min\u001b[0m \u001b[0mobj\u001b[0m\u001b[0;34m.\u001b[0m\u001b[0mitems\u001b[0m\u001b[0;34m(\u001b[0m\u001b[0;34m)\u001b[0m\u001b[0;34m}\u001b[0m\u001b[0;34m\u001b[0m\u001b[0;34m\u001b[0m\u001b[0m\n\u001b[0m\u001b[1;32m     49\u001b[0m     \u001b[0;32melif\u001b[0m \u001b[0misinstance\u001b[0m\u001b[0;34m(\u001b[0m\u001b[0mobj\u001b[0m\u001b[0;34m,\u001b[0m \u001b[0mlist\u001b[0m\u001b[0;34m)\u001b[0m\u001b[0;34m:\u001b[0m\u001b[0;34m\u001b[0m\u001b[0;34m\u001b[0m\u001b[0m\n\u001b[1;32m     50\u001b[0m         \u001b[0;32mreturn\u001b[0m \u001b[0;34m[\u001b[0m\u001b[0mmove_to_device\u001b[0m\u001b[0;34m(\u001b[0m\u001b[0mitem\u001b[0m\u001b[0;34m,\u001b[0m \u001b[0mcuda_device\u001b[0m\u001b[0;34m)\u001b[0m \u001b[0;32mfor\u001b[0m \u001b[0mitem\u001b[0m \u001b[0;32min\u001b[0m \u001b[0mobj\u001b[0m\u001b[0;34m]\u001b[0m\u001b[0;34m\u001b[0m\u001b[0;34m\u001b[0m\u001b[0m\n",
      "\u001b[0;32m/miniconda/lib/python3.7/site-packages/allennlp/nn/util.py\u001b[0m in \u001b[0;36m<dictcomp>\u001b[0;34m(.0)\u001b[0m\n\u001b[1;32m     46\u001b[0m         \u001b[0;32mreturn\u001b[0m \u001b[0mobj\u001b[0m\u001b[0;34m.\u001b[0m\u001b[0mcuda\u001b[0m\u001b[0;34m(\u001b[0m\u001b[0mcuda_device\u001b[0m\u001b[0;34m)\u001b[0m\u001b[0;34m\u001b[0m\u001b[0;34m\u001b[0m\u001b[0m\n\u001b[1;32m     47\u001b[0m     \u001b[0;32melif\u001b[0m \u001b[0misinstance\u001b[0m\u001b[0;34m(\u001b[0m\u001b[0mobj\u001b[0m\u001b[0;34m,\u001b[0m \u001b[0mdict\u001b[0m\u001b[0;34m)\u001b[0m\u001b[0;34m:\u001b[0m\u001b[0;34m\u001b[0m\u001b[0;34m\u001b[0m\u001b[0m\n\u001b[0;32m---> 48\u001b[0;31m         \u001b[0;32mreturn\u001b[0m \u001b[0;34m{\u001b[0m\u001b[0mkey\u001b[0m\u001b[0;34m:\u001b[0m \u001b[0mmove_to_device\u001b[0m\u001b[0;34m(\u001b[0m\u001b[0mvalue\u001b[0m\u001b[0;34m,\u001b[0m \u001b[0mcuda_device\u001b[0m\u001b[0;34m)\u001b[0m \u001b[0;32mfor\u001b[0m \u001b[0mkey\u001b[0m\u001b[0;34m,\u001b[0m \u001b[0mvalue\u001b[0m \u001b[0;32min\u001b[0m \u001b[0mobj\u001b[0m\u001b[0;34m.\u001b[0m\u001b[0mitems\u001b[0m\u001b[0;34m(\u001b[0m\u001b[0;34m)\u001b[0m\u001b[0;34m}\u001b[0m\u001b[0;34m\u001b[0m\u001b[0;34m\u001b[0m\u001b[0m\n\u001b[0m\u001b[1;32m     49\u001b[0m     \u001b[0;32melif\u001b[0m \u001b[0misinstance\u001b[0m\u001b[0;34m(\u001b[0m\u001b[0mobj\u001b[0m\u001b[0;34m,\u001b[0m \u001b[0mlist\u001b[0m\u001b[0;34m)\u001b[0m\u001b[0;34m:\u001b[0m\u001b[0;34m\u001b[0m\u001b[0;34m\u001b[0m\u001b[0m\n\u001b[1;32m     50\u001b[0m         \u001b[0;32mreturn\u001b[0m \u001b[0;34m[\u001b[0m\u001b[0mmove_to_device\u001b[0m\u001b[0;34m(\u001b[0m\u001b[0mitem\u001b[0m\u001b[0;34m,\u001b[0m \u001b[0mcuda_device\u001b[0m\u001b[0;34m)\u001b[0m \u001b[0;32mfor\u001b[0m \u001b[0mitem\u001b[0m \u001b[0;32min\u001b[0m \u001b[0mobj\u001b[0m\u001b[0;34m]\u001b[0m\u001b[0;34m\u001b[0m\u001b[0;34m\u001b[0m\u001b[0m\n",
      "\u001b[0;32m/miniconda/lib/python3.7/site-packages/allennlp/nn/util.py\u001b[0m in \u001b[0;36mmove_to_device\u001b[0;34m(obj, cuda_device)\u001b[0m\n\u001b[1;32m     46\u001b[0m         \u001b[0;32mreturn\u001b[0m \u001b[0mobj\u001b[0m\u001b[0;34m.\u001b[0m\u001b[0mcuda\u001b[0m\u001b[0;34m(\u001b[0m\u001b[0mcuda_device\u001b[0m\u001b[0;34m)\u001b[0m\u001b[0;34m\u001b[0m\u001b[0;34m\u001b[0m\u001b[0m\n\u001b[1;32m     47\u001b[0m     \u001b[0;32melif\u001b[0m \u001b[0misinstance\u001b[0m\u001b[0;34m(\u001b[0m\u001b[0mobj\u001b[0m\u001b[0;34m,\u001b[0m \u001b[0mdict\u001b[0m\u001b[0;34m)\u001b[0m\u001b[0;34m:\u001b[0m\u001b[0;34m\u001b[0m\u001b[0;34m\u001b[0m\u001b[0m\n\u001b[0;32m---> 48\u001b[0;31m         \u001b[0;32mreturn\u001b[0m \u001b[0;34m{\u001b[0m\u001b[0mkey\u001b[0m\u001b[0;34m:\u001b[0m \u001b[0mmove_to_device\u001b[0m\u001b[0;34m(\u001b[0m\u001b[0mvalue\u001b[0m\u001b[0;34m,\u001b[0m \u001b[0mcuda_device\u001b[0m\u001b[0;34m)\u001b[0m \u001b[0;32mfor\u001b[0m \u001b[0mkey\u001b[0m\u001b[0;34m,\u001b[0m \u001b[0mvalue\u001b[0m \u001b[0;32min\u001b[0m \u001b[0mobj\u001b[0m\u001b[0;34m.\u001b[0m\u001b[0mitems\u001b[0m\u001b[0;34m(\u001b[0m\u001b[0;34m)\u001b[0m\u001b[0;34m}\u001b[0m\u001b[0;34m\u001b[0m\u001b[0;34m\u001b[0m\u001b[0m\n\u001b[0m\u001b[1;32m     49\u001b[0m     \u001b[0;32melif\u001b[0m \u001b[0misinstance\u001b[0m\u001b[0;34m(\u001b[0m\u001b[0mobj\u001b[0m\u001b[0;34m,\u001b[0m \u001b[0mlist\u001b[0m\u001b[0;34m)\u001b[0m\u001b[0;34m:\u001b[0m\u001b[0;34m\u001b[0m\u001b[0;34m\u001b[0m\u001b[0m\n\u001b[1;32m     50\u001b[0m         \u001b[0;32mreturn\u001b[0m \u001b[0;34m[\u001b[0m\u001b[0mmove_to_device\u001b[0m\u001b[0;34m(\u001b[0m\u001b[0mitem\u001b[0m\u001b[0;34m,\u001b[0m \u001b[0mcuda_device\u001b[0m\u001b[0;34m)\u001b[0m \u001b[0;32mfor\u001b[0m \u001b[0mitem\u001b[0m \u001b[0;32min\u001b[0m \u001b[0mobj\u001b[0m\u001b[0;34m]\u001b[0m\u001b[0;34m\u001b[0m\u001b[0;34m\u001b[0m\u001b[0m\n",
      "\u001b[0;32m/miniconda/lib/python3.7/site-packages/allennlp/nn/util.py\u001b[0m in \u001b[0;36m<dictcomp>\u001b[0;34m(.0)\u001b[0m\n\u001b[1;32m     46\u001b[0m         \u001b[0;32mreturn\u001b[0m \u001b[0mobj\u001b[0m\u001b[0;34m.\u001b[0m\u001b[0mcuda\u001b[0m\u001b[0;34m(\u001b[0m\u001b[0mcuda_device\u001b[0m\u001b[0;34m)\u001b[0m\u001b[0;34m\u001b[0m\u001b[0;34m\u001b[0m\u001b[0m\n\u001b[1;32m     47\u001b[0m     \u001b[0;32melif\u001b[0m \u001b[0misinstance\u001b[0m\u001b[0;34m(\u001b[0m\u001b[0mobj\u001b[0m\u001b[0;34m,\u001b[0m \u001b[0mdict\u001b[0m\u001b[0;34m)\u001b[0m\u001b[0;34m:\u001b[0m\u001b[0;34m\u001b[0m\u001b[0;34m\u001b[0m\u001b[0m\n\u001b[0;32m---> 48\u001b[0;31m         \u001b[0;32mreturn\u001b[0m \u001b[0;34m{\u001b[0m\u001b[0mkey\u001b[0m\u001b[0;34m:\u001b[0m \u001b[0mmove_to_device\u001b[0m\u001b[0;34m(\u001b[0m\u001b[0mvalue\u001b[0m\u001b[0;34m,\u001b[0m \u001b[0mcuda_device\u001b[0m\u001b[0;34m)\u001b[0m \u001b[0;32mfor\u001b[0m \u001b[0mkey\u001b[0m\u001b[0;34m,\u001b[0m \u001b[0mvalue\u001b[0m \u001b[0;32min\u001b[0m \u001b[0mobj\u001b[0m\u001b[0;34m.\u001b[0m\u001b[0mitems\u001b[0m\u001b[0;34m(\u001b[0m\u001b[0;34m)\u001b[0m\u001b[0;34m}\u001b[0m\u001b[0;34m\u001b[0m\u001b[0;34m\u001b[0m\u001b[0m\n\u001b[0m\u001b[1;32m     49\u001b[0m     \u001b[0;32melif\u001b[0m \u001b[0misinstance\u001b[0m\u001b[0;34m(\u001b[0m\u001b[0mobj\u001b[0m\u001b[0;34m,\u001b[0m \u001b[0mlist\u001b[0m\u001b[0;34m)\u001b[0m\u001b[0;34m:\u001b[0m\u001b[0;34m\u001b[0m\u001b[0;34m\u001b[0m\u001b[0m\n\u001b[1;32m     50\u001b[0m         \u001b[0;32mreturn\u001b[0m \u001b[0;34m[\u001b[0m\u001b[0mmove_to_device\u001b[0m\u001b[0;34m(\u001b[0m\u001b[0mitem\u001b[0m\u001b[0;34m,\u001b[0m \u001b[0mcuda_device\u001b[0m\u001b[0;34m)\u001b[0m \u001b[0;32mfor\u001b[0m \u001b[0mitem\u001b[0m \u001b[0;32min\u001b[0m \u001b[0mobj\u001b[0m\u001b[0;34m]\u001b[0m\u001b[0;34m\u001b[0m\u001b[0;34m\u001b[0m\u001b[0m\n",
      "\u001b[0;32m/miniconda/lib/python3.7/site-packages/allennlp/nn/util.py\u001b[0m in \u001b[0;36mmove_to_device\u001b[0;34m(obj, cuda_device)\u001b[0m\n\u001b[1;32m     44\u001b[0m         \u001b[0;32mreturn\u001b[0m \u001b[0mobj\u001b[0m\u001b[0;34m\u001b[0m\u001b[0;34m\u001b[0m\u001b[0m\n\u001b[1;32m     45\u001b[0m     \u001b[0;32melif\u001b[0m \u001b[0misinstance\u001b[0m\u001b[0;34m(\u001b[0m\u001b[0mobj\u001b[0m\u001b[0;34m,\u001b[0m \u001b[0mtorch\u001b[0m\u001b[0;34m.\u001b[0m\u001b[0mTensor\u001b[0m\u001b[0;34m)\u001b[0m\u001b[0;34m:\u001b[0m\u001b[0;34m\u001b[0m\u001b[0;34m\u001b[0m\u001b[0m\n\u001b[0;32m---> 46\u001b[0;31m         \u001b[0;32mreturn\u001b[0m \u001b[0mobj\u001b[0m\u001b[0;34m.\u001b[0m\u001b[0mcuda\u001b[0m\u001b[0;34m(\u001b[0m\u001b[0mcuda_device\u001b[0m\u001b[0;34m)\u001b[0m\u001b[0;34m\u001b[0m\u001b[0;34m\u001b[0m\u001b[0m\n\u001b[0m\u001b[1;32m     47\u001b[0m     \u001b[0;32melif\u001b[0m \u001b[0misinstance\u001b[0m\u001b[0;34m(\u001b[0m\u001b[0mobj\u001b[0m\u001b[0;34m,\u001b[0m \u001b[0mdict\u001b[0m\u001b[0;34m)\u001b[0m\u001b[0;34m:\u001b[0m\u001b[0;34m\u001b[0m\u001b[0;34m\u001b[0m\u001b[0m\n\u001b[1;32m     48\u001b[0m         \u001b[0;32mreturn\u001b[0m \u001b[0;34m{\u001b[0m\u001b[0mkey\u001b[0m\u001b[0;34m:\u001b[0m \u001b[0mmove_to_device\u001b[0m\u001b[0;34m(\u001b[0m\u001b[0mvalue\u001b[0m\u001b[0;34m,\u001b[0m \u001b[0mcuda_device\u001b[0m\u001b[0;34m)\u001b[0m \u001b[0;32mfor\u001b[0m \u001b[0mkey\u001b[0m\u001b[0;34m,\u001b[0m \u001b[0mvalue\u001b[0m \u001b[0;32min\u001b[0m \u001b[0mobj\u001b[0m\u001b[0;34m.\u001b[0m\u001b[0mitems\u001b[0m\u001b[0;34m(\u001b[0m\u001b[0;34m)\u001b[0m\u001b[0;34m}\u001b[0m\u001b[0;34m\u001b[0m\u001b[0;34m\u001b[0m\u001b[0m\n",
      "\u001b[0;31mRuntimeError\u001b[0m: CUDA error: device-side assert triggered"
     ]
    }
   ],
   "source": [
    "\n",
    "\n"
   ]
  },
  {
   "cell_type": "code",
   "execution_count": null,
   "metadata": {},
   "outputs": [],
   "source": []
  },
  {
   "cell_type": "code",
   "execution_count": 13,
   "metadata": {},
   "outputs": [
    {
     "data": {
      "text/plain": [
       "' <div id=\"document1\" class=\"tabContent\">\\n         <div class=\"tabContent\">\\n                <div lang=\"\">\\n                 \\n      <table width=\"100%\" border=\"0\" cellspacing=\"0\" cellpadding=\"0\">\\n         <col width=\"10%\">\\n         <col width=\"10%\">\\n         <col width=\"60%\">\\n         <col width=\"20%\">\\n         <tbody>\\n            <tr>\\n               <td>\\n                  <p class=\"hd-date\">12.12.2019   </p>\\n               </td>\\n               <td>\\n                  <p class=\"hd-lg\">EN</p>\\n               </td>\\n               <td>\\n                  <p class=\"hd-ti\">Official Journal of the European Union</p>\\n               </td>\\n               <td>\\n                  <p class=\"hd-oj\">L 321/1</p>\\n               </td>\\n            </tr>\\n         </tbody>\\n      </table>\\n      <hr class=\"separator\">\\n      <div>\\n         <p class=\"doc-ti\" id=\"d1e40-1-1\">DIRECTIVE (EU) 2019/2121 OF THE EUROPEAN PARL'"
      ]
     },
     "execution_count": 13,
     "metadata": {},
     "output_type": "execute_result"
    }
   ],
   "source": [
    "cas.sofa_string[100:1000]"
   ]
  },
  {
   "cell_type": "code",
   "execution_count": 14,
   "metadata": {},
   "outputs": [
    {
     "data": {
      "text/plain": [
       "'    \\n         \\n         \\n         \\n         \\n            \\n               \\n                  12.12.2019   \\n               \\n               \\n                  EN\\n               \\n               \\n                  Official Journal of the European Union\\n               \\n               \\n                  L 321/1\\n               \\n            \\n         \\n      \\n      \\n      \\n         DIRECTIVE (EU) 2019/2121 OF THE EUROPEAN PARLIAMENT AND OF THE COUNCIL\\n         of 27 November 2019\\n         amending Directive (EU) 2017/1132 as regards cross-border conversions, mergers and divisions\\n         (Text with EEA relevance)\\n         THE EUROPEAN PARLIAMENT AND THE COUNCIL OF THE EUROPEAN UNION,\\n         Having regard to the Treaty on the Functioning of the European Union, and in particular Article 50(1) and (2) thereof,\\n         Having regard to the proposal from the European Commission,\\n         After tran'"
      ]
     },
     "execution_count": 14,
     "metadata": {},
     "output_type": "execute_result"
    }
   ],
   "source": [
    "cas.get_view( 'html2textView' ).sofa_string[ 100: 1000 ]"
   ]
  },
  {
   "cell_type": "code",
   "execution_count": null,
   "metadata": {},
   "outputs": [],
   "source": []
  },
  {
   "cell_type": "code",
   "execution_count": null,
   "metadata": {},
   "outputs": [],
   "source": []
  },
  {
   "cell_type": "code",
   "execution_count": null,
   "metadata": {},
   "outputs": [],
   "source": []
  },
  {
   "cell_type": "code",
   "execution_count": null,
   "metadata": {},
   "outputs": [],
   "source": []
  },
  {
   "cell_type": "code",
   "execution_count": 2,
   "metadata": {},
   "outputs": [
    {
     "ename": "NameError",
     "evalue": "name 'Predictor' is not defined",
     "output_type": "error",
     "traceback": [
      "\u001b[0;31m\u001b[0m",
      "\u001b[0;31mNameError\u001b[0mTraceback (most recent call last)",
      "\u001b[0;32m<ipython-input-2-74299b4decf6>\u001b[0m in \u001b[0;36m<module>\u001b[0;34m\u001b[0m\n\u001b[1;32m      1\u001b[0m \u001b[0minput_sentence\u001b[0m\u001b[0;34m=\u001b[0m\u001b[0;34m\"This is a test sentence.\"\u001b[0m\u001b[0;34m\u001b[0m\u001b[0;34m\u001b[0m\u001b[0m\n\u001b[0;32m----> 2\u001b[0;31m \u001b[0mbert_model\u001b[0m \u001b[0;34m=\u001b[0m \u001b[0mPredictor\u001b[0m\u001b[0;34m.\u001b[0m\u001b[0mfrom_path\u001b[0m\u001b[0;34m(\u001b[0m \u001b[0mBERT_PATH\u001b[0m\u001b[0;34m,\u001b[0m \u001b[0mcuda_device\u001b[0m\u001b[0;34m=\u001b[0m\u001b[0;36m1\u001b[0m \u001b[0;34m)\u001b[0m\u001b[0;34m\u001b[0m\u001b[0;34m\u001b[0m\u001b[0m\n\u001b[0m\u001b[1;32m      3\u001b[0m parsed_sentence=bert_model.predict(\n\u001b[1;32m      4\u001b[0m     \u001b[0msentence\u001b[0m\u001b[0;34m=\u001b[0m\u001b[0minput_sentence\u001b[0m\u001b[0;34m\u001b[0m\u001b[0;34m\u001b[0m\u001b[0m\n\u001b[1;32m      5\u001b[0m )\n",
      "\u001b[0;31mNameError\u001b[0m: name 'Predictor' is not defined"
     ]
    }
   ],
   "source": []
  },
  {
   "cell_type": "code",
   "execution_count": 12,
   "metadata": {},
   "outputs": [
    {
     "data": {
      "text/plain": [
       "{'verbs': [{'verb': 'is',\n",
       "   'description': '[ARG1: This] [V: is] [ARG2: a test sentence] .',\n",
       "   'tags': ['B-ARG1', 'B-V', 'B-ARG2', 'I-ARG2', 'I-ARG2', 'O']}],\n",
       " 'words': ['This', 'is', 'a', 'test', 'sentence', '.']}"
      ]
     },
     "execution_count": 12,
     "metadata": {},
     "output_type": "execute_result"
    }
   ],
   "source": [
    "parsed_sentence"
   ]
  },
  {
   "cell_type": "code",
   "execution_count": 1,
   "metadata": {},
   "outputs": [
    {
     "ename": "NameError",
     "evalue": "name 'input_sentence' is not defined",
     "output_type": "error",
     "traceback": [
      "\u001b[0;31m\u001b[0m",
      "\u001b[0;31mNameError\u001b[0mTraceback (most recent call last)",
      "\u001b[0;32m<ipython-input-1-38978a7f3c62>\u001b[0m in \u001b[0;36m<module>\u001b[0;34m\u001b[0m\n\u001b[1;32m      2\u001b[0m \u001b[0;34m\u001b[0m\u001b[0m\n\u001b[1;32m      3\u001b[0m \u001b[0mtokenizer\u001b[0m \u001b[0;34m=\u001b[0m \u001b[0mSpacyWordSplitter\u001b[0m\u001b[0;34m(\u001b[0m\u001b[0mlanguage\u001b[0m\u001b[0;34m=\u001b[0m\u001b[0;34m\"en_core_web_sm\"\u001b[0m\u001b[0;34m,\u001b[0m \u001b[0mpos_tags\u001b[0m\u001b[0;34m=\u001b[0m\u001b[0;32mTrue\u001b[0m\u001b[0;34m)\u001b[0m\u001b[0;34m\u001b[0m\u001b[0;34m\u001b[0m\u001b[0m\n\u001b[0;32m----> 4\u001b[0;31m \u001b[0mtokenized_sentence\u001b[0m\u001b[0;34m=\u001b[0m\u001b[0mtokenizer\u001b[0m\u001b[0;34m.\u001b[0m\u001b[0msplit_words\u001b[0m\u001b[0;34m(\u001b[0m \u001b[0minput_sentence\u001b[0m \u001b[0;34m)\u001b[0m\u001b[0;34m\u001b[0m\u001b[0;34m\u001b[0m\u001b[0m\n\u001b[0m\u001b[1;32m      5\u001b[0m \u001b[0mbert_model\u001b[0m\u001b[0;34m.\u001b[0m\u001b[0mpredict_tokenized\u001b[0m\u001b[0;34m(\u001b[0m \u001b[0;34m[\u001b[0m\u001b[0mstr\u001b[0m\u001b[0;34m(\u001b[0m \u001b[0mword\u001b[0m \u001b[0;34m)\u001b[0m \u001b[0;32mfor\u001b[0m \u001b[0mword\u001b[0m \u001b[0;32min\u001b[0m \u001b[0mtokenized_sentence\u001b[0m\u001b[0;34m]\u001b[0m \u001b[0;34m)\u001b[0m\u001b[0;34m\u001b[0m\u001b[0;34m\u001b[0m\u001b[0m\n",
      "\u001b[0;31mNameError\u001b[0m: name 'input_sentence' is not defined"
     ]
    }
   ],
   "source": [
    "from allennlp.data.tokenizers.word_splitter import SpacyWordSplitter\n",
    "\n",
    "tokenizer = SpacyWordSplitter(language=\"en_core_web_sm\", pos_tags=True)\n",
    "tokenized_sentence=tokenizer.split_words( input_sentence )\n",
    "bert_model.predict_tokenized( [str( word ) for word in tokenized_sentence] )"
   ]
  },
  {
   "cell_type": "code",
   "execution_count": 25,
   "metadata": {},
   "outputs": [
    {
     "data": {
      "text/plain": [
       "6"
      ]
     },
     "execution_count": 25,
     "metadata": {},
     "output_type": "execute_result"
    }
   ],
   "source": [
    "len( tokenized_sentence )"
   ]
  },
  {
   "cell_type": "code",
   "execution_count": null,
   "metadata": {},
   "outputs": [],
   "source": []
  },
  {
   "cell_type": "code",
   "execution_count": 19,
   "metadata": {},
   "outputs": [
    {
     "data": {
      "text/plain": [
       "allennlp.data.tokenizers.token.Token"
      ]
     },
     "execution_count": 19,
     "metadata": {},
     "output_type": "execute_result"
    }
   ],
   "source": [
    "type( tokenized_sentence[0] )"
   ]
  },
  {
   "cell_type": "code",
   "execution_count": 20,
   "metadata": {},
   "outputs": [
    {
     "data": {
      "text/plain": [
       "'This'"
      ]
     },
     "execution_count": 20,
     "metadata": {},
     "output_type": "execute_result"
    }
   ],
   "source": [
    "str( tokenized_sentence[0] )"
   ]
  },
  {
   "cell_type": "code",
   "execution_count": null,
   "metadata": {},
   "outputs": [],
   "source": []
  },
  {
   "cell_type": "code",
   "execution_count": null,
   "metadata": {},
   "outputs": [],
   "source": []
  },
  {
   "cell_type": "code",
   "execution_count": null,
   "metadata": {},
   "outputs": [],
   "source": []
  },
  {
   "cell_type": "code",
   "execution_count": null,
   "metadata": {},
   "outputs": [],
   "source": []
  },
  {
   "cell_type": "code",
   "execution_count": null,
   "metadata": {},
   "outputs": [],
   "source": []
  },
  {
   "cell_type": "code",
   "execution_count": 39,
   "metadata": {},
   "outputs": [
    {
     "data": {
      "text/plain": [
       "532"
      ]
     },
     "execution_count": 39,
     "metadata": {},
     "output_type": "execute_result"
    }
   ],
   "source": [
    "from allennlp.data.tokenizers.word_splitter import SpacyWordSplitter\n",
    "\n",
    "tokenizer = SpacyWordSplitter(language=\"en_core_web_sm\", pos_tags=True) \n",
    "len(tokenizer.split_words( test.split( \"\\n\" )[0] ))"
   ]
  },
  {
   "cell_type": "code",
   "execution_count": null,
   "metadata": {},
   "outputs": [],
   "source": []
  },
  {
   "cell_type": "code",
   "execution_count": null,
   "metadata": {},
   "outputs": [],
   "source": []
  },
  {
   "cell_type": "code",
   "execution_count": 48,
   "metadata": {},
   "outputs": [
    {
     "data": {
      "text/plain": [
       "2156"
      ]
     },
     "execution_count": 48,
     "metadata": {},
     "output_type": "execute_result"
    }
   ],
   "source": [
    "len( test_string )"
   ]
  },
  {
   "cell_type": "code",
   "execution_count": 66,
   "metadata": {},
   "outputs": [
    {
     "name": "stdout",
     "output_type": "stream",
     "text": [
      "sd\n"
     ]
    }
   ],
   "source": [
    "if (len( \"\")  > 2 or len( \"test test test test\".split()) > 2) :\n",
    "    print( \"sd\" ) "
   ]
  },
  {
   "cell_type": "code",
   "execution_count": null,
   "metadata": {},
   "outputs": [],
   "source": []
  },
  {
   "cell_type": "code",
   "execution_count": null,
   "metadata": {},
   "outputs": [],
   "source": []
  },
  {
   "cell_type": "code",
   "execution_count": 51,
   "metadata": {},
   "outputs": [
    {
     "data": {
      "text/plain": [
       "332"
      ]
     },
     "execution_count": 51,
     "metadata": {},
     "output_type": "execute_result"
    }
   ],
   "source": [
    "len( test_string.split( ) )"
   ]
  },
  {
   "cell_type": "code",
   "execution_count": 19,
   "metadata": {},
   "outputs": [
    {
     "data": {
      "text/plain": [
       "2551"
      ]
     },
     "execution_count": 19,
     "metadata": {},
     "output_type": "execute_result"
    }
   ],
   "source": [
    "\n",
    "len( tokenizer.split_words( test_string ) )\n",
    "\n",
    "# self._tokenizer = SpacyWordSplitter(language='en_core_web_sm', pos_tags=True) \n"
   ]
  },
  {
   "cell_type": "code",
   "execution_count": 12,
   "metadata": {},
   "outputs": [
    {
     "name": "stdout",
     "output_type": "stream",
     "text": [
      "4.5183799266815186\n"
     ]
    }
   ],
   "source": [
    "import time\n",
    "start=time.time()\n",
    "try: \n",
    "    parsed_sentence=bert_model.predict(sentence=test[2] )\n",
    "except RuntimeError:\n",
    "    print( \"RunTimeError, could not parse \" )\n",
    "end=time.time()\n",
    "print( end-start )"
   ]
  },
  {
   "cell_type": "code",
   "execution_count": 13,
   "metadata": {},
   "outputs": [
    {
     "data": {
      "text/plain": [
       "RuntimeError"
      ]
     },
     "execution_count": 13,
     "metadata": {},
     "output_type": "execute_result"
    }
   ],
   "source": [
    "RuntimeError"
   ]
  },
  {
   "cell_type": "code",
   "execution_count": null,
   "metadata": {},
   "outputs": [],
   "source": []
  },
  {
   "cell_type": "code",
   "execution_count": null,
   "metadata": {},
   "outputs": [],
   "source": []
  },
  {
   "cell_type": "code",
   "execution_count": 47,
   "metadata": {},
   "outputs": [],
   "source": [
    "def break_long_paragraphs(text: str ) -> list:\n",
    "    \n",
    "    if len(text) > 500:\n",
    "        text = re.sub(r'([^❮❬‖❭❯]{500}(?:[^❮❬‖❭❯.]|[.][^❮❬‖❭❯ ])*[.]) (?=[A-Z])', r'\\1\\n', text, re.MULTILINE + re.UNICODE)\n",
    "    \n",
    "    break_lines = [line.strip() for line in text.split( \"\\n\" ) if line.strip()]\n",
    "\n",
    "    return break_lines"
   ]
  },
  {
   "cell_type": "code",
   "execution_count": 48,
   "metadata": {},
   "outputs": [],
   "source": [
    "import re\n",
    "broken=break_long_paragraphs( test[2] )"
   ]
  },
  {
   "cell_type": "code",
   "execution_count": 53,
   "metadata": {},
   "outputs": [
    {
     "data": {
      "text/plain": [
       "\"As a key element of possessing European legal status, European political parties and European political foundations should have European legal personality. The acquisition of European legal personality should be subjected to requirements and procedures to protect the interests of the Member State of the seat, of the applicant for European legal status ('the applicant') and of any third parties concerned. In particular, any pre-existing national legal personality should be converted into a European legal personality and any individual rights and obligations that have accrued to the former national legal entity should be transferred to the new European legal entity.\""
      ]
     },
     "execution_count": 53,
     "metadata": {},
     "output_type": "execute_result"
    }
   ],
   "source": [
    "broken[0]"
   ]
  },
  {
   "cell_type": "code",
   "execution_count": 46,
   "metadata": {},
   "outputs": [
    {
     "name": "stdout",
     "output_type": "stream",
     "text": [
      "4.548712491989136\n"
     ]
    }
   ],
   "source": [
    "import time\n",
    "start=time.time()\n",
    "bert_model.predict( sentence=test[2] )\n",
    "end=time.time()\n",
    "print( end-start )"
   ]
  },
  {
   "cell_type": "code",
   "execution_count": 34,
   "metadata": {},
   "outputs": [
    {
     "data": {
      "text/plain": [
       "\"As a key element of possessing European legal status, European political parties and European political foundations should have European legal personality. The acquisition of European legal personality should be subjected to requirements and procedures to protect the interests of the Member State of the seat, of the applicant for European legal status ('the applicant') and of any third parties concerned. In particular, any pre-existing national legal personality should be converted into a European legal personality and any individual rights and obligations that have accrued to the former national legal entity should be transferred to the new European legal entity. Moreover, in order to facil\""
      ]
     },
     "execution_count": 34,
     "metadata": {},
     "output_type": "execute_result"
    }
   ],
   "source": [
    "test[2][:700]"
   ]
  },
  {
   "cell_type": "code",
   "execution_count": null,
   "metadata": {},
   "outputs": [],
   "source": []
  },
  {
   "cell_type": "code",
   "execution_count": 23,
   "metadata": {},
   "outputs": [
    {
     "data": {
      "text/plain": [
       "\"As a key element of possessing European legal status, European political parties and European political foundations should have European legal personality. The acquisition of European legal personality should be subjected to requirements and procedures to protect the interests of the Member State of the seat, of the applicant for European legal status ('the applicant') and of any third parties concerned. In particular, any pre-existing national legal personality should be converted into a Europe\""
      ]
     },
     "execution_count": 23,
     "metadata": {},
     "output_type": "execute_result"
    }
   ],
   "source": [
    "test[2][:500]"
   ]
  },
  {
   "cell_type": "code",
   "execution_count": null,
   "metadata": {},
   "outputs": [],
   "source": []
  },
  {
   "cell_type": "code",
   "execution_count": null,
   "metadata": {},
   "outputs": [],
   "source": []
  },
  {
   "cell_type": "code",
   "execution_count": null,
   "metadata": {},
   "outputs": [],
   "source": []
  },
  {
   "cell_type": "code",
   "execution_count": 76,
   "metadata": {},
   "outputs": [],
   "source": []
  },
  {
   "cell_type": "code",
   "execution_count": 77,
   "metadata": {},
   "outputs": [
    {
     "data": {
      "text/plain": [
       "'test test and more. And more ❮ And then. And more and then. And more ❯ And more and then. And'"
      ]
     },
     "execution_count": 77,
     "metadata": {},
     "output_type": "execute_result"
    }
   ],
   "source": [
    "test=open( \"test.txt\" ).read().split( \"\\n\" )\n",
    "test[1]"
   ]
  },
  {
   "cell_type": "code",
   "execution_count": 78,
   "metadata": {},
   "outputs": [
    {
     "data": {
      "text/plain": [
       "['test test and more.',\n",
       " 'And more ❮ And then. And more and then.',\n",
       " 'And more ❯ And more and then.',\n",
       " 'And']"
      ]
     },
     "execution_count": 78,
     "metadata": {},
     "output_type": "execute_result"
    }
   ],
   "source": [
    "break_long_paragraphs( test[1] )"
   ]
  },
  {
   "cell_type": "code",
   "execution_count": null,
   "metadata": {},
   "outputs": [],
   "source": []
  },
  {
   "cell_type": "code",
   "execution_count": 56,
   "metadata": {},
   "outputs": [
    {
     "data": {
      "text/plain": [
       "['test test and more. And more ❮ And then. And more and then. And more❯ And more and then. And']"
      ]
     },
     "execution_count": 56,
     "metadata": {},
     "output_type": "execute_result"
    }
   ],
   "source": [
    "test"
   ]
  },
  {
   "cell_type": "code",
   "execution_count": 42,
   "metadata": {},
   "outputs": [
    {
     "data": {
      "text/plain": [
       "['The termination of European legal personality should be subject to requirements and procedures to protect the interests of the Union, of the Member State of the seat, of the European political party or European political foundation and of any third parties concerned. In particular, if the European political party or European political foundation acquires legal personality under the law of the Member State of its seat, this should be considered as a conversion of the European legal personality and any individual rights and obligations that the former European legal entity has respectively acquired or incurred should be transferred to the national legal entity. Moreover, in order to facilitate continuity of activity, safeguards should be put in place to prevent the Member State concerned from applying prohibitive conditions to such conversion. If the European political party or European political foundation does not acquire legal personality in the Member State of its seat, it should be wound up in accordance with the law of that Member State and in accordance with the condition requiring it not to pursue profit goals. ❮ The Authority and the Authorising Officer of the European Parliament should be able to agree modalities with the Member State concerned regarding the termination of the European legal personality, in particular in order to ensure the recovery of funds received from the general budget of the European Union and any financial sanctions.❯ The termination of European legal personality should be subject to requirements and procedures to protect the interests of the Union, of the Member State of the seat, of the European political party or European political foundation and of any third parties concerned. In particular, if the European political party or European political foundation acquires legal personality under the law of the Member State of its seat, this should be considered as a conversion of the European legal personality and any individual rights and obligations that the former European legal entity has respectively acquired or incurred should be transferred to the national legal entity. Moreover, in order to facilitate continuity of activity, safeguards should be put in place to prevent the Member State concerned from applying prohibitive conditions to such conversion. If the European political party or European political foundation does not acquire legal personality in the Member State of its seat, it should be wound up in accordance with the law of that Member State and in accordance with the condition requiring it not to pursue profit goals']"
      ]
     },
     "execution_count": 42,
     "metadata": {},
     "output_type": "execute_result"
    }
   ],
   "source": [
    "test"
   ]
  },
  {
   "cell_type": "code",
   "execution_count": null,
   "metadata": {},
   "outputs": [],
   "source": []
  },
  {
   "cell_type": "code",
   "execution_count": null,
   "metadata": {},
   "outputs": [],
   "source": [
    "print( \"get reporting obligations\" )\n",
    "import time\n",
    "start=time.time()\n",
    "reporting_obligations_finder = ReportingObligationsFinder( cas, bert_model, nlp )\n",
    "reporting_obligations_finder.process_sentences( ListSofaID='ListView'  )\n",
    "reporting_obligations_finder.add_xml_to_cas( TEMPLATE_PATH, ROSofaID='ReportingObligationsView' )\n",
    "reporting_obligations_finder.print_to_html(  TEMPLATE_PATH, OUTPUT_PATH  )\n",
    "end=time.time()\n",
    "print( end-start )"
   ]
  },
  {
   "cell_type": "code",
   "execution_count": null,
   "metadata": {},
   "outputs": [],
   "source": []
  },
  {
   "cell_type": "code",
   "execution_count": 60,
   "metadata": {},
   "outputs": [],
   "source": [
    "def break_long_paragraphs(text: str ) -> list:\n",
    "    \n",
    "    if len(text) > 10:\n",
    "        text = re.sub(r'([^❮❬‖❭❯]{10}(?:[^❮❬‖❭❯.]|[.][^❮❬‖❭❯ ])*[.]) (?=[A-Z])', r'\\1\\n', text, re.MULTILINE + re.UNICODE)\n",
    "    \n",
    "    break_lines = [line.strip() for line in text.split( \"\\n\" ) if line.strip()]\n",
    "\n",
    "    return break_lines"
   ]
  },
  {
   "cell_type": "code",
   "execution_count": 64,
   "metadata": {},
   "outputs": [],
   "source": [
    "text= \"As a key element of possessing European legal status, European political parties and European political foundations should have European legal personality.  ❮ Test and.  ❯ ❯ . The acquisition of European legal personality should be subject to requirements and procedures to protect the interests of the Member State of the seat, of the applicant for European legal status (the applicant) and of any third parties concerned. In particular, any pre-existing national legal personality should be converted into a European legal personality and any individual rights and obligations that have accrued to the former national legal entity should be transferred to the new European legal entity. Moreover, in order to facilitate continuity of activity, safeguards should be put in place to prevent the Member State concerned from applying prohibitive conditions to such conversion. The Member State of the seat should be able to specify which types of national legal persons may be converted into European legal persons, and to withhold its agreement to the acquisition of European legal personality under this Regulation until adequate guarantees are provided, in particular, for the legality of the applicant statutes under the laws of that Member State or for the protection of creditors or holders of other rights in respect of any pre-existing national legal personality.\""
   ]
  },
  {
   "cell_type": "code",
   "execution_count": 65,
   "metadata": {},
   "outputs": [
    {
     "data": {
      "text/plain": [
       "1371"
      ]
     },
     "execution_count": 65,
     "metadata": {},
     "output_type": "execute_result"
    }
   ],
   "source": [
    "len( text )"
   ]
  },
  {
   "cell_type": "code",
   "execution_count": 66,
   "metadata": {},
   "outputs": [
    {
     "data": {
      "text/plain": [
       "['As a key element of possessing European legal status, European political parties and European political foundations ❮ should have European legal personality.  ❮ Test and.  ❯ ❯ . The acquisition of European legal personality should be subject to requirements and procedures to protect the interests of the Member State of the seat, of the applicant for European legal status (the applicant) and of any third parties concerned.',\n",
       " 'In particular, any pre-existing national legal personality should be converted into a European legal personality and any individual rights and obligations that have accrued to the former national legal entity should be transferred to the new European legal entity.',\n",
       " 'Moreover, in order to facilitate continuity of activity, safeguards should be put in place to prevent the Member State concerned from applying prohibitive conditions to such conversion.',\n",
       " 'The Member State of the seat should be able to specify which types of national legal persons may be converted into European legal persons, and to withhold its agreement to the acquisition of European legal personality under this Regulation until adequate guarantees are provided, in particular, for the legality of the applicant statutes under the laws of that Member State or for the protection of creditors or holders of other rights in respect of any pre-existing national legal personality.']"
      ]
     },
     "execution_count": 66,
     "metadata": {},
     "output_type": "execute_result"
    }
   ],
   "source": [
    "break_long_paragraphs(text)"
   ]
  },
  {
   "cell_type": "code",
   "execution_count": null,
   "metadata": {},
   "outputs": [],
   "source": []
  },
  {
   "cell_type": "code",
   "execution_count": null,
   "metadata": {},
   "outputs": [],
   "source": []
  },
  {
   "cell_type": "code",
   "execution_count": null,
   "metadata": {},
   "outputs": [],
   "source": []
  },
  {
   "cell_type": "code",
   "execution_count": null,
   "metadata": {},
   "outputs": [],
   "source": []
  },
  {
   "cell_type": "code",
   "execution_count": 30,
   "metadata": {},
   "outputs": [
    {
     "name": "stdout",
     "output_type": "stream",
     "text": [
      "get reporting obligations\n",
      "processing sentence: 5. In the case of a sample, only a selection of the credit institutions and other institutions in the potential reporting population shall be asked to report. The variables that shall be estimated by means of the sample are the interest rates and the amounts of new business and the interest rates on outstanding amounts. They are referred to as sampling variables. In order to minimise the risk that the results of a sample survey deviate from the true (unknown) values in the potential reporting population, the sample shall be constructed in such a way that it is representative of the potential reporting population. For the purpose of MFI interest rate statistics a sample shall be considered representative if all the characteristics that are relevant for MFI interest rate statistics and inherent in the potential reporting population are also reflected in the sample. For drawing the initial sample, NCBs may use suitable proxies and models to produce the sampling scheme even if the underlying data, which are derived from existing sources, may not match perfectly the definitions of this Regulation.|(11667, 12776)5. In the case of a sample, only a selection of the credit institutions and other institutions in the potential reporting population shall be asked to report. The variables that shall be estimated by means of the sample are the interest rates and the amounts of new business and the interest rates on outstanding amounts. They are referred to as sampling variables. In order to minimise the risk that the results of a sample survey deviate from the true (unknown) values in the potential reporting population, the sample shall be constructed in such a way that it is representative of the potential reporting population. For the purpose of MFI interest rate statistics a sample shall be considered representative if all the characteristics that are relevant for MFI interest rate statistics and inherent in the potential reporting population are also reflected in the sample. For drawing the initial sample, NCBs may use suitable proxies and models to produce the sampling scheme even if the underlying data, which are derived from existing sources, may not match perfectly the definitions of this Regulation.|(11667, 12776)5. In the case of a sample, only a selection of the credit institutions and other institutions in the potential reporting population shall be asked to report. The variables that shall be estimated by means of the sample are the interest rates and the amounts of new business and the interest rates on outstanding amounts. They are referred to as sampling variables. In order to minimise the risk that the results of a sample survey deviate from the true (unknown) values in the potential reporting population, the sample shall be constructed in such a way that it is representative of the potential reporting population. For the purpose of MFI interest rate statistics a sample shall be considered representative if all the characteristics that are relevant for MFI interest rate statistics and inherent in the potential reporting population are also reflected in the sample. For drawing the initial sample, NCBs may use suitable proxies and models to produce the sampling scheme even if the underlying data, which are derived from existing sources, may not match perfectly the definitions of this Regulation.\n"
     ]
    },
    {
     "ename": "RuntimeError",
     "evalue": "index out of range: Tried to access index 512 out of table with 511 rows. at /opt/conda/conda-bld/pytorch_1579022030672/work/aten/src/TH/generic/THTensorEvenMoreMath.cpp:418",
     "output_type": "error",
     "traceback": [
      "\u001b[0;31m\u001b[0m",
      "\u001b[0;31mRuntimeError\u001b[0mTraceback (most recent call last)",
      "\u001b[0;32m<ipython-input-30-7b8cbda7b8a9>\u001b[0m in \u001b[0;36m<module>\u001b[0;34m\u001b[0m\n\u001b[1;32m      3\u001b[0m \u001b[0mstart\u001b[0m\u001b[0;34m=\u001b[0m\u001b[0mtime\u001b[0m\u001b[0;34m.\u001b[0m\u001b[0mtime\u001b[0m\u001b[0;34m(\u001b[0m\u001b[0;34m)\u001b[0m\u001b[0;34m\u001b[0m\u001b[0;34m\u001b[0m\u001b[0m\n\u001b[1;32m      4\u001b[0m \u001b[0mreporting_obligations_finder\u001b[0m \u001b[0;34m=\u001b[0m \u001b[0mReportingObligationsFinder\u001b[0m\u001b[0;34m(\u001b[0m \u001b[0mcas\u001b[0m\u001b[0;34m,\u001b[0m \u001b[0mbert_model\u001b[0m\u001b[0;34m,\u001b[0m \u001b[0mnlp\u001b[0m \u001b[0;34m)\u001b[0m\u001b[0;34m\u001b[0m\u001b[0;34m\u001b[0m\u001b[0m\n\u001b[0;32m----> 5\u001b[0;31m \u001b[0mreporting_obligations_finder\u001b[0m\u001b[0;34m.\u001b[0m\u001b[0mprocess_sentences\u001b[0m\u001b[0;34m(\u001b[0m \u001b[0mListSofaID\u001b[0m\u001b[0;34m=\u001b[0m\u001b[0;34m'ListView'\u001b[0m  \u001b[0;34m)\u001b[0m\u001b[0;34m\u001b[0m\u001b[0;34m\u001b[0m\u001b[0m\n\u001b[0m\u001b[1;32m      6\u001b[0m \u001b[0mreporting_obligations_finder\u001b[0m\u001b[0;34m.\u001b[0m\u001b[0madd_xml_to_cas\u001b[0m\u001b[0;34m(\u001b[0m \u001b[0mTEMPLATE_PATH\u001b[0m\u001b[0;34m,\u001b[0m \u001b[0mROSofaID\u001b[0m\u001b[0;34m=\u001b[0m\u001b[0;34m'ReportingObligationsView'\u001b[0m \u001b[0;34m)\u001b[0m\u001b[0;34m\u001b[0m\u001b[0;34m\u001b[0m\u001b[0m\n\u001b[1;32m      7\u001b[0m \u001b[0mreporting_obligations_finder\u001b[0m\u001b[0;34m.\u001b[0m\u001b[0mprint_to_html\u001b[0m\u001b[0;34m(\u001b[0m  \u001b[0mTEMPLATE_PATH\u001b[0m\u001b[0;34m,\u001b[0m \u001b[0mOUTPUT_PATH\u001b[0m  \u001b[0;34m)\u001b[0m\u001b[0;34m\u001b[0m\u001b[0;34m\u001b[0m\u001b[0m\n",
      "\u001b[0;32m/notebook/nas-trainings/arne/DGFISMA/reporting_obligations/code/DGFISMA_reporting_obligations/src/reporting_obligations.py\u001b[0m in \u001b[0;36mprocess_sentences\u001b[0;34m(self, ListSofaID)\u001b[0m\n\u001b[1;32m    722\u001b[0m \u001b[0;34m\u001b[0m\u001b[0m\n\u001b[1;32m    723\u001b[0m             \u001b[0;31m#process the main_sentence\u001b[0m\u001b[0;34m\u001b[0m\u001b[0;34m\u001b[0m\u001b[0;34m\u001b[0m\u001b[0m\n\u001b[0;32m--> 724\u001b[0;31m             \u001b[0mlist_xml_sentence\u001b[0m\u001b[0;34m=\u001b[0m\u001b[0mself\u001b[0m\u001b[0;34m.\u001b[0m\u001b[0mprocess_sentence\u001b[0m\u001b[0;34m(\u001b[0m \u001b[0msentence\u001b[0m\u001b[0;34m,\u001b[0m \u001b[0msubsentence\u001b[0m\u001b[0;34m,\u001b[0m \u001b[0;32mTrue\u001b[0m \u001b[0;34m)\u001b[0m\u001b[0;34m\u001b[0m\u001b[0;34m\u001b[0m\u001b[0m\n\u001b[0m\u001b[1;32m    725\u001b[0m \u001b[0;34m\u001b[0m\u001b[0m\n\u001b[1;32m    726\u001b[0m             \u001b[0;31m#set the offset\u001b[0m\u001b[0;34m\u001b[0m\u001b[0;34m\u001b[0m\u001b[0;34m\u001b[0m\u001b[0m\n",
      "\u001b[0;32m/notebook/nas-trainings/arne/DGFISMA/reporting_obligations/code/DGFISMA_reporting_obligations/src/reporting_obligations.py\u001b[0m in \u001b[0;36mprocess_sentence\u001b[0;34m(self, sentence, subsentence, main_sentence)\u001b[0m\n\u001b[1;32m    656\u001b[0m \u001b[0;34m\u001b[0m\u001b[0m\n\u001b[1;32m    657\u001b[0m         \u001b[0;31m#parse the sentence with ALLEN_NLP model:\u001b[0m\u001b[0;34m\u001b[0m\u001b[0;34m\u001b[0m\u001b[0;34m\u001b[0m\u001b[0m\n\u001b[0;32m--> 658\u001b[0;31m         \u001b[0mparsed_sentence\u001b[0m\u001b[0;34m=\u001b[0m\u001b[0mself\u001b[0m\u001b[0;34m.\u001b[0m\u001b[0mparse_sentence\u001b[0m\u001b[0;34m(\u001b[0m \u001b[0msentence\u001b[0m \u001b[0;34m)\u001b[0m\u001b[0;34m\u001b[0m\u001b[0;34m\u001b[0m\u001b[0m\n\u001b[0m\u001b[1;32m    659\u001b[0m \u001b[0;34m\u001b[0m\u001b[0m\n\u001b[1;32m    660\u001b[0m         \u001b[0mverbs\u001b[0m\u001b[0;34m=\u001b[0m\u001b[0mself\u001b[0m\u001b[0;34m.\u001b[0m\u001b[0mfilter_data_to_relevant_verbs\u001b[0m\u001b[0;34m(\u001b[0m \u001b[0mparsed_sentence\u001b[0m \u001b[0;34m)\u001b[0m\u001b[0;34m\u001b[0m\u001b[0;34m\u001b[0m\u001b[0m\n",
      "\u001b[0;32m/notebook/nas-trainings/arne/DGFISMA/reporting_obligations/code/DGFISMA_reporting_obligations/src/reporting_obligations.py\u001b[0m in \u001b[0;36mparse_sentence\u001b[0;34m(self, input_sentence)\u001b[0m\n\u001b[1;32m    104\u001b[0m \u001b[0;34m\u001b[0m\u001b[0m\n\u001b[1;32m    105\u001b[0m         parsed_sentence=self.bert_model.predict(\n\u001b[0;32m--> 106\u001b[0;31m             \u001b[0msentence\u001b[0m\u001b[0;34m=\u001b[0m\u001b[0minput_sentence\u001b[0m\u001b[0;34m\u001b[0m\u001b[0;34m\u001b[0m\u001b[0m\n\u001b[0m\u001b[1;32m    107\u001b[0m         )\n\u001b[1;32m    108\u001b[0m \u001b[0;34m\u001b[0m\u001b[0m\n",
      "\u001b[0;32m/miniconda/lib/python3.7/site-packages/allennlp/predictors/semantic_role_labeler.py\u001b[0m in \u001b[0;36mpredict\u001b[0;34m(self, sentence)\u001b[0m\n\u001b[1;32m     43\u001b[0m         \u001b[0mA\u001b[0m \u001b[0mdictionary\u001b[0m \u001b[0mrepresentation\u001b[0m \u001b[0mof\u001b[0m \u001b[0mthe\u001b[0m \u001b[0msemantic\u001b[0m \u001b[0mroles\u001b[0m \u001b[0;32min\u001b[0m \u001b[0mthe\u001b[0m \u001b[0msentence\u001b[0m\u001b[0;34m.\u001b[0m\u001b[0;34m\u001b[0m\u001b[0;34m\u001b[0m\u001b[0m\n\u001b[1;32m     44\u001b[0m         \"\"\"\n\u001b[0;32m---> 45\u001b[0;31m         \u001b[0;32mreturn\u001b[0m \u001b[0mself\u001b[0m\u001b[0;34m.\u001b[0m\u001b[0mpredict_json\u001b[0m\u001b[0;34m(\u001b[0m\u001b[0;34m{\u001b[0m\u001b[0;34m\"sentence\"\u001b[0m\u001b[0;34m:\u001b[0m \u001b[0msentence\u001b[0m\u001b[0;34m}\u001b[0m\u001b[0;34m)\u001b[0m\u001b[0;34m\u001b[0m\u001b[0;34m\u001b[0m\u001b[0m\n\u001b[0m\u001b[1;32m     46\u001b[0m \u001b[0;34m\u001b[0m\u001b[0m\n\u001b[1;32m     47\u001b[0m     \u001b[0;32mdef\u001b[0m \u001b[0mpredict_tokenized\u001b[0m\u001b[0;34m(\u001b[0m\u001b[0mself\u001b[0m\u001b[0;34m,\u001b[0m \u001b[0mtokenized_sentence\u001b[0m\u001b[0;34m:\u001b[0m \u001b[0mList\u001b[0m\u001b[0;34m[\u001b[0m\u001b[0mstr\u001b[0m\u001b[0;34m]\u001b[0m\u001b[0;34m)\u001b[0m \u001b[0;34m->\u001b[0m \u001b[0mJsonDict\u001b[0m\u001b[0;34m:\u001b[0m\u001b[0;34m\u001b[0m\u001b[0;34m\u001b[0m\u001b[0m\n",
      "\u001b[0;32m/miniconda/lib/python3.7/site-packages/allennlp/predictors/semantic_role_labeler.py\u001b[0m in \u001b[0;36mpredict_json\u001b[0;34m(self, inputs)\u001b[0m\n\u001b[1;32m    243\u001b[0m             \u001b[0;32mreturn\u001b[0m \u001b[0msanitize\u001b[0m\u001b[0;34m(\u001b[0m\u001b[0;34m{\u001b[0m\u001b[0;34m\"verbs\"\u001b[0m\u001b[0;34m:\u001b[0m \u001b[0;34m[\u001b[0m\u001b[0;34m]\u001b[0m\u001b[0;34m,\u001b[0m \u001b[0;34m\"words\"\u001b[0m\u001b[0;34m:\u001b[0m \u001b[0mself\u001b[0m\u001b[0;34m.\u001b[0m\u001b[0m_tokenizer\u001b[0m\u001b[0;34m.\u001b[0m\u001b[0msplit_words\u001b[0m\u001b[0;34m(\u001b[0m\u001b[0minputs\u001b[0m\u001b[0;34m[\u001b[0m\u001b[0;34m\"sentence\"\u001b[0m\u001b[0;34m]\u001b[0m\u001b[0;34m)\u001b[0m\u001b[0;34m}\u001b[0m\u001b[0;34m)\u001b[0m\u001b[0;34m\u001b[0m\u001b[0;34m\u001b[0m\u001b[0m\n\u001b[1;32m    244\u001b[0m \u001b[0;34m\u001b[0m\u001b[0m\n\u001b[0;32m--> 245\u001b[0;31m         \u001b[0;32mreturn\u001b[0m \u001b[0mself\u001b[0m\u001b[0;34m.\u001b[0m\u001b[0mpredict_instances\u001b[0m\u001b[0;34m(\u001b[0m\u001b[0minstances\u001b[0m\u001b[0;34m)\u001b[0m\u001b[0;34m\u001b[0m\u001b[0;34m\u001b[0m\u001b[0m\n\u001b[0m",
      "\u001b[0;32m/miniconda/lib/python3.7/site-packages/allennlp/predictors/semantic_role_labeler.py\u001b[0m in \u001b[0;36mpredict_instances\u001b[0;34m(self, instances)\u001b[0m\n\u001b[1;32m    209\u001b[0m \u001b[0;34m\u001b[0m\u001b[0m\n\u001b[1;32m    210\u001b[0m     \u001b[0;32mdef\u001b[0m \u001b[0mpredict_instances\u001b[0m\u001b[0;34m(\u001b[0m\u001b[0mself\u001b[0m\u001b[0;34m,\u001b[0m \u001b[0minstances\u001b[0m\u001b[0;34m:\u001b[0m \u001b[0mList\u001b[0m\u001b[0;34m[\u001b[0m\u001b[0mInstance\u001b[0m\u001b[0;34m]\u001b[0m\u001b[0;34m)\u001b[0m \u001b[0;34m->\u001b[0m \u001b[0mJsonDict\u001b[0m\u001b[0;34m:\u001b[0m\u001b[0;34m\u001b[0m\u001b[0;34m\u001b[0m\u001b[0m\n\u001b[0;32m--> 211\u001b[0;31m         \u001b[0moutputs\u001b[0m \u001b[0;34m=\u001b[0m \u001b[0mself\u001b[0m\u001b[0;34m.\u001b[0m\u001b[0m_model\u001b[0m\u001b[0;34m.\u001b[0m\u001b[0mforward_on_instances\u001b[0m\u001b[0;34m(\u001b[0m\u001b[0minstances\u001b[0m\u001b[0;34m)\u001b[0m\u001b[0;34m\u001b[0m\u001b[0;34m\u001b[0m\u001b[0m\n\u001b[0m\u001b[1;32m    212\u001b[0m \u001b[0;34m\u001b[0m\u001b[0m\n\u001b[1;32m    213\u001b[0m         \u001b[0mresults\u001b[0m \u001b[0;34m=\u001b[0m \u001b[0;34m{\u001b[0m\u001b[0;34m\"verbs\"\u001b[0m\u001b[0;34m:\u001b[0m \u001b[0;34m[\u001b[0m\u001b[0;34m]\u001b[0m\u001b[0;34m,\u001b[0m \u001b[0;34m\"words\"\u001b[0m\u001b[0;34m:\u001b[0m \u001b[0moutputs\u001b[0m\u001b[0;34m[\u001b[0m\u001b[0;36m0\u001b[0m\u001b[0;34m]\u001b[0m\u001b[0;34m[\u001b[0m\u001b[0;34m\"words\"\u001b[0m\u001b[0;34m]\u001b[0m\u001b[0;34m}\u001b[0m\u001b[0;34m\u001b[0m\u001b[0;34m\u001b[0m\u001b[0m\n",
      "\u001b[0;32m/miniconda/lib/python3.7/site-packages/allennlp/models/model.py\u001b[0m in \u001b[0;36mforward_on_instances\u001b[0;34m(self, instances)\u001b[0m\n\u001b[1;32m    151\u001b[0m             \u001b[0mdataset\u001b[0m\u001b[0;34m.\u001b[0m\u001b[0mindex_instances\u001b[0m\u001b[0;34m(\u001b[0m\u001b[0mself\u001b[0m\u001b[0;34m.\u001b[0m\u001b[0mvocab\u001b[0m\u001b[0;34m)\u001b[0m\u001b[0;34m\u001b[0m\u001b[0;34m\u001b[0m\u001b[0m\n\u001b[1;32m    152\u001b[0m             \u001b[0mmodel_input\u001b[0m \u001b[0;34m=\u001b[0m \u001b[0mutil\u001b[0m\u001b[0;34m.\u001b[0m\u001b[0mmove_to_device\u001b[0m\u001b[0;34m(\u001b[0m\u001b[0mdataset\u001b[0m\u001b[0;34m.\u001b[0m\u001b[0mas_tensor_dict\u001b[0m\u001b[0;34m(\u001b[0m\u001b[0;34m)\u001b[0m\u001b[0;34m,\u001b[0m \u001b[0mcuda_device\u001b[0m\u001b[0;34m)\u001b[0m\u001b[0;34m\u001b[0m\u001b[0;34m\u001b[0m\u001b[0m\n\u001b[0;32m--> 153\u001b[0;31m             \u001b[0moutputs\u001b[0m \u001b[0;34m=\u001b[0m \u001b[0mself\u001b[0m\u001b[0;34m.\u001b[0m\u001b[0mdecode\u001b[0m\u001b[0;34m(\u001b[0m\u001b[0mself\u001b[0m\u001b[0;34m(\u001b[0m\u001b[0;34m**\u001b[0m\u001b[0mmodel_input\u001b[0m\u001b[0;34m)\u001b[0m\u001b[0;34m)\u001b[0m\u001b[0;34m\u001b[0m\u001b[0;34m\u001b[0m\u001b[0m\n\u001b[0m\u001b[1;32m    154\u001b[0m \u001b[0;34m\u001b[0m\u001b[0m\n\u001b[1;32m    155\u001b[0m             \u001b[0minstance_separated_output\u001b[0m\u001b[0;34m:\u001b[0m \u001b[0mList\u001b[0m\u001b[0;34m[\u001b[0m\u001b[0mDict\u001b[0m\u001b[0;34m[\u001b[0m\u001b[0mstr\u001b[0m\u001b[0;34m,\u001b[0m \u001b[0mnumpy\u001b[0m\u001b[0;34m.\u001b[0m\u001b[0mndarray\u001b[0m\u001b[0;34m]\u001b[0m\u001b[0;34m]\u001b[0m \u001b[0;34m=\u001b[0m \u001b[0;34m[\u001b[0m\u001b[0;34m{\u001b[0m\u001b[0;34m}\u001b[0m \u001b[0;32mfor\u001b[0m \u001b[0m_\u001b[0m \u001b[0;32min\u001b[0m \u001b[0mdataset\u001b[0m\u001b[0;34m.\u001b[0m\u001b[0minstances\u001b[0m\u001b[0;34m]\u001b[0m\u001b[0;34m\u001b[0m\u001b[0;34m\u001b[0m\u001b[0m\n",
      "\u001b[0;32m/miniconda/lib/python3.7/site-packages/torch/nn/modules/module.py\u001b[0m in \u001b[0;36m__call__\u001b[0;34m(self, *input, **kwargs)\u001b[0m\n\u001b[1;32m    530\u001b[0m             \u001b[0mresult\u001b[0m \u001b[0;34m=\u001b[0m \u001b[0mself\u001b[0m\u001b[0;34m.\u001b[0m\u001b[0m_slow_forward\u001b[0m\u001b[0;34m(\u001b[0m\u001b[0;34m*\u001b[0m\u001b[0minput\u001b[0m\u001b[0;34m,\u001b[0m \u001b[0;34m**\u001b[0m\u001b[0mkwargs\u001b[0m\u001b[0;34m)\u001b[0m\u001b[0;34m\u001b[0m\u001b[0;34m\u001b[0m\u001b[0m\n\u001b[1;32m    531\u001b[0m         \u001b[0;32melse\u001b[0m\u001b[0;34m:\u001b[0m\u001b[0;34m\u001b[0m\u001b[0;34m\u001b[0m\u001b[0m\n\u001b[0;32m--> 532\u001b[0;31m             \u001b[0mresult\u001b[0m \u001b[0;34m=\u001b[0m \u001b[0mself\u001b[0m\u001b[0;34m.\u001b[0m\u001b[0mforward\u001b[0m\u001b[0;34m(\u001b[0m\u001b[0;34m*\u001b[0m\u001b[0minput\u001b[0m\u001b[0;34m,\u001b[0m \u001b[0;34m**\u001b[0m\u001b[0mkwargs\u001b[0m\u001b[0;34m)\u001b[0m\u001b[0;34m\u001b[0m\u001b[0;34m\u001b[0m\u001b[0m\n\u001b[0m\u001b[1;32m    533\u001b[0m         \u001b[0;32mfor\u001b[0m \u001b[0mhook\u001b[0m \u001b[0;32min\u001b[0m \u001b[0mself\u001b[0m\u001b[0;34m.\u001b[0m\u001b[0m_forward_hooks\u001b[0m\u001b[0;34m.\u001b[0m\u001b[0mvalues\u001b[0m\u001b[0;34m(\u001b[0m\u001b[0;34m)\u001b[0m\u001b[0;34m:\u001b[0m\u001b[0;34m\u001b[0m\u001b[0;34m\u001b[0m\u001b[0m\n\u001b[1;32m    534\u001b[0m             \u001b[0mhook_result\u001b[0m \u001b[0;34m=\u001b[0m \u001b[0mhook\u001b[0m\u001b[0;34m(\u001b[0m\u001b[0mself\u001b[0m\u001b[0;34m,\u001b[0m \u001b[0minput\u001b[0m\u001b[0;34m,\u001b[0m \u001b[0mresult\u001b[0m\u001b[0;34m)\u001b[0m\u001b[0;34m\u001b[0m\u001b[0;34m\u001b[0m\u001b[0m\n",
      "\u001b[0;32m/miniconda/lib/python3.7/site-packages/allennlp/models/srl_bert.py\u001b[0m in \u001b[0;36mforward\u001b[0;34m(self, tokens, verb_indicator, metadata, tags)\u001b[0m\n\u001b[1;32m    108\u001b[0m                                              \u001b[0mtoken_type_ids\u001b[0m\u001b[0;34m=\u001b[0m\u001b[0mverb_indicator\u001b[0m\u001b[0;34m,\u001b[0m\u001b[0;34m\u001b[0m\u001b[0;34m\u001b[0m\u001b[0m\n\u001b[1;32m    109\u001b[0m                                              \u001b[0mattention_mask\u001b[0m\u001b[0;34m=\u001b[0m\u001b[0mmask\u001b[0m\u001b[0;34m,\u001b[0m\u001b[0;34m\u001b[0m\u001b[0;34m\u001b[0m\u001b[0m\n\u001b[0;32m--> 110\u001b[0;31m                                              output_all_encoded_layers=False)\n\u001b[0m\u001b[1;32m    111\u001b[0m \u001b[0;34m\u001b[0m\u001b[0m\n\u001b[1;32m    112\u001b[0m         \u001b[0membedded_text_input\u001b[0m \u001b[0;34m=\u001b[0m \u001b[0mself\u001b[0m\u001b[0;34m.\u001b[0m\u001b[0membedding_dropout\u001b[0m\u001b[0;34m(\u001b[0m\u001b[0mbert_embeddings\u001b[0m\u001b[0;34m)\u001b[0m\u001b[0;34m\u001b[0m\u001b[0;34m\u001b[0m\u001b[0m\n",
      "\u001b[0;32m/miniconda/lib/python3.7/site-packages/torch/nn/modules/module.py\u001b[0m in \u001b[0;36m__call__\u001b[0;34m(self, *input, **kwargs)\u001b[0m\n\u001b[1;32m    530\u001b[0m             \u001b[0mresult\u001b[0m \u001b[0;34m=\u001b[0m \u001b[0mself\u001b[0m\u001b[0;34m.\u001b[0m\u001b[0m_slow_forward\u001b[0m\u001b[0;34m(\u001b[0m\u001b[0;34m*\u001b[0m\u001b[0minput\u001b[0m\u001b[0;34m,\u001b[0m \u001b[0;34m**\u001b[0m\u001b[0mkwargs\u001b[0m\u001b[0;34m)\u001b[0m\u001b[0;34m\u001b[0m\u001b[0;34m\u001b[0m\u001b[0m\n\u001b[1;32m    531\u001b[0m         \u001b[0;32melse\u001b[0m\u001b[0;34m:\u001b[0m\u001b[0;34m\u001b[0m\u001b[0;34m\u001b[0m\u001b[0m\n\u001b[0;32m--> 532\u001b[0;31m             \u001b[0mresult\u001b[0m \u001b[0;34m=\u001b[0m \u001b[0mself\u001b[0m\u001b[0;34m.\u001b[0m\u001b[0mforward\u001b[0m\u001b[0;34m(\u001b[0m\u001b[0;34m*\u001b[0m\u001b[0minput\u001b[0m\u001b[0;34m,\u001b[0m \u001b[0;34m**\u001b[0m\u001b[0mkwargs\u001b[0m\u001b[0;34m)\u001b[0m\u001b[0;34m\u001b[0m\u001b[0;34m\u001b[0m\u001b[0m\n\u001b[0m\u001b[1;32m    533\u001b[0m         \u001b[0;32mfor\u001b[0m \u001b[0mhook\u001b[0m \u001b[0;32min\u001b[0m \u001b[0mself\u001b[0m\u001b[0;34m.\u001b[0m\u001b[0m_forward_hooks\u001b[0m\u001b[0;34m.\u001b[0m\u001b[0mvalues\u001b[0m\u001b[0;34m(\u001b[0m\u001b[0;34m)\u001b[0m\u001b[0;34m:\u001b[0m\u001b[0;34m\u001b[0m\u001b[0;34m\u001b[0m\u001b[0m\n\u001b[1;32m    534\u001b[0m             \u001b[0mhook_result\u001b[0m \u001b[0;34m=\u001b[0m \u001b[0mhook\u001b[0m\u001b[0;34m(\u001b[0m\u001b[0mself\u001b[0m\u001b[0;34m,\u001b[0m \u001b[0minput\u001b[0m\u001b[0;34m,\u001b[0m \u001b[0mresult\u001b[0m\u001b[0;34m)\u001b[0m\u001b[0;34m\u001b[0m\u001b[0;34m\u001b[0m\u001b[0m\n",
      "\u001b[0;32m/miniconda/lib/python3.7/site-packages/pytorch_pretrained_bert/modeling.py\u001b[0m in \u001b[0;36mforward\u001b[0;34m(self, input_ids, token_type_ids, attention_mask, output_all_encoded_layers)\u001b[0m\n\u001b[1;32m    728\u001b[0m         \u001b[0mextended_attention_mask\u001b[0m \u001b[0;34m=\u001b[0m \u001b[0;34m(\u001b[0m\u001b[0;36m1.0\u001b[0m \u001b[0;34m-\u001b[0m \u001b[0mextended_attention_mask\u001b[0m\u001b[0;34m)\u001b[0m \u001b[0;34m*\u001b[0m \u001b[0;34m-\u001b[0m\u001b[0;36m10000.0\u001b[0m\u001b[0;34m\u001b[0m\u001b[0;34m\u001b[0m\u001b[0m\n\u001b[1;32m    729\u001b[0m \u001b[0;34m\u001b[0m\u001b[0m\n\u001b[0;32m--> 730\u001b[0;31m         \u001b[0membedding_output\u001b[0m \u001b[0;34m=\u001b[0m \u001b[0mself\u001b[0m\u001b[0;34m.\u001b[0m\u001b[0membeddings\u001b[0m\u001b[0;34m(\u001b[0m\u001b[0minput_ids\u001b[0m\u001b[0;34m,\u001b[0m \u001b[0mtoken_type_ids\u001b[0m\u001b[0;34m)\u001b[0m\u001b[0;34m\u001b[0m\u001b[0;34m\u001b[0m\u001b[0m\n\u001b[0m\u001b[1;32m    731\u001b[0m         encoded_layers = self.encoder(embedding_output,\n\u001b[1;32m    732\u001b[0m                                       \u001b[0mextended_attention_mask\u001b[0m\u001b[0;34m,\u001b[0m\u001b[0;34m\u001b[0m\u001b[0;34m\u001b[0m\u001b[0m\n",
      "\u001b[0;32m/miniconda/lib/python3.7/site-packages/torch/nn/modules/module.py\u001b[0m in \u001b[0;36m__call__\u001b[0;34m(self, *input, **kwargs)\u001b[0m\n\u001b[1;32m    530\u001b[0m             \u001b[0mresult\u001b[0m \u001b[0;34m=\u001b[0m \u001b[0mself\u001b[0m\u001b[0;34m.\u001b[0m\u001b[0m_slow_forward\u001b[0m\u001b[0;34m(\u001b[0m\u001b[0;34m*\u001b[0m\u001b[0minput\u001b[0m\u001b[0;34m,\u001b[0m \u001b[0;34m**\u001b[0m\u001b[0mkwargs\u001b[0m\u001b[0;34m)\u001b[0m\u001b[0;34m\u001b[0m\u001b[0;34m\u001b[0m\u001b[0m\n\u001b[1;32m    531\u001b[0m         \u001b[0;32melse\u001b[0m\u001b[0;34m:\u001b[0m\u001b[0;34m\u001b[0m\u001b[0;34m\u001b[0m\u001b[0m\n\u001b[0;32m--> 532\u001b[0;31m             \u001b[0mresult\u001b[0m \u001b[0;34m=\u001b[0m \u001b[0mself\u001b[0m\u001b[0;34m.\u001b[0m\u001b[0mforward\u001b[0m\u001b[0;34m(\u001b[0m\u001b[0;34m*\u001b[0m\u001b[0minput\u001b[0m\u001b[0;34m,\u001b[0m \u001b[0;34m**\u001b[0m\u001b[0mkwargs\u001b[0m\u001b[0;34m)\u001b[0m\u001b[0;34m\u001b[0m\u001b[0;34m\u001b[0m\u001b[0m\n\u001b[0m\u001b[1;32m    533\u001b[0m         \u001b[0;32mfor\u001b[0m \u001b[0mhook\u001b[0m \u001b[0;32min\u001b[0m \u001b[0mself\u001b[0m\u001b[0;34m.\u001b[0m\u001b[0m_forward_hooks\u001b[0m\u001b[0;34m.\u001b[0m\u001b[0mvalues\u001b[0m\u001b[0;34m(\u001b[0m\u001b[0;34m)\u001b[0m\u001b[0;34m:\u001b[0m\u001b[0;34m\u001b[0m\u001b[0;34m\u001b[0m\u001b[0m\n\u001b[1;32m    534\u001b[0m             \u001b[0mhook_result\u001b[0m \u001b[0;34m=\u001b[0m \u001b[0mhook\u001b[0m\u001b[0;34m(\u001b[0m\u001b[0mself\u001b[0m\u001b[0;34m,\u001b[0m \u001b[0minput\u001b[0m\u001b[0;34m,\u001b[0m \u001b[0mresult\u001b[0m\u001b[0;34m)\u001b[0m\u001b[0;34m\u001b[0m\u001b[0;34m\u001b[0m\u001b[0m\n",
      "\u001b[0;32m/miniconda/lib/python3.7/site-packages/pytorch_pretrained_bert/modeling.py\u001b[0m in \u001b[0;36mforward\u001b[0;34m(self, input_ids, token_type_ids)\u001b[0m\n\u001b[1;32m    266\u001b[0m \u001b[0;34m\u001b[0m\u001b[0m\n\u001b[1;32m    267\u001b[0m         \u001b[0mwords_embeddings\u001b[0m \u001b[0;34m=\u001b[0m \u001b[0mself\u001b[0m\u001b[0;34m.\u001b[0m\u001b[0mword_embeddings\u001b[0m\u001b[0;34m(\u001b[0m\u001b[0minput_ids\u001b[0m\u001b[0;34m)\u001b[0m\u001b[0;34m\u001b[0m\u001b[0;34m\u001b[0m\u001b[0m\n\u001b[0;32m--> 268\u001b[0;31m         \u001b[0mposition_embeddings\u001b[0m \u001b[0;34m=\u001b[0m \u001b[0mself\u001b[0m\u001b[0;34m.\u001b[0m\u001b[0mposition_embeddings\u001b[0m\u001b[0;34m(\u001b[0m\u001b[0mposition_ids\u001b[0m\u001b[0;34m)\u001b[0m\u001b[0;34m\u001b[0m\u001b[0;34m\u001b[0m\u001b[0m\n\u001b[0m\u001b[1;32m    269\u001b[0m         \u001b[0mtoken_type_embeddings\u001b[0m \u001b[0;34m=\u001b[0m \u001b[0mself\u001b[0m\u001b[0;34m.\u001b[0m\u001b[0mtoken_type_embeddings\u001b[0m\u001b[0;34m(\u001b[0m\u001b[0mtoken_type_ids\u001b[0m\u001b[0;34m)\u001b[0m\u001b[0;34m\u001b[0m\u001b[0;34m\u001b[0m\u001b[0m\n\u001b[1;32m    270\u001b[0m \u001b[0;34m\u001b[0m\u001b[0m\n",
      "\u001b[0;32m/miniconda/lib/python3.7/site-packages/torch/nn/modules/module.py\u001b[0m in \u001b[0;36m__call__\u001b[0;34m(self, *input, **kwargs)\u001b[0m\n\u001b[1;32m    530\u001b[0m             \u001b[0mresult\u001b[0m \u001b[0;34m=\u001b[0m \u001b[0mself\u001b[0m\u001b[0;34m.\u001b[0m\u001b[0m_slow_forward\u001b[0m\u001b[0;34m(\u001b[0m\u001b[0;34m*\u001b[0m\u001b[0minput\u001b[0m\u001b[0;34m,\u001b[0m \u001b[0;34m**\u001b[0m\u001b[0mkwargs\u001b[0m\u001b[0;34m)\u001b[0m\u001b[0;34m\u001b[0m\u001b[0;34m\u001b[0m\u001b[0m\n\u001b[1;32m    531\u001b[0m         \u001b[0;32melse\u001b[0m\u001b[0;34m:\u001b[0m\u001b[0;34m\u001b[0m\u001b[0;34m\u001b[0m\u001b[0m\n\u001b[0;32m--> 532\u001b[0;31m             \u001b[0mresult\u001b[0m \u001b[0;34m=\u001b[0m \u001b[0mself\u001b[0m\u001b[0;34m.\u001b[0m\u001b[0mforward\u001b[0m\u001b[0;34m(\u001b[0m\u001b[0;34m*\u001b[0m\u001b[0minput\u001b[0m\u001b[0;34m,\u001b[0m \u001b[0;34m**\u001b[0m\u001b[0mkwargs\u001b[0m\u001b[0;34m)\u001b[0m\u001b[0;34m\u001b[0m\u001b[0;34m\u001b[0m\u001b[0m\n\u001b[0m\u001b[1;32m    533\u001b[0m         \u001b[0;32mfor\u001b[0m \u001b[0mhook\u001b[0m \u001b[0;32min\u001b[0m \u001b[0mself\u001b[0m\u001b[0;34m.\u001b[0m\u001b[0m_forward_hooks\u001b[0m\u001b[0;34m.\u001b[0m\u001b[0mvalues\u001b[0m\u001b[0;34m(\u001b[0m\u001b[0;34m)\u001b[0m\u001b[0;34m:\u001b[0m\u001b[0;34m\u001b[0m\u001b[0;34m\u001b[0m\u001b[0m\n\u001b[1;32m    534\u001b[0m             \u001b[0mhook_result\u001b[0m \u001b[0;34m=\u001b[0m \u001b[0mhook\u001b[0m\u001b[0;34m(\u001b[0m\u001b[0mself\u001b[0m\u001b[0;34m,\u001b[0m \u001b[0minput\u001b[0m\u001b[0;34m,\u001b[0m \u001b[0mresult\u001b[0m\u001b[0;34m)\u001b[0m\u001b[0;34m\u001b[0m\u001b[0;34m\u001b[0m\u001b[0m\n",
      "\u001b[0;32m/miniconda/lib/python3.7/site-packages/torch/nn/modules/sparse.py\u001b[0m in \u001b[0;36mforward\u001b[0;34m(self, input)\u001b[0m\n\u001b[1;32m    112\u001b[0m         return F.embedding(\n\u001b[1;32m    113\u001b[0m             \u001b[0minput\u001b[0m\u001b[0;34m,\u001b[0m \u001b[0mself\u001b[0m\u001b[0;34m.\u001b[0m\u001b[0mweight\u001b[0m\u001b[0;34m,\u001b[0m \u001b[0mself\u001b[0m\u001b[0;34m.\u001b[0m\u001b[0mpadding_idx\u001b[0m\u001b[0;34m,\u001b[0m \u001b[0mself\u001b[0m\u001b[0;34m.\u001b[0m\u001b[0mmax_norm\u001b[0m\u001b[0;34m,\u001b[0m\u001b[0;34m\u001b[0m\u001b[0;34m\u001b[0m\u001b[0m\n\u001b[0;32m--> 114\u001b[0;31m             self.norm_type, self.scale_grad_by_freq, self.sparse)\n\u001b[0m\u001b[1;32m    115\u001b[0m \u001b[0;34m\u001b[0m\u001b[0m\n\u001b[1;32m    116\u001b[0m     \u001b[0;32mdef\u001b[0m \u001b[0mextra_repr\u001b[0m\u001b[0;34m(\u001b[0m\u001b[0mself\u001b[0m\u001b[0;34m)\u001b[0m\u001b[0;34m:\u001b[0m\u001b[0;34m\u001b[0m\u001b[0;34m\u001b[0m\u001b[0m\n",
      "\u001b[0;32m/miniconda/lib/python3.7/site-packages/torch/nn/functional.py\u001b[0m in \u001b[0;36membedding\u001b[0;34m(input, weight, padding_idx, max_norm, norm_type, scale_grad_by_freq, sparse)\u001b[0m\n\u001b[1;32m   1482\u001b[0m         \u001b[0;31m# remove once script supports set_grad_enabled\u001b[0m\u001b[0;34m\u001b[0m\u001b[0;34m\u001b[0m\u001b[0;34m\u001b[0m\u001b[0m\n\u001b[1;32m   1483\u001b[0m         \u001b[0m_no_grad_embedding_renorm_\u001b[0m\u001b[0;34m(\u001b[0m\u001b[0mweight\u001b[0m\u001b[0;34m,\u001b[0m \u001b[0minput\u001b[0m\u001b[0;34m,\u001b[0m \u001b[0mmax_norm\u001b[0m\u001b[0;34m,\u001b[0m \u001b[0mnorm_type\u001b[0m\u001b[0;34m)\u001b[0m\u001b[0;34m\u001b[0m\u001b[0;34m\u001b[0m\u001b[0m\n\u001b[0;32m-> 1484\u001b[0;31m     \u001b[0;32mreturn\u001b[0m \u001b[0mtorch\u001b[0m\u001b[0;34m.\u001b[0m\u001b[0membedding\u001b[0m\u001b[0;34m(\u001b[0m\u001b[0mweight\u001b[0m\u001b[0;34m,\u001b[0m \u001b[0minput\u001b[0m\u001b[0;34m,\u001b[0m \u001b[0mpadding_idx\u001b[0m\u001b[0;34m,\u001b[0m \u001b[0mscale_grad_by_freq\u001b[0m\u001b[0;34m,\u001b[0m \u001b[0msparse\u001b[0m\u001b[0;34m)\u001b[0m\u001b[0;34m\u001b[0m\u001b[0;34m\u001b[0m\u001b[0m\n\u001b[0m\u001b[1;32m   1485\u001b[0m \u001b[0;34m\u001b[0m\u001b[0m\n\u001b[1;32m   1486\u001b[0m \u001b[0;34m\u001b[0m\u001b[0m\n",
      "\u001b[0;31mRuntimeError\u001b[0m: index out of range: Tried to access index 512 out of table with 511 rows. at /opt/conda/conda-bld/pytorch_1579022030672/work/aten/src/TH/generic/THTensorEvenMoreMath.cpp:418"
     ]
    }
   ],
   "source": [
    "print( \"get reporting obligations\" )\n",
    "import time\n",
    "start=time.time()\n",
    "reporting_obligations_finder = ReportingObligationsFinder( cas, bert_model, nlp )\n",
    "reporting_obligations_finder.process_sentences( ListSofaID='ListView'  )\n",
    "reporting_obligations_finder.add_xml_to_cas( TEMPLATE_PATH, ROSofaID='ReportingObligationsView' )\n",
    "reporting_obligations_finder.print_to_html(  TEMPLATE_PATH, OUTPUT_PATH  )\n",
    "end=time.time()\n",
    "print( end-start )"
   ]
  },
  {
   "cell_type": "code",
   "execution_count": null,
   "metadata": {},
   "outputs": [],
   "source": [
    "3.8721108436584473"
   ]
  },
  {
   "cell_type": "code",
   "execution_count": 34,
   "metadata": {},
   "outputs": [
    {
     "data": {
      "text/plain": [
       "541"
      ]
     },
     "execution_count": 34,
     "metadata": {},
     "output_type": "execute_result"
    }
   ],
   "source": [
    "len( (test_text*3).split() )"
   ]
  },
  {
   "cell_type": "code",
   "execution_count": 35,
   "metadata": {},
   "outputs": [
    {
     "data": {
      "text/plain": [
       "'5. In the case of a sample, only a selection of the credit institutions and other institutions in the potential reporting population shall be asked to report. The variables that shall be estimated by means of the sample are the interest rates and the amounts of new business and the interest rates on outstanding amounts. They are referred to as sampling variables. In order to minimise the risk that the results of a sample survey deviate from the true (unknown) values in the potential reporting population, the sample shall be constructed in such a way that it is representative of the potential reporting population. For the purpose of MFI interest rate statistics a sample shall be considered representative if all the characteristics that are relevant for MFI interest rate statistics and inherent in the potential reporting population are also reflected in the sample. For drawing the initial sample, NCBs may use suitable proxies and models to produce the sampling scheme even if the underlying data, which are derived from existing sources, may not match perfectly the definitions of this Regulation.|(11667, 12776)'"
      ]
     },
     "execution_count": 35,
     "metadata": {},
     "output_type": "execute_result"
    }
   ],
   "source": [
    "test_text"
   ]
  },
  {
   "cell_type": "code",
   "execution_count": 36,
   "metadata": {},
   "outputs": [
    {
     "data": {
      "text/plain": [
       "1124"
      ]
     },
     "execution_count": 36,
     "metadata": {},
     "output_type": "execute_result"
    }
   ],
   "source": [
    "len(test_text)"
   ]
  },
  {
   "cell_type": "code",
   "execution_count": 42,
   "metadata": {},
   "outputs": [],
   "source": [
    "text=\"2.   The data shall contain at least the following elements ❮the identity and contact details of each contribution debtor as determined in accordance with Article 4 of Regulation (EU) No 1163/2014 for the purpose of the supervisory fees ‖ the fee factors determined in accordance with Article 10 of Regulation (EU) No 1163/2014 ‖ whether a contribution debtor is significant in accordance with Article 6(4) of Regulation (EU) No 1024/2013 or is an entity or group in relation to which the ECB has decided in accordance with Article 6(5)(b) of Regulation (EU) No 1024/2013 to exercise directly all of the relevant powers ‖ any data that the ECB has determined in the absence of reporting from a contribution debtor, in accordance with Article 10(5) of Regulation (EU) No 1163/2014 ‖ the validity date underlying the fee calculation of each contribution debtor determining the duration the contribution debtor was subject to the supervisory fee and any change of status in accordance with Article 7(2) of Regulation (EU) No 1163/2014 in the given fee period❯\"\n",
    "\n",
    "text = re.sub(r'([^❮❬‖❭❯]{10}(?:[^❮❬‖❭❯.]|[.][^❮❬‖❭❯ ])*[.]) (?=[A-Z])', r'\\1\\n', text, re.MULTILINE + re.UNICODE)\n"
   ]
  },
  {
   "cell_type": "code",
   "execution_count": 47,
   "metadata": {},
   "outputs": [
    {
     "data": {
      "text/plain": [
       "['2.   The data shall contain at least the following elements ❮the identity and contact details of each contribution debtor as determined in accordance with Article 4 of Regulation (EU) No 1163/2014 for the purpose of the supervisory fees ‖ the fee factors determined in accordance with Article 10 of Regulation (EU) No 1163/2014 ‖ whether a contribution debtor is significant in accordance with Article 6(4) of Regulation (EU) No 1024/2013 or is an entity or group in relation to which the ECB has decided in accordance with Article 6(5)(b) of Regulation (EU) No 1024/2013 to exercise directly all of the relevant powers ‖ any data that the ECB has determined in the absence of reporting from a contribution debtor, in accordance with Article 10(5) of Regulation (EU) No 1163/2014 ‖ the validity date underlying the fee calculation of each contribution debtor determining the duration the contribution debtor was subject to the supervisory fee and any change of status in accordance with Article 7(2) of Regulation (EU) No 1163/2014 in the given fee period❯']"
      ]
     },
     "execution_count": 47,
     "metadata": {},
     "output_type": "execute_result"
    }
   ],
   "source": [
    "text.split( \"\\n\" )"
   ]
  },
  {
   "cell_type": "code",
   "execution_count": null,
   "metadata": {},
   "outputs": [],
   "source": [
    "#check performance issue..."
   ]
  },
  {
   "cell_type": "code",
   "execution_count": 46,
   "metadata": {},
   "outputs": [
    {
     "data": {
      "text/plain": [
       "True"
      ]
     },
     "execution_count": 46,
     "metadata": {},
     "output_type": "execute_result"
    }
   ],
   "source": [
    "'❮'=='❮'"
   ]
  },
  {
   "cell_type": "code",
   "execution_count": 56,
   "metadata": {},
   "outputs": [],
   "source": [
    "def print_break_long_paragraphs(text):\n",
    "    if len(text) > 10:\n",
    "        text = re.sub(r'([^❮❬‖❭❯]{10}(?:[^❮❬‖❭❯.]|[.][^❮❬‖❭❯ ])*[.]) (?=[A-Z])', r'\\1\\n', text, re.MULTILINE + re.UNICODE)\n",
    "    print(text)"
   ]
  },
  {
   "cell_type": "code",
   "execution_count": 57,
   "metadata": {},
   "outputs": [
    {
     "name": "stdout",
     "output_type": "stream",
     "text": [
      "2.   The data shall contain at least the following elements ❮the identity and contact details of each contribution debtor as determined in accordance with Article 4 of Regulation (EU) No 1163/2014 for the purpose of the supervisory fees ‖ the fee factors determined in accordance with Article 10 of Regulation (EU) No 1163/2014 ‖ whether a contribution debtor is significant in accordance with Article 6(4) of Regulation (EU) No 1024/2013 or is an entity or group in relation to which the ECB has decided in accordance with Article 6(5)(b) of Regulation (EU) No 1024/2013 to exercise directly all of the relevant powers ‖ any data that the ECB has determined in the absence of reporting from a contribution debtor, in accordance with Article 10(5) of Regulation (EU) No 1163/2014 ‖ the validity date underlying the fee calculation of each contribution debtor determining the duration the contribution debtor was subject to the supervisory fee and any change of status in accordance with Article 7(2) of Regulation (EU) No 1163/2014 in the given fee period❯\n"
     ]
    }
   ],
   "source": [
    "print_break_long_paragraphs( text  )"
   ]
  },
  {
   "cell_type": "code",
   "execution_count": null,
   "metadata": {},
   "outputs": [],
   "source": []
  },
  {
   "cell_type": "code",
   "execution_count": null,
   "metadata": {},
   "outputs": [],
   "source": []
  },
  {
   "cell_type": "code",
   "execution_count": null,
   "metadata": {},
   "outputs": [],
   "source": []
  },
  {
   "cell_type": "code",
   "execution_count": 2,
   "metadata": {
    "scrolled": true
   },
   "outputs": [],
   "source": [
    "from src.transform import ListTransformer\n",
    "from src.reporting_obligations import ReportingObligationsFinder\n",
    "\n",
    "from src.transform import get_other_lines, transform_lines, flatten_offsets, postprocess_nested_lines\n",
    "\n",
    "from src.utils import SeekableIterator\n",
    "\n",
    "#print( f\"loading AllenNLP predictor from {BERT_PATH}\" )\n",
    "#bert_model = Predictor.from_path( BERT_PATH )\n",
    "\n",
    "#print( f\"loading spacy model from {SPACY_PATH}\" )\n",
    "#nlp=spacy.load( SPACY_PATH )\n",
    "\n",
    "OldSofaID = 'html2textView'\n",
    "NewSofaID = 'ListView'\n",
    "value_between_tagtype = \"com.crosslang.uimahtmltotext.uima.type.ValueBetweenTagType\"\n",
    "paragraph_type = \"de.tudarmstadt.ukp.dkpro.core.api.segmentation.type.Paragraph\"\n",
    "\n",
    "value_between_tagtype_generator=cas.get_view( OldSofaID ).select( value_between_tagtype )        \n",
    "\n",
    "#value_between_tagtype_generator=get_deepest_child_tags(  cas, OldSofaID , \\\n",
    "#                   value_between_tagtype=value_between_tagtype  )\n",
    "\n",
    "seek_vbtt=SeekableIterator( iter(value_between_tagtype_generator) )\n",
    "\n",
    "lines, offsets=get_other_lines( cas , OldSofaID, seek_vbtt, 'root', paragraph_type=paragraph_type )\n",
    "\n",
    "#flatten_offsets( offsets )\n",
    "\n",
    "#lines, offsets=postprocess_nested_lines( lines, offsets  )"
   ]
  },
  {
   "cell_type": "code",
   "execution_count": null,
   "metadata": {},
   "outputs": [],
   "source": []
  },
  {
   "cell_type": "code",
   "execution_count": null,
   "metadata": {},
   "outputs": [],
   "source": []
  },
  {
   "cell_type": "code",
   "execution_count": null,
   "metadata": {},
   "outputs": [],
   "source": []
  },
  {
   "cell_type": "code",
   "execution_count": null,
   "metadata": {},
   "outputs": [],
   "source": []
  },
  {
   "cell_type": "code",
   "execution_count": null,
   "metadata": {},
   "outputs": [],
   "source": []
  },
  {
   "cell_type": "code",
   "execution_count": null,
   "metadata": {},
   "outputs": [],
   "source": []
  },
  {
   "cell_type": "code",
   "execution_count": 4,
   "metadata": {},
   "outputs": [],
   "source": []
  },
  {
   "cell_type": "code",
   "execution_count": null,
   "metadata": {},
   "outputs": [],
   "source": []
  }
 ],
 "metadata": {
  "kernelspec": {
   "display_name": "Python 3",
   "language": "python",
   "name": "python3"
  },
  "language_info": {
   "codemirror_mode": {
    "name": "ipython",
    "version": 3
   },
   "file_extension": ".py",
   "mimetype": "text/x-python",
   "name": "python",
   "nbconvert_exporter": "python",
   "pygments_lexer": "ipython3",
   "version": "3.7.3"
  }
 },
 "nbformat": 4,
 "nbformat_minor": 4
}
