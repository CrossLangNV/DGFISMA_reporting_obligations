{
 "cells": [
  {
   "cell_type": "code",
   "execution_count": 1,
   "metadata": {},
   "outputs": [],
   "source": [
    "#read in cassis \n",
    "#read in the json:\n",
    "import json\n",
    "import base64\n",
    "import re\n",
    "import sys\n",
    "import os\n",
    "\n",
    "from typing import Generator, List\n",
    "\n",
    "from cassis.typesystem import load_typesystem\n",
    "from cassis.xmi import load_cas_from_xmi\n",
    "from cassis import Cas\n",
    "\n",
    "from allennlp.predictors.predictor import Predictor\n",
    "import spacy\n",
    "\n",
    "PATH=\"/notebook/nas-trainings/arne/DGFISMA/reporting_obligations/code/DGFISMA_reporting_obligations\"\n",
    "\n",
    "BERT_PATH=os.path.join(  PATH, \"tests/test_files/models\", \"bert_model\", \"bert-base-srl-2019.06.17.tar.gz\" )\n",
    "SPACY_PATH=os.path.join( PATH, \"tests/test_files/models\", \"spacy_model\", \"spacy-textcat\" )\n",
    "\n",
    "TEMPLATE_PATH=os.path.join( PATH, \"tests/test_files/templates/out.html.template\" )\n",
    "\n",
    "sys.path.append( os.path.join( PATH ) )\n",
    "\n",
    "with open( os.path.join( PATH , \"tests/test_files/typesystems/typesystem.xml\" )  , 'rb') as f:\n",
    "    typesystem = load_typesystem(f)\n",
    "\n",
    "#with open( os.path.join( PATH, 'tests/test_files/response_json_paragraph_annotations/double_nested_list_response.json')) as json_file:\n",
    "#    response = json.load(json_file)\n",
    "\n",
    "#with open( os.path.join( PATH, 'tests/test_files/response_json_paragraph_annotations/small_nested_tables_response.json')) as json_file:\n",
    "#    response = json.load(json_file)\n",
    "    \n",
    "#with open( os.path.join( PATH, 'tests/test_files/response_json_paragraph_annotations/minus_lesser_of_response.json')) as json_file:\n",
    "#    response = json.load(json_file)  \n",
    "\n",
    "#with open( os.path.join( PATH, 'tests/test_files/testing_bug/32011D1208-input.json')) as json_file:\n",
    "#    response = json.load(json_file)  \n",
    "    \n",
    "with open( os.path.join( PATH, 'tests/test_files/response_json_paragraph_annotations/32002R0063-input.xmi_outputPar_det.json')) as json_file:\n",
    "    response = json.load(json_file)    #busy here\n",
    "    \n",
    "#with open( os.path.join( PATH, 'tests/test_files/testing_bug/32020D0701-input.xmi_outputRO.json')) as json_file:\n",
    "#    response = json.load(json_file)  \n",
    "    \n",
    "#with open(  os.path.join( PATH, 'tests/test_files/response_json_paragraph_annotations/doc_bf4ef384-bd7a-51c8-8f7d-d2f61865d767_response.json')) as json_file:\n",
    "#    response = json.load(json_file)\n",
    "    \n",
    "OUTPUT_PATH=os.path.join( PATH, \"tests/test_files/output_reporting_obligations/testing_bug3.html\" )\n",
    "    \n",
    "decoded_cas=base64.b64decode( response[ 'cas_content' ] ).decode( 'utf-8' )\n",
    "\n",
    "cas=load_cas_from_xmi( decoded_cas, typesystem=typesystem )\n"
   ]
  },
  {
   "cell_type": "code",
   "execution_count": 2,
   "metadata": {},
   "outputs": [
    {
     "name": "stdout",
     "output_type": "stream",
     "text": [
      "loading AllenNLP predictor from /notebook/nas-trainings/arne/DGFISMA/reporting_obligations/code/DGFISMA_reporting_obligations/tests/test_files/models/bert_model/bert-base-srl-2019.06.17.tar.gz\n",
      "loading spacy model from /notebook/nas-trainings/arne/DGFISMA/reporting_obligations/code/DGFISMA_reporting_obligations/tests/test_files/models/spacy_model/spacy-textcat\n",
      "add list view\n",
      "get reporting obligations\n",
      "Writing output to /notebook/nas-trainings/arne/DGFISMA/reporting_obligations/code/DGFISMA_reporting_obligations/tests/test_files/output_reporting_obligations/testing_bug3.html using /notebook/nas-trainings/arne/DGFISMA/reporting_obligations/code/DGFISMA_reporting_obligations/tests/test_files/templates/out.html.template as html template\n",
      "135.46022725105286\n"
     ]
    }
   ],
   "source": [
    "from src.transform import ListTransformer\n",
    "from src.reporting_obligations import ReportingObligationsFinder\n",
    "\n",
    "#from src.transform import get_other_lines, transform_lines, flatten_offsets\n",
    "\n",
    "#from src.utils import SeekableIterator\n",
    "\n",
    "print( f\"loading AllenNLP predictor from {BERT_PATH}\" )\n",
    "bert_model = Predictor.from_path( BERT_PATH )\n",
    "\n",
    "print( f\"loading spacy model from {SPACY_PATH}\" )\n",
    "nlp=spacy.load( SPACY_PATH )\n",
    "\n",
    "OldSofaID = 'html2textView'\n",
    "NewSofaID = 'ListView'\n",
    "value_between_tagtype = \"com.crosslang.uimahtmltotext.uima.type.ValueBetweenTagType\"\n",
    "paragraph_type = \"de.tudarmstadt.ukp.dkpro.core.api.segmentation.type.Paragraph\"\n",
    "\n",
    "transformer = ListTransformer( cas )\n",
    "print( \"add list view\" )\n",
    "transformer.add_list_view( OldSofaID )\n",
    "\n",
    "print( \"get reporting obligations\" )\n",
    "import time\n",
    "start=time.time()\n",
    "reporting_obligations_finder = ReportingObligationsFinder( cas, bert_model, nlp )\n",
    "reporting_obligations_finder.process_sentences( ListSofaID='ListView'  )\n",
    "reporting_obligations_finder.add_xml_to_cas( TEMPLATE_PATH, ROSofaID='ReportingObligationsView' )\n",
    "reporting_obligations_finder.print_to_html(  TEMPLATE_PATH, OUTPUT_PATH  )\n",
    "end=time.time()\n",
    "print( end-start )\n"
   ]
  },
  {
   "cell_type": "code",
   "execution_count": null,
   "metadata": {},
   "outputs": [],
   "source": []
  },
  {
   "cell_type": "code",
   "execution_count": null,
   "metadata": {},
   "outputs": [],
   "source": []
  },
  {
   "cell_type": "code",
   "execution_count": null,
   "metadata": {},
   "outputs": [],
   "source": []
  },
  {
   "cell_type": "code",
   "execution_count": null,
   "metadata": {},
   "outputs": [],
   "source": []
  },
  {
   "cell_type": "code",
   "execution_count": null,
   "metadata": {},
   "outputs": [],
   "source": []
  },
  {
   "cell_type": "code",
   "execution_count": null,
   "metadata": {},
   "outputs": [],
   "source": []
  },
  {
   "cell_type": "code",
   "execution_count": null,
   "metadata": {},
   "outputs": [],
   "source": []
  },
  {
   "cell_type": "code",
   "execution_count": 2,
   "metadata": {
    "scrolled": true
   },
   "outputs": [],
   "source": [
    "from src.transform import ListTransformer\n",
    "from src.reporting_obligations import ReportingObligationsFinder\n",
    "\n",
    "from src.transform import get_other_lines, transform_lines, flatten_offsets, postprocess_nested_lines\n",
    "\n",
    "from src.utils import SeekableIterator\n",
    "\n",
    "#print( f\"loading AllenNLP predictor from {BERT_PATH}\" )\n",
    "#bert_model = Predictor.from_path( BERT_PATH )\n",
    "\n",
    "#print( f\"loading spacy model from {SPACY_PATH}\" )\n",
    "#nlp=spacy.load( SPACY_PATH )\n",
    "\n",
    "OldSofaID = 'html2textView'\n",
    "NewSofaID = 'ListView'\n",
    "value_between_tagtype = \"com.crosslang.uimahtmltotext.uima.type.ValueBetweenTagType\"\n",
    "paragraph_type = \"de.tudarmstadt.ukp.dkpro.core.api.segmentation.type.Paragraph\"\n",
    "\n",
    "value_between_tagtype_generator=cas.get_view( OldSofaID ).select( value_between_tagtype )        \n",
    "\n",
    "#value_between_tagtype_generator=get_deepest_child_tags(  cas, OldSofaID , \\\n",
    "#                   value_between_tagtype=value_between_tagtype  )\n",
    "\n",
    "seek_vbtt=SeekableIterator( iter(value_between_tagtype_generator) )\n",
    "\n",
    "lines, offsets=get_other_lines( cas , OldSofaID, seek_vbtt, 'root', paragraph_type=paragraph_type )\n",
    "\n",
    "#flatten_offsets( offsets )\n",
    "\n",
    "#lines, offsets=postprocess_nested_lines( lines, offsets  )"
   ]
  },
  {
   "cell_type": "code",
   "execution_count": null,
   "metadata": {},
   "outputs": [],
   "source": []
  },
  {
   "cell_type": "code",
   "execution_count": null,
   "metadata": {},
   "outputs": [],
   "source": []
  },
  {
   "cell_type": "code",
   "execution_count": null,
   "metadata": {},
   "outputs": [],
   "source": []
  },
  {
   "cell_type": "code",
   "execution_count": null,
   "metadata": {},
   "outputs": [],
   "source": []
  },
  {
   "cell_type": "code",
   "execution_count": null,
   "metadata": {},
   "outputs": [],
   "source": []
  },
  {
   "cell_type": "code",
   "execution_count": null,
   "metadata": {},
   "outputs": [],
   "source": []
  },
  {
   "cell_type": "code",
   "execution_count": 4,
   "metadata": {},
   "outputs": [],
   "source": []
  },
  {
   "cell_type": "code",
   "execution_count": null,
   "metadata": {},
   "outputs": [],
   "source": []
  }
 ],
 "metadata": {
  "kernelspec": {
   "display_name": "Python 3",
   "language": "python",
   "name": "python3"
  },
  "language_info": {
   "codemirror_mode": {
    "name": "ipython",
    "version": 3
   },
   "file_extension": ".py",
   "mimetype": "text/x-python",
   "name": "python",
   "nbconvert_exporter": "python",
   "pygments_lexer": "ipython3",
   "version": "3.7.3"
  }
 },
 "nbformat": 4,
 "nbformat_minor": 4
}
