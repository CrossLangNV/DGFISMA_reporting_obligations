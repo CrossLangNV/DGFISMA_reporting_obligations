{
 "cells": [
  {
   "cell_type": "code",
   "execution_count": 1,
   "metadata": {},
   "outputs": [],
   "source": [
    "#read in cassis \n",
    "#read in the json:\n",
    "import json\n",
    "import base64\n",
    "import re\n",
    "import sys\n",
    "import os\n",
    "\n",
    "from typing import Generator, List\n",
    "\n",
    "from cassis.typesystem import load_typesystem\n",
    "from cassis.xmi import load_cas_from_xmi\n",
    "from cassis import Cas\n",
    "\n",
    "from allennlp.predictors.predictor import Predictor\n",
    "import spacy\n",
    "\n",
    "PATH=\"/notebook/nas-trainings/arne/DGFISMA/reporting_obligations/code/DGFISMA_reporting_obligations\"\n",
    "\n",
    "BERT_PATH=os.path.join(  PATH, \"tests/test_files/models\", \"bert_model\", \"bert-base-srl-2019.06.17.tar.gz\" )\n",
    "SPACY_PATH=os.path.join( PATH, \"tests/test_files/models\", \"spacy_model\", \"spacy-textcat\" )\n",
    "\n",
    "TEMPLATE_PATH=os.path.join( PATH, \"tests/test_files/templates/out.html.template\" )\n",
    "\n",
    "sys.path.append( os.path.join( PATH ) )\n",
    "\n",
    "with open( os.path.join( PATH , \"tests/test_files/typesystems/typesystem.xml\" )  , 'rb') as f:\n",
    "    typesystem = load_typesystem(f)\n",
    "\n",
    "#with open( os.path.join( PATH, 'tests/test_files/response_json_paragraph_annotations/double_nested_list_response.json')) as json_file:\n",
    "#    response = json.load(json_file)\n",
    "\n",
    "#with open( os.path.join( PATH, 'tests/test_files/response_json_paragraph_annotations/small_nested_tables_response.json')) as json_file:\n",
    "#    response = json.load(json_file)\n",
    "    \n",
    "with open( os.path.join( PATH, 'tests/test_files/response_json_paragraph_annotations/minus_lesser_of_response.json')) as json_file:\n",
    "    response = json.load(json_file)  \n",
    "    \n",
    "#with open(  os.path.join( PATH, 'tests/test_files/response_json_paragraph_annotations/doc_bf4ef384-bd7a-51c8-8f7d-d2f61865d767_response.json')) as json_file:\n",
    "#    response = json.load(json_file)\n",
    "    \n",
    "OUTPUT_PATH=os.path.join( PATH, \"tests/test_files/output_reporting_obligations/minus_lesser_of.html\" )\n",
    "    \n",
    "decoded_cas=base64.b64decode( response[ 'cas_content' ] ).decode( 'utf-8' )\n",
    "\n",
    "cas=load_cas_from_xmi( decoded_cas, typesystem=typesystem  )\n"
   ]
  },
  {
   "cell_type": "code",
   "execution_count": 2,
   "metadata": {},
   "outputs": [
    {
     "name": "stdout",
     "output_type": "stream",
     "text": [
      "loading AllenNLP predictor from /notebook/nas-trainings/arne/DGFISMA/reporting_obligations/code/DGFISMA_reporting_obligations/tests/test_files/models/bert_model/bert-base-srl-2019.06.17.tar.gz\n",
      "loading spacy model from /notebook/nas-trainings/arne/DGFISMA/reporting_obligations/code/DGFISMA_reporting_obligations/tests/test_files/models/spacy_model/spacy-textcat\n"
     ]
    }
   ],
   "source": [
    "from src.transform import ListTransformer\n",
    "from src.reporting_obligations import ReportingObligationsFinder\n",
    "\n",
    "from src.utils import SeekableIterator\n",
    "\n",
    "#from src.transform import get_other_lines, transform_lines, flatten_offsets\n",
    "\n",
    "print( f\"loading AllenNLP predictor from {BERT_PATH}\" )\n",
    "bert_model = Predictor.from_path( BERT_PATH )\n",
    "\n",
    "print( f\"loading spacy model from {SPACY_PATH}\" )\n",
    "nlp=spacy.load( SPACY_PATH )\n",
    "\n",
    "OldSofaID = 'html2textView'\n",
    "NewSofaID = 'ListView'\n",
    "value_between_tagtype = \"com.crosslang.uimahtmltotext.uima.type.ValueBetweenTagType\"\n",
    "paragraph_type = \"de.tudarmstadt.ukp.dkpro.core.api.segmentation.type.Paragraph\""
   ]
  },
  {
   "cell_type": "code",
   "execution_count": 3,
   "metadata": {},
   "outputs": [
    {
     "name": "stdout",
     "output_type": "stream",
     "text": [
      "Writing output to /notebook/nas-trainings/arne/DGFISMA/reporting_obligations/code/DGFISMA_reporting_obligations/tests/test_files/output_reporting_obligations/minus_lesser_of.html using /notebook/nas-trainings/arne/DGFISMA/reporting_obligations/code/DGFISMA_reporting_obligations/tests/test_files/templates/out.html.template as html template\n"
     ]
    }
   ],
   "source": [
    "transformer = ListTransformer( cas )\n",
    "transformer.add_list_view( OldSofaID )\n",
    "reporting_obligations_finder = ReportingObligationsFinder( cas, bert_model, nlp )\n",
    "reporting_obligations_finder.process_sentences( ListSofaID='ListView'  )\n",
    "reporting_obligations_finder.add_xml_to_cas( TEMPLATE_PATH, ROSofaID='ReportingObligationsView' )\n",
    "reporting_obligations_finder.print_to_html(  TEMPLATE_PATH, OUTPUT_PATH  )"
   ]
  },
  {
   "cell_type": "code",
   "execution_count": null,
   "metadata": {},
   "outputs": [],
   "source": []
  },
  {
   "cell_type": "code",
   "execution_count": null,
   "metadata": {},
   "outputs": [],
   "source": []
  },
  {
   "cell_type": "code",
   "execution_count": null,
   "metadata": {},
   "outputs": [],
   "source": []
  },
  {
   "cell_type": "code",
   "execution_count": null,
   "metadata": {},
   "outputs": [],
   "source": []
  },
  {
   "cell_type": "code",
   "execution_count": 9,
   "metadata": {
    "scrolled": true
   },
   "outputs": [
    {
     "name": "stdout",
     "output_type": "stream",
     "text": [
      "1.   Institutions shall report to the competent authorities, in accordance with the reporting requirements set out in Article 415(1) and the uniform reporting formats referred to in Article 415(3), the following items and their components in order to allow an assessment of the availability of stable funding:\n",
      "   \n",
      "      \n",
      "      \n",
      "      \n",
      "         \n",
      "            \n",
      "               (a)\n",
      "            \n",
      "            \n",
      "               the following own funds, after deductions have been applied, where appropriate:\n",
      "               \n",
      "                  \n",
      "                  \n",
      "                  \n",
      "                     \n",
      "                        \n",
      "                           (i)\n",
      "                        \n",
      "                        \n",
      "                           tier 1 capital instruments;\n",
      "                        \n",
      "                     \n",
      "                  \n",
      "               \n",
      "               \n",
      "                  \n",
      "                  \n",
      "                  \n",
      "                     \n",
      "                        \n",
      "                           (ii)\n",
      "                        \n",
      "                        \n",
      "                           tier 2 capital instruments;\n",
      "                        \n",
      "                     \n",
      "                  \n",
      "               \n",
      "               \n",
      "                  \n",
      "                  \n",
      "                  \n",
      "                     \n",
      "                        \n",
      "                           (iii)\n",
      "                        \n",
      "                        \n",
      "                           other preferred shares and capital instruments in excess of Tier 2 allowable amount having an effective maturity of one year or greater;\n",
      "                        \n",
      "                     \n",
      "                  \n",
      "               \n",
      "            \n",
      "         \n",
      "      \n",
      "   \n",
      "   \n",
      "      \n",
      "      \n",
      "      \n",
      "         \n",
      "            \n",
      "               (b)\n",
      "            \n",
      "            \n",
      "               the following liabilities not included in point (a):\n",
      "               \n",
      "                  \n",
      "                  \n",
      "                  \n",
      "                     \n",
      "                        \n",
      "                           (i)\n",
      "                        \n",
      "                        \n",
      "                           retail deposits that qualify for the treatment set out in Article 421(1);\n",
      "                        \n",
      "                     \n",
      "                  \n",
      "               \n",
      "               \n",
      "                  \n",
      "                  \n",
      "                  \n",
      "                     \n",
      "                        \n",
      "                           (ii)\n",
      "                        \n",
      "                        \n",
      "                           retail deposits that qualify for the treatment set out in Article 421(2);\n",
      "                        \n",
      "                     \n",
      "                  \n",
      "               \n",
      "               \n",
      "                  \n",
      "                  \n",
      "                  \n",
      "                     \n",
      "                        \n",
      "                           (iii)\n",
      "                        \n",
      "                        \n",
      "                           deposits that qualify for the treatment set out in Article 422 (3) and (4);\n",
      "                        \n",
      "                     \n",
      "                  \n",
      "               \n",
      "               \n",
      "                  \n",
      "                  \n",
      "                  \n",
      "                     \n",
      "                        \n",
      "                           (iv)\n",
      "                        \n",
      "                        \n",
      "                           of the deposits referred to in point (iii), those that are subject to a deposit guarantee scheme in accordance with Directive 94/19/EC or an equivalent deposit guarantee scheme in a third country deposit guarantees within the terms of Article 421(2);\n",
      "                        \n",
      "                     \n",
      "                  \n",
      "               \n",
      "               \n",
      "                  \n",
      "                  \n",
      "                  \n",
      "                     \n",
      "                        \n",
      "                           (v)\n",
      "                        \n",
      "                        \n",
      "                           of the deposits referred to in point (iii), those that fall under point (b) of Article 422(3);\n",
      "                        \n",
      "                     \n",
      "                  \n",
      "               \n",
      "               \n",
      "                  \n",
      "                  \n",
      "                  \n",
      "                     \n",
      "                        \n",
      "                           (vi)\n",
      "                        \n",
      "                        \n",
      "                           of the deposits referred to in point (iii), those that fall under point (d) of Article 422(3);\n",
      "                        \n",
      "                     \n",
      "                  \n",
      "               \n",
      "               \n",
      "                  \n",
      "                  \n",
      "                  \n",
      "                     \n",
      "                        \n",
      "                           (vii)\n",
      "                        \n",
      "                        \n",
      "                           amounts deposited not falling under point (i), (ii) or (iii) if they are not deposited by financial customers;\n",
      "                        \n",
      "                     \n",
      "                  \n",
      "               \n",
      "               \n",
      "                  \n",
      "                  \n",
      "                  \n",
      "                     \n",
      "                        \n",
      "                           (viii)\n",
      "                        \n",
      "                        \n",
      "                           all funding obtained from financial customers;\n",
      "                        \n",
      "                     \n",
      "                  \n",
      "               \n",
      "               \n",
      "                  \n",
      "                  \n",
      "                  \n",
      "                     \n",
      "                        \n",
      "                           (ix)\n",
      "                        \n",
      "                        \n",
      "                           separately for amounts falling under points (vii) and (viii) respectively, funding from secured lending and capital market-driven transactions as defined in point (3) of Article 192:\n",
      "                           \n",
      "                              \n",
      "                              \n",
      "                              \n",
      "                                 \n",
      "                                    \n",
      "                                       —\n",
      "                                    \n",
      "                                    \n",
      "                                       collateralised by assets that would qualify as liquid assets in accordance with Article 416;\n",
      "                                    \n",
      "                                 \n",
      "                              \n",
      "                           \n",
      "                           \n",
      "                              \n",
      "                              \n",
      "                              \n",
      "                                 \n",
      "                                    \n",
      "                                       —\n",
      "                                    \n",
      "                                    \n",
      "                                       collateralised by any other assets;\n",
      "                                    \n",
      "                                 \n",
      "                              \n",
      "                           \n",
      "                        \n",
      "                     \n",
      "                  \n",
      "               \n",
      "               \n",
      "                  \n",
      "                  \n",
      "                  \n",
      "                     \n",
      "                        \n",
      "                           (x)\n",
      "                        \n",
      "                        \n",
      "                           liabilities resulting from securities issued qualifying for the treatment set out in Article 129(4) or (5) or as referred to in Article 52(4) of Directive 2009/65/EC;\n",
      "                        \n",
      "                     \n",
      "                  \n",
      "               \n",
      "               \n",
      "                  \n",
      "                  \n",
      "                  \n",
      "                     \n",
      "                        \n",
      "                           (xi)\n",
      "                        \n",
      "                        \n",
      "                           the following other liabilities resulting from securities issued that do not fall under point (a):\n",
      "                           \n",
      "                              \n",
      "                              \n",
      "                              \n",
      "                                 \n",
      "                                    \n",
      "                                       —\n",
      "                                    \n",
      "                                    \n",
      "                                       liabilities resulting from securities issued with an effective maturity of one year or greater;\n",
      "                                    \n",
      "                                 \n",
      "                              \n",
      "                           \n",
      "                           \n",
      "                              \n",
      "                              \n",
      "                              \n",
      "                                 \n",
      "                                    \n",
      "                                       —\n",
      "                                    \n",
      "                                    \n",
      "                                       liabilities resulting from securities issued with an effective maturity of less than one year;\n",
      "                                    \n",
      "                                 \n",
      "                              \n",
      "                           \n",
      "                        \n",
      "                     \n",
      "                  \n",
      "               \n",
      "               \n",
      "                  \n",
      "                  \n",
      "                  \n",
      "                     \n",
      "                        \n",
      "                           (xii)\n",
      "                        \n",
      "                        \n",
      "                           any other liabilities.\n"
     ]
    }
   ],
   "source": [
    "print( reporting_obligations_finder.cas.get_view( 'html2textView' ).sofa_string[ 2292:11281 ] )"
   ]
  },
  {
   "cell_type": "code",
   "execution_count": null,
   "metadata": {},
   "outputs": [],
   "source": []
  },
  {
   "cell_type": "code",
   "execution_count": null,
   "metadata": {},
   "outputs": [],
   "source": []
  },
  {
   "cell_type": "code",
   "execution_count": null,
   "metadata": {},
   "outputs": [],
   "source": []
  },
  {
   "cell_type": "code",
   "execution_count": null,
   "metadata": {},
   "outputs": [],
   "source": []
  },
  {
   "cell_type": "code",
   "execution_count": null,
   "metadata": {},
   "outputs": [],
   "source": []
  },
  {
   "cell_type": "code",
   "execution_count": null,
   "metadata": {},
   "outputs": [],
   "source": []
  },
  {
   "cell_type": "code",
   "execution_count": null,
   "metadata": {},
   "outputs": [],
   "source": []
  },
  {
   "cell_type": "code",
   "execution_count": null,
   "metadata": {},
   "outputs": [],
   "source": []
  },
  {
   "cell_type": "code",
   "execution_count": 5,
   "metadata": {},
   "outputs": [
    {
     "ename": "AttributeError",
     "evalue": "'NoneType' object has no attribute 'lastChild'",
     "output_type": "error",
     "traceback": [
      "\u001b[0;31m\u001b[0m",
      "\u001b[0;31mAttributeError\u001b[0mTraceback (most recent call last)",
      "\u001b[0;32m<ipython-input-5-e0f87f7feb30>\u001b[0m in \u001b[0;36m<module>\u001b[0;34m\u001b[0m\n\u001b[1;32m      1\u001b[0m \u001b[0;32mfor\u001b[0m \u001b[0mitem\u001b[0m \u001b[0;32min\u001b[0m \u001b[0mlist_xml\u001b[0m\u001b[0;34m:\u001b[0m\u001b[0;34m\u001b[0m\u001b[0;34m\u001b[0m\u001b[0m\n\u001b[0;32m----> 2\u001b[0;31m     \u001b[0mprint\u001b[0m\u001b[0;34m(\u001b[0m\u001b[0mitem\u001b[0m\u001b[0;34m.\u001b[0m\u001b[0mlastChild\u001b[0m\u001b[0;34m.\u001b[0m\u001b[0mtoxml\u001b[0m\u001b[0;34m(\u001b[0m\u001b[0;34m)\u001b[0m\u001b[0;34m)\u001b[0m\u001b[0;34m\u001b[0m\u001b[0;34m\u001b[0m\u001b[0m\n\u001b[0m",
      "\u001b[0;31mAttributeError\u001b[0m: 'NoneType' object has no attribute 'lastChild'"
     ]
    }
   ],
   "source": [
    "for item in list_xml:\n",
    "    print(item.lastChild.toxml())"
   ]
  },
  {
   "cell_type": "code",
   "execution_count": null,
   "metadata": {},
   "outputs": [],
   "source": []
  },
  {
   "cell_type": "code",
   "execution_count": null,
   "metadata": {},
   "outputs": [],
   "source": []
  },
  {
   "cell_type": "code",
   "execution_count": null,
   "metadata": {},
   "outputs": [],
   "source": []
  },
  {
   "cell_type": "code",
   "execution_count": null,
   "metadata": {},
   "outputs": [],
   "source": []
  },
  {
   "cell_type": "code",
   "execution_count": null,
   "metadata": {},
   "outputs": [],
   "source": []
  },
  {
   "cell_type": "code",
   "execution_count": 9,
   "metadata": {},
   "outputs": [],
   "source": [
    "#item=list_xml[0]\n",
    "offset=10\n",
    "for i in range( len( list_xml ) ):\n",
    "    list_xml[i].lastChild.setAttribute( 'offset_original_document', str(offset))"
   ]
  },
  {
   "cell_type": "code",
   "execution_count": 12,
   "metadata": {},
   "outputs": [
    {
     "data": {
      "text/plain": [
       "'<h6 offset_original_document=\"10\">Article 4</h6>'"
      ]
     },
     "execution_count": 12,
     "metadata": {},
     "output_type": "execute_result"
    }
   ],
   "source": [
    "list_xml[2].lastChild.toxml()"
   ]
  },
  {
   "cell_type": "code",
   "execution_count": null,
   "metadata": {},
   "outputs": [],
   "source": []
  },
  {
   "cell_type": "code",
   "execution_count": 6,
   "metadata": {},
   "outputs": [],
   "source": [
    "#item=list_xml[0]\n",
    "offset=10\n",
    "for item in list_xml:\n",
    "    item.lastChild.setAttribute( 'offset_original_document', str(offset))"
   ]
  },
  {
   "cell_type": "code",
   "execution_count": 8,
   "metadata": {},
   "outputs": [
    {
     "data": {
      "text/plain": [
       "'<p data-frequency-class=\"2\" data-frequency-could-be-1=\"false\" data-frequency-could-be-2=\"true\" data-frequency-could-be-3=\"false\" data-frequency-might-be-1=\"true\" data-frequency-might-be-2=\"true\" data-frequency-might-be-3=\"false\" data-frequency-split=\"0.20515594523894834|0.7843106687068939|0.01053336447566835\" offset_original_document=\"10\">Whereas , , <span class=\"ARG0\">Such a final system</span> <span class=\"ARGM-MOD\">should</span> <span class=\"V\">provide</span> <span class=\"ARG1\">for the determination and raising of administrative contributions</span> <span class=\"ARGM-PRP\">not only for significant entities , but for all entities that are subjected to the Single Resolution Mechanism</span> . The contributions should be calculated at the highest level of consolidation of those entities within the participating Member States , since all subsidiaries of a group inside the perimeter of consolidation fall within the scope of the decision - making powers of the Board when adopting group resolution plans , carrying out the assessment of resolvability of groups and adopting resolution decisions for groups . The exercise of those tasks implies expenditures for the Board for collecting and analysing information and data related to each subsidiary included in the perimeter of consolidation . Since those are expenditures related to the services provided by the Board to the entities that are subjected to the Single Resolution Mechanism , they should be paid by those entities and therefore the administrative contributions should be calculated on the basis of their consolidated accounts at the highest level of consolidation within the participating Member States and only one contribution per group should be calculated .</p>'"
      ]
     },
     "execution_count": 8,
     "metadata": {},
     "output_type": "execute_result"
    }
   ],
   "source": [
    "list_xml[0].lastChild.toxml()"
   ]
  },
  {
   "cell_type": "code",
   "execution_count": 15,
   "metadata": {},
   "outputs": [
    {
     "data": {
      "text/plain": [
       "[[1, 2], [2, 2], [4, 2]]"
      ]
     },
     "execution_count": 15,
     "metadata": {},
     "output_type": "execute_result"
    }
   ],
   "source": [
    "test=[[1],[2],[4]]\n",
    "for item in test:\n",
    "    item.append(2 )\n",
    "test"
   ]
  },
  {
   "cell_type": "code",
   "execution_count": 39,
   "metadata": {},
   "outputs": [
    {
     "name": "stdout",
     "output_type": "stream",
     "text": [
      "None\n",
      "None\n",
      "None\n",
      "None\n",
      "None\n",
      "None\n",
      "None\n",
      "None\n",
      "None\n",
      "None\n",
      "None\n",
      "None\n",
      "None\n",
      "None\n",
      "None\n",
      "None\n",
      "None\n",
      "None\n",
      "None\n",
      "None\n",
      "None\n",
      "None\n",
      "None\n",
      "None\n"
     ]
    }
   ],
   "source": [
    "import copy\n",
    "for item in list_xml:\n",
    "    #item2=copy.deepcopy( item )\n",
    "    print(item.lastChild.setAttribute( 'offset_original_document', str(offset))   )\n",
    "    "
   ]
  },
  {
   "cell_type": "code",
   "execution_count": 49,
   "metadata": {},
   "outputs": [],
   "source": [
    "item=list_xml[0]\n",
    "list_xml[0].lastChild.setAttribute( 'offset_original_document', str(offset))"
   ]
  },
  {
   "cell_type": "code",
   "execution_count": 51,
   "metadata": {},
   "outputs": [
    {
     "data": {
      "text/plain": [
       "'<p data-frequency-class=\"2\" data-frequency-could-be-1=\"false\" data-frequency-could-be-2=\"true\" data-frequency-could-be-3=\"false\" data-frequency-might-be-1=\"true\" data-frequency-might-be-2=\"true\" data-frequency-might-be-3=\"false\" data-frequency-split=\"0.20515594523894834|0.7843106687068939|0.01053336447566835\" offset_original_document=\"(1, 2)\">Whereas , , <span class=\"ARG0\">Such a final system</span> <span class=\"ARGM-MOD\">should</span> <span class=\"V\">provide</span> <span class=\"ARG1\">for the determination and raising of administrative contributions</span> <span class=\"ARGM-PRP\">not only for significant entities , but for all entities that are subjected to the Single Resolution Mechanism</span> . The contributions should be calculated at the highest level of consolidation of those entities within the participating Member States , since all subsidiaries of a group inside the perimeter of consolidation fall within the scope of the decision - making powers of the Board when adopting group resolution plans , carrying out the assessment of resolvability of groups and adopting resolution decisions for groups . The exercise of those tasks implies expenditures for the Board for collecting and analysing information and data related to each subsidiary included in the perimeter of consolidation . Since those are expenditures related to the services provided by the Board to the entities that are subjected to the Single Resolution Mechanism , they should be paid by those entities and therefore the administrative contributions should be calculated on the basis of their consolidated accounts at the highest level of consolidation within the participating Member States and only one contribution per group should be calculated .</p>'"
      ]
     },
     "execution_count": 51,
     "metadata": {},
     "output_type": "execute_result"
    }
   ],
   "source": [
    "list_xml[0].lastChild.toxml()"
   ]
  },
  {
   "cell_type": "code",
   "execution_count": 36,
   "metadata": {},
   "outputs": [
    {
     "data": {
      "text/plain": [
       "<xml.dom.minidom.Document at 0x7f9e76117948>"
      ]
     },
     "execution_count": 36,
     "metadata": {},
     "output_type": "execute_result"
    }
   ],
   "source": [
    "item"
   ]
  },
  {
   "cell_type": "code",
   "execution_count": 40,
   "metadata": {},
   "outputs": [],
   "source": [
    "list_xml[0].lastChild.setAttribute( 'offset_original_document', str(offset))"
   ]
  },
  {
   "cell_type": "code",
   "execution_count": 41,
   "metadata": {},
   "outputs": [
    {
     "data": {
      "text/plain": [
       "[<xml.dom.minidom.Document at 0x7f9e76117948>,\n",
       " <xml.dom.minidom.Document at 0x7f9e75127ca8>,\n",
       " <xml.dom.minidom.Document at 0x7f9e75105dc8>,\n",
       " <xml.dom.minidom.Document at 0x7f9e75105708>,\n",
       " <xml.dom.minidom.Document at 0x7f9e74fffbe8>,\n",
       " <xml.dom.minidom.Document at 0x7f9e74fffca8>,\n",
       " <xml.dom.minidom.Document at 0x7f9e74fffc48>,\n",
       " <xml.dom.minidom.Document at 0x7f9e74eac828>,\n",
       " <xml.dom.minidom.Document at 0x7f9e74ed7a68>,\n",
       " <xml.dom.minidom.Document at 0x7f9e74ed7d68>,\n",
       " <xml.dom.minidom.Document at 0x7f9f18758108>,\n",
       " <xml.dom.minidom.Document at 0x7f9e74ec39a8>,\n",
       " <xml.dom.minidom.Document at 0x7f9e74a7cc48>,\n",
       " <xml.dom.minidom.Document at 0x7f9e74a7cbe8>,\n",
       " <xml.dom.minidom.Document at 0x7f9e748abf48>,\n",
       " <xml.dom.minidom.Document at 0x7f9e74a9b828>,\n",
       " <xml.dom.minidom.Document at 0x7f9e74a9b948>,\n",
       " <xml.dom.minidom.Document at 0x7f9e74a83228>,\n",
       " <xml.dom.minidom.Document at 0x7f9e74a83348>,\n",
       " <xml.dom.minidom.Document at 0x7f9e74a83288>,\n",
       " <xml.dom.minidom.Document at 0x7f9e74a83c48>,\n",
       " <xml.dom.minidom.Document at 0x7f9e74a838e8>,\n",
       " <xml.dom.minidom.Document at 0x7f9e74a8a768>,\n",
       " <xml.dom.minidom.Document at 0x7f9e74a76048>]"
      ]
     },
     "execution_count": 41,
     "metadata": {},
     "output_type": "execute_result"
    }
   ],
   "source": [
    "list_xml"
   ]
  },
  {
   "cell_type": "code",
   "execution_count": 22,
   "metadata": {},
   "outputs": [],
   "source": [
    "list_xml[0].lastChild.setAttribute( 'offset_original_document', str(offset)) "
   ]
  },
  {
   "cell_type": "code",
   "execution_count": 14,
   "metadata": {},
   "outputs": [],
   "source": [
    "item"
   ]
  },
  {
   "cell_type": "code",
   "execution_count": 16,
   "metadata": {},
   "outputs": [],
   "source": [
    "test=list_xml[0]"
   ]
  },
  {
   "cell_type": "code",
   "execution_count": 17,
   "metadata": {},
   "outputs": [],
   "source": [
    "test.lastChild.setAttribute( 'offset_original_document', str(offset)) "
   ]
  },
  {
   "cell_type": "code",
   "execution_count": 18,
   "metadata": {},
   "outputs": [
    {
     "data": {
      "text/plain": [
       "<xml.dom.minidom.Document at 0x7f9e760dd168>"
      ]
     },
     "execution_count": 18,
     "metadata": {},
     "output_type": "execute_result"
    }
   ],
   "source": [
    "test"
   ]
  },
  {
   "cell_type": "code",
   "execution_count": 6,
   "metadata": {},
   "outputs": [],
   "source": [
    "offset=(1,2)"
   ]
  },
  {
   "cell_type": "code",
   "execution_count": 7,
   "metadata": {},
   "outputs": [],
   "source": [
    "test_list=[xml_item.lastChild.setAttribute( 'offset_original_document', str(offset)) for xml_item in list_xml]"
   ]
  },
  {
   "cell_type": "code",
   "execution_count": null,
   "metadata": {},
   "outputs": [],
   "source": []
  },
  {
   "cell_type": "code",
   "execution_count": null,
   "metadata": {},
   "outputs": [],
   "source": []
  },
  {
   "cell_type": "code",
   "execution_count": null,
   "metadata": {},
   "outputs": [],
   "source": []
  },
  {
   "cell_type": "code",
   "execution_count": null,
   "metadata": {},
   "outputs": [],
   "source": []
  },
  {
   "cell_type": "code",
   "execution_count": 6,
   "metadata": {},
   "outputs": [
    {
     "data": {
      "text/plain": [
       "<xml.dom.minidom.Document at 0x7f8de3213588>"
      ]
     },
     "execution_count": 6,
     "metadata": {},
     "output_type": "execute_result"
    }
   ],
   "source": [
    "list_xml[0]"
   ]
  },
  {
   "cell_type": "code",
   "execution_count": 8,
   "metadata": {},
   "outputs": [],
   "source": [
    "offset=(1,2)\n",
    "xml_item=list_xml[0]\n",
    "xml_item.lastChild.setAttribute( 'offset_original_document', str(offset))"
   ]
  },
  {
   "cell_type": "code",
   "execution_count": 10,
   "metadata": {},
   "outputs": [
    {
     "data": {
      "text/plain": [
       "<xml.dom.minidom.Document at 0x7f8de3213588>"
      ]
     },
     "execution_count": 10,
     "metadata": {},
     "output_type": "execute_result"
    }
   ],
   "source": [
    "xml_item"
   ]
  },
  {
   "cell_type": "code",
   "execution_count": null,
   "metadata": {},
   "outputs": [],
   "source": []
  },
  {
   "cell_type": "code",
   "execution_count": null,
   "metadata": {},
   "outputs": [],
   "source": [
    "offset=\n",
    "\n",
    "list_xml_sentence=[xml_item.lastChild.setAttribute( 'offset_original_document', str(offset)) for xml_item in list_xml]\n"
   ]
  },
  {
   "cell_type": "code",
   "execution_count": 5,
   "metadata": {},
   "outputs": [
    {
     "data": {
      "text/plain": [
       "[None,\n",
       " None,\n",
       " None,\n",
       " None,\n",
       " None,\n",
       " None,\n",
       " None,\n",
       " None,\n",
       " None,\n",
       " None,\n",
       " None,\n",
       " None,\n",
       " None,\n",
       " None,\n",
       " None,\n",
       " None,\n",
       " None,\n",
       " None,\n",
       " None,\n",
       " None,\n",
       " None,\n",
       " None,\n",
       " None,\n",
       " None]"
      ]
     },
     "execution_count": 5,
     "metadata": {},
     "output_type": "execute_result"
    }
   ],
   "source": [
    "list_xml"
   ]
  },
  {
   "cell_type": "code",
   "execution_count": null,
   "metadata": {},
   "outputs": [],
   "source": []
  },
  {
   "cell_type": "code",
   "execution_count": null,
   "metadata": {},
   "outputs": [],
   "source": []
  },
  {
   "cell_type": "code",
   "execution_count": null,
   "metadata": {},
   "outputs": [],
   "source": []
  },
  {
   "cell_type": "code",
   "execution_count": 66,
   "metadata": {},
   "outputs": [],
   "source": [
    "list_xml[0].lastChild.setAttribute( 'offset_original_document', \"(12,10)\"   )"
   ]
  },
  {
   "cell_type": "code",
   "execution_count": 68,
   "metadata": {},
   "outputs": [
    {
     "data": {
      "text/plain": [
       "'<p data-frequency-class=\"2\" data-frequency-could-be-1=\"false\" data-frequency-could-be-2=\"true\" data-frequency-could-be-3=\"false\" data-frequency-might-be-1=\"true\" data-frequency-might-be-2=\"true\" data-frequency-might-be-3=\"false\" data-frequency-split=\"0.20515594523894834|0.7843106687068939|0.01053336447566835\" offset_original_document=\"(12,10)\">Whereas , , <span class=\"ARG0\">Such a final system</span> <span class=\"ARGM-MOD\">should</span> <span class=\"V\">provide</span> <span class=\"ARG1\">for the determination and raising of administrative contributions</span> <span class=\"ARGM-PRP\">not only for significant entities , but for all entities that are subjected to the Single Resolution Mechanism</span> . The contributions should be calculated at the highest level of consolidation of those entities within the participating Member States , since all subsidiaries of a group inside the perimeter of consolidation fall within the scope of the decision - making powers of the Board when adopting group resolution plans , carrying out the assessment of resolvability of groups and adopting resolution decisions for groups . The exercise of those tasks implies expenditures for the Board for collecting and analysing information and data related to each subsidiary included in the perimeter of consolidation . Since those are expenditures related to the services provided by the Board to the entities that are subjected to the Single Resolution Mechanism , they should be paid by those entities and therefore the administrative contributions should be calculated on the basis of their consolidated accounts at the highest level of consolidation within the participating Member States and only one contribution per group should be calculated .</p>'"
      ]
     },
     "execution_count": 68,
     "metadata": {},
     "output_type": "execute_result"
    }
   ],
   "source": [
    "list_xml[0].lastChild.toxml()"
   ]
  },
  {
   "cell_type": "code",
   "execution_count": 63,
   "metadata": {},
   "outputs": [
    {
     "data": {
      "text/plain": [
       "'<p data-frequency-class=\"2\" data-frequency-could-be-1=\"false\" data-frequency-could-be-2=\"true\" data-frequency-could-be-3=\"false\" data-frequency-might-be-1=\"true\" data-frequency-might-be-2=\"true\" data-frequency-might-be-3=\"false\" data-frequency-split=\"0.20515594523894834|0.7843106687068939|0.01053336447566835\">Whereas , , <span class=\"ARG0\">Such a final system</span> <span class=\"ARGM-MOD\">should</span> <span class=\"V\">provide</span> <span class=\"ARG1\">for the determination and raising of administrative contributions</span> <span class=\"ARGM-PRP\">not only for significant entities , but for all entities that are subjected to the Single Resolution Mechanism</span> . The contributions should be calculated at the highest level of consolidation of those entities within the participating Member States , since all subsidiaries of a group inside the perimeter of consolidation fall within the scope of the decision - making powers of the Board when adopting group resolution plans , carrying out the assessment of resolvability of groups and adopting resolution decisions for groups . The exercise of those tasks implies expenditures for the Board for collecting and analysing information and data related to each subsidiary included in the perimeter of consolidation . Since those are expenditures related to the services provided by the Board to the entities that are subjected to the Single Resolution Mechanism , they should be paid by those entities and therefore the administrative contributions should be calculated on the basis of their consolidated accounts at the highest level of consolidation within the participating Member States and only one contribution per group should be calculated .</p>'"
      ]
     },
     "execution_count": 63,
     "metadata": {},
     "output_type": "execute_result"
    }
   ],
   "source": [
    "string_xml=list_xml[0].lastChild.toxml()\n",
    "string_xml"
   ]
  },
  {
   "cell_type": "code",
   "execution_count": 64,
   "metadata": {},
   "outputs": [],
   "source": [
    "#from xml.dom.minidom import parseString\n",
    "#test_xml=parseString( string_xml )"
   ]
  },
  {
   "cell_type": "code",
   "execution_count": 65,
   "metadata": {},
   "outputs": [
    {
     "data": {
      "text/plain": [
       "'<p data-frequency-class=\"2\" data-frequency-could-be-1=\"false\" data-frequency-could-be-2=\"true\" data-frequency-could-be-3=\"false\" data-frequency-might-be-1=\"true\" data-frequency-might-be-2=\"true\" data-frequency-might-be-3=\"false\" data-frequency-split=\"0.20515594523894834|0.7843106687068939|0.01053336447566835\">Whereas , , <span class=\"ARG0\">Such a final system</span> <span class=\"ARGM-MOD\">should</span> <span class=\"V\">provide</span> <span class=\"ARG1\">for the determination and raising of administrative contributions</span> <span class=\"ARGM-PRP\">not only for significant entities , but for all entities that are subjected to the Single Resolution Mechanism</span> . The contributions should be calculated at the highest level of consolidation of those entities within the participating Member States , since all subsidiaries of a group inside the perimeter of consolidation fall within the scope of the decision - making powers of the Board when adopting group resolution plans , carrying out the assessment of resolvability of groups and adopting resolution decisions for groups . The exercise of those tasks implies expenditures for the Board for collecting and analysing information and data related to each subsidiary included in the perimeter of consolidation . Since those are expenditures related to the services provided by the Board to the entities that are subjected to the Single Resolution Mechanism , they should be paid by those entities and therefore the administrative contributions should be calculated on the basis of their consolidated accounts at the highest level of consolidation within the participating Member States and only one contribution per group should be calculated .</p>'"
      ]
     },
     "execution_count": 65,
     "metadata": {},
     "output_type": "execute_result"
    }
   ],
   "source": [
    "#test_xml.lastChild.toxml()"
   ]
  },
  {
   "cell_type": "code",
   "execution_count": 57,
   "metadata": {},
   "outputs": [],
   "source": [
    "list_xml[0].lastChild.setAttribute( 'offset_original_document', \"(12,10)\"   )"
   ]
  },
  {
   "cell_type": "code",
   "execution_count": 58,
   "metadata": {},
   "outputs": [
    {
     "data": {
      "text/plain": [
       "'<p data-frequency-class=\"2\" data-frequency-could-be-1=\"false\" data-frequency-could-be-2=\"true\" data-frequency-could-be-3=\"false\" data-frequency-might-be-1=\"true\" data-frequency-might-be-2=\"true\" data-frequency-might-be-3=\"false\" data-frequency-split=\"0.20515594523894834|0.7843106687068939|0.01053336447566835\" offset=\"0\" offset_original_document=\"(12,10)\">Whereas , , <span class=\"ARG0\">Such a final system</span> <span class=\"ARGM-MOD\">should</span> <span class=\"V\">provide</span> <span class=\"ARG1\">for the determination and raising of administrative contributions</span> <span class=\"ARGM-PRP\">not only for significant entities , but for all entities that are subjected to the Single Resolution Mechanism</span> . The contributions should be calculated at the highest level of consolidation of those entities within the participating Member States , since all subsidiaries of a group inside the perimeter of consolidation fall within the scope of the decision - making powers of the Board when adopting group resolution plans , carrying out the assessment of resolvability of groups and adopting resolution decisions for groups . The exercise of those tasks implies expenditures for the Board for collecting and analysing information and data related to each subsidiary included in the perimeter of consolidation . Since those are expenditures related to the services provided by the Board to the entities that are subjected to the Single Resolution Mechanism , they should be paid by those entities and therefore the administrative contributions should be calculated on the basis of their consolidated accounts at the highest level of consolidation within the participating Member States and only one contribution per group should be calculated .</p>'"
      ]
     },
     "execution_count": 58,
     "metadata": {},
     "output_type": "execute_result"
    }
   ],
   "source": [
    "list_xml[0].lastChild.toxml()"
   ]
  },
  {
   "cell_type": "code",
   "execution_count": null,
   "metadata": {},
   "outputs": [],
   "source": []
  },
  {
   "cell_type": "code",
   "execution_count": null,
   "metadata": {},
   "outputs": [],
   "source": [
    "srl_dom_output.lastChild.setAttribute('data-frequency-could-be-2', 'true' if cat2_pred > 0.35 else 'false')\n"
   ]
  },
  {
   "cell_type": "code",
   "execution_count": null,
   "metadata": {},
   "outputs": [],
   "source": []
  },
  {
   "cell_type": "code",
   "execution_count": null,
   "metadata": {},
   "outputs": [],
   "source": []
  },
  {
   "cell_type": "code",
   "execution_count": null,
   "metadata": {},
   "outputs": [],
   "source": []
  },
  {
   "cell_type": "code",
   "execution_count": 21,
   "metadata": {},
   "outputs": [
    {
     "name": "stdout",
     "output_type": "stream",
     "text": [
      "<Person Name=\"John\" />\n"
     ]
    }
   ],
   "source": [
    "from xml.etree import ElementTree\n",
    "\n",
    "xml = ElementTree.Element(\"Person\", Name=\"John\")\n",
    "xml_str = ElementTree.tostring(xml).decode()\n",
    "print(xml_str)"
   ]
  },
  {
   "cell_type": "code",
   "execution_count": 22,
   "metadata": {},
   "outputs": [
    {
     "data": {
      "text/plain": [
       "<Element 'Person' at 0x7f0cdadcf548>"
      ]
     },
     "execution_count": 22,
     "metadata": {},
     "output_type": "execute_result"
    }
   ],
   "source": [
    "xml"
   ]
  },
  {
   "cell_type": "code",
   "execution_count": 23,
   "metadata": {},
   "outputs": [
    {
     "data": {
      "text/plain": [
       "[<xml.dom.minidom.Document at 0x7f0d80ff7fa8>,\n",
       " <xml.dom.minidom.Document at 0x7f0cdb5cdd08>,\n",
       " <xml.dom.minidom.Document at 0x7f0cdb18ca68>,\n",
       " <xml.dom.minidom.Document at 0x7f0cdb18cac8>,\n",
       " <xml.dom.minidom.Document at 0x7f0cdb191528>,\n",
       " <xml.dom.minidom.Document at 0x7f0cdb1915e8>,\n",
       " <xml.dom.minidom.Document at 0x7f0cdb191fa8>,\n",
       " <xml.dom.minidom.Document at 0x7f0cdb191588>,\n",
       " <xml.dom.minidom.Document at 0x7f0cdb15bb88>,\n",
       " <xml.dom.minidom.Document at 0x7f0cdb14b6a8>,\n",
       " <xml.dom.minidom.Document at 0x7f0cdb14ee88>,\n",
       " <xml.dom.minidom.Document at 0x7f0cdb14efa8>,\n",
       " <xml.dom.minidom.Document at 0x7f0cdb12b8e8>,\n",
       " <xml.dom.minidom.Document at 0x7f0cdb12b888>,\n",
       " <xml.dom.minidom.Document at 0x7f0cdb12be88>,\n",
       " <xml.dom.minidom.Document at 0x7f0cdb14f2e8>,\n",
       " <xml.dom.minidom.Document at 0x7f0cdb14f408>,\n",
       " <xml.dom.minidom.Document at 0x7f0cdb14fca8>,\n",
       " <xml.dom.minidom.Document at 0x7f0cdb14fdc8>,\n",
       " <xml.dom.minidom.Document at 0x7f0cdb14fd08>,\n",
       " <xml.dom.minidom.Document at 0x7f0cdb140708>,\n",
       " <xml.dom.minidom.Document at 0x7f0cdb140e28>,\n",
       " <xml.dom.minidom.Document at 0x7f0cdb140e88>,\n",
       " <xml.dom.minidom.Document at 0x7f0cdb0c8b88>]"
      ]
     },
     "execution_count": 23,
     "metadata": {},
     "output_type": "execute_result"
    }
   ],
   "source": [
    "list_xml"
   ]
  },
  {
   "cell_type": "code",
   "execution_count": 4,
   "metadata": {},
   "outputs": [],
   "source": [
    "offsets=[]\n",
    "sentences=[]\n",
    "for sentence in transformer.cas.get_view( NewSofaID ).sofa_string.split( \"\\n\" ):\n",
    "    offset=eval(sentence.split( \"|\" )[-1])\n",
    "    assert type( offset ) ==tuple\n",
    "    offsets.append( offset )\n",
    "    sentences.append( \"|\".join(sentence.split( \"|\" )[:-1]) )\n",
    "\n",
    "assert( len( offsets ) == len( sentences ) )"
   ]
  },
  {
   "cell_type": "code",
   "execution_count": 59,
   "metadata": {
    "scrolled": true
   },
   "outputs": [
    {
     "data": {
      "text/plain": [
       "[(184, 197),\n",
       " (242, 244),\n",
       " (289, 327),\n",
       " (372, 379),\n",
       " (427, 473),\n",
       " (478, 498),\n",
       " (503, 605),\n",
       " (610, 634),\n",
       " (639, 708),\n",
       " (713, 1108),\n",
       " (1113, 10213),\n",
       " (1113, 10213),\n",
       " (1113, 10213),\n",
       " (1113, 10213),\n",
       " (1113, 10213),\n",
       " (1113, 10213),\n",
       " (1113, 10213),\n",
       " (1113, 10213),\n",
       " (1113, 10213),\n",
       " (1113, 10213),\n",
       " (1113, 10213),\n",
       " (1113, 10213),\n",
       " (1113, 10213),\n",
       " (1113, 10213),\n",
       " (1113, 10213),\n",
       " (1113, 10213),\n",
       " (10256, 10284),\n",
       " (10289, 10298),\n",
       " (10303, 10317),\n",
       " (10322, 11463),\n",
       " (10322, 11463),\n",
       " (10322, 11463),\n",
       " (10322, 11463),\n",
       " (11506, 11515),\n",
       " (11520, 11531),\n",
       " (11536, 12975),\n",
       " (13018, 13027),\n",
       " (13032, 13098),\n",
       " (13103, 13515),\n",
       " (13520, 13641),\n",
       " (13646, 13655),\n",
       " (13660, 13710),\n",
       " (13715, 15665),\n",
       " (15708, 15957),\n",
       " (15962, 16112),\n",
       " (16117, 16323),\n",
       " (16328, 16337),\n",
       " (16342, 16392),\n",
       " (16397, 16643),\n",
       " (16648, 16865),\n",
       " (16870, 18121),\n",
       " (16870, 18121),\n",
       " (16870, 18121),\n",
       " (16870, 18121),\n",
       " (16870, 18121),\n",
       " (18164, 18349),\n",
       " (18354, 18789),\n",
       " (18794, 18963),\n",
       " (18968, 18977),\n",
       " (18982, 19051),\n",
       " (19056, 19481),\n",
       " (19486, 21280),\n",
       " (21323, 21716),\n",
       " (21721, 22014),\n",
       " (22019, 22269),\n",
       " (22274, 22597),\n",
       " (22602, 22901),\n",
       " (22906, 23070),\n",
       " (23075, 23439),\n",
       " (23444, 23569),\n",
       " (23574, 23583),\n",
       " (23588, 23625),\n",
       " (23630, 23940),\n",
       " (23945, 24285),\n",
       " (24290, 24578),\n",
       " (24583, 25173),\n",
       " (25178, 25855),\n",
       " (25860, 26015),\n",
       " (26020, 26330),\n",
       " (26335, 26643),\n",
       " (26648, 26657),\n",
       " (26662, 26737),\n",
       " (26742, 26826),\n",
       " (26831, 27853),\n",
       " (27896, 27953),\n",
       " (27958, 28210),\n",
       " (28215, 28403),\n",
       " (28408, 28456),\n",
       " (28461, 28835),\n",
       " (28840, 29042),\n",
       " (29047, 29462),\n",
       " (29467, 29775),\n",
       " (29780, 29789),\n",
       " (29794, 29805),\n",
       " (29810, 29940),\n",
       " (29945, 30086),\n",
       " (30091, 30333),\n",
       " (30338, 30598),\n",
       " (30603, 30770),\n",
       " (30775, 30785),\n",
       " (30790, 30866),\n",
       " (30871, 31071),\n",
       " (31076, 31361),\n",
       " (31366, 31717),\n",
       " (31722, 32186),\n",
       " (32191, 32610),\n",
       " (32615, 33363),\n",
       " (33368, 33693),\n",
       " (33698, 33904),\n",
       " (33909, 33919),\n",
       " (33924, 34046),\n",
       " (34051, 34310),\n",
       " (34315, 34325),\n",
       " (34330, 34341),\n",
       " (34346, 34457),\n",
       " (34462, 34669),\n",
       " (34674, 34933),\n",
       " (34938, 35217),\n",
       " (35222, 35438),\n",
       " (35443, 37486),\n",
       " (35443, 37486),\n",
       " (35443, 37486),\n",
       " (35443, 37486),\n",
       " (35443, 37486),\n",
       " (35443, 37486),\n",
       " (37529, 37972),\n",
       " (37977, 38191),\n",
       " (38196, 38206),\n",
       " (38211, 38256),\n",
       " (38261, 38452),\n",
       " (38457, 38467),\n",
       " (38472, 38478),\n",
       " (38483, 38534),\n",
       " (38539, 38549),\n",
       " (38554, 38570),\n",
       " (38575, 38715),\n",
       " (38728, 38822),\n",
       " (38830, 38866),\n",
       " (38885, 38928),\n",
       " (38939, 38977),\n",
       " (38988, 39007),\n",
       " (39030, 39069),\n",
       " (39074, 39344),\n",
       " (39349, 39503),\n",
       " (39508, 39744),\n",
       " (39749, 39885),\n",
       " (39890, 40181),\n",
       " (40186, 40535)]"
      ]
     },
     "execution_count": 59,
     "metadata": {},
     "output_type": "execute_result"
    }
   ],
   "source": [
    "offsets"
   ]
  },
  {
   "cell_type": "code",
   "execution_count": 60,
   "metadata": {
    "scrolled": true
   },
   "outputs": [
    {
     "data": {
      "text/plain": [
       "['19.12.2017',\n",
       " 'EN',\n",
       " 'Official Journal of the European Union',\n",
       " 'L 337/6',\n",
       " 'COMMISSION DELEGATED REGULATION (EU) 2017/2361',\n",
       " 'of 14 September 2017',\n",
       " 'on the final system of contributions to the administrative expenditures of the Single Resolution Board',\n",
       " 'THE EUROPEAN COMMISSION,',\n",
       " 'Having regard to the Treaty on the Functioning of the European Union,',\n",
       " 'Having regard to Regulation (EU) No 806/2014 of the European Parliament and of the Council of 15 July 2014 establishing uniform rules and a uniform procedure for the resolution of credit institutions and certain investment firms in the framework of a Single Resolution Mechanism and a Single Resolution Fund and amending Regulation (EU) No 1093/2010 (1), and in particular Article 65(5) thereof,',\n",
       " 'Whereas, , The provisional system of instalments on contributions to the administrative expenditures of the Board, laid down in Commission Delegated Regulation (EU) No 1310/2014 (2), was based on a simplified methodology and covered only a limited subset of entities, namely the entities which are considered significant by the European Central Bank (ECB) (‘significant entities’). That provisional system was introduced in order to ensure sufficient funding for the establishment of the Board while minimising the administrative burden for the Board, which at the time had only a limited structure and operational capacity. The provisional system was intended to apply until the Commission would adopt a final system for the determination and raising of the contributions to administrative expenditures.',\n",
       " 'Whereas, , As the Board has acquired a more stable structure and operational capacity, it is now appropriate to establish the final system of annual contributions to the administrative expenditures of the Board.',\n",
       " 'A final system should replace the provisional system laid down in Delegated Regulation (EU) No 1310/2014.',\n",
       " 'Whereas, , Such a final system should provide for the determination and raising of administrative contributions not only for significant entities, but for all entities that are subject to the Single Resolution Mechanism. The contributions should be calculated at the highest level of consolidation of those entities within the participating Member States, since all subsidiaries of a group inside the perimeter of consolidation fall within the scope of the decision-making powers of the Board when adopting group resolution plans, carrying out the assessment of resolvability of groups and adopting resolution decisions for groups. The exercise of those tasks implies expenditures for the Board for collecting and analysing information and data related to each subsidiary included in the perimeter of consolidation. Since those are expenditures related to the services provided by the Board to the entities that are subject to the Single Resolution Mechanism, they should be paid by those entities and therefore the administrative contributions should be calculated on the basis of their consolidated accounts at the highest level of consolidation within the participating Member States and only one contribution per group should be calculated.',\n",
       " 'Whereas, , Pursuant to Article 65(3) of Regulation (EU) No 806/2014 the Board is to determine and raise contributions as well as to ensure that they are fully and timely paid.',\n",
       " 'In order to enable the Board to meet those requirements, an efficient system for raising the administrative contributions from the institutions and entities referred to in Article 2 of Regulation (EU) No 806/2014 should be ensured. Those institutions and entities are already subject to numerous reporting obligations set out in Union legislation. More specifically, pursuant to Regulation (EU) No 1163/2014 of the European Central Bank (3), the ECB collects data on total assets and total risk exposure for the purposes of calculating supervisory fees. The data collected in accordance with Regulation (EU) No 1163/2014 can be meaningfully used for the calculation of the administrative contributions to the Board. Pursuant to Article 30(2) of Regulation (EU) No 806/2014, the Board and the ECB are to cooperate closely in the exercise of their respective responsibilities under that Regulation and, in particular, provide each other with all the information necessary for the performance of their tasks.',\n",
       " 'It is more efficient to request the ECB to transmit data it received and verified in the exercise of its tasks and powers conferred on it by Council Regulation (EU) No 1024/2013 (4) to the Board, than to duplicate the reporting burden for the institutions and entities concerned. Data sharing between the ECB and the Board would also allow avoiding duplication of the data verification process by the Board and builds on the obligation of the Board and the ECB to cooperate closely in the exercise of their respective responsibilities under Regulation (EU) No 806/2014. Any duplication of the data reporting and verification processes would inevitably require more time for the calculation and raising of contributions and would lead to a less efficient system. It follows that, as a part of the cooperation obligation, the ECB should be required to transmit to the Board the data received from the institutions and entities concerned for the purpose of calculating contributions to the Board. The Board should rely to the greatest extent possible on the data collected by the ECB.',\n",
       " 'The Board should have access to the aforementioned data to the extent necessary for the fulfilment of its tasks under this Regulation.',\n",
       " \"Whereas, , The allocation of contributions should reflect the difference in the workload and related expenditures for the entities under the Board's direct responsibility as opposed to those under the responsibility of national resolution authorities. Therefore, this Regulation should determine how the contributions should be split between those two groups of entities. Within those two groups, the final system established by this Regulation should require entities to contribute in proportion to the resource requirements that they individually place on the Board, as approximated by observable data.\",\n",
       " 'Whereas, , In order to provide certainty, both to the Board and to the entities concerned, on how individual annual contributions are to be adjusted in the case of an error in the calculation or changes to the underlying data, this Regulation should lay down specific rules in that respect.',\n",
       " 'Where the Board makes an error in the calculation of the annual contribution, it should be required to rectify that error. Such a requirement should apply as regards errors that occur because the Board applies incorrectly the methodology for calculating the individual annual contributions. In such cases, all contributions should be amended. On the contrary, cases where the input data used in the calculation of individual annual contributions is not correct or is subject to a change after the calculation was performed should not be considered errors in the calculation and should therefore be treated differently. In such cases, only the contributions of the entities whose data was not correct or was subject to a change should be amended.',\n",
       " 'Whereas, , In accordance with Article 3 of Council Regulation No 1 (5) the contribution notice and any further communications by the Board should be in the language of the Member State in which the recipient institution is established.',\n",
       " 'Whereas, , The payments of the annual contributions should be enforceable and interest on late payment should apply in the event of partial payment, non-payment or non-compliance with the conditions for payment specified in the contribution notice, in order to ensure the full and timely payment of the contributions.',\n",
       " 'Whereas, , The contributions of significant entities covered by the provisional system should be reassessed to take into account the amounts paid by them under that provisional system.',\n",
       " 'Any difference between the instalments paid on the basis of the provisional system and the contributions calculated in accordance with the final system should be settled in the calculation of the contributions to the administrative expenditures of the Board for the year following the end of the provisional period.',\n",
       " 'Whereas, , Since this Regulation introduces the final system of contributions to the administrative expenditures of the Board, the Regulation on the provisional system is no longer necessary and should be repealed.',\n",
       " 'HAS ADOPTED THIS REGULATION:',\n",
       " 'Article 1',\n",
       " 'Subject matter',\n",
       " 'This Regulation lays down rules to determine the final system for the calculation of the contributions to the administrative expenditures of the Single Resolution Board (‘the Board’) due by the entities referred to in Article 2 of Regulation (EU) No 806/2014.',\n",
       " 'This Regulation lays down rules to determine the way in which the contributions are to be paid.',\n",
       " 'This Regulation lays down rules to determine the registration, accounting, reporting and other rules necessary to ensure that the contributions are paid fully and in a timely manner.',\n",
       " 'This Regulation lays down rules to determine the methodology for the recalculation and adjustment of the contributions due for the provisional period.',\n",
       " 'Article 2',\n",
       " 'Definitions',\n",
       " 'For the purposes of this Regulation, the definitions set out in Regulation (EU) No 1163/2014 shall apply. The following definitions shall also apply ❮‘administrative expenditures of the Board’ means the expenditure of Part I of the budget of the Board, as referred to in Article 59(2) of Regulation (EU) No 806/2014 ‖ ‘annual contribution’ means the contribution to be collected by the Board for a given financial year in accordance with this Regulation in order to cover the administrative expenditures of the Board ‖ ‘contribution debtor’ means the fee debtor determined in accordance with Article 4 of Regulation (EU) No 1163/2014 for the purposes of collecting the supervisory fee and falling under the scope of Article 2 of Regulation (EU) No 806/2014 ‖ ‘provisional period’ means the period beginning on 19 August 2014 and ending on 31 December 2017❯',\n",
       " 'Article 3',\n",
       " 'Determination of total amount of annual contributions to be raised',\n",
       " 'The total amount of annual contributions to be raised for a given financial year shall be calculated on the basis of Part I of the budget adopted by the Board for that financial year in accordance with Article 61 of Regulation (EU) No 806/2014, adjusted by the result of the budget of the latest financial year for which the final accounts have been published in accordance with Article 63(7) of that Regulation.',\n",
       " 'The Board shall determine the total amount of annual contributions so that Part I of the budget of the Board is balanced.',\n",
       " 'Article 4',\n",
       " 'Allocation of total amount of annual contributions',\n",
       " '1.   The total amount to be raised in accordance with Article 3 shall be allocated as described in the following list ❮95 % to the following entities and groups ❬entities and groups referred to in Article 7(2) of Regulation (EU) No 806/2014 ‖ and/or entities and groups with regard to which the Board has decided to exercise powers under Regulation (EU) No 806/2014 pursuant to Article 7(4)(b) of that Regulation ‖ and/or entities and groups in relation to which participating Member States have decided in accordance with Article 7(5) of Regulation (EU) No 806/2014 that the Board exercise powers and responsibilities conferred to it by that Regulation❭ ‖ 5 % to entities and groups referred to in Article 7(3) of Regulation (EU) No 806/2014❯',\n",
       " '2.   Without prejudice to Article 7, the Board shall assign entities and groups to one of the two categories laid down in paragraph 1 based on the data which the ECB provides to the Board in accordance with Article 6(1) or Article 11, as applicable.',\n",
       " '3.   Where an entity falls under the scope of paragraph 1(a), all the entities that are part of the same group shall be assigned to the same category.',\n",
       " '4.   The Board shall report yearly to the Commission on the appropriateness of the allocation laid down in paragraph 1, in the light of the changing composition of the two categories of entities and groups.',\n",
       " 'Article 5',\n",
       " 'Calculation of the individual annual contributions',\n",
       " '1.   The Board shall calculate the individual annual contributions due for each financial year on the basis of the data received in accordance with Article 6 and the total amount of annual contributions as determined in accordance with Article 3.',\n",
       " '2.   For the purposes of calculating the individual annual contributions, the Board shall apply the provisions laid down in Article 10(1), (2) and (3) and Article 10(6)(a), (b) and (c) of Regulation (EU) No 1163/2014.',\n",
       " '3.   For the purpose of applying the provisions referred to in paragraph 2, , ‘annual supervisory fee’ means individual annual contribution.',\n",
       " '3.   For the purpose of applying the provisions referred to in paragraph 2, , ‘significant supervised entity’ or ‘significant supervised group’ means an entity or group as referred to in Article 4(1)(a).',\n",
       " '3.   For the purpose of applying the provisions referred to in paragraph 2, , ‘less significant supervised entity’ or ‘less significant supervised group’ means an entity or group as referred to in Article 4(1)(b).',\n",
       " '3.   For the purpose of applying the provisions referred to in paragraph 2, , ‘supervised entity’ or ‘supervised group’ means any entity or group.',\n",
       " '3.   For the purpose of applying the provisions referred to in paragraph 2, , ‘fee debtor’ means contribution debtor.',\n",
       " '4.   The annual contribution due by the entities referred to in Article 2 of Regulation (EU) No 806/2014 that are members of the same group shall be calculated as a single contribution.',\n",
       " '5.   Where the Board makes an error in the calculation of an individual annual contribution, it shall rectify the error by recalculating the individual annual contribution of each affected entity. The Board shall settle any difference between the individual annual contribution paid and the recalculated amount by increasing or decreasing the individual annual contribution calculated in the financial year following the recalculation.',\n",
       " 'However, no recalculation shall be performed where the Board becomes aware of an error more than 5 years after the end of the financial year in which the error occurred.',\n",
       " 'Article 6',\n",
       " 'Data necessary for the calculation of individual annual contributions',\n",
       " '1.   Each year, within 5 working days of the issuance of fee notices in accordance with Article 12(1) of Regulation (EU) No 1163/2014, and in any case no later than 31 December of the year for which the fee notices are issued, the ECB shall provide the Board with data on each contribution debtor as collected by the ECB in that year and used to determine the supervisory fees in accordance with Regulation (EU) No 1163/2014.',\n",
       " '2.   The data shall contain at least the following elements ❮the identity and contact details of each contribution debtor as determined in accordance with Article 4 of Regulation (EU) No 1163/2014 for the purpose of the supervisory fees ‖ the fee factors determined in accordance with Article 10 of Regulation (EU) No 1163/2014 ‖ whether a contribution debtor is significant in accordance with Article 6(4) of Regulation (EU) No 1024/2013 or is an entity or group in relation to which the ECB has decided in accordance with Article 6(5)(b) of Regulation (EU) No 1024/2013 to exercise directly all of the relevant powers ‖ any data that the ECB has determined in the absence of reporting from a contribution debtor, in accordance with Article 10(5) of Regulation (EU) No 1163/2014 ‖ the validity date underlying the fee calculation of each contribution debtor determining the duration the contribution debtor was subject to the supervisory fee and any change of status in accordance with Article 7(2) of Regulation (EU) No 1163/2014 in the given fee period❯',\n",
       " '3.   For the purposes of point (a) of paragraph 2, the identity and contact details of each contribution debtor shall include any personal data within the meaning of Regulation (EC) No 45/2001 (6) that is collected by the ECB for the purposes of carrying out its tasks under Regulation (EU) No 1163/2014 and that is necessary for the fulfilment of the tasks under this Regulation by the Board.',\n",
       " '4.   Where, for the purposes of this Regulation, the Board needs to identify whether an entity is part of the group that has nominated a given contribution debtor, the ECB, national resolution authorities and national competent authorities shall assist the Board with all relevant information.',\n",
       " '5.   In case the ECB issues additional invoices or recalculates the annual supervisory fee in accordance with Article 7 of Regulation (EU) No 1163/2014, the ECB shall communicate to the Board the new data within 5 days of the issuance of fee notices.',\n",
       " '6.   For the calculation of the individual annual contributions to be collected in a given financial year, the Board shall use the data collected by the ECB in the previous financial year in accordance with Regulation (EU) No 1163/2014 and provided to the Board in accordance with this Article or Article 11, as applicable.',\n",
       " '7.   Where the ECB, in a given financial year, has not provided the Board within the periods laid down in this Article with the data necessary for the calculation of the annual contributions, the Board may use the latest available data provided to it by the ECB for the purposes of that calculation.',\n",
       " '8.   In case no data provided by the ECB is available, the relevant national competent authority shall upon request provide the Board with the data at its disposal.',\n",
       " '9.   In case no data provided by the national competent authority is available, the contribution debtor shall upon request provide the Board with the necessary data within a deadline set by the Board. In the absence of a reply by the contribution debtor within the deadline set by the Board, the Board may determine the data on the basis of reasonable assumptions.',\n",
       " '10.   The Board shall use the data specified in this Article only for the purposes of and in accordance with this Regulation.',\n",
       " 'Article 7',\n",
       " 'Change in scope, status or other data',\n",
       " '1.   Where an entity or a group falls under the scope of Article 2 of Regulation (EU) No 806/2014 only for part of the financial year, its individual annual contribution for that financial year shall be calculated by reference to the number of full months during which it falls under the scope of that Article.',\n",
       " '2.   Where the status of an entity or a group changes between the categories specified in Article 4(1) during a financial year, its individual annual contribution for that financial year shall be calculated on the basis of the number of months for which the entity or a group fell under the respective category at the last day of the month.',\n",
       " '3.   Where other changes to the data of an entity or a group that were used to calculate its individual annual contribution for a financial year occur, the individual annual contribution of that entity or group for that financial year shall be calculated on the basis of the updated data.',\n",
       " '4.   Where a change as referred to in paragraphs 1 and 2 has been reported by the ECB or a change as referred to in paragraph 3 occurred, the Board shall recalculate only the individual annual contribution of that entity or group for the financial years concerned. Where changes as referred to in paragraph 1, 2 or 3 have occurred in relation to several entities or groups during the same financial year, the Board shall only take into account the changes concerning an individual entity or group for the purposes of recalculating the individual annual contribution of that entity or group.',\n",
       " '5.   Where the amount of an individual annual contribution paid is higher than the amount recalculated in accordance with paragraph 4, the Board shall refund the difference to the entity or group concerned. Where the amount of an individual annual contribution paid is lower than the amount recalculated in accordance with paragraph 4, the entity or group concerned shall pay the difference to the Board. For the purposes of refunding or collecting an amount due in accordance with this paragraph, the Board shall decrease or increase the individual annual contribution of the entity or group concerned in the financial year following the recalculation pursuant to paragraph 4.',\n",
       " '6.   The individual annual contributions of entities or groups that are not subject to changes as referred to in paragraph 1, 2 or 3 shall not be adjusted.',\n",
       " '7.   The Board shall apply the aggregate surplus or deficit resulting from all the adjustments made in accordance with paragraph 5 to the total amount of annual contributions to be determined in accordance with Article 3 for the financial year following the financial year in which the adjustments are applied.',\n",
       " '8.   In line with the principle of sound management of its budget, the Board shall take any decisions deemed necessary in order to implement the provisions laid down in this Article, including as regards the timing of the refunds by the Board and of the additional payments to be collected from the entities.',\n",
       " 'Article 8',\n",
       " 'Contribution notice, communications, payments and interest for late payment',\n",
       " '1.   A contribution notice shall be issued by the Board to the contribution debtors.',\n",
       " '2.   The Board shall notify the contribution notice through any of the following means ❮electronically or by other comparable means of communication ‖ by fax ‖ by express courier service ‖ by registered mail with a form for acknowledgement of receipt ‖ by service or delivery by hand❯',\n",
       " 'The contribution notice shall be valid without signature.',\n",
       " '3.   The contribution notice shall specify the amount of the annual contribution and the way in which the annual contribution shall be paid. It shall be duly reasoned with regard to the factual and legal aspects of the individual contribution decision.',\n",
       " '4.   The Board shall address any other communication with regard to the annual contribution, including any settlement decision in accordance with Article 10(8), to the contribution debtor.',\n",
       " '5.   The contribution shall be payable in euros.',\n",
       " \"6.   The contribution debtor shall pay the amount of the annual contribution within 35 calendar days of the issuance of the contribution notice. The contribution debtor shall comply with the requirements set out in the contribution notice with respect to the payment of the annual contribution. The date of payment shall be the date on which the Board's account is credited.\",\n",
       " '7.   The annual contribution due by the entities referred to in Article 2 of Regulation (EU) No 806/2014 that are members of the same group shall be collected from the contribution debtor of that group.',\n",
       " \"8.   Without prejudice to any other remedy available to the Board, in the event of partial payment, non-payment or non-compliance with the conditions for payment specified in the contribution notice, interest shall accrue on a daily basis on the outstanding amount of the annual contribution at an interest rate of the ECB's main refinancing rate plus 8 percentage points from the date on which the payment was due.\",\n",
       " '9.   In the event of any partial payment, non-payment or non-compliance with the conditions for payment specified in the contribution notice by the contribution debtor, the Board shall inform the national resolution authority of the participating Member State in which the contribution debtor is established.',\n",
       " 'Article 9',\n",
       " 'Enforcement',\n",
       " '1.   The payments of the annual contributions due and any interest for late payment pursuant to Article 8(8) shall be enforceable.',\n",
       " '2.   Enforcement shall be governed by the procedural rules applicable in the participating Member State in whose territory it is carried out.',\n",
       " '3.   The government of each participating Member State shall designate and notify to the Board and to the Court of Justice of the European Union an authority for the purposes of verifying the authenticity of individual contribution decisions.',\n",
       " '4.   An order for enforcement shall be appended to each individual contribution decision. The enforcement shall not be subject to any formality other than the verification of the authenticity of the decision by the authority designated pursuant to paragraph 3.',\n",
       " '5.   National resolution authorities shall assist the Board in the enforcement procedure governed by the applicable procedural rules in the participating Member State.',\n",
       " 'Article 10',\n",
       " 'Recalculation and settlement of contributions due for the provisional period',\n",
       " '1.   For the purposes of the recalculation and settlement of contributions due for the provisional period, the months of November and December 2014 shall be considered part of the financial year 2015.',\n",
       " '2.   The Board shall recalculate, in accordance with the provisions laid down in this Regulation, the amount of contributions due by each entity referred to in Article 2 of Regulation (EU) No 806/2014 to cover the administrative expenditures of the Board during the provisional period.',\n",
       " '3.   Without prejudice to Article 6(4), for the recalculation of the amount of contributions due by each entity in the financial years belonging to the provisional period, the Board shall use the data collected by the ECB in those financial years in accordance with Regulation (EU) No 1163/2014 and provided to the Board in accordance with Article 11.',\n",
       " '4.   Any difference between the instalments paid by significant entities on the basis of the provisional system laid down in Delegated Regulation (EU) No 1310/2014 and the contributions referred to in paragraph 2 shall be settled in the calculation of the annual contributions due for the financial year which follows the end of the provisional period. That settlement shall be made by decreasing or increasing the annual contributions due for that financial year.',\n",
       " '5.   Entities referred to in Article 2 of Regulation (EU) No 806/2014 for which the calculation and collection of contributions was deferred in the provisional period shall pay contributions calculated in accordance with paragraph 2 for the years belonging to the provisional period. Those contributions shall increase the annual contributions due for the financial year which follows the end of the provisional period.',\n",
       " \"6.   For the purposes of paragraph 4 ‘significant entities’ shall mean the entities that have been notified by the ECB, at the highest level of consolidation within the participating Member States, of the ECB's decision to consider them significant within the meaning of Article 6(4) of Regulation (EU) No 1024/2013 and in accordance with Article 147(1) of Regulation (EU) No 468/2014 (7), and which are mentioned in the list published on the ECB's website on 4 September 2014, but excluding those significant entities, which are subsidiaries of a group, that is already taken into account in this definition, and branches, which are established in participating Member States, of credit institutions established in non-participating Member States.\",\n",
       " '7.   Where the difference referred to in paragraph 4 or the contributions for the years belonging to the provisional period referred to in paragraph 5 are higher than the contributions due for the financial year which follows the end of the provisional period, the adjustment shall continue in the subsequent financial years.',\n",
       " '8.   Where two or more entities within a group are subject to settlements pursuant to paragraph 4 or 5, the Board may set off contributions due against reimbursements with respect to entities of that group.',\n",
       " 'Article 11',\n",
       " 'Data necessary for the purposes of recalculating the contributions for financial years belonging to the provisional period',\n",
       " 'Within 30 days of the entry into force of this Regulation, the ECB shall provide the Board with the data as specified in Article 6 and collected by the ECB in accordance with Regulation (EU) No 1163/2014 in financial years belonging to the provisional period.',\n",
       " 'Article 12',\n",
       " 'Outsourcing',\n",
       " '1.   The Board may decide on the full or partial outsourcing of specific tasks provided for in this Regulation.',\n",
       " '2.   The Board shall restrict any outsourcing to technical tasks which are related to the raising of contributions and do not involve the exercise of its powers as regards the determination of contributions.',\n",
       " '3.   Any mandate given to a service provider for the purposes of outsourcing tasks shall clearly state the duration of the mandate and the specific tasks that are outsourced and establish a framework for regular reporting by the service provider to the Board.',\n",
       " \"4.   Any contract between the Board and a service provider for the purposes of outsourcing tasks in accordance with paragraph 1 shall include clauses governing the Board's cancellation rights, rights relating to further subcontracting and non-performance by the service provider.\",\n",
       " '5.   Where the Board fully or partially outsources tasks in accordance with paragraph 1, it shall remain fully responsible for discharging all of its obligations under Regulation (EU) No 806/2014 and this Regulation.',\n",
       " \"6.   Where the Board fully or partially outsources tasks in accordance with paragraph 1, it shall ensure at all times that any contract concluded for the purposes of the outsourcing does not provide for the delegation of the Board's responsibility.\",\n",
       " \"6.   Where the Board fully or partially outsources tasks in accordance with paragraph 1, it shall ensure at all times that any contract concluded for the purposes of the outsourcing does not provide for an exclusion of the Board's accountability under Article 45 and Article 46(1) of Regulation (EU) No 806/2014, or of its independence under Article 47 of that Regulation.\",\n",
       " '6.   Where the Board fully or partially outsources tasks in accordance with paragraph 1, it shall ensure at all times that the outsourcing does not result in depriving the Board from the necessary systems and controls to manage the risks it faces.',\n",
       " '6.   Where the Board fully or partially outsources tasks in accordance with paragraph 1, it shall ensure at all times that the service provider implements business continuity arrangements equivalent to those of the Board.',\n",
       " '6.   Where the Board fully or partially outsources tasks in accordance with paragraph 1, it shall ensure at all times that the Board retains the necessary expertise and resources to evaluate the quality of the services provided and the organisational adequacy of the service provider; the Board supervises the outsourced functions effectively and manages the risks associated with the outsourcing on an ongoing basis.',\n",
       " '6.   Where the Board fully or partially outsources tasks in accordance with paragraph 1, it shall ensure at all times that the Board has direct access to the relevant information allowing it to exercise the necessary control on the outsourced tasks.',\n",
       " \"7.   Where the Board fully or partially outsources tasks in accordance with paragraph 1, it shall ensure that the service provider is obliged to comply with the Board's internal legal requirements and principles concerning security and confidentiality. Any confidential information relating to the Board and accessible to the service provider shall be used only to the extent necessary for the fulfilment of the mandate conferred by the Board.\",\n",
       " '8.   Before taking any decision on outsourcing, the Board shall obtain the consent of the ECB to share the data provided by the ECB with a service provider, in accordance with applicable confidentiality provisions.',\n",
       " 'Article 13',\n",
       " 'Assistance by national resolution authorities',\n",
       " 'The Board may request the national resolution authorities to assist in the process of raising annual contributions where such request is justified by the circumstances of the individual case.',\n",
       " 'Article 14',\n",
       " 'Repeal',\n",
       " 'Delegated Regulation (EU) No 1310/2014 is repealed.',\n",
       " 'Article 15',\n",
       " 'Entry into force',\n",
       " 'This Regulation shall enter into force on the twentieth day following that of its publication in the Official Journal of the European Union.',\n",
       " 'This Regulation shall be binding in its entirety and directly applicable in all Member States.',\n",
       " 'Done at Brussels, 14 September 2017.',\n",
       " 'For the Commission',\n",
       " 'The President',\n",
       " 'Jean-Claude JUNCKER',\n",
       " '(1)  OJ L 225, 30.7.2014, p. 1.',\n",
       " '(2)  Commission Delegated Regulation (EU) No 1310/2014 of 8 October 2014 on the provisional system of instalments on contributions to cover the administrative expenditures of the Single Resolution Board during the provisional period (OJ L 354, 11.12.2014, p. 1).',\n",
       " '(3)  Regulation (EU) No 1163/2014 of the European Central Bank of 22 October 2014 on supervisory fees (ECB/2014/41) (OJ L 311, 31.10.2014, p. 23).',\n",
       " '(4)  Council Regulation (EU) No 1024/2013 of 15 October 2013 conferring specific tasks on the European Central Bank concerning policies relating to the prudential supervision of credit institutions (OJ L 287, 29.10.2013, p. 63).',\n",
       " '(5)  Council Regulation No 1 determining the languages to be used by the European Economic Community (OJ 17, 6.10.1958, p. 385).',\n",
       " '(6)  Regulation (EC) No 45/2001 of the European Parliament and of the Council of 18 December 2000 on the protection of individuals with regard to the processing of personal data by the Community institutions and bodies and on the free movement of such data (OJ L 8, 12.1.2001, p. 1).',\n",
       " '(7)  Regulation (EU) No 468/2014 of the European Central Bank of 16 April 2014 establishing the framework for cooperation within the Single Supervisory Mechanism between the European Central Bank and national competent authorities and with national designated authorities (SSM Framework Regulation) (ECB/2014/17) (OJ L 141, 14.5.2014, p. 1).']"
      ]
     },
     "execution_count": 60,
     "metadata": {},
     "output_type": "execute_result"
    }
   ],
   "source": [
    "sentences"
   ]
  },
  {
   "cell_type": "code",
   "execution_count": null,
   "metadata": {
    "scrolled": true
   },
   "outputs": [],
   "source": []
  },
  {
   "cell_type": "code",
   "execution_count": null,
   "metadata": {},
   "outputs": [],
   "source": []
  },
  {
   "cell_type": "code",
   "execution_count": null,
   "metadata": {},
   "outputs": [],
   "source": []
  },
  {
   "cell_type": "code",
   "execution_count": 52,
   "metadata": {},
   "outputs": [
    {
     "data": {
      "text/plain": [
       "True"
      ]
     },
     "execution_count": 52,
     "metadata": {},
     "output_type": "execute_result"
    }
   ],
   "source": [
    "isinstance( eval( offset ) , tuple )"
   ]
  },
  {
   "cell_type": "code",
   "execution_count": null,
   "metadata": {},
   "outputs": [],
   "source": []
  },
  {
   "cell_type": "code",
   "execution_count": null,
   "metadata": {},
   "outputs": [],
   "source": []
  },
  {
   "cell_type": "code",
   "execution_count": 41,
   "metadata": {},
   "outputs": [
    {
     "data": {
      "text/plain": [
       "'184'"
      ]
     },
     "execution_count": 41,
     "metadata": {},
     "output_type": "execute_result"
    }
   ],
   "source": [
    "offsets[0].split( \",\" )[0].strip(\" (\")"
   ]
  },
  {
   "cell_type": "code",
   "execution_count": 42,
   "metadata": {},
   "outputs": [
    {
     "data": {
      "text/plain": [
       "'197'"
      ]
     },
     "execution_count": 42,
     "metadata": {},
     "output_type": "execute_result"
    }
   ],
   "source": [
    "offsets[0].split( \",\" )[1].strip(\" )\")"
   ]
  },
  {
   "cell_type": "code",
   "execution_count": 48,
   "metadata": {},
   "outputs": [
    {
     "data": {
      "text/plain": [
       "184"
      ]
     },
     "execution_count": 48,
     "metadata": {},
     "output_type": "execute_result"
    }
   ],
   "source": [
    "eval( offsets[0] )[0]"
   ]
  },
  {
   "cell_type": "code",
   "execution_count": 28,
   "metadata": {},
   "outputs": [
    {
     "data": {
      "text/plain": [
       "''"
      ]
     },
     "execution_count": 28,
     "metadata": {},
     "output_type": "execute_result"
    }
   ],
   "source": [
    "test=\"\"\n",
    "\"|\".join( test.split( \"|\" )[:-1])"
   ]
  },
  {
   "cell_type": "code",
   "execution_count": 18,
   "metadata": {},
   "outputs": [
    {
     "data": {
      "text/plain": [
       "'some| some'"
      ]
     },
     "execution_count": 18,
     "metadata": {},
     "output_type": "execute_result"
    }
   ],
   "source": [
    "test=\"some| some|(12,22)\"\n",
    "\"|\".join( test.split( \"|\" )[:-1])"
   ]
  },
  {
   "cell_type": "code",
   "execution_count": 22,
   "metadata": {},
   "outputs": [
    {
     "data": {
      "text/plain": [
       "'|some| some'"
      ]
     },
     "execution_count": 22,
     "metadata": {},
     "output_type": "execute_result"
    }
   ],
   "source": [
    "test=\"|some| some|(12,22)\"\n",
    "\"|\".join( test.split( \"|\" )[:-1])"
   ]
  },
  {
   "cell_type": "code",
   "execution_count": null,
   "metadata": {},
   "outputs": [],
   "source": []
  },
  {
   "cell_type": "code",
   "execution_count": 8,
   "metadata": {
    "scrolled": true
   },
   "outputs": [
    {
     "data": {
      "text/plain": [
       "['19.12.2017|(184, 197)',\n",
       " 'EN|(242, 244)',\n",
       " 'Official Journal of the European Union|(289, 327)',\n",
       " 'L 337/6|(372, 379)',\n",
       " 'COMMISSION DELEGATED REGULATION (EU) 2017/2361|(427, 473)',\n",
       " 'of 14 September 2017|(478, 498)',\n",
       " 'on the final system of contributions to the administrative expenditures of the Single Resolution Board|(503, 605)',\n",
       " 'THE EUROPEAN COMMISSION,|(610, 634)',\n",
       " 'Having regard to the Treaty on the Functioning of the European Union,|(639, 708)',\n",
       " 'Having regard to Regulation (EU) No 806/2014 of the European Parliament and of the Council of 15 July 2014 establishing uniform rules and a uniform procedure for the resolution of credit institutions and certain investment firms in the framework of a Single Resolution Mechanism and a Single Resolution Fund and amending Regulation (EU) No 1093/2010 (1), and in particular Article 65(5) thereof,|(713, 1108)',\n",
       " 'Whereas, , The provisional system of instalments on contributions to the administrative expenditures of the Board, laid down in Commission Delegated Regulation (EU) No 1310/2014 (2), was based on a simplified methodology and covered only a limited subset of entities, namely the entities which are considered significant by the European Central Bank (ECB) (‘significant entities’). That provisional system was introduced in order to ensure sufficient funding for the establishment of the Board while minimising the administrative burden for the Board, which at the time had only a limited structure and operational capacity. The provisional system was intended to apply until the Commission would adopt a final system for the determination and raising of the contributions to administrative expenditures.|(1113, 10213)',\n",
       " 'Whereas, , As the Board has acquired a more stable structure and operational capacity, it is now appropriate to establish the final system of annual contributions to the administrative expenditures of the Board.|(1113, 10213)',\n",
       " 'A final system should replace the provisional system laid down in Delegated Regulation (EU) No 1310/2014.|(1113, 10213)',\n",
       " 'Whereas, , Such a final system should provide for the determination and raising of administrative contributions not only for significant entities, but for all entities that are subject to the Single Resolution Mechanism. The contributions should be calculated at the highest level of consolidation of those entities within the participating Member States, since all subsidiaries of a group inside the perimeter of consolidation fall within the scope of the decision-making powers of the Board when adopting group resolution plans, carrying out the assessment of resolvability of groups and adopting resolution decisions for groups. The exercise of those tasks implies expenditures for the Board for collecting and analysing information and data related to each subsidiary included in the perimeter of consolidation. Since those are expenditures related to the services provided by the Board to the entities that are subject to the Single Resolution Mechanism, they should be paid by those entities and therefore the administrative contributions should be calculated on the basis of their consolidated accounts at the highest level of consolidation within the participating Member States and only one contribution per group should be calculated.|(1113, 10213)',\n",
       " 'Whereas, , Pursuant to Article 65(3) of Regulation (EU) No 806/2014 the Board is to determine and raise contributions as well as to ensure that they are fully and timely paid.|(1113, 10213)',\n",
       " 'In order to enable the Board to meet those requirements, an efficient system for raising the administrative contributions from the institutions and entities referred to in Article 2 of Regulation (EU) No 806/2014 should be ensured. Those institutions and entities are already subject to numerous reporting obligations set out in Union legislation. More specifically, pursuant to Regulation (EU) No 1163/2014 of the European Central Bank (3), the ECB collects data on total assets and total risk exposure for the purposes of calculating supervisory fees. The data collected in accordance with Regulation (EU) No 1163/2014 can be meaningfully used for the calculation of the administrative contributions to the Board. Pursuant to Article 30(2) of Regulation (EU) No 806/2014, the Board and the ECB are to cooperate closely in the exercise of their respective responsibilities under that Regulation and, in particular, provide each other with all the information necessary for the performance of their tasks.|(1113, 10213)',\n",
       " 'It is more efficient to request the ECB to transmit data it received and verified in the exercise of its tasks and powers conferred on it by Council Regulation (EU) No 1024/2013 (4) to the Board, than to duplicate the reporting burden for the institutions and entities concerned. Data sharing between the ECB and the Board would also allow avoiding duplication of the data verification process by the Board and builds on the obligation of the Board and the ECB to cooperate closely in the exercise of their respective responsibilities under Regulation (EU) No 806/2014. Any duplication of the data reporting and verification processes would inevitably require more time for the calculation and raising of contributions and would lead to a less efficient system. It follows that, as a part of the cooperation obligation, the ECB should be required to transmit to the Board the data received from the institutions and entities concerned for the purpose of calculating contributions to the Board. The Board should rely to the greatest extent possible on the data collected by the ECB.|(1113, 10213)',\n",
       " 'The Board should have access to the aforementioned data to the extent necessary for the fulfilment of its tasks under this Regulation.|(1113, 10213)',\n",
       " \"Whereas, , The allocation of contributions should reflect the difference in the workload and related expenditures for the entities under the Board's direct responsibility as opposed to those under the responsibility of national resolution authorities. Therefore, this Regulation should determine how the contributions should be split between those two groups of entities. Within those two groups, the final system established by this Regulation should require entities to contribute in proportion to the resource requirements that they individually place on the Board, as approximated by observable data.|(1113, 10213)\",\n",
       " 'Whereas, , In order to provide certainty, both to the Board and to the entities concerned, on how individual annual contributions are to be adjusted in the case of an error in the calculation or changes to the underlying data, this Regulation should lay down specific rules in that respect.|(1113, 10213)',\n",
       " 'Where the Board makes an error in the calculation of the annual contribution, it should be required to rectify that error. Such a requirement should apply as regards errors that occur because the Board applies incorrectly the methodology for calculating the individual annual contributions. In such cases, all contributions should be amended. On the contrary, cases where the input data used in the calculation of individual annual contributions is not correct or is subject to a change after the calculation was performed should not be considered errors in the calculation and should therefore be treated differently. In such cases, only the contributions of the entities whose data was not correct or was subject to a change should be amended.|(1113, 10213)',\n",
       " 'Whereas, , In accordance with Article 3 of Council Regulation No 1 (5) the contribution notice and any further communications by the Board should be in the language of the Member State in which the recipient institution is established.|(1113, 10213)',\n",
       " 'Whereas, , The payments of the annual contributions should be enforceable and interest on late payment should apply in the event of partial payment, non-payment or non-compliance with the conditions for payment specified in the contribution notice, in order to ensure the full and timely payment of the contributions.|(1113, 10213)',\n",
       " 'Whereas, , The contributions of significant entities covered by the provisional system should be reassessed to take into account the amounts paid by them under that provisional system.|(1113, 10213)',\n",
       " 'Any difference between the instalments paid on the basis of the provisional system and the contributions calculated in accordance with the final system should be settled in the calculation of the contributions to the administrative expenditures of the Board for the year following the end of the provisional period.|(1113, 10213)',\n",
       " 'Whereas, , Since this Regulation introduces the final system of contributions to the administrative expenditures of the Board, the Regulation on the provisional system is no longer necessary and should be repealed.|(1113, 10213)',\n",
       " 'HAS ADOPTED THIS REGULATION:|(10256, 10284)',\n",
       " 'Article 1|(10289, 10298)',\n",
       " 'Subject matter|(10303, 10317)',\n",
       " 'This Regulation lays down rules to determine the final system for the calculation of the contributions to the administrative expenditures of the Single Resolution Board (‘the Board’) due by the entities referred to in Article 2 of Regulation (EU) No 806/2014.|(10322, 11463)',\n",
       " 'This Regulation lays down rules to determine the way in which the contributions are to be paid.|(10322, 11463)',\n",
       " 'This Regulation lays down rules to determine the registration, accounting, reporting and other rules necessary to ensure that the contributions are paid fully and in a timely manner.|(10322, 11463)',\n",
       " 'This Regulation lays down rules to determine the methodology for the recalculation and adjustment of the contributions due for the provisional period.|(10322, 11463)',\n",
       " 'Article 2|(11506, 11515)',\n",
       " 'Definitions|(11520, 11531)',\n",
       " 'For the purposes of this Regulation, the definitions set out in Regulation (EU) No 1163/2014 shall apply. The following definitions shall also apply ❮‘administrative expenditures of the Board’ means the expenditure of Part I of the budget of the Board, as referred to in Article 59(2) of Regulation (EU) No 806/2014 ‖ ‘annual contribution’ means the contribution to be collected by the Board for a given financial year in accordance with this Regulation in order to cover the administrative expenditures of the Board ‖ ‘contribution debtor’ means the fee debtor determined in accordance with Article 4 of Regulation (EU) No 1163/2014 for the purposes of collecting the supervisory fee and falling under the scope of Article 2 of Regulation (EU) No 806/2014 ‖ ‘provisional period’ means the period beginning on 19 August 2014 and ending on 31 December 2017❯|(11536, 12975)',\n",
       " 'Article 3|(13018, 13027)',\n",
       " 'Determination of total amount of annual contributions to be raised|(13032, 13098)',\n",
       " 'The total amount of annual contributions to be raised for a given financial year shall be calculated on the basis of Part I of the budget adopted by the Board for that financial year in accordance with Article 61 of Regulation (EU) No 806/2014, adjusted by the result of the budget of the latest financial year for which the final accounts have been published in accordance with Article 63(7) of that Regulation.|(13103, 13515)',\n",
       " 'The Board shall determine the total amount of annual contributions so that Part I of the budget of the Board is balanced.|(13520, 13641)',\n",
       " 'Article 4|(13646, 13655)',\n",
       " 'Allocation of total amount of annual contributions|(13660, 13710)',\n",
       " '1.   The total amount to be raised in accordance with Article 3 shall be allocated as described in the following list ❮95 % to the following entities and groups ❬entities and groups referred to in Article 7(2) of Regulation (EU) No 806/2014 ‖ and/or entities and groups with regard to which the Board has decided to exercise powers under Regulation (EU) No 806/2014 pursuant to Article 7(4)(b) of that Regulation ‖ and/or entities and groups in relation to which participating Member States have decided in accordance with Article 7(5) of Regulation (EU) No 806/2014 that the Board exercise powers and responsibilities conferred to it by that Regulation❭ ‖ 5 % to entities and groups referred to in Article 7(3) of Regulation (EU) No 806/2014❯|(13715, 15665)',\n",
       " '2.   Without prejudice to Article 7, the Board shall assign entities and groups to one of the two categories laid down in paragraph 1 based on the data which the ECB provides to the Board in accordance with Article 6(1) or Article 11, as applicable.|(15708, 15957)',\n",
       " '3.   Where an entity falls under the scope of paragraph 1(a), all the entities that are part of the same group shall be assigned to the same category.|(15962, 16112)',\n",
       " '4.   The Board shall report yearly to the Commission on the appropriateness of the allocation laid down in paragraph 1, in the light of the changing composition of the two categories of entities and groups.|(16117, 16323)',\n",
       " 'Article 5|(16328, 16337)',\n",
       " 'Calculation of the individual annual contributions|(16342, 16392)',\n",
       " '1.   The Board shall calculate the individual annual contributions due for each financial year on the basis of the data received in accordance with Article 6 and the total amount of annual contributions as determined in accordance with Article 3.|(16397, 16643)',\n",
       " '2.   For the purposes of calculating the individual annual contributions, the Board shall apply the provisions laid down in Article 10(1), (2) and (3) and Article 10(6)(a), (b) and (c) of Regulation (EU) No 1163/2014.|(16648, 16865)',\n",
       " '3.   For the purpose of applying the provisions referred to in paragraph 2, , ‘annual supervisory fee’ means individual annual contribution.|(16870, 18121)',\n",
       " '3.   For the purpose of applying the provisions referred to in paragraph 2, , ‘significant supervised entity’ or ‘significant supervised group’ means an entity or group as referred to in Article 4(1)(a).|(16870, 18121)',\n",
       " '3.   For the purpose of applying the provisions referred to in paragraph 2, , ‘less significant supervised entity’ or ‘less significant supervised group’ means an entity or group as referred to in Article 4(1)(b).|(16870, 18121)',\n",
       " '3.   For the purpose of applying the provisions referred to in paragraph 2, , ‘supervised entity’ or ‘supervised group’ means any entity or group.|(16870, 18121)',\n",
       " '3.   For the purpose of applying the provisions referred to in paragraph 2, , ‘fee debtor’ means contribution debtor.|(16870, 18121)',\n",
       " '4.   The annual contribution due by the entities referred to in Article 2 of Regulation (EU) No 806/2014 that are members of the same group shall be calculated as a single contribution.|(18164, 18349)',\n",
       " '5.   Where the Board makes an error in the calculation of an individual annual contribution, it shall rectify the error by recalculating the individual annual contribution of each affected entity. The Board shall settle any difference between the individual annual contribution paid and the recalculated amount by increasing or decreasing the individual annual contribution calculated in the financial year following the recalculation.|(18354, 18789)',\n",
       " 'However, no recalculation shall be performed where the Board becomes aware of an error more than 5 years after the end of the financial year in which the error occurred.|(18794, 18963)',\n",
       " 'Article 6|(18968, 18977)',\n",
       " 'Data necessary for the calculation of individual annual contributions|(18982, 19051)',\n",
       " '1.   Each year, within 5 working days of the issuance of fee notices in accordance with Article 12(1) of Regulation (EU) No 1163/2014, and in any case no later than 31 December of the year for which the fee notices are issued, the ECB shall provide the Board with data on each contribution debtor as collected by the ECB in that year and used to determine the supervisory fees in accordance with Regulation (EU) No 1163/2014.|(19056, 19481)',\n",
       " '2.   The data shall contain at least the following elements ❮the identity and contact details of each contribution debtor as determined in accordance with Article 4 of Regulation (EU) No 1163/2014 for the purpose of the supervisory fees ‖ the fee factors determined in accordance with Article 10 of Regulation (EU) No 1163/2014 ‖ whether a contribution debtor is significant in accordance with Article 6(4) of Regulation (EU) No 1024/2013 or is an entity or group in relation to which the ECB has decided in accordance with Article 6(5)(b) of Regulation (EU) No 1024/2013 to exercise directly all of the relevant powers ‖ any data that the ECB has determined in the absence of reporting from a contribution debtor, in accordance with Article 10(5) of Regulation (EU) No 1163/2014 ‖ the validity date underlying the fee calculation of each contribution debtor determining the duration the contribution debtor was subject to the supervisory fee and any change of status in accordance with Article 7(2) of Regulation (EU) No 1163/2014 in the given fee period❯|(19486, 21280)',\n",
       " '3.   For the purposes of point (a) of paragraph 2, the identity and contact details of each contribution debtor shall include any personal data within the meaning of Regulation (EC) No 45/2001 (6) that is collected by the ECB for the purposes of carrying out its tasks under Regulation (EU) No 1163/2014 and that is necessary for the fulfilment of the tasks under this Regulation by the Board.|(21323, 21716)',\n",
       " '4.   Where, for the purposes of this Regulation, the Board needs to identify whether an entity is part of the group that has nominated a given contribution debtor, the ECB, national resolution authorities and national competent authorities shall assist the Board with all relevant information.|(21721, 22014)',\n",
       " '5.   In case the ECB issues additional invoices or recalculates the annual supervisory fee in accordance with Article 7 of Regulation (EU) No 1163/2014, the ECB shall communicate to the Board the new data within 5 days of the issuance of fee notices.|(22019, 22269)',\n",
       " '6.   For the calculation of the individual annual contributions to be collected in a given financial year, the Board shall use the data collected by the ECB in the previous financial year in accordance with Regulation (EU) No 1163/2014 and provided to the Board in accordance with this Article or Article 11, as applicable.|(22274, 22597)',\n",
       " '7.   Where the ECB, in a given financial year, has not provided the Board within the periods laid down in this Article with the data necessary for the calculation of the annual contributions, the Board may use the latest available data provided to it by the ECB for the purposes of that calculation.|(22602, 22901)',\n",
       " '8.   In case no data provided by the ECB is available, the relevant national competent authority shall upon request provide the Board with the data at its disposal.|(22906, 23070)',\n",
       " '9.   In case no data provided by the national competent authority is available, the contribution debtor shall upon request provide the Board with the necessary data within a deadline set by the Board. In the absence of a reply by the contribution debtor within the deadline set by the Board, the Board may determine the data on the basis of reasonable assumptions.|(23075, 23439)',\n",
       " '10.   The Board shall use the data specified in this Article only for the purposes of and in accordance with this Regulation.|(23444, 23569)',\n",
       " 'Article 7|(23574, 23583)',\n",
       " 'Change in scope, status or other data|(23588, 23625)',\n",
       " '1.   Where an entity or a group falls under the scope of Article 2 of Regulation (EU) No 806/2014 only for part of the financial year, its individual annual contribution for that financial year shall be calculated by reference to the number of full months during which it falls under the scope of that Article.|(23630, 23940)',\n",
       " '2.   Where the status of an entity or a group changes between the categories specified in Article 4(1) during a financial year, its individual annual contribution for that financial year shall be calculated on the basis of the number of months for which the entity or a group fell under the respective category at the last day of the month.|(23945, 24285)',\n",
       " '3.   Where other changes to the data of an entity or a group that were used to calculate its individual annual contribution for a financial year occur, the individual annual contribution of that entity or group for that financial year shall be calculated on the basis of the updated data.|(24290, 24578)',\n",
       " '4.   Where a change as referred to in paragraphs 1 and 2 has been reported by the ECB or a change as referred to in paragraph 3 occurred, the Board shall recalculate only the individual annual contribution of that entity or group for the financial years concerned. Where changes as referred to in paragraph 1, 2 or 3 have occurred in relation to several entities or groups during the same financial year, the Board shall only take into account the changes concerning an individual entity or group for the purposes of recalculating the individual annual contribution of that entity or group.|(24583, 25173)',\n",
       " '5.   Where the amount of an individual annual contribution paid is higher than the amount recalculated in accordance with paragraph 4, the Board shall refund the difference to the entity or group concerned. Where the amount of an individual annual contribution paid is lower than the amount recalculated in accordance with paragraph 4, the entity or group concerned shall pay the difference to the Board. For the purposes of refunding or collecting an amount due in accordance with this paragraph, the Board shall decrease or increase the individual annual contribution of the entity or group concerned in the financial year following the recalculation pursuant to paragraph 4.|(25178, 25855)',\n",
       " '6.   The individual annual contributions of entities or groups that are not subject to changes as referred to in paragraph 1, 2 or 3 shall not be adjusted.|(25860, 26015)',\n",
       " '7.   The Board shall apply the aggregate surplus or deficit resulting from all the adjustments made in accordance with paragraph 5 to the total amount of annual contributions to be determined in accordance with Article 3 for the financial year following the financial year in which the adjustments are applied.|(26020, 26330)',\n",
       " '8.   In line with the principle of sound management of its budget, the Board shall take any decisions deemed necessary in order to implement the provisions laid down in this Article, including as regards the timing of the refunds by the Board and of the additional payments to be collected from the entities.|(26335, 26643)',\n",
       " 'Article 8|(26648, 26657)',\n",
       " 'Contribution notice, communications, payments and interest for late payment|(26662, 26737)',\n",
       " '1.   A contribution notice shall be issued by the Board to the contribution debtors.|(26742, 26826)',\n",
       " '2.   The Board shall notify the contribution notice through any of the following means ❮electronically or by other comparable means of communication ‖ by fax ‖ by express courier service ‖ by registered mail with a form for acknowledgement of receipt ‖ by service or delivery by hand❯|(26831, 27853)',\n",
       " 'The contribution notice shall be valid without signature.|(27896, 27953)',\n",
       " '3.   The contribution notice shall specify the amount of the annual contribution and the way in which the annual contribution shall be paid. It shall be duly reasoned with regard to the factual and legal aspects of the individual contribution decision.|(27958, 28210)',\n",
       " '4.   The Board shall address any other communication with regard to the annual contribution, including any settlement decision in accordance with Article 10(8), to the contribution debtor.|(28215, 28403)',\n",
       " '5.   The contribution shall be payable in euros.|(28408, 28456)',\n",
       " \"6.   The contribution debtor shall pay the amount of the annual contribution within 35 calendar days of the issuance of the contribution notice. The contribution debtor shall comply with the requirements set out in the contribution notice with respect to the payment of the annual contribution. The date of payment shall be the date on which the Board's account is credited.|(28461, 28835)\",\n",
       " '7.   The annual contribution due by the entities referred to in Article 2 of Regulation (EU) No 806/2014 that are members of the same group shall be collected from the contribution debtor of that group.|(28840, 29042)',\n",
       " \"8.   Without prejudice to any other remedy available to the Board, in the event of partial payment, non-payment or non-compliance with the conditions for payment specified in the contribution notice, interest shall accrue on a daily basis on the outstanding amount of the annual contribution at an interest rate of the ECB's main refinancing rate plus 8 percentage points from the date on which the payment was due.|(29047, 29462)\",\n",
       " '9.   In the event of any partial payment, non-payment or non-compliance with the conditions for payment specified in the contribution notice by the contribution debtor, the Board shall inform the national resolution authority of the participating Member State in which the contribution debtor is established.|(29467, 29775)',\n",
       " 'Article 9|(29780, 29789)',\n",
       " 'Enforcement|(29794, 29805)',\n",
       " '1.   The payments of the annual contributions due and any interest for late payment pursuant to Article 8(8) shall be enforceable.|(29810, 29940)',\n",
       " '2.   Enforcement shall be governed by the procedural rules applicable in the participating Member State in whose territory it is carried out.|(29945, 30086)',\n",
       " '3.   The government of each participating Member State shall designate and notify to the Board and to the Court of Justice of the European Union an authority for the purposes of verifying the authenticity of individual contribution decisions.|(30091, 30333)',\n",
       " '4.   An order for enforcement shall be appended to each individual contribution decision. The enforcement shall not be subject to any formality other than the verification of the authenticity of the decision by the authority designated pursuant to paragraph 3.|(30338, 30598)',\n",
       " '5.   National resolution authorities shall assist the Board in the enforcement procedure governed by the applicable procedural rules in the participating Member State.|(30603, 30770)',\n",
       " 'Article 10|(30775, 30785)',\n",
       " 'Recalculation and settlement of contributions due for the provisional period|(30790, 30866)',\n",
       " '1.   For the purposes of the recalculation and settlement of contributions due for the provisional period, the months of November and December 2014 shall be considered part of the financial year 2015.|(30871, 31071)',\n",
       " '2.   The Board shall recalculate, in accordance with the provisions laid down in this Regulation, the amount of contributions due by each entity referred to in Article 2 of Regulation (EU) No 806/2014 to cover the administrative expenditures of the Board during the provisional period.|(31076, 31361)',\n",
       " '3.   Without prejudice to Article 6(4), for the recalculation of the amount of contributions due by each entity in the financial years belonging to the provisional period, the Board shall use the data collected by the ECB in those financial years in accordance with Regulation (EU) No 1163/2014 and provided to the Board in accordance with Article 11.|(31366, 31717)',\n",
       " '4.   Any difference between the instalments paid by significant entities on the basis of the provisional system laid down in Delegated Regulation (EU) No 1310/2014 and the contributions referred to in paragraph 2 shall be settled in the calculation of the annual contributions due for the financial year which follows the end of the provisional period. That settlement shall be made by decreasing or increasing the annual contributions due for that financial year.|(31722, 32186)',\n",
       " '5.   Entities referred to in Article 2 of Regulation (EU) No 806/2014 for which the calculation and collection of contributions was deferred in the provisional period shall pay contributions calculated in accordance with paragraph 2 for the years belonging to the provisional period. Those contributions shall increase the annual contributions due for the financial year which follows the end of the provisional period.|(32191, 32610)',\n",
       " \"6.   For the purposes of paragraph 4 ‘significant entities’ shall mean the entities that have been notified by the ECB, at the highest level of consolidation within the participating Member States, of the ECB's decision to consider them significant within the meaning of Article 6(4) of Regulation (EU) No 1024/2013 and in accordance with Article 147(1) of Regulation (EU) No 468/2014 (7), and which are mentioned in the list published on the ECB's website on 4 September 2014, but excluding those significant entities, which are subsidiaries of a group, that is already taken into account in this definition, and branches, which are established in participating Member States, of credit institutions established in non-participating Member States.|(32615, 33363)\",\n",
       " '7.   Where the difference referred to in paragraph 4 or the contributions for the years belonging to the provisional period referred to in paragraph 5 are higher than the contributions due for the financial year which follows the end of the provisional period, the adjustment shall continue in the subsequent financial years.|(33368, 33693)',\n",
       " '8.   Where two or more entities within a group are subject to settlements pursuant to paragraph 4 or 5, the Board may set off contributions due against reimbursements with respect to entities of that group.|(33698, 33904)',\n",
       " 'Article 11|(33909, 33919)',\n",
       " 'Data necessary for the purposes of recalculating the contributions for financial years belonging to the provisional period|(33924, 34046)',\n",
       " 'Within 30 days of the entry into force of this Regulation, the ECB shall provide the Board with the data as specified in Article 6 and collected by the ECB in accordance with Regulation (EU) No 1163/2014 in financial years belonging to the provisional period.|(34051, 34310)',\n",
       " 'Article 12|(34315, 34325)',\n",
       " 'Outsourcing|(34330, 34341)',\n",
       " '1.   The Board may decide on the full or partial outsourcing of specific tasks provided for in this Regulation.|(34346, 34457)',\n",
       " '2.   The Board shall restrict any outsourcing to technical tasks which are related to the raising of contributions and do not involve the exercise of its powers as regards the determination of contributions.|(34462, 34669)',\n",
       " '3.   Any mandate given to a service provider for the purposes of outsourcing tasks shall clearly state the duration of the mandate and the specific tasks that are outsourced and establish a framework for regular reporting by the service provider to the Board.|(34674, 34933)',\n",
       " \"4.   Any contract between the Board and a service provider for the purposes of outsourcing tasks in accordance with paragraph 1 shall include clauses governing the Board's cancellation rights, rights relating to further subcontracting and non-performance by the service provider.|(34938, 35217)\",\n",
       " '5.   Where the Board fully or partially outsources tasks in accordance with paragraph 1, it shall remain fully responsible for discharging all of its obligations under Regulation (EU) No 806/2014 and this Regulation.|(35222, 35438)',\n",
       " \"6.   Where the Board fully or partially outsources tasks in accordance with paragraph 1, it shall ensure at all times that any contract concluded for the purposes of the outsourcing does not provide for the delegation of the Board's responsibility.|(35443, 37486)\",\n",
       " \"6.   Where the Board fully or partially outsources tasks in accordance with paragraph 1, it shall ensure at all times that any contract concluded for the purposes of the outsourcing does not provide for an exclusion of the Board's accountability under Article 45 and Article 46(1) of Regulation (EU) No 806/2014, or of its independence under Article 47 of that Regulation.|(35443, 37486)\",\n",
       " '6.   Where the Board fully or partially outsources tasks in accordance with paragraph 1, it shall ensure at all times that the outsourcing does not result in depriving the Board from the necessary systems and controls to manage the risks it faces.|(35443, 37486)',\n",
       " '6.   Where the Board fully or partially outsources tasks in accordance with paragraph 1, it shall ensure at all times that the service provider implements business continuity arrangements equivalent to those of the Board.|(35443, 37486)',\n",
       " '6.   Where the Board fully or partially outsources tasks in accordance with paragraph 1, it shall ensure at all times that the Board retains the necessary expertise and resources to evaluate the quality of the services provided and the organisational adequacy of the service provider; the Board supervises the outsourced functions effectively and manages the risks associated with the outsourcing on an ongoing basis.|(35443, 37486)',\n",
       " '6.   Where the Board fully or partially outsources tasks in accordance with paragraph 1, it shall ensure at all times that the Board has direct access to the relevant information allowing it to exercise the necessary control on the outsourced tasks.|(35443, 37486)',\n",
       " \"7.   Where the Board fully or partially outsources tasks in accordance with paragraph 1, it shall ensure that the service provider is obliged to comply with the Board's internal legal requirements and principles concerning security and confidentiality. Any confidential information relating to the Board and accessible to the service provider shall be used only to the extent necessary for the fulfilment of the mandate conferred by the Board.|(37529, 37972)\",\n",
       " '8.   Before taking any decision on outsourcing, the Board shall obtain the consent of the ECB to share the data provided by the ECB with a service provider, in accordance with applicable confidentiality provisions.|(37977, 38191)',\n",
       " 'Article 13|(38196, 38206)',\n",
       " 'Assistance by national resolution authorities|(38211, 38256)',\n",
       " 'The Board may request the national resolution authorities to assist in the process of raising annual contributions where such request is justified by the circumstances of the individual case.|(38261, 38452)',\n",
       " 'Article 14|(38457, 38467)',\n",
       " 'Repeal|(38472, 38478)',\n",
       " 'Delegated Regulation (EU) No 1310/2014 is repealed.|(38483, 38534)',\n",
       " 'Article 15|(38539, 38549)',\n",
       " 'Entry into force|(38554, 38570)',\n",
       " 'This Regulation shall enter into force on the twentieth day following that of its publication in the Official Journal of the European Union.|(38575, 38715)',\n",
       " 'This Regulation shall be binding in its entirety and directly applicable in all Member States.|(38728, 38822)',\n",
       " 'Done at Brussels, 14 September 2017.|(38830, 38866)',\n",
       " 'For the Commission|(38885, 38928)',\n",
       " 'The President|(38939, 38977)',\n",
       " 'Jean-Claude JUNCKER|(38988, 39007)',\n",
       " '(1)  OJ L 225, 30.7.2014, p. 1.|(39030, 39069)',\n",
       " '(2)  Commission Delegated Regulation (EU) No 1310/2014 of 8 October 2014 on the provisional system of instalments on contributions to cover the administrative expenditures of the Single Resolution Board during the provisional period (OJ L 354, 11.12.2014, p. 1).|(39074, 39344)',\n",
       " '(3)  Regulation (EU) No 1163/2014 of the European Central Bank of 22 October 2014 on supervisory fees (ECB/2014/41) (OJ L 311, 31.10.2014, p. 23).|(39349, 39503)',\n",
       " '(4)  Council Regulation (EU) No 1024/2013 of 15 October 2013 conferring specific tasks on the European Central Bank concerning policies relating to the prudential supervision of credit institutions (OJ L 287, 29.10.2013, p. 63).|(39508, 39744)',\n",
       " '(5)  Council Regulation No 1 determining the languages to be used by the European Economic Community (OJ 17, 6.10.1958, p. 385).|(39749, 39885)',\n",
       " '(6)  Regulation (EC) No 45/2001 of the European Parliament and of the Council of 18 December 2000 on the protection of individuals with regard to the processing of personal data by the Community institutions and bodies and on the free movement of such data (OJ L 8, 12.1.2001, p. 1).|(39890, 40181)',\n",
       " '(7)  Regulation (EU) No 468/2014 of the European Central Bank of 16 April 2014 establishing the framework for cooperation within the Single Supervisory Mechanism between the European Central Bank and national competent authorities and with national designated authorities (SSM Framework Regulation) (ECB/2014/17) (OJ L 141, 14.5.2014, p. 1).|(40186, 40535)']"
      ]
     },
     "execution_count": 8,
     "metadata": {},
     "output_type": "execute_result"
    }
   ],
   "source": [
    "sentence.split( \"|\" )[-1] for sentence in transformer.cas.get_view( NewSofaID ).sofa_string.split( \"\\n\" )"
   ]
  },
  {
   "cell_type": "code",
   "execution_count": null,
   "metadata": {},
   "outputs": [],
   "source": []
  },
  {
   "cell_type": "code",
   "execution_count": null,
   "metadata": {},
   "outputs": [],
   "source": []
  },
  {
   "cell_type": "code",
   "execution_count": null,
   "metadata": {},
   "outputs": [],
   "source": [
    "reporting_obligations_finder = ReportingObligationsFinder( cas, bert_model, nlp )\n",
    "reporting_obligations_finder.process_sentences( ListSofaID='ListView'  )\n",
    "#reporting_obligations_finder.add_xml_to_cas( TEMPLATE_PATH, ROSofaID='ReportingObligationsView' )"
   ]
  },
  {
   "cell_type": "code",
   "execution_count": null,
   "metadata": {},
   "outputs": [],
   "source": []
  },
  {
   "cell_type": "code",
   "execution_count": null,
   "metadata": {},
   "outputs": [],
   "source": []
  },
  {
   "cell_type": "code",
   "execution_count": null,
   "metadata": {},
   "outputs": [],
   "source": []
  },
  {
   "cell_type": "code",
   "execution_count": 5,
   "metadata": {
    "scrolled": true
   },
   "outputs": [],
   "source": [
    "path=\"/notebook/nas-trainings/arne/DGFISMA/reporting_obligations/code/DGFISMA_reporting_obligations/tests/test_files/sofa_listview/\"\n",
    "with open( os.path.join( path, \"minus_lesser_of.txt\"  ) , \"w\") as f: \n",
    "    f.write(  transformer.cas.get_view( NewSofaID ).sofa_string ) \n",
    "    "
   ]
  },
  {
   "cell_type": "code",
   "execution_count": null,
   "metadata": {},
   "outputs": [],
   "source": []
  },
  {
   "cell_type": "code",
   "execution_count": null,
   "metadata": {},
   "outputs": [],
   "source": []
  },
  {
   "cell_type": "code",
   "execution_count": null,
   "metadata": {},
   "outputs": [],
   "source": []
  },
  {
   "cell_type": "code",
   "execution_count": null,
   "metadata": {},
   "outputs": [],
   "source": []
  },
  {
   "cell_type": "code",
   "execution_count": 11,
   "metadata": {
    "scrolled": true
   },
   "outputs": [],
   "source": [
    "path=\"/notebook/nas-trainings/arne/DGFISMA/reporting_obligations/code/DGFISMA_reporting_obligations/tests/test_files/sofa_listview/\"\n",
    "test=open( os.path.join(path, \"minus_lesser_of.txt\") ).read()"
   ]
  },
  {
   "cell_type": "code",
   "execution_count": 13,
   "metadata": {},
   "outputs": [
    {
     "data": {
      "text/plain": [
       "True"
      ]
     },
     "execution_count": 13,
     "metadata": {},
     "output_type": "execute_result"
    }
   ],
   "source": [
    "transformer.cas.get_view( NewSofaID ).sofa_string == test"
   ]
  },
  {
   "cell_type": "code",
   "execution_count": null,
   "metadata": {},
   "outputs": [],
   "source": []
  },
  {
   "cell_type": "code",
   "execution_count": null,
   "metadata": {},
   "outputs": [],
   "source": []
  },
  {
   "cell_type": "code",
   "execution_count": null,
   "metadata": {},
   "outputs": [],
   "source": []
  },
  {
   "cell_type": "code",
   "execution_count": 3,
   "metadata": {},
   "outputs": [],
   "source": [
    "value_between_tagtype_generator=cas.get_view( OldSofaID ).select( value_between_tagtype )     \n",
    "\n",
    "seek_vbtt=SeekableIterator( iter(value_between_tagtype_generator) )\n",
    "\n",
    "lines, offsets = get_other_lines( cas , OldSofaID, seek_vbtt, 'root', paragraph_type=paragraph_type )\n",
    "\n",
    "flatten_offsets( offsets )\n",
    "\n",
    "assert len( lines ) == len( offsets )\n",
    "\n",
    "transformed_lines, transformed_lines_offsets = transform_lines( lines, offsets )"
   ]
  },
  {
   "cell_type": "code",
   "execution_count": 4,
   "metadata": {},
   "outputs": [],
   "source": [
    "import pickle\n",
    "path=\"/notebook/nas-trainings/arne/DGFISMA/reporting_obligations/code/DGFISMA_reporting_obligations/tests/test_files/pickle\"\n",
    "with open( os.path.join( path, \"minus_lesser_of_offsets.p\" ) , 'wb') as f:\n",
    "    pickle.dump(offsets, f)"
   ]
  },
  {
   "cell_type": "code",
   "execution_count": null,
   "metadata": {},
   "outputs": [],
   "source": []
  },
  {
   "cell_type": "code",
   "execution_count": null,
   "metadata": {},
   "outputs": [],
   "source": []
  },
  {
   "cell_type": "code",
   "execution_count": null,
   "metadata": {},
   "outputs": [],
   "source": []
  },
  {
   "cell_type": "code",
   "execution_count": 5,
   "metadata": {},
   "outputs": [
    {
     "data": {
      "text/plain": [
       "19"
      ]
     },
     "execution_count": 5,
     "metadata": {},
     "output_type": "execute_result"
    }
   ],
   "source": [
    "len( lines)"
   ]
  },
  {
   "cell_type": "code",
   "execution_count": 8,
   "metadata": {},
   "outputs": [
    {
     "data": {
      "text/plain": [
       "19"
      ]
     },
     "execution_count": 8,
     "metadata": {},
     "output_type": "execute_result"
    }
   ],
   "source": [
    "len( offsets )"
   ]
  },
  {
   "cell_type": "code",
   "execution_count": null,
   "metadata": {},
   "outputs": [],
   "source": []
  },
  {
   "cell_type": "code",
   "execution_count": null,
   "metadata": {},
   "outputs": [],
   "source": [
    "flatten_offsets( offsets )\n",
    "\n",
    "assert len( lines ) == len( offsets )\n",
    "\n",
    "transformed_lines, transformed_lines_offsets =transform_lines( lines, offsets )\n",
    "\n",
    "assert len( transformed_lines ) == len( transformed_lines_offsets )\n",
    "\n",
    "lines_offsets=[]\n",
    "for line, offset in zip( transformed_lines, transformed_lines_offsets  ):\n",
    "    lines_offsets.append(line + \"|\" + str( offset ))"
   ]
  },
  {
   "cell_type": "code",
   "execution_count": null,
   "metadata": {},
   "outputs": [],
   "source": []
  },
  {
   "cell_type": "code",
   "execution_count": 8,
   "metadata": {
    "scrolled": true
   },
   "outputs": [
    {
     "data": {
      "text/plain": [
       "['19.12.2017   ',\n",
       " 'EN',\n",
       " 'Official Journal of the European Union',\n",
       " 'L 337/6',\n",
       " 'COMMISSION DELEGATED REGULATION (EU) 2017/2361',\n",
       " 'of 14 September 2017',\n",
       " 'on the final system of contributions to the administrative expenditures of the Single Resolution Board',\n",
       " 'THE EUROPEAN COMMISSION,',\n",
       " 'Having regard to the Treaty on the Functioning of the European Union,',\n",
       " 'Having regard to Regulation (EU) No 806/2014 of the European Parliament and of the Council of 15 July 2014 establishing uniform rules and a uniform procedure for the resolution of credit institutions and certain investment firms in the framework of a Single Resolution Mechanism and a Single Resolution Fund and amending Regulation (EU) No 1093/2010 (1), and in particular Article 65(5) thereof,',\n",
       " ['Whereas:',\n",
       "  '(1)',\n",
       "  'The provisional system of instalments on contributions to the administrative expenditures of the Board, laid down in Commission Delegated Regulation (EU) No 1310/2014 (2), was based on a simplified methodology and covered only a limited subset of entities, namely the entities which are considered significant by the European Central Bank (ECB) (‘significant entities’). That provisional system was introduced in order to ensure sufficient funding for the establishment of the Board while minimising the administrative burden for the Board, which at the time had only a limited structure and operational capacity. The provisional system was intended to apply until the Commission would adopt a final system for the determination and raising of the contributions to administrative expenditures.',\n",
       "  '(2)',\n",
       "  'As the Board has acquired a more stable structure and operational capacity, it is now appropriate to establish the final system of annual contributions to the administrative expenditures of the Board. A final system should replace the provisional system laid down in Delegated Regulation (EU) No 1310/2014.',\n",
       "  '(3)',\n",
       "  'Such a final system should provide for the determination and raising of administrative contributions not only for significant entities, but for all entities that are subject to the Single Resolution Mechanism. The contributions should be calculated at the highest level of consolidation of those entities within the participating Member States, since all subsidiaries of a group inside the perimeter of consolidation fall within the scope of the decision-making powers of the Board when adopting group resolution plans, carrying out the assessment of resolvability of groups and adopting resolution decisions for groups. The exercise of those tasks implies expenditures for the Board for collecting and analysing information and data related to each subsidiary included in the perimeter of consolidation. Since those are expenditures related to the services provided by the Board to the entities that are subject to the Single Resolution Mechanism, they should be paid by those entities and therefore the administrative contributions should be calculated on the basis of their consolidated accounts at the highest level of consolidation within the participating Member States and only one contribution per group should be calculated.',\n",
       "  '(4)',\n",
       "  'Pursuant to Article 65(3) of Regulation (EU) No 806/2014 the Board is to determine and raise contributions as well as to ensure that they are fully and timely paid. In order to enable the Board to meet those requirements, an efficient system for raising the administrative contributions from the institutions and entities referred to in Article 2 of Regulation (EU) No 806/2014 should be ensured. Those institutions and entities are already subject to numerous reporting obligations set out in Union legislation. More specifically, pursuant to Regulation (EU) No 1163/2014 of the European Central Bank (3), the ECB collects data on total assets and total risk exposure for the purposes of calculating supervisory fees. The data collected in accordance with Regulation (EU) No 1163/2014 can be meaningfully used for the calculation of the administrative contributions to the Board. Pursuant to Article 30(2) of Regulation (EU) No 806/2014, the Board and the ECB are to cooperate closely in the exercise of their respective responsibilities under that Regulation and, in particular, provide each other with all the information necessary for the performance of their tasks. It is more efficient to request the ECB to transmit data it received and verified in the exercise of its tasks and powers conferred on it by Council Regulation (EU) No 1024/2013 (4) to the Board, than to duplicate the reporting burden for the institutions and entities concerned. Data sharing between the ECB and the Board would also allow avoiding duplication of the data verification process by the Board and builds on the obligation of the Board and the ECB to cooperate closely in the exercise of their respective responsibilities under Regulation (EU) No 806/2014. Any duplication of the data reporting and verification processes would inevitably require more time for the calculation and raising of contributions and would lead to a less efficient system. It follows that, as a part of the cooperation obligation, the ECB should be required to transmit to the Board the data received from the institutions and entities concerned for the purpose of calculating contributions to the Board. The Board should rely to the greatest extent possible on the data collected by the ECB. The Board should have access to the aforementioned data to the extent necessary for the fulfilment of its tasks under this Regulation.',\n",
       "  '(5)',\n",
       "  \"The allocation of contributions should reflect the difference in the workload and related expenditures for the entities under the Board's direct responsibility as opposed to those under the responsibility of national resolution authorities. Therefore, this Regulation should determine how the contributions should be split between those two groups of entities. Within those two groups, the final system established by this Regulation should require entities to contribute in proportion to the resource requirements that they individually place on the Board, as approximated by observable data.\",\n",
       "  '(6)',\n",
       "  'In order to provide certainty, both to the Board and to the entities concerned, on how individual annual contributions are to be adjusted in the case of an error in the calculation or changes to the underlying data, this Regulation should lay down specific rules in that respect. Where the Board makes an error in the calculation of the annual contribution, it should be required to rectify that error. Such a requirement should apply as regards errors that occur because the Board applies incorrectly the methodology for calculating the individual annual contributions. In such cases, all contributions should be amended. On the contrary, cases where the input data used in the calculation of individual annual contributions is not correct or is subject to a change after the calculation was performed should not be considered errors in the calculation and should therefore be treated differently. In such cases, only the contributions of the entities whose data was not correct or was subject to a change should be amended.',\n",
       "  '(7)',\n",
       "  'In accordance with Article 3 of Council Regulation No 1 (5) the contribution notice and any further communications by the Board should be in the language of the Member State in which the recipient institution is established.',\n",
       "  '(8)',\n",
       "  'The payments of the annual contributions should be enforceable and interest on late payment should apply in the event of partial payment, non-payment or non-compliance with the conditions for payment specified in the contribution notice, in order to ensure the full and timely payment of the contributions.',\n",
       "  '(9)',\n",
       "  'The contributions of significant entities covered by the provisional system should be reassessed to take into account the amounts paid by them under that provisional system. Any difference between the instalments paid on the basis of the provisional system and the contributions calculated in accordance with the final system should be settled in the calculation of the contributions to the administrative expenditures of the Board for the year following the end of the provisional period.',\n",
       "  '(10)',\n",
       "  'Since this Regulation introduces the final system of contributions to the administrative expenditures of the Board, the Regulation on the provisional system is no longer necessary and should be repealed,'],\n",
       " 'HAS ADOPTED THIS REGULATION:',\n",
       " 'Article 1',\n",
       " 'Subject matter',\n",
       " ['This Regulation lays down rules to determine:',\n",
       "  '(1)',\n",
       "  'the final system for the calculation of the contributions to the administrative expenditures of the Single Resolution Board (‘the Board’) due by the entities referred to in Article 2 of Regulation (EU) No 806/2014;',\n",
       "  '(2)',\n",
       "  'the way in which the contributions are to be paid;',\n",
       "  '(3)',\n",
       "  'the registration, accounting, reporting and other rules necessary to ensure that the contributions are paid fully and in a timely manner;',\n",
       "  '(4)',\n",
       "  'the methodology for the recalculation and adjustment of the contributions due for the provisional period.'],\n",
       " 'Article 2',\n",
       " 'Definitions',\n",
       " ['For the purposes of this Regulation, the definitions set out in Regulation (EU) No 1163/2014 shall apply. The following definitions shall also apply:',\n",
       "  '(1)',\n",
       "  '‘administrative expenditures of the Board’ means the expenditure of Part I of the budget of the Board, as referred to in Article 59(2) of Regulation (EU) No 806/2014;',\n",
       "  '(2)',\n",
       "  '‘annual contribution’ means the contribution to be collected by the Board for a given financial year in accordance with this Regulation in order to cover the administrative expenditures of the Board;',\n",
       "  '(3)',\n",
       "  '‘contribution debtor’ means the fee debtor determined in accordance with Article 4 of Regulation (EU) No 1163/2014 for the purposes of collecting the supervisory fee and falling under the scope of Article 2 of Regulation (EU) No 806/2014;',\n",
       "  '(4)',\n",
       "  '‘provisional period’ means the period beginning on 19 August 2014 and ending on 31 December 2017.'],\n",
       " 'Article 3',\n",
       " 'Determination of total amount of annual contributions to be raised',\n",
       " 'The total amount of annual contributions to be raised for a given financial year shall be calculated on the basis of Part I of the budget adopted by the Board for that financial year in accordance with Article 61 of Regulation (EU) No 806/2014, adjusted by the result of the budget of the latest financial year for which the final accounts have been published in accordance with Article 63(7) of that Regulation.',\n",
       " 'The Board shall determine the total amount of annual contributions so that Part I of the budget of the Board is balanced.',\n",
       " 'Article 4',\n",
       " 'Allocation of total amount of annual contributions',\n",
       " ['1.   The total amount to be raised in accordance with Article 3 shall be allocated as follows:',\n",
       "  '(a)',\n",
       "  ['95 % to the following entities and groups:',\n",
       "   '(i)',\n",
       "   'entities and groups referred to in Article 7(2) of Regulation (EU) No 806/2014;',\n",
       "   '(ii)',\n",
       "   'entities and groups with regard to which the Board has decided to exercise powers under Regulation (EU) No 806/2014 pursuant to Article 7(4)(b) of that Regulation;',\n",
       "   '(iii)',\n",
       "   'entities and groups in relation to which participating Member States have decided in accordance with Article 7(5) of Regulation (EU) No 806/2014 that the Board exercise powers and responsibilities conferred to it by that Regulation;'],\n",
       "  '(b)',\n",
       "  '5 % to entities and groups referred to in Article 7(3) of Regulation (EU) No 806/2014.'],\n",
       " '2.   Without prejudice to Article 7, the Board shall assign entities and groups to one of the two categories laid down in paragraph 1 based on the data which the ECB provides to the Board in accordance with Article 6(1) or Article 11, as applicable.',\n",
       " '3.   Where an entity falls under the scope of paragraph 1(a), all the entities that are part of the same group shall be assigned to the same category.',\n",
       " '4.   The Board shall report yearly to the Commission on the appropriateness of the allocation laid down in paragraph 1, in the light of the changing composition of the two categories of entities and groups.',\n",
       " 'Article 5',\n",
       " 'Calculation of the individual annual contributions',\n",
       " '1.   The Board shall calculate the individual annual contributions due for each financial year on the basis of the data received in accordance with Article 6 and the total amount of annual contributions as determined in accordance with Article 3.',\n",
       " '2.   For the purposes of calculating the individual annual contributions, the Board shall apply the provisions laid down in Article 10(1), (2) and (3) and Article 10(6)(a), (b) and (c) of Regulation (EU) No 1163/2014.',\n",
       " ['3.   For the purpose of applying the provisions referred to in paragraph 2:',\n",
       "  '(a)',\n",
       "  '‘annual supervisory fee’ means individual annual contribution;',\n",
       "  '(b)',\n",
       "  '‘significant supervised entity’ or ‘significant supervised group’ means an entity or group as referred to in Article 4(1)(a);',\n",
       "  '(c)',\n",
       "  '‘less significant supervised entity’ or ‘less significant supervised group’ means an entity or group as referred to in Article 4(1)(b);',\n",
       "  '(d)',\n",
       "  '‘supervised entity’ or ‘supervised group’ means any entity or group;',\n",
       "  '(e)',\n",
       "  '‘fee debtor’ means contribution debtor.'],\n",
       " '4.   The annual contribution due by the entities referred to in Article 2 of Regulation (EU) No 806/2014 that are members of the same group shall be calculated as a single contribution.',\n",
       " '5.   Where the Board makes an error in the calculation of an individual annual contribution, it shall rectify the error by recalculating the individual annual contribution of each affected entity. The Board shall settle any difference between the individual annual contribution paid and the recalculated amount by increasing or decreasing the individual annual contribution calculated in the financial year following the recalculation.',\n",
       " 'However, no recalculation shall be performed where the Board becomes aware of an error more than 5 years after the end of the financial year in which the error occurred.',\n",
       " 'Article 6',\n",
       " 'Data necessary for the calculation of individual annual contributions',\n",
       " '1.   Each year, within 5 working days of the issuance of fee notices in accordance with Article 12(1) of Regulation (EU) No 1163/2014, and in any case no later than 31 December of the year for which the fee notices are issued, the ECB shall provide the Board with data on each contribution debtor as collected by the ECB in that year and used to determine the supervisory fees in accordance with Regulation (EU) No 1163/2014.',\n",
       " ['2.   The data shall contain at least the following elements:',\n",
       "  '(a)',\n",
       "  'the identity and contact details of each contribution debtor as determined in accordance with Article 4 of Regulation (EU) No 1163/2014 for the purpose of the supervisory fees;',\n",
       "  '(b)',\n",
       "  'the fee factors determined in accordance with Article 10 of Regulation (EU) No 1163/2014;',\n",
       "  '(c)',\n",
       "  'whether a contribution debtor is significant in accordance with Article 6(4) of Regulation (EU) No 1024/2013 or is an entity or group in relation to which the ECB has decided in accordance with Article 6(5)(b) of Regulation (EU) No 1024/2013 to exercise directly all of the relevant powers;',\n",
       "  '(d)',\n",
       "  'any data that the ECB has determined in the absence of reporting from a contribution debtor, in accordance with Article 10(5) of Regulation (EU) No 1163/2014;',\n",
       "  '(e)',\n",
       "  'the validity date underlying the fee calculation of each contribution debtor determining the duration the contribution debtor was subject to the supervisory fee and any change of status in accordance with Article 7(2) of Regulation (EU) No 1163/2014 in the given fee period.'],\n",
       " '3.   For the purposes of point (a) of paragraph 2, the identity and contact details of each contribution debtor shall include any personal data within the meaning of Regulation (EC) No 45/2001 (6) that is collected by the ECB for the purposes of carrying out its tasks under Regulation (EU) No 1163/2014 and that is necessary for the fulfilment of the tasks under this Regulation by the Board.',\n",
       " '4.   Where, for the purposes of this Regulation, the Board needs to identify whether an entity is part of the group that has nominated a given contribution debtor, the ECB, national resolution authorities and national competent authorities shall assist the Board with all relevant information.',\n",
       " '5.   In case the ECB issues additional invoices or recalculates the annual supervisory fee in accordance with Article 7 of Regulation (EU) No 1163/2014, the ECB shall communicate to the Board the new data within 5 days of the issuance of fee notices.',\n",
       " '6.   For the calculation of the individual annual contributions to be collected in a given financial year, the Board shall use the data collected by the ECB in the previous financial year in accordance with Regulation (EU) No 1163/2014 and provided to the Board in accordance with this Article or Article 11, as applicable.',\n",
       " '7.   Where the ECB, in a given financial year, has not provided the Board within the periods laid down in this Article with the data necessary for the calculation of the annual contributions, the Board may use the latest available data provided to it by the ECB for the purposes of that calculation.',\n",
       " '8.   In case no data provided by the ECB is available, the relevant national competent authority shall upon request provide the Board with the data at its disposal.',\n",
       " '9.   In case no data provided by the national competent authority is available, the contribution debtor shall upon request provide the Board with the necessary data within a deadline set by the Board. In the absence of a reply by the contribution debtor within the deadline set by the Board, the Board may determine the data on the basis of reasonable assumptions.',\n",
       " '10.   The Board shall use the data specified in this Article only for the purposes of and in accordance with this Regulation.',\n",
       " 'Article 7',\n",
       " 'Change in scope, status or other data',\n",
       " '1.   Where an entity or a group falls under the scope of Article 2 of Regulation (EU) No 806/2014 only for part of the financial year, its individual annual contribution for that financial year shall be calculated by reference to the number of full months during which it falls under the scope of that Article.',\n",
       " '2.   Where the status of an entity or a group changes between the categories specified in Article 4(1) during a financial year, its individual annual contribution for that financial year shall be calculated on the basis of the number of months for which the entity or a group fell under the respective category at the last day of the month.',\n",
       " '3.   Where other changes to the data of an entity or a group that were used to calculate its individual annual contribution for a financial year occur, the individual annual contribution of that entity or group for that financial year shall be calculated on the basis of the updated data.',\n",
       " '4.   Where a change as referred to in paragraphs 1 and 2 has been reported by the ECB or a change as referred to in paragraph 3 occurred, the Board shall recalculate only the individual annual contribution of that entity or group for the financial years concerned. Where changes as referred to in paragraph 1, 2 or 3 have occurred in relation to several entities or groups during the same financial year, the Board shall only take into account the changes concerning an individual entity or group for the purposes of recalculating the individual annual contribution of that entity or group.',\n",
       " '5.   Where the amount of an individual annual contribution paid is higher than the amount recalculated in accordance with paragraph 4, the Board shall refund the difference to the entity or group concerned. Where the amount of an individual annual contribution paid is lower than the amount recalculated in accordance with paragraph 4, the entity or group concerned shall pay the difference to the Board. For the purposes of refunding or collecting an amount due in accordance with this paragraph, the Board shall decrease or increase the individual annual contribution of the entity or group concerned in the financial year following the recalculation pursuant to paragraph 4.',\n",
       " '6.   The individual annual contributions of entities or groups that are not subject to changes as referred to in paragraph 1, 2 or 3 shall not be adjusted.',\n",
       " '7.   The Board shall apply the aggregate surplus or deficit resulting from all the adjustments made in accordance with paragraph 5 to the total amount of annual contributions to be determined in accordance with Article 3 for the financial year following the financial year in which the adjustments are applied.',\n",
       " '8.   In line with the principle of sound management of its budget, the Board shall take any decisions deemed necessary in order to implement the provisions laid down in this Article, including as regards the timing of the refunds by the Board and of the additional payments to be collected from the entities.',\n",
       " 'Article 8',\n",
       " 'Contribution notice, communications, payments and interest for late payment',\n",
       " '1.   A contribution notice shall be issued by the Board to the contribution debtors.',\n",
       " ['2.   The Board shall notify the contribution notice through any of the following means:',\n",
       "  '(a)',\n",
       "  'electronically or by other comparable means of communication;',\n",
       "  '(b)',\n",
       "  'by fax;',\n",
       "  '(c)',\n",
       "  'by express courier service;',\n",
       "  '(d)',\n",
       "  'by registered mail with a form for acknowledgement of receipt;',\n",
       "  '(e)',\n",
       "  'by service or delivery by hand.'],\n",
       " 'The contribution notice shall be valid without signature.',\n",
       " '3.   The contribution notice shall specify the amount of the annual contribution and the way in which the annual contribution shall be paid. It shall be duly reasoned with regard to the factual and legal aspects of the individual contribution decision.',\n",
       " '4.   The Board shall address any other communication with regard to the annual contribution, including any settlement decision in accordance with Article 10(8), to the contribution debtor.',\n",
       " '5.   The contribution shall be payable in euros.',\n",
       " \"6.   The contribution debtor shall pay the amount of the annual contribution within 35 calendar days of the issuance of the contribution notice. The contribution debtor shall comply with the requirements set out in the contribution notice with respect to the payment of the annual contribution. The date of payment shall be the date on which the Board's account is credited.\",\n",
       " '7.   The annual contribution due by the entities referred to in Article 2 of Regulation (EU) No 806/2014 that are members of the same group shall be collected from the contribution debtor of that group.',\n",
       " \"8.   Without prejudice to any other remedy available to the Board, in the event of partial payment, non-payment or non-compliance with the conditions for payment specified in the contribution notice, interest shall accrue on a daily basis on the outstanding amount of the annual contribution at an interest rate of the ECB's main refinancing rate plus 8 percentage points from the date on which the payment was due.\",\n",
       " '9.   In the event of any partial payment, non-payment or non-compliance with the conditions for payment specified in the contribution notice by the contribution debtor, the Board shall inform the national resolution authority of the participating Member State in which the contribution debtor is established.',\n",
       " 'Article 9',\n",
       " 'Enforcement',\n",
       " '1.   The payments of the annual contributions due and any interest for late payment pursuant to Article 8(8) shall be enforceable.',\n",
       " '2.   Enforcement shall be governed by the procedural rules applicable in the participating Member State in whose territory it is carried out.',\n",
       " '3.   The government of each participating Member State shall designate and notify to the Board and to the Court of Justice of the European Union an authority for the purposes of verifying the authenticity of individual contribution decisions.',\n",
       " '4.   An order for enforcement shall be appended to each individual contribution decision. The enforcement shall not be subject to any formality other than the verification of the authenticity of the decision by the authority designated pursuant to paragraph 3.',\n",
       " '5.   National resolution authorities shall assist the Board in the enforcement procedure governed by the applicable procedural rules in the participating Member State.',\n",
       " 'Article 10',\n",
       " 'Recalculation and settlement of contributions due for the provisional period',\n",
       " '1.   For the purposes of the recalculation and settlement of contributions due for the provisional period, the months of November and December 2014 shall be considered part of the financial year 2015.',\n",
       " '2.   The Board shall recalculate, in accordance with the provisions laid down in this Regulation, the amount of contributions due by each entity referred to in Article 2 of Regulation (EU) No 806/2014 to cover the administrative expenditures of the Board during the provisional period.',\n",
       " '3.   Without prejudice to Article 6(4), for the recalculation of the amount of contributions due by each entity in the financial years belonging to the provisional period, the Board shall use the data collected by the ECB in those financial years in accordance with Regulation (EU) No 1163/2014 and provided to the Board in accordance with Article 11.',\n",
       " '4.   Any difference between the instalments paid by significant entities on the basis of the provisional system laid down in Delegated Regulation (EU) No 1310/2014 and the contributions referred to in paragraph 2 shall be settled in the calculation of the annual contributions due for the financial year which follows the end of the provisional period. That settlement shall be made by decreasing or increasing the annual contributions due for that financial year.',\n",
       " '5.   Entities referred to in Article 2 of Regulation (EU) No 806/2014 for which the calculation and collection of contributions was deferred in the provisional period shall pay contributions calculated in accordance with paragraph 2 for the years belonging to the provisional period. Those contributions shall increase the annual contributions due for the financial year which follows the end of the provisional period.',\n",
       " \"6.   For the purposes of paragraph 4 ‘significant entities’ shall mean the entities that have been notified by the ECB, at the highest level of consolidation within the participating Member States, of the ECB's decision to consider them significant within the meaning of Article 6(4) of Regulation (EU) No 1024/2013 and in accordance with Article 147(1) of Regulation (EU) No 468/2014 (7), and which are mentioned in the list published on the ECB's website on 4 September 2014, but excluding those significant entities, which are subsidiaries of a group, that is already taken into account in this definition, and branches, which are established in participating Member States, of credit institutions established in non-participating Member States.\",\n",
       " '7.   Where the difference referred to in paragraph 4 or the contributions for the years belonging to the provisional period referred to in paragraph 5 are higher than the contributions due for the financial year which follows the end of the provisional period, the adjustment shall continue in the subsequent financial years.',\n",
       " '8.   Where two or more entities within a group are subject to settlements pursuant to paragraph 4 or 5, the Board may set off contributions due against reimbursements with respect to entities of that group.',\n",
       " 'Article 11',\n",
       " 'Data necessary for the purposes of recalculating the contributions for financial years belonging to the provisional period',\n",
       " 'Within 30 days of the entry into force of this Regulation, the ECB shall provide the Board with the data as specified in Article 6 and collected by the ECB in accordance with Regulation (EU) No 1163/2014 in financial years belonging to the provisional period.',\n",
       " 'Article 12',\n",
       " 'Outsourcing',\n",
       " '1.   The Board may decide on the full or partial outsourcing of specific tasks provided for in this Regulation.',\n",
       " '2.   The Board shall restrict any outsourcing to technical tasks which are related to the raising of contributions and do not involve the exercise of its powers as regards the determination of contributions.',\n",
       " '3.   Any mandate given to a service provider for the purposes of outsourcing tasks shall clearly state the duration of the mandate and the specific tasks that are outsourced and establish a framework for regular reporting by the service provider to the Board.',\n",
       " \"4.   Any contract between the Board and a service provider for the purposes of outsourcing tasks in accordance with paragraph 1 shall include clauses governing the Board's cancellation rights, rights relating to further subcontracting and non-performance by the service provider.\",\n",
       " '5.   Where the Board fully or partially outsources tasks in accordance with paragraph 1, it shall remain fully responsible for discharging all of its obligations under Regulation (EU) No 806/2014 and this Regulation.',\n",
       " ['6.   Where the Board fully or partially outsources tasks in accordance with paragraph 1, it shall ensure at all times that:',\n",
       "  '(a)',\n",
       "  \"any contract concluded for the purposes of the outsourcing does not provide for the delegation of the Board's responsibility;\",\n",
       "  '(b)',\n",
       "  \"any contract concluded for the purposes of the outsourcing does not provide for an exclusion of the Board's accountability under Article 45 and Article 46(1) of Regulation (EU) No 806/2014, or of its independence under Article 47 of that Regulation;\",\n",
       "  '(c)',\n",
       "  'the outsourcing does not result in depriving the Board from the necessary systems and controls to manage the risks it faces;',\n",
       "  '(d)',\n",
       "  'the service provider implements business continuity arrangements equivalent to those of the Board;',\n",
       "  '(e)',\n",
       "  'the Board retains the necessary expertise and resources to evaluate the quality of the services provided and the organisational adequacy of the service provider; the Board supervises the outsourced functions effectively and manages the risks associated with the outsourcing on an ongoing basis;',\n",
       "  '(f)',\n",
       "  'the Board has direct access to the relevant information allowing it to exercise the necessary control on the outsourced tasks.'],\n",
       " \"7.   Where the Board fully or partially outsources tasks in accordance with paragraph 1, it shall ensure that the service provider is obliged to comply with the Board's internal legal requirements and principles concerning security and confidentiality. Any confidential information relating to the Board and accessible to the service provider shall be used only to the extent necessary for the fulfilment of the mandate conferred by the Board.\",\n",
       " '8.   Before taking any decision on outsourcing, the Board shall obtain the consent of the ECB to share the data provided by the ECB with a service provider, in accordance with applicable confidentiality provisions.',\n",
       " 'Article 13',\n",
       " 'Assistance by national resolution authorities',\n",
       " 'The Board may request the national resolution authorities to assist in the process of raising annual contributions where such request is justified by the circumstances of the individual case.',\n",
       " 'Article 14',\n",
       " 'Repeal',\n",
       " 'Delegated Regulation (EU) No 1310/2014 is repealed.',\n",
       " 'Article 15',\n",
       " 'Entry into force',\n",
       " 'This Regulation shall enter into force on the twentieth day following that of its publication in the Official Journal of the European Union.',\n",
       " 'This Regulation shall be binding in its entirety and directly applicable in all Member States.',\n",
       " 'Done at Brussels, 14 September 2017.',\n",
       " '\\r\\n            For the Commission\\r\\n         ',\n",
       " '\\r\\n            The President\\r\\n         ',\n",
       " 'Jean-Claude JUNCKER',\n",
       " '\\r\\n      (1)  OJ L 225, 30.7.2014, p. 1.',\n",
       " '\\r\\n      (2)  Commission Delegated Regulation (EU) No 1310/2014 of 8 October 2014 on the provisional system of instalments on contributions to cover the administrative expenditures of the Single Resolution Board during the provisional period (OJ L 354, 11.12.2014, p. 1).',\n",
       " '\\r\\n      (3)  Regulation (EU) No 1163/2014 of the European Central Bank of 22 October 2014 on supervisory fees (ECB/2014/41) (OJ L 311, 31.10.2014, p. 23).',\n",
       " '\\r\\n      (4)  Council Regulation (EU) No 1024/2013 of 15 October 2013 conferring specific tasks on the European Central Bank concerning policies relating to the prudential supervision of credit institutions (OJ L 287, 29.10.2013, p. 63).',\n",
       " '\\r\\n      (5)  Council Regulation No 1 determining the languages to be used by the European Economic Community (OJ 17, 6.10.1958, p. 385).',\n",
       " '\\r\\n      (6)  Regulation (EC) No 45/2001 of the European Parliament and of the Council of 18 December 2000 on the protection of individuals with regard to the processing of personal data by the Community institutions and bodies and on the free movement of such data (OJ L 8, 12.1.2001, p. 1).',\n",
       " '\\r\\n      (7)  Regulation (EU) No 468/2014 of the European Central Bank of 16 April 2014 establishing the framework for cooperation within the Single Supervisory Mechanism between the European Central Bank and national competent authorities and with national designated authorities (SSM Framework Regulation) (ECB/2014/17) (OJ L 141, 14.5.2014, p. 1).']"
      ]
     },
     "execution_count": 8,
     "metadata": {},
     "output_type": "execute_result"
    }
   ],
   "source": [
    "lines"
   ]
  },
  {
   "cell_type": "code",
   "execution_count": null,
   "metadata": {},
   "outputs": [],
   "source": []
  },
  {
   "cell_type": "code",
   "execution_count": 9,
   "metadata": {},
   "outputs": [],
   "source": [
    "import pickle\n",
    "with open( \"/notebook/nas-trainings/arne/DGFISMA/reporting_obligations/code/DGFISMA_reporting_obligations/tests/test_files/pickle/doc_bf4ef384-bd7a-51c8-8f7d-d2f61865d767_nested_lines.p\"  , 'rb') as f:\n",
    "    # read the data as binary data stream\n",
    "    lines_ok = pickle.load(f)"
   ]
  },
  {
   "cell_type": "code",
   "execution_count": null,
   "metadata": {
    "scrolled": true
   },
   "outputs": [],
   "source": []
  },
  {
   "cell_type": "code",
   "execution_count": null,
   "metadata": {},
   "outputs": [],
   "source": []
  },
  {
   "cell_type": "code",
   "execution_count": null,
   "metadata": {},
   "outputs": [],
   "source": []
  },
  {
   "cell_type": "code",
   "execution_count": null,
   "metadata": {},
   "outputs": [],
   "source": []
  },
  {
   "cell_type": "code",
   "execution_count": 3,
   "metadata": {},
   "outputs": [],
   "source": [
    "#ListTransformer( cas ).add_list_view( OldSofaID )"
   ]
  },
  {
   "cell_type": "code",
   "execution_count": 6,
   "metadata": {
    "scrolled": true
   },
   "outputs": [
    {
     "name": "stdout",
     "output_type": "stream",
     "text": [
      "19.12.2017|(184, 197)\n",
      "EN|(242, 244)\n",
      "Official Journal of the European Union|(289, 327)\n",
      "L 337/6|(372, 379)\n",
      "COMMISSION DELEGATED REGULATION (EU) 2017/2361|(427, 473)\n",
      "of 14 September 2017|(478, 498)\n",
      "on the final system of contributions to the administrative expenditures of the Single Resolution Board|(503, 605)\n",
      "THE EUROPEAN COMMISSION,|(610, 634)\n",
      "Having regard to the Treaty on the Functioning of the European Union,|(639, 708)\n",
      "Having regard to Regulation (EU) No 806/2014 of the European Parliament and of the Council of 15 July 2014 establishing uniform rules and a uniform procedure for the resolution of credit institutions and certain investment firms in the framework of a Single Resolution Mechanism and a Single Resolution Fund and amending Regulation (EU) No 1093/2010 (1), and in particular Article 65(5) thereof,|(713, 1108)\n",
      "Whereas, , The provisional system of instalments on contributions to the administrative expenditures of the Board, laid down in Commission Delegated Regulation (EU) No 1310/2014 (2), was based on a simplified methodology and covered only a limited subset of entities, namely the entities which are considered significant by the European Central Bank (ECB) (‘significant entities’). That provisional system was introduced in order to ensure sufficient funding for the establishment of the Board while minimising the administrative burden for the Board, which at the time had only a limited structure and operational capacity. The provisional system was intended to apply until the Commission would adopt a final system for the determination and raising of the contributions to administrative expenditures.|(1113, 10213)\n",
      "Whereas, , As the Board has acquired a more stable structure and operational capacity, it is now appropriate to establish the final system of annual contributions to the administrative expenditures of the Board.|(1113, 10213)\n",
      "A final system should replace the provisional system laid down in Delegated Regulation (EU) No 1310/2014.|(1113, 10213)\n",
      "Whereas, , Such a final system should provide for the determination and raising of administrative contributions not only for significant entities, but for all entities that are subject to the Single Resolution Mechanism. The contributions should be calculated at the highest level of consolidation of those entities within the participating Member States, since all subsidiaries of a group inside the perimeter of consolidation fall within the scope of the decision-making powers of the Board when adopting group resolution plans, carrying out the assessment of resolvability of groups and adopting resolution decisions for groups. The exercise of those tasks implies expenditures for the Board for collecting and analysing information and data related to each subsidiary included in the perimeter of consolidation. Since those are expenditures related to the services provided by the Board to the entities that are subject to the Single Resolution Mechanism, they should be paid by those entities and therefore the administrative contributions should be calculated on the basis of their consolidated accounts at the highest level of consolidation within the participating Member States and only one contribution per group should be calculated.|(1113, 10213)\n",
      "Whereas, , Pursuant to Article 65(3) of Regulation (EU) No 806/2014 the Board is to determine and raise contributions as well as to ensure that they are fully and timely paid.|(1113, 10213)\n",
      "In order to enable the Board to meet those requirements, an efficient system for raising the administrative contributions from the institutions and entities referred to in Article 2 of Regulation (EU) No 806/2014 should be ensured. Those institutions and entities are already subject to numerous reporting obligations set out in Union legislation. More specifically, pursuant to Regulation (EU) No 1163/2014 of the European Central Bank (3), the ECB collects data on total assets and total risk exposure for the purposes of calculating supervisory fees. The data collected in accordance with Regulation (EU) No 1163/2014 can be meaningfully used for the calculation of the administrative contributions to the Board. Pursuant to Article 30(2) of Regulation (EU) No 806/2014, the Board and the ECB are to cooperate closely in the exercise of their respective responsibilities under that Regulation and, in particular, provide each other with all the information necessary for the performance of their tasks.|(1113, 10213)\n",
      "It is more efficient to request the ECB to transmit data it received and verified in the exercise of its tasks and powers conferred on it by Council Regulation (EU) No 1024/2013 (4) to the Board, than to duplicate the reporting burden for the institutions and entities concerned. Data sharing between the ECB and the Board would also allow avoiding duplication of the data verification process by the Board and builds on the obligation of the Board and the ECB to cooperate closely in the exercise of their respective responsibilities under Regulation (EU) No 806/2014. Any duplication of the data reporting and verification processes would inevitably require more time for the calculation and raising of contributions and would lead to a less efficient system. It follows that, as a part of the cooperation obligation, the ECB should be required to transmit to the Board the data received from the institutions and entities concerned for the purpose of calculating contributions to the Board. The Board should rely to the greatest extent possible on the data collected by the ECB.|(1113, 10213)\n",
      "The Board should have access to the aforementioned data to the extent necessary for the fulfilment of its tasks under this Regulation.|(1113, 10213)\n",
      "Whereas, , The allocation of contributions should reflect the difference in the workload and related expenditures for the entities under the Board's direct responsibility as opposed to those under the responsibility of national resolution authorities. Therefore, this Regulation should determine how the contributions should be split between those two groups of entities. Within those two groups, the final system established by this Regulation should require entities to contribute in proportion to the resource requirements that they individually place on the Board, as approximated by observable data.|(1113, 10213)\n",
      "Whereas, , In order to provide certainty, both to the Board and to the entities concerned, on how individual annual contributions are to be adjusted in the case of an error in the calculation or changes to the underlying data, this Regulation should lay down specific rules in that respect.|(1113, 10213)\n",
      "Where the Board makes an error in the calculation of the annual contribution, it should be required to rectify that error. Such a requirement should apply as regards errors that occur because the Board applies incorrectly the methodology for calculating the individual annual contributions. In such cases, all contributions should be amended. On the contrary, cases where the input data used in the calculation of individual annual contributions is not correct or is subject to a change after the calculation was performed should not be considered errors in the calculation and should therefore be treated differently. In such cases, only the contributions of the entities whose data was not correct or was subject to a change should be amended.|(1113, 10213)\n",
      "Whereas, , In accordance with Article 3 of Council Regulation No 1 (5) the contribution notice and any further communications by the Board should be in the language of the Member State in which the recipient institution is established.|(1113, 10213)\n",
      "Whereas, , The payments of the annual contributions should be enforceable and interest on late payment should apply in the event of partial payment, non-payment or non-compliance with the conditions for payment specified in the contribution notice, in order to ensure the full and timely payment of the contributions.|(1113, 10213)\n",
      "Whereas, , The contributions of significant entities covered by the provisional system should be reassessed to take into account the amounts paid by them under that provisional system.|(1113, 10213)\n",
      "Any difference between the instalments paid on the basis of the provisional system and the contributions calculated in accordance with the final system should be settled in the calculation of the contributions to the administrative expenditures of the Board for the year following the end of the provisional period.|(1113, 10213)\n",
      "Whereas, , Since this Regulation introduces the final system of contributions to the administrative expenditures of the Board, the Regulation on the provisional system is no longer necessary and should be repealed.|(1113, 10213)\n",
      "HAS ADOPTED THIS REGULATION:|(10256, 10284)\n",
      "Article 1|(10289, 10298)\n",
      "Subject matter|(10303, 10317)\n",
      "This Regulation lays down rules to determine the final system for the calculation of the contributions to the administrative expenditures of the Single Resolution Board (‘the Board’) due by the entities referred to in Article 2 of Regulation (EU) No 806/2014.|(10322, 11463)\n",
      "This Regulation lays down rules to determine the way in which the contributions are to be paid.|(10322, 11463)\n",
      "This Regulation lays down rules to determine the registration, accounting, reporting and other rules necessary to ensure that the contributions are paid fully and in a timely manner.|(10322, 11463)\n",
      "This Regulation lays down rules to determine the methodology for the recalculation and adjustment of the contributions due for the provisional period.|(10322, 11463)\n",
      "Article 2|(11506, 11515)\n",
      "Definitions|(11520, 11531)\n",
      "For the purposes of this Regulation, the definitions set out in Regulation (EU) No 1163/2014 shall apply. The following definitions shall also apply ❮‘administrative expenditures of the Board’ means the expenditure of Part I of the budget of the Board, as referred to in Article 59(2) of Regulation (EU) No 806/2014 ‖ ‘annual contribution’ means the contribution to be collected by the Board for a given financial year in accordance with this Regulation in order to cover the administrative expenditures of the Board ‖ ‘contribution debtor’ means the fee debtor determined in accordance with Article 4 of Regulation (EU) No 1163/2014 for the purposes of collecting the supervisory fee and falling under the scope of Article 2 of Regulation (EU) No 806/2014 ‖ ‘provisional period’ means the period beginning on 19 August 2014 and ending on 31 December 2017❯|(11536, 12975)\n",
      "Article 3|(13018, 13027)\n",
      "Determination of total amount of annual contributions to be raised|(13032, 13098)\n",
      "The total amount of annual contributions to be raised for a given financial year shall be calculated on the basis of Part I of the budget adopted by the Board for that financial year in accordance with Article 61 of Regulation (EU) No 806/2014, adjusted by the result of the budget of the latest financial year for which the final accounts have been published in accordance with Article 63(7) of that Regulation.|(13103, 13515)\n",
      "The Board shall determine the total amount of annual contributions so that Part I of the budget of the Board is balanced.|(13520, 13641)\n",
      "Article 4|(13646, 13655)\n",
      "Allocation of total amount of annual contributions|(13660, 13710)\n",
      "1.   The total amount to be raised in accordance with Article 3 shall be allocated as described in the following list ❮95 % to the following entities and groups ❬entities and groups referred to in Article 7(2) of Regulation (EU) No 806/2014 ‖ and/or entities and groups with regard to which the Board has decided to exercise powers under Regulation (EU) No 806/2014 pursuant to Article 7(4)(b) of that Regulation ‖ and/or entities and groups in relation to which participating Member States have decided in accordance with Article 7(5) of Regulation (EU) No 806/2014 that the Board exercise powers and responsibilities conferred to it by that Regulation❭ ‖ 5 % to entities and groups referred to in Article 7(3) of Regulation (EU) No 806/2014❯|(13715, 15665)\n",
      "2.   Without prejudice to Article 7, the Board shall assign entities and groups to one of the two categories laid down in paragraph 1 based on the data which the ECB provides to the Board in accordance with Article 6(1) or Article 11, as applicable.|(15708, 15957)\n",
      "3.   Where an entity falls under the scope of paragraph 1(a), all the entities that are part of the same group shall be assigned to the same category.|(15962, 16112)\n",
      "4.   The Board shall report yearly to the Commission on the appropriateness of the allocation laid down in paragraph 1, in the light of the changing composition of the two categories of entities and groups.|(16117, 16323)\n",
      "Article 5|(16328, 16337)\n",
      "Calculation of the individual annual contributions|(16342, 16392)\n",
      "1.   The Board shall calculate the individual annual contributions due for each financial year on the basis of the data received in accordance with Article 6 and the total amount of annual contributions as determined in accordance with Article 3.|(16397, 16643)\n",
      "2.   For the purposes of calculating the individual annual contributions, the Board shall apply the provisions laid down in Article 10(1), (2) and (3) and Article 10(6)(a), (b) and (c) of Regulation (EU) No 1163/2014.|(16648, 16865)\n",
      "3.   For the purpose of applying the provisions referred to in paragraph 2, , ‘annual supervisory fee’ means individual annual contribution.|(16870, 18121)\n",
      "3.   For the purpose of applying the provisions referred to in paragraph 2, , ‘significant supervised entity’ or ‘significant supervised group’ means an entity or group as referred to in Article 4(1)(a).|(16870, 18121)\n",
      "3.   For the purpose of applying the provisions referred to in paragraph 2, , ‘less significant supervised entity’ or ‘less significant supervised group’ means an entity or group as referred to in Article 4(1)(b).|(16870, 18121)\n",
      "3.   For the purpose of applying the provisions referred to in paragraph 2, , ‘supervised entity’ or ‘supervised group’ means any entity or group.|(16870, 18121)\n",
      "3.   For the purpose of applying the provisions referred to in paragraph 2, , ‘fee debtor’ means contribution debtor.|(16870, 18121)\n",
      "4.   The annual contribution due by the entities referred to in Article 2 of Regulation (EU) No 806/2014 that are members of the same group shall be calculated as a single contribution.|(18164, 18349)\n",
      "5.   Where the Board makes an error in the calculation of an individual annual contribution, it shall rectify the error by recalculating the individual annual contribution of each affected entity. The Board shall settle any difference between the individual annual contribution paid and the recalculated amount by increasing or decreasing the individual annual contribution calculated in the financial year following the recalculation.|(18354, 18789)\n",
      "However, no recalculation shall be performed where the Board becomes aware of an error more than 5 years after the end of the financial year in which the error occurred.|(18794, 18963)\n",
      "Article 6|(18968, 18977)\n",
      "Data necessary for the calculation of individual annual contributions|(18982, 19051)\n",
      "1.   Each year, within 5 working days of the issuance of fee notices in accordance with Article 12(1) of Regulation (EU) No 1163/2014, and in any case no later than 31 December of the year for which the fee notices are issued, the ECB shall provide the Board with data on each contribution debtor as collected by the ECB in that year and used to determine the supervisory fees in accordance with Regulation (EU) No 1163/2014.|(19056, 19481)\n",
      "2.   The data shall contain at least the following elements ❮the identity and contact details of each contribution debtor as determined in accordance with Article 4 of Regulation (EU) No 1163/2014 for the purpose of the supervisory fees ‖ the fee factors determined in accordance with Article 10 of Regulation (EU) No 1163/2014 ‖ whether a contribution debtor is significant in accordance with Article 6(4) of Regulation (EU) No 1024/2013 or is an entity or group in relation to which the ECB has decided in accordance with Article 6(5)(b) of Regulation (EU) No 1024/2013 to exercise directly all of the relevant powers ‖ any data that the ECB has determined in the absence of reporting from a contribution debtor, in accordance with Article 10(5) of Regulation (EU) No 1163/2014 ‖ the validity date underlying the fee calculation of each contribution debtor determining the duration the contribution debtor was subject to the supervisory fee and any change of status in accordance with Article 7(2) of Regulation (EU) No 1163/2014 in the given fee period❯|(19486, 21280)\n",
      "3.   For the purposes of point (a) of paragraph 2, the identity and contact details of each contribution debtor shall include any personal data within the meaning of Regulation (EC) No 45/2001 (6) that is collected by the ECB for the purposes of carrying out its tasks under Regulation (EU) No 1163/2014 and that is necessary for the fulfilment of the tasks under this Regulation by the Board.|(21323, 21716)\n",
      "4.   Where, for the purposes of this Regulation, the Board needs to identify whether an entity is part of the group that has nominated a given contribution debtor, the ECB, national resolution authorities and national competent authorities shall assist the Board with all relevant information.|(21721, 22014)\n",
      "5.   In case the ECB issues additional invoices or recalculates the annual supervisory fee in accordance with Article 7 of Regulation (EU) No 1163/2014, the ECB shall communicate to the Board the new data within 5 days of the issuance of fee notices.|(22019, 22269)\n",
      "6.   For the calculation of the individual annual contributions to be collected in a given financial year, the Board shall use the data collected by the ECB in the previous financial year in accordance with Regulation (EU) No 1163/2014 and provided to the Board in accordance with this Article or Article 11, as applicable.|(22274, 22597)\n",
      "7.   Where the ECB, in a given financial year, has not provided the Board within the periods laid down in this Article with the data necessary for the calculation of the annual contributions, the Board may use the latest available data provided to it by the ECB for the purposes of that calculation.|(22602, 22901)\n",
      "8.   In case no data provided by the ECB is available, the relevant national competent authority shall upon request provide the Board with the data at its disposal.|(22906, 23070)\n",
      "9.   In case no data provided by the national competent authority is available, the contribution debtor shall upon request provide the Board with the necessary data within a deadline set by the Board. In the absence of a reply by the contribution debtor within the deadline set by the Board, the Board may determine the data on the basis of reasonable assumptions.|(23075, 23439)\n",
      "10.   The Board shall use the data specified in this Article only for the purposes of and in accordance with this Regulation.|(23444, 23569)\n",
      "Article 7|(23574, 23583)\n",
      "Change in scope, status or other data|(23588, 23625)\n",
      "1.   Where an entity or a group falls under the scope of Article 2 of Regulation (EU) No 806/2014 only for part of the financial year, its individual annual contribution for that financial year shall be calculated by reference to the number of full months during which it falls under the scope of that Article.|(23630, 23940)\n",
      "2.   Where the status of an entity or a group changes between the categories specified in Article 4(1) during a financial year, its individual annual contribution for that financial year shall be calculated on the basis of the number of months for which the entity or a group fell under the respective category at the last day of the month.|(23945, 24285)\n",
      "3.   Where other changes to the data of an entity or a group that were used to calculate its individual annual contribution for a financial year occur, the individual annual contribution of that entity or group for that financial year shall be calculated on the basis of the updated data.|(24290, 24578)\n",
      "4.   Where a change as referred to in paragraphs 1 and 2 has been reported by the ECB or a change as referred to in paragraph 3 occurred, the Board shall recalculate only the individual annual contribution of that entity or group for the financial years concerned. Where changes as referred to in paragraph 1, 2 or 3 have occurred in relation to several entities or groups during the same financial year, the Board shall only take into account the changes concerning an individual entity or group for the purposes of recalculating the individual annual contribution of that entity or group.|(24583, 25173)\n",
      "5.   Where the amount of an individual annual contribution paid is higher than the amount recalculated in accordance with paragraph 4, the Board shall refund the difference to the entity or group concerned. Where the amount of an individual annual contribution paid is lower than the amount recalculated in accordance with paragraph 4, the entity or group concerned shall pay the difference to the Board. For the purposes of refunding or collecting an amount due in accordance with this paragraph, the Board shall decrease or increase the individual annual contribution of the entity or group concerned in the financial year following the recalculation pursuant to paragraph 4.|(25178, 25855)\n",
      "6.   The individual annual contributions of entities or groups that are not subject to changes as referred to in paragraph 1, 2 or 3 shall not be adjusted.|(25860, 26015)\n",
      "7.   The Board shall apply the aggregate surplus or deficit resulting from all the adjustments made in accordance with paragraph 5 to the total amount of annual contributions to be determined in accordance with Article 3 for the financial year following the financial year in which the adjustments are applied.|(26020, 26330)\n",
      "8.   In line with the principle of sound management of its budget, the Board shall take any decisions deemed necessary in order to implement the provisions laid down in this Article, including as regards the timing of the refunds by the Board and of the additional payments to be collected from the entities.|(26335, 26643)\n",
      "Article 8|(26648, 26657)\n",
      "Contribution notice, communications, payments and interest for late payment|(26662, 26737)\n",
      "1.   A contribution notice shall be issued by the Board to the contribution debtors.|(26742, 26826)\n",
      "2.   The Board shall notify the contribution notice through any of the following means ❮electronically or by other comparable means of communication ‖ by fax ‖ by express courier service ‖ by registered mail with a form for acknowledgement of receipt ‖ by service or delivery by hand❯|(26831, 27853)\n",
      "The contribution notice shall be valid without signature.|(27896, 27953)\n",
      "3.   The contribution notice shall specify the amount of the annual contribution and the way in which the annual contribution shall be paid. It shall be duly reasoned with regard to the factual and legal aspects of the individual contribution decision.|(27958, 28210)\n",
      "4.   The Board shall address any other communication with regard to the annual contribution, including any settlement decision in accordance with Article 10(8), to the contribution debtor.|(28215, 28403)\n",
      "5.   The contribution shall be payable in euros.|(28408, 28456)\n",
      "6.   The contribution debtor shall pay the amount of the annual contribution within 35 calendar days of the issuance of the contribution notice. The contribution debtor shall comply with the requirements set out in the contribution notice with respect to the payment of the annual contribution. The date of payment shall be the date on which the Board's account is credited.|(28461, 28835)\n",
      "7.   The annual contribution due by the entities referred to in Article 2 of Regulation (EU) No 806/2014 that are members of the same group shall be collected from the contribution debtor of that group.|(28840, 29042)\n",
      "8.   Without prejudice to any other remedy available to the Board, in the event of partial payment, non-payment or non-compliance with the conditions for payment specified in the contribution notice, interest shall accrue on a daily basis on the outstanding amount of the annual contribution at an interest rate of the ECB's main refinancing rate plus 8 percentage points from the date on which the payment was due.|(29047, 29462)\n",
      "9.   In the event of any partial payment, non-payment or non-compliance with the conditions for payment specified in the contribution notice by the contribution debtor, the Board shall inform the national resolution authority of the participating Member State in which the contribution debtor is established.|(29467, 29775)\n",
      "Article 9|(29780, 29789)\n",
      "Enforcement|(29794, 29805)\n",
      "1.   The payments of the annual contributions due and any interest for late payment pursuant to Article 8(8) shall be enforceable.|(29810, 29940)\n",
      "2.   Enforcement shall be governed by the procedural rules applicable in the participating Member State in whose territory it is carried out.|(29945, 30086)\n",
      "3.   The government of each participating Member State shall designate and notify to the Board and to the Court of Justice of the European Union an authority for the purposes of verifying the authenticity of individual contribution decisions.|(30091, 30333)\n",
      "4.   An order for enforcement shall be appended to each individual contribution decision. The enforcement shall not be subject to any formality other than the verification of the authenticity of the decision by the authority designated pursuant to paragraph 3.|(30338, 30598)\n",
      "5.   National resolution authorities shall assist the Board in the enforcement procedure governed by the applicable procedural rules in the participating Member State.|(30603, 30770)\n",
      "Article 10|(30775, 30785)\n",
      "Recalculation and settlement of contributions due for the provisional period|(30790, 30866)\n",
      "1.   For the purposes of the recalculation and settlement of contributions due for the provisional period, the months of November and December 2014 shall be considered part of the financial year 2015.|(30871, 31071)\n",
      "2.   The Board shall recalculate, in accordance with the provisions laid down in this Regulation, the amount of contributions due by each entity referred to in Article 2 of Regulation (EU) No 806/2014 to cover the administrative expenditures of the Board during the provisional period.|(31076, 31361)\n",
      "3.   Without prejudice to Article 6(4), for the recalculation of the amount of contributions due by each entity in the financial years belonging to the provisional period, the Board shall use the data collected by the ECB in those financial years in accordance with Regulation (EU) No 1163/2014 and provided to the Board in accordance with Article 11.|(31366, 31717)\n",
      "4.   Any difference between the instalments paid by significant entities on the basis of the provisional system laid down in Delegated Regulation (EU) No 1310/2014 and the contributions referred to in paragraph 2 shall be settled in the calculation of the annual contributions due for the financial year which follows the end of the provisional period. That settlement shall be made by decreasing or increasing the annual contributions due for that financial year.|(31722, 32186)\n",
      "5.   Entities referred to in Article 2 of Regulation (EU) No 806/2014 for which the calculation and collection of contributions was deferred in the provisional period shall pay contributions calculated in accordance with paragraph 2 for the years belonging to the provisional period. Those contributions shall increase the annual contributions due for the financial year which follows the end of the provisional period.|(32191, 32610)\n",
      "6.   For the purposes of paragraph 4 ‘significant entities’ shall mean the entities that have been notified by the ECB, at the highest level of consolidation within the participating Member States, of the ECB's decision to consider them significant within the meaning of Article 6(4) of Regulation (EU) No 1024/2013 and in accordance with Article 147(1) of Regulation (EU) No 468/2014 (7), and which are mentioned in the list published on the ECB's website on 4 September 2014, but excluding those significant entities, which are subsidiaries of a group, that is already taken into account in this definition, and branches, which are established in participating Member States, of credit institutions established in non-participating Member States.|(32615, 33363)\n",
      "7.   Where the difference referred to in paragraph 4 or the contributions for the years belonging to the provisional period referred to in paragraph 5 are higher than the contributions due for the financial year which follows the end of the provisional period, the adjustment shall continue in the subsequent financial years.|(33368, 33693)\n",
      "8.   Where two or more entities within a group are subject to settlements pursuant to paragraph 4 or 5, the Board may set off contributions due against reimbursements with respect to entities of that group.|(33698, 33904)\n",
      "Article 11|(33909, 33919)\n",
      "Data necessary for the purposes of recalculating the contributions for financial years belonging to the provisional period|(33924, 34046)\n",
      "Within 30 days of the entry into force of this Regulation, the ECB shall provide the Board with the data as specified in Article 6 and collected by the ECB in accordance with Regulation (EU) No 1163/2014 in financial years belonging to the provisional period.|(34051, 34310)\n",
      "Article 12|(34315, 34325)\n",
      "Outsourcing|(34330, 34341)\n",
      "1.   The Board may decide on the full or partial outsourcing of specific tasks provided for in this Regulation.|(34346, 34457)\n",
      "2.   The Board shall restrict any outsourcing to technical tasks which are related to the raising of contributions and do not involve the exercise of its powers as regards the determination of contributions.|(34462, 34669)\n",
      "3.   Any mandate given to a service provider for the purposes of outsourcing tasks shall clearly state the duration of the mandate and the specific tasks that are outsourced and establish a framework for regular reporting by the service provider to the Board.|(34674, 34933)\n",
      "4.   Any contract between the Board and a service provider for the purposes of outsourcing tasks in accordance with paragraph 1 shall include clauses governing the Board's cancellation rights, rights relating to further subcontracting and non-performance by the service provider.|(34938, 35217)\n",
      "5.   Where the Board fully or partially outsources tasks in accordance with paragraph 1, it shall remain fully responsible for discharging all of its obligations under Regulation (EU) No 806/2014 and this Regulation.|(35222, 35438)\n",
      "6.   Where the Board fully or partially outsources tasks in accordance with paragraph 1, it shall ensure at all times that any contract concluded for the purposes of the outsourcing does not provide for the delegation of the Board's responsibility.|(35443, 37486)\n",
      "6.   Where the Board fully or partially outsources tasks in accordance with paragraph 1, it shall ensure at all times that any contract concluded for the purposes of the outsourcing does not provide for an exclusion of the Board's accountability under Article 45 and Article 46(1) of Regulation (EU) No 806/2014, or of its independence under Article 47 of that Regulation.|(35443, 37486)\n",
      "6.   Where the Board fully or partially outsources tasks in accordance with paragraph 1, it shall ensure at all times that the outsourcing does not result in depriving the Board from the necessary systems and controls to manage the risks it faces.|(35443, 37486)\n",
      "6.   Where the Board fully or partially outsources tasks in accordance with paragraph 1, it shall ensure at all times that the service provider implements business continuity arrangements equivalent to those of the Board.|(35443, 37486)\n",
      "6.   Where the Board fully or partially outsources tasks in accordance with paragraph 1, it shall ensure at all times that the Board retains the necessary expertise and resources to evaluate the quality of the services provided and the organisational adequacy of the service provider; the Board supervises the outsourced functions effectively and manages the risks associated with the outsourcing on an ongoing basis.|(35443, 37486)\n",
      "6.   Where the Board fully or partially outsources tasks in accordance with paragraph 1, it shall ensure at all times that the Board has direct access to the relevant information allowing it to exercise the necessary control on the outsourced tasks.|(35443, 37486)\n",
      "7.   Where the Board fully or partially outsources tasks in accordance with paragraph 1, it shall ensure that the service provider is obliged to comply with the Board's internal legal requirements and principles concerning security and confidentiality. Any confidential information relating to the Board and accessible to the service provider shall be used only to the extent necessary for the fulfilment of the mandate conferred by the Board.|(37529, 37972)\n",
      "8.   Before taking any decision on outsourcing, the Board shall obtain the consent of the ECB to share the data provided by the ECB with a service provider, in accordance with applicable confidentiality provisions.|(37977, 38191)\n",
      "Article 13|(38196, 38206)\n",
      "Assistance by national resolution authorities|(38211, 38256)\n",
      "The Board may request the national resolution authorities to assist in the process of raising annual contributions where such request is justified by the circumstances of the individual case.|(38261, 38452)\n",
      "Article 14|(38457, 38467)\n",
      "Repeal|(38472, 38478)\n",
      "Delegated Regulation (EU) No 1310/2014 is repealed.|(38483, 38534)\n",
      "Article 15|(38539, 38549)\n",
      "Entry into force|(38554, 38570)\n",
      "This Regulation shall enter into force on the twentieth day following that of its publication in the Official Journal of the European Union.|(38575, 38715)\n",
      "This Regulation shall be binding in its entirety and directly applicable in all Member States.|(38728, 38822)\n",
      "Done at Brussels, 14 September 2017.|(38830, 38866)\n",
      "For the Commission|(38885, 38928)\n",
      "The President|(38939, 38977)\n",
      "Jean-Claude JUNCKER|(38988, 39007)\n",
      "(1)  OJ L 225, 30.7.2014, p. 1.|(39030, 39069)\n",
      "(2)  Commission Delegated Regulation (EU) No 1310/2014 of 8 October 2014 on the provisional system of instalments on contributions to cover the administrative expenditures of the Single Resolution Board during the provisional period (OJ L 354, 11.12.2014, p. 1).|(39074, 39344)\n",
      "(3)  Regulation (EU) No 1163/2014 of the European Central Bank of 22 October 2014 on supervisory fees (ECB/2014/41) (OJ L 311, 31.10.2014, p. 23).|(39349, 39503)\n",
      "(4)  Council Regulation (EU) No 1024/2013 of 15 October 2013 conferring specific tasks on the European Central Bank concerning policies relating to the prudential supervision of credit institutions (OJ L 287, 29.10.2013, p. 63).|(39508, 39744)\n",
      "(5)  Council Regulation No 1 determining the languages to be used by the European Economic Community (OJ 17, 6.10.1958, p. 385).|(39749, 39885)\n",
      "(6)  Regulation (EC) No 45/2001 of the European Parliament and of the Council of 18 December 2000 on the protection of individuals with regard to the processing of personal data by the Community institutions and bodies and on the free movement of such data (OJ L 8, 12.1.2001, p. 1).|(39890, 40181)\n",
      "(7)  Regulation (EU) No 468/2014 of the European Central Bank of 16 April 2014 establishing the framework for cooperation within the Single Supervisory Mechanism between the European Central Bank and national competent authorities and with national designated authorities (SSM Framework Regulation) (ECB/2014/17) (OJ L 141, 14.5.2014, p. 1).|(40186, 40535)\n"
     ]
    }
   ],
   "source": [
    "#print( cas.get_view( \"ListView\" ).sofa_string )"
   ]
  },
  {
   "cell_type": "code",
   "execution_count": null,
   "metadata": {},
   "outputs": [],
   "source": []
  },
  {
   "cell_type": "code",
   "execution_count": null,
   "metadata": {},
   "outputs": [],
   "source": []
  },
  {
   "cell_type": "code",
   "execution_count": null,
   "metadata": {},
   "outputs": [],
   "source": []
  },
  {
   "cell_type": "code",
   "execution_count": 4,
   "metadata": {},
   "outputs": [],
   "source": []
  },
  {
   "cell_type": "code",
   "execution_count": null,
   "metadata": {},
   "outputs": [],
   "source": []
  },
  {
   "cell_type": "code",
   "execution_count": null,
   "metadata": {
    "scrolled": true
   },
   "outputs": [],
   "source": []
  },
  {
   "cell_type": "code",
   "execution_count": null,
   "metadata": {
    "scrolled": true
   },
   "outputs": [],
   "source": []
  },
  {
   "cell_type": "code",
   "execution_count": 27,
   "metadata": {},
   "outputs": [],
   "source": [
    "line_offset=[]\n",
    "for line, offset in zip( transformed_lines, transformed_lines_offsets  ):\n",
    "    line_offset.append(line + \"|\" + str( offset ))"
   ]
  },
  {
   "cell_type": "code",
   "execution_count": 28,
   "metadata": {
    "scrolled": true
   },
   "outputs": [
    {
     "data": {
      "text/plain": [
       "['19.12.2017|(184, 197)',\n",
       " 'EN|(242, 244)',\n",
       " 'Official Journal of the European Union|(289, 327)',\n",
       " 'L 337/6|(372, 379)',\n",
       " 'COMMISSION DELEGATED REGULATION (EU) 2017/2361|(427, 473)',\n",
       " 'of 14 September 2017|(478, 498)',\n",
       " 'on the final system of contributions to the administrative expenditures of the Single Resolution Board|(503, 605)',\n",
       " 'THE EUROPEAN COMMISSION,|(610, 634)',\n",
       " 'Having regard to the Treaty on the Functioning of the European Union,|(639, 708)',\n",
       " 'Having regard to Regulation (EU) No 806/2014 of the European Parliament and of the Council of 15 July 2014 establishing uniform rules and a uniform procedure for the resolution of credit institutions and certain investment firms in the framework of a Single Resolution Mechanism and a Single Resolution Fund and amending Regulation (EU) No 1093/2010 (1), and in particular Article 65(5) thereof,|(713, 1108)',\n",
       " 'Whereas, , The provisional system of instalments on contributions to the administrative expenditures of the Board, laid down in Commission Delegated Regulation (EU) No 1310/2014 (2), was based on a simplified methodology and covered only a limited subset of entities, namely the entities which are considered significant by the European Central Bank (ECB) (‘significant entities’). That provisional system was introduced in order to ensure sufficient funding for the establishment of the Board while minimising the administrative burden for the Board, which at the time had only a limited structure and operational capacity. The provisional system was intended to apply until the Commission would adopt a final system for the determination and raising of the contributions to administrative expenditures.|(1113, 10213)',\n",
       " 'Whereas, , As the Board has acquired a more stable structure and operational capacity, it is now appropriate to establish the final system of annual contributions to the administrative expenditures of the Board.|(1113, 10213)',\n",
       " 'A final system should replace the provisional system laid down in Delegated Regulation (EU) No 1310/2014.|(1113, 10213)',\n",
       " 'Whereas, , Such a final system should provide for the determination and raising of administrative contributions not only for significant entities, but for all entities that are subject to the Single Resolution Mechanism. The contributions should be calculated at the highest level of consolidation of those entities within the participating Member States, since all subsidiaries of a group inside the perimeter of consolidation fall within the scope of the decision-making powers of the Board when adopting group resolution plans, carrying out the assessment of resolvability of groups and adopting resolution decisions for groups. The exercise of those tasks implies expenditures for the Board for collecting and analysing information and data related to each subsidiary included in the perimeter of consolidation. Since those are expenditures related to the services provided by the Board to the entities that are subject to the Single Resolution Mechanism, they should be paid by those entities and therefore the administrative contributions should be calculated on the basis of their consolidated accounts at the highest level of consolidation within the participating Member States and only one contribution per group should be calculated.|(1113, 10213)',\n",
       " 'Whereas, , Pursuant to Article 65(3) of Regulation (EU) No 806/2014 the Board is to determine and raise contributions as well as to ensure that they are fully and timely paid.|(1113, 10213)',\n",
       " 'In order to enable the Board to meet those requirements, an efficient system for raising the administrative contributions from the institutions and entities referred to in Article 2 of Regulation (EU) No 806/2014 should be ensured. Those institutions and entities are already subject to numerous reporting obligations set out in Union legislation. More specifically, pursuant to Regulation (EU) No 1163/2014 of the European Central Bank (3), the ECB collects data on total assets and total risk exposure for the purposes of calculating supervisory fees. The data collected in accordance with Regulation (EU) No 1163/2014 can be meaningfully used for the calculation of the administrative contributions to the Board. Pursuant to Article 30(2) of Regulation (EU) No 806/2014, the Board and the ECB are to cooperate closely in the exercise of their respective responsibilities under that Regulation and, in particular, provide each other with all the information necessary for the performance of their tasks.|(1113, 10213)',\n",
       " 'It is more efficient to request the ECB to transmit data it received and verified in the exercise of its tasks and powers conferred on it by Council Regulation (EU) No 1024/2013 (4) to the Board, than to duplicate the reporting burden for the institutions and entities concerned. Data sharing between the ECB and the Board would also allow avoiding duplication of the data verification process by the Board and builds on the obligation of the Board and the ECB to cooperate closely in the exercise of their respective responsibilities under Regulation (EU) No 806/2014. Any duplication of the data reporting and verification processes would inevitably require more time for the calculation and raising of contributions and would lead to a less efficient system. It follows that, as a part of the cooperation obligation, the ECB should be required to transmit to the Board the data received from the institutions and entities concerned for the purpose of calculating contributions to the Board. The Board should rely to the greatest extent possible on the data collected by the ECB.|(1113, 10213)',\n",
       " 'The Board should have access to the aforementioned data to the extent necessary for the fulfilment of its tasks under this Regulation.|(1113, 10213)',\n",
       " \"Whereas, , The allocation of contributions should reflect the difference in the workload and related expenditures for the entities under the Board's direct responsibility as opposed to those under the responsibility of national resolution authorities. Therefore, this Regulation should determine how the contributions should be split between those two groups of entities. Within those two groups, the final system established by this Regulation should require entities to contribute in proportion to the resource requirements that they individually place on the Board, as approximated by observable data.|(1113, 10213)\",\n",
       " 'Whereas, , In order to provide certainty, both to the Board and to the entities concerned, on how individual annual contributions are to be adjusted in the case of an error in the calculation or changes to the underlying data, this Regulation should lay down specific rules in that respect.|(1113, 10213)',\n",
       " 'Where the Board makes an error in the calculation of the annual contribution, it should be required to rectify that error. Such a requirement should apply as regards errors that occur because the Board applies incorrectly the methodology for calculating the individual annual contributions. In such cases, all contributions should be amended. On the contrary, cases where the input data used in the calculation of individual annual contributions is not correct or is subject to a change after the calculation was performed should not be considered errors in the calculation and should therefore be treated differently. In such cases, only the contributions of the entities whose data was not correct or was subject to a change should be amended.|(1113, 10213)',\n",
       " 'Whereas, , In accordance with Article 3 of Council Regulation No 1 (5) the contribution notice and any further communications by the Board should be in the language of the Member State in which the recipient institution is established.|(1113, 10213)',\n",
       " 'Whereas, , The payments of the annual contributions should be enforceable and interest on late payment should apply in the event of partial payment, non-payment or non-compliance with the conditions for payment specified in the contribution notice, in order to ensure the full and timely payment of the contributions.|(1113, 10213)',\n",
       " 'Whereas, , The contributions of significant entities covered by the provisional system should be reassessed to take into account the amounts paid by them under that provisional system.|(1113, 10213)',\n",
       " 'Any difference between the instalments paid on the basis of the provisional system and the contributions calculated in accordance with the final system should be settled in the calculation of the contributions to the administrative expenditures of the Board for the year following the end of the provisional period.|(1113, 10213)',\n",
       " 'Whereas, , Since this Regulation introduces the final system of contributions to the administrative expenditures of the Board, the Regulation on the provisional system is no longer necessary and should be repealed.|(1113, 10213)',\n",
       " 'HAS ADOPTED THIS REGULATION:|(10256, 10284)',\n",
       " 'Article 1|(10289, 10298)',\n",
       " 'Subject matter|(10303, 10317)',\n",
       " 'This Regulation lays down rules to determine the final system for the calculation of the contributions to the administrative expenditures of the Single Resolution Board (‘the Board’) due by the entities referred to in Article 2 of Regulation (EU) No 806/2014.|(10322, 11463)',\n",
       " 'This Regulation lays down rules to determine the way in which the contributions are to be paid.|(10322, 11463)',\n",
       " 'This Regulation lays down rules to determine the registration, accounting, reporting and other rules necessary to ensure that the contributions are paid fully and in a timely manner.|(10322, 11463)',\n",
       " 'This Regulation lays down rules to determine the methodology for the recalculation and adjustment of the contributions due for the provisional period.|(10322, 11463)',\n",
       " 'Article 2|(11506, 11515)',\n",
       " 'Definitions|(11520, 11531)',\n",
       " 'For the purposes of this Regulation, the definitions set out in Regulation (EU) No 1163/2014 shall apply. The following definitions shall also apply ❮‘administrative expenditures of the Board’ means the expenditure of Part I of the budget of the Board, as referred to in Article 59(2) of Regulation (EU) No 806/2014 ‖ ‘annual contribution’ means the contribution to be collected by the Board for a given financial year in accordance with this Regulation in order to cover the administrative expenditures of the Board ‖ ‘contribution debtor’ means the fee debtor determined in accordance with Article 4 of Regulation (EU) No 1163/2014 for the purposes of collecting the supervisory fee and falling under the scope of Article 2 of Regulation (EU) No 806/2014 ‖ ‘provisional period’ means the period beginning on 19 August 2014 and ending on 31 December 2017❯|(11536, 12975)',\n",
       " 'Article 3|(13018, 13027)',\n",
       " 'Determination of total amount of annual contributions to be raised|(13032, 13098)',\n",
       " 'The total amount of annual contributions to be raised for a given financial year shall be calculated on the basis of Part I of the budget adopted by the Board for that financial year in accordance with Article 61 of Regulation (EU) No 806/2014, adjusted by the result of the budget of the latest financial year for which the final accounts have been published in accordance with Article 63(7) of that Regulation.|(13103, 13515)',\n",
       " 'The Board shall determine the total amount of annual contributions so that Part I of the budget of the Board is balanced.|(13520, 13641)',\n",
       " 'Article 4|(13646, 13655)',\n",
       " 'Allocation of total amount of annual contributions|(13660, 13710)',\n",
       " '1.   The total amount to be raised in accordance with Article 3 shall be allocated as described in the following list ❮95 % to the following entities and groups ❬entities and groups referred to in Article 7(2) of Regulation (EU) No 806/2014 ‖ and/or entities and groups with regard to which the Board has decided to exercise powers under Regulation (EU) No 806/2014 pursuant to Article 7(4)(b) of that Regulation ‖ and/or entities and groups in relation to which participating Member States have decided in accordance with Article 7(5) of Regulation (EU) No 806/2014 that the Board exercise powers and responsibilities conferred to it by that Regulation❭ ‖ 5 % to entities and groups referred to in Article 7(3) of Regulation (EU) No 806/2014❯|(13715, 15665)',\n",
       " '2.   Without prejudice to Article 7, the Board shall assign entities and groups to one of the two categories laid down in paragraph 1 based on the data which the ECB provides to the Board in accordance with Article 6(1) or Article 11, as applicable.|(15708, 15957)',\n",
       " '3.   Where an entity falls under the scope of paragraph 1(a), all the entities that are part of the same group shall be assigned to the same category.|(15962, 16112)',\n",
       " '4.   The Board shall report yearly to the Commission on the appropriateness of the allocation laid down in paragraph 1, in the light of the changing composition of the two categories of entities and groups.|(16117, 16323)',\n",
       " 'Article 5|(16328, 16337)',\n",
       " 'Calculation of the individual annual contributions|(16342, 16392)',\n",
       " '1.   The Board shall calculate the individual annual contributions due for each financial year on the basis of the data received in accordance with Article 6 and the total amount of annual contributions as determined in accordance with Article 3.|(16397, 16643)',\n",
       " '2.   For the purposes of calculating the individual annual contributions, the Board shall apply the provisions laid down in Article 10(1), (2) and (3) and Article 10(6)(a), (b) and (c) of Regulation (EU) No 1163/2014.|(16648, 16865)',\n",
       " '3.   For the purpose of applying the provisions referred to in paragraph 2, , ‘annual supervisory fee’ means individual annual contribution.|(16870, 18121)',\n",
       " '3.   For the purpose of applying the provisions referred to in paragraph 2, , ‘significant supervised entity’ or ‘significant supervised group’ means an entity or group as referred to in Article 4(1)(a).|(16870, 18121)',\n",
       " '3.   For the purpose of applying the provisions referred to in paragraph 2, , ‘less significant supervised entity’ or ‘less significant supervised group’ means an entity or group as referred to in Article 4(1)(b).|(16870, 18121)',\n",
       " '3.   For the purpose of applying the provisions referred to in paragraph 2, , ‘supervised entity’ or ‘supervised group’ means any entity or group.|(16870, 18121)',\n",
       " '3.   For the purpose of applying the provisions referred to in paragraph 2, , ‘fee debtor’ means contribution debtor.|(16870, 18121)',\n",
       " '4.   The annual contribution due by the entities referred to in Article 2 of Regulation (EU) No 806/2014 that are members of the same group shall be calculated as a single contribution.|(18164, 18349)',\n",
       " '5.   Where the Board makes an error in the calculation of an individual annual contribution, it shall rectify the error by recalculating the individual annual contribution of each affected entity. The Board shall settle any difference between the individual annual contribution paid and the recalculated amount by increasing or decreasing the individual annual contribution calculated in the financial year following the recalculation.|(18354, 18789)',\n",
       " 'However, no recalculation shall be performed where the Board becomes aware of an error more than 5 years after the end of the financial year in which the error occurred.|(18794, 18963)',\n",
       " 'Article 6|(18968, 18977)',\n",
       " 'Data necessary for the calculation of individual annual contributions|(18982, 19051)',\n",
       " '1.   Each year, within 5 working days of the issuance of fee notices in accordance with Article 12(1) of Regulation (EU) No 1163/2014, and in any case no later than 31 December of the year for which the fee notices are issued, the ECB shall provide the Board with data on each contribution debtor as collected by the ECB in that year and used to determine the supervisory fees in accordance with Regulation (EU) No 1163/2014.|(19056, 19481)',\n",
       " '2.   The data shall contain at least the following elements ❮the identity and contact details of each contribution debtor as determined in accordance with Article 4 of Regulation (EU) No 1163/2014 for the purpose of the supervisory fees ‖ the fee factors determined in accordance with Article 10 of Regulation (EU) No 1163/2014 ‖ whether a contribution debtor is significant in accordance with Article 6(4) of Regulation (EU) No 1024/2013 or is an entity or group in relation to which the ECB has decided in accordance with Article 6(5)(b) of Regulation (EU) No 1024/2013 to exercise directly all of the relevant powers ‖ any data that the ECB has determined in the absence of reporting from a contribution debtor, in accordance with Article 10(5) of Regulation (EU) No 1163/2014 ‖ the validity date underlying the fee calculation of each contribution debtor determining the duration the contribution debtor was subject to the supervisory fee and any change of status in accordance with Article 7(2) of Regulation (EU) No 1163/2014 in the given fee period❯|(19486, 21280)',\n",
       " '3.   For the purposes of point (a) of paragraph 2, the identity and contact details of each contribution debtor shall include any personal data within the meaning of Regulation (EC) No 45/2001 (6) that is collected by the ECB for the purposes of carrying out its tasks under Regulation (EU) No 1163/2014 and that is necessary for the fulfilment of the tasks under this Regulation by the Board.|(21323, 21716)',\n",
       " '4.   Where, for the purposes of this Regulation, the Board needs to identify whether an entity is part of the group that has nominated a given contribution debtor, the ECB, national resolution authorities and national competent authorities shall assist the Board with all relevant information.|(21721, 22014)',\n",
       " '5.   In case the ECB issues additional invoices or recalculates the annual supervisory fee in accordance with Article 7 of Regulation (EU) No 1163/2014, the ECB shall communicate to the Board the new data within 5 days of the issuance of fee notices.|(22019, 22269)',\n",
       " '6.   For the calculation of the individual annual contributions to be collected in a given financial year, the Board shall use the data collected by the ECB in the previous financial year in accordance with Regulation (EU) No 1163/2014 and provided to the Board in accordance with this Article or Article 11, as applicable.|(22274, 22597)',\n",
       " '7.   Where the ECB, in a given financial year, has not provided the Board within the periods laid down in this Article with the data necessary for the calculation of the annual contributions, the Board may use the latest available data provided to it by the ECB for the purposes of that calculation.|(22602, 22901)',\n",
       " '8.   In case no data provided by the ECB is available, the relevant national competent authority shall upon request provide the Board with the data at its disposal.|(22906, 23070)',\n",
       " '9.   In case no data provided by the national competent authority is available, the contribution debtor shall upon request provide the Board with the necessary data within a deadline set by the Board. In the absence of a reply by the contribution debtor within the deadline set by the Board, the Board may determine the data on the basis of reasonable assumptions.|(23075, 23439)',\n",
       " '10.   The Board shall use the data specified in this Article only for the purposes of and in accordance with this Regulation.|(23444, 23569)',\n",
       " 'Article 7|(23574, 23583)',\n",
       " 'Change in scope, status or other data|(23588, 23625)',\n",
       " '1.   Where an entity or a group falls under the scope of Article 2 of Regulation (EU) No 806/2014 only for part of the financial year, its individual annual contribution for that financial year shall be calculated by reference to the number of full months during which it falls under the scope of that Article.|(23630, 23940)',\n",
       " '2.   Where the status of an entity or a group changes between the categories specified in Article 4(1) during a financial year, its individual annual contribution for that financial year shall be calculated on the basis of the number of months for which the entity or a group fell under the respective category at the last day of the month.|(23945, 24285)',\n",
       " '3.   Where other changes to the data of an entity or a group that were used to calculate its individual annual contribution for a financial year occur, the individual annual contribution of that entity or group for that financial year shall be calculated on the basis of the updated data.|(24290, 24578)',\n",
       " '4.   Where a change as referred to in paragraphs 1 and 2 has been reported by the ECB or a change as referred to in paragraph 3 occurred, the Board shall recalculate only the individual annual contribution of that entity or group for the financial years concerned. Where changes as referred to in paragraph 1, 2 or 3 have occurred in relation to several entities or groups during the same financial year, the Board shall only take into account the changes concerning an individual entity or group for the purposes of recalculating the individual annual contribution of that entity or group.|(24583, 25173)',\n",
       " '5.   Where the amount of an individual annual contribution paid is higher than the amount recalculated in accordance with paragraph 4, the Board shall refund the difference to the entity or group concerned. Where the amount of an individual annual contribution paid is lower than the amount recalculated in accordance with paragraph 4, the entity or group concerned shall pay the difference to the Board. For the purposes of refunding or collecting an amount due in accordance with this paragraph, the Board shall decrease or increase the individual annual contribution of the entity or group concerned in the financial year following the recalculation pursuant to paragraph 4.|(25178, 25855)',\n",
       " '6.   The individual annual contributions of entities or groups that are not subject to changes as referred to in paragraph 1, 2 or 3 shall not be adjusted.|(25860, 26015)',\n",
       " '7.   The Board shall apply the aggregate surplus or deficit resulting from all the adjustments made in accordance with paragraph 5 to the total amount of annual contributions to be determined in accordance with Article 3 for the financial year following the financial year in which the adjustments are applied.|(26020, 26330)',\n",
       " '8.   In line with the principle of sound management of its budget, the Board shall take any decisions deemed necessary in order to implement the provisions laid down in this Article, including as regards the timing of the refunds by the Board and of the additional payments to be collected from the entities.|(26335, 26643)',\n",
       " 'Article 8|(26648, 26657)',\n",
       " 'Contribution notice, communications, payments and interest for late payment|(26662, 26737)',\n",
       " '1.   A contribution notice shall be issued by the Board to the contribution debtors.|(26742, 26826)',\n",
       " '2.   The Board shall notify the contribution notice through any of the following means ❮electronically or by other comparable means of communication ‖ by fax ‖ by express courier service ‖ by registered mail with a form for acknowledgement of receipt ‖ by service or delivery by hand❯|(26831, 27853)',\n",
       " 'The contribution notice shall be valid without signature.|(27896, 27953)',\n",
       " '3.   The contribution notice shall specify the amount of the annual contribution and the way in which the annual contribution shall be paid. It shall be duly reasoned with regard to the factual and legal aspects of the individual contribution decision.|(27958, 28210)',\n",
       " '4.   The Board shall address any other communication with regard to the annual contribution, including any settlement decision in accordance with Article 10(8), to the contribution debtor.|(28215, 28403)',\n",
       " '5.   The contribution shall be payable in euros.|(28408, 28456)',\n",
       " \"6.   The contribution debtor shall pay the amount of the annual contribution within 35 calendar days of the issuance of the contribution notice. The contribution debtor shall comply with the requirements set out in the contribution notice with respect to the payment of the annual contribution. The date of payment shall be the date on which the Board's account is credited.|(28461, 28835)\",\n",
       " '7.   The annual contribution due by the entities referred to in Article 2 of Regulation (EU) No 806/2014 that are members of the same group shall be collected from the contribution debtor of that group.|(28840, 29042)',\n",
       " \"8.   Without prejudice to any other remedy available to the Board, in the event of partial payment, non-payment or non-compliance with the conditions for payment specified in the contribution notice, interest shall accrue on a daily basis on the outstanding amount of the annual contribution at an interest rate of the ECB's main refinancing rate plus 8 percentage points from the date on which the payment was due.|(29047, 29462)\",\n",
       " '9.   In the event of any partial payment, non-payment or non-compliance with the conditions for payment specified in the contribution notice by the contribution debtor, the Board shall inform the national resolution authority of the participating Member State in which the contribution debtor is established.|(29467, 29775)',\n",
       " 'Article 9|(29780, 29789)',\n",
       " 'Enforcement|(29794, 29805)',\n",
       " '1.   The payments of the annual contributions due and any interest for late payment pursuant to Article 8(8) shall be enforceable.|(29810, 29940)',\n",
       " '2.   Enforcement shall be governed by the procedural rules applicable in the participating Member State in whose territory it is carried out.|(29945, 30086)',\n",
       " '3.   The government of each participating Member State shall designate and notify to the Board and to the Court of Justice of the European Union an authority for the purposes of verifying the authenticity of individual contribution decisions.|(30091, 30333)',\n",
       " '4.   An order for enforcement shall be appended to each individual contribution decision. The enforcement shall not be subject to any formality other than the verification of the authenticity of the decision by the authority designated pursuant to paragraph 3.|(30338, 30598)',\n",
       " '5.   National resolution authorities shall assist the Board in the enforcement procedure governed by the applicable procedural rules in the participating Member State.|(30603, 30770)',\n",
       " 'Article 10|(30775, 30785)',\n",
       " 'Recalculation and settlement of contributions due for the provisional period|(30790, 30866)',\n",
       " '1.   For the purposes of the recalculation and settlement of contributions due for the provisional period, the months of November and December 2014 shall be considered part of the financial year 2015.|(30871, 31071)',\n",
       " '2.   The Board shall recalculate, in accordance with the provisions laid down in this Regulation, the amount of contributions due by each entity referred to in Article 2 of Regulation (EU) No 806/2014 to cover the administrative expenditures of the Board during the provisional period.|(31076, 31361)',\n",
       " '3.   Without prejudice to Article 6(4), for the recalculation of the amount of contributions due by each entity in the financial years belonging to the provisional period, the Board shall use the data collected by the ECB in those financial years in accordance with Regulation (EU) No 1163/2014 and provided to the Board in accordance with Article 11.|(31366, 31717)',\n",
       " '4.   Any difference between the instalments paid by significant entities on the basis of the provisional system laid down in Delegated Regulation (EU) No 1310/2014 and the contributions referred to in paragraph 2 shall be settled in the calculation of the annual contributions due for the financial year which follows the end of the provisional period. That settlement shall be made by decreasing or increasing the annual contributions due for that financial year.|(31722, 32186)',\n",
       " '5.   Entities referred to in Article 2 of Regulation (EU) No 806/2014 for which the calculation and collection of contributions was deferred in the provisional period shall pay contributions calculated in accordance with paragraph 2 for the years belonging to the provisional period. Those contributions shall increase the annual contributions due for the financial year which follows the end of the provisional period.|(32191, 32610)',\n",
       " \"6.   For the purposes of paragraph 4 ‘significant entities’ shall mean the entities that have been notified by the ECB, at the highest level of consolidation within the participating Member States, of the ECB's decision to consider them significant within the meaning of Article 6(4) of Regulation (EU) No 1024/2013 and in accordance with Article 147(1) of Regulation (EU) No 468/2014 (7), and which are mentioned in the list published on the ECB's website on 4 September 2014, but excluding those significant entities, which are subsidiaries of a group, that is already taken into account in this definition, and branches, which are established in participating Member States, of credit institutions established in non-participating Member States.|(32615, 33363)\",\n",
       " '7.   Where the difference referred to in paragraph 4 or the contributions for the years belonging to the provisional period referred to in paragraph 5 are higher than the contributions due for the financial year which follows the end of the provisional period, the adjustment shall continue in the subsequent financial years.|(33368, 33693)',\n",
       " '8.   Where two or more entities within a group are subject to settlements pursuant to paragraph 4 or 5, the Board may set off contributions due against reimbursements with respect to entities of that group.|(33698, 33904)',\n",
       " 'Article 11|(33909, 33919)',\n",
       " 'Data necessary for the purposes of recalculating the contributions for financial years belonging to the provisional period|(33924, 34046)',\n",
       " 'Within 30 days of the entry into force of this Regulation, the ECB shall provide the Board with the data as specified in Article 6 and collected by the ECB in accordance with Regulation (EU) No 1163/2014 in financial years belonging to the provisional period.|(34051, 34310)',\n",
       " 'Article 12|(34315, 34325)',\n",
       " 'Outsourcing|(34330, 34341)',\n",
       " '1.   The Board may decide on the full or partial outsourcing of specific tasks provided for in this Regulation.|(34346, 34457)',\n",
       " '2.   The Board shall restrict any outsourcing to technical tasks which are related to the raising of contributions and do not involve the exercise of its powers as regards the determination of contributions.|(34462, 34669)',\n",
       " '3.   Any mandate given to a service provider for the purposes of outsourcing tasks shall clearly state the duration of the mandate and the specific tasks that are outsourced and establish a framework for regular reporting by the service provider to the Board.|(34674, 34933)',\n",
       " \"4.   Any contract between the Board and a service provider for the purposes of outsourcing tasks in accordance with paragraph 1 shall include clauses governing the Board's cancellation rights, rights relating to further subcontracting and non-performance by the service provider.|(34938, 35217)\",\n",
       " '5.   Where the Board fully or partially outsources tasks in accordance with paragraph 1, it shall remain fully responsible for discharging all of its obligations under Regulation (EU) No 806/2014 and this Regulation.|(35222, 35438)',\n",
       " \"6.   Where the Board fully or partially outsources tasks in accordance with paragraph 1, it shall ensure at all times that any contract concluded for the purposes of the outsourcing does not provide for the delegation of the Board's responsibility.|(35443, 37486)\",\n",
       " \"6.   Where the Board fully or partially outsources tasks in accordance with paragraph 1, it shall ensure at all times that any contract concluded for the purposes of the outsourcing does not provide for an exclusion of the Board's accountability under Article 45 and Article 46(1) of Regulation (EU) No 806/2014, or of its independence under Article 47 of that Regulation.|(35443, 37486)\",\n",
       " '6.   Where the Board fully or partially outsources tasks in accordance with paragraph 1, it shall ensure at all times that the outsourcing does not result in depriving the Board from the necessary systems and controls to manage the risks it faces.|(35443, 37486)',\n",
       " '6.   Where the Board fully or partially outsources tasks in accordance with paragraph 1, it shall ensure at all times that the service provider implements business continuity arrangements equivalent to those of the Board.|(35443, 37486)',\n",
       " '6.   Where the Board fully or partially outsources tasks in accordance with paragraph 1, it shall ensure at all times that the Board retains the necessary expertise and resources to evaluate the quality of the services provided and the organisational adequacy of the service provider; the Board supervises the outsourced functions effectively and manages the risks associated with the outsourcing on an ongoing basis.|(35443, 37486)',\n",
       " '6.   Where the Board fully or partially outsources tasks in accordance with paragraph 1, it shall ensure at all times that the Board has direct access to the relevant information allowing it to exercise the necessary control on the outsourced tasks.|(35443, 37486)',\n",
       " \"7.   Where the Board fully or partially outsources tasks in accordance with paragraph 1, it shall ensure that the service provider is obliged to comply with the Board's internal legal requirements and principles concerning security and confidentiality. Any confidential information relating to the Board and accessible to the service provider shall be used only to the extent necessary for the fulfilment of the mandate conferred by the Board.|(37529, 37972)\",\n",
       " '8.   Before taking any decision on outsourcing, the Board shall obtain the consent of the ECB to share the data provided by the ECB with a service provider, in accordance with applicable confidentiality provisions.|(37977, 38191)',\n",
       " 'Article 13|(38196, 38206)',\n",
       " 'Assistance by national resolution authorities|(38211, 38256)',\n",
       " 'The Board may request the national resolution authorities to assist in the process of raising annual contributions where such request is justified by the circumstances of the individual case.|(38261, 38452)',\n",
       " 'Article 14|(38457, 38467)',\n",
       " 'Repeal|(38472, 38478)',\n",
       " 'Delegated Regulation (EU) No 1310/2014 is repealed.|(38483, 38534)',\n",
       " 'Article 15|(38539, 38549)',\n",
       " 'Entry into force|(38554, 38570)',\n",
       " 'This Regulation shall enter into force on the twentieth day following that of its publication in the Official Journal of the European Union.|(38575, 38715)',\n",
       " 'This Regulation shall be binding in its entirety and directly applicable in all Member States.|(38728, 38822)',\n",
       " 'Done at Brussels, 14 September 2017.|(38830, 38866)',\n",
       " 'For the Commission|(38885, 38928)',\n",
       " 'The President|(38939, 38977)',\n",
       " 'Jean-Claude JUNCKER|(38988, 39007)',\n",
       " '(1)  OJ L 225, 30.7.2014, p. 1.|(39030, 39069)',\n",
       " '(2)  Commission Delegated Regulation (EU) No 1310/2014 of 8 October 2014 on the provisional system of instalments on contributions to cover the administrative expenditures of the Single Resolution Board during the provisional period (OJ L 354, 11.12.2014, p. 1).|(39074, 39344)',\n",
       " '(3)  Regulation (EU) No 1163/2014 of the European Central Bank of 22 October 2014 on supervisory fees (ECB/2014/41) (OJ L 311, 31.10.2014, p. 23).|(39349, 39503)',\n",
       " '(4)  Council Regulation (EU) No 1024/2013 of 15 October 2013 conferring specific tasks on the European Central Bank concerning policies relating to the prudential supervision of credit institutions (OJ L 287, 29.10.2013, p. 63).|(39508, 39744)',\n",
       " '(5)  Council Regulation No 1 determining the languages to be used by the European Economic Community (OJ 17, 6.10.1958, p. 385).|(39749, 39885)',\n",
       " '(6)  Regulation (EC) No 45/2001 of the European Parliament and of the Council of 18 December 2000 on the protection of individuals with regard to the processing of personal data by the Community institutions and bodies and on the free movement of such data (OJ L 8, 12.1.2001, p. 1).|(39890, 40181)',\n",
       " '(7)  Regulation (EU) No 468/2014 of the European Central Bank of 16 April 2014 establishing the framework for cooperation within the Single Supervisory Mechanism between the European Central Bank and national competent authorities and with national designated authorities (SSM Framework Regulation) (ECB/2014/17) (OJ L 141, 14.5.2014, p. 1).|(40186, 40535)']"
      ]
     },
     "execution_count": 28,
     "metadata": {},
     "output_type": "execute_result"
    }
   ],
   "source": [
    "line_offset"
   ]
  },
  {
   "cell_type": "code",
   "execution_count": null,
   "metadata": {},
   "outputs": [],
   "source": [
    "cas.get_view( NewSofaID).sofa_string = \"\\n\".join( transformed_lines )"
   ]
  },
  {
   "cell_type": "code",
   "execution_count": 6,
   "metadata": {
    "scrolled": true
   },
   "outputs": [
    {
     "data": {
      "text/plain": [
       "['19.12.2017',\n",
       " 'EN',\n",
       " 'Official Journal of the European Union',\n",
       " 'L 337/6',\n",
       " 'COMMISSION DELEGATED REGULATION (EU) 2017/2361',\n",
       " 'of 14 September 2017',\n",
       " 'on the final system of contributions to the administrative expenditures of the Single Resolution Board',\n",
       " 'THE EUROPEAN COMMISSION,',\n",
       " 'Having regard to the Treaty on the Functioning of the European Union,',\n",
       " 'Having regard to Regulation (EU) No 806/2014 of the European Parliament and of the Council of 15 July 2014 establishing uniform rules and a uniform procedure for the resolution of credit institutions and certain investment firms in the framework of a Single Resolution Mechanism and a Single Resolution Fund and amending Regulation (EU) No 1093/2010 (1), and in particular Article 65(5) thereof,',\n",
       " 'Whereas, , The provisional system of instalments on contributions to the administrative expenditures of the Board, laid down in Commission Delegated Regulation (EU) No 1310/2014 (2), was based on a simplified methodology and covered only a limited subset of entities, namely the entities which are considered significant by the European Central Bank (ECB) (‘significant entities’). That provisional system was introduced in order to ensure sufficient funding for the establishment of the Board while minimising the administrative burden for the Board, which at the time had only a limited structure and operational capacity. The provisional system was intended to apply until the Commission would adopt a final system for the determination and raising of the contributions to administrative expenditures.',\n",
       " 'Whereas, , As the Board has acquired a more stable structure and operational capacity, it is now appropriate to establish the final system of annual contributions to the administrative expenditures of the Board.',\n",
       " 'A final system should replace the provisional system laid down in Delegated Regulation (EU) No 1310/2014.',\n",
       " 'Whereas, , Such a final system should provide for the determination and raising of administrative contributions not only for significant entities, but for all entities that are subject to the Single Resolution Mechanism. The contributions should be calculated at the highest level of consolidation of those entities within the participating Member States, since all subsidiaries of a group inside the perimeter of consolidation fall within the scope of the decision-making powers of the Board when adopting group resolution plans, carrying out the assessment of resolvability of groups and adopting resolution decisions for groups. The exercise of those tasks implies expenditures for the Board for collecting and analysing information and data related to each subsidiary included in the perimeter of consolidation. Since those are expenditures related to the services provided by the Board to the entities that are subject to the Single Resolution Mechanism, they should be paid by those entities and therefore the administrative contributions should be calculated on the basis of their consolidated accounts at the highest level of consolidation within the participating Member States and only one contribution per group should be calculated.',\n",
       " 'Whereas, , Pursuant to Article 65(3) of Regulation (EU) No 806/2014 the Board is to determine and raise contributions as well as to ensure that they are fully and timely paid.',\n",
       " 'In order to enable the Board to meet those requirements, an efficient system for raising the administrative contributions from the institutions and entities referred to in Article 2 of Regulation (EU) No 806/2014 should be ensured. Those institutions and entities are already subject to numerous reporting obligations set out in Union legislation. More specifically, pursuant to Regulation (EU) No 1163/2014 of the European Central Bank (3), the ECB collects data on total assets and total risk exposure for the purposes of calculating supervisory fees. The data collected in accordance with Regulation (EU) No 1163/2014 can be meaningfully used for the calculation of the administrative contributions to the Board. Pursuant to Article 30(2) of Regulation (EU) No 806/2014, the Board and the ECB are to cooperate closely in the exercise of their respective responsibilities under that Regulation and, in particular, provide each other with all the information necessary for the performance of their tasks.',\n",
       " 'It is more efficient to request the ECB to transmit data it received and verified in the exercise of its tasks and powers conferred on it by Council Regulation (EU) No 1024/2013 (4) to the Board, than to duplicate the reporting burden for the institutions and entities concerned. Data sharing between the ECB and the Board would also allow avoiding duplication of the data verification process by the Board and builds on the obligation of the Board and the ECB to cooperate closely in the exercise of their respective responsibilities under Regulation (EU) No 806/2014. Any duplication of the data reporting and verification processes would inevitably require more time for the calculation and raising of contributions and would lead to a less efficient system. It follows that, as a part of the cooperation obligation, the ECB should be required to transmit to the Board the data received from the institutions and entities concerned for the purpose of calculating contributions to the Board. The Board should rely to the greatest extent possible on the data collected by the ECB.',\n",
       " 'The Board should have access to the aforementioned data to the extent necessary for the fulfilment of its tasks under this Regulation.',\n",
       " \"Whereas, , The allocation of contributions should reflect the difference in the workload and related expenditures for the entities under the Board's direct responsibility as opposed to those under the responsibility of national resolution authorities. Therefore, this Regulation should determine how the contributions should be split between those two groups of entities. Within those two groups, the final system established by this Regulation should require entities to contribute in proportion to the resource requirements that they individually place on the Board, as approximated by observable data.\",\n",
       " 'Whereas, , In order to provide certainty, both to the Board and to the entities concerned, on how individual annual contributions are to be adjusted in the case of an error in the calculation or changes to the underlying data, this Regulation should lay down specific rules in that respect.',\n",
       " 'Where the Board makes an error in the calculation of the annual contribution, it should be required to rectify that error. Such a requirement should apply as regards errors that occur because the Board applies incorrectly the methodology for calculating the individual annual contributions. In such cases, all contributions should be amended. On the contrary, cases where the input data used in the calculation of individual annual contributions is not correct or is subject to a change after the calculation was performed should not be considered errors in the calculation and should therefore be treated differently. In such cases, only the contributions of the entities whose data was not correct or was subject to a change should be amended.',\n",
       " 'Whereas, , In accordance with Article 3 of Council Regulation No 1 (5) the contribution notice and any further communications by the Board should be in the language of the Member State in which the recipient institution is established.',\n",
       " 'Whereas, , The payments of the annual contributions should be enforceable and interest on late payment should apply in the event of partial payment, non-payment or non-compliance with the conditions for payment specified in the contribution notice, in order to ensure the full and timely payment of the contributions.',\n",
       " 'Whereas, , The contributions of significant entities covered by the provisional system should be reassessed to take into account the amounts paid by them under that provisional system.',\n",
       " 'Any difference between the instalments paid on the basis of the provisional system and the contributions calculated in accordance with the final system should be settled in the calculation of the contributions to the administrative expenditures of the Board for the year following the end of the provisional period.',\n",
       " 'Whereas, , Since this Regulation introduces the final system of contributions to the administrative expenditures of the Board, the Regulation on the provisional system is no longer necessary and should be repealed.',\n",
       " 'HAS ADOPTED THIS REGULATION:',\n",
       " 'Article 1',\n",
       " 'Subject matter',\n",
       " 'This Regulation lays down rules to determine the final system for the calculation of the contributions to the administrative expenditures of the Single Resolution Board (‘the Board’) due by the entities referred to in Article 2 of Regulation (EU) No 806/2014.',\n",
       " 'This Regulation lays down rules to determine the way in which the contributions are to be paid.',\n",
       " 'This Regulation lays down rules to determine the registration, accounting, reporting and other rules necessary to ensure that the contributions are paid fully and in a timely manner.',\n",
       " 'This Regulation lays down rules to determine the methodology for the recalculation and adjustment of the contributions due for the provisional period.',\n",
       " 'Article 2',\n",
       " 'Definitions',\n",
       " 'For the purposes of this Regulation, the definitions set out in Regulation (EU) No 1163/2014 shall apply. The following definitions shall also apply ❮‘administrative expenditures of the Board’ means the expenditure of Part I of the budget of the Board, as referred to in Article 59(2) of Regulation (EU) No 806/2014 ‖ ‘annual contribution’ means the contribution to be collected by the Board for a given financial year in accordance with this Regulation in order to cover the administrative expenditures of the Board ‖ ‘contribution debtor’ means the fee debtor determined in accordance with Article 4 of Regulation (EU) No 1163/2014 for the purposes of collecting the supervisory fee and falling under the scope of Article 2 of Regulation (EU) No 806/2014 ‖ ‘provisional period’ means the period beginning on 19 August 2014 and ending on 31 December 2017❯',\n",
       " 'Article 3',\n",
       " 'Determination of total amount of annual contributions to be raised',\n",
       " 'The total amount of annual contributions to be raised for a given financial year shall be calculated on the basis of Part I of the budget adopted by the Board for that financial year in accordance with Article 61 of Regulation (EU) No 806/2014, adjusted by the result of the budget of the latest financial year for which the final accounts have been published in accordance with Article 63(7) of that Regulation.',\n",
       " 'The Board shall determine the total amount of annual contributions so that Part I of the budget of the Board is balanced.',\n",
       " 'Article 4',\n",
       " 'Allocation of total amount of annual contributions',\n",
       " '1.   The total amount to be raised in accordance with Article 3 shall be allocated as described in the following list ❮95 % to the following entities and groups ❬entities and groups referred to in Article 7(2) of Regulation (EU) No 806/2014 ‖ and/or entities and groups with regard to which the Board has decided to exercise powers under Regulation (EU) No 806/2014 pursuant to Article 7(4)(b) of that Regulation ‖ and/or entities and groups in relation to which participating Member States have decided in accordance with Article 7(5) of Regulation (EU) No 806/2014 that the Board exercise powers and responsibilities conferred to it by that Regulation❭ ‖ 5 % to entities and groups referred to in Article 7(3) of Regulation (EU) No 806/2014❯',\n",
       " '2.   Without prejudice to Article 7, the Board shall assign entities and groups to one of the two categories laid down in paragraph 1 based on the data which the ECB provides to the Board in accordance with Article 6(1) or Article 11, as applicable.',\n",
       " '3.   Where an entity falls under the scope of paragraph 1(a), all the entities that are part of the same group shall be assigned to the same category.',\n",
       " '4.   The Board shall report yearly to the Commission on the appropriateness of the allocation laid down in paragraph 1, in the light of the changing composition of the two categories of entities and groups.',\n",
       " 'Article 5',\n",
       " 'Calculation of the individual annual contributions',\n",
       " '1.   The Board shall calculate the individual annual contributions due for each financial year on the basis of the data received in accordance with Article 6 and the total amount of annual contributions as determined in accordance with Article 3.',\n",
       " '2.   For the purposes of calculating the individual annual contributions, the Board shall apply the provisions laid down in Article 10(1), (2) and (3) and Article 10(6)(a), (b) and (c) of Regulation (EU) No 1163/2014.',\n",
       " '3.   For the purpose of applying the provisions referred to in paragraph 2, , ‘annual supervisory fee’ means individual annual contribution.',\n",
       " '3.   For the purpose of applying the provisions referred to in paragraph 2, , ‘significant supervised entity’ or ‘significant supervised group’ means an entity or group as referred to in Article 4(1)(a).',\n",
       " '3.   For the purpose of applying the provisions referred to in paragraph 2, , ‘less significant supervised entity’ or ‘less significant supervised group’ means an entity or group as referred to in Article 4(1)(b).',\n",
       " '3.   For the purpose of applying the provisions referred to in paragraph 2, , ‘supervised entity’ or ‘supervised group’ means any entity or group.',\n",
       " '3.   For the purpose of applying the provisions referred to in paragraph 2, , ‘fee debtor’ means contribution debtor.',\n",
       " '4.   The annual contribution due by the entities referred to in Article 2 of Regulation (EU) No 806/2014 that are members of the same group shall be calculated as a single contribution.',\n",
       " '5.   Where the Board makes an error in the calculation of an individual annual contribution, it shall rectify the error by recalculating the individual annual contribution of each affected entity. The Board shall settle any difference between the individual annual contribution paid and the recalculated amount by increasing or decreasing the individual annual contribution calculated in the financial year following the recalculation.',\n",
       " 'However, no recalculation shall be performed where the Board becomes aware of an error more than 5 years after the end of the financial year in which the error occurred.',\n",
       " 'Article 6',\n",
       " 'Data necessary for the calculation of individual annual contributions',\n",
       " '1.   Each year, within 5 working days of the issuance of fee notices in accordance with Article 12(1) of Regulation (EU) No 1163/2014, and in any case no later than 31 December of the year for which the fee notices are issued, the ECB shall provide the Board with data on each contribution debtor as collected by the ECB in that year and used to determine the supervisory fees in accordance with Regulation (EU) No 1163/2014.',\n",
       " '2.   The data shall contain at least the following elements ❮the identity and contact details of each contribution debtor as determined in accordance with Article 4 of Regulation (EU) No 1163/2014 for the purpose of the supervisory fees ‖ the fee factors determined in accordance with Article 10 of Regulation (EU) No 1163/2014 ‖ whether a contribution debtor is significant in accordance with Article 6(4) of Regulation (EU) No 1024/2013 or is an entity or group in relation to which the ECB has decided in accordance with Article 6(5)(b) of Regulation (EU) No 1024/2013 to exercise directly all of the relevant powers ‖ any data that the ECB has determined in the absence of reporting from a contribution debtor, in accordance with Article 10(5) of Regulation (EU) No 1163/2014 ‖ the validity date underlying the fee calculation of each contribution debtor determining the duration the contribution debtor was subject to the supervisory fee and any change of status in accordance with Article 7(2) of Regulation (EU) No 1163/2014 in the given fee period❯',\n",
       " '3.   For the purposes of point (a) of paragraph 2, the identity and contact details of each contribution debtor shall include any personal data within the meaning of Regulation (EC) No 45/2001 (6) that is collected by the ECB for the purposes of carrying out its tasks under Regulation (EU) No 1163/2014 and that is necessary for the fulfilment of the tasks under this Regulation by the Board.',\n",
       " '4.   Where, for the purposes of this Regulation, the Board needs to identify whether an entity is part of the group that has nominated a given contribution debtor, the ECB, national resolution authorities and national competent authorities shall assist the Board with all relevant information.',\n",
       " '5.   In case the ECB issues additional invoices or recalculates the annual supervisory fee in accordance with Article 7 of Regulation (EU) No 1163/2014, the ECB shall communicate to the Board the new data within 5 days of the issuance of fee notices.',\n",
       " '6.   For the calculation of the individual annual contributions to be collected in a given financial year, the Board shall use the data collected by the ECB in the previous financial year in accordance with Regulation (EU) No 1163/2014 and provided to the Board in accordance with this Article or Article 11, as applicable.',\n",
       " '7.   Where the ECB, in a given financial year, has not provided the Board within the periods laid down in this Article with the data necessary for the calculation of the annual contributions, the Board may use the latest available data provided to it by the ECB for the purposes of that calculation.',\n",
       " '8.   In case no data provided by the ECB is available, the relevant national competent authority shall upon request provide the Board with the data at its disposal.',\n",
       " '9.   In case no data provided by the national competent authority is available, the contribution debtor shall upon request provide the Board with the necessary data within a deadline set by the Board. In the absence of a reply by the contribution debtor within the deadline set by the Board, the Board may determine the data on the basis of reasonable assumptions.',\n",
       " '10.   The Board shall use the data specified in this Article only for the purposes of and in accordance with this Regulation.',\n",
       " 'Article 7',\n",
       " 'Change in scope, status or other data',\n",
       " '1.   Where an entity or a group falls under the scope of Article 2 of Regulation (EU) No 806/2014 only for part of the financial year, its individual annual contribution for that financial year shall be calculated by reference to the number of full months during which it falls under the scope of that Article.',\n",
       " '2.   Where the status of an entity or a group changes between the categories specified in Article 4(1) during a financial year, its individual annual contribution for that financial year shall be calculated on the basis of the number of months for which the entity or a group fell under the respective category at the last day of the month.',\n",
       " '3.   Where other changes to the data of an entity or a group that were used to calculate its individual annual contribution for a financial year occur, the individual annual contribution of that entity or group for that financial year shall be calculated on the basis of the updated data.',\n",
       " '4.   Where a change as referred to in paragraphs 1 and 2 has been reported by the ECB or a change as referred to in paragraph 3 occurred, the Board shall recalculate only the individual annual contribution of that entity or group for the financial years concerned. Where changes as referred to in paragraph 1, 2 or 3 have occurred in relation to several entities or groups during the same financial year, the Board shall only take into account the changes concerning an individual entity or group for the purposes of recalculating the individual annual contribution of that entity or group.',\n",
       " '5.   Where the amount of an individual annual contribution paid is higher than the amount recalculated in accordance with paragraph 4, the Board shall refund the difference to the entity or group concerned. Where the amount of an individual annual contribution paid is lower than the amount recalculated in accordance with paragraph 4, the entity or group concerned shall pay the difference to the Board. For the purposes of refunding or collecting an amount due in accordance with this paragraph, the Board shall decrease or increase the individual annual contribution of the entity or group concerned in the financial year following the recalculation pursuant to paragraph 4.',\n",
       " '6.   The individual annual contributions of entities or groups that are not subject to changes as referred to in paragraph 1, 2 or 3 shall not be adjusted.',\n",
       " '7.   The Board shall apply the aggregate surplus or deficit resulting from all the adjustments made in accordance with paragraph 5 to the total amount of annual contributions to be determined in accordance with Article 3 for the financial year following the financial year in which the adjustments are applied.',\n",
       " '8.   In line with the principle of sound management of its budget, the Board shall take any decisions deemed necessary in order to implement the provisions laid down in this Article, including as regards the timing of the refunds by the Board and of the additional payments to be collected from the entities.',\n",
       " 'Article 8',\n",
       " 'Contribution notice, communications, payments and interest for late payment',\n",
       " '1.   A contribution notice shall be issued by the Board to the contribution debtors.',\n",
       " '2.   The Board shall notify the contribution notice through any of the following means ❮electronically or by other comparable means of communication ‖ by fax ‖ by express courier service ‖ by registered mail with a form for acknowledgement of receipt ‖ by service or delivery by hand❯',\n",
       " 'The contribution notice shall be valid without signature.',\n",
       " '3.   The contribution notice shall specify the amount of the annual contribution and the way in which the annual contribution shall be paid. It shall be duly reasoned with regard to the factual and legal aspects of the individual contribution decision.',\n",
       " '4.   The Board shall address any other communication with regard to the annual contribution, including any settlement decision in accordance with Article 10(8), to the contribution debtor.',\n",
       " '5.   The contribution shall be payable in euros.',\n",
       " \"6.   The contribution debtor shall pay the amount of the annual contribution within 35 calendar days of the issuance of the contribution notice. The contribution debtor shall comply with the requirements set out in the contribution notice with respect to the payment of the annual contribution. The date of payment shall be the date on which the Board's account is credited.\",\n",
       " '7.   The annual contribution due by the entities referred to in Article 2 of Regulation (EU) No 806/2014 that are members of the same group shall be collected from the contribution debtor of that group.',\n",
       " \"8.   Without prejudice to any other remedy available to the Board, in the event of partial payment, non-payment or non-compliance with the conditions for payment specified in the contribution notice, interest shall accrue on a daily basis on the outstanding amount of the annual contribution at an interest rate of the ECB's main refinancing rate plus 8 percentage points from the date on which the payment was due.\",\n",
       " '9.   In the event of any partial payment, non-payment or non-compliance with the conditions for payment specified in the contribution notice by the contribution debtor, the Board shall inform the national resolution authority of the participating Member State in which the contribution debtor is established.',\n",
       " 'Article 9',\n",
       " 'Enforcement',\n",
       " '1.   The payments of the annual contributions due and any interest for late payment pursuant to Article 8(8) shall be enforceable.',\n",
       " '2.   Enforcement shall be governed by the procedural rules applicable in the participating Member State in whose territory it is carried out.',\n",
       " '3.   The government of each participating Member State shall designate and notify to the Board and to the Court of Justice of the European Union an authority for the purposes of verifying the authenticity of individual contribution decisions.',\n",
       " '4.   An order for enforcement shall be appended to each individual contribution decision. The enforcement shall not be subject to any formality other than the verification of the authenticity of the decision by the authority designated pursuant to paragraph 3.',\n",
       " '5.   National resolution authorities shall assist the Board in the enforcement procedure governed by the applicable procedural rules in the participating Member State.',\n",
       " 'Article 10',\n",
       " 'Recalculation and settlement of contributions due for the provisional period',\n",
       " '1.   For the purposes of the recalculation and settlement of contributions due for the provisional period, the months of November and December 2014 shall be considered part of the financial year 2015.',\n",
       " '2.   The Board shall recalculate, in accordance with the provisions laid down in this Regulation, the amount of contributions due by each entity referred to in Article 2 of Regulation (EU) No 806/2014 to cover the administrative expenditures of the Board during the provisional period.',\n",
       " '3.   Without prejudice to Article 6(4), for the recalculation of the amount of contributions due by each entity in the financial years belonging to the provisional period, the Board shall use the data collected by the ECB in those financial years in accordance with Regulation (EU) No 1163/2014 and provided to the Board in accordance with Article 11.',\n",
       " '4.   Any difference between the instalments paid by significant entities on the basis of the provisional system laid down in Delegated Regulation (EU) No 1310/2014 and the contributions referred to in paragraph 2 shall be settled in the calculation of the annual contributions due for the financial year which follows the end of the provisional period. That settlement shall be made by decreasing or increasing the annual contributions due for that financial year.',\n",
       " '5.   Entities referred to in Article 2 of Regulation (EU) No 806/2014 for which the calculation and collection of contributions was deferred in the provisional period shall pay contributions calculated in accordance with paragraph 2 for the years belonging to the provisional period. Those contributions shall increase the annual contributions due for the financial year which follows the end of the provisional period.',\n",
       " \"6.   For the purposes of paragraph 4 ‘significant entities’ shall mean the entities that have been notified by the ECB, at the highest level of consolidation within the participating Member States, of the ECB's decision to consider them significant within the meaning of Article 6(4) of Regulation (EU) No 1024/2013 and in accordance with Article 147(1) of Regulation (EU) No 468/2014 (7), and which are mentioned in the list published on the ECB's website on 4 September 2014, but excluding those significant entities, which are subsidiaries of a group, that is already taken into account in this definition, and branches, which are established in participating Member States, of credit institutions established in non-participating Member States.\",\n",
       " '7.   Where the difference referred to in paragraph 4 or the contributions for the years belonging to the provisional period referred to in paragraph 5 are higher than the contributions due for the financial year which follows the end of the provisional period, the adjustment shall continue in the subsequent financial years.',\n",
       " '8.   Where two or more entities within a group are subject to settlements pursuant to paragraph 4 or 5, the Board may set off contributions due against reimbursements with respect to entities of that group.',\n",
       " 'Article 11',\n",
       " 'Data necessary for the purposes of recalculating the contributions for financial years belonging to the provisional period',\n",
       " 'Within 30 days of the entry into force of this Regulation, the ECB shall provide the Board with the data as specified in Article 6 and collected by the ECB in accordance with Regulation (EU) No 1163/2014 in financial years belonging to the provisional period.',\n",
       " 'Article 12',\n",
       " 'Outsourcing',\n",
       " '1.   The Board may decide on the full or partial outsourcing of specific tasks provided for in this Regulation.',\n",
       " '2.   The Board shall restrict any outsourcing to technical tasks which are related to the raising of contributions and do not involve the exercise of its powers as regards the determination of contributions.',\n",
       " '3.   Any mandate given to a service provider for the purposes of outsourcing tasks shall clearly state the duration of the mandate and the specific tasks that are outsourced and establish a framework for regular reporting by the service provider to the Board.',\n",
       " \"4.   Any contract between the Board and a service provider for the purposes of outsourcing tasks in accordance with paragraph 1 shall include clauses governing the Board's cancellation rights, rights relating to further subcontracting and non-performance by the service provider.\",\n",
       " '5.   Where the Board fully or partially outsources tasks in accordance with paragraph 1, it shall remain fully responsible for discharging all of its obligations under Regulation (EU) No 806/2014 and this Regulation.',\n",
       " \"6.   Where the Board fully or partially outsources tasks in accordance with paragraph 1, it shall ensure at all times that any contract concluded for the purposes of the outsourcing does not provide for the delegation of the Board's responsibility.\",\n",
       " \"6.   Where the Board fully or partially outsources tasks in accordance with paragraph 1, it shall ensure at all times that any contract concluded for the purposes of the outsourcing does not provide for an exclusion of the Board's accountability under Article 45 and Article 46(1) of Regulation (EU) No 806/2014, or of its independence under Article 47 of that Regulation.\",\n",
       " '6.   Where the Board fully or partially outsources tasks in accordance with paragraph 1, it shall ensure at all times that the outsourcing does not result in depriving the Board from the necessary systems and controls to manage the risks it faces.',\n",
       " '6.   Where the Board fully or partially outsources tasks in accordance with paragraph 1, it shall ensure at all times that the service provider implements business continuity arrangements equivalent to those of the Board.',\n",
       " '6.   Where the Board fully or partially outsources tasks in accordance with paragraph 1, it shall ensure at all times that the Board retains the necessary expertise and resources to evaluate the quality of the services provided and the organisational adequacy of the service provider; the Board supervises the outsourced functions effectively and manages the risks associated with the outsourcing on an ongoing basis.',\n",
       " '6.   Where the Board fully or partially outsources tasks in accordance with paragraph 1, it shall ensure at all times that the Board has direct access to the relevant information allowing it to exercise the necessary control on the outsourced tasks.',\n",
       " \"7.   Where the Board fully or partially outsources tasks in accordance with paragraph 1, it shall ensure that the service provider is obliged to comply with the Board's internal legal requirements and principles concerning security and confidentiality. Any confidential information relating to the Board and accessible to the service provider shall be used only to the extent necessary for the fulfilment of the mandate conferred by the Board.\",\n",
       " '8.   Before taking any decision on outsourcing, the Board shall obtain the consent of the ECB to share the data provided by the ECB with a service provider, in accordance with applicable confidentiality provisions.',\n",
       " 'Article 13',\n",
       " 'Assistance by national resolution authorities',\n",
       " 'The Board may request the national resolution authorities to assist in the process of raising annual contributions where such request is justified by the circumstances of the individual case.',\n",
       " 'Article 14',\n",
       " 'Repeal',\n",
       " 'Delegated Regulation (EU) No 1310/2014 is repealed.',\n",
       " 'Article 15',\n",
       " 'Entry into force',\n",
       " 'This Regulation shall enter into force on the twentieth day following that of its publication in the Official Journal of the European Union.',\n",
       " 'This Regulation shall be binding in its entirety and directly applicable in all Member States.',\n",
       " 'Done at Brussels, 14 September 2017.',\n",
       " 'For the Commission',\n",
       " 'The President',\n",
       " 'Jean-Claude JUNCKER',\n",
       " '(1)  OJ L 225, 30.7.2014, p. 1.',\n",
       " '(2)  Commission Delegated Regulation (EU) No 1310/2014 of 8 October 2014 on the provisional system of instalments on contributions to cover the administrative expenditures of the Single Resolution Board during the provisional period (OJ L 354, 11.12.2014, p. 1).',\n",
       " '(3)  Regulation (EU) No 1163/2014 of the European Central Bank of 22 October 2014 on supervisory fees (ECB/2014/41) (OJ L 311, 31.10.2014, p. 23).',\n",
       " '(4)  Council Regulation (EU) No 1024/2013 of 15 October 2013 conferring specific tasks on the European Central Bank concerning policies relating to the prudential supervision of credit institutions (OJ L 287, 29.10.2013, p. 63).',\n",
       " '(5)  Council Regulation No 1 determining the languages to be used by the European Economic Community (OJ 17, 6.10.1958, p. 385).',\n",
       " '(6)  Regulation (EC) No 45/2001 of the European Parliament and of the Council of 18 December 2000 on the protection of individuals with regard to the processing of personal data by the Community institutions and bodies and on the free movement of such data (OJ L 8, 12.1.2001, p. 1).',\n",
       " '(7)  Regulation (EU) No 468/2014 of the European Central Bank of 16 April 2014 establishing the framework for cooperation within the Single Supervisory Mechanism between the European Central Bank and national competent authorities and with national designated authorities (SSM Framework Regulation) (ECB/2014/17) (OJ L 141, 14.5.2014, p. 1).']"
      ]
     },
     "execution_count": 6,
     "metadata": {},
     "output_type": "execute_result"
    }
   ],
   "source": [
    "transformed_lines"
   ]
  },
  {
   "cell_type": "code",
   "execution_count": 7,
   "metadata": {
    "scrolled": true
   },
   "outputs": [
    {
     "data": {
      "text/plain": [
       "[(184, 197),\n",
       " (242, 244),\n",
       " (289, 327),\n",
       " (372, 379),\n",
       " (427, 473),\n",
       " (478, 498),\n",
       " (503, 605),\n",
       " (610, 634),\n",
       " (639, 708),\n",
       " (713, 1108),\n",
       " (1113, 10213),\n",
       " (1113, 10213),\n",
       " (1113, 10213),\n",
       " (1113, 10213),\n",
       " (1113, 10213),\n",
       " (1113, 10213),\n",
       " (1113, 10213),\n",
       " (1113, 10213),\n",
       " (1113, 10213),\n",
       " (1113, 10213),\n",
       " (1113, 10213),\n",
       " (1113, 10213),\n",
       " (1113, 10213),\n",
       " (1113, 10213),\n",
       " (1113, 10213),\n",
       " (1113, 10213),\n",
       " (10256, 10284),\n",
       " (10289, 10298),\n",
       " (10303, 10317),\n",
       " (10322, 11463),\n",
       " (10322, 11463),\n",
       " (10322, 11463),\n",
       " (10322, 11463),\n",
       " (11506, 11515),\n",
       " (11520, 11531),\n",
       " (11536, 12975),\n",
       " (13018, 13027),\n",
       " (13032, 13098),\n",
       " (13103, 13515),\n",
       " (13520, 13641),\n",
       " (13646, 13655),\n",
       " (13660, 13710),\n",
       " (13715, 15665),\n",
       " (15708, 15957),\n",
       " (15962, 16112),\n",
       " (16117, 16323),\n",
       " (16328, 16337),\n",
       " (16342, 16392),\n",
       " (16397, 16643),\n",
       " (16648, 16865),\n",
       " (16870, 18121),\n",
       " (16870, 18121),\n",
       " (16870, 18121),\n",
       " (16870, 18121),\n",
       " (16870, 18121),\n",
       " (18164, 18349),\n",
       " (18354, 18789),\n",
       " (18794, 18963),\n",
       " (18968, 18977),\n",
       " (18982, 19051),\n",
       " (19056, 19481),\n",
       " (19486, 21280),\n",
       " (21323, 21716),\n",
       " (21721, 22014),\n",
       " (22019, 22269),\n",
       " (22274, 22597),\n",
       " (22602, 22901),\n",
       " (22906, 23070),\n",
       " (23075, 23439),\n",
       " (23444, 23569),\n",
       " (23574, 23583),\n",
       " (23588, 23625),\n",
       " (23630, 23940),\n",
       " (23945, 24285),\n",
       " (24290, 24578),\n",
       " (24583, 25173),\n",
       " (25178, 25855),\n",
       " (25860, 26015),\n",
       " (26020, 26330),\n",
       " (26335, 26643),\n",
       " (26648, 26657),\n",
       " (26662, 26737),\n",
       " (26742, 26826),\n",
       " (26831, 27853),\n",
       " (27896, 27953),\n",
       " (27958, 28210),\n",
       " (28215, 28403),\n",
       " (28408, 28456),\n",
       " (28461, 28835),\n",
       " (28840, 29042),\n",
       " (29047, 29462),\n",
       " (29467, 29775),\n",
       " (29780, 29789),\n",
       " (29794, 29805),\n",
       " (29810, 29940),\n",
       " (29945, 30086),\n",
       " (30091, 30333),\n",
       " (30338, 30598),\n",
       " (30603, 30770),\n",
       " (30775, 30785),\n",
       " (30790, 30866),\n",
       " (30871, 31071),\n",
       " (31076, 31361),\n",
       " (31366, 31717),\n",
       " (31722, 32186),\n",
       " (32191, 32610),\n",
       " (32615, 33363),\n",
       " (33368, 33693),\n",
       " (33698, 33904),\n",
       " (33909, 33919),\n",
       " (33924, 34046),\n",
       " (34051, 34310),\n",
       " (34315, 34325),\n",
       " (34330, 34341),\n",
       " (34346, 34457),\n",
       " (34462, 34669),\n",
       " (34674, 34933),\n",
       " (34938, 35217),\n",
       " (35222, 35438),\n",
       " (35443, 37486),\n",
       " (35443, 37486),\n",
       " (35443, 37486),\n",
       " (35443, 37486),\n",
       " (35443, 37486),\n",
       " (35443, 37486),\n",
       " (37529, 37972),\n",
       " (37977, 38191),\n",
       " (38196, 38206),\n",
       " (38211, 38256),\n",
       " (38261, 38452),\n",
       " (38457, 38467),\n",
       " (38472, 38478),\n",
       " (38483, 38534),\n",
       " (38539, 38549),\n",
       " (38554, 38570),\n",
       " (38575, 38715),\n",
       " (38728, 38822),\n",
       " (38830, 38866),\n",
       " (38885, 38928),\n",
       " (38939, 38977),\n",
       " (38988, 39007),\n",
       " (39030, 39069),\n",
       " (39074, 39344),\n",
       " (39349, 39503),\n",
       " (39508, 39744),\n",
       " (39749, 39885),\n",
       " (39890, 40181),\n",
       " (40186, 40535)]"
      ]
     },
     "execution_count": 7,
     "metadata": {},
     "output_type": "execute_result"
    }
   ],
   "source": [
    "transformed_lines_offsets"
   ]
  },
  {
   "cell_type": "code",
   "execution_count": 23,
   "metadata": {},
   "outputs": [],
   "source": [
    "sentence_offset = 'test and | test'+ '|' +str( transformed_lines_offsets[2] )"
   ]
  },
  {
   "cell_type": "code",
   "execution_count": 24,
   "metadata": {},
   "outputs": [
    {
     "data": {
      "text/plain": [
       "'(289, 327)'"
      ]
     },
     "execution_count": 24,
     "metadata": {},
     "output_type": "execute_result"
    }
   ],
   "source": [
    "sentence_offset.split( \"|\" )[-1]"
   ]
  },
  {
   "cell_type": "code",
   "execution_count": null,
   "metadata": {},
   "outputs": [],
   "source": []
  },
  {
   "cell_type": "code",
   "execution_count": 6,
   "metadata": {},
   "outputs": [],
   "source": [
    "assert( len(  transformed_lines ) ) == len( transformed_lines_offsets )"
   ]
  },
  {
   "cell_type": "code",
   "execution_count": 11,
   "metadata": {
    "scrolled": true
   },
   "outputs": [
    {
     "data": {
      "text/plain": [
       "['19.12.2017',\n",
       " 'EN',\n",
       " 'Official Journal of the European Union',\n",
       " 'L 337/6',\n",
       " 'COMMISSION DELEGATED REGULATION (EU) 2017/2361',\n",
       " 'of 14 September 2017',\n",
       " 'on the final system of contributions to the administrative expenditures of the Single Resolution Board',\n",
       " 'THE EUROPEAN COMMISSION,',\n",
       " 'Having regard to the Treaty on the Functioning of the European Union,',\n",
       " 'Having regard to Regulation (EU) No 806/2014 of the European Parliament and of the Council of 15 July 2014 establishing uniform rules and a uniform procedure for the resolution of credit institutions and certain investment firms in the framework of a Single Resolution Mechanism and a Single Resolution Fund and amending Regulation (EU) No 1093/2010 (1), and in particular Article 65(5) thereof,',\n",
       " 'Whereas, , The provisional system of instalments on contributions to the administrative expenditures of the Board, laid down in Commission Delegated Regulation (EU) No 1310/2014 (2), was based on a simplified methodology and covered only a limited subset of entities, namely the entities which are considered significant by the European Central Bank (ECB) (‘significant entities’). That provisional system was introduced in order to ensure sufficient funding for the establishment of the Board while minimising the administrative burden for the Board, which at the time had only a limited structure and operational capacity. The provisional system was intended to apply until the Commission would adopt a final system for the determination and raising of the contributions to administrative expenditures.',\n",
       " 'Whereas, , As the Board has acquired a more stable structure and operational capacity, it is now appropriate to establish the final system of annual contributions to the administrative expenditures of the Board.',\n",
       " 'A final system should replace the provisional system laid down in Delegated Regulation (EU) No 1310/2014.',\n",
       " 'Whereas, , Such a final system should provide for the determination and raising of administrative contributions not only for significant entities, but for all entities that are subject to the Single Resolution Mechanism. The contributions should be calculated at the highest level of consolidation of those entities within the participating Member States, since all subsidiaries of a group inside the perimeter of consolidation fall within the scope of the decision-making powers of the Board when adopting group resolution plans, carrying out the assessment of resolvability of groups and adopting resolution decisions for groups. The exercise of those tasks implies expenditures for the Board for collecting and analysing information and data related to each subsidiary included in the perimeter of consolidation. Since those are expenditures related to the services provided by the Board to the entities that are subject to the Single Resolution Mechanism, they should be paid by those entities and therefore the administrative contributions should be calculated on the basis of their consolidated accounts at the highest level of consolidation within the participating Member States and only one contribution per group should be calculated.',\n",
       " 'Whereas, , Pursuant to Article 65(3) of Regulation (EU) No 806/2014 the Board is to determine and raise contributions as well as to ensure that they are fully and timely paid.',\n",
       " 'In order to enable the Board to meet those requirements, an efficient system for raising the administrative contributions from the institutions and entities referred to in Article 2 of Regulation (EU) No 806/2014 should be ensured. Those institutions and entities are already subject to numerous reporting obligations set out in Union legislation. More specifically, pursuant to Regulation (EU) No 1163/2014 of the European Central Bank (3), the ECB collects data on total assets and total risk exposure for the purposes of calculating supervisory fees. The data collected in accordance with Regulation (EU) No 1163/2014 can be meaningfully used for the calculation of the administrative contributions to the Board. Pursuant to Article 30(2) of Regulation (EU) No 806/2014, the Board and the ECB are to cooperate closely in the exercise of their respective responsibilities under that Regulation and, in particular, provide each other with all the information necessary for the performance of their tasks.',\n",
       " 'It is more efficient to request the ECB to transmit data it received and verified in the exercise of its tasks and powers conferred on it by Council Regulation (EU) No 1024/2013 (4) to the Board, than to duplicate the reporting burden for the institutions and entities concerned. Data sharing between the ECB and the Board would also allow avoiding duplication of the data verification process by the Board and builds on the obligation of the Board and the ECB to cooperate closely in the exercise of their respective responsibilities under Regulation (EU) No 806/2014. Any duplication of the data reporting and verification processes would inevitably require more time for the calculation and raising of contributions and would lead to a less efficient system. It follows that, as a part of the cooperation obligation, the ECB should be required to transmit to the Board the data received from the institutions and entities concerned for the purpose of calculating contributions to the Board. The Board should rely to the greatest extent possible on the data collected by the ECB.',\n",
       " 'The Board should have access to the aforementioned data to the extent necessary for the fulfilment of its tasks under this Regulation.',\n",
       " \"Whereas, , The allocation of contributions should reflect the difference in the workload and related expenditures for the entities under the Board's direct responsibility as opposed to those under the responsibility of national resolution authorities. Therefore, this Regulation should determine how the contributions should be split between those two groups of entities. Within those two groups, the final system established by this Regulation should require entities to contribute in proportion to the resource requirements that they individually place on the Board, as approximated by observable data.\",\n",
       " 'Whereas, , In order to provide certainty, both to the Board and to the entities concerned, on how individual annual contributions are to be adjusted in the case of an error in the calculation or changes to the underlying data, this Regulation should lay down specific rules in that respect.',\n",
       " 'Where the Board makes an error in the calculation of the annual contribution, it should be required to rectify that error. Such a requirement should apply as regards errors that occur because the Board applies incorrectly the methodology for calculating the individual annual contributions. In such cases, all contributions should be amended. On the contrary, cases where the input data used in the calculation of individual annual contributions is not correct or is subject to a change after the calculation was performed should not be considered errors in the calculation and should therefore be treated differently. In such cases, only the contributions of the entities whose data was not correct or was subject to a change should be amended.',\n",
       " 'Whereas, , In accordance with Article 3 of Council Regulation No 1 (5) the contribution notice and any further communications by the Board should be in the language of the Member State in which the recipient institution is established.',\n",
       " 'Whereas, , The payments of the annual contributions should be enforceable and interest on late payment should apply in the event of partial payment, non-payment or non-compliance with the conditions for payment specified in the contribution notice, in order to ensure the full and timely payment of the contributions.',\n",
       " 'Whereas, , The contributions of significant entities covered by the provisional system should be reassessed to take into account the amounts paid by them under that provisional system.',\n",
       " 'Any difference between the instalments paid on the basis of the provisional system and the contributions calculated in accordance with the final system should be settled in the calculation of the contributions to the administrative expenditures of the Board for the year following the end of the provisional period.',\n",
       " 'Whereas, , Since this Regulation introduces the final system of contributions to the administrative expenditures of the Board, the Regulation on the provisional system is no longer necessary and should be repealed.',\n",
       " 'HAS ADOPTED THIS REGULATION:',\n",
       " 'Article 1',\n",
       " 'Subject matter',\n",
       " 'This Regulation lays down rules to determine the final system for the calculation of the contributions to the administrative expenditures of the Single Resolution Board (‘the Board’) due by the entities referred to in Article 2 of Regulation (EU) No 806/2014.',\n",
       " 'This Regulation lays down rules to determine the way in which the contributions are to be paid.',\n",
       " 'This Regulation lays down rules to determine the registration, accounting, reporting and other rules necessary to ensure that the contributions are paid fully and in a timely manner.',\n",
       " 'This Regulation lays down rules to determine the methodology for the recalculation and adjustment of the contributions due for the provisional period.',\n",
       " 'Article 2',\n",
       " 'Definitions',\n",
       " 'For the purposes of this Regulation, the definitions set out in Regulation (EU) No 1163/2014 shall apply. The following definitions shall also apply ❮‘administrative expenditures of the Board’ means the expenditure of Part I of the budget of the Board, as referred to in Article 59(2) of Regulation (EU) No 806/2014 ‖ ‘annual contribution’ means the contribution to be collected by the Board for a given financial year in accordance with this Regulation in order to cover the administrative expenditures of the Board ‖ ‘contribution debtor’ means the fee debtor determined in accordance with Article 4 of Regulation (EU) No 1163/2014 for the purposes of collecting the supervisory fee and falling under the scope of Article 2 of Regulation (EU) No 806/2014 ‖ ‘provisional period’ means the period beginning on 19 August 2014 and ending on 31 December 2017❯',\n",
       " 'Article 3',\n",
       " 'Determination of total amount of annual contributions to be raised',\n",
       " 'The total amount of annual contributions to be raised for a given financial year shall be calculated on the basis of Part I of the budget adopted by the Board for that financial year in accordance with Article 61 of Regulation (EU) No 806/2014, adjusted by the result of the budget of the latest financial year for which the final accounts have been published in accordance with Article 63(7) of that Regulation.',\n",
       " 'The Board shall determine the total amount of annual contributions so that Part I of the budget of the Board is balanced.',\n",
       " 'Article 4',\n",
       " 'Allocation of total amount of annual contributions',\n",
       " '1.   The total amount to be raised in accordance with Article 3 shall be allocated as described in the following list ❮95 % to the following entities and groups ❬entities and groups referred to in Article 7(2) of Regulation (EU) No 806/2014 ‖ and/or entities and groups with regard to which the Board has decided to exercise powers under Regulation (EU) No 806/2014 pursuant to Article 7(4)(b) of that Regulation ‖ and/or entities and groups in relation to which participating Member States have decided in accordance with Article 7(5) of Regulation (EU) No 806/2014 that the Board exercise powers and responsibilities conferred to it by that Regulation❭ ‖ 5 % to entities and groups referred to in Article 7(3) of Regulation (EU) No 806/2014❯',\n",
       " '2.   Without prejudice to Article 7, the Board shall assign entities and groups to one of the two categories laid down in paragraph 1 based on the data which the ECB provides to the Board in accordance with Article 6(1) or Article 11, as applicable.',\n",
       " '3.   Where an entity falls under the scope of paragraph 1(a), all the entities that are part of the same group shall be assigned to the same category.',\n",
       " '4.   The Board shall report yearly to the Commission on the appropriateness of the allocation laid down in paragraph 1, in the light of the changing composition of the two categories of entities and groups.',\n",
       " 'Article 5',\n",
       " 'Calculation of the individual annual contributions',\n",
       " '1.   The Board shall calculate the individual annual contributions due for each financial year on the basis of the data received in accordance with Article 6 and the total amount of annual contributions as determined in accordance with Article 3.',\n",
       " '2.   For the purposes of calculating the individual annual contributions, the Board shall apply the provisions laid down in Article 10(1), (2) and (3) and Article 10(6)(a), (b) and (c) of Regulation (EU) No 1163/2014.',\n",
       " '3.   For the purpose of applying the provisions referred to in paragraph 2, , ‘annual supervisory fee’ means individual annual contribution.',\n",
       " '3.   For the purpose of applying the provisions referred to in paragraph 2, , ‘significant supervised entity’ or ‘significant supervised group’ means an entity or group as referred to in Article 4(1)(a).',\n",
       " '3.   For the purpose of applying the provisions referred to in paragraph 2, , ‘less significant supervised entity’ or ‘less significant supervised group’ means an entity or group as referred to in Article 4(1)(b).',\n",
       " '3.   For the purpose of applying the provisions referred to in paragraph 2, , ‘supervised entity’ or ‘supervised group’ means any entity or group.',\n",
       " '3.   For the purpose of applying the provisions referred to in paragraph 2, , ‘fee debtor’ means contribution debtor.',\n",
       " '4.   The annual contribution due by the entities referred to in Article 2 of Regulation (EU) No 806/2014 that are members of the same group shall be calculated as a single contribution.',\n",
       " '5.   Where the Board makes an error in the calculation of an individual annual contribution, it shall rectify the error by recalculating the individual annual contribution of each affected entity. The Board shall settle any difference between the individual annual contribution paid and the recalculated amount by increasing or decreasing the individual annual contribution calculated in the financial year following the recalculation.',\n",
       " 'However, no recalculation shall be performed where the Board becomes aware of an error more than 5 years after the end of the financial year in which the error occurred.',\n",
       " 'Article 6',\n",
       " 'Data necessary for the calculation of individual annual contributions',\n",
       " '1.   Each year, within 5 working days of the issuance of fee notices in accordance with Article 12(1) of Regulation (EU) No 1163/2014, and in any case no later than 31 December of the year for which the fee notices are issued, the ECB shall provide the Board with data on each contribution debtor as collected by the ECB in that year and used to determine the supervisory fees in accordance with Regulation (EU) No 1163/2014.',\n",
       " '2.   The data shall contain at least the following elements ❮the identity and contact details of each contribution debtor as determined in accordance with Article 4 of Regulation (EU) No 1163/2014 for the purpose of the supervisory fees ‖ the fee factors determined in accordance with Article 10 of Regulation (EU) No 1163/2014 ‖ whether a contribution debtor is significant in accordance with Article 6(4) of Regulation (EU) No 1024/2013 or is an entity or group in relation to which the ECB has decided in accordance with Article 6(5)(b) of Regulation (EU) No 1024/2013 to exercise directly all of the relevant powers ‖ any data that the ECB has determined in the absence of reporting from a contribution debtor, in accordance with Article 10(5) of Regulation (EU) No 1163/2014 ‖ the validity date underlying the fee calculation of each contribution debtor determining the duration the contribution debtor was subject to the supervisory fee and any change of status in accordance with Article 7(2) of Regulation (EU) No 1163/2014 in the given fee period❯',\n",
       " '3.   For the purposes of point (a) of paragraph 2, the identity and contact details of each contribution debtor shall include any personal data within the meaning of Regulation (EC) No 45/2001 (6) that is collected by the ECB for the purposes of carrying out its tasks under Regulation (EU) No 1163/2014 and that is necessary for the fulfilment of the tasks under this Regulation by the Board.',\n",
       " '4.   Where, for the purposes of this Regulation, the Board needs to identify whether an entity is part of the group that has nominated a given contribution debtor, the ECB, national resolution authorities and national competent authorities shall assist the Board with all relevant information.',\n",
       " '5.   In case the ECB issues additional invoices or recalculates the annual supervisory fee in accordance with Article 7 of Regulation (EU) No 1163/2014, the ECB shall communicate to the Board the new data within 5 days of the issuance of fee notices.',\n",
       " '6.   For the calculation of the individual annual contributions to be collected in a given financial year, the Board shall use the data collected by the ECB in the previous financial year in accordance with Regulation (EU) No 1163/2014 and provided to the Board in accordance with this Article or Article 11, as applicable.',\n",
       " '7.   Where the ECB, in a given financial year, has not provided the Board within the periods laid down in this Article with the data necessary for the calculation of the annual contributions, the Board may use the latest available data provided to it by the ECB for the purposes of that calculation.',\n",
       " '8.   In case no data provided by the ECB is available, the relevant national competent authority shall upon request provide the Board with the data at its disposal.',\n",
       " '9.   In case no data provided by the national competent authority is available, the contribution debtor shall upon request provide the Board with the necessary data within a deadline set by the Board. In the absence of a reply by the contribution debtor within the deadline set by the Board, the Board may determine the data on the basis of reasonable assumptions.',\n",
       " '10.   The Board shall use the data specified in this Article only for the purposes of and in accordance with this Regulation.',\n",
       " 'Article 7',\n",
       " 'Change in scope, status or other data',\n",
       " '1.   Where an entity or a group falls under the scope of Article 2 of Regulation (EU) No 806/2014 only for part of the financial year, its individual annual contribution for that financial year shall be calculated by reference to the number of full months during which it falls under the scope of that Article.',\n",
       " '2.   Where the status of an entity or a group changes between the categories specified in Article 4(1) during a financial year, its individual annual contribution for that financial year shall be calculated on the basis of the number of months for which the entity or a group fell under the respective category at the last day of the month.',\n",
       " '3.   Where other changes to the data of an entity or a group that were used to calculate its individual annual contribution for a financial year occur, the individual annual contribution of that entity or group for that financial year shall be calculated on the basis of the updated data.',\n",
       " '4.   Where a change as referred to in paragraphs 1 and 2 has been reported by the ECB or a change as referred to in paragraph 3 occurred, the Board shall recalculate only the individual annual contribution of that entity or group for the financial years concerned. Where changes as referred to in paragraph 1, 2 or 3 have occurred in relation to several entities or groups during the same financial year, the Board shall only take into account the changes concerning an individual entity or group for the purposes of recalculating the individual annual contribution of that entity or group.',\n",
       " '5.   Where the amount of an individual annual contribution paid is higher than the amount recalculated in accordance with paragraph 4, the Board shall refund the difference to the entity or group concerned. Where the amount of an individual annual contribution paid is lower than the amount recalculated in accordance with paragraph 4, the entity or group concerned shall pay the difference to the Board. For the purposes of refunding or collecting an amount due in accordance with this paragraph, the Board shall decrease or increase the individual annual contribution of the entity or group concerned in the financial year following the recalculation pursuant to paragraph 4.',\n",
       " '6.   The individual annual contributions of entities or groups that are not subject to changes as referred to in paragraph 1, 2 or 3 shall not be adjusted.',\n",
       " '7.   The Board shall apply the aggregate surplus or deficit resulting from all the adjustments made in accordance with paragraph 5 to the total amount of annual contributions to be determined in accordance with Article 3 for the financial year following the financial year in which the adjustments are applied.',\n",
       " '8.   In line with the principle of sound management of its budget, the Board shall take any decisions deemed necessary in order to implement the provisions laid down in this Article, including as regards the timing of the refunds by the Board and of the additional payments to be collected from the entities.',\n",
       " 'Article 8',\n",
       " 'Contribution notice, communications, payments and interest for late payment',\n",
       " '1.   A contribution notice shall be issued by the Board to the contribution debtors.',\n",
       " '2.   The Board shall notify the contribution notice through any of the following means ❮electronically or by other comparable means of communication ‖ by fax ‖ by express courier service ‖ by registered mail with a form for acknowledgement of receipt ‖ by service or delivery by hand❯',\n",
       " 'The contribution notice shall be valid without signature.',\n",
       " '3.   The contribution notice shall specify the amount of the annual contribution and the way in which the annual contribution shall be paid. It shall be duly reasoned with regard to the factual and legal aspects of the individual contribution decision.',\n",
       " '4.   The Board shall address any other communication with regard to the annual contribution, including any settlement decision in accordance with Article 10(8), to the contribution debtor.',\n",
       " '5.   The contribution shall be payable in euros.',\n",
       " \"6.   The contribution debtor shall pay the amount of the annual contribution within 35 calendar days of the issuance of the contribution notice. The contribution debtor shall comply with the requirements set out in the contribution notice with respect to the payment of the annual contribution. The date of payment shall be the date on which the Board's account is credited.\",\n",
       " '7.   The annual contribution due by the entities referred to in Article 2 of Regulation (EU) No 806/2014 that are members of the same group shall be collected from the contribution debtor of that group.',\n",
       " \"8.   Without prejudice to any other remedy available to the Board, in the event of partial payment, non-payment or non-compliance with the conditions for payment specified in the contribution notice, interest shall accrue on a daily basis on the outstanding amount of the annual contribution at an interest rate of the ECB's main refinancing rate plus 8 percentage points from the date on which the payment was due.\",\n",
       " '9.   In the event of any partial payment, non-payment or non-compliance with the conditions for payment specified in the contribution notice by the contribution debtor, the Board shall inform the national resolution authority of the participating Member State in which the contribution debtor is established.',\n",
       " 'Article 9',\n",
       " 'Enforcement',\n",
       " '1.   The payments of the annual contributions due and any interest for late payment pursuant to Article 8(8) shall be enforceable.',\n",
       " '2.   Enforcement shall be governed by the procedural rules applicable in the participating Member State in whose territory it is carried out.',\n",
       " '3.   The government of each participating Member State shall designate and notify to the Board and to the Court of Justice of the European Union an authority for the purposes of verifying the authenticity of individual contribution decisions.',\n",
       " '4.   An order for enforcement shall be appended to each individual contribution decision. The enforcement shall not be subject to any formality other than the verification of the authenticity of the decision by the authority designated pursuant to paragraph 3.',\n",
       " '5.   National resolution authorities shall assist the Board in the enforcement procedure governed by the applicable procedural rules in the participating Member State.',\n",
       " 'Article 10',\n",
       " 'Recalculation and settlement of contributions due for the provisional period',\n",
       " '1.   For the purposes of the recalculation and settlement of contributions due for the provisional period, the months of November and December 2014 shall be considered part of the financial year 2015.',\n",
       " '2.   The Board shall recalculate, in accordance with the provisions laid down in this Regulation, the amount of contributions due by each entity referred to in Article 2 of Regulation (EU) No 806/2014 to cover the administrative expenditures of the Board during the provisional period.',\n",
       " '3.   Without prejudice to Article 6(4), for the recalculation of the amount of contributions due by each entity in the financial years belonging to the provisional period, the Board shall use the data collected by the ECB in those financial years in accordance with Regulation (EU) No 1163/2014 and provided to the Board in accordance with Article 11.',\n",
       " '4.   Any difference between the instalments paid by significant entities on the basis of the provisional system laid down in Delegated Regulation (EU) No 1310/2014 and the contributions referred to in paragraph 2 shall be settled in the calculation of the annual contributions due for the financial year which follows the end of the provisional period. That settlement shall be made by decreasing or increasing the annual contributions due for that financial year.',\n",
       " '5.   Entities referred to in Article 2 of Regulation (EU) No 806/2014 for which the calculation and collection of contributions was deferred in the provisional period shall pay contributions calculated in accordance with paragraph 2 for the years belonging to the provisional period. Those contributions shall increase the annual contributions due for the financial year which follows the end of the provisional period.',\n",
       " \"6.   For the purposes of paragraph 4 ‘significant entities’ shall mean the entities that have been notified by the ECB, at the highest level of consolidation within the participating Member States, of the ECB's decision to consider them significant within the meaning of Article 6(4) of Regulation (EU) No 1024/2013 and in accordance with Article 147(1) of Regulation (EU) No 468/2014 (7), and which are mentioned in the list published on the ECB's website on 4 September 2014, but excluding those significant entities, which are subsidiaries of a group, that is already taken into account in this definition, and branches, which are established in participating Member States, of credit institutions established in non-participating Member States.\",\n",
       " '7.   Where the difference referred to in paragraph 4 or the contributions for the years belonging to the provisional period referred to in paragraph 5 are higher than the contributions due for the financial year which follows the end of the provisional period, the adjustment shall continue in the subsequent financial years.',\n",
       " '8.   Where two or more entities within a group are subject to settlements pursuant to paragraph 4 or 5, the Board may set off contributions due against reimbursements with respect to entities of that group.',\n",
       " 'Article 11',\n",
       " 'Data necessary for the purposes of recalculating the contributions for financial years belonging to the provisional period',\n",
       " 'Within 30 days of the entry into force of this Regulation, the ECB shall provide the Board with the data as specified in Article 6 and collected by the ECB in accordance with Regulation (EU) No 1163/2014 in financial years belonging to the provisional period.',\n",
       " 'Article 12',\n",
       " 'Outsourcing',\n",
       " '1.   The Board may decide on the full or partial outsourcing of specific tasks provided for in this Regulation.',\n",
       " '2.   The Board shall restrict any outsourcing to technical tasks which are related to the raising of contributions and do not involve the exercise of its powers as regards the determination of contributions.',\n",
       " '3.   Any mandate given to a service provider for the purposes of outsourcing tasks shall clearly state the duration of the mandate and the specific tasks that are outsourced and establish a framework for regular reporting by the service provider to the Board.',\n",
       " \"4.   Any contract between the Board and a service provider for the purposes of outsourcing tasks in accordance with paragraph 1 shall include clauses governing the Board's cancellation rights, rights relating to further subcontracting and non-performance by the service provider.\",\n",
       " '5.   Where the Board fully or partially outsources tasks in accordance with paragraph 1, it shall remain fully responsible for discharging all of its obligations under Regulation (EU) No 806/2014 and this Regulation.',\n",
       " \"6.   Where the Board fully or partially outsources tasks in accordance with paragraph 1, it shall ensure at all times that any contract concluded for the purposes of the outsourcing does not provide for the delegation of the Board's responsibility.\",\n",
       " \"6.   Where the Board fully or partially outsources tasks in accordance with paragraph 1, it shall ensure at all times that any contract concluded for the purposes of the outsourcing does not provide for an exclusion of the Board's accountability under Article 45 and Article 46(1) of Regulation (EU) No 806/2014, or of its independence under Article 47 of that Regulation.\",\n",
       " '6.   Where the Board fully or partially outsources tasks in accordance with paragraph 1, it shall ensure at all times that the outsourcing does not result in depriving the Board from the necessary systems and controls to manage the risks it faces.',\n",
       " '6.   Where the Board fully or partially outsources tasks in accordance with paragraph 1, it shall ensure at all times that the service provider implements business continuity arrangements equivalent to those of the Board.',\n",
       " '6.   Where the Board fully or partially outsources tasks in accordance with paragraph 1, it shall ensure at all times that the Board retains the necessary expertise and resources to evaluate the quality of the services provided and the organisational adequacy of the service provider; the Board supervises the outsourced functions effectively and manages the risks associated with the outsourcing on an ongoing basis.',\n",
       " '6.   Where the Board fully or partially outsources tasks in accordance with paragraph 1, it shall ensure at all times that the Board has direct access to the relevant information allowing it to exercise the necessary control on the outsourced tasks.',\n",
       " \"7.   Where the Board fully or partially outsources tasks in accordance with paragraph 1, it shall ensure that the service provider is obliged to comply with the Board's internal legal requirements and principles concerning security and confidentiality. Any confidential information relating to the Board and accessible to the service provider shall be used only to the extent necessary for the fulfilment of the mandate conferred by the Board.\",\n",
       " '8.   Before taking any decision on outsourcing, the Board shall obtain the consent of the ECB to share the data provided by the ECB with a service provider, in accordance with applicable confidentiality provisions.',\n",
       " 'Article 13',\n",
       " 'Assistance by national resolution authorities',\n",
       " 'The Board may request the national resolution authorities to assist in the process of raising annual contributions where such request is justified by the circumstances of the individual case.',\n",
       " 'Article 14',\n",
       " 'Repeal',\n",
       " 'Delegated Regulation (EU) No 1310/2014 is repealed.',\n",
       " 'Article 15',\n",
       " 'Entry into force',\n",
       " 'This Regulation shall enter into force on the twentieth day following that of its publication in the Official Journal of the European Union.',\n",
       " 'This Regulation shall be binding in its entirety and directly applicable in all Member States.',\n",
       " 'Done at Brussels, 14 September 2017.',\n",
       " 'For the Commission',\n",
       " 'The President',\n",
       " 'Jean-Claude JUNCKER',\n",
       " '(1)  OJ L 225, 30.7.2014, p. 1.',\n",
       " '(2)  Commission Delegated Regulation (EU) No 1310/2014 of 8 October 2014 on the provisional system of instalments on contributions to cover the administrative expenditures of the Single Resolution Board during the provisional period (OJ L 354, 11.12.2014, p. 1).',\n",
       " '(3)  Regulation (EU) No 1163/2014 of the European Central Bank of 22 October 2014 on supervisory fees (ECB/2014/41) (OJ L 311, 31.10.2014, p. 23).',\n",
       " '(4)  Council Regulation (EU) No 1024/2013 of 15 October 2013 conferring specific tasks on the European Central Bank concerning policies relating to the prudential supervision of credit institutions (OJ L 287, 29.10.2013, p. 63).',\n",
       " '(5)  Council Regulation No 1 determining the languages to be used by the European Economic Community (OJ 17, 6.10.1958, p. 385).',\n",
       " '(6)  Regulation (EC) No 45/2001 of the European Parliament and of the Council of 18 December 2000 on the protection of individuals with regard to the processing of personal data by the Community institutions and bodies and on the free movement of such data (OJ L 8, 12.1.2001, p. 1).',\n",
       " '(7)  Regulation (EU) No 468/2014 of the European Central Bank of 16 April 2014 establishing the framework for cooperation within the Single Supervisory Mechanism between the European Central Bank and national competent authorities and with national designated authorities (SSM Framework Regulation) (ECB/2014/17) (OJ L 141, 14.5.2014, p. 1).']"
      ]
     },
     "execution_count": 11,
     "metadata": {},
     "output_type": "execute_result"
    }
   ],
   "source": [
    "transformed_lines"
   ]
  },
  {
   "cell_type": "code",
   "execution_count": 43,
   "metadata": {
    "scrolled": true
   },
   "outputs": [
    {
     "data": {
      "text/plain": [
       "[(35443, 37486),\n",
       " (35443, 37486),\n",
       " (35443, 37486),\n",
       " (35443, 37486),\n",
       " (35443, 37486),\n",
       " (35443, 37486),\n",
       " (37529, 37972),\n",
       " (37977, 38191),\n",
       " (38196, 38206),\n",
       " (38211, 38256),\n",
       " (38261, 38452),\n",
       " (38457, 38467),\n",
       " (38472, 38478),\n",
       " (38483, 38534),\n",
       " (38539, 38549),\n",
       " (38554, 38570),\n",
       " (38575, 38715),\n",
       " (38728, 38822),\n",
       " (38830, 38866),\n",
       " (38885, 38928),\n",
       " (38939, 38977),\n",
       " (38988, 39007),\n",
       " (39030, 39069),\n",
       " (39074, 39344),\n",
       " (39349, 39503),\n",
       " (39508, 39744),\n",
       " (39749, 39885),\n",
       " (39890, 40181),\n",
       " (40186, 40535)]"
      ]
     },
     "execution_count": 43,
     "metadata": {},
     "output_type": "execute_result"
    }
   ],
   "source": [
    "transformed_lines_offsets[-29:]"
   ]
  },
  {
   "cell_type": "code",
   "execution_count": 47,
   "metadata": {
    "scrolled": true
   },
   "outputs": [
    {
     "data": {
      "text/plain": [
       "[\"6.   Where the Board fully or partially outsources tasks in accordance with paragraph 1, it shall ensure at all times that any contract concluded for the purposes of the outsourcing does not provide for the delegation of the Board's responsibility.\",\n",
       " \"6.   Where the Board fully or partially outsources tasks in accordance with paragraph 1, it shall ensure at all times that any contract concluded for the purposes of the outsourcing does not provide for an exclusion of the Board's accountability under Article 45 and Article 46(1) of Regulation (EU) No 806/2014, or of its independence under Article 47 of that Regulation.\",\n",
       " '6.   Where the Board fully or partially outsources tasks in accordance with paragraph 1, it shall ensure at all times that the outsourcing does not result in depriving the Board from the necessary systems and controls to manage the risks it faces.',\n",
       " '6.   Where the Board fully or partially outsources tasks in accordance with paragraph 1, it shall ensure at all times that the service provider implements business continuity arrangements equivalent to those of the Board.',\n",
       " '6.   Where the Board fully or partially outsources tasks in accordance with paragraph 1, it shall ensure at all times that the Board retains the necessary expertise and resources to evaluate the quality of the services provided and the organisational adequacy of the service provider; the Board supervises the outsourced functions effectively and manages the risks associated with the outsourcing on an ongoing basis.',\n",
       " '6.   Where the Board fully or partially outsources tasks in accordance with paragraph 1, it shall ensure at all times that the Board has direct access to the relevant information allowing it to exercise the necessary control on the outsourced tasks.',\n",
       " \"7.   Where the Board fully or partially outsources tasks in accordance with paragraph 1, it shall ensure that the service provider is obliged to comply with the Board's internal legal requirements and principles concerning security and confidentiality. Any confidential information relating to the Board and accessible to the service provider shall be used only to the extent necessary for the fulfilment of the mandate conferred by the Board.\",\n",
       " '8.   Before taking any decision on outsourcing, the Board shall obtain the consent of the ECB to share the data provided by the ECB with a service provider, in accordance with applicable confidentiality provisions.',\n",
       " 'Article 13',\n",
       " 'Assistance by national resolution authorities',\n",
       " 'The Board may request the national resolution authorities to assist in the process of raising annual contributions where such request is justified by the circumstances of the individual case.',\n",
       " 'Article 14',\n",
       " 'Repeal',\n",
       " 'Delegated Regulation (EU) No 1310/2014 is repealed.',\n",
       " 'Article 15',\n",
       " 'Entry into force',\n",
       " 'This Regulation shall enter into force on the twentieth day following that of its publication in the Official Journal of the European Union.',\n",
       " 'This Regulation shall be binding in its entirety and directly applicable in all Member States.',\n",
       " 'Done at Brussels, 14 September 2017.',\n",
       " 'For the Commission',\n",
       " 'The President',\n",
       " 'Jean-Claude JUNCKER',\n",
       " '(1)  OJ L 225, 30.7.2014, p. 1.',\n",
       " '(2)  Commission Delegated Regulation (EU) No 1310/2014 of 8 October 2014 on the provisional system of instalments on contributions to cover the administrative expenditures of the Single Resolution Board during the provisional period (OJ L 354, 11.12.2014, p. 1).',\n",
       " '(3)  Regulation (EU) No 1163/2014 of the European Central Bank of 22 October 2014 on supervisory fees (ECB/2014/41) (OJ L 311, 31.10.2014, p. 23).',\n",
       " '(4)  Council Regulation (EU) No 1024/2013 of 15 October 2013 conferring specific tasks on the European Central Bank concerning policies relating to the prudential supervision of credit institutions (OJ L 287, 29.10.2013, p. 63).',\n",
       " '(5)  Council Regulation No 1 determining the languages to be used by the European Economic Community (OJ 17, 6.10.1958, p. 385).',\n",
       " '(6)  Regulation (EC) No 45/2001 of the European Parliament and of the Council of 18 December 2000 on the protection of individuals with regard to the processing of personal data by the Community institutions and bodies and on the free movement of such data (OJ L 8, 12.1.2001, p. 1).',\n",
       " '(7)  Regulation (EU) No 468/2014 of the European Central Bank of 16 April 2014 establishing the framework for cooperation within the Single Supervisory Mechanism between the European Central Bank and national competent authorities and with national designated authorities (SSM Framework Regulation) (ECB/2014/17) (OJ L 141, 14.5.2014, p. 1).']"
      ]
     },
     "execution_count": 47,
     "metadata": {},
     "output_type": "execute_result"
    }
   ],
   "source": [
    "transformed_lines[-29:]"
   ]
  },
  {
   "cell_type": "code",
   "execution_count": 28,
   "metadata": {},
   "outputs": [
    {
     "data": {
      "text/plain": [
       "'Whereas, , Since this Regulation introduces the final system of contributions to the administrative expenditures of the Board, the Regulation on the provisional system is no longer necessary and should be repealed.'"
      ]
     },
     "execution_count": 28,
     "metadata": {},
     "output_type": "execute_result"
    }
   ],
   "source": [
    "transformed_lines[25]"
   ]
  },
  {
   "cell_type": "code",
   "execution_count": 48,
   "metadata": {
    "scrolled": true
   },
   "outputs": [
    {
     "name": "stdout",
     "output_type": "stream",
     "text": [
      "6.   Where the Board fully or partially outsources tasks in accordance with paragraph 1, it shall ensure at all times that:\n",
      "   \n",
      "      \n",
      "      \n",
      "      \n",
      "         \n",
      "            \n",
      "               (a)\n",
      "            \n",
      "            \n",
      "               any contract concluded for the purposes of the outsourcing does not provide for the delegation of the Board's responsibility;\n",
      "            \n",
      "         \n",
      "      \n",
      "   \n",
      "   \n",
      "      \n",
      "      \n",
      "      \n",
      "         \n",
      "            \n",
      "               (b)\n",
      "            \n",
      "            \n",
      "               any contract concluded for the purposes of the outsourcing does not provide for an exclusion of the Board's accountability under Article 45 and Article 46(1) of Regulation (EU) No 806/2014, or of its independence under Article 47 of that Regulation;\n",
      "            \n",
      "         \n",
      "      \n",
      "   \n",
      "   \n",
      "      \n",
      "      \n",
      "      \n",
      "         \n",
      "            \n",
      "               (c)\n",
      "            \n",
      "            \n",
      "               the outsourcing does not result in depriving the Board from the necessary systems and controls to manage the risks it faces;\n",
      "            \n",
      "         \n",
      "      \n",
      "   \n",
      "   \n",
      "      \n",
      "      \n",
      "      \n",
      "         \n",
      "            \n",
      "               (d)\n",
      "            \n",
      "            \n",
      "               the service provider implements business continuity arrangements equivalent to those of the Board;\n",
      "            \n",
      "         \n",
      "      \n",
      "   \n",
      "   \n",
      "      \n",
      "      \n",
      "      \n",
      "         \n",
      "            \n",
      "               (e)\n",
      "            \n",
      "            \n",
      "               the Board retains the necessary expertise and resources to evaluate the quality of the services provided and the organisational adequacy of the service provider; the Board supervises the outsourced functions effectively and manages the risks associated with the outsourcing on an ongoing basis;\n",
      "            \n",
      "         \n",
      "      \n",
      "   \n",
      "   \n",
      "      \n",
      "      \n",
      "      \n",
      "         \n",
      "            \n",
      "               (f)\n",
      "            \n",
      "            \n",
      "               the Board has direct access to the relevant information allowing it to exercise the necessary control on the outsourced tasks.\n"
     ]
    }
   ],
   "source": [
    "print( cas.get_view( 'html2textView' ).sofa_string[ 35443:37486 ])"
   ]
  },
  {
   "cell_type": "code",
   "execution_count": null,
   "metadata": {},
   "outputs": [],
   "source": []
  },
  {
   "cell_type": "code",
   "execution_count": null,
   "metadata": {},
   "outputs": [],
   "source": []
  },
  {
   "cell_type": "code",
   "execution_count": 20,
   "metadata": {
    "scrolled": true
   },
   "outputs": [
    {
     "name": "stdout",
     "output_type": "stream",
     "text": [
      "Treatment of maturity mismatches in synthetic securitisations\n"
     ]
    }
   ],
   "source": [
    "print( cas.get_view( 'html2textView' ).sofa_string[ 11401:11462 ] )"
   ]
  },
  {
   "cell_type": "code",
   "execution_count": null,
   "metadata": {},
   "outputs": [],
   "source": []
  },
  {
   "cell_type": "code",
   "execution_count": null,
   "metadata": {},
   "outputs": [],
   "source": []
  },
  {
   "cell_type": "code",
   "execution_count": 19,
   "metadata": {},
   "outputs": [],
   "source": [
    "transformed_lines=transform_lines( lines )"
   ]
  },
  {
   "cell_type": "code",
   "execution_count": 22,
   "metadata": {},
   "outputs": [
    {
     "data": {
      "text/plain": [
       "19"
      ]
     },
     "execution_count": 22,
     "metadata": {},
     "output_type": "execute_result"
    }
   ],
   "source": [
    "len( transformed_lines )"
   ]
  },
  {
   "cell_type": "code",
   "execution_count": 23,
   "metadata": {
    "scrolled": true
   },
   "outputs": [
    {
     "data": {
      "text/plain": [
       "['5.   Competent authorities may waive the condition set out in point (d) of paragraph 4 where Article 20(1)(b) is applied. In that case additional objective criteria as set out in the delegated act referred to in Article 460 have to be met. Where such higher inflow is permitted to be applied, the competent authorities shall inform EBA about the result of the process referred to in Article 20(1)(b). Fulfilment of the conditions for such higher inflows shall be regularly reviewed by the competent authorities.',\n",
       " '6.   EBA shall develop draft regulatory technical standards to further specify the additional objective criteria referred to in paragraph 5.',\n",
       " 'EBA shall submit those draft regulatory technical standards to the Commission by 1 January 2015.',\n",
       " 'Power is delegated to the Commission to adopt the regulatory technical standards referred to in the first subparagraph in accordance with Articles 10 to 14 of Regulation (EU) No 1093/2010.',\n",
       " '7.   Institutions shall not report inflows from any of the liquid assets reported in accordance with Article 416 other than payments due on the assets that are not reflected in the market value of the asset.',\n",
       " '8.   Institutions shall not report inflows from any new obligations entered into.',\n",
       " '9.   Institutions shall take liquidity inflows which are to be received in third countries where there are transfer restrictions or which are denominated in non-convertible currencies into account only to the extent that they correspond to outflows respectively in the third country or currency in question.',\n",
       " 'Article 426',\n",
       " 'Updating Future liquidity requirements',\n",
       " 'Following, the adoption by the Commission of a delegated act to specify the liquidity requirement in accordance with Article 460, EBA may develop draft implementing technical standards to specify the conditions set out in Article 421(1), Article 422, with the exception of paragraphs 8, 9 and 10 of that Article, and Article 424 to take account of standards agreed internationally.',\n",
       " 'Power is conferred on the Commission to adopt the implementing technical standards referred to in the first paragraph in accordance with Article 15 of Regulation (EU) No 1093/2010.',\n",
       " 'TITLE III',\n",
       " 'REPORTING ON STABLE FUNDING',\n",
       " 'Article 427',\n",
       " 'Items providing stable funding',\n",
       " '1.   Institutions shall report to the competent authorities, in accordance with the reporting requirements set out in Article 415(1) and the uniform reporting formats referred to in Article 415(3), the following items and their components in order to allow an assessment of the availability of stable funding ❮the following own funds, after deductions have been applied, where appropriate ❬tier 1 capital instruments ‖ and/or tier 2 capital instruments ‖ and/or other preferred shares and capital instruments in excess of Tier 2 allowable amount having an effective maturity of one year or greater❭ ‖ the following liabilities not included in point (a) ❬retail deposits that qualify for the treatment set out in Article 421(1) ‖ and/or retail deposits that qualify for the treatment set out in Article 421(2) ‖ and/or deposits that qualify for the treatment set out in Article 422 (3) and (4) ‖ and/or of the deposits referred to in point (iii), those that are subject to a deposit guarantee scheme in accordance with Directive 94/19/EC or an equivalent deposit guarantee scheme in a third country deposit guarantees within the terms of Article 421(2) ‖ and/or of the deposits referred to in point (iii), those that fall under point (b) of Article 422(3) ‖ and/or of the deposits referred to in point (iii), those that fall under point (d) of Article 422(3) ‖ and/or amounts deposited not falling under point (i), (ii) or (iii) if they are not deposited by financial customers ‖ and/or all funding obtained from financial customers ‖ and/or separately for amounts falling under points (vii) and (viii) respectively, funding from secured lending and capital market-driven transactions as defined in point (3) of Article 192 ⟨collateralised by assets that would qualify as liquid assets in accordance with Article 416 ‖ and/or collateralised by any other assets⟩ ‖ and/or liabilities resulting from securities issued qualifying for the treatment set out in Article 129(4) or (5) or as referred to in Article 52(4) of Directive 2009/65/EC ‖ and/or the following other liabilities resulting from securities issued that do not fall under point (a) ⟨liabilities resulting from securities issued with an effective maturity of one year or greater ‖ and/or liabilities resulting from securities issued with an effective maturity of less than one year⟩ ‖ and/or any other liabilities❭❯',\n",
       " 'Treatment of maturity mismatches in synthetic securitisations',\n",
       " 'For the purposes of calculating risk-weighted exposure amounts in accordance with Article 249, any maturity mismatch between the credit protection which constitutes a tranche and by which the transfer of risk is achieved and the securitised exposures shall be taken into consideration as described in the following list ❮the maturity of the securitised exposures shall be taken to be the longest maturity of any of those exposures subject to a maximum of five years. The maturity of the credit protection shall be determined in accordance with Chapter 4 ‖ an originator institution shall ignore any maturity mismatch in calculating risk-weighted exposure amounts for tranches appearing pursuant to this Section with a risk weighting of 1 250 %. For all other tranches, the maturity mismatch treatment set out in Chapter 4 shall be applied in accordance with the following formula ‖ where ❬RW* ‖ and/or = ‖ and/or risk-weighted exposure amounts for the purposes of Article 92(3)(a) ‖ and/or RWAss ‖ and/or = ‖ and/or risk-weighted exposure amounts for exposures if they had not been securitised, calculated on a pro-rata basis ‖ and/or RWSP ‖ and/or = ‖ and/or risk-weighted exposure amounts calculated under Article 249 if there was no maturity mismatch ‖ and/or T ‖ and/or = ‖ and/or maturity of the underlying exposures expressed in years ‖ and/or t ‖ and/or = ‖ and/or maturity of credit protection. expressed in years ‖ and/or t* ‖ and/or = ‖ and/or 0,25❭❯',\n",
       " 'Sub-Section 3']"
      ]
     },
     "execution_count": 23,
     "metadata": {},
     "output_type": "execute_result"
    }
   ],
   "source": [
    "transformed_lines"
   ]
  },
  {
   "cell_type": "code",
   "execution_count": null,
   "metadata": {},
   "outputs": [],
   "source": []
  },
  {
   "cell_type": "code",
   "execution_count": 27,
   "metadata": {},
   "outputs": [
    {
     "data": {
      "text/plain": [
       "[(1, 2), (1, 2), (1, 2), (1, 2), (1, 2)]"
      ]
     },
     "execution_count": 27,
     "metadata": {},
     "output_type": "execute_result"
    }
   ],
   "source": [
    "[( 1,2 )]*5"
   ]
  },
  {
   "cell_type": "code",
   "execution_count": null,
   "metadata": {},
   "outputs": [],
   "source": []
  },
  {
   "cell_type": "code",
   "execution_count": 25,
   "metadata": {},
   "outputs": [
    {
     "data": {
      "text/plain": [
       "list"
      ]
     },
     "execution_count": 25,
     "metadata": {},
     "output_type": "execute_result"
    }
   ],
   "source": [
    "type( [ 'f', 1 , 1 ] )"
   ]
  },
  {
   "cell_type": "code",
   "execution_count": 21,
   "metadata": {
    "scrolled": true
   },
   "outputs": [
    {
     "data": {
      "text/plain": [
       "['5.   Competent authorities may waive the condition set out in point (d) of paragraph 4 where Article 20(1)(b) is applied. In that case additional objective criteria as set out in the delegated act referred to in Article 460 have to be met. Where such higher inflow is permitted to be applied, the competent authorities shall inform EBA about the result of the process referred to in Article 20(1)(b). Fulfilment of the conditions for such higher inflows shall be regularly reviewed by the competent authorities.',\n",
       " '6.   EBA shall develop draft regulatory technical standards to further specify the additional objective criteria referred to in paragraph 5.',\n",
       " 'EBA shall submit those draft regulatory technical standards to the Commission by 1 January 2015.',\n",
       " 'Power is delegated to the Commission to adopt the regulatory technical standards referred to in the first subparagraph in accordance with Articles 10 to 14 of Regulation (EU) No 1093/2010.',\n",
       " '7.   Institutions shall not report inflows from any of the liquid assets reported in accordance with Article 416 other than payments due on the assets that are not reflected in the market value of the asset.',\n",
       " '8.   Institutions shall not report inflows from any new obligations entered into.',\n",
       " '9.   Institutions shall take liquidity inflows which are to be received in third countries where there are transfer restrictions or which are denominated in non-convertible currencies into account only to the extent that they correspond to outflows respectively in the third country or currency in question.',\n",
       " 'Article 426',\n",
       " 'Updating Future liquidity requirements',\n",
       " 'Following, the adoption by the Commission of a delegated act to specify the liquidity requirement in accordance with Article 460, EBA may develop draft implementing technical standards to specify the conditions set out in Article 421(1), Article 422, with the exception of paragraphs 8, 9 and 10 of that Article, and Article 424 to take account of standards agreed internationally.',\n",
       " 'Power is conferred on the Commission to adopt the implementing technical standards referred to in the first paragraph in accordance with Article 15 of Regulation (EU) No 1093/2010.',\n",
       " 'TITLE III',\n",
       " '\\n      REPORTING ON STABLE FUNDING\\n   ',\n",
       " 'Article 427',\n",
       " 'Items providing stable funding',\n",
       " ['1.   Institutions shall report to the competent authorities, in accordance with the reporting requirements set out in Article 415(1) and the uniform reporting formats referred to in Article 415(3), the following items and their components in order to allow an assessment of the availability of stable funding:',\n",
       "  '(a)',\n",
       "  ['the following own funds, after deductions have been applied, where appropriate:',\n",
       "   '(i)',\n",
       "   'tier 1 capital instruments;',\n",
       "   '(ii)',\n",
       "   'tier 2 capital instruments;',\n",
       "   '(iii)',\n",
       "   'other preferred shares and capital instruments in excess of Tier 2 allowable amount having an effective maturity of one year or greater;'],\n",
       "  '(b)',\n",
       "  ['the following liabilities not included in point (a):',\n",
       "   '(i)',\n",
       "   'retail deposits that qualify for the treatment set out in Article 421(1);',\n",
       "   '(ii)',\n",
       "   'retail deposits that qualify for the treatment set out in Article 421(2);',\n",
       "   '(iii)',\n",
       "   'deposits that qualify for the treatment set out in Article 422 (3) and (4);',\n",
       "   '(iv)',\n",
       "   'of the deposits referred to in point (iii), those that are subject to a deposit guarantee scheme in accordance with Directive 94/19/EC or an equivalent deposit guarantee scheme in a third country deposit guarantees within the terms of Article 421(2);',\n",
       "   '(v)',\n",
       "   'of the deposits referred to in point (iii), those that fall under point (b) of Article 422(3);',\n",
       "   '(vi)',\n",
       "   'of the deposits referred to in point (iii), those that fall under point (d) of Article 422(3);',\n",
       "   '(vii)',\n",
       "   'amounts deposited not falling under point (i), (ii) or (iii) if they are not deposited by financial customers;',\n",
       "   '(viii)',\n",
       "   'all funding obtained from financial customers;',\n",
       "   '(ix)',\n",
       "   ['separately for amounts falling under points (vii) and (viii) respectively, funding from secured lending and capital market-driven transactions as defined in point (3) of Article 192:',\n",
       "    '—',\n",
       "    'collateralised by assets that would qualify as liquid assets in accordance with Article 416;',\n",
       "    '—',\n",
       "    'collateralised by any other assets;'],\n",
       "   '(x)',\n",
       "   'liabilities resulting from securities issued qualifying for the treatment set out in Article 129(4) or (5) or as referred to in Article 52(4) of Directive 2009/65/EC;',\n",
       "   '(xi)',\n",
       "   ['the following other liabilities resulting from securities issued that do not fall under point (a):',\n",
       "    '—',\n",
       "    'liabilities resulting from securities issued with an effective maturity of one year or greater;',\n",
       "    '—',\n",
       "    'liabilities resulting from securities issued with an effective maturity of less than one year;'],\n",
       "   '(xii)',\n",
       "   'any other liabilities.']],\n",
       " 'Treatment of maturity mismatches in synthetic securitisations',\n",
       " ['For the purposes of calculating risk-weighted exposure amounts in accordance with Article 249, any maturity mismatch between the credit protection which constitutes a tranche and by which the transfer of risk is achieved and the securitised exposures shall be taken into consideration as follows:',\n",
       "  '(a)',\n",
       "  'the maturity of the securitised exposures shall be taken to be the longest maturity of any of those exposures subject to a maximum of five years. The maturity of the credit protection shall be determined in accordance with Chapter 4;',\n",
       "  '(b)',\n",
       "  'an originator institution shall ignore any maturity mismatch in calculating risk-weighted exposure amounts for tranches appearing pursuant to this Section with a risk weighting of 1 250 %. For all other tranches, the maturity mismatch treatment set out in Chapter 4 shall be applied in accordance with the following formula:',\n",
       "  ['where:',\n",
       "   'RW*',\n",
       "   '=',\n",
       "   'risk-weighted exposure amounts for the purposes of Article 92(3)(a);',\n",
       "   'RWAss\\n                           ',\n",
       "   '=',\n",
       "   'risk-weighted exposure amounts for exposures if they had not been securitised, calculated on a pro-rata basis;',\n",
       "   'RWSP\\n                           ',\n",
       "   '=',\n",
       "   'risk-weighted exposure amounts calculated under Article 249 if there was no maturity mismatch;',\n",
       "   'T',\n",
       "   '=',\n",
       "   'maturity of the underlying exposures expressed in years;',\n",
       "   't',\n",
       "   '=',\n",
       "   'maturity of credit protection. expressed in years;',\n",
       "   't*',\n",
       "   '=',\n",
       "   '0,25.']],\n",
       " '\\n      Sub-Section 3\\n   ']"
      ]
     },
     "execution_count": 21,
     "metadata": {},
     "output_type": "execute_result"
    }
   ],
   "source": []
  },
  {
   "cell_type": "code",
   "execution_count": 12,
   "metadata": {},
   "outputs": [
    {
     "data": {
      "text/plain": [
       "[(4, 515),\n",
       " (519, 659),\n",
       " (663, 759),\n",
       " (763, 951),\n",
       " (955, 1162),\n",
       " (1166, 1247),\n",
       " (1251, 1558),\n",
       " (1562, 1573),\n",
       " (1577, 1615),\n",
       " (1619, 2000),\n",
       " (2004, 2184),\n",
       " (2188, 2197),\n",
       " (2201, 2239),\n",
       " (2243, 2254),\n",
       " (2258, 2288),\n",
       " (2292, 11281),\n",
       " (11401, 11462),\n",
       " (11466, 14783),\n",
       " (14903, 14927)]"
      ]
     },
     "execution_count": 12,
     "metadata": {},
     "output_type": "execute_result"
    }
   ],
   "source": [
    "offsets"
   ]
  },
  {
   "cell_type": "code",
   "execution_count": 13,
   "metadata": {
    "scrolled": true
   },
   "outputs": [
    {
     "name": "stdout",
     "output_type": "stream",
     "text": [
      "1.   Institutions shall report to the competent authorities, in accordance with the reporting requirements set out in Article 415(1) and the uniform reporting formats referred to in Article 415(3), the following items and their components in order to allow an assessment of the availability of stable funding:\n",
      "   \n",
      "      \n",
      "      \n",
      "      \n",
      "         \n",
      "            \n",
      "               (a)\n",
      "            \n",
      "            \n",
      "               the following own funds, after deductions have been applied, where appropriate:\n",
      "               \n",
      "                  \n",
      "                  \n",
      "                  \n",
      "                     \n",
      "                        \n",
      "                           (i)\n",
      "                        \n",
      "                        \n",
      "                           tier 1 capital instruments;\n",
      "                        \n",
      "                     \n",
      "                  \n",
      "               \n",
      "               \n",
      "                  \n",
      "                  \n",
      "                  \n",
      "                     \n",
      "                        \n",
      "                           (ii)\n",
      "                        \n",
      "                        \n",
      "                           tier 2 capital instruments;\n",
      "                        \n",
      "                     \n",
      "                  \n",
      "               \n",
      "               \n",
      "                  \n",
      "                  \n",
      "                  \n",
      "                     \n",
      "                        \n",
      "                           (iii)\n",
      "                        \n",
      "                        \n",
      "                           other preferred shares and capital instruments in excess of Tier 2 allowable amount having an effective maturity of one year or greater;\n",
      "                        \n",
      "                     \n",
      "                  \n",
      "               \n",
      "            \n",
      "         \n",
      "      \n",
      "   \n",
      "   \n",
      "      \n",
      "      \n",
      "      \n",
      "         \n",
      "            \n",
      "               (b)\n",
      "            \n",
      "            \n",
      "               the following liabilities not included in point (a):\n",
      "               \n",
      "                  \n",
      "                  \n",
      "                  \n",
      "                     \n",
      "                        \n",
      "                           (i)\n",
      "                        \n",
      "                        \n",
      "                           retail deposits that qualify for the treatment set out in Article 421(1);\n",
      "                        \n",
      "                     \n",
      "                  \n",
      "               \n",
      "               \n",
      "                  \n",
      "                  \n",
      "                  \n",
      "                     \n",
      "                        \n",
      "                           (ii)\n",
      "                        \n",
      "                        \n",
      "                           retail deposits that qualify for the treatment set out in Article 421(2);\n",
      "                        \n",
      "                     \n",
      "                  \n",
      "               \n",
      "               \n",
      "                  \n",
      "                  \n",
      "                  \n",
      "                     \n",
      "                        \n",
      "                           (iii)\n",
      "                        \n",
      "                        \n",
      "                           deposits that qualify for the treatment set out in Article 422 (3) and (4);\n",
      "                        \n",
      "                     \n",
      "                  \n",
      "               \n",
      "               \n",
      "                  \n",
      "                  \n",
      "                  \n",
      "                     \n",
      "                        \n",
      "                           (iv)\n",
      "                        \n",
      "                        \n",
      "                           of the deposits referred to in point (iii), those that are subject to a deposit guarantee scheme in accordance with Directive 94/19/EC or an equivalent deposit guarantee scheme in a third country deposit guarantees within the terms of Article 421(2);\n",
      "                        \n",
      "                     \n",
      "                  \n",
      "               \n",
      "               \n",
      "                  \n",
      "                  \n",
      "                  \n",
      "                     \n",
      "                        \n",
      "                           (v)\n",
      "                        \n",
      "                        \n",
      "                           of the deposits referred to in point (iii), those that fall under point (b) of Article 422(3);\n",
      "                        \n",
      "                     \n",
      "                  \n",
      "               \n",
      "               \n",
      "                  \n",
      "                  \n",
      "                  \n",
      "                     \n",
      "                        \n",
      "                           (vi)\n",
      "                        \n",
      "                        \n",
      "                           of the deposits referred to in point (iii), those that fall under point (d) of Article 422(3);\n",
      "                        \n",
      "                     \n",
      "                  \n",
      "               \n",
      "               \n",
      "                  \n",
      "                  \n",
      "                  \n",
      "                     \n",
      "                        \n",
      "                           (vii)\n",
      "                        \n",
      "                        \n",
      "                           amounts deposited not falling under point (i), (ii) or (iii) if they are not deposited by financial customers;\n",
      "                        \n",
      "                     \n",
      "                  \n",
      "               \n",
      "               \n",
      "                  \n",
      "                  \n",
      "                  \n",
      "                     \n",
      "                        \n",
      "                           (viii)\n",
      "                        \n",
      "                        \n",
      "                           all funding obtained from financial customers;\n",
      "                        \n",
      "                     \n",
      "                  \n",
      "               \n",
      "               \n",
      "                  \n",
      "                  \n",
      "                  \n",
      "                     \n",
      "                        \n",
      "                           (ix)\n",
      "                        \n",
      "                        \n",
      "                           separately for amounts falling under points (vii) and (viii) respectively, funding from secured lending and capital market-driven transactions as defined in point (3) of Article 192:\n",
      "                           \n",
      "                              \n",
      "                              \n",
      "                              \n",
      "                                 \n",
      "                                    \n",
      "                                       —\n",
      "                                    \n",
      "                                    \n",
      "                                       collateralised by assets that would qualify as liquid assets in accordance with Article 416;\n",
      "                                    \n",
      "                                 \n",
      "                              \n",
      "                           \n",
      "                           \n",
      "                              \n",
      "                              \n",
      "                              \n",
      "                                 \n",
      "                                    \n",
      "                                       —\n",
      "                                    \n",
      "                                    \n",
      "                                       collateralised by any other assets;\n",
      "                                    \n",
      "                                 \n",
      "                              \n",
      "                           \n",
      "                        \n",
      "                     \n",
      "                  \n",
      "               \n",
      "               \n",
      "                  \n",
      "                  \n",
      "                  \n",
      "                     \n",
      "                        \n",
      "                           (x)\n",
      "                        \n",
      "                        \n",
      "                           liabilities resulting from securities issued qualifying for the treatment set out in Article 129(4) or (5) or as referred to in Article 52(4) of Directive 2009/65/EC;\n",
      "                        \n",
      "                     \n",
      "                  \n",
      "               \n",
      "               \n",
      "                  \n",
      "                  \n",
      "                  \n",
      "                     \n",
      "                        \n",
      "                           (xi)\n",
      "                        \n",
      "                        \n",
      "                           the following other liabilities resulting from securities issued that do not fall under point (a):\n",
      "                           \n",
      "                              \n",
      "                              \n",
      "                              \n",
      "                                 \n",
      "                                    \n",
      "                                       —\n",
      "                                    \n",
      "                                    \n",
      "                                       liabilities resulting from securities issued with an effective maturity of one year or greater;\n",
      "                                    \n",
      "                                 \n",
      "                              \n",
      "                           \n",
      "                           \n",
      "                              \n",
      "                              \n",
      "                              \n",
      "                                 \n",
      "                                    \n",
      "                                       —\n",
      "                                    \n",
      "                                    \n",
      "                                       liabilities resulting from securities issued with an effective maturity of less than one year;\n",
      "                                    \n",
      "                                 \n",
      "                              \n",
      "                           \n",
      "                        \n",
      "                     \n",
      "                  \n",
      "               \n",
      "               \n",
      "                  \n",
      "                  \n",
      "                  \n",
      "                     \n",
      "                        \n",
      "                           (xii)\n",
      "                        \n",
      "                        \n",
      "                           any other liabilities.\n"
     ]
    }
   ],
   "source": [
    "# (2292, 11281)\n",
    "print( cas.get_view( 'html2textView' ).sofa_string[ 2292:11281 ])"
   ]
  },
  {
   "cell_type": "code",
   "execution_count": 14,
   "metadata": {},
   "outputs": [
    {
     "data": {
      "text/plain": [
       "['1.   Institutions shall report to the competent authorities, in accordance with the reporting requirements set out in Article 415(1) and the uniform reporting formats referred to in Article 415(3), the following items and their components in order to allow an assessment of the availability of stable funding:',\n",
       " '(a)',\n",
       " ['the following own funds, after deductions have been applied, where appropriate:',\n",
       "  '(i)',\n",
       "  'tier 1 capital instruments;',\n",
       "  '(ii)',\n",
       "  'tier 2 capital instruments;',\n",
       "  '(iii)',\n",
       "  'other preferred shares and capital instruments in excess of Tier 2 allowable amount having an effective maturity of one year or greater;'],\n",
       " '(b)',\n",
       " ['the following liabilities not included in point (a):',\n",
       "  '(i)',\n",
       "  'retail deposits that qualify for the treatment set out in Article 421(1);',\n",
       "  '(ii)',\n",
       "  'retail deposits that qualify for the treatment set out in Article 421(2);',\n",
       "  '(iii)',\n",
       "  'deposits that qualify for the treatment set out in Article 422 (3) and (4);',\n",
       "  '(iv)',\n",
       "  'of the deposits referred to in point (iii), those that are subject to a deposit guarantee scheme in accordance with Directive 94/19/EC or an equivalent deposit guarantee scheme in a third country deposit guarantees within the terms of Article 421(2);',\n",
       "  '(v)',\n",
       "  'of the deposits referred to in point (iii), those that fall under point (b) of Article 422(3);',\n",
       "  '(vi)',\n",
       "  'of the deposits referred to in point (iii), those that fall under point (d) of Article 422(3);',\n",
       "  '(vii)',\n",
       "  'amounts deposited not falling under point (i), (ii) or (iii) if they are not deposited by financial customers;',\n",
       "  '(viii)',\n",
       "  'all funding obtained from financial customers;',\n",
       "  '(ix)',\n",
       "  ['separately for amounts falling under points (vii) and (viii) respectively, funding from secured lending and capital market-driven transactions as defined in point (3) of Article 192:',\n",
       "   '—',\n",
       "   'collateralised by assets that would qualify as liquid assets in accordance with Article 416;',\n",
       "   '—',\n",
       "   'collateralised by any other assets;'],\n",
       "  '(x)',\n",
       "  'liabilities resulting from securities issued qualifying for the treatment set out in Article 129(4) or (5) or as referred to in Article 52(4) of Directive 2009/65/EC;',\n",
       "  '(xi)',\n",
       "  ['the following other liabilities resulting from securities issued that do not fall under point (a):',\n",
       "   '—',\n",
       "   'liabilities resulting from securities issued with an effective maturity of one year or greater;',\n",
       "   '—',\n",
       "   'liabilities resulting from securities issued with an effective maturity of less than one year;'],\n",
       "  '(xii)',\n",
       "  'any other liabilities.']]"
      ]
     },
     "execution_count": 14,
     "metadata": {},
     "output_type": "execute_result"
    }
   ],
   "source": [
    "lines[15]"
   ]
  },
  {
   "cell_type": "code",
   "execution_count": null,
   "metadata": {},
   "outputs": [],
   "source": []
  },
  {
   "cell_type": "code",
   "execution_count": 6,
   "metadata": {},
   "outputs": [
    {
     "data": {
      "text/plain": [
       "['5.   Competent authorities may waive the condition set out in point (d) of paragraph 4 where Article 20(1)(b) is applied. In that case additional objective criteria as set out in the delegated act referred to in Article 460 have to be met. Where such higher inflow is permitted to be applied, the competent authorities shall inform EBA about the result of the process referred to in Article 20(1)(b). Fulfilment of the conditions for such higher inflows shall be regularly reviewed by the competent authorities.',\n",
       " '6.   EBA shall develop draft regulatory technical standards to further specify the additional objective criteria referred to in paragraph 5.',\n",
       " 'EBA shall submit those draft regulatory technical standards to the Commission by 1 January 2015.',\n",
       " 'Power is delegated to the Commission to adopt the regulatory technical standards referred to in the first subparagraph in accordance with Articles 10 to 14 of Regulation (EU) No 1093/2010.',\n",
       " '7.   Institutions shall not report inflows from any of the liquid assets reported in accordance with Article 416 other than payments due on the assets that are not reflected in the market value of the asset.',\n",
       " '8.   Institutions shall not report inflows from any new obligations entered into.',\n",
       " '9.   Institutions shall take liquidity inflows which are to be received in third countries where there are transfer restrictions or which are denominated in non-convertible currencies into account only to the extent that they correspond to outflows respectively in the third country or currency in question.',\n",
       " 'Article 426',\n",
       " 'Updating Future liquidity requirements',\n",
       " 'Following, the adoption by the Commission of a delegated act to specify the liquidity requirement in accordance with Article 460, EBA may develop draft implementing technical standards to specify the conditions set out in Article 421(1), Article 422, with the exception of paragraphs 8, 9 and 10 of that Article, and Article 424 to take account of standards agreed internationally.',\n",
       " 'Power is conferred on the Commission to adopt the implementing technical standards referred to in the first paragraph in accordance with Article 15 of Regulation (EU) No 1093/2010.',\n",
       " 'TITLE III',\n",
       " '\\n      REPORTING ON STABLE FUNDING\\n   ',\n",
       " 'Article 427',\n",
       " 'Items providing stable funding',\n",
       " ['1.   Institutions shall report to the competent authorities, in accordance with the reporting requirements set out in Article 415(1) and the uniform reporting formats referred to in Article 415(3), the following items and their components in order to allow an assessment of the availability of stable funding:',\n",
       "  '(a)',\n",
       "  ['the following own funds, after deductions have been applied, where appropriate:',\n",
       "   '(i)',\n",
       "   'tier 1 capital instruments;',\n",
       "   '(ii)',\n",
       "   'tier 2 capital instruments;',\n",
       "   '(iii)',\n",
       "   'other preferred shares and capital instruments in excess of Tier 2 allowable amount having an effective maturity of one year or greater;'],\n",
       "  '(b)',\n",
       "  ['the following liabilities not included in point (a):',\n",
       "   '(i)',\n",
       "   'retail deposits that qualify for the treatment set out in Article 421(1);',\n",
       "   '(ii)',\n",
       "   'retail deposits that qualify for the treatment set out in Article 421(2);',\n",
       "   '(iii)',\n",
       "   'deposits that qualify for the treatment set out in Article 422 (3) and (4);',\n",
       "   '(iv)',\n",
       "   'of the deposits referred to in point (iii), those that are subject to a deposit guarantee scheme in accordance with Directive 94/19/EC or an equivalent deposit guarantee scheme in a third country deposit guarantees within the terms of Article 421(2);',\n",
       "   '(v)',\n",
       "   'of the deposits referred to in point (iii), those that fall under point (b) of Article 422(3);',\n",
       "   '(vi)',\n",
       "   'of the deposits referred to in point (iii), those that fall under point (d) of Article 422(3);',\n",
       "   '(vii)',\n",
       "   'amounts deposited not falling under point (i), (ii) or (iii) if they are not deposited by financial customers;',\n",
       "   '(viii)',\n",
       "   'all funding obtained from financial customers;',\n",
       "   '(ix)',\n",
       "   ['separately for amounts falling under points (vii) and (viii) respectively, funding from secured lending and capital market-driven transactions as defined in point (3) of Article 192:',\n",
       "    '—',\n",
       "    'collateralised by assets that would qualify as liquid assets in accordance with Article 416;',\n",
       "    '—',\n",
       "    'collateralised by any other assets;'],\n",
       "   '(x)',\n",
       "   'liabilities resulting from securities issued qualifying for the treatment set out in Article 129(4) or (5) or as referred to in Article 52(4) of Directive 2009/65/EC;',\n",
       "   '(xi)',\n",
       "   ['the following other liabilities resulting from securities issued that do not fall under point (a):',\n",
       "    '—',\n",
       "    'liabilities resulting from securities issued with an effective maturity of one year or greater;',\n",
       "    '—',\n",
       "    'liabilities resulting from securities issued with an effective maturity of less than one year;'],\n",
       "   '(xii)',\n",
       "   'any other liabilities.']],\n",
       " 'Treatment of maturity mismatches in synthetic securitisations',\n",
       " ['For the purposes of calculating risk-weighted exposure amounts in accordance with Article 249, any maturity mismatch between the credit protection which constitutes a tranche and by which the transfer of risk is achieved and the securitised exposures shall be taken into consideration as follows:',\n",
       "  '(a)',\n",
       "  'the maturity of the securitised exposures shall be taken to be the longest maturity of any of those exposures subject to a maximum of five years. The maturity of the credit protection shall be determined in accordance with Chapter 4;',\n",
       "  '(b)',\n",
       "  'an originator institution shall ignore any maturity mismatch in calculating risk-weighted exposure amounts for tranches appearing pursuant to this Section with a risk weighting of 1 250 %. For all other tranches, the maturity mismatch treatment set out in Chapter 4 shall be applied in accordance with the following formula:',\n",
       "  ['where:',\n",
       "   'RW*',\n",
       "   '=',\n",
       "   'risk-weighted exposure amounts for the purposes of Article 92(3)(a);',\n",
       "   'RWAss\\n                           ',\n",
       "   '=',\n",
       "   'risk-weighted exposure amounts for exposures if they had not been securitised, calculated on a pro-rata basis;',\n",
       "   'RWSP\\n                           ',\n",
       "   '=',\n",
       "   'risk-weighted exposure amounts calculated under Article 249 if there was no maturity mismatch;',\n",
       "   'T',\n",
       "   '=',\n",
       "   'maturity of the underlying exposures expressed in years;',\n",
       "   't',\n",
       "   '=',\n",
       "   'maturity of credit protection. expressed in years;',\n",
       "   't*',\n",
       "   '=',\n",
       "   '0,25.']],\n",
       " '\\n      Sub-Section 3\\n   ']"
      ]
     },
     "execution_count": 6,
     "metadata": {},
     "output_type": "execute_result"
    }
   ],
   "source": [
    "lines"
   ]
  },
  {
   "cell_type": "code",
   "execution_count": 5,
   "metadata": {
    "scrolled": true
   },
   "outputs": [
    {
     "data": {
      "text/plain": [
       "['5.   Competent authorities may waive the condition set out in point (d) of paragraph 4 where Article 20(1)(b) is applied. In that case additional objective criteria as set out in the delegated act referred to in Article 460 have to be met. Where such higher inflow is permitted to be applied, the competent authorities shall inform EBA about the result of the process referred to in Article 20(1)(b). Fulfilment of the conditions for such higher inflows shall be regularly reviewed by the competent authorities.',\n",
       " '6.   EBA shall develop draft regulatory technical standards to further specify the additional objective criteria referred to in paragraph 5.',\n",
       " 'EBA shall submit those draft regulatory technical standards to the Commission by 1 January 2015.',\n",
       " 'Power is delegated to the Commission to adopt the regulatory technical standards referred to in the first subparagraph in accordance with Articles 10 to 14 of Regulation (EU) No 1093/2010.',\n",
       " '7.   Institutions shall not report inflows from any of the liquid assets reported in accordance with Article 416 other than payments due on the assets that are not reflected in the market value of the asset.',\n",
       " '8.   Institutions shall not report inflows from any new obligations entered into.',\n",
       " '9.   Institutions shall take liquidity inflows which are to be received in third countries where there are transfer restrictions or which are denominated in non-convertible currencies into account only to the extent that they correspond to outflows respectively in the third country or currency in question.',\n",
       " 'Article 426',\n",
       " 'Updating Future liquidity requirements',\n",
       " 'Following, the adoption by the Commission of a delegated act to specify the liquidity requirement in accordance with Article 460, EBA may develop draft implementing technical standards to specify the conditions set out in Article 421(1), Article 422, with the exception of paragraphs 8, 9 and 10 of that Article, and Article 424 to take account of standards agreed internationally.',\n",
       " 'Power is conferred on the Commission to adopt the implementing technical standards referred to in the first paragraph in accordance with Article 15 of Regulation (EU) No 1093/2010.',\n",
       " 'TITLE III',\n",
       " '\\n      REPORTING ON STABLE FUNDING\\n   ',\n",
       " 'Article 427',\n",
       " 'Items providing stable funding',\n",
       " ['1.   Institutions shall report to the competent authorities, in accordance with the reporting requirements set out in Article 415(1) and the uniform reporting formats referred to in Article 415(3), the following items and their components in order to allow an assessment of the availability of stable funding:',\n",
       "  '(a)',\n",
       "  ['the following own funds, after deductions have been applied, where appropriate:',\n",
       "   '(i)',\n",
       "   'tier 1 capital instruments;',\n",
       "   '(ii)',\n",
       "   'tier 2 capital instruments;',\n",
       "   '(iii)',\n",
       "   'other preferred shares and capital instruments in excess of Tier 2 allowable amount having an effective maturity of one year or greater;'],\n",
       "  '(b)',\n",
       "  ['the following liabilities not included in point (a):',\n",
       "   '(i)',\n",
       "   'retail deposits that qualify for the treatment set out in Article 421(1);',\n",
       "   '(ii)',\n",
       "   'retail deposits that qualify for the treatment set out in Article 421(2);',\n",
       "   '(iii)',\n",
       "   'deposits that qualify for the treatment set out in Article 422 (3) and (4);',\n",
       "   '(iv)',\n",
       "   'of the deposits referred to in point (iii), those that are subject to a deposit guarantee scheme in accordance with Directive 94/19/EC or an equivalent deposit guarantee scheme in a third country deposit guarantees within the terms of Article 421(2);',\n",
       "   '(v)',\n",
       "   'of the deposits referred to in point (iii), those that fall under point (b) of Article 422(3);',\n",
       "   '(vi)',\n",
       "   'of the deposits referred to in point (iii), those that fall under point (d) of Article 422(3);',\n",
       "   '(vii)',\n",
       "   'amounts deposited not falling under point (i), (ii) or (iii) if they are not deposited by financial customers;',\n",
       "   '(viii)',\n",
       "   'all funding obtained from financial customers;',\n",
       "   '(ix)',\n",
       "   ['separately for amounts falling under points (vii) and (viii) respectively, funding from secured lending and capital market-driven transactions as defined in point (3) of Article 192:',\n",
       "    '—',\n",
       "    'collateralised by assets that would qualify as liquid assets in accordance with Article 416;',\n",
       "    '—',\n",
       "    'collateralised by any other assets;'],\n",
       "   '(x)',\n",
       "   'liabilities resulting from securities issued qualifying for the treatment set out in Article 129(4) or (5) or as referred to in Article 52(4) of Directive 2009/65/EC;',\n",
       "   '(xi)',\n",
       "   ['the following other liabilities resulting from securities issued that do not fall under point (a):',\n",
       "    '—',\n",
       "    'liabilities resulting from securities issued with an effective maturity of one year or greater;',\n",
       "    '—',\n",
       "    'liabilities resulting from securities issued with an effective maturity of less than one year;'],\n",
       "   '(xii)',\n",
       "   'any other liabilities.']],\n",
       " 'Treatment of maturity mismatches in synthetic securitisations',\n",
       " ['For the purposes of calculating risk-weighted exposure amounts in accordance with Article 249, any maturity mismatch between the credit protection which constitutes a tranche and by which the transfer of risk is achieved and the securitised exposures shall be taken into consideration as follows:',\n",
       "  '(a)',\n",
       "  'the maturity of the securitised exposures shall be taken to be the longest maturity of any of those exposures subject to a maximum of five years. The maturity of the credit protection shall be determined in accordance with Chapter 4;',\n",
       "  '(b)',\n",
       "  'an originator institution shall ignore any maturity mismatch in calculating risk-weighted exposure amounts for tranches appearing pursuant to this Section with a risk weighting of 1 250 %. For all other tranches, the maturity mismatch treatment set out in Chapter 4 shall be applied in accordance with the following formula:',\n",
       "  ['where:',\n",
       "   'RW*',\n",
       "   '=',\n",
       "   'risk-weighted exposure amounts for the purposes of Article 92(3)(a);',\n",
       "   'RWAss\\n                           ',\n",
       "   '=',\n",
       "   'risk-weighted exposure amounts for exposures if they had not been securitised, calculated on a pro-rata basis;',\n",
       "   'RWSP\\n                           ',\n",
       "   '=',\n",
       "   'risk-weighted exposure amounts calculated under Article 249 if there was no maturity mismatch;',\n",
       "   'T',\n",
       "   '=',\n",
       "   'maturity of the underlying exposures expressed in years;',\n",
       "   't',\n",
       "   '=',\n",
       "   'maturity of credit protection. expressed in years;',\n",
       "   't*',\n",
       "   '=',\n",
       "   '0,25.']],\n",
       " '\\n      Sub-Section 3\\n   ']"
      ]
     },
     "execution_count": 5,
     "metadata": {},
     "output_type": "execute_result"
    }
   ],
   "source": [
    "lines"
   ]
  },
  {
   "cell_type": "code",
   "execution_count": 6,
   "metadata": {
    "scrolled": true
   },
   "outputs": [
    {
     "data": {
      "text/plain": [
       "[(4, 515),\n",
       " (519, 659),\n",
       " (663, 759),\n",
       " (763, 951),\n",
       " (955, 1162),\n",
       " (1166, 1247),\n",
       " (1251, 1558),\n",
       " (1562, 1573),\n",
       " (1577, 1615),\n",
       " (1619, 2000),\n",
       " (2004, 2184),\n",
       " (2188, 2197),\n",
       " (2201, 2239),\n",
       " (2243, 2254),\n",
       " (2258, 2288),\n",
       " [(2292, 2601),\n",
       "  (2665, 2668),\n",
       "  [(2710, 2789),\n",
       "   (2937, 2940),\n",
       "   (3018, 3045),\n",
       "   (3275, 3279),\n",
       "   (3357, 3384),\n",
       "   (3614, 3619),\n",
       "   (3697, 3833)],\n",
       "  (4013, 4016),\n",
       "  [(4058, 4110),\n",
       "   (4258, 4261),\n",
       "   (4339, 4412),\n",
       "   (4642, 4646),\n",
       "   (4724, 4797),\n",
       "   (5027, 5032),\n",
       "   (5110, 5185),\n",
       "   (5415, 5419),\n",
       "   (5497, 5747),\n",
       "   (5977, 5980),\n",
       "   (6058, 6152),\n",
       "   (6382, 6386),\n",
       "   (6464, 6558),\n",
       "   (6788, 6793),\n",
       "   (6871, 6981),\n",
       "   (7211, 7217),\n",
       "   (7295, 7341),\n",
       "   (7571, 7575),\n",
       "   [(7653, 7835), (8067, 8068), (8182, 8274), (8636, 8637), (8751, 8786)],\n",
       "   (9146, 9149),\n",
       "   (9227, 9393),\n",
       "   (9623, 9627),\n",
       "   [(9705, 9803),\n",
       "    (10035, 10036),\n",
       "    (10150, 10245),\n",
       "    (10607, 10608),\n",
       "    (10722, 10816)],\n",
       "   (11176, 11181),\n",
       "   (11259, 11281)]],\n",
       " (11401, 11462),\n",
       " [(11466, 11762),\n",
       "  (11826, 11829),\n",
       "  (11871, 12104),\n",
       "  (12202, 12205),\n",
       "  (12247, 12571),\n",
       "  [(12603, 12609),\n",
       "   (12776, 12779),\n",
       "   (12857, 12858),\n",
       "   (12936, 13004),\n",
       "   (13126, 13159),\n",
       "   (13237, 13238),\n",
       "   (13316, 13426),\n",
       "   (13548, 13580),\n",
       "   (13658, 13659),\n",
       "   (13737, 13831),\n",
       "   (13953, 13954),\n",
       "   (14032, 14033),\n",
       "   (14111, 14167),\n",
       "   (14289, 14290),\n",
       "   (14368, 14369),\n",
       "   (14447, 14497),\n",
       "   (14619, 14621),\n",
       "   (14699, 14700),\n",
       "   (14778, 14783)]],\n",
       " (14903, 14927)]"
      ]
     },
     "execution_count": 6,
     "metadata": {},
     "output_type": "execute_result"
    }
   ],
   "source": [
    "offsets"
   ]
  },
  {
   "cell_type": "code",
   "execution_count": 8,
   "metadata": {},
   "outputs": [
    {
     "data": {
      "text/plain": [
       "[(4, 515),\n",
       " (519, 659),\n",
       " (663, 759),\n",
       " (763, 951),\n",
       " (955, 1162),\n",
       " (1166, 1247),\n",
       " (1251, 1558),\n",
       " (1562, 1573),\n",
       " (1577, 1615),\n",
       " (1619, 2000),\n",
       " (2004, 2184),\n",
       " (2188, 2197),\n",
       " (2201, 2239),\n",
       " (2243, 2254),\n",
       " (2258, 2288),\n",
       " (2292, 11281),\n",
       " (11401, 11462),\n",
       " (11466, 14783),\n",
       " (14903, 14927)]"
      ]
     },
     "execution_count": 8,
     "metadata": {},
     "output_type": "execute_result"
    }
   ],
   "source": [
    "flatten_offsets( offsets  )"
   ]
  },
  {
   "cell_type": "code",
   "execution_count": 9,
   "metadata": {},
   "outputs": [
    {
     "data": {
      "text/plain": [
       "[(4, 515),\n",
       " (519, 659),\n",
       " (663, 759),\n",
       " (763, 951),\n",
       " (955, 1162),\n",
       " (1166, 1247),\n",
       " (1251, 1558),\n",
       " (1562, 1573),\n",
       " (1577, 1615),\n",
       " (1619, 2000),\n",
       " (2004, 2184),\n",
       " (2188, 2197),\n",
       " (2201, 2239),\n",
       " (2243, 2254),\n",
       " (2258, 2288),\n",
       " (2292, 11281),\n",
       " (11401, 11462),\n",
       " (11466, 14783),\n",
       " (14903, 14927)]"
      ]
     },
     "execution_count": 9,
     "metadata": {},
     "output_type": "execute_result"
    }
   ],
   "source": [
    "offsets"
   ]
  },
  {
   "cell_type": "code",
   "execution_count": null,
   "metadata": {},
   "outputs": [],
   "source": []
  },
  {
   "cell_type": "code",
   "execution_count": null,
   "metadata": {},
   "outputs": [],
   "source": []
  },
  {
   "cell_type": "code",
   "execution_count": 6,
   "metadata": {},
   "outputs": [],
   "source": [
    "def flatten(container):\n",
    "    for i in container:\n",
    "        if isinstance(i, (list)):\n",
    "            for j in flatten(i):\n",
    "                yield j\n",
    "        else:\n",
    "            yield i"
   ]
  },
  {
   "cell_type": "code",
   "execution_count": 7,
   "metadata": {
    "scrolled": true
   },
   "outputs": [],
   "source": [
    "for i,item in enumerate(offsets):\n",
    "    if type(item)==list:\n",
    "        flattened_list=list( flatten( item ) )\n",
    "        if flattened_list:\n",
    "            offsets[i]=( flattened_list[0][0], flattened_list[-1][-1] )\n",
    "        \n",
    "#list( flatten( offsets[15] ) )"
   ]
  },
  {
   "cell_type": "code",
   "execution_count": 8,
   "metadata": {},
   "outputs": [
    {
     "data": {
      "text/plain": [
       "[(4, 515),\n",
       " (519, 659),\n",
       " (663, 759),\n",
       " (763, 951),\n",
       " (955, 1162),\n",
       " (1166, 1247),\n",
       " (1251, 1558),\n",
       " (1562, 1573),\n",
       " (1577, 1615),\n",
       " (1619, 2000),\n",
       " (2004, 2184),\n",
       " (2188, 2197),\n",
       " (2201, 2239),\n",
       " (2243, 2254),\n",
       " (2258, 2288),\n",
       " (2292, 11281),\n",
       " (11401, 11462),\n",
       " (11466, 14783),\n",
       " (14903, 14927)]"
      ]
     },
     "execution_count": 8,
     "metadata": {},
     "output_type": "execute_result"
    }
   ],
   "source": [
    "offsets"
   ]
  },
  {
   "cell_type": "code",
   "execution_count": 8,
   "metadata": {},
   "outputs": [
    {
     "data": {
      "text/plain": [
       "19"
      ]
     },
     "execution_count": 8,
     "metadata": {},
     "output_type": "execute_result"
    }
   ],
   "source": [
    "len( lines )"
   ]
  },
  {
   "cell_type": "code",
   "execution_count": 9,
   "metadata": {},
   "outputs": [
    {
     "data": {
      "text/plain": [
       "19"
      ]
     },
     "execution_count": 9,
     "metadata": {},
     "output_type": "execute_result"
    }
   ],
   "source": [
    "len( offsets )"
   ]
  },
  {
   "cell_type": "code",
   "execution_count": 38,
   "metadata": {},
   "outputs": [
    {
     "data": {
      "text/plain": [
       "19"
      ]
     },
     "execution_count": 38,
     "metadata": {},
     "output_type": "execute_result"
    }
   ],
   "source": [
    "len( offsets )"
   ]
  },
  {
   "cell_type": "code",
   "execution_count": 43,
   "metadata": {},
   "outputs": [
    {
     "data": {
      "text/plain": [
       "2292"
      ]
     },
     "execution_count": 43,
     "metadata": {},
     "output_type": "execute_result"
    }
   ],
   "source": [
    "offsets[15][0][0]"
   ]
  },
  {
   "cell_type": "code",
   "execution_count": 44,
   "metadata": {},
   "outputs": [
    {
     "data": {
      "text/plain": [
       "11281"
      ]
     },
     "execution_count": 44,
     "metadata": {},
     "output_type": "execute_result"
    }
   ],
   "source": [
    "offsets[15][-1][-1]"
   ]
  },
  {
   "cell_type": "code",
   "execution_count": 46,
   "metadata": {},
   "outputs": [
    {
     "data": {
      "text/plain": [
       "[(2292, 2601),\n",
       " (2665, 2668),\n",
       " (2710, 2789),\n",
       " (2937, 2940),\n",
       " (3018, 3045),\n",
       " (3275, 3279),\n",
       " (3357, 3384),\n",
       " (3614, 3619),\n",
       " (3697, 3833),\n",
       " (4013, 4016),\n",
       " (4058, 4110),\n",
       " (4258, 4261),\n",
       " (4339, 4412),\n",
       " (4642, 4646),\n",
       " (4724, 4797),\n",
       " (5027, 5032),\n",
       " (5110, 5185),\n",
       " (5415, 5419),\n",
       " (5497, 5747),\n",
       " (5977, 5980),\n",
       " (6058, 6152),\n",
       " (6382, 6386),\n",
       " (6464, 6558),\n",
       " (6788, 6793),\n",
       " (6871, 6981),\n",
       " (7211, 7217),\n",
       " (7295, 7341),\n",
       " (7571, 7575),\n",
       " (7653, 7835),\n",
       " (8067, 8068),\n",
       " (8182, 8274),\n",
       " (8636, 8637),\n",
       " (8751, 8786),\n",
       " (9146, 9149),\n",
       " (9227, 9393),\n",
       " (9623, 9627),\n",
       " (9705, 9803),\n",
       " (10035, 10036),\n",
       " (10150, 10245),\n",
       " (10607, 10608),\n",
       " (10722, 10816),\n",
       " (11176, 11181),\n",
       " (11259, 11281)]"
      ]
     },
     "execution_count": 46,
     "metadata": {},
     "output_type": "execute_result"
    }
   ],
   "source": [
    "offsets[15]"
   ]
  },
  {
   "cell_type": "code",
   "execution_count": 13,
   "metadata": {},
   "outputs": [
    {
     "data": {
      "text/plain": [
       "19"
      ]
     },
     "execution_count": 13,
     "metadata": {},
     "output_type": "execute_result"
    }
   ],
   "source": [
    "len(lines)"
   ]
  },
  {
   "cell_type": "code",
   "execution_count": 21,
   "metadata": {
    "scrolled": true
   },
   "outputs": [
    {
     "data": {
      "text/plain": [
       "[(4, 515),\n",
       " (519, 659),\n",
       " (663, 759),\n",
       " (763, 951),\n",
       " (955, 1162),\n",
       " (1166, 1247),\n",
       " (1251, 1558),\n",
       " (1562, 1573),\n",
       " (1577, 1615),\n",
       " (1619, 2000),\n",
       " (2004, 2184),\n",
       " (2188, 2197),\n",
       " (2201, 2239),\n",
       " (2243, 2254),\n",
       " (2258, 2288),\n",
       " [(2292, 2601),\n",
       "  (2665, 2668),\n",
       "  [(2710, 2789),\n",
       "   (2937, 2940),\n",
       "   (3018, 3045),\n",
       "   (3275, 3279),\n",
       "   (3357, 3384),\n",
       "   (3614, 3619),\n",
       "   (3697, 3833)],\n",
       "  (4013, 4016),\n",
       "  [(4058, 4110),\n",
       "   (4258, 4261),\n",
       "   (4339, 4412),\n",
       "   (4642, 4646),\n",
       "   (4724, 4797),\n",
       "   (5027, 5032),\n",
       "   (5110, 5185),\n",
       "   (5415, 5419),\n",
       "   (5497, 5747),\n",
       "   (5977, 5980),\n",
       "   (6058, 6152),\n",
       "   (6382, 6386),\n",
       "   (6464, 6558),\n",
       "   (6788, 6793),\n",
       "   (6871, 6981),\n",
       "   (7211, 7217),\n",
       "   (7295, 7341),\n",
       "   (7571, 7575),\n",
       "   [(7653, 7835), (8067, 8068), (8182, 8274), (8636, 8637), (8751, 8786)],\n",
       "   (9146, 9149),\n",
       "   (9227, 9393),\n",
       "   (9623, 9627),\n",
       "   [(9705, 9803),\n",
       "    (10035, 10036),\n",
       "    (10150, 10245),\n",
       "    (10607, 10608),\n",
       "    (10722, 10816)],\n",
       "   (11176, 11181),\n",
       "   (11259, 11281)]],\n",
       " (11401, 11462),\n",
       " [(11466, 11762),\n",
       "  (11826, 11829),\n",
       "  (11871, 12104),\n",
       "  (12202, 12205),\n",
       "  (12247, 12571),\n",
       "  [(12603, 12609),\n",
       "   (12776, 12779),\n",
       "   (12857, 12858),\n",
       "   (12936, 13004),\n",
       "   (13126, 13159),\n",
       "   (13237, 13238),\n",
       "   (13316, 13426),\n",
       "   (13548, 13580),\n",
       "   (13658, 13659),\n",
       "   (13737, 13831),\n",
       "   (13953, 13954),\n",
       "   (14032, 14033),\n",
       "   (14111, 14167),\n",
       "   (14289, 14290),\n",
       "   (14368, 14369),\n",
       "   (14447, 14497),\n",
       "   (14619, 14621),\n",
       "   (14699, 14700),\n",
       "   (14778, 14783)]],\n",
       " (14903, 14927)]"
      ]
     },
     "execution_count": 21,
     "metadata": {},
     "output_type": "execute_result"
    }
   ],
   "source": [
    "offsets"
   ]
  },
  {
   "cell_type": "code",
   "execution_count": 10,
   "metadata": {
    "scrolled": true
   },
   "outputs": [
    {
     "data": {
      "text/plain": [
       "[(2292, 2601),\n",
       " (2665, 2668),\n",
       " [(2710, 2789),\n",
       "  (2937, 2940),\n",
       "  (3018, 3045),\n",
       "  (3275, 3279),\n",
       "  (3357, 3384),\n",
       "  (3614, 3619),\n",
       "  (3697, 3833)],\n",
       " (4013, 4016),\n",
       " [(4058, 4110),\n",
       "  (4258, 4261),\n",
       "  (4339, 4412),\n",
       "  (4642, 4646),\n",
       "  (4724, 4797),\n",
       "  (5027, 5032),\n",
       "  (5110, 5185),\n",
       "  (5415, 5419),\n",
       "  (5497, 5747),\n",
       "  (5977, 5980),\n",
       "  (6058, 6152),\n",
       "  (6382, 6386),\n",
       "  (6464, 6558),\n",
       "  (6788, 6793),\n",
       "  (6871, 6981),\n",
       "  (7211, 7217),\n",
       "  (7295, 7341),\n",
       "  (7571, 7575),\n",
       "  [(7653, 7835), (8067, 8068), (8182, 8274), (8636, 8637), (8751, 8786)],\n",
       "  (9146, 9149),\n",
       "  (9227, 9393),\n",
       "  (9623, 9627),\n",
       "  [(9705, 9803),\n",
       "   (10035, 10036),\n",
       "   (10150, 10245),\n",
       "   (10607, 10608),\n",
       "   (10722, 10816)],\n",
       "  (11176, 11181),\n",
       "  (11259, 11281)]]"
      ]
     },
     "execution_count": 10,
     "metadata": {},
     "output_type": "execute_result"
    }
   ],
   "source": [
    "offsets[15]  #flatten and take begin and end.."
   ]
  },
  {
   "cell_type": "code",
   "execution_count": 16,
   "metadata": {},
   "outputs": [],
   "source": [
    "flat_list = [item for sublist in offsets[15] for item in sublist]"
   ]
  },
  {
   "cell_type": "code",
   "execution_count": null,
   "metadata": {},
   "outputs": [],
   "source": [
    "for offset in offsets:\n",
    "    if type( offset ) == list:\n",
    "        "
   ]
  },
  {
   "cell_type": "code",
   "execution_count": 23,
   "metadata": {},
   "outputs": [
    {
     "name": "stderr",
     "output_type": "stream",
     "text": [
      "/miniconda/lib/python3.7/site-packages/ipykernel_launcher.py:2: VisibleDeprecationWarning: Creating an ndarray from ragged nested sequences (which is a list-or-tuple of lists-or-tuples-or ndarrays with different lengths or shapes) is deprecated. If you meant to do this, you must specify 'dtype=object' when creating the ndarray\n",
      "  \n"
     ]
    },
    {
     "data": {
      "text/plain": [
       "array([(4, 515), (519, 659), (663, 759), (763, 951), (955, 1162),\n",
       "       (1166, 1247), (1251, 1558), (1562, 1573), (1577, 1615),\n",
       "       (1619, 2000), (2004, 2184), (2188, 2197), (2201, 2239),\n",
       "       (2243, 2254), (2258, 2288),\n",
       "       list([(2292, 2601), (2665, 2668), [(2710, 2789), (2937, 2940), (3018, 3045), (3275, 3279), (3357, 3384), (3614, 3619), (3697, 3833)], (4013, 4016), [(4058, 4110), (4258, 4261), (4339, 4412), (4642, 4646), (4724, 4797), (5027, 5032), (5110, 5185), (5415, 5419), (5497, 5747), (5977, 5980), (6058, 6152), (6382, 6386), (6464, 6558), (6788, 6793), (6871, 6981), (7211, 7217), (7295, 7341), (7571, 7575), [(7653, 7835), (8067, 8068), (8182, 8274), (8636, 8637), (8751, 8786)], (9146, 9149), (9227, 9393), (9623, 9627), [(9705, 9803), (10035, 10036), (10150, 10245), (10607, 10608), (10722, 10816)], (11176, 11181), (11259, 11281)]]),\n",
       "       (11401, 11462),\n",
       "       list([(11466, 11762), (11826, 11829), (11871, 12104), (12202, 12205), (12247, 12571), [(12603, 12609), (12776, 12779), (12857, 12858), (12936, 13004), (13126, 13159), (13237, 13238), (13316, 13426), (13548, 13580), (13658, 13659), (13737, 13831), (13953, 13954), (14032, 14033), (14111, 14167), (14289, 14290), (14368, 14369), (14447, 14497), (14619, 14621), (14699, 14700), (14778, 14783)]]),\n",
       "       (14903, 14927)], dtype=object)"
      ]
     },
     "execution_count": 23,
     "metadata": {},
     "output_type": "execute_result"
    }
   ],
   "source": [
    "import numpy as np\n",
    "np.array( offsets )"
   ]
  },
  {
   "cell_type": "code",
   "execution_count": 25,
   "metadata": {},
   "outputs": [
    {
     "name": "stdout",
     "output_type": "stream",
     "text": [
      "[1, 2, 3, 4, 5, 'hi', 6, 7, 'hello']\n"
     ]
    }
   ],
   "source": [
    "nests = [1, 2, [3, 4, [5],['hi']], [6, [[[7, 'hello']]]]]\n",
    "\n",
    "def flatten(container):\n",
    "    for i in container:\n",
    "        if isinstance(i, (list,tuple)):\n",
    "            for j in flatten(i):\n",
    "                yield j\n",
    "        else:\n",
    "            yield i\n",
    "\n",
    "print(list(flatten(nests)))"
   ]
  },
  {
   "cell_type": "code",
   "execution_count": null,
   "metadata": {},
   "outputs": [],
   "source": []
  },
  {
   "cell_type": "code",
   "execution_count": 19,
   "metadata": {},
   "outputs": [
    {
     "data": {
      "text/plain": [
       "True"
      ]
     },
     "execution_count": 19,
     "metadata": {},
     "output_type": "execute_result"
    }
   ],
   "source": [
    "type( offsets[15] ) == list"
   ]
  },
  {
   "cell_type": "code",
   "execution_count": 20,
   "metadata": {},
   "outputs": [
    {
     "data": {
      "text/plain": [
       "[(2292, 2601),\n",
       " (2665, 2668),\n",
       " [(2710, 2789),\n",
       "  (2937, 2940),\n",
       "  (3018, 3045),\n",
       "  (3275, 3279),\n",
       "  (3357, 3384),\n",
       "  (3614, 3619),\n",
       "  (3697, 3833)],\n",
       " (4013, 4016),\n",
       " [(4058, 4110),\n",
       "  (4258, 4261),\n",
       "  (4339, 4412),\n",
       "  (4642, 4646),\n",
       "  (4724, 4797),\n",
       "  (5027, 5032),\n",
       "  (5110, 5185),\n",
       "  (5415, 5419),\n",
       "  (5497, 5747),\n",
       "  (5977, 5980),\n",
       "  (6058, 6152),\n",
       "  (6382, 6386),\n",
       "  (6464, 6558),\n",
       "  (6788, 6793),\n",
       "  (6871, 6981),\n",
       "  (7211, 7217),\n",
       "  (7295, 7341),\n",
       "  (7571, 7575),\n",
       "  [(7653, 7835), (8067, 8068), (8182, 8274), (8636, 8637), (8751, 8786)],\n",
       "  (9146, 9149),\n",
       "  (9227, 9393),\n",
       "  (9623, 9627),\n",
       "  [(9705, 9803),\n",
       "   (10035, 10036),\n",
       "   (10150, 10245),\n",
       "   (10607, 10608),\n",
       "   (10722, 10816)],\n",
       "  (11176, 11181),\n",
       "  (11259, 11281)]]"
      ]
     },
     "execution_count": 20,
     "metadata": {},
     "output_type": "execute_result"
    }
   ],
   "source": [
    "offsets[15]"
   ]
  },
  {
   "cell_type": "code",
   "execution_count": null,
   "metadata": {},
   "outputs": [],
   "source": []
  },
  {
   "cell_type": "code",
   "execution_count": 17,
   "metadata": {},
   "outputs": [
    {
     "data": {
      "text/plain": [
       "[2292,\n",
       " 2601,\n",
       " 2665,\n",
       " 2668,\n",
       " (2710, 2789),\n",
       " (2937, 2940),\n",
       " (3018, 3045),\n",
       " (3275, 3279),\n",
       " (3357, 3384),\n",
       " (3614, 3619),\n",
       " (3697, 3833),\n",
       " 4013,\n",
       " 4016,\n",
       " (4058, 4110),\n",
       " (4258, 4261),\n",
       " (4339, 4412),\n",
       " (4642, 4646),\n",
       " (4724, 4797),\n",
       " (5027, 5032),\n",
       " (5110, 5185),\n",
       " (5415, 5419),\n",
       " (5497, 5747),\n",
       " (5977, 5980),\n",
       " (6058, 6152),\n",
       " (6382, 6386),\n",
       " (6464, 6558),\n",
       " (6788, 6793),\n",
       " (6871, 6981),\n",
       " (7211, 7217),\n",
       " (7295, 7341),\n",
       " (7571, 7575),\n",
       " [(7653, 7835), (8067, 8068), (8182, 8274), (8636, 8637), (8751, 8786)],\n",
       " (9146, 9149),\n",
       " (9227, 9393),\n",
       " (9623, 9627),\n",
       " [(9705, 9803),\n",
       "  (10035, 10036),\n",
       "  (10150, 10245),\n",
       "  (10607, 10608),\n",
       "  (10722, 10816)],\n",
       " (11176, 11181),\n",
       " (11259, 11281)]"
      ]
     },
     "execution_count": 17,
     "metadata": {},
     "output_type": "execute_result"
    }
   ],
   "source": [
    "flat_list"
   ]
  },
  {
   "cell_type": "code",
   "execution_count": 14,
   "metadata": {},
   "outputs": [
    {
     "data": {
      "text/plain": [
       "[(4, 515),\n",
       " (519, 659),\n",
       " (663, 759),\n",
       " (763, 951),\n",
       " (955, 1162),\n",
       " (1166, 1247),\n",
       " (1251, 1558),\n",
       " (1562, 1573),\n",
       " (1577, 1615),\n",
       " (1619, 2000),\n",
       " (2004, 2184),\n",
       " (2188, 2197),\n",
       " (2201, 2239),\n",
       " (2243, 2254),\n",
       " (2258, 2288),\n",
       " [(2292, 2601),\n",
       "  (2665, 2668),\n",
       "  [(2710, 2789),\n",
       "   (2937, 2940),\n",
       "   (3018, 3045),\n",
       "   (3275, 3279),\n",
       "   (3357, 3384),\n",
       "   (3614, 3619),\n",
       "   (3697, 3833)],\n",
       "  (4013, 4016),\n",
       "  [(4058, 4110),\n",
       "   (4258, 4261),\n",
       "   (4339, 4412),\n",
       "   (4642, 4646),\n",
       "   (4724, 4797),\n",
       "   (5027, 5032),\n",
       "   (5110, 5185),\n",
       "   (5415, 5419),\n",
       "   (5497, 5747),\n",
       "   (5977, 5980),\n",
       "   (6058, 6152),\n",
       "   (6382, 6386),\n",
       "   (6464, 6558),\n",
       "   (6788, 6793),\n",
       "   (6871, 6981),\n",
       "   (7211, 7217),\n",
       "   (7295, 7341),\n",
       "   (7571, 7575),\n",
       "   [(7653, 7835), (8067, 8068), (8182, 8274), (8636, 8637), (8751, 8786)],\n",
       "   (9146, 9149),\n",
       "   (9227, 9393),\n",
       "   (9623, 9627),\n",
       "   [(9705, 9803),\n",
       "    (10035, 10036),\n",
       "    (10150, 10245),\n",
       "    (10607, 10608),\n",
       "    (10722, 10816)],\n",
       "   (11176, 11181),\n",
       "   (11259, 11281)]],\n",
       " (11401, 11462),\n",
       " [(11466, 11762),\n",
       "  (11826, 11829),\n",
       "  (11871, 12104),\n",
       "  (12202, 12205),\n",
       "  (12247, 12571),\n",
       "  [(12603, 12609),\n",
       "   (12776, 12779),\n",
       "   (12857, 12858),\n",
       "   (12936, 13004),\n",
       "   (13126, 13159),\n",
       "   (13237, 13238),\n",
       "   (13316, 13426),\n",
       "   (13548, 13580),\n",
       "   (13658, 13659),\n",
       "   (13737, 13831),\n",
       "   (13953, 13954),\n",
       "   (14032, 14033),\n",
       "   (14111, 14167),\n",
       "   (14289, 14290),\n",
       "   (14368, 14369),\n",
       "   (14447, 14497),\n",
       "   (14619, 14621),\n",
       "   (14699, 14700),\n",
       "   (14778, 14783)]],\n",
       " (14903, 14927)]"
      ]
     },
     "execution_count": 14,
     "metadata": {},
     "output_type": "execute_result"
    }
   ],
   "source": [
    "offsets"
   ]
  },
  {
   "cell_type": "code",
   "execution_count": null,
   "metadata": {},
   "outputs": [],
   "source": []
  },
  {
   "cell_type": "code",
   "execution_count": null,
   "metadata": {},
   "outputs": [],
   "source": []
  },
  {
   "cell_type": "code",
   "execution_count": 10,
   "metadata": {},
   "outputs": [
    {
     "data": {
      "text/plain": [
       "19"
      ]
     },
     "execution_count": 10,
     "metadata": {},
     "output_type": "execute_result"
    }
   ],
   "source": [
    "len( transformed_lines )"
   ]
  },
  {
   "cell_type": "code",
   "execution_count": 12,
   "metadata": {},
   "outputs": [
    {
     "data": {
      "text/plain": [
       "19"
      ]
     },
     "execution_count": 12,
     "metadata": {},
     "output_type": "execute_result"
    }
   ],
   "source": [
    "len(lines)"
   ]
  },
  {
   "cell_type": "code",
   "execution_count": null,
   "metadata": {},
   "outputs": [],
   "source": []
  },
  {
   "cell_type": "code",
   "execution_count": null,
   "metadata": {},
   "outputs": [],
   "source": []
  },
  {
   "cell_type": "code",
   "execution_count": null,
   "metadata": {},
   "outputs": [],
   "source": []
  },
  {
   "cell_type": "code",
   "execution_count": null,
   "metadata": {},
   "outputs": [],
   "source": []
  },
  {
   "cell_type": "code",
   "execution_count": 3,
   "metadata": {},
   "outputs": [],
   "source": [
    "transformer=ListTransformer( cas )\n",
    "transformer.add_list_view( OldSofaID='html2textView', NewSofaID = 'ListView' )"
   ]
  },
  {
   "cell_type": "code",
   "execution_count": 6,
   "metadata": {
    "scrolled": true
   },
   "outputs": [
    {
     "name": "stdout",
     "output_type": "stream",
     "text": [
      "5.   Competent authorities may waive the condition set out in point (d) of paragraph 4 where Article 20(1)(b) is applied. In that case additional objective criteria as set out in the delegated act referred to in Article 460 have to be met. Where such higher inflow is permitted to be applied, the competent authorities shall inform EBA about the result of the process referred to in Article 20(1)(b). Fulfilment of the conditions for such higher inflows shall be regularly reviewed by the competent authorities.\n",
      "6.   EBA shall develop draft regulatory technical standards to further specify the additional objective criteria referred to in paragraph 5.\n",
      "EBA shall submit those draft regulatory technical standards to the Commission by 1 January 2015.\n",
      "Power is delegated to the Commission to adopt the regulatory technical standards referred to in the first subparagraph in accordance with Articles 10 to 14 of Regulation (EU) No 1093/2010.\n",
      "7.   Institutions shall not report inflows from any of the liquid assets reported in accordance with Article 416 other than payments due on the assets that are not reflected in the market value of the asset.\n",
      "8.   Institutions shall not report inflows from any new obligations entered into.\n",
      "9.   Institutions shall take liquidity inflows which are to be received in third countries where there are transfer restrictions or which are denominated in non-convertible currencies into account only to the extent that they correspond to outflows respectively in the third country or currency in question.\n",
      "Article 426\n",
      "Updating Future liquidity requirements\n",
      "Following, the adoption by the Commission of a delegated act to specify the liquidity requirement in accordance with Article 460, EBA may develop draft implementing technical standards to specify the conditions set out in Article 421(1), Article 422, with the exception of paragraphs 8, 9 and 10 of that Article, and Article 424 to take account of standards agreed internationally.\n",
      "Power is conferred on the Commission to adopt the implementing technical standards referred to in the first paragraph in accordance with Article 15 of Regulation (EU) No 1093/2010.\n",
      "TITLE III\n",
      "REPORTING ON STABLE FUNDING\n",
      "Article 427\n",
      "Items providing stable funding\n",
      "1.   Institutions shall report to the competent authorities, in accordance with the reporting requirements set out in Article 415(1) and the uniform reporting formats referred to in Article 415(3), the following items and their components in order to allow an assessment of the availability of stable funding ❮the following own funds, after deductions have been applied, where appropriate ❬tier 1 capital instruments ‖ and/or tier 2 capital instruments ‖ and/or other preferred shares and capital instruments in excess of Tier 2 allowable amount having an effective maturity of one year or greater❭ ‖ the following liabilities not included in point (a) ❬retail deposits that qualify for the treatment set out in Article 421(1) ‖ and/or retail deposits that qualify for the treatment set out in Article 421(2) ‖ and/or deposits that qualify for the treatment set out in Article 422 (3) and (4) ‖ and/or of the deposits referred to in point (iii), those that are subject to a deposit guarantee scheme in accordance with Directive 94/19/EC or an equivalent deposit guarantee scheme in a third country deposit guarantees within the terms of Article 421(2) ‖ and/or of the deposits referred to in point (iii), those that fall under point (b) of Article 422(3) ‖ and/or of the deposits referred to in point (iii), those that fall under point (d) of Article 422(3) ‖ and/or amounts deposited not falling under point (i), (ii) or (iii) if they are not deposited by financial customers ‖ and/or all funding obtained from financial customers ‖ and/or separately for amounts falling under points (vii) and (viii) respectively, funding from secured lending and capital market-driven transactions as defined in point (3) of Article 192 ⟨collateralised by assets that would qualify as liquid assets in accordance with Article 416 ‖ and/or collateralised by any other assets⟩ ‖ and/or liabilities resulting from securities issued qualifying for the treatment set out in Article 129(4) or (5) or as referred to in Article 52(4) of Directive 2009/65/EC ‖ and/or the following other liabilities resulting from securities issued that do not fall under point (a) ⟨liabilities resulting from securities issued with an effective maturity of one year or greater ‖ and/or liabilities resulting from securities issued with an effective maturity of less than one year⟩ ‖ and/or any other liabilities❭❯\n",
      "Treatment of maturity mismatches in synthetic securitisations\n",
      "For the purposes of calculating risk-weighted exposure amounts in accordance with Article 249, any maturity mismatch between the credit protection which constitutes a tranche and by which the transfer of risk is achieved and the securitised exposures shall be taken into consideration as described in the following list ❮the maturity of the securitised exposures shall be taken to be the longest maturity of any of those exposures subject to a maximum of five years. The maturity of the credit protection shall be determined in accordance with Chapter 4 ‖ an originator institution shall ignore any maturity mismatch in calculating risk-weighted exposure amounts for tranches appearing pursuant to this Section with a risk weighting of 1 250 %. For all other tranches, the maturity mismatch treatment set out in Chapter 4 shall be applied in accordance with the following formula ‖ where ❬RW* ‖ and/or = ‖ and/or risk-weighted exposure amounts for the purposes of Article 92(3)(a) ‖ and/or RWAss ‖ and/or = ‖ and/or risk-weighted exposure amounts for exposures if they had not been securitised, calculated on a pro-rata basis ‖ and/or RWSP ‖ and/or = ‖ and/or risk-weighted exposure amounts calculated under Article 249 if there was no maturity mismatch ‖ and/or T ‖ and/or = ‖ and/or maturity of the underlying exposures expressed in years ‖ and/or t ‖ and/or = ‖ and/or maturity of credit protection. expressed in years ‖ and/or t* ‖ and/or = ‖ and/or 0,25❭❯\n",
      "Sub-Section 3\n"
     ]
    }
   ],
   "source": [
    "print( transformer.cas.get_view( 'ListView' ).sofa_string )"
   ]
  },
  {
   "cell_type": "code",
   "execution_count": null,
   "metadata": {},
   "outputs": [],
   "source": []
  },
  {
   "cell_type": "code",
   "execution_count": null,
   "metadata": {},
   "outputs": [],
   "source": []
  },
  {
   "cell_type": "code",
   "execution_count": null,
   "metadata": {},
   "outputs": [],
   "source": []
  },
  {
   "cell_type": "code",
   "execution_count": null,
   "metadata": {},
   "outputs": [],
   "source": []
  },
  {
   "cell_type": "code",
   "execution_count": 2,
   "metadata": {},
   "outputs": [
    {
     "name": "stdout",
     "output_type": "stream",
     "text": [
      "loading AllenNLP predictor from /notebook/nas-trainings/arne/DGFISMA/reporting_obligations/code/DGFISMA_reporting_obligations/tests/test_files/models/bert_model/bert-base-srl-2019.06.17.tar.gz\n",
      "loading spacy model from /notebook/nas-trainings/arne/DGFISMA/reporting_obligations/code/DGFISMA_reporting_obligations/tests/test_files/models/spacy_model/spacy-textcat\n",
      "Writing output to /notebook/nas-trainings/arne/DGFISMA/reporting_obligations/code/DGFISMA_reporting_obligations/tests/test_files/output_reporting_obligations/test_test.html using /notebook/nas-trainings/arne/DGFISMA/reporting_obligations/code/DGFISMA_reporting_obligations/tests/test_files/templates/out.html.template as html template\n"
     ]
    }
   ],
   "source": [
    "transformer=ListTransformer( cas )\n",
    "\n",
    "transformer.add_list_view( OldSofaID='html2textView', NewSofaID = 'ListView' )\n",
    "\n",
    "reporting_obligations_finder = ReportingObligationsFinder( cas, bert_model, nlp )\n",
    "reporting_obligations_finder.process_sentences( ListSofaID='ListView'  )\n",
    "reporting_obligations_finder.add_xml_to_cas(  TEMPLATE_PATH , ROSofaID='ReportingObligationsView' )\n",
    "\n",
    "reporting_obligations_finder.print_to_html( TEMPLATE_PATH, OUTPUT_PATH )\n"
   ]
  },
  {
   "cell_type": "code",
   "execution_count": null,
   "metadata": {},
   "outputs": [],
   "source": []
  },
  {
   "cell_type": "code",
   "execution_count": null,
   "metadata": {},
   "outputs": [],
   "source": []
  },
  {
   "cell_type": "code",
   "execution_count": null,
   "metadata": {},
   "outputs": [],
   "source": []
  },
  {
   "cell_type": "code",
   "execution_count": null,
   "metadata": {},
   "outputs": [],
   "source": []
  }
 ],
 "metadata": {
  "kernelspec": {
   "display_name": "Python 3",
   "language": "python",
   "name": "python3"
  },
  "language_info": {
   "codemirror_mode": {
    "name": "ipython",
    "version": 3
   },
   "file_extension": ".py",
   "mimetype": "text/x-python",
   "name": "python",
   "nbconvert_exporter": "python",
   "pygments_lexer": "ipython3",
   "version": "3.7.3"
  }
 },
 "nbformat": 4,
 "nbformat_minor": 4
}
