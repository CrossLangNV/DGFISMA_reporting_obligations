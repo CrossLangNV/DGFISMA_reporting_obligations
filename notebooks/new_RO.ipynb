{
 "cells": [
  {
   "cell_type": "code",
   "execution_count": 9,
   "id": "welcome-oxford",
   "metadata": {},
   "outputs": [
    {
     "name": "stdout",
     "output_type": "stream",
     "text": [
      "loading AllenNLP predictor from /notebook/nas-trainings/arne/DGFISMA/reporting_obligations/code/DGFISMA_reporting_obligations/tests/test_files/models/bert_model/bert-base-srl-2019.06.17.tar.gz\n",
      "loading spacy model from /notebook/nas-trainings/arne/DGFISMA/reporting_obligations/code/DGFISMA_reporting_obligations/tests/test_files/models/spacy_model/spacy-textcat\n"
     ]
    }
   ],
   "source": [
    "import os\n",
    "import sys\n",
    "PATH=\"/notebook/nas-trainings/arne/DGFISMA/reporting_obligations/code/DGFISMA_reporting_obligations\"\n",
    "sys.path.append( os.path.join( PATH ) )\n",
    "\n",
    "from allennlp.predictors.predictor import Predictor\n",
    "import spacy\n",
    "\n",
    "BERT_PATH=os.path.join(  PATH, \"tests/test_files/models\", \"bert_model\", \"bert-base-srl-2019.06.17.tar.gz\" )\n",
    "SPACY_PATH=os.path.join( PATH, \"tests/test_files/models\", \"spacy_model\", \"spacy-textcat\" )\n",
    "\n",
    "#print( f\"loading AllenNLP predictor from {BERT_PATH}\" )\n",
    "#bert_model = Predictor.from_path( BERT_PATH, cuda_device=0 )\n",
    "\n",
    "#print( f\"loading spacy model from {SPACY_PATH}\" )\n",
    "#nlp=spacy.load( SPACY_PATH )\n",
    "\n",
    "#http://docs.allennlp.org/v0.9.0/api/allennlp.predictors.html\n",
    "from src.reporting_obligations import ReportingObligationsFinder\n",
    "\n",
    "reporting_obligations_finder = ReportingObligationsFinder(  BERT_PATH, SPACY_PATH, gpu=0  )"
   ]
  },
  {
   "cell_type": "code",
   "execution_count": 10,
   "id": "acquired-diabetes",
   "metadata": {},
   "outputs": [
    {
     "data": {
      "text/plain": [
       "[de_tudarmstadt_ukp_dkpro_core_api_segmentation_type_Reportingobligation(xmiID=9543, id=None, user='me', datetime=None, begin=2292, end=11397, type='de.tudarmstadt.ukp.dkpro.core.api.segmentation.type.Reportingobligation')]"
      ]
     },
     "execution_count": 10,
     "metadata": {},
     "output_type": "execute_result"
    }
   ],
   "source": [
    "#read in the json:\n",
    "import json\n",
    "import base64\n",
    "import re\n",
    "import sys\n",
    "import os\n",
    "\n",
    "from typing import Generator, List\n",
    "\n",
    "from cassis.typesystem import load_typesystem\n",
    "from cassis.xmi import load_cas_from_xmi\n",
    "from cassis import Cas\n",
    "\n",
    "TEMPLATE_PATH=os.path.join( PATH, \"tests/test_files/templates/out.html.template\" )\n",
    "\n",
    "\n",
    "with open( os.path.join( PATH , \"tests/test_files/typesystems/typesystem_user.xml\" )  , 'rb') as f:\n",
    "    typesystem = load_typesystem(f)\n",
    "\n",
    "with open( os.path.join( PATH, 'tests/test_files/response_json_paragraph_annotations/double_nested_list_response.json')) as json_file:\n",
    "    response = json.load(json_file)\n",
    "\n",
    "#with open( os.path.join( PATH, 'tests/test_files/response_json_paragraph_annotations/small_nested_tables_response.json')) as json_file:\n",
    "#    response = json.load(json_file)\n",
    "    \n",
    "#with open( os.path.join( PATH, 'tests/test_files/response_json_paragraph_annotations/minus_lesser_of_response.json')) as json_file:\n",
    "#    response = json.load(json_file)  \n",
    "\n",
    "#with open( os.path.join( PATH, 'tests/test_files/testing_bug/32011D1208-input.json')) as json_file:\n",
    "#    response = json.load(json_file)  \n",
    "    \n",
    "#with open( os.path.join( PATH, 'tests/test_files/response_json_paragraph_annotations/32002R0063-input.xmi_outputPar_det.json')) as json_file:\n",
    "#    response = json.load(json_file)    #busy here\n",
    "    \n",
    "#with open( os.path.join( PATH, 'tests/test_files/testing_bug/32014R1141-input.xmi_outputPar_det.json')) as json_file:\n",
    "#    response = json.load(json_file)   #busy here\n",
    "    \n",
    "#with open( os.path.join( PATH, 'tests/test_files/testing_bug/32019L2121-input.xmi_outputPar_det.json')) as json_file:\n",
    "#    response = json.load(json_file)   #busy here\n",
    "    \n",
    "#with open( os.path.join( PATH, 'tests/test_files/testing_bug/32019L2121-input.xmi_outputRO_gpu_2.json')) as json_file:\n",
    "#    response = json.load(json_file)\n",
    "\n",
    "#32019L2121-input.xmi_outputRO_gpu_2\n",
    "    \n",
    "#with open(  os.path.join( PATH, 'tests/test_files/response_json_paragraph_annotations/doc_bf4ef384-bd7a-51c8-8f7d-d2f61865d767_response.json')) as json_file:\n",
    "#    response = json.load(json_file)\n",
    "    \n",
    "#OUTPUT_PATH=os.path.join( PATH, \"tests/test_files/output_reporting_obligations/testing_bug3.html\" )\n",
    "    \n",
    "decoded_cas=base64.b64decode( response[ 'cas_content' ] ).decode( 'utf-8' )\n",
    "\n",
    "cas=load_cas_from_xmi( decoded_cas, typesystem=typesystem )\n",
    "\n",
    "RO_type=typesystem.get_type( \"de.tudarmstadt.ukp.dkpro.core.api.segmentation.type.Reportingobligation\" )\n",
    "cas.get_view( \"html2textView\" ).add_annotation( RO_type(  begin=2292, end=11397, user='me' ) )\n",
    "#what if two RO added... stay in sinc\n",
    "cas.get_view(\"html2textView\").select( \"de.tudarmstadt.ukp.dkpro.core.api.segmentation.type.Reportingobligation\" )\n"
   ]
  },
  {
   "cell_type": "code",
   "execution_count": 11,
   "id": "nonprofit-network",
   "metadata": {},
   "outputs": [
    {
     "name": "stdout",
     "output_type": "stream",
     "text": [
      "add list view\n"
     ]
    }
   ],
   "source": [
    "from src.transform import ListTransformer\n",
    "\n",
    "#from src.transform import get_other_lines, transform_lines, flatten_offsets\n",
    "\n",
    "#from src.utils import SeekableIterator\n",
    "\n",
    "OldSofaID = 'html2textView'\n",
    "NewSofaID = 'ListView'\n",
    "value_between_tagtype = \"com.crosslang.uimahtmltotext.uima.type.ValueBetweenTagType\"\n",
    "paragraph_type = \"de.tudarmstadt.ukp.dkpro.core.api.segmentation.type.Paragraph\"\n",
    "\n",
    "transformer = ListTransformer( cas )\n",
    "print( \"add list view\" )\n",
    "transformer.add_list_view_user( OldSofaID='html2textView', NewSofaID = 'ListView' )"
   ]
  },
  {
   "cell_type": "code",
   "execution_count": 12,
   "id": "identified-college",
   "metadata": {},
   "outputs": [
    {
     "name": "stdout",
     "output_type": "stream",
     "text": [
      "get reporting obligations\n",
      "loading tokenizer en_core_web_sm\n",
      "Writing output to /notebook/nas-trainings/arne/DGFISMA/reporting_obligations/code/DGFISMA_reporting_obligations/tests/test_files/output_reporting_obligations/testing_user.html using /notebook/nas-trainings/arne/DGFISMA/reporting_obligations/code/DGFISMA_reporting_obligations/tests/test_files/templates/out.html.template as html template\n",
      "0.3407313823699951\n"
     ]
    }
   ],
   "source": [
    "\n",
    "\n",
    "OUTPUT_PATH=os.path.join( PATH, \"tests/test_files/output_reporting_obligations/testing_user.html\" )\n",
    "\n",
    "print( \"get reporting obligations\" )\n",
    "import time\n",
    "start=time.time()\n",
    "reporting_obligations_finder.process_sentences( cas, ListSofaID='ListView'  )\n",
    "reporting_obligations_finder.add_xml_to_cas( cas, TEMPLATE_PATH, ROSofaID='ReportingObligationsView' )\n",
    "reporting_obligations_finder.print_to_html(  TEMPLATE_PATH, OUTPUT_PATH  )\n",
    "end=time.time()\n",
    "print( end-start )"
   ]
  },
  {
   "cell_type": "code",
   "execution_count": null,
   "id": "registered-deficit",
   "metadata": {},
   "outputs": [],
   "source": [
    "#END"
   ]
  },
  {
   "cell_type": "code",
   "execution_count": null,
   "id": "bridal-chase",
   "metadata": {},
   "outputs": [],
   "source": []
  },
  {
   "cell_type": "code",
   "execution_count": 6,
   "id": "devoted-evanescence",
   "metadata": {},
   "outputs": [],
   "source": [
    "\n",
    "RO_users=cas.get_view(\"html2textView\").select( \"de.tudarmstadt.ukp.dkpro.core.api.segmentation.type.Reportingobligation\" )\n",
    "#Check if they do not overlap.\n",
    "RO_users\n",
    "\n",
    "tags_users=[]\n",
    "end=0\n",
    "for RO_user in RO_users:\n",
    "    if RO_user.begin>end or end==0: #check that the RO user annotations do not overlap\n",
    "        tags_users+=list(cas.get_view( \"html2textView\" ).select_covered( \"com.crosslang.uimahtmltotext.uima.type.ValueBetweenTagType\", RO_user   ))\n",
    "        end=RO_user.end\n",
    "    else: \n",
    "        print( f\"Reporting obligation annotated by user {RO_user.user} overlaps with another reporting obligation user annotation. \\\n",
    "        Please remove overlapping user annotations.\"   )\n",
    "\n",
    "\n",
    "from src.utils import SeekableIterator\n",
    "from src.transform import get_other_lines, flatten_offsets, postprocess_nested_lines, transform_lines\n",
    "\n",
    "OldSofaID = \"html2textView\"\n",
    "NewSofaID=  \"ListView\"\n",
    "paragraph_type = \"de.tudarmstadt.ukp.dkpro.core.api.segmentation.type.Paragraph\"\n",
    "\n",
    "seek_vbtt=SeekableIterator( iter( tags_users ) )\n",
    "\n",
    "lines, offsets=get_other_lines( cas , OldSofaID, seek_vbtt, 'root', paragraph_type=paragraph_type )\n"
   ]
  },
  {
   "cell_type": "code",
   "execution_count": 8,
   "id": "compound-confirmation",
   "metadata": {
    "scrolled": true
   },
   "outputs": [
    {
     "data": {
      "text/plain": [
       "['1.   Institutions shall report to the competent authorities, in accordance with the reporting requirements set out in Article 415(1) and the uniform reporting formats referred to in Article 415(3), the following items and their components in order to allow an assessment of the availability of stable funding:',\n",
       " '(a)',\n",
       " ['the following own funds, after deductions have been applied, where appropriate:',\n",
       "  '(i)',\n",
       "  'tier 1 capital instruments;',\n",
       "  '(ii)',\n",
       "  'tier 2 capital instruments;',\n",
       "  '(iii)',\n",
       "  'other preferred shares and capital instruments in excess of Tier 2 allowable amount having an effective maturity of one year or greater;'],\n",
       " '(b)',\n",
       " ['the following liabilities not included in point (a):',\n",
       "  '(i)',\n",
       "  'retail deposits that qualify for the treatment set out in Article 421(1);',\n",
       "  '(ii)',\n",
       "  'retail deposits that qualify for the treatment set out in Article 421(2);',\n",
       "  '(iii)',\n",
       "  'deposits that qualify for the treatment set out in Article 422 (3) and (4);',\n",
       "  '(iv)',\n",
       "  'of the deposits referred to in point (iii), those that are subject to a deposit guarantee scheme in accordance with Directive 94/19/EC or an equivalent deposit guarantee scheme in a third country deposit guarantees within the terms of Article 421(2);',\n",
       "  '(v)',\n",
       "  'of the deposits referred to in point (iii), those that fall under point (b) of Article 422(3);',\n",
       "  '(vi)',\n",
       "  'of the deposits referred to in point (iii), those that fall under point (d) of Article 422(3);',\n",
       "  '(vii)',\n",
       "  'amounts deposited not falling under point (i), (ii) or (iii) if they are not deposited by financial customers;',\n",
       "  '(viii)',\n",
       "  'all funding obtained from financial customers;',\n",
       "  '(ix)',\n",
       "  ['separately for amounts falling under points (vii) and (viii) respectively, funding from secured lending and capital market-driven transactions as defined in point (3) of Article 192:',\n",
       "   '—',\n",
       "   'collateralised by assets that would qualify as liquid assets in accordance with Article 416;',\n",
       "   '—',\n",
       "   'collateralised by any other assets;'],\n",
       "  '(x)',\n",
       "  'liabilities resulting from securities issued qualifying for the treatment set out in Article 129(4) or (5) or as referred to in Article 52(4) of Directive 2009/65/EC;',\n",
       "  '(xi)',\n",
       "  ['the following other liabilities resulting from securities issued that do not fall under point (a):',\n",
       "   '—',\n",
       "   'liabilities resulting from securities issued with an effective maturity of one year or greater;',\n",
       "   '—',\n",
       "   'liabilities resulting from securities issued with an effective maturity of less than one year;'],\n",
       "  '(xii)',\n",
       "  'any other liabilities.']]"
      ]
     },
     "execution_count": 8,
     "metadata": {},
     "output_type": "execute_result"
    }
   ],
   "source": [
    "lines[0]"
   ]
  },
  {
   "cell_type": "code",
   "execution_count": 11,
   "id": "ranging-evidence",
   "metadata": {},
   "outputs": [
    {
     "data": {
      "text/plain": [
       "[[(2292, 2601),\n",
       "  (2665, 2668),\n",
       "  [(2710, 2789),\n",
       "   (2937, 2940),\n",
       "   (3018, 3045),\n",
       "   (3275, 3279),\n",
       "   (3357, 3384),\n",
       "   (3614, 3619),\n",
       "   (3697, 3833)],\n",
       "  (4013, 4016),\n",
       "  [(4058, 4110),\n",
       "   (4258, 4261),\n",
       "   (4339, 4412),\n",
       "   (4642, 4646),\n",
       "   (4724, 4797),\n",
       "   (5027, 5032),\n",
       "   (5110, 5185),\n",
       "   (5415, 5419),\n",
       "   (5497, 5747),\n",
       "   (5977, 5980),\n",
       "   (6058, 6152),\n",
       "   (6382, 6386),\n",
       "   (6464, 6558),\n",
       "   (6788, 6793),\n",
       "   (6871, 6981),\n",
       "   (7211, 7217),\n",
       "   (7295, 7341),\n",
       "   (7571, 7575),\n",
       "   [(7653, 7835), (8067, 8068), (8182, 8274), (8636, 8637), (8751, 8786)],\n",
       "   (9146, 9149),\n",
       "   (9227, 9393),\n",
       "   (9623, 9627),\n",
       "   [(9705, 9803),\n",
       "    (10035, 10036),\n",
       "    (10150, 10245),\n",
       "    (10607, 10608),\n",
       "    (10722, 10816)],\n",
       "   (11176, 11181),\n",
       "   (11259, 11281)]]]"
      ]
     },
     "execution_count": 11,
     "metadata": {},
     "output_type": "execute_result"
    }
   ],
   "source": [
    "offsets"
   ]
  },
  {
   "cell_type": "code",
   "execution_count": 3,
   "id": "engaging-handling",
   "metadata": {},
   "outputs": [
    {
     "name": "stdout",
     "output_type": "stream",
     "text": [
      "add list view\n",
      "[[(2292, 2601), (2665, 2668), [(2710, 2789), (2937, 2940), (3018, 3045), (3275, 3279), (3357, 3384), (3614, 3619), (3697, 3833)], (4013, 4016), [(4058, 4110), (4258, 4261), (4339, 4412), (4642, 4646), (4724, 4797), (5027, 5032), (5110, 5185), (5415, 5419), (5497, 5747), (5977, 5980), (6058, 6152), (6382, 6386), (6464, 6558), (6788, 6793), (6871, 6981), (7211, 7217), (7295, 7341), (7571, 7575), [(7653, 7835), (8067, 8068), (8182, 8274), (8636, 8637), (8751, 8786)], (9146, 9149), (9227, 9393), (9623, 9627), [(9705, 9803), (10035, 10036), (10150, 10245), (10607, 10608), (10722, 10816)], (11176, 11181), (11259, 11281)]]]\n"
     ]
    }
   ],
   "source": [
    "from src.transform import ListTransformer\n",
    "\n",
    "#from src.transform import get_other_lines, transform_lines, flatten_offsets\n",
    "\n",
    "#from src.utils import SeekableIterator\n",
    "\n",
    "OldSofaID = 'html2textView'\n",
    "NewSofaID = 'ListView'\n",
    "value_between_tagtype = \"com.crosslang.uimahtmltotext.uima.type.ValueBetweenTagType\"\n",
    "paragraph_type = \"de.tudarmstadt.ukp.dkpro.core.api.segmentation.type.Paragraph\"\n",
    "\n",
    "transformer = ListTransformer( cas )\n",
    "print( \"add list view\" )\n",
    "transformer.add_list_view_user( OldSofaID='html2textView', NewSofaID = 'ListView' )"
   ]
  },
  {
   "cell_type": "code",
   "execution_count": null,
   "id": "disabled-quantity",
   "metadata": {},
   "outputs": [],
   "source": [
    "print( transformer.cas.get_view( \"ListView\" ).sofa_string )"
   ]
  },
  {
   "cell_type": "code",
   "execution_count": null,
   "id": "fatal-uncertainty",
   "metadata": {},
   "outputs": [],
   "source": []
  },
  {
   "cell_type": "code",
   "execution_count": 10,
   "id": "funny-aquatic",
   "metadata": {
    "scrolled": true
   },
   "outputs": [
    {
     "data": {
      "text/plain": [
       "[de_tudarmstadt_ukp_dkpro_core_api_segmentation_type_Reportingobligation(xmiID=9543, id=None, user='me', datetime=None, begin=2292, end=11397, type='de.tudarmstadt.ukp.dkpro.core.api.segmentation.type.Reportingobligation')]"
      ]
     },
     "execution_count": 10,
     "metadata": {},
     "output_type": "execute_result"
    }
   ],
   "source": [
    "RO_users=cas.get_view(\"html2textView\").select( \"de.tudarmstadt.ukp.dkpro.core.api.segmentation.type.Reportingobligation\" )\n",
    "#Check if they do not overlap.\n",
    "RO_users"
   ]
  },
  {
   "cell_type": "code",
   "execution_count": 41,
   "id": "pointed-marking",
   "metadata": {},
   "outputs": [],
   "source": [
    "tags_users=[]\n",
    "end=0\n",
    "for RO_user in RO_users:\n",
    "    if RO_user.begin>end or end==0: #check that the RO user annotations do not overlap\n",
    "        tags_users+=list(cas.get_view( \"html2textView\" ).select_covered( \"com.crosslang.uimahtmltotext.uima.type.ValueBetweenTagType\", RO_user   ))\n",
    "        end=RO_user.end\n",
    "    else: \n",
    "        print( f\"Reporting obligation annotated by user {RO_user.user} overlaps with another reporting obligation user annotation. \\\n",
    "        Please remove overlapping user annotations.\"   )"
   ]
  },
  {
   "cell_type": "code",
   "execution_count": 37,
   "id": "roman-stress",
   "metadata": {},
   "outputs": [],
   "source": [
    "from src.utils import SeekableIterator\n",
    "from src.transform import get_other_lines, flatten_offsets, postprocess_nested_lines, transform_lines\n",
    "\n",
    "OldSofaID = \"html2textView\"\n",
    "NewSofaID=  \"ListView\"\n",
    "paragraph_type = \"de.tudarmstadt.ukp.dkpro.core.api.segmentation.type.Paragraph\"\n",
    "\n",
    "seek_vbtt=SeekableIterator( iter( tags_users ) )\n",
    "\n",
    "lines, offsets=get_other_lines( cas , OldSofaID, seek_vbtt, 'root', paragraph_type=paragraph_type )\n"
   ]
  },
  {
   "cell_type": "code",
   "execution_count": 38,
   "id": "following-furniture",
   "metadata": {},
   "outputs": [],
   "source": [
    "flatten_offsets( offsets )\n",
    "\n",
    "lines, offsets =postprocess_nested_lines( lines, offsets  )\n",
    "\n",
    "assert len( lines ) == len( offsets )\n",
    "\n",
    "transformed_lines, transformed_lines_offsets=transform_lines( lines, offsets )\n",
    "\n",
    "assert len( transformed_lines ) == len( transformed_lines_offsets )\n",
    "\n",
    "lines_offsets=[]\n",
    "for line, offset in zip( transformed_lines, transformed_lines_offsets  ):\n",
    "    lines_offsets.append(line + \"|\" + str( offset ))\n",
    "\n",
    "#add the transformed lines to the cas\n",
    "\n",
    "cas.create_view(NewSofaID)\n",
    "\n",
    "cas.get_view( NewSofaID).sofa_string = \"\\n\".join( lines_offsets )"
   ]
  },
  {
   "cell_type": "code",
   "execution_count": 40,
   "id": "generous-reverse",
   "metadata": {},
   "outputs": [
    {
     "name": "stdout",
     "output_type": "stream",
     "text": [
      "1.   Institutions shall report to the competent authorities, in accordance with the reporting requirements set out in Article 415(1) and the uniform reporting formats referred to in Article 415(3), the following items and their components in order to allow an assessment of the availability of stable funding ❮the following own funds, after deductions have been applied, where appropriate ❬tier 1 capital instruments ‖ and/or tier 2 capital instruments ‖ and/or other preferred shares and capital instruments in excess of Tier 2 allowable amount having an effective maturity of one year or greater❭ ‖ the following liabilities not included in point (a) ❬retail deposits that qualify for the treatment set out in Article 421(1) ‖ and/or retail deposits that qualify for the treatment set out in Article 421(2) ‖ and/or deposits that qualify for the treatment set out in Article 422 (3) and (4) ‖ and/or of the deposits referred to in point (iii), those that are subject to a deposit guarantee scheme in accordance with Directive 94/19/EC or an equivalent deposit guarantee scheme in a third country deposit guarantees within the terms of Article 421(2) ‖ and/or of the deposits referred to in point (iii), those that fall under point (b) of Article 422(3) ‖ and/or of the deposits referred to in point (iii), those that fall under point (d) of Article 422(3) ‖ and/or amounts deposited not falling under point (i), (ii) or (iii) if they are not deposited by financial customers ‖ and/or all funding obtained from financial customers ‖ and/or separately for amounts falling under points (vii) and (viii) respectively, funding from secured lending and capital market-driven transactions as defined in point (3) of Article 192 ⟨collateralised by assets that would qualify as liquid assets in accordance with Article 416 ‖ and/or collateralised by any other assets⟩ ‖ and/or liabilities resulting from securities issued qualifying for the treatment set out in Article 129(4) or (5) or as referred to in Article 52(4) of Directive 2009/65/EC ‖ and/or the following other liabilities resulting from securities issued that do not fall under point (a) ⟨liabilities resulting from securities issued with an effective maturity of one year or greater ‖ and/or liabilities resulting from securities issued with an effective maturity of less than one year⟩ ‖ and/or any other liabilities❭❯|(2292, 11281)\n"
     ]
    }
   ],
   "source": [
    "print(cas.get_view( \"ListView\" ).sofa_string )"
   ]
  },
  {
   "cell_type": "code",
   "execution_count": null,
   "id": "illegal-surrey",
   "metadata": {},
   "outputs": [],
   "source": []
  },
  {
   "cell_type": "code",
   "execution_count": null,
   "id": "psychological-deficit",
   "metadata": {},
   "outputs": [],
   "source": []
  },
  {
   "cell_type": "code",
   "execution_count": null,
   "id": "inside-latvia",
   "metadata": {},
   "outputs": [],
   "source": []
  },
  {
   "cell_type": "code",
   "execution_count": null,
   "id": "sixth-medication",
   "metadata": {
    "scrolled": true
   },
   "outputs": [],
   "source": []
  },
  {
   "cell_type": "code",
   "execution_count": null,
   "id": "integrated-awareness",
   "metadata": {},
   "outputs": [],
   "source": []
  }
 ],
 "metadata": {
  "kernelspec": {
   "display_name": "Python 3",
   "language": "python",
   "name": "python3"
  },
  "language_info": {
   "codemirror_mode": {
    "name": "ipython",
    "version": 3
   },
   "file_extension": ".py",
   "mimetype": "text/x-python",
   "name": "python",
   "nbconvert_exporter": "python",
   "pygments_lexer": "ipython3",
   "version": "3.7.3"
  }
 },
 "nbformat": 4,
 "nbformat_minor": 5
}
